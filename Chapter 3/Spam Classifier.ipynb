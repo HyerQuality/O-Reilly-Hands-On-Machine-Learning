{
 "cells": [
  {
   "cell_type": "markdown",
   "id": "39b461ed-dba7-4566-b176-576f70a2ca79",
   "metadata": {},
   "source": [
    "<u>Disclaimer</u>: I did not perform this analysis on my own. To this point I have little experience with text parsing and the tools python has available for that task.  Instead, I used the exercise solution simliarly to how I would follow an example from the chapter in order to expose myself to the tools and techniques used for these types of models"
   ]
  },
  {
   "cell_type": "code",
   "execution_count": 1,
   "id": "7ce28a27-5ac8-4e92-ba63-38e3cfc24091",
   "metadata": {},
   "outputs": [],
   "source": [
    "' First fetch the desired data'\n",
    "import os\n",
    "import tarfile\n",
    "import urllib.request\n",
    "\n",
    "download_root = 'http://spamassassin.apache.org/old/publiccorpus/'\n",
    "ham_url = download_root + '20030228_easy_ham.tar.bz2'\n",
    "spam_url = download_root + '20030228_spam.tar.bz2'\n",
    "spam_path = os.path.join('spam_classifier_datasets', 'spam')\n",
    "\n",
    "def fetch_spam_data(ham_url=ham_url, spam_url=spam_url, spam_path=spam_path):\n",
    "    \n",
    "    # Check if the filepath already exists, if not create it\n",
    "    if not os.path.isdir(spam_path):\n",
    "        os.makedirs(spam_path)\n",
    "        \n",
    "    # Extract all files from the filepaths to the directory\n",
    "    for filename, url in (('ham.tar.bz2', ham_url), ('spam.tar.bz2', spam_url)):\n",
    "        path = os.path.join(spam_path, filename)\n",
    "        if not os.path.isfile(path):\n",
    "            urllib.request.urlretrieve(url, path)\n",
    "        tar_bz2_file = tarfile.open(path)\n",
    "        tar_bz2_file.extractall(path=spam_path)\n",
    "        tar_bz2_file.close()"
   ]
  },
  {
   "cell_type": "code",
   "execution_count": 2,
   "id": "56fcd3ec-320a-45ef-b2e2-3d2775114054",
   "metadata": {},
   "outputs": [],
   "source": [
    "fetch_spam_data()"
   ]
  },
  {
   "cell_type": "code",
   "execution_count": 3,
   "id": "19a21213-addf-4b35-ac9b-2c3cc256b7d7",
   "metadata": {},
   "outputs": [],
   "source": [
    "' Next, load the emails into lists'\n",
    "ham_dir = os.path.join(spam_path, 'easy_ham')\n",
    "spam_dir = os.path.join(spam_path, 'spam')\n",
    "\n",
    "ham_filenames = [name for name in sorted(os.listdir(ham_dir)) if len(name) > 20]\n",
    "spam_filenames = [name for name in sorted(os.listdir(spam_dir)) if len(name) > 20]"
   ]
  },
  {
   "cell_type": "code",
   "execution_count": 4,
   "id": "b780cf7f-3e19-41d2-99e2-57a4347daa1b",
   "metadata": {},
   "outputs": [
    {
     "name": "stdout",
     "output_type": "stream",
     "text": [
      "Count of ham files: 2500 | Count of spam files: 500\n"
     ]
    }
   ],
   "source": [
    "print(f'Count of ham files: {len(ham_filenames)} | Count of spam files: {len(spam_filenames)}')"
   ]
  },
  {
   "cell_type": "code",
   "execution_count": null,
   "id": "f83327a7-24ca-44e7-9fe2-8e0738f8ad56",
   "metadata": {},
   "outputs": [],
   "source": []
  },
  {
   "cell_type": "code",
   "execution_count": null,
   "id": "fa9a5958-45e9-4674-8a58-73297f83a1a2",
   "metadata": {},
   "outputs": [],
   "source": []
  },
  {
   "cell_type": "code",
   "execution_count": null,
   "id": "d98214a8-0eda-4657-922f-30958495b0b9",
   "metadata": {},
   "outputs": [],
   "source": []
  },
  {
   "cell_type": "code",
   "execution_count": null,
   "id": "4f171fcf-d065-4043-a181-fd47a21fd116",
   "metadata": {},
   "outputs": [],
   "source": []
  },
  {
   "cell_type": "code",
   "execution_count": null,
   "id": "35097240-9d70-4a57-acc6-5bda7557b4b1",
   "metadata": {},
   "outputs": [],
   "source": []
  },
  {
   "cell_type": "code",
   "execution_count": null,
   "id": "083d2f8d-3735-4e47-bf71-1eee3e2e3be0",
   "metadata": {},
   "outputs": [],
   "source": []
  },
  {
   "cell_type": "code",
   "execution_count": null,
   "id": "8c92dd03-ddde-4258-a2f7-976c54df36e2",
   "metadata": {},
   "outputs": [],
   "source": []
  }
 ],
 "metadata": {
  "kernelspec": {
   "display_name": "Python 3",
   "language": "python",
   "name": "python3"
  },
  "language_info": {
   "codemirror_mode": {
    "name": "ipython",
    "version": 3
   },
   "file_extension": ".py",
   "mimetype": "text/x-python",
   "name": "python",
   "nbconvert_exporter": "python",
   "pygments_lexer": "ipython3",
   "version": "3.8.12"
  }
 },
 "nbformat": 4,
 "nbformat_minor": 5
}
