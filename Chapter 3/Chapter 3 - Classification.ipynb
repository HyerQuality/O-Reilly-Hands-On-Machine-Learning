{
 "cells": [
  {
   "cell_type": "markdown",
   "id": "be4f74af-caef-4ecb-bc25-7b117d8fbc58",
   "metadata": {},
   "source": [
    "### <b> This chapter focuses on the MNIST dataset. A dataset that is commonly referred to as the \"hello world\" of Machine Learning </b>"
   ]
  },
  {
   "cell_type": "code",
   "execution_count": 1,
   "id": "24e6141c-d080-4d23-a591-fbd768156ff3",
   "metadata": {},
   "outputs": [
    {
     "data": {
      "text/plain": [
       "dict_keys(['data', 'target', 'frame', 'categories', 'feature_names', 'target_names', 'DESCR', 'details', 'url'])"
      ]
     },
     "execution_count": 1,
     "metadata": {},
     "output_type": "execute_result"
    }
   ],
   "source": [
    "' Import the MNIST dataset'\n",
    "from sklearn.datasets import fetch_openml\n",
    "mnist = fetch_openml('mnist_784', version=1)\n",
    "mnist.keys()"
   ]
  },
  {
   "cell_type": "code",
   "execution_count": 2,
   "id": "01645ead-6505-4b49-8e6c-56bb9c7af422",
   "metadata": {},
   "outputs": [
    {
     "name": "stdout",
     "output_type": "stream",
     "text": [
      "(70000, 784) (70000,)\n"
     ]
    }
   ],
   "source": [
    "' Inspect the arrays'\n",
    "X, y = mnist['data'], mnist['target']\n",
    "print(X.shape, y.shape)"
   ]
  },
  {
   "cell_type": "markdown",
   "id": "e7313c55-abb6-4d6f-81fe-fd7f2e615a47",
   "metadata": {},
   "source": [
    "<b> The arrays are 70,000 rows with 784 features.  By default they are flattened 28x28 arrays of pixel intensity values which represent an image. </b>"
   ]
  },
  {
   "cell_type": "code",
   "execution_count": 10,
   "id": "f7ea66cf-0704-4687-b7af-84f1de3dbcd5",
   "metadata": {},
   "outputs": [
    {
     "data": {
      "image/png": "[encoded data removed]",
      "text/plain": [
       "<Figure size 432x288 with 1 Axes>"
      ]
     },
     "metadata": {},
     "output_type": "display_data"
    },
    {
     "name": "stdout",
     "output_type": "stream",
     "text": [
      "Target value:  5\n"
     ]
    }
   ],
   "source": [
    "' Observe the image represented in the first item of the data array'\n",
    "import matplotlib as mpl\n",
    "import matplotlib.pyplot as plt\n",
    "import seaborn\n",
    "seaborn.set()\n",
    "\n",
    "digit = X.to_numpy()[0].reshape(28,28)\n",
    "plt.imshow(digit, cmap='binary')\n",
    "plt.axis('off')\n",
    "plt.show()\n",
    "print('Target value: ', y.to_numpy()[0])"
   ]
  },
  {
   "cell_type": "code",
   "execution_count": 17,
   "id": "eca1f4fc-6b87-4912-bcb7-9f04792bb799",
   "metadata": {},
   "outputs": [
    {
     "data": {
      "text/plain": [
       "<bound method NDFrame.describe of 0        5\n",
       "1        0\n",
       "2        4\n",
       "3        1\n",
       "4        9\n",
       "        ..\n",
       "69995    2\n",
       "69996    3\n",
       "69997    4\n",
       "69998    5\n",
       "69999    6\n",
       "Name: class, Length: 70000, dtype: uint8>"
      ]
     },
     "execution_count": 17,
     "metadata": {},
     "output_type": "execute_result"
    }
   ],
   "source": [
    "' Convert the labels from strings to integers'\n",
    "import numpy as np\n",
    "y = y.astype(np.uint8)\n",
    "y.describe"
   ]
  },
  {
   "cell_type": "markdown",
   "id": "b66b2099-8081-4acf-b700-94a2fe3c0289",
   "metadata": {},
   "source": [
    "<b> By design the MNIST dataset is already split into a train and a test set.  The first 60,000 samples represent a shuffled training set and the remaining 10,000 are the test set. </b>"
   ]
  },
  {
   "cell_type": "code",
   "execution_count": 21,
   "id": "c68b7c2d-e5d3-4bee-920d-864ee46805dc",
   "metadata": {},
   "outputs": [],
   "source": [
    "X_train, X_test, y_train, y_test = X.iloc[:60000], X.iloc[60000:], y.iloc[:60000], y.iloc[60000:]"
   ]
  },
  {
   "cell_type": "markdown",
   "id": "fc2a3a01-41c3-4177-a308-d851219ff40a",
   "metadata": {},
   "source": [
    "<b> Training a Binary Classifier </b>"
   ]
  },
  {
   "cell_type": "code",
   "execution_count": 22,
   "id": "06c0cdcc-0067-4a96-830b-618715f99e8c",
   "metadata": {},
   "outputs": [
    {
     "data": {
      "text/plain": [
       "0         True\n",
       "1        False\n",
       "2        False\n",
       "3        False\n",
       "4        False\n",
       "         ...  \n",
       "59995    False\n",
       "59996    False\n",
       "59997     True\n",
       "59998    False\n",
       "59999    False\n",
       "Name: class, Length: 60000, dtype: bool"
      ]
     },
     "execution_count": 22,
     "metadata": {},
     "output_type": "execute_result"
    }
   ],
   "source": [
    "' To begin, simplify the problem to identify only a single digit. 5 and not-5.'\n",
    "\n",
    "y_train_5 = (y_train == 5)\n",
    "y_test_5 = (y_test == 5)\n",
    "\n",
    "y_train_5"
   ]
  },
  {
   "cell_type": "markdown",
   "id": "276ec21d-e01c-46d1-9008-511442119df3",
   "metadata": {},
   "source": [
    " #### A quick note about the SGD classifer ###\n",
    "    \n",
    "The Stochastic Gradient Descent (SGD) classifer deals with training instances independently, one at a time. This makes it well suited for both online learning and very large datasets. It relies on randomness during training and for replicable results its important to set a random_state parameter"
   ]
  },
  {
   "cell_type": "code",
   "execution_count": 34,
   "id": "c1c4b8e6-9e1b-4567-afc0-bb0cdd2bbb6b",
   "metadata": {},
   "outputs": [
    {
     "data": {
      "text/plain": [
       "array([ True])"
      ]
     },
     "execution_count": 34,
     "metadata": {},
     "output_type": "execute_result"
    }
   ],
   "source": [
    "' Train a SGD classifer'\n",
    "from sklearn.linear_model import SGDClassifier\n",
    "\n",
    "sgd_clf = SGDClassifier(random_state=42)\n",
    "sgd_clf.fit(X_train, y_train_5)\n",
    "sgd_clf.predict([digit.flatten()])"
   ]
  },
  {
   "cell_type": "markdown",
   "id": "06a8d8ee-9199-4041-bdf3-ae1050741bc7",
   "metadata": {},
   "source": [
    "<b> Evaluating a classifier is trickier than evaluating a regressor. As such a large section of this chapter will be devoted to methods used in evaluting classifiers </b>"
   ]
  },
  {
   "cell_type": "code",
   "execution_count": null,
   "id": "628e1aa9-6e87-428c-9a8f-ee4ef415bd48",
   "metadata": {},
   "outputs": [],
   "source": []
  },
  {
   "cell_type": "code",
   "execution_count": null,
   "id": "f3fee5a9-6a1f-4731-95b3-d36e6a0c2210",
   "metadata": {},
   "outputs": [],
   "source": []
  },
  {
   "cell_type": "code",
   "execution_count": null,
   "id": "87651b5f-86ac-4b29-bfb5-948857754fbf",
   "metadata": {},
   "outputs": [],
   "source": []
  }
 ],
 "metadata": {
  "kernelspec": {
   "display_name": "Python 3",
   "language": "python",
   "name": "python3"
  },
  "language_info": {
   "codemirror_mode": {
    "name": "ipython",
    "version": 3
   },
   "file_extension": ".py",
   "mimetype": "text/x-python",
   "name": "python",
   "nbconvert_exporter": "python",
   "pygments_lexer": "ipython3",
   "version": "3.8.12"
  }
 },
 "nbformat": 4,
 "nbformat_minor": 5
}
