{
 "cells": [
  {
   "cell_type": "markdown",
   "id": "be4f74af-caef-4ecb-bc25-7b117d8fbc58",
   "metadata": {},
   "source": [
    "### <b> This chapter focuses on the MNIST dataset. A dataset that is commonly referred to as the \"hello world\" of Machine Learning </b>"
   ]
  },
  {
   "cell_type": "code",
   "execution_count": 1,
   "id": "24e6141c-d080-4d23-a591-fbd768156ff3",
   "metadata": {},
   "outputs": [
    {
     "data": {
      "text/plain": [
       "dict_keys(['data', 'target', 'frame', 'categories', 'feature_names', 'target_names', 'DESCR', 'details', 'url'])"
      ]
     },
     "execution_count": 1,
     "metadata": {},
     "output_type": "execute_result"
    }
   ],
   "source": [
    "' Import the MNIST dataset'\n",
    "from sklearn.datasets import fetch_openml\n",
    "mnist = fetch_openml('mnist_784', version=1)\n",
    "mnist.keys()"
   ]
  },
  {
   "cell_type": "code",
   "execution_count": 2,
   "id": "01645ead-6505-4b49-8e6c-56bb9c7af422",
   "metadata": {},
   "outputs": [
    {
     "name": "stdout",
     "output_type": "stream",
     "text": [
      "(70000, 784) (70000,)\n"
     ]
    }
   ],
   "source": [
    "' Inspect the arrays'\n",
    "X, y = mnist['data'], mnist['target']\n",
    "print(X.shape, y.shape)"
   ]
  },
  {
   "cell_type": "markdown",
   "id": "e7313c55-abb6-4d6f-81fe-fd7f2e615a47",
   "metadata": {},
   "source": [
    "<b> The arrays are 70,000 rows with 784 features.  By default they are flattened 28x28 arrays of pixel intensity values which represent an image. </b>"
   ]
  },
  {
   "cell_type": "code",
   "execution_count": 3,
   "id": "f7ea66cf-0704-4687-b7af-84f1de3dbcd5",
   "metadata": {},
   "outputs": [
    {
     "data": {
      "image/png": "[encoded data removed]",
      "text/plain": [
       "<Figure size 432x288 with 1 Axes>"
      ]
     },
     "metadata": {},
     "output_type": "display_data"
    },
    {
     "name": "stdout",
     "output_type": "stream",
     "text": [
      "Target value:  5\n"
     ]
    }
   ],
   "source": [
    "' Observe the image represented in the first item of the data array'\n",
    "import matplotlib as mpl\n",
    "import matplotlib.pyplot as plt\n",
    "import seaborn\n",
    "seaborn.set()\n",
    "\n",
    "digit = X.to_numpy()[0].reshape(28,28)\n",
    "plt.imshow(digit, cmap='binary')\n",
    "plt.axis('off')\n",
    "plt.show()\n",
    "print('Target value: ', y.to_numpy()[0])"
   ]
  },
  {
   "cell_type": "code",
   "execution_count": 4,
   "id": "eca1f4fc-6b87-4912-bcb7-9f04792bb799",
   "metadata": {},
   "outputs": [
    {
     "data": {
      "text/plain": [
       "<bound method NDFrame.describe of 0        5\n",
       "1        0\n",
       "2        4\n",
       "3        1\n",
       "4        9\n",
       "        ..\n",
       "69995    2\n",
       "69996    3\n",
       "69997    4\n",
       "69998    5\n",
       "69999    6\n",
       "Name: class, Length: 70000, dtype: uint8>"
      ]
     },
     "execution_count": 4,
     "metadata": {},
     "output_type": "execute_result"
    }
   ],
   "source": [
    "' Convert the labels from strings to integers'\n",
    "import numpy as np\n",
    "y = y.astype(np.uint8)\n",
    "y.describe"
   ]
  },
  {
   "cell_type": "markdown",
   "id": "b66b2099-8081-4acf-b700-94a2fe3c0289",
   "metadata": {},
   "source": [
    "<b> By design the MNIST dataset is already split into a train and a test set.  The first 60,000 samples represent a shuffled training set and the remaining 10,000 are the test set. </b>"
   ]
  },
  {
   "cell_type": "code",
   "execution_count": 5,
   "id": "c68b7c2d-e5d3-4bee-920d-864ee46805dc",
   "metadata": {},
   "outputs": [],
   "source": [
    "X_train, X_test, y_train, y_test = X.iloc[:60000], X.iloc[60000:], y.iloc[:60000], y.iloc[60000:]"
   ]
  },
  {
   "cell_type": "markdown",
   "id": "fc2a3a01-41c3-4177-a308-d851219ff40a",
   "metadata": {},
   "source": [
    "<b> Training a Binary Classifier </b>"
   ]
  },
  {
   "cell_type": "code",
   "execution_count": 6,
   "id": "06c0cdcc-0067-4a96-830b-618715f99e8c",
   "metadata": {},
   "outputs": [
    {
     "data": {
      "text/plain": [
       "0         True\n",
       "1        False\n",
       "2        False\n",
       "3        False\n",
       "4        False\n",
       "         ...  \n",
       "59995    False\n",
       "59996    False\n",
       "59997     True\n",
       "59998    False\n",
       "59999    False\n",
       "Name: class, Length: 60000, dtype: bool"
      ]
     },
     "execution_count": 6,
     "metadata": {},
     "output_type": "execute_result"
    }
   ],
   "source": [
    "' To begin, simplify the problem to identify only a single digit. 5 and not-5.'\n",
    "\n",
    "y_train_5 = (y_train == 5)\n",
    "y_test_5 = (y_test == 5)\n",
    "\n",
    "y_train_5"
   ]
  },
  {
   "cell_type": "markdown",
   "id": "276ec21d-e01c-46d1-9008-511442119df3",
   "metadata": {},
   "source": [
    " #### A quick note about the SGD classifer ###\n",
    "    \n",
    "The Stochastic Gradient Descent (SGD) classifer deals with training instances independently, one at a time. This makes it well suited for both online learning and very large datasets. It relies on randomness during training and for replicable results its important to set a random_state parameter"
   ]
  },
  {
   "cell_type": "code",
   "execution_count": 7,
   "id": "c1c4b8e6-9e1b-4567-afc0-bb0cdd2bbb6b",
   "metadata": {},
   "outputs": [
    {
     "data": {
      "text/plain": [
       "array([ True])"
      ]
     },
     "execution_count": 7,
     "metadata": {},
     "output_type": "execute_result"
    }
   ],
   "source": [
    "' Train a SGD classifer'\n",
    "from sklearn.linear_model import SGDClassifier\n",
    "\n",
    "sgd_clf = SGDClassifier(random_state=42)\n",
    "sgd_clf.fit(X_train, y_train_5)\n",
    "sgd_clf.predict([digit.flatten()])"
   ]
  },
  {
   "cell_type": "markdown",
   "id": "06a8d8ee-9199-4041-bdf3-ae1050741bc7",
   "metadata": {},
   "source": [
    "<b> Evaluating a classifier is trickier than evaluating a regressor. As such a large section of this chapter will be devoted to methods used in evaluting classifiers </b>"
   ]
  },
  {
   "cell_type": "markdown",
   "id": "27019210-b836-4772-a02e-845ddac27c0a",
   "metadata": {},
   "source": [
    "#### Cross Validation"
   ]
  },
  {
   "cell_type": "code",
   "execution_count": 8,
   "id": "87651b5f-86ac-4b29-bfb5-948857754fbf",
   "metadata": {},
   "outputs": [
    {
     "name": "stdout",
     "output_type": "stream",
     "text": [
      "0.9669\n",
      "0.91625\n",
      "0.96785\n"
     ]
    }
   ],
   "source": [
    "'''\n",
    "    Sometimes you might want more control over the cross_validation process than what sklearn provides.  Understanding whats going on under the hood is important. \n",
    "    The following is an example of a loop which does roughly the same thing as sklearns cross_val_score() function\n",
    "'''\n",
    "\n",
    "from sklearn.model_selection import StratifiedKFold\n",
    "from sklearn.base import clone\n",
    "\n",
    "skfolds = StratifiedKFold(n_splits=3, random_state=42, shuffle=True)\n",
    "\n",
    "for train_index, test_index in skfolds.split(X_train, y_train_5):\n",
    "    clone_clf = clone(sgd_clf)\n",
    "    X_train_folds = X_train.iloc[train_index]\n",
    "    y_train_folds = y_train_5.iloc[train_index]\n",
    "    X_test_fold = X_train.iloc[test_index]\n",
    "    y_test_fold = y_train_5.iloc[test_index]\n",
    "    \n",
    "    clone_clf.fit(X_train_folds, y_train_folds)\n",
    "    y_pred = clone_clf.predict(X_test_fold)\n",
    "    n_correct = sum(y_pred == y_test_fold)\n",
    "    print(n_correct / len(y_pred))\n",
    "    \n",
    "# The StratifiedKFold class performs stratified sampling to produce folds that contain the representative ratio of each class.\n",
    "# At each iteration the code creates a clone of the classifer, trains that clone on the training folds, then makes predictions on the test fold.\n",
    "# Finally it displays the ratio of correct predictions as the final accuracy"
   ]
  },
  {
   "cell_type": "code",
   "execution_count": 9,
   "id": "242d742e-f06a-4883-9f8b-911b4c4ddc00",
   "metadata": {},
   "outputs": [
    {
     "data": {
      "text/plain": [
       "array([0.95035, 0.96035, 0.9604 ])"
      ]
     },
     "execution_count": 9,
     "metadata": {},
     "output_type": "execute_result"
    }
   ],
   "source": [
    "' Compare the manual cross validation loop with the results from sklearn cross_val_scoare'\n",
    "from sklearn.model_selection import cross_val_score\n",
    "\n",
    "cross_val_score(sgd_clf, X_train, y_train_5, cv=3, scoring='accuracy')"
   ]
  },
  {
   "cell_type": "markdown",
   "id": "ce70a5ea-b10f-4904-a414-28f660c9b1ad",
   "metadata": {},
   "source": [
    "<b> As always if the accuracy of the model seems to good to be true it likely is.  In this case the reason the accuracy is so high is that the composition of 5's in the dataset represent about 10% of the data.  As such, the model learns very quickkly that classifying everything as \"not-5\" yields very good results. This is a reason why accuracy is often not the preferred metric for classification performance, especially with skewed datasets where some values appear more often than others. </b>"
   ]
  },
  {
   "cell_type": "code",
   "execution_count": 10,
   "id": "773316a4-c719-400e-a466-364574fd28cf",
   "metadata": {},
   "outputs": [
    {
     "data": {
      "text/plain": [
       "array([0.91125, 0.90855, 0.90915])"
      ]
     },
     "execution_count": 10,
     "metadata": {},
     "output_type": "execute_result"
    }
   ],
   "source": [
    "' Compare the model results with that of a classifier which only returns False'\n",
    "from sklearn.base import BaseEstimator\n",
    "\n",
    "class Never5Classifier(BaseEstimator):\n",
    "    def fit(self, X, y=None):\n",
    "        return self\n",
    "    def predict(self, X):\n",
    "        return np.zeros((len(X), 1), dtype=bool)\n",
    "    \n",
    "never_5_clf = Never5Classifier()\n",
    "cross_val_score(never_5_clf, X_train, y_train_5, cv=3, scoring='accuracy')"
   ]
  },
  {
   "cell_type": "markdown",
   "id": "9cf1a843-489b-4a2e-a04c-6e0347f2646c",
   "metadata": {},
   "source": [
    "#### Confusion Matrix"
   ]
  },
  {
   "cell_type": "markdown",
   "id": "83437d7b-6c69-4097-bb9f-b59bcb74469a",
   "metadata": {},
   "source": [
    "<b>Confustion matrices compare the predictions of a classifier into True Positives, True Negatives, False Positives, and  False Negatives. They are a much better tool for measuring a classifiers predictive ability than accuracy alone.</b>"
   ]
  },
  {
   "cell_type": "code",
   "execution_count": 11,
   "id": "5329dee3-ce69-44a3-933d-f6cd6690d27c",
   "metadata": {},
   "outputs": [
    {
     "data": {
      "text/plain": [
       "array([[53892,   687],\n",
       "       [ 1891,  3530]], dtype=int64)"
      ]
     },
     "execution_count": 11,
     "metadata": {},
     "output_type": "execute_result"
    }
   ],
   "source": [
    "' Construct a confustion matrix using sklearns cross_val_predict and confustion_matrix functions'\n",
    "from sklearn.model_selection import cross_val_predict\n",
    "from sklearn.metrics import confusion_matrix\n",
    "\n",
    "y_train_pred = cross_val_predict(estimator=sgd_clf, X=X_train, y=y_train_5, cv=3, n_jobs= -1)\n",
    "confusion_matrix(y_train_5, y_train_pred)"
   ]
  },
  {
   "cell_type": "markdown",
   "id": "3bf1052c-9bba-4afd-8de8-3234e9fdbdda",
   "metadata": {},
   "source": [
    "<b> The True values lie along the diagonal. False negatives lie below the diagonal and false positives lie above it.</b>"
   ]
  },
  {
   "cell_type": "markdown",
   "id": "dc62b626-f43f-47da-92bd-a0291e3d62e4",
   "metadata": {},
   "source": [
    "<b> While the confusion matrix is a powerful tool and is superior than a simple accuracy score, a combination of <i> precision </i> and <i> recall </i> can provide a more concise metric for measuring the performance of the classifier </b>"
   ]
  },
  {
   "cell_type": "markdown",
   "id": "adb026ff-5232-4c8f-895f-7f948007cf3a",
   "metadata": {},
   "source": [
    "#### Precision and Recall"
   ]
  },
  {
   "cell_type": "markdown",
   "id": "9bd6b059-7e20-400a-8bd3-9dea0db885a7",
   "metadata": {},
   "source": [
    "$$ Precision = \\frac{True Positives}{(True Positives + False Positives)} $$"
   ]
  },
  {
   "cell_type": "markdown",
   "id": "b2f249ff-3f38-4067-a4e1-36d04a5cce44",
   "metadata": {},
   "source": [
    "$$ Recall = \\frac{True Positives}{(True Positives + False Negatives)} $$"
   ]
  },
  {
   "cell_type": "code",
   "execution_count": 12,
   "id": "e4051079-50ff-4449-a69e-12e529b64767",
   "metadata": {},
   "outputs": [
    {
     "name": "stdout",
     "output_type": "stream",
     "text": [
      "0.8370879772350012 0.6511713705958311\n"
     ]
    }
   ],
   "source": [
    "' Apply precision and recall to the binary classifier'\n",
    "from sklearn.metrics import precision_score, recall_score\n",
    "precision = precision_score(y_train_5, y_train_pred)\n",
    "recall = recall_score(y_train_5, y_train_pred)\n",
    "print (precision, recall)"
   ]
  },
  {
   "cell_type": "markdown",
   "id": "c1e2b06a-fa87-4610-b688-14d300087b6b",
   "metadata": {},
   "source": [
    "<b> This classifer predicts an image of a 5 correctly 83.7% of the time, and out of all of the 5s in the dataset it detects 65.1% of them. Having very high values of precision and recall is very difficult in practice and often you need to choose which one is more important for your application.  A useful metric for comparing predicitve power of various classifiers is the $F_{1}$ score.  The $F_{1}$ score favors classifiers with similar precision and recall and as mentioned before that isn't always what you want. </b>"
   ]
  },
  {
   "cell_type": "markdown",
   "id": "d77f7b8f-16ee-4eb1-940f-0d58328470c5",
   "metadata": {},
   "source": [
    "$$ F_{1} = \\frac{True Positives}{True Positives + \\frac{(False Negatives + False Positives)}{2}} $$"
   ]
  },
  {
   "cell_type": "code",
   "execution_count": 13,
   "id": "c0358569-32aa-4724-b285-3f3a8daf397f",
   "metadata": {},
   "outputs": [
    {
     "data": {
      "text/plain": [
       "0.7325171197343846"
      ]
     },
     "execution_count": 13,
     "metadata": {},
     "output_type": "execute_result"
    }
   ],
   "source": [
    "' Apply the F1 score to the binary classifier'\n",
    "from sklearn.metrics import f1_score\n",
    "f1_score(y_train_5, y_train_pred)"
   ]
  },
  {
   "cell_type": "markdown",
   "id": "7ced6eee-1cb7-4668-a275-a6484282d048",
   "metadata": {},
   "source": [
    "#### Precision / Recall Trade-off"
   ]
  },
  {
   "cell_type": "markdown",
   "id": "70d39801-6f88-4207-83cc-3a9138d09242",
   "metadata": {},
   "source": [
    "<b> Although sklearn doesn't allow you to directly adjust the threshold it uses to make predictions it does allow you to return the decision function score for each element of the dataset.  This allows you to manually determine the threshold for predictions </b>"
   ]
  },
  {
   "cell_type": "code",
   "execution_count": 14,
   "id": "e8f3a6d9-7468-4b9b-a353-9dbe4f8d777d",
   "metadata": {},
   "outputs": [
    {
     "data": {
      "text/plain": [
       "array([2164.22030239])"
      ]
     },
     "execution_count": 14,
     "metadata": {},
     "output_type": "execute_result"
    }
   ],
   "source": [
    "' Show that the default threshold for the SGDClassifer is 0'\n",
    "digit = digit.flatten()\n",
    "y_scores = sgd_clf.decision_function([digit])\n",
    "y_scores"
   ]
  },
  {
   "cell_type": "code",
   "execution_count": 15,
   "id": "4e40fad3-c249-432a-8f8c-4a5c57ec3569",
   "metadata": {},
   "outputs": [
    {
     "data": {
      "text/plain": [
       "array([ True])"
      ]
     },
     "execution_count": 15,
     "metadata": {},
     "output_type": "execute_result"
    }
   ],
   "source": [
    "threshold = 0\n",
    "y_digit_pred = (y_scores > threshold)\n",
    "y_digit_pred\n",
    "# This isn't a rigorous analysis.  There's no way to know if the default threshold is 1, or 2, or 2163.  But the library API tells us the default is 0"
   ]
  },
  {
   "cell_type": "code",
   "execution_count": 16,
   "id": "f6772930-12c4-4597-aa9b-70a4a0e6f982",
   "metadata": {},
   "outputs": [
    {
     "data": {
      "text/plain": [
       "array([False])"
      ]
     },
     "execution_count": 16,
     "metadata": {},
     "output_type": "execute_result"
    }
   ],
   "source": [
    "' Demonstrate a manually chosen threshold'\n",
    "threshold = 8000\n",
    "y_digit_pred = (y_scores > threshold)\n",
    "y_digit_pred\n",
    "# This is one example showing that raising the threshold reduces the recall"
   ]
  },
  {
   "cell_type": "markdown",
   "id": "c97464bb-adc8-4d9d-9605-8918104ed4d9",
   "metadata": {},
   "source": [
    "<b> How do you decide which threshold to use? Frankly, that depends on the problem you're solving.  In some cases precision addresses the goal better than recall, and in others a high recall percent is preferred.  However, there is a methodical process to determine critical values in either case </b>"
   ]
  },
  {
   "cell_type": "markdown",
   "id": "25910d51-5575-41b6-ac74-6a3b29b9ee4c",
   "metadata": {},
   "source": [
    "#### Precision - Recall curve"
   ]
  },
  {
   "cell_type": "code",
   "execution_count": 17,
   "id": "ef14aa34-38d4-43f8-b769-0b7d5e790677",
   "metadata": {},
   "outputs": [],
   "source": [
    "' First use sklearns cross_val_predict function but set the \"method\" paramter to \"decision_function\" to return the prediction scores instead of their transformed predictions'\n",
    "y_scores = cross_val_predict(sgd_clf, X_train, y_train_5, cv=3, method='decision_function')"
   ]
  },
  {
   "cell_type": "code",
   "execution_count": 18,
   "id": "eb3c86da-dc9c-4817-b5a9-9f976e5a1914",
   "metadata": {},
   "outputs": [],
   "source": [
    "' Next use sklearns precision_recall_curve function to generate the plot values'\n",
    "from sklearn.metrics import precision_recall_curve\n",
    "\n",
    "precisions, recalls, thresholds = precision_recall_curve(y_train_5, y_scores)"
   ]
  },
  {
   "cell_type": "code",
   "execution_count": 19,
   "id": "18d1afc2-f6ab-4ce7-b17c-ce421e17f7c8",
   "metadata": {},
   "outputs": [
    {
     "data": {
      "image/png": "[encoded data removed]",
      "text/plain": [
       "<Figure size 432x288 with 1 Axes>"
      ]
     },
     "metadata": {},
     "output_type": "display_data"
    }
   ],
   "source": [
    "' Then plot the values to observe the curves'\n",
    "def plot_precision_recall_vs_threshold(precisions, recalls, thresholds):\n",
    "    plt.plot(thresholds[-50000:], precisions[-50000:], 'b--', label='Precision')\n",
    "    plt.plot(thresholds[-50000:], recalls[-50000:], 'g-', label='Recall')\n",
    "    plt.legend()\n",
    "    \n",
    "plot_precision_recall_vs_threshold(precisions, recalls, thresholds)\n",
    "plt.show()"
   ]
  },
  {
   "cell_type": "code",
   "execution_count": 20,
   "id": "9e425953-77f0-4773-abff-6dffa58a8675",
   "metadata": {},
   "outputs": [
    {
     "data": {
      "image/png": "[encoded data removed]",
      "text/plain": [
       "<Figure size 432x288 with 1 Axes>"
      ]
     },
     "metadata": {},
     "output_type": "display_data"
    }
   ],
   "source": [
    "' Alternatively you can plot precision directly against recall to visualize the trade-off'\n",
    "plt.plot(recalls, precisions)\n",
    "plt.ylabel('Precision')\n",
    "plt.xlabel('Recall')\n",
    "plt.show()"
   ]
  },
  {
   "cell_type": "code",
   "execution_count": 21,
   "id": "fbc04393-faf1-423b-b9fd-500d576f5df0",
   "metadata": {},
   "outputs": [
    {
     "name": "stdout",
     "output_type": "stream",
     "text": [
      "3370.0194991439557 0.9000345901072293 0.4799852425751706\n"
     ]
    }
   ],
   "source": [
    "' To be more precise you can search for the lowest threshold that gives you at least x% precision'\n",
    "threshold_90_precision = thresholds[np.argmax(precisions >= 0.90)]\n",
    "y_train_pred_90 = (y_scores >= threshold_90_precision)\n",
    "p_score = precision_score(y_train_5, y_train_pred_90)\n",
    "r_score = recall_score(y_train_5, y_train_pred_90)\n",
    "print(threshold_90_precision, p_score, r_score)"
   ]
  },
  {
   "cell_type": "markdown",
   "id": "f186dca1-547a-4741-a560-16f6f14a3e97",
   "metadata": {},
   "source": [
    "<b> A high precision model isn't very useful if its recall is too low! </b>"
   ]
  },
  {
   "cell_type": "markdown",
   "id": "e41b4f5a-7011-41c0-abf7-026ab2639f89",
   "metadata": {},
   "source": [
    "#### The ROC Curve"
   ]
  },
  {
   "cell_type": "markdown",
   "id": "e8b56cde-a938-47e9-b76e-b34597d6cb29",
   "metadata": {},
   "source": [
    "<b> The <i> Receiver Operating Characteristic </i> (ROC) curve is another common tool used with binary classifiers. Recall = True Positive Rate (TPR) divided by False Positive Rate (FPR)</b>"
   ]
  },
  {
   "cell_type": "markdown",
   "id": "ab6177e5-aebc-4ca6-bead-9ecc9e0ee6d9",
   "metadata": {},
   "source": [
    "$$ROC = \\frac{Recall}{1 - \\frac{True Negavites}{Total Negative Samples}}$$"
   ]
  },
  {
   "cell_type": "code",
   "execution_count": 23,
   "id": "0726015f-a7d2-4ebb-a2c4-713e94043584",
   "metadata": {},
   "outputs": [
    {
     "data": {
      "image/png": "[encoded data removed]",
      "text/plain": [
       "<Figure size 432x288 with 1 Axes>"
      ]
     },
     "metadata": {},
     "output_type": "display_data"
    }
   ],
   "source": [
    "' Plot the ROC curve'\n",
    "from sklearn.metrics import roc_curve\n",
    "\n",
    "fpr, tpr, thresholds = roc_curve(y_train_5, y_scores)\n",
    "plt.plot(fpr, tpr, linewidth=2, label='ROC')\n",
    "plt.xlabel('Flase Positive Rate')\n",
    "plt.ylabel('True Postive Rate (Recall)')\n",
    "plt.plot([0,1], [0,1], 'k--')\n",
    "plt.show()"
   ]
  },
  {
   "cell_type": "markdown",
   "id": "3a89ebb9-6889-4b2b-9432-25b200f062f1",
   "metadata": {},
   "source": [
    "<b> A good classifier stays as far toward the top-left corner as possible </b>"
   ]
  },
  {
   "cell_type": "markdown",
   "id": "60ee6b1c-fba9-484c-97e0-4e106e4081bd",
   "metadata": {},
   "source": [
    "<b> Since the ROC curve is so simliar to the precision/recall curve its not always certain which to use when.  As a rule of thumb, you should prefer the PR curve whenever the positive class is rare or when you care more about the false positives than the false negatives.  Otherwise, use the ROC curve </b>"
   ]
  },
  {
   "cell_type": "code",
   "execution_count": 27,
   "id": "862782e4-0af9-40eb-a655-e9dee420f37f",
   "metadata": {},
   "outputs": [],
   "source": [
    "' Train a RandomForestClassifier and compare its ROC curve to the SGDClassifier'\n",
    "# Random Forests use predict_proba() instead of decision_function but otherwise the syntax is the same\n",
    "from sklearn.ensemble import RandomForestClassifier\n",
    "\n",
    "forest_clf = RandomForestClassifier(random_state=42)\n",
    "y_probas_forest = cross_val_predict(forest_clf, X_train, y_train_5, cv=3, method='predict_proba')\n",
    "\n",
    "y_scores_forest = y_probas_forest[:, 1]\n",
    "fpr_forest, tpr_forest, thresholds_forest = roc_curve(y_train_5, y_scores_forest)"
   ]
  },
  {
   "cell_type": "code",
   "execution_count": 30,
   "id": "8d097cdf-12a4-41f3-bbaf-ca0fd25604e7",
   "metadata": {},
   "outputs": [
    {
     "data": {
      "image/png": "[encoded data removed]",
      "text/plain": [
       "<Figure size 432x288 with 1 Axes>"
      ]
     },
     "metadata": {},
     "output_type": "display_data"
    }
   ],
   "source": [
    "plt.plot(fpr, tpr, 'b:', label='SGD')\n",
    "plt.plot(fpr_forest, tpr_forest, 'g--', label='Random Forest')\n",
    "plt.xlabel('False Positive Rate')\n",
    "plt.ylabel('True Positive Rate (Recall)')\n",
    "plt.plot([0,1], [0,1], 'b-', label='Purely Random')\n",
    "plt.legend()\n",
    "plt.show()"
   ]
  },
  {
   "cell_type": "markdown",
   "id": "efa34813-8581-4f5f-8b8b-62b42d6e08e6",
   "metadata": {},
   "source": [
    "<b> Comparing the ROC curves shows the Random Forest is superior to the SGD </b>"
   ]
  },
  {
   "cell_type": "code",
   "execution_count": 40,
   "id": "19720dc4-f4c3-4168-83e8-3079d2db786d",
   "metadata": {},
   "outputs": [
    {
     "name": "stdout",
     "output_type": "stream",
     "text": [
      "0.9905083315756169 0.8662608374838591\n"
     ]
    }
   ],
   "source": [
    "' Check the precision and recall scores for the Random Forest'\n",
    "\n",
    "forest_pred = (y_scores_forest > 0.5)\n",
    "p_score = precision_score(y_train_5, forest_pred)\n",
    "r_score = recall_score(y_train_5, forest_pred)\n",
    "\n",
    "print(p_score, r_score) #IMPRESSIVE!"
   ]
  },
  {
   "cell_type": "markdown",
   "id": "c923b0e0-ecd0-4b17-8579-c3fb65f13ea6",
   "metadata": {},
   "source": [
    "#### Multiclasss Classification"
   ]
  },
  {
   "cell_type": "code",
   "execution_count": null,
   "id": "7e967b82-afdf-467f-9f8b-d4392568a627",
   "metadata": {},
   "outputs": [],
   "source": []
  }
 ],
 "metadata": {
  "kernelspec": {
   "display_name": "Python 3",
   "language": "python",
   "name": "python3"
  },
  "language_info": {
   "codemirror_mode": {
    "name": "ipython",
    "version": 3
   },
   "file_extension": ".py",
   "mimetype": "text/x-python",
   "name": "python",
   "nbconvert_exporter": "python",
   "pygments_lexer": "ipython3",
   "version": "3.8.12"
  }
 },
 "nbformat": 4,
 "nbformat_minor": 5
}
