{
 "cells": [
  {
   "cell_type": "code",
   "execution_count": 425,
   "id": "05b70ba3-bdd8-44a8-88b2-5cd632fbbe75",
   "metadata": {
    "tags": []
   },
   "outputs": [],
   "source": [
    "%config Completer.use_jedi = False"
   ]
  },
  {
   "cell_type": "markdown",
   "id": "e65c1fb2-13d3-4874-8bf7-f0d15fc91460",
   "metadata": {},
   "source": [
    "# Introduction to Artificial Neural Networks with Keras"
   ]
  },
  {
   "cell_type": "markdown",
   "id": "ac36304c-e6df-4a5d-870d-f4a956b3e20d",
   "metadata": {},
   "source": [
    "*Artificial Nerual Networks* (ANNs) are Machine Learning models inspired by the networks of biological neurons found in our brains.  ANNs are at the very core of Deep Learning. They are versatile, powerful, and scalable, making them ideal to tackle large and highly complex Machine Learning tasks such as classifying billions of images, powering speech recognition services, recommending the best videos to watch to hundreds of millions of users every day, or learning to beat the world champion at a game of Go.\n",
    "\n",
    "The first part of this chapter introduces artificial neural networks.  In the second part, we will look at how to implement neural networks using the popular Keras API."
   ]
  },
  {
   "cell_type": "markdown",
   "id": "4db6790a-e40d-4918-8d95-811490cae7d0",
   "metadata": {},
   "source": [
    "## From Biological to Artificial Neurons"
   ]
  },
  {
   "cell_type": "markdown",
   "id": "13f8e0e0-3025-49c4-a5fc-eba8bdb03116",
   "metadata": {},
   "source": [
    "The early successes of ANNs led to widespread belief that we would soon be conversing with truly intelligent machines.  When it became clear in the 1960's that this promise would go unfulfilled, funding flew elsewhere, and ANNs entered a long winter.  In the early 1980s, new architectures were invented and better training techniques were developed, sparking a revival of interest in *cnnectionism* (the study of neural networks).  But progress was slow, and by the 1990s other powerful Machine Learning techniques were invented, such as Support Vector Machines.  These techniques seemed to offer better results and stronger theoretical foundations than ANNs, so once again the study of neural networks was put on hold.\n",
    "\n",
    "We are now witnessing yet another wave of interest in ANNs, and this time is different.\n",
    "* There are now a huge quantity of data available to train neural networks, and ANNs frequently outperform other ML techniques on very large and complex problems.\n",
    "* The tremendous increase in computing power since the 1990s now makes it possible to train large neural networks in a reasonable amount of time.\n",
    "* The training algorithms have been improved.\n",
    "* ANNs seem to have entered a virtuous cirle of funding and progress."
   ]
  },
  {
   "cell_type": "markdown",
   "id": "4e276296-1296-4911-a4d9-6c2311f9e061",
   "metadata": {},
   "source": [
    "## The Perceptron"
   ]
  },
  {
   "cell_type": "markdown",
   "id": "a6ca2a95-d509-45d0-8013-5c266022aa6f",
   "metadata": {},
   "source": [
    "The *Perceptron* is one of the simplest ANN architectures, invented in 1957 by Frank Rosenblatt.  It is based on a *threshold logic unit* (TLU). For a TLU, the inputs and outputs are numbers, and each input connection is associated with a weight.  The TLU computes a weighted sum of its inputs, then applies a *step function* to that sum and outputs the results.\n",
    "\n",
    "A Perceptron is simply composed of a single layer of TLUs, with each TLU connected to all the inputs.  When all the neurons in a layer are connected to every neuron in the previous layer, the layer is called a *fully connected layer*, or a *dense layer*.\n",
    "\n",
    "Thanks to the magic of linear algebra, Equation 10-2 makes it possible to efficiently compute the outputs of a layer of artificial neurons for several instances at once.\n",
    "\n",
    "<c> Equation 10-2: Computing the outputs of a fully connected layer </c>\n",
    "$$ h_{W, b}(X) = \\phi(XW + b) $$\n",
    "\n",
    "So how is a Perceptron trained? \"Cells that fire together, wire together.\" Perceptrons are trained using a variant of this rule that takes into account the error made by the network when it makes a prediction; the Perceptron learning rule reinforces connections that help reduce the error.  More specifically, the Perceptron is fed one training instance at a time, and for each instance it makes its predictions.  For every output neuron that produced a wrong prediction, it reinforces the connection weights from the inputs that would ahve contributed to the correct prediction.  \n",
    "\n",
    "**The decision boundary of each output neuron is linear, so Perceptrons are incapable of learning complex patterns (just like Logistic Regression classifiers).**\n",
    "\n",
    "Scikit-Learn provides a Perceptron class that implements a single-TLU network."
   ]
  },
  {
   "cell_type": "markdown",
   "id": "ad7a1171-8787-4eee-b98c-910112da8752",
   "metadata": {},
   "source": [
    "#### Example 1: Scikit-Learns Perceptron"
   ]
  },
  {
   "cell_type": "code",
   "execution_count": 8,
   "id": "02695eec-266a-414e-bfe0-399da24a9ecc",
   "metadata": {
    "tags": []
   },
   "outputs": [
    {
     "data": {
      "text/plain": [
       "array([0])"
      ]
     },
     "execution_count": 8,
     "metadata": {},
     "output_type": "execute_result"
    }
   ],
   "source": [
    "import numpy as np\n",
    "from sklearn.datasets import load_iris\n",
    "from sklearn.linear_model import Perceptron\n",
    "\n",
    "iris = load_iris()\n",
    "X = iris.data[:, (2, 3)] # petal length, petal width\n",
    "y = (iris.target == 0).astype(int) # Iris Setosa\n",
    "\n",
    "per_clf = Perceptron()\n",
    "per_clf.fit(X, y)\n",
    "\n",
    "y_pred = per_clf.predict([[2, 0.5]])\n",
    "y_pred"
   ]
  },
  {
   "cell_type": "markdown",
   "id": "f74792a2-b38a-4233-bea2-c5b015bcaed3",
   "metadata": {},
   "source": [
    "You may have noticed that the Perceptron learning algorithm strongly resembles Stochastic Gradient Descent.  In fact, Scikit-Learn's Perceptron class is equivalent to using an SGDClassifier with the following hyperparameters: loss = 'perceptron', learning_rate = 'constant', eta0 = 1 (the learning rate), and penalty = None (no regularization).\n",
    "\n",
    "Note that contrary to Logistic Regression classifiers, Perceptrons do not output a class probability.  This is one reason to prefer Logistic Regression over Perceptrons.\n",
    "\n",
    "There are a number of significant weaknesses of Perceptrons, in particular that they are incapable of solving some trivial problems.  It turns out that some of the limitations of Perceptrons an be eliminated by stacking multiple Perceptrons.  The resulting ANN is called a *Multilayer Perceptron* (MLP)"
   ]
  },
  {
   "cell_type": "markdown",
   "id": "baa583da-d07a-4ce9-8371-d0c91b615b24",
   "metadata": {},
   "source": [
    "## The Multilayer Perceptron and Backpropagation"
   ]
  },
  {
   "cell_type": "markdown",
   "id": "e8f77643-166f-40b3-9179-ddc1ca9dba94",
   "metadata": {},
   "source": [
    "An MLP is composed of one (passthrough) *input layer*, one or more layers of TLUs, called *hidden layers*, and one final layer of TLUs, called the *output layer*.  The layers close to the input layers are usually called the *lower layers* and the ones close to the outputs are usually called the *upper layers*.  Every layer except the output layer includes a bias neuron and is fully connected to the next layer.\n",
    "\n",
    "The signal flows only in one direction (from the inputs to the oupts), so this architecture is an example of a *feedforward neural network* (FNN).\n",
    "\n",
    "When an ANN contains a deep stack of hidden layers (dozens or hundreds), it is called a *deep neural network* (DNN).  For many years researchers struggled to find a way to train MLPs, without success, until 1986 when David Rumelhart, Geoffrey Hinton, and Ronald Williams published a groundbreaking paper that introduced the *backpropagation* training algorithm, which is still used today.\n",
    "\n",
    "In short, it is Gradient Descent using an efficient technique for computing the gradients automatically: in just two passes through the network (one forward, one backward), the backpropagation algorithm is able to compute the gradient of the network's error with regard to every single model parameter.  In other words, it can find out how each connection weight and each bias term should be tweaked in order to reduce the error.  Once it has these gradients, it just performs a regular Gradient Descent step, and the whole process is repeated until the network converges to the solution.\n",
    "\n",
    "Automatically computing gradients is called *automatic differentiation* or *autodiff*.  There are various autodiff techniques, with different pros and cons.  The one used by backpropagation is called *reverse-moode autodiff*.  It is fase and precise, and is well suited when the function to differentiate has many variables and few outputs.\n",
    "\n",
    "Let's run through the algorithm in a bit more detail:\n",
    "* It handles one mini-batch at a time (for example, containing 32 instances each), and it goes through the full training set multiple times.  Each pass is called an *epoch*\n",
    "* Each mini-batch is passed to the network's input layer, which sends it to the first hidden layer. The algorithm then computes the output of all the neurons in this layer (for every instance in the mini-batch). The result is passed on to the next layer, its output is computed and passed to the next layer, and so on until we get the output of the last layer, the output layer. This is the *forward pass*: it is exactly like making predictions, except all intermediate results are preserved since they are needed for the backward pass.\n",
    "* Next, the algorithm measures the network's output error (i.e. it uses a loss function that compares the desired output and the actual output of the network, and returns some measure of the error).\n",
    "* Then it computes how much each output connection contributed to the error. This is done analytically by applying the *chain rule* (perhaps the most fundamental rule in calculus), which makes this step fast and precise.\n",
    "* The algorithm then measures how much of these error contributions came from each connection in the layer below, again using the chain rule, working backward until the algorithm reaches the input layer.  As explained earlier, this reverse pass efficiently measures the error gradient across all the connection weights in the network by propagating the error gradient backward through the network.\n",
    "* Finally, the algorithm performs a Gradient Descent step to tweak all the connection weights in the network, using the error gradients it just computed.\n",
    "\n",
    "**This algorithm is so important that it's worth summarizing it again: for each training instance, the backpropagation algorithm first makes a prediction (forward pass) and measures the error, then goes through each layer in reverse to measure the error contribution from each connection (reverse pass), and finally tweaks the connection weights to reduce the error (Gradient Descent step)**\n",
    "\n",
    "***It is important to initialize all the hidden layers' connection weights randomly, or else training will fail.***\n",
    "\n",
    "In order for this algorithm to work properly, its authors made a key change to the MLP's architecture: they replaced the step function with the logistic (sigmoid) function:\n",
    "$$ \\sigma(z) = \\frac{1}{1 + \\exp(-z)} $$\n",
    "\n",
    "The backpropagation algorithm works well with many other activation functions.  Here are two other popular choices:\n",
    "1. **The hyperbolic tanger function: tanh(z)**: $2\\sigma(2z) - 1$\n",
    "<br>Just like the logistic function, this activation function is S-shaped, continuous, and differentiable, but its output value ranges from -1 to 1 (instead of 0 to 1 in the case of the logistic function). That range tends to make each layer's output more or less centered around 0 at the beginning of training, which often helps speed up convergence.\n",
    "2. **The Rectified Linear Unit function: ReLU(z)**: $max(0, z)$\n",
    "<br>The ReLU function is continuous but unfortunatley not differentiable at z=0 (the slope changes abruptly, which can make Gradient Descent bounce around), and its derivative is 0 for z < 0. In practice, however, it works very well and has the advantage of being fast to compute, so it has become the default. Most importantly, the fact that it does not have a maximum output value helps reduce some issues during Gradient Descent.\n",
    "\n",
    "Why do we need activation functions in the first place? Well, if you chain several linear transformations, all you get is a linear transformation. So if you don't have some nonlinearity between layers, then even a deep stack of layers is equivalent to a single layer, and you can't solve very complex problems with that. Conversely, a large enough DNN with nonlinear activations can theoretically approximate any continuous function."
   ]
  },
  {
   "cell_type": "markdown",
   "id": "86031eec-79e9-4ee4-8f9e-5c9a26005638",
   "metadata": {},
   "source": [
    "## Regression MLPs"
   ]
  },
  {
   "cell_type": "markdown",
   "id": "a7255039-12e6-4a50-856a-0a7129a3d08d",
   "metadata": {},
   "source": [
    "First, MLPs can be used for regression tasks. If you want to predict a single value (like the value of a house), then you just need a single output neuron: its output is the predicted value. For multivariate regression (predicting multiple values at once), you need one output neuron per output dimension. For example, to locate the center of an object in an image, you need to predict 2D cooridinates, so you need two output neurons.\n",
    "\n",
    "**In general, when building an MLP for regression, you do not want to use any activation function for the output neurons, so they are free to output any range of values.** If you want to guarantee that the output will always be positive, then you can use the ReLU activation function in the output layer. Alternatively, you can use the *softplus* activation function, which is a smooth variant of ReLU: $softplus(z) = log(1 + \\exp(z))$\n",
    "\n",
    "The loss function to use during training is typically the mean squared error, but if you have a lot of outliers in the training set, you may prefer to use the mean absolute error instead. Alternatively, you can us ethe Huber loss, which is a combination of both.\n",
    "\n",
    "The Huber loss is quadratic when the error is smaller than a threshold $\\delta$ (typically 1) but linear when the error is larger than $\\delta$. The linear part makes it less sensitive to outliers than the mean squared error, and the quadratic part allows it to converge faster and be more precise than the mean absolute error."
   ]
  },
  {
   "cell_type": "code",
   "execution_count": 14,
   "id": "38bad854-01f6-4371-bce5-759b19a1caae",
   "metadata": {
    "tags": []
   },
   "outputs": [
    {
     "data": {
      "text/html": [
       "<div>\n",
       "<style scoped>\n",
       "    .dataframe tbody tr th:only-of-type {\n",
       "        vertical-align: middle;\n",
       "    }\n",
       "\n",
       "    .dataframe tbody tr th {\n",
       "        vertical-align: top;\n",
       "    }\n",
       "\n",
       "    .dataframe thead th {\n",
       "        text-align: right;\n",
       "    }\n",
       "</style>\n",
       "<table border=\"1\" class=\"dataframe\">\n",
       "  <thead>\n",
       "    <tr style=\"text-align: right;\">\n",
       "      <th></th>\n",
       "      <th>Typical Value</th>\n",
       "    </tr>\n",
       "  </thead>\n",
       "  <tbody>\n",
       "    <tr>\n",
       "      <th>Input Neurons</th>\n",
       "      <td>One per intput feature</td>\n",
       "    </tr>\n",
       "    <tr>\n",
       "      <th>Hidden Layers</th>\n",
       "      <td>Depends on the problem, typically 1 to 5</td>\n",
       "    </tr>\n",
       "    <tr>\n",
       "      <th>Neurons per Layer</th>\n",
       "      <td>Depends on the problem, typically 10 to 100</td>\n",
       "    </tr>\n",
       "    <tr>\n",
       "      <th>Output Neurons</th>\n",
       "      <td>1 per prediction dimension</td>\n",
       "    </tr>\n",
       "    <tr>\n",
       "      <th>Hidden Activation</th>\n",
       "      <td>ReLU or SELU</td>\n",
       "    </tr>\n",
       "    <tr>\n",
       "      <th>Output Activation</th>\n",
       "      <td>None, or ReLU/softplus. Generally tailored for...</td>\n",
       "    </tr>\n",
       "    <tr>\n",
       "      <th>Loss Function</th>\n",
       "      <td>MSE, MAE or Huber if outliers</td>\n",
       "    </tr>\n",
       "  </tbody>\n",
       "</table>\n",
       "</div>"
      ],
      "text/plain": [
       "                                                       Typical Value\n",
       "Input Neurons                                 One per intput feature\n",
       "Hidden Layers               Depends on the problem, typically 1 to 5\n",
       "Neurons per Layer        Depends on the problem, typically 10 to 100\n",
       "Output Neurons                            1 per prediction dimension\n",
       "Hidden Activation                                       ReLU or SELU\n",
       "Output Activation  None, or ReLU/softplus. Generally tailored for...\n",
       "Loss Function                          MSE, MAE or Huber if outliers"
      ]
     },
     "execution_count": 14,
     "metadata": {},
     "output_type": "execute_result"
    }
   ],
   "source": [
    "import pandas as pd\n",
    "\n",
    "# Typical regression MLP architecture\n",
    "pd.DataFrame.from_dict(data={\n",
    "    'Input Neurons': 'One per intput feature',\n",
    "    'Hidden Layers': 'Depends on the problem, typically 1 to 5',\n",
    "    'Neurons per Layer': 'Depends on the problem, typically 10 to 100',\n",
    "    'Output Neurons': '1 per prediction dimension',\n",
    "    'Hidden Activation': 'ReLU or SELU',\n",
    "    'Output Activation': 'None, or ReLU/softplus. Generally tailored for desired output.',\n",
    "    'Loss Function': 'MSE, MAE or Huber if outliers'\n",
    "}, orient='index').rename(columns={0: 'Typical Value'})"
   ]
  },
  {
   "cell_type": "markdown",
   "id": "2428968e-1cbf-4c2e-9fec-b864856bb097",
   "metadata": {},
   "source": [
    "## Classification MLPs"
   ]
  },
  {
   "cell_type": "markdown",
   "id": "2d448b1f-e775-446c-8363-d81acbfbdba8",
   "metadata": {},
   "source": [
    "MLPs can also be used for classification tasks. For a binary classification problem, you just need a single output neuron using the logistic activation function: the output will be a number between 0 and 1, which you can interpret as the estimated probability of the positive class.\n",
    "\n",
    "MLPs can also easily handle multilabel binary classification tasks. More generally, you would dedicate one output neuron for each positive class. Note that the output probabilities do no necessarily add up to 1.\n",
    "\n",
    "If each instance can belong only to a single class, out of three or more possible classes (e.g. classes 0 through 9 for digit image classification), then you need to have one output neuron per class, and you should use the softmax activiation function for the whole output layer. The softmax function will ensure that all the estimated probabilities are between 0 and 1 and they they add up to 1 (which is required if the classses are exclusive). This is called multiclass classification.\n",
    "\n",
    "Regarding the loss function, since we are predicting probability distributions, the cross-entropy loss (also called the log loss) is generally a good choice."
   ]
  },
  {
   "cell_type": "code",
   "execution_count": 17,
   "id": "fc3a57c9-eb7f-49e2-b13e-a7dbda21131e",
   "metadata": {
    "tags": []
   },
   "outputs": [
    {
     "data": {
      "text/html": [
       "<div>\n",
       "<style scoped>\n",
       "    .dataframe tbody tr th:only-of-type {\n",
       "        vertical-align: middle;\n",
       "    }\n",
       "\n",
       "    .dataframe tbody tr th {\n",
       "        vertical-align: top;\n",
       "    }\n",
       "\n",
       "    .dataframe thead th {\n",
       "        text-align: right;\n",
       "    }\n",
       "</style>\n",
       "<table border=\"1\" class=\"dataframe\">\n",
       "  <thead>\n",
       "    <tr style=\"text-align: right;\">\n",
       "      <th></th>\n",
       "      <th>Binary Classification</th>\n",
       "      <th>Multilabel Binary Classification</th>\n",
       "      <th>Multiclass Classification</th>\n",
       "    </tr>\n",
       "  </thead>\n",
       "  <tbody>\n",
       "    <tr>\n",
       "      <th>Input and Hidden Layers</th>\n",
       "      <td>Same as regression</td>\n",
       "      <td>Same as regression</td>\n",
       "      <td>Same as regression</td>\n",
       "    </tr>\n",
       "    <tr>\n",
       "      <th>Number of Output Neurons</th>\n",
       "      <td>1</td>\n",
       "      <td>1 per label</td>\n",
       "      <td>1 per class</td>\n",
       "    </tr>\n",
       "    <tr>\n",
       "      <th>Output Layer Activation</th>\n",
       "      <td>Logistic</td>\n",
       "      <td>Logistic</td>\n",
       "      <td>Softmax</td>\n",
       "    </tr>\n",
       "    <tr>\n",
       "      <th>Loss Function</th>\n",
       "      <td>Cross-Entropy</td>\n",
       "      <td>Cross-Entropy</td>\n",
       "      <td>Cross-Entropy</td>\n",
       "    </tr>\n",
       "  </tbody>\n",
       "</table>\n",
       "</div>"
      ],
      "text/plain": [
       "                         Binary Classification  \\\n",
       "Input and Hidden Layers     Same as regression   \n",
       "Number of Output Neurons                     1   \n",
       "Output Layer Activation               Logistic   \n",
       "Loss Function                    Cross-Entropy   \n",
       "\n",
       "                         Multilabel Binary Classification  \\\n",
       "Input and Hidden Layers                Same as regression   \n",
       "Number of Output Neurons                      1 per label   \n",
       "Output Layer Activation                          Logistic   \n",
       "Loss Function                               Cross-Entropy   \n",
       "\n",
       "                         Multiclass Classification  \n",
       "Input and Hidden Layers         Same as regression  \n",
       "Number of Output Neurons               1 per class  \n",
       "Output Layer Activation                    Softmax  \n",
       "Loss Function                        Cross-Entropy  "
      ]
     },
     "execution_count": 17,
     "metadata": {},
     "output_type": "execute_result"
    }
   ],
   "source": [
    "# Typical classification MLP architecture\n",
    "pd.DataFrame.from_dict({\n",
    "    'Input and Hidden Layers': ['Same as regression', 'Same as regression', 'Same as regression'],\n",
    "    'Number of Output Neurons': ['1', '1 per label', '1 per class'],\n",
    "    'Output Layer Activation': ['Logistic', 'Logistic', 'Softmax'],\n",
    "    'Loss Function': ['Cross-Entropy', 'Cross-Entropy', 'Cross-Entropy']\n",
    "}, orient='index').rename(columns={0: 'Binary Classification', 1: 'Multilabel Binary Classification', 2: 'Multiclass Classification'})"
   ]
  },
  {
   "cell_type": "markdown",
   "id": "8b12fe7b-7870-483d-82c1-e8a7b28deb6f",
   "metadata": {},
   "source": [
    "## Implementing MLPs with Keras"
   ]
  },
  {
   "cell_type": "markdown",
   "id": "676858a2-3031-42c6-9787-d4bbbdf184df",
   "metadata": {},
   "source": [
    "At present, you can choose from 3 popular open source Deep Learning libraries:\n",
    "1. TensorFlow\n",
    "2. Microsoft Cognitive Toolkit\n",
    "3. Theano\n",
    "\n",
    "As of 2016 Keras can be run on:\n",
    "1. Apache MXNet\n",
    "2. Apple's Core ML\n",
    "3. JavaScript\n",
    "4. TypeScript\n",
    "5. PlaidML\n",
    "\n",
    "Moreover, TensorFlow itself now comes bundled with its own Keras implementation, tf.keras. It only supports TensorFlow as the backend, but it has the advantage of offering some very useful extra features like TensorFlow's Data API which makes it easy to load and preprocess data efficiently.\n",
    "\n",
    "**The most populare Deep Learning library after Keras and TensorFlow is Facebook's PyTorch. The good news is that its API is quite similar to Keras's, so once you know Keras, it is not difficult to switch to PyTorch, if you ever want to.** PyTorch's popularity grew exponentially in 2018, largely thanks to its simplicity and excellent documenatation, which were not TensorFlow 1.x's main strengths. However, TensorFlow 2 is arguably just as simple as PyTorch, as it has adopted Keras as its official high-level API and its developers have greatly simplified and cleaned up the rest of the API. Similarly, PyTorch's main weaknesses (e.g. limited portability and on computation graph analysis) have been largely addressed in PyTorch 1.0. Healthy competition is beneficial to everyone!"
   ]
  },
  {
   "cell_type": "markdown",
   "id": "15f8f219-547d-4de9-b5ba-e2b88859e781",
   "metadata": {},
   "source": [
    "## Installing TensorFlow 2"
   ]
  },
  {
   "cell_type": "code",
   "execution_count": 21,
   "id": "892d512e-e5fe-477d-b166-3b516634908e",
   "metadata": {},
   "outputs": [],
   "source": [
    "# pip install -U tensorflow"
   ]
  },
  {
   "cell_type": "code",
   "execution_count": 22,
   "id": "c7f1eba2-bf16-4aca-ad19-79b3ecfbb8da",
   "metadata": {
    "tags": []
   },
   "outputs": [
    {
     "data": {
      "text/plain": [
       "('2.8.0', '2.8.0')"
      ]
     },
     "execution_count": 22,
     "metadata": {},
     "output_type": "execute_result"
    }
   ],
   "source": [
    "import tensorflow as tf\n",
    "from tensorflow import keras\n",
    "tf.__version__, keras.__version__"
   ]
  },
  {
   "cell_type": "markdown",
   "id": "eee7250c-4a87-4ccf-b484-ae04ab2063c5",
   "metadata": {},
   "source": [
    "For GPU support, at the time of this writing you need to install tensorflow-gpu instead of tensorflow, but the TensorFlow team is working on having a single library that will support both CPU-only and GPU-equipped systems. You will need to install extra libraries for GPU support (see http://tensorflow.org/install for more details)."
   ]
  },
  {
   "cell_type": "markdown",
   "id": "08600ab7-c44d-4442-96d9-065e848d9845",
   "metadata": {},
   "source": [
    "## Building an Image Classifier Using the Sequential API"
   ]
  },
  {
   "cell_type": "markdown",
   "id": "238bcd3b-0a1c-40eb-b418-da9b865aea0a",
   "metadata": {},
   "source": [
    "### Using Keras to load the dataset"
   ]
  },
  {
   "cell_type": "code",
   "execution_count": 38,
   "id": "05841662-7dd7-4dfe-9297-fdf5761f50db",
   "metadata": {},
   "outputs": [
    {
     "name": "stdout",
     "output_type": "stream",
     "text": [
      "(60000, 28, 28) uint8\n"
     ]
    },
    {
     "data": {
      "text/plain": [
       "'Coat'"
      ]
     },
     "execution_count": 38,
     "metadata": {},
     "output_type": "execute_result"
    }
   ],
   "source": [
    "# Load the Keras dataset\n",
    "fashion_mnist = keras.datasets.fashion_mnist\n",
    "(X_train_full, y_train_full), (X_test, y_test) = fashion_mnist.load_data()\n",
    "\n",
    "# Check dimensions and datatypes\n",
    "print(X_train_full.shape, X_train_full.dtype)\n",
    "\n",
    "# Split the training set into a validation and training set\n",
    "X_valid, X_train = X_train_full[:5000] / 255.0, X_train_full[5000:] / 255.0\n",
    "y_valid, y_train = y_train_full[:5000], y_train_full[5000:]\n",
    "\n",
    "# Define the class names\n",
    "class_names = ['T-shirt/top', 'Trouser', 'Pullover', 'Dress', 'Coat', 'Sandal', 'Shirt', 'Sneaker', 'Bag', 'Ankle Boot']\n",
    "class_names[y_train[0]]"
   ]
  },
  {
   "cell_type": "markdown",
   "id": "8d12a37c-7d72-41ce-b4fd-2128ab4cc8ff",
   "metadata": {},
   "source": [
    "### Creating the model using the Sequential API"
   ]
  },
  {
   "cell_type": "code",
   "execution_count": 200,
   "id": "d903317a-6efb-416f-9304-29b173c2b192",
   "metadata": {
    "tags": []
   },
   "outputs": [
    {
     "name": "stdout",
     "output_type": "stream",
     "text": [
      "Model: \"sequential_5\"\n",
      "_________________________________________________________________\n",
      " Layer (type)                Output Shape              Param #   \n",
      "=================================================================\n",
      " flatten_5 (Flatten)         (None, 784)               0         \n",
      "                                                                 \n",
      " dense_17 (Dense)            (None, 500)               392500    \n",
      "                                                                 \n",
      " dense_18 (Dense)            (None, 500)               250500    \n",
      "                                                                 \n",
      " dense_19 (Dense)            (None, 500)               250500    \n",
      "                                                                 \n",
      " dense_20 (Dense)            (None, 500)               250500    \n",
      "                                                                 \n",
      " dense_21 (Dense)            (None, 10)                5010      \n",
      "                                                                 \n",
      "=================================================================\n",
      "Total params: 1,149,010\n",
      "Trainable params: 1,149,010\n",
      "Non-trainable params: 0\n",
      "_________________________________________________________________\n"
     ]
    }
   ],
   "source": [
    "model = keras.models.Sequential([\n",
    "    keras.layers.Flatten(input_shape=[28, 28]),\n",
    "    keras.layers.Dense(500, activation='relu'),\n",
    "    keras.layers.Dense(500, activation='relu'),\n",
    "    keras.layers.Dense(500, activation='relu'),\n",
    "    keras.layers.Dense(500, activation='relu'),\n",
    "    keras.layers.Dense(10, activation='softmax')\n",
    "])\n",
    "\n",
    "model.summary()"
   ]
  },
  {
   "cell_type": "markdown",
   "id": "a798f669-9a92-4083-ab96-4d7e89e6fdc5",
   "metadata": {},
   "source": [
    "Let's go through this code line by line:\n",
    "1. The first line creates a Sequential model. This is the simplest kind of Keras model for neural networks that are just composed of a single stack of layers connected sequentially. This is called the Sequential API.\n",
    "2. Next, we build the first layer and add it to the model. It is a Flatten layer whose role is to convert each input image into a 1D array: if it receives input data X, it computes X.reshape(-1, 1). This layer does not have any parameters; it is just there to do some simple preprocessing. Since it is the first layer in the model, you should specify the input_shape, which doesn't include the batch size, only the shape of the instances. Alternatively, you could add a keras.Layers.InputLayer as the first layer, setting input_shape=[28, 28].\n",
    "3. Next we add a Dense hidden layer with 300 neurons. It will use the ReLU activiation function. **Each Dense layer manages its own weight matrix, containing all the connection weights between the neurons and their inputs.** It also manages a vector of bias terms (one per neuron). When it receives some input data, it computes Equation 10-2.\n",
    "4. The we add a second Dense hidden layer with 100 neurons, also using the ReLU activation function.\n",
    "5. Finally, we add a Dense output layer with 10 neurons (one per class), using the softmax activation function (because the classes are exclusive.)"
   ]
  },
  {
   "cell_type": "markdown",
   "id": "32cc032b-ff07-49f9-8656-b23e97af33bd",
   "metadata": {},
   "source": [
    "**Note that Dense layers often have a *lot* of parameters. This gives the model quite a lot of flexibility to fit the training data, but it also means that the model runs the risk of overfitting, especially when you do not have a lot of training data**\n",
    "\n",
    "You can easily get a model's list of layers, to fetch a layer by its index, or you can fetch it by name. All the parameters of a layer can be accessed using its get_weights() and set_weights() methods. For a Dense layer, this includes both the connection weights and the bias terms."
   ]
  },
  {
   "cell_type": "code",
   "execution_count": 207,
   "id": "48c9de87-b81a-49d1-8915-daaf5714b959",
   "metadata": {
    "tags": []
   },
   "outputs": [
    {
     "data": {
      "text/plain": [
       "([<keras.layers.core.flatten.Flatten at 0x260302df310>,\n",
       "  <keras.layers.core.dense.Dense at 0x260302dff70>,\n",
       "  <keras.layers.core.dense.Dense at 0x260302f74f0>,\n",
       "  <keras.layers.core.dense.Dense at 0x260302f7eb0>,\n",
       "  <keras.layers.core.dense.Dense at 0x2602d35c1f0>,\n",
       "  <keras.layers.core.dense.Dense at 0x2602d3bc3d0>],\n",
       " 'dense_17',\n",
       " True)"
      ]
     },
     "execution_count": 207,
     "metadata": {},
     "output_type": "execute_result"
    }
   ],
   "source": [
    "model.layers, model.layers[1].name, model.get_layer('dense_17') is model.layers[1]"
   ]
  },
  {
   "cell_type": "code",
   "execution_count": 209,
   "id": "bd71d9ee-b90c-4f7e-b291-f3c12698ef11",
   "metadata": {
    "tags": []
   },
   "outputs": [
    {
     "data": {
      "text/plain": [
       "((784, 500),\n",
       " (500,),\n",
       " array([[-0.02918262,  0.02894263,  0.05410552, ...,  0.02060419,\n",
       "         -0.01661743, -0.03945428],\n",
       "        [ 0.03310787, -0.02599242, -0.05342195, ..., -0.02981296,\n",
       "          0.03183615, -0.01892894],\n",
       "        [ 0.04201207, -0.03836633,  0.05245259, ..., -0.04116692,\n",
       "          0.0665056 ,  0.00915689],\n",
       "        ...,\n",
       "        [-0.0621868 , -0.00052582,  0.02977216, ..., -0.02170236,\n",
       "          0.06045925,  0.03534312],\n",
       "        [-0.00262833, -0.0545004 , -0.06271002, ...,  0.01006421,\n",
       "          0.03277665,  0.04097281],\n",
       "        [-0.05442855,  0.03501238,  0.00235659, ...,  0.01903313,\n",
       "         -0.00377643,  0.02144849]], dtype=float32))"
      ]
     },
     "execution_count": 209,
     "metadata": {},
     "output_type": "execute_result"
    }
   ],
   "source": [
    "weights, biases = model.layers[1].get_weights()\n",
    "weights.shape, biases.shape, weights"
   ]
  },
  {
   "cell_type": "markdown",
   "id": "65e19c11-771a-451e-8382-a20c3825e99b",
   "metadata": {},
   "source": [
    "The shape of the weight matrix depends on the number of inputs. This is why it is recommended to specify the input_shape when creating the first layer in a Sequential model. **Until the model is really built, the layers will not have any weights, and you will not be able to do certain things such as print the model summary or save the model.** So if you know the input shape when creating the model, it is best to specify it."
   ]
  },
  {
   "cell_type": "markdown",
   "id": "20c197eb-4248-4f09-8ff8-7532d8083f40",
   "metadata": {},
   "source": [
    "### Compiling the model"
   ]
  },
  {
   "cell_type": "markdown",
   "id": "40ba9cbe-dc1c-4468-9134-9f44c7c952f7",
   "metadata": {},
   "source": [
    "After a model is created, you must call its compile() method to specify the loss function and the optimizer to use. Optionally, you can specify a list of extra metrics to compute during training and evaluation."
   ]
  },
  {
   "cell_type": "code",
   "execution_count": 213,
   "id": "2756a27e-5d3c-4787-ac13-aef2f10ef28c",
   "metadata": {
    "tags": []
   },
   "outputs": [],
   "source": [
    "model.compile(\n",
    "    loss='sparse_categorical_crossentropy',\n",
    "    optimizer=keras.optimizers.SGD(learning_rate=0.01),\n",
    "    metrics=['accuracy']\n",
    ")"
   ]
  },
  {
   "cell_type": "markdown",
   "id": "f8492c25-35cc-4e7d-8cc7-5f7316f7afb6",
   "metadata": {},
   "source": [
    "This code requires some explanation. **First, we use the 'sparse_categorical_crossentropy' loss because we have sparse labels (i.e. for each instance, there is just a target class index, from 0 to 9 in this case), and the classes are exclusive. If instead we had one target probability per class for each instance (such as one-hot vectors, e.g. [0, 0, 1, 0]) to represent class 2), then we would need to use the 'categorical_crossentropy' loss instead.**\n",
    "\n",
    "If we were doing binary classification (with one or more binary labels), then we would use the 'sigmoid' (i.e. logistic) activiation function in the output layer instead of the 'softmax' activiation function, and we would use the 'binary_crossentropy' loss.\n",
    "\n",
    "If you want to convert sparse labels (i.e. class indices) to one-hot vector labels, use the keras.utils.to_categorical() function. To go the other way around, use the np.argmax() function with axis=1.\n",
    "\n",
    "When using the SGD optimizer, it is important to tune the learning rate. So, you will generally want to use optimizer=keras.optimizers.SGD(learning_rate=???) to set the learning rate, rather than optimizer='sgd', which defaults to learning_rate=0.01"
   ]
  },
  {
   "cell_type": "markdown",
   "id": "839c95c3-46ca-4926-a2ac-b20f7252a7fc",
   "metadata": {},
   "source": [
    "### Training and evaluating the model"
   ]
  },
  {
   "cell_type": "markdown",
   "id": "9ffa7178-e731-4495-b9ab-420c6f359489",
   "metadata": {},
   "source": [
    "Now the model is ready to be trained. For this we simply need to call its fit() method. We pass it the input features (X_train) and the target classes (y_train), as well as the number of epochs to train. We also pass a validation set (this is optional). Keras will measure the loss and the extra metrics on this set at the end of each epoch. If the performance on the training set is much better than the validation set, your model is probably overfitting the training set (or there is a bug such as a data mismatch between the training set and the validation set).\n",
    "\n",
    "Instead of passing a validation set using the validation_data argument, you could set validation_split to the ratio of the training set that you want Keras to use for validation. For example, validation_split=0.1 tells Keras to use the last 10% of the data (before shuffling) for validation.\n",
    "\n",
    "**If the training set was very skewed, with some classes being overrepresented and others underrepresnted, it would be useful to set the class_weight argument when calling the fit() method, which would give a larger weight to underrepresented classes and a lower weight to overrepresented classes.**\n",
    "\n",
    "If you need per-instance weights, set the sample_weight argument (it supersedes class_weight). Per-instance weights could be useful if some instances were labeled by experts while others were labelled using a crowdsourcing platform: you might want to give more weight to the former.\n",
    "\n",
    "The fit() method returns a History object containing the training parameters (history.params), the list of epochs it went through (history.epoch), and most importantly a dictionary (history.history) containing the loss and extra metrics it measured at the end of each epoch on the training set and on the validation set (if any). If you use this dictionary to create a pandas DataFrame and call its plot() method, you get the learning curves for the model.\n",
    "\n",
    "**If your training or validation data does not match the expected shape, you will get an exception. This is perhaps the most common error, so you should get familiar with the error message. The message is actually quite clear: for example, if you try to train this model with an array containing flattened images it will throw this error.**\n",
    "\n",
    "If the validation curves are close to the training curves, it means there is not too much overfitting. In this particular case, the model looks like it performed better on the validation set than on the training set at the beginning of training. But that's not the case: indeed, the validation error is computed at the *end* of each epoch, while the training error is computed using a running mean *during* each epoch. So the training curve should be shifted by half an epoch to the left. If you do that, you will see the that the training and validations curve overlap almost perfectly at the beginning of training.\n",
    "\n",
    "**When plotting the training curve, it should be shifted by half an epoch to the left.**"
   ]
  },
  {
   "cell_type": "code",
   "execution_count": 217,
   "id": "a578895e-708d-41cb-89b9-4a529198aeb1",
   "metadata": {
    "tags": []
   },
   "outputs": [
    {
     "name": "stdout",
     "output_type": "stream",
     "text": [
      "Epoch 1/30\n",
      "1719/1719 [==============================] - 10s 6ms/step - loss: 0.7138 - accuracy: 0.7617 - val_loss: 0.4749 - val_accuracy: 0.8376\n",
      "Epoch 2/30\n",
      "1719/1719 [==============================] - 10s 6ms/step - loss: 0.4608 - accuracy: 0.8372 - val_loss: 0.4273 - val_accuracy: 0.8528\n",
      "Epoch 3/30\n",
      "1719/1719 [==============================] - 10s 6ms/step - loss: 0.4099 - accuracy: 0.8545 - val_loss: 0.4109 - val_accuracy: 0.8540\n",
      "Epoch 4/30\n",
      "1719/1719 [==============================] - 10s 6ms/step - loss: 0.3790 - accuracy: 0.8657 - val_loss: 0.3559 - val_accuracy: 0.8748\n",
      "Epoch 5/30\n",
      "1719/1719 [==============================] - 10s 6ms/step - loss: 0.3565 - accuracy: 0.8707 - val_loss: 0.3576 - val_accuracy: 0.8706\n",
      "Epoch 6/30\n",
      "1719/1719 [==============================] - 10s 6ms/step - loss: 0.3379 - accuracy: 0.8763 - val_loss: 0.3642 - val_accuracy: 0.8662\n",
      "Epoch 7/30\n",
      "1719/1719 [==============================] - 10s 6ms/step - loss: 0.3239 - accuracy: 0.8808 - val_loss: 0.3380 - val_accuracy: 0.8784\n",
      "Epoch 8/30\n",
      "1719/1719 [==============================] - 9s 6ms/step - loss: 0.3117 - accuracy: 0.8869 - val_loss: 0.3377 - val_accuracy: 0.8764\n",
      "Epoch 9/30\n",
      "1719/1719 [==============================] - 10s 6ms/step - loss: 0.2981 - accuracy: 0.8909 - val_loss: 0.3246 - val_accuracy: 0.8826\n",
      "Epoch 10/30\n",
      "1719/1719 [==============================] - 10s 6ms/step - loss: 0.2889 - accuracy: 0.8945 - val_loss: 0.3478 - val_accuracy: 0.8702\n",
      "Epoch 11/30\n",
      "1719/1719 [==============================] - 10s 6ms/step - loss: 0.2780 - accuracy: 0.8980 - val_loss: 0.3161 - val_accuracy: 0.8868\n",
      "Epoch 12/30\n",
      "1719/1719 [==============================] - 10s 6ms/step - loss: 0.2700 - accuracy: 0.9011 - val_loss: 0.3122 - val_accuracy: 0.8872\n",
      "Epoch 13/30\n",
      "1719/1719 [==============================] - 9s 6ms/step - loss: 0.2624 - accuracy: 0.9041 - val_loss: 0.3174 - val_accuracy: 0.8834\n",
      "Epoch 14/30\n",
      "1719/1719 [==============================] - 10s 6ms/step - loss: 0.2514 - accuracy: 0.9071 - val_loss: 0.3147 - val_accuracy: 0.8866\n",
      "Epoch 15/30\n",
      "1719/1719 [==============================] - 10s 6ms/step - loss: 0.2446 - accuracy: 0.9100 - val_loss: 0.3158 - val_accuracy: 0.8824\n",
      "Epoch 16/30\n",
      "1719/1719 [==============================] - 10s 6ms/step - loss: 0.2372 - accuracy: 0.9124 - val_loss: 0.3233 - val_accuracy: 0.8788\n",
      "Epoch 17/30\n",
      "1719/1719 [==============================] - 10s 6ms/step - loss: 0.2299 - accuracy: 0.9154 - val_loss: 0.2919 - val_accuracy: 0.8996\n",
      "Epoch 18/30\n",
      "1719/1719 [==============================] - 10s 6ms/step - loss: 0.2226 - accuracy: 0.9189 - val_loss: 0.2863 - val_accuracy: 0.8962\n",
      "Epoch 19/30\n",
      "1719/1719 [==============================] - 11s 6ms/step - loss: 0.2178 - accuracy: 0.9199 - val_loss: 0.2921 - val_accuracy: 0.8948\n",
      "Epoch 20/30\n",
      "1719/1719 [==============================] - 10s 6ms/step - loss: 0.2097 - accuracy: 0.9233 - val_loss: 0.2981 - val_accuracy: 0.8904\n",
      "Epoch 21/30\n",
      "1719/1719 [==============================] - 10s 6ms/step - loss: 0.2042 - accuracy: 0.9239 - val_loss: 0.3028 - val_accuracy: 0.8928\n",
      "Epoch 22/30\n",
      "1719/1719 [==============================] - 10s 6ms/step - loss: 0.1991 - accuracy: 0.9260 - val_loss: 0.2949 - val_accuracy: 0.8942\n",
      "Epoch 23/30\n",
      "1719/1719 [==============================] - 10s 6ms/step - loss: 0.1926 - accuracy: 0.9296 - val_loss: 0.2936 - val_accuracy: 0.8928\n",
      "Epoch 24/30\n",
      "1719/1719 [==============================] - 10s 6ms/step - loss: 0.1877 - accuracy: 0.9314 - val_loss: 0.2908 - val_accuracy: 0.8950\n",
      "Epoch 25/30\n",
      "1719/1719 [==============================] - 10s 6ms/step - loss: 0.1804 - accuracy: 0.9342 - val_loss: 0.3117 - val_accuracy: 0.8886\n",
      "Epoch 26/30\n",
      "1719/1719 [==============================] - 10s 6ms/step - loss: 0.1761 - accuracy: 0.9352 - val_loss: 0.3133 - val_accuracy: 0.8906\n",
      "Epoch 27/30\n",
      "1719/1719 [==============================] - 10s 6ms/step - loss: 0.1711 - accuracy: 0.9370 - val_loss: 0.2956 - val_accuracy: 0.8934\n",
      "Epoch 28/30\n",
      "1719/1719 [==============================] - 10s 6ms/step - loss: 0.1657 - accuracy: 0.9389 - val_loss: 0.2970 - val_accuracy: 0.8974\n",
      "Epoch 29/30\n",
      "1719/1719 [==============================] - 10s 6ms/step - loss: 0.1609 - accuracy: 0.9409 - val_loss: 0.4269 - val_accuracy: 0.8628\n",
      "Epoch 30/30\n",
      "1719/1719 [==============================] - 10s 6ms/step - loss: 0.1575 - accuracy: 0.9412 - val_loss: 0.2928 - val_accuracy: 0.9006\n"
     ]
    }
   ],
   "source": [
    "history = model.fit(\n",
    "    X_train,\n",
    "    y_train,\n",
    "    epochs=30,\n",
    "    validation_data=(X_valid, y_valid)\n",
    ")"
   ]
  },
  {
   "cell_type": "code",
   "execution_count": 218,
   "id": "a549fd8e-cf03-424b-8523-9e45468686d3",
   "metadata": {
    "tags": []
   },
   "outputs": [
    {
     "data": {
      "text/plain": [
       "<Axes: >"
      ]
     },
     "execution_count": 218,
     "metadata": {},
     "output_type": "execute_result"
    },
    {
     "data": {
      "image/png": "[encoded data removed]",
      "text/plain": [
       "<Figure size 640x480 with 1 Axes>"
      ]
     },
     "metadata": {},
     "output_type": "display_data"
    }
   ],
   "source": [
    "# Create DataFrame from model history\n",
    "learning_curves = pd.DataFrame.from_dict(history.history, orient='columns')\n",
    "\n",
    "# Shift training loss back by 1 epoch for betting alignment (this is shifted left by 0.5 epochs becuase the training loss is a rolling mean during the epoch)\n",
    "learning_curves.loc[:, 'loss'] = learning_curves.loc[:, 'loss'].shift(-1)\n",
    "\n",
    "# Plot\n",
    "learning_curves.plot(ylim=(0,1), grid=True)"
   ]
  },
  {
   "cell_type": "markdown",
   "id": "d44463a0-a3da-40c3-8959-282e301ac00c",
   "metadata": {},
   "source": [
    "The training set performance ends up beating the validation performance, as is generally the case when you train for long enough. **You can tell that the model has not quite converged yet, as the validation loss is still going down, so you should probably continue trianing.** It's as simple as calling the fit() method again, since Keras just continues training where you left off.\n",
    "\n",
    "If you are not satisfied with the performance of your model, you should go back and tune the hyperparameters. The first one to check is the learning rate. If that doesn't help, try another optimizer (and always return the learning rate after changing any hyperparameter). If the performance is still not great, then try tuning the model hyperparameters such as the number of layers, the number of neurons per layer, and the types of activation functions to use for each hidden layer. You can also try tuning other hyperparameters, such as the batch size.  \n",
    "\n",
    "Once you are satisfied with your model's validation accuracy, you should evaluate it on the test set to estimate the generalization error before you deploy the model to production. You can easily do this by using the evaluate() method. It is common to get slightly lower performance on the test set than the validation set, because the hyperparameters are tuned on the validation set, not the test set."
   ]
  },
  {
   "cell_type": "code",
   "execution_count": 228,
   "id": "0cb1f3ec-82f3-440c-921d-43b79d74f00f",
   "metadata": {
    "tags": []
   },
   "outputs": [
    {
     "name": "stdout",
     "output_type": "stream",
     "text": [
      "313/313 [==============================] - 1s 4ms/step - loss: 62.7664 - accuracy: 0.8324\n"
     ]
    },
    {
     "data": {
      "text/plain": [
       "[62.76642990112305, 0.8324000239372253]"
      ]
     },
     "execution_count": 228,
     "metadata": {},
     "output_type": "execute_result"
    }
   ],
   "source": [
    "model.evaluate(X_test, y_test)"
   ]
  },
  {
   "cell_type": "markdown",
   "id": "d16c5c23-c9ec-4d4b-8de3-3bc4a25072a9",
   "metadata": {},
   "source": [
    "### Using the model to make predictions"
   ]
  },
  {
   "cell_type": "markdown",
   "id": "4a0c3df9-1540-47c2-a3f2-17b3409cc2f6",
   "metadata": {},
   "source": [
    "Next, we can use the model's predict() method to make predictions on new instances. If you only care about the class with the highest estimated probability (even if that probability is quite low), then you can use the predict_classes() method instead."
   ]
  },
  {
   "cell_type": "code",
   "execution_count": 233,
   "id": "3f1fe7b1-1a9b-4a3b-818a-e6f5b2077160",
   "metadata": {
    "tags": []
   },
   "outputs": [
    {
     "data": {
      "text/plain": [
       "array([[0., 0., 0., 0., 0., 0., 0., 0., 0., 1.],\n",
       "       [0., 0., 1., 0., 0., 0., 0., 0., 0., 0.],\n",
       "       [0., 1., 0., 0., 0., 0., 0., 0., 0., 0.]], dtype=float32)"
      ]
     },
     "execution_count": 233,
     "metadata": {},
     "output_type": "execute_result"
    }
   ],
   "source": [
    "X_new = X_test[:3]\n",
    "y_proba = model.predict(X_new)\n",
    "y_proba.round(2)"
   ]
  },
  {
   "cell_type": "code",
   "execution_count": 237,
   "id": "eced6416-8f8e-4195-a6b6-81691419097d",
   "metadata": {
    "tags": []
   },
   "outputs": [
    {
     "data": {
      "text/plain": [
       "(array([9, 2, 1], dtype=int64),\n",
       " array(['Ankle Boot', 'Pullover', 'Trouser'], dtype='<U11'),\n",
       " array([9, 2, 1], dtype=uint8))"
      ]
     },
     "execution_count": 237,
     "metadata": {},
     "output_type": "execute_result"
    }
   ],
   "source": [
    "y_pred = np.argmax(y_proba, axis=1)\n",
    "y_pred, np.array(class_names)[y_pred], y_test[:3]"
   ]
  },
  {
   "cell_type": "markdown",
   "id": "c43c3179-eff8-4326-9b9c-67c5ab5b2271",
   "metadata": {},
   "source": [
    "## Building a Regression MLP Using the Sequential API"
   ]
  },
  {
   "cell_type": "code",
   "execution_count": 244,
   "id": "f7d3a1ec-3cfb-449f-aa2f-9b64e81c8a27",
   "metadata": {
    "tags": []
   },
   "outputs": [
    {
     "name": "stdout",
     "output_type": "stream",
     "text": [
      "Epoch 1/20\n",
      "363/363 [==============================] - 1s 1ms/step - loss: 0.8523 - val_loss: 0.6023\n",
      "Epoch 2/20\n",
      "363/363 [==============================] - 0s 1ms/step - loss: 0.5192 - val_loss: 0.4936\n",
      "Epoch 3/20\n",
      "363/363 [==============================] - 0s 1ms/step - loss: 0.4728 - val_loss: 0.4767\n",
      "Epoch 4/20\n",
      "363/363 [==============================] - 0s 1ms/step - loss: 0.4565 - val_loss: 0.4575\n",
      "Epoch 5/20\n",
      "363/363 [==============================] - 0s 1ms/step - loss: 0.4449 - val_loss: 0.4447\n",
      "Epoch 6/20\n",
      "363/363 [==============================] - 0s 1ms/step - loss: 0.4323 - val_loss: 0.4495\n",
      "Epoch 7/20\n",
      "363/363 [==============================] - 1s 1ms/step - loss: 0.4831 - val_loss: 0.4397\n",
      "Epoch 8/20\n",
      "363/363 [==============================] - 0s 1ms/step - loss: 0.4269 - val_loss: 0.4501\n",
      "Epoch 9/20\n",
      "363/363 [==============================] - 0s 1ms/step - loss: 0.4272 - val_loss: 0.4243\n",
      "Epoch 10/20\n",
      "363/363 [==============================] - 0s 1ms/step - loss: 0.4151 - val_loss: 0.4222\n",
      "Epoch 11/20\n",
      "363/363 [==============================] - 0s 1ms/step - loss: 0.4105 - val_loss: 0.4102\n",
      "Epoch 12/20\n",
      "363/363 [==============================] - 0s 1ms/step - loss: 0.4023 - val_loss: 0.4051\n",
      "Epoch 13/20\n",
      "363/363 [==============================] - 0s 1ms/step - loss: 0.3988 - val_loss: 0.4002\n",
      "Epoch 14/20\n",
      "363/363 [==============================] - 0s 1ms/step - loss: 0.3937 - val_loss: 0.3954\n",
      "Epoch 15/20\n",
      "363/363 [==============================] - 0s 1ms/step - loss: 0.3872 - val_loss: 0.4024\n",
      "Epoch 16/20\n",
      "363/363 [==============================] - 0s 1ms/step - loss: 0.3859 - val_loss: 0.4033\n",
      "Epoch 17/20\n",
      "363/363 [==============================] - 0s 1ms/step - loss: 0.3817 - val_loss: 0.3901\n",
      "Epoch 18/20\n",
      "363/363 [==============================] - 0s 1ms/step - loss: 0.3789 - val_loss: 0.3883\n",
      "Epoch 19/20\n",
      "363/363 [==============================] - 1s 1ms/step - loss: 0.3750 - val_loss: 0.3861\n",
      "Epoch 20/20\n",
      "363/363 [==============================] - 0s 1ms/step - loss: 0.3736 - val_loss: 0.3893\n",
      "162/162 [==============================] - 0s 904us/step - loss: 0.3744\n"
     ]
    }
   ],
   "source": [
    "' Lets switch to the California housing problem and tackle it using a regression neural network'\n",
    "from sklearn.datasets import fetch_california_housing\n",
    "from sklearn.model_selection import train_test_split\n",
    "from sklearn.preprocessing import StandardScaler\n",
    "\n",
    "# Load the raw data\n",
    "housing = fetch_california_housing()\n",
    "\n",
    "# Split data in train, val and test sets\n",
    "X_train_full, X_test, y_train_full, y_test = train_test_split(\n",
    "    housing.data,\n",
    "    housing.target\n",
    ")\n",
    "\n",
    "X_train, X_valid, y_train, y_valid = train_test_split(\n",
    "    X_train_full,\n",
    "    y_train_full\n",
    ")\n",
    "\n",
    "# Scale the data. Remember, only fit the scaler to the train data.  Transform the val and test data according to this fit.\n",
    "scaler = StandardScaler()\n",
    "X_train = scaler.fit_transform(X_train)\n",
    "X_valid = scaler.transform(X_valid)\n",
    "X_test = scaler.transform(X_test)\n",
    "\n",
    "# Construct the TF model\n",
    "model = keras.models.Sequential([\n",
    "    keras.layers.Dense(30, activation='relu', input_shape=X_train.shape[1:]),\n",
    "    keras.layers.Dense(1)\n",
    "])\n",
    "model.compile(\n",
    "    loss='mean_squared_error',\n",
    "    optimizer=keras.optimizers.SGD(learning_rate=0.01)\n",
    ")\n",
    "history = model.fit(\n",
    "    X_train,\n",
    "    y_train,\n",
    "    epochs=20,\n",
    "    validation_data=(X_valid, y_valid)\n",
    ")\n",
    "\n",
    "# Evaluate performance on the test set\n",
    "mse_test = model.evaluate(X_test, y_test)\n",
    "\n",
    "# Make predictions\n",
    "X_new = X_test[:3] # Pretend these are new instances\n",
    "y_pred = model.predict(X_new)"
   ]
  },
  {
   "cell_type": "code",
   "execution_count": 354,
   "id": "d2b42c19-e8fd-4dd1-98f3-c0890ddfbbd1",
   "metadata": {
    "tags": []
   },
   "outputs": [
    {
     "data": {
      "text/plain": [
       "(0.37440621852874756,\n",
       " array([[1.6933646],\n",
       "        [1.6310713],\n",
       "        [2.6947432]], dtype=float32),\n",
       " array([1.394, 0.844, 2.209]))"
      ]
     },
     "execution_count": 354,
     "metadata": {},
     "output_type": "execute_result"
    }
   ],
   "source": [
    "mse_test, y_pred, y_test[:3]"
   ]
  },
  {
   "cell_type": "code",
   "execution_count": 357,
   "id": "ce1ca00c-961f-4e65-b68b-fdab06130e87",
   "metadata": {
    "tags": []
   },
   "outputs": [
    {
     "data": {
      "text/plain": [
       "array([708108.86415547, 696313.63961629, 897719.7271625 ])"
      ]
     },
     "execution_count": 357,
     "metadata": {},
     "output_type": "execute_result"
    }
   ],
   "source": [
    "scaler.inverse_transform(np.concatenate((y_pred, np.zeros((y_pred.shape[0], 7))), axis=1))[:, 0] * 1e5"
   ]
  },
  {
   "cell_type": "code",
   "execution_count": 359,
   "id": "8d733c74-bb03-4494-8daa-a879e445e83f",
   "metadata": {
    "tags": []
   },
   "outputs": [
    {
     "data": {
      "text/plain": [
       "array([651424.2219965 , 547281.8114281 , 805744.33947514])"
      ]
     },
     "execution_count": 359,
     "metadata": {},
     "output_type": "execute_result"
    }
   ],
   "source": [
    "scaler.inverse_transform(np.concatenate((y_test[:3].reshape(-1, 1), np.zeros((y_test[:3].shape[0], 7))), axis=1))[:, 0] * 1e5"
   ]
  },
  {
   "cell_type": "markdown",
   "id": "a7d91354-2dfc-4dcf-bdf9-80e882ed512a",
   "metadata": {},
   "source": [
    "## Building Complex Models Using the Functional API"
   ]
  },
  {
   "cell_type": "markdown",
   "id": "bf06c060-340b-4d0d-92f4-3ea291f528db",
   "metadata": {},
   "source": [
    "One example of a nonsequential neural network is a *Wide & Deep* neural network. It connects all or part of the inputs directly to the output layer. **This architecture makes it possible for the neural network to learn both deep patterns (using the deep path) and simple rules (through the short path).** In contrast, a regular MLP forces all the data to flow through the full stack of layers; thus, simple patterns in the data may end up being distorted by the sequence of transformations. Let's build such a neural network to tackle the California housing problem."
   ]
  },
  {
   "cell_type": "code",
   "execution_count": 362,
   "id": "64cfdf1a-4691-425c-906a-109d934d01b8",
   "metadata": {
    "tags": []
   },
   "outputs": [],
   "source": [
    "input_ = keras.layers.Input(shape=X_train.shape[1:])\n",
    "hidden1 = keras.layers.Dense(30, activation='relu')(input_)\n",
    "hidden2 = keras.layers.Dense(30, activation='relu')(hidden1)\n",
    "concat = keras.layers.Concatenate()([input_, hidden2])\n",
    "output = keras.layers.Dense(1)(concat)\n",
    "model = keras.Model(inputs=[input_], outputs=[output])"
   ]
  },
  {
   "cell_type": "markdown",
   "id": "5913572c-1adb-4c13-8b56-1d0021223396",
   "metadata": {},
   "source": [
    "Let's go through each line of this code:\n",
    "1. First, we need to create an Input object. This is a specification of the kind of input the model will get, including its shape and dtype. A model may actually have multiple inputs, as we will see shortly.\n",
    "2. Next, we create a Dense layer with 30 neurons, using the ReLU activation function. **As soon as it is created, notice that we call it like a function, passing it the input.** This is why this is called the Functional API. **Note that we are just telling Keras how it should connect the layers together**, no actual data is being processed yet. \n",
    "3. We then create a second hidden layer, and again we use it as a function. **Note that we pass it the output of the first hidden layer.**\n",
    "4. Next, we create a Concatenate layer, and once again we immediately use it like a function, to concatenate the input and the output of the second hidden layer. You may prefer the keras.layers.concatenate() function, which creates a Concatenate layer and immeidately calls it with the given inputs.\n",
    "5. Then we create the output layer, with a single neuron and no activiation function, and we call it like a function, passing it the result of the concatenation.\n",
    "6. Lastly, we create a Keras Model, specifying which inputs and outputs to use.\n",
    "\n",
    "But what if you want to send a subset of the features through the wide path and a different subset (possibly overlapping) through the deep path? In this case, one solution is to use multiple inputs. In this case, when we call the fit() method, instead of passing a single input matrix X_train, we must pass a pair of matrices (X_train_A, X_train_B): one per input. Alternatively, you can pass a dictionary mapping the input names to the input values, like {'wide_input': X_train_A, 'deep_input': X_train_B}. This is especially useful when there are many inputs, to avoid getting the order wrong."
   ]
  },
  {
   "cell_type": "code",
   "execution_count": 372,
   "id": "01213a2c-b7a1-4908-9583-ff519a436535",
   "metadata": {
    "tags": []
   },
   "outputs": [
    {
     "name": "stdout",
     "output_type": "stream",
     "text": [
      "Epoch 1/20\n",
      "363/363 [==============================] - 1s 1ms/step - loss: 1.8511 - val_loss: 0.9101\n",
      "Epoch 2/20\n",
      "363/363 [==============================] - 0s 1ms/step - loss: 0.7772 - val_loss: 0.7231\n",
      "Epoch 3/20\n",
      "363/363 [==============================] - 0s 1ms/step - loss: 0.6645 - val_loss: 0.6482\n",
      "Epoch 4/20\n",
      "363/363 [==============================] - 0s 1ms/step - loss: 0.6080 - val_loss: 0.6038\n",
      "Epoch 5/20\n",
      "363/363 [==============================] - 0s 1ms/step - loss: 0.5734 - val_loss: 0.5760\n",
      "Epoch 6/20\n",
      "363/363 [==============================] - 0s 1ms/step - loss: 0.5513 - val_loss: 0.5558\n",
      "Epoch 7/20\n",
      "363/363 [==============================] - 0s 1ms/step - loss: 0.5344 - val_loss: 0.5409\n",
      "Epoch 8/20\n",
      "363/363 [==============================] - 0s 1ms/step - loss: 0.5219 - val_loss: 0.5338\n",
      "Epoch 9/20\n",
      "363/363 [==============================] - 0s 1ms/step - loss: 0.5130 - val_loss: 0.5200\n",
      "Epoch 10/20\n",
      "363/363 [==============================] - 0s 1ms/step - loss: 0.5061 - val_loss: 0.5132\n",
      "Epoch 11/20\n",
      "363/363 [==============================] - 0s 1ms/step - loss: 0.4999 - val_loss: 0.5073\n",
      "Epoch 12/20\n",
      "363/363 [==============================] - 0s 1ms/step - loss: 0.4951 - val_loss: 0.5031\n",
      "Epoch 13/20\n",
      "363/363 [==============================] - 0s 1ms/step - loss: 0.4913 - val_loss: 0.4976\n",
      "Epoch 14/20\n",
      "363/363 [==============================] - 0s 1ms/step - loss: 0.4880 - val_loss: 0.4954\n",
      "Epoch 15/20\n",
      "363/363 [==============================] - 0s 1ms/step - loss: 0.4837 - val_loss: 0.4913\n",
      "Epoch 16/20\n",
      "363/363 [==============================] - 0s 1ms/step - loss: 0.4806 - val_loss: 0.4867\n",
      "Epoch 17/20\n",
      "363/363 [==============================] - 0s 1ms/step - loss: 0.4781 - val_loss: 0.4836\n",
      "Epoch 18/20\n",
      "363/363 [==============================] - 0s 1ms/step - loss: 0.4768 - val_loss: 0.4803\n",
      "Epoch 19/20\n",
      "363/363 [==============================] - 0s 1ms/step - loss: 0.4727 - val_loss: 0.4774\n",
      "Epoch 20/20\n",
      "363/363 [==============================] - 0s 1ms/step - loss: 0.4716 - val_loss: 0.4750\n",
      "162/162 [==============================] - 0s 810us/step - loss: 0.4722\n"
     ]
    },
    {
     "data": {
      "text/plain": [
       "(0.4722248911857605,\n",
       " array([[2.0295992],\n",
       "        [1.4974513],\n",
       "        [2.7036755]], dtype=float32))"
      ]
     },
     "execution_count": 372,
     "metadata": {},
     "output_type": "execute_result"
    }
   ],
   "source": [
    "input_A = keras.layers.Input(shape=[5], name='wide_input')\n",
    "input_B = keras.layers.Input(shape=[6], name='deep_input')\n",
    "hidden1 = keras.layers.Dense(30, activation='relu')(input_B)\n",
    "hidden2 = keras.layers.Dense(30, activation='relu')(hidden1)\n",
    "concat = keras.layers.Concatenate()([input_A, hidden2])\n",
    "output = keras.layers.Dense(1, name='output')(concat)\n",
    "model = keras.Model(inputs=[input_A, input_B], outputs=[output])\n",
    "\n",
    "model.compile(\n",
    "    loss='mse',\n",
    "    optimizer=keras.optimizers.SGD(learning_rate=1e-3)\n",
    ")\n",
    "\n",
    "X_train_A, X_train_B = X_train[:, :5], X_train[:, 2:]\n",
    "X_valid_A, X_valid_B = X_valid[:, :5], X_valid[:, 2:]\n",
    "X_test_A, X_test_B = X_test[:, :5], X_test[:, 2:]\n",
    "X_new_A, X_new_B = X_test_A[:3], X_test_B[:3]\n",
    "\n",
    "history = model.fit(\n",
    "    (X_train_A, X_train_B),\n",
    "    y_train,\n",
    "    epochs=20,\n",
    "    validation_data=((X_valid_A, X_valid_B), y_valid)\n",
    ")\n",
    "\n",
    "mse_test = model.evaluate((X_test_A, X_test_B), y_test)\n",
    "y_pred = model.predict((X_new_A, X_new_B))\n",
    "\n",
    "mse_test, y_pred"
   ]
  },
  {
   "cell_type": "markdown",
   "id": "b35c291d-d8d8-4d29-9900-c9e11a5b1bbe",
   "metadata": {},
   "source": [
    "There are many use cases in which you may want to have multiple outputs:\n",
    "1. The task may demand it. For instance, you may want to locate and classify the main object in a picture. This is both a regression task (finding the coordinates of the object's center, as well as its width and height) and a classification task.\n",
    "2. Similarly, you may have multiple independent tasks based on the same data. **Sure, you could train one neural network per task, but in many cases you will get better results on all tasks by training a single neural network with one output per task. This is because the neural network can learn features in the data that are usefull across tasks.** For example, you could perform *multitask classification* on pictures of faces, using one output to classify the person's facial expression (smiling, surprised, etc.) and another output to identify whether they are wearing glasses or not.\n",
    "3. Another use case is as a regularization technique (i.e. a training contraint whose objective is to reduce overfitting and thus improve the model's ability to generalize). For example, you may want to add some auxiliary outputs in a neural network architecture to ensure that hte underlying part of the newtwork learns something useful on its own, without relying on the rest of the network.\n",
    "\n",
    "Adding extra outputs is quite easy: just connect them to the appropriate layers and add them to your model's list of outputs. Each output will need its own loss function. Therefore, when we compile the model, we should pass a list of losses. By default, Keras will compute all these losses and simply add them up to get the final loss used for training. We care much more about the main output than about the auxiliary output (as it is just used for regularization), so we want to give the main output's loss a much greater weight. Fortunately, it is possible to set all the loss weights when compiling the model. Also, now when we train the model, we need to provide labels for each output.\n",
    "\n",
    "When we evaluate the model, Keras will return the total loss, as well as the individual losses. Similarly, the predict() method will return predictions for each output."
   ]
  },
  {
   "cell_type": "code",
   "execution_count": 377,
   "id": "f224921c-7981-4150-ad2c-baeb50d9281b",
   "metadata": {
    "tags": []
   },
   "outputs": [
    {
     "name": "stdout",
     "output_type": "stream",
     "text": [
      "Epoch 1/20\n",
      "363/363 [==============================] - 1s 2ms/step - loss: 0.8863 - main_output_loss: 0.7505 - aux_output_loss: 2.1083 - val_loss: 0.6177 - val_main_output_loss: 0.5678 - val_aux_output_loss: 1.0665\n",
      "Epoch 2/20\n",
      "363/363 [==============================] - 0s 1ms/step - loss: 0.5387 - main_output_loss: 0.4987 - aux_output_loss: 0.8988 - val_loss: 0.5469 - val_main_output_loss: 0.5176 - val_aux_output_loss: 0.8104\n",
      "Epoch 3/20\n",
      "363/363 [==============================] - 0s 1ms/step - loss: 0.5775 - main_output_loss: 0.5575 - aux_output_loss: 0.7576 - val_loss: 0.4954 - val_main_output_loss: 0.4678 - val_aux_output_loss: 0.7444\n",
      "Epoch 4/20\n",
      "363/363 [==============================] - 0s 1ms/step - loss: 0.4833 - main_output_loss: 0.4604 - aux_output_loss: 0.6898 - val_loss: 0.4643 - val_main_output_loss: 0.4394 - val_aux_output_loss: 0.6886\n",
      "Epoch 5/20\n",
      "363/363 [==============================] - 0s 1ms/step - loss: 0.4621 - main_output_loss: 0.4411 - aux_output_loss: 0.6509 - val_loss: 0.4506 - val_main_output_loss: 0.4277 - val_aux_output_loss: 0.6573\n",
      "Epoch 6/20\n",
      "363/363 [==============================] - 0s 1ms/step - loss: 0.4365 - main_output_loss: 0.4170 - aux_output_loss: 0.6121 - val_loss: 0.4589 - val_main_output_loss: 0.4413 - val_aux_output_loss: 0.6174\n",
      "Epoch 7/20\n",
      "363/363 [==============================] - 0s 1ms/step - loss: 0.4866 - main_output_loss: 0.4666 - aux_output_loss: 0.6667 - val_loss: 0.4815 - val_main_output_loss: 0.4508 - val_aux_output_loss: 0.7584\n",
      "Epoch 8/20\n",
      "363/363 [==============================] - 0s 1ms/step - loss: 0.4298 - main_output_loss: 0.4112 - aux_output_loss: 0.5968 - val_loss: 0.4342 - val_main_output_loss: 0.4188 - val_aux_output_loss: 0.5727\n",
      "Epoch 9/20\n",
      "363/363 [==============================] - 1s 1ms/step - loss: 0.4030 - main_output_loss: 0.3873 - aux_output_loss: 0.5445 - val_loss: 0.4248 - val_main_output_loss: 0.4096 - val_aux_output_loss: 0.5618\n",
      "Epoch 10/20\n",
      "363/363 [==============================] - 0s 1ms/step - loss: 0.3965 - main_output_loss: 0.3818 - aux_output_loss: 0.5288 - val_loss: 0.4003 - val_main_output_loss: 0.3828 - val_aux_output_loss: 0.5579\n",
      "Epoch 11/20\n",
      "363/363 [==============================] - 1s 1ms/step - loss: 0.3816 - main_output_loss: 0.3668 - aux_output_loss: 0.5151 - val_loss: 0.4103 - val_main_output_loss: 0.3926 - val_aux_output_loss: 0.5699\n",
      "Epoch 12/20\n",
      "363/363 [==============================] - 1s 1ms/step - loss: 0.3764 - main_output_loss: 0.3622 - aux_output_loss: 0.5050 - val_loss: 0.3812 - val_main_output_loss: 0.3659 - val_aux_output_loss: 0.5189\n",
      "Epoch 13/20\n",
      "363/363 [==============================] - 0s 1ms/step - loss: 0.3679 - main_output_loss: 0.3541 - aux_output_loss: 0.4923 - val_loss: 0.4045 - val_main_output_loss: 0.3902 - val_aux_output_loss: 0.5333\n",
      "Epoch 14/20\n",
      "363/363 [==============================] - 0s 1ms/step - loss: 0.3655 - main_output_loss: 0.3524 - aux_output_loss: 0.4838 - val_loss: 0.3646 - val_main_output_loss: 0.3504 - val_aux_output_loss: 0.4925\n",
      "Epoch 15/20\n",
      "363/363 [==============================] - 0s 1ms/step - loss: 0.3605 - main_output_loss: 0.3478 - aux_output_loss: 0.4751 - val_loss: 0.3651 - val_main_output_loss: 0.3506 - val_aux_output_loss: 0.4957\n",
      "Epoch 16/20\n",
      "363/363 [==============================] - 0s 1ms/step - loss: 0.3585 - main_output_loss: 0.3463 - aux_output_loss: 0.4675 - val_loss: 0.3768 - val_main_output_loss: 0.3627 - val_aux_output_loss: 0.5036\n",
      "Epoch 17/20\n",
      "363/363 [==============================] - 0s 1ms/step - loss: 0.3561 - main_output_loss: 0.3441 - aux_output_loss: 0.4639 - val_loss: 0.3634 - val_main_output_loss: 0.3509 - val_aux_output_loss: 0.4755\n",
      "Epoch 18/20\n",
      "363/363 [==============================] - 0s 1ms/step - loss: 0.3527 - main_output_loss: 0.3411 - aux_output_loss: 0.4571 - val_loss: 0.3877 - val_main_output_loss: 0.3760 - val_aux_output_loss: 0.4931\n",
      "Epoch 19/20\n",
      "363/363 [==============================] - 0s 1ms/step - loss: 0.3571 - main_output_loss: 0.3460 - aux_output_loss: 0.4568 - val_loss: 0.3544 - val_main_output_loss: 0.3421 - val_aux_output_loss: 0.4649\n",
      "Epoch 20/20\n",
      "363/363 [==============================] - 0s 1ms/step - loss: 0.3509 - main_output_loss: 0.3398 - aux_output_loss: 0.4514 - val_loss: 0.3578 - val_main_output_loss: 0.3452 - val_aux_output_loss: 0.4709\n",
      "162/162 [==============================] - 0s 915us/step - loss: 0.3747 - main_output_loss: 0.3627 - aux_output_loss: 0.4826\n"
     ]
    },
    {
     "data": {
      "text/plain": [
       "(0.3746812343597412,\n",
       " 0.36269134283065796,\n",
       " 0.4825904667377472,\n",
       " array([[1.5375495],\n",
       "        [1.0377332],\n",
       "        [2.485611 ]], dtype=float32),\n",
       " array([[1.5604802],\n",
       "        [1.1815712],\n",
       "        [2.4568267]], dtype=float32))"
      ]
     },
     "execution_count": 377,
     "metadata": {},
     "output_type": "execute_result"
    }
   ],
   "source": [
    "input_A = keras.layers.Input(shape=[5], name='wide_input')\n",
    "input_B = keras.layers.Input(shape=[6], name='deep_input')\n",
    "hidden1 = keras.layers.Dense(30, activation='relu')(input_B)\n",
    "hidden2 = keras.layers.Dense(30, activation='relu')(hidden1)\n",
    "concat = keras.layers.Concatenate()([input_A, hidden2])\n",
    "output = keras.layers.Dense(1, name='main_output')(concat)\n",
    "aux_output = keras.layers.Dense(1, name='aux_output')(hidden2)\n",
    "model = keras.Model(inputs=[input_A, input_B], outputs=[output, aux_output])\n",
    "\n",
    "model.compile(\n",
    "    loss=['mse', 'mse'],\n",
    "    loss_weights=[0.9, 0.1],\n",
    "    optimizer=keras.optimizers.SGD(learning_rate=0.02)\n",
    ")\n",
    "\n",
    "history = model.fit(\n",
    "    [X_train_A, X_train_B],\n",
    "    [y_train, y_train],\n",
    "    epochs=20,\n",
    "    validation_data=([X_valid_A, X_valid_B], [y_valid, y_valid])\n",
    ")\n",
    "\n",
    "total_loss, main_loss, aux_loss = model.evaluate(\n",
    "    [X_test_A, X_test_B],\n",
    "    [y_test, y_test]\n",
    ")\n",
    "\n",
    "y_pred_main, y_pred_aux = model.predict(\n",
    "    [X_test_A[:3], X_test_B[:3]]\n",
    ")\n",
    "\n",
    "total_loss, main_loss, aux_loss, y_pred_main, y_pred_aux"
   ]
  },
  {
   "cell_type": "markdown",
   "id": "e4d257b2-1ba4-4b9e-92d3-c32e5a685d77",
   "metadata": {},
   "source": [
    "## Using the Subclassing API to Build Dynamic Models"
   ]
  },
  {
   "cell_type": "markdown",
   "id": "5f040844-cd38-48b6-9c40-398084febfbc",
   "metadata": {},
   "source": [
    "Both the Sequential API and the Functional API are declarative: you start by declaring which layers you want to use and how they should be connected, and only then can you start feeding the model some data for training or inference. This has many advantages:\n",
    "1. The model can easily be saved, cloned and shared\n",
    "2. Its structure can be displayed and analyzed; the framework can infer shapes and check types, so errors can be caught early.\n",
    "3. It's fairly easy to debug, since the whole model is a static graph of layers.\n",
    "\n",
    "But the flip side is just that: it's static. Some models involve loops, varying shapes, conditional branching, and other dynamic behaviors. For such cases, or simply if you prefer a more imperative programming style, the Subclassing API is for you.\n",
    "\n",
    "Simply subclass the Model class, create the layers you need in the constructor, and use them to perform the computations you want in the call() method. For example, creating an instance of the following WideAndDeepModel class gives us an equivalent model to the one we just built with the Functional API. The big difference is that you can do pretty much anything you want in the call() method: for loops, if statements, low-level TensorFlow operations, etc. This makes it a great API for researchers experimenting with new ideas.\n",
    "\n",
    "This extra flexibility does come at a cost: your model's architecture is hidden within the call() method, so Keras cannot easily inspect it; it cannot save or clone it; and when you call the summary() method, you only get a list of layers, without any information on how they are connected to each other. Moreover, Keras cannot check types and shapes ahead of time, and it is easier to make mistakes. **So unless you really need that extra flexibility, you should probably stick to the Sequential and Functional API.**"
   ]
  },
  {
   "cell_type": "code",
   "execution_count": 388,
   "id": "29d6a212-2f59-4e81-af56-dbf7a83deedd",
   "metadata": {
    "tags": []
   },
   "outputs": [],
   "source": [
    "class WideAndDeepModel(keras.Model):\n",
    "    def __init__(self, units=30, activation='relu', **kwargs):\n",
    "        super().__init__(**kwargs) # handles standard args (e.g, name)\n",
    "        self.hidden1 = keras.layers.Dense(units, activation=activation)\n",
    "        self.hidden2 = keras.layers.Dense(units, activation=activation)\n",
    "        self.main_output = keras.layers.Dense(1)\n",
    "        self.aux_output = keras.layers.Dense(1)\n",
    "        \n",
    "    def call(self, inputs: tuple):\n",
    "        input_A, input_B = inputs\n",
    "        hidden1 = self.hidden1(input_B)\n",
    "        hidden2 = self.hidden2(hidden1)\n",
    "        concat = keras.layers.concatenate([input_A, hidden2])\n",
    "        main_output = self.main_output(concat)\n",
    "        aux_output = self.aux_output(hidden2)\n",
    "        return main_output, aux_output\n",
    "    \n",
    "model = WideAndDeepModel()"
   ]
  },
  {
   "cell_type": "markdown",
   "id": "4bb15599-03f0-4b9f-9387-a9a78f88ac44",
   "metadata": {},
   "source": [
    "## Saving and Restoring a Model"
   ]
  },
  {
   "cell_type": "markdown",
   "id": "e8c2ef8e-281c-4df1-8180-4b4a5abd8460",
   "metadata": {},
   "source": [
    "Saving a trained Keras model is as simple as it gets. Keras will use the HDF5 format to save both the model's architecture (including every layer's hyperparameters) and the values of all the model parameters for every layer (e.g. connection weights and biases).. It also saves the optimizer (including its hyperparameters and any state it may have). Loading the model is just as easy.\n",
    "\n",
    "**This will work when using the Sequential API and Functional API, but unfortunately not when using model subclassing. You can use save_weights() and load_weights() to at least save and restore the model parameters, but you will need to save and restore everything else yourself**\n",
    "\n",
    "But what if training lasts several hours? This is quite common, especially when training on large datasets. In this case, you should not only save your model at the end of training, but also save checkpoints at regular intervals during the training, to avoid losing everything if your computer crashes. But how can you tell the fit() method to save checkpoints? **Use callbacks**"
   ]
  },
  {
   "cell_type": "code",
   "execution_count": 393,
   "id": "f0f24a5e-d979-4400-8db6-1e1c39c6c31a",
   "metadata": {
    "collapsed": true,
    "jupyter": {
     "outputs_hidden": true
    },
    "tags": []
   },
   "outputs": [
    {
     "name": "stdout",
     "output_type": "stream",
     "text": [
      "Epoch 1/20\n",
      "363/363 [==============================] - 1s 2ms/step - loss: 0.8638 - main_output_loss: 0.7871 - aux_output_loss: 1.5546 - val_loss: 0.5497 - val_main_output_loss: 0.5025 - val_aux_output_loss: 0.9743\n",
      "Epoch 2/20\n",
      "363/363 [==============================] - 0s 1ms/step - loss: 0.4999 - main_output_loss: 0.4649 - aux_output_loss: 0.8148 - val_loss: 0.4837 - val_main_output_loss: 0.4558 - val_aux_output_loss: 0.7341\n",
      "Epoch 3/20\n",
      "363/363 [==============================] - 0s 1ms/step - loss: 0.4581 - main_output_loss: 0.4338 - aux_output_loss: 0.6765 - val_loss: 0.4524 - val_main_output_loss: 0.4297 - val_aux_output_loss: 0.6566\n",
      "Epoch 4/20\n",
      "363/363 [==============================] - 0s 1ms/step - loss: 0.4543 - main_output_loss: 0.4346 - aux_output_loss: 0.6317 - val_loss: 0.4433 - val_main_output_loss: 0.4231 - val_aux_output_loss: 0.6248\n",
      "Epoch 5/20\n",
      "363/363 [==============================] - 0s 1ms/step - loss: 0.4327 - main_output_loss: 0.4140 - aux_output_loss: 0.6007 - val_loss: 0.4293 - val_main_output_loss: 0.4113 - val_aux_output_loss: 0.5911\n",
      "Epoch 6/20\n",
      "363/363 [==============================] - 0s 1ms/step - loss: 0.4187 - main_output_loss: 0.4013 - aux_output_loss: 0.5757 - val_loss: 0.4255 - val_main_output_loss: 0.4088 - val_aux_output_loss: 0.5762\n",
      "Epoch 7/20\n",
      "363/363 [==============================] - 0s 1ms/step - loss: 0.4089 - main_output_loss: 0.3926 - aux_output_loss: 0.5560 - val_loss: 0.4026 - val_main_output_loss: 0.3851 - val_aux_output_loss: 0.5606\n",
      "Epoch 8/20\n",
      "363/363 [==============================] - 1s 1ms/step - loss: 0.3998 - main_output_loss: 0.3843 - aux_output_loss: 0.5393 - val_loss: 0.3995 - val_main_output_loss: 0.3842 - val_aux_output_loss: 0.5371\n",
      "Epoch 9/20\n",
      "363/363 [==============================] - 0s 1ms/step - loss: 0.3875 - main_output_loss: 0.3725 - aux_output_loss: 0.5225 - val_loss: 0.3900 - val_main_output_loss: 0.3742 - val_aux_output_loss: 0.5327\n",
      "Epoch 10/20\n",
      "363/363 [==============================] - 0s 1ms/step - loss: 0.3808 - main_output_loss: 0.3666 - aux_output_loss: 0.5083 - val_loss: 0.3999 - val_main_output_loss: 0.3848 - val_aux_output_loss: 0.5358\n",
      "Epoch 11/20\n",
      "363/363 [==============================] - 0s 1ms/step - loss: 0.3752 - main_output_loss: 0.3619 - aux_output_loss: 0.4955 - val_loss: 0.3938 - val_main_output_loss: 0.3790 - val_aux_output_loss: 0.5267\n",
      "Epoch 12/20\n",
      "363/363 [==============================] - 0s 1ms/step - loss: 0.3709 - main_output_loss: 0.3581 - aux_output_loss: 0.4861 - val_loss: 0.3753 - val_main_output_loss: 0.3622 - val_aux_output_loss: 0.4933\n",
      "Epoch 13/20\n",
      "363/363 [==============================] - 1s 2ms/step - loss: 0.3673 - main_output_loss: 0.3552 - aux_output_loss: 0.4764 - val_loss: 0.3604 - val_main_output_loss: 0.3475 - val_aux_output_loss: 0.4764\n",
      "Epoch 14/20\n",
      "363/363 [==============================] - 1s 2ms/step - loss: 0.3604 - main_output_loss: 0.3487 - aux_output_loss: 0.4659 - val_loss: 0.3783 - val_main_output_loss: 0.3655 - val_aux_output_loss: 0.4939\n",
      "Epoch 15/20\n",
      "363/363 [==============================] - 0s 1ms/step - loss: 0.3703 - main_output_loss: 0.3596 - aux_output_loss: 0.4665 - val_loss: 0.3477 - val_main_output_loss: 0.3353 - val_aux_output_loss: 0.4589\n",
      "Epoch 16/20\n",
      "363/363 [==============================] - 0s 1ms/step - loss: 0.3547 - main_output_loss: 0.3438 - aux_output_loss: 0.4531 - val_loss: 0.3584 - val_main_output_loss: 0.3468 - val_aux_output_loss: 0.4621\n",
      "Epoch 17/20\n",
      "363/363 [==============================] - 1s 1ms/step - loss: 0.3557 - main_output_loss: 0.3455 - aux_output_loss: 0.4481 - val_loss: 0.4179 - val_main_output_loss: 0.4068 - val_aux_output_loss: 0.5171\n",
      "Epoch 18/20\n",
      "363/363 [==============================] - 0s 1ms/step - loss: 0.3526 - main_output_loss: 0.3425 - aux_output_loss: 0.4440 - val_loss: 0.3540 - val_main_output_loss: 0.3437 - val_aux_output_loss: 0.4473\n",
      "Epoch 19/20\n",
      "363/363 [==============================] - 0s 1ms/step - loss: 0.3469 - main_output_loss: 0.3370 - aux_output_loss: 0.4354 - val_loss: 0.4178 - val_main_output_loss: 0.4133 - val_aux_output_loss: 0.4580\n",
      "Epoch 20/20\n",
      "363/363 [==============================] - 0s 1ms/step - loss: 0.3457 - main_output_loss: 0.3363 - aux_output_loss: 0.4295 - val_loss: 0.3742 - val_main_output_loss: 0.3652 - val_aux_output_loss: 0.4556\n"
     ]
    }
   ],
   "source": [
    "input_A = keras.layers.Input(shape=[5], name='wide_input')\n",
    "input_B = keras.layers.Input(shape=[6], name='deep_input')\n",
    "hidden1 = keras.layers.Dense(30, activation='relu')(input_B)\n",
    "hidden2 = keras.layers.Dense(30, activation='relu')(hidden1)\n",
    "concat = keras.layers.Concatenate()([input_A, hidden2])\n",
    "output = keras.layers.Dense(1, name='main_output')(concat)\n",
    "aux_output = keras.layers.Dense(1, name='aux_output')(hidden2)\n",
    "model = keras.Model(inputs=[input_A, input_B], outputs=[output, aux_output])\n",
    "\n",
    "model.compile(\n",
    "    loss=['mse', 'mse'],\n",
    "    loss_weights=[0.9, 0.1],\n",
    "    optimizer=keras.optimizers.SGD(learning_rate=0.02)\n",
    ")\n",
    "\n",
    "history = model.fit(\n",
    "    [X_train_A, X_train_B],\n",
    "    [y_train, y_train],\n",
    "    epochs=20,\n",
    "    validation_data=([X_valid_A, X_valid_B], [y_valid, y_valid])\n",
    ")\n",
    "\n",
    "model.save('my_keras_model.h5')\n",
    "loaded_model = keras.models.load_model('my_keras_model.h5')"
   ]
  },
  {
   "cell_type": "code",
   "execution_count": 423,
   "id": "5fe76381-f4c6-4c6d-b88d-9a626e5d7926",
   "metadata": {
    "tags": []
   },
   "outputs": [
    {
     "data": {
      "text/plain": [
       "True"
      ]
     },
     "execution_count": 423,
     "metadata": {},
     "output_type": "execute_result"
    }
   ],
   "source": [
    "(loaded_model.get_weights()[0] == model.get_weights()[0]).all()"
   ]
  },
  {
   "cell_type": "markdown",
   "id": "c95b5868-c43e-4137-bcb2-0e0778caeb43",
   "metadata": {},
   "source": [
    "## Using Callbacks"
   ]
  },
  {
   "cell_type": "markdown",
   "id": "5724208a-4aa0-45a0-a75b-d31790d573ac",
   "metadata": {},
   "source": [
    "The fit() method accepts a *callbacks* argument that lets you specify a list of objects that Keras will call at the start and end of training, at the start and end of each epoch, and even before and after processing each batch. For example, the ModelCheckpoint callback saves checkpoints on your model at regular intervals during training, by default at the end of each epoch. **Moreover, if you use a validation set during training, you can set save_best_only=True when creating the ModelCheckpoint. In this case, it will only save your model when its performance on the validation set is the best so far. This way, you do not need to worry about training for too long and overfitting the training set: simply restore the last model saved after training, and this will be the best model on the validation set.**"
   ]
  },
  {
   "cell_type": "code",
   "execution_count": 434,
   "id": "773ec518-c363-43ec-8d01-829949b057fb",
   "metadata": {
    "tags": []
   },
   "outputs": [
    {
     "name": "stdout",
     "output_type": "stream",
     "text": [
      "Epoch 1/20\n",
      "363/363 [==============================] - 1s 2ms/step - loss: 0.7379 - main_output_loss: 0.6565 - aux_output_loss: 1.4699 - val_loss: 0.6843 - val_main_output_loss: 0.6493 - val_aux_output_loss: 0.9998\n",
      "Epoch 2/20\n",
      "363/363 [==============================] - 0s 1ms/step - loss: 0.5215 - main_output_loss: 0.4846 - aux_output_loss: 0.8538 - val_loss: 0.6326 - val_main_output_loss: 0.6110 - val_aux_output_loss: 0.8272\n",
      "Epoch 3/20\n",
      "363/363 [==============================] - 0s 1ms/step - loss: 0.4987 - main_output_loss: 0.4715 - aux_output_loss: 0.7436 - val_loss: 0.4583 - val_main_output_loss: 0.4323 - val_aux_output_loss: 0.6917\n",
      "Epoch 4/20\n",
      "363/363 [==============================] - 0s 1ms/step - loss: 0.4548 - main_output_loss: 0.4325 - aux_output_loss: 0.6548 - val_loss: 0.4411 - val_main_output_loss: 0.4204 - val_aux_output_loss: 0.6273\n",
      "Epoch 5/20\n",
      "363/363 [==============================] - 1s 1ms/step - loss: 0.4393 - main_output_loss: 0.4218 - aux_output_loss: 0.5966 - val_loss: 0.4360 - val_main_output_loss: 0.4174 - val_aux_output_loss: 0.6032\n",
      "Epoch 6/20\n",
      "363/363 [==============================] - 0s 1ms/step - loss: 0.4208 - main_output_loss: 0.4049 - aux_output_loss: 0.5641 - val_loss: 0.4118 - val_main_output_loss: 0.3946 - val_aux_output_loss: 0.5664\n",
      "Epoch 7/20\n",
      "363/363 [==============================] - 0s 1ms/step - loss: 0.4399 - main_output_loss: 0.4282 - aux_output_loss: 0.5448 - val_loss: 0.5312 - val_main_output_loss: 0.5159 - val_aux_output_loss: 0.6694\n",
      "Epoch 8/20\n",
      "363/363 [==============================] - 0s 1ms/step - loss: 0.4145 - main_output_loss: 0.4018 - aux_output_loss: 0.5292 - val_loss: 0.3904 - val_main_output_loss: 0.3762 - val_aux_output_loss: 0.5183\n",
      "Epoch 9/20\n",
      "363/363 [==============================] - 0s 1ms/step - loss: 0.3959 - main_output_loss: 0.3843 - aux_output_loss: 0.4999 - val_loss: 0.4063 - val_main_output_loss: 0.3921 - val_aux_output_loss: 0.5335\n",
      "Epoch 10/20\n",
      "363/363 [==============================] - 1s 1ms/step - loss: 0.4120 - main_output_loss: 0.4034 - aux_output_loss: 0.4889 - val_loss: 0.3797 - val_main_output_loss: 0.3669 - val_aux_output_loss: 0.4946\n",
      "Epoch 11/20\n",
      "363/363 [==============================] - 0s 1ms/step - loss: 0.3758 - main_output_loss: 0.3649 - aux_output_loss: 0.4735 - val_loss: 0.4231 - val_main_output_loss: 0.4088 - val_aux_output_loss: 0.5525\n",
      "Epoch 12/20\n",
      "363/363 [==============================] - 0s 1ms/step - loss: 0.3724 - main_output_loss: 0.3623 - aux_output_loss: 0.4638 - val_loss: 0.3799 - val_main_output_loss: 0.3684 - val_aux_output_loss: 0.4838\n",
      "Epoch 13/20\n",
      "363/363 [==============================] - 1s 1ms/step - loss: 0.3654 - main_output_loss: 0.3557 - aux_output_loss: 0.4530 - val_loss: 0.3747 - val_main_output_loss: 0.3649 - val_aux_output_loss: 0.4620\n",
      "Epoch 14/20\n",
      "363/363 [==============================] - 1s 2ms/step - loss: 0.3707 - main_output_loss: 0.3619 - aux_output_loss: 0.4499 - val_loss: 0.3792 - val_main_output_loss: 0.3675 - val_aux_output_loss: 0.4844\n",
      "Epoch 15/20\n",
      "363/363 [==============================] - 0s 1ms/step - loss: 0.3578 - main_output_loss: 0.3488 - aux_output_loss: 0.4386 - val_loss: 0.3576 - val_main_output_loss: 0.3466 - val_aux_output_loss: 0.4563\n",
      "Epoch 16/20\n",
      "363/363 [==============================] - 0s 1ms/step - loss: 0.3559 - main_output_loss: 0.3471 - aux_output_loss: 0.4359 - val_loss: 0.3512 - val_main_output_loss: 0.3411 - val_aux_output_loss: 0.4421\n",
      "Epoch 17/20\n",
      "363/363 [==============================] - 0s 1ms/step - loss: 0.3618 - main_output_loss: 0.3541 - aux_output_loss: 0.4312 - val_loss: 0.3744 - val_main_output_loss: 0.3647 - val_aux_output_loss: 0.4609\n",
      "Epoch 18/20\n",
      "363/363 [==============================] - 0s 1ms/step - loss: 0.3533 - main_output_loss: 0.3449 - aux_output_loss: 0.4292 - val_loss: 0.3487 - val_main_output_loss: 0.3375 - val_aux_output_loss: 0.4490\n",
      "Epoch 19/20\n",
      "363/363 [==============================] - 0s 1ms/step - loss: 0.3460 - main_output_loss: 0.3379 - aux_output_loss: 0.4185 - val_loss: 0.3566 - val_main_output_loss: 0.3478 - val_aux_output_loss: 0.4357\n",
      "Epoch 20/20\n",
      "363/363 [==============================] - 0s 1ms/step - loss: 0.3499 - main_output_loss: 0.3422 - aux_output_loss: 0.4199 - val_loss: 0.3522 - val_main_output_loss: 0.3416 - val_aux_output_loss: 0.4472\n"
     ]
    }
   ],
   "source": [
    "input_A = keras.layers.Input(shape=[5], name='wide_input')\n",
    "input_B = keras.layers.Input(shape=[6], name='deep_input')\n",
    "hidden1 = keras.layers.Dense(30, activation='relu')(input_B)\n",
    "hidden2 = keras.layers.Dense(30, activation='relu')(hidden1)\n",
    "concat = keras.layers.Concatenate()([input_A, hidden2])\n",
    "output = keras.layers.Dense(1, name='main_output')(concat)\n",
    "aux_output = keras.layers.Dense(1, name='aux_output')(hidden2)\n",
    "model = keras.Model(inputs=[input_A, input_B], outputs=[output, aux_output])\n",
    "\n",
    "model.compile(\n",
    "    loss=['mse', 'mse'],\n",
    "    loss_weights=[0.9, 0.1],\n",
    "    optimizer=keras.optimizers.SGD(learning_rate=0.02)\n",
    ")\n",
    "\n",
    "checkpoint_cb = keras.callbacks.ModelCheckpoint(\n",
    "    'my_keras_model.h5',\n",
    "    save_best_only=True\n",
    ")\n",
    "\n",
    "history = model.fit(\n",
    "    [X_train_A, X_train_B],\n",
    "    [y_train, y_train],\n",
    "    epochs=20,\n",
    "    validation_data=([X_valid_A, X_valid_B], [y_valid, y_valid]),\n",
    "    callbacks=[checkpoint_cb]\n",
    ")\n",
    "\n",
    "history = keras.models.load_model('my_keras_model.h5') # roll back to best model."
   ]
  },
  {
   "cell_type": "markdown",
   "id": "b0e10610-8664-4a65-938d-6654dc0bdb78",
   "metadata": {},
   "source": [
    "Another way to implement early stopping is to simply use the EarlyStopping callback. It will interrupt training when it measures no progress on the validation set for a number of epochs (defined by the patience argument), and it will optionally roll back to the best model. The number of epochs can be set to a large value since training will stop automatically when there is no more progress. In this case, there is no need to restore the best model saved because the EarlyStopping callback will keep track of the best weights and restore them for you at the end of training."
   ]
  },
  {
   "cell_type": "code",
   "execution_count": 437,
   "id": "791aad15-00bd-447b-831a-18d37b8074b0",
   "metadata": {
    "tags": []
   },
   "outputs": [
    {
     "name": "stdout",
     "output_type": "stream",
     "text": [
      "Epoch 1/100\n",
      "363/363 [==============================] - 1s 2ms/step - loss: 0.8121 - main_output_loss: 0.7091 - aux_output_loss: 1.7387 - val_loss: 0.8932 - val_main_output_loss: 0.8670 - val_aux_output_loss: 1.1288\n",
      "Epoch 2/100\n",
      "363/363 [==============================] - 0s 1ms/step - loss: 0.5760 - main_output_loss: 0.5419 - aux_output_loss: 0.8824 - val_loss: 0.6026 - val_main_output_loss: 0.5793 - val_aux_output_loss: 0.8122\n",
      "Epoch 3/100\n",
      "363/363 [==============================] - 0s 1ms/step - loss: 0.4925 - main_output_loss: 0.4679 - aux_output_loss: 0.7138 - val_loss: 0.4723 - val_main_output_loss: 0.4476 - val_aux_output_loss: 0.6953\n",
      "Epoch 4/100\n",
      "363/363 [==============================] - 0s 1ms/step - loss: 0.4631 - main_output_loss: 0.4422 - aux_output_loss: 0.6511 - val_loss: 0.4523 - val_main_output_loss: 0.4304 - val_aux_output_loss: 0.6496\n",
      "Epoch 5/100\n",
      "363/363 [==============================] - 0s 1ms/step - loss: 0.4436 - main_output_loss: 0.4247 - aux_output_loss: 0.6140 - val_loss: 0.4378 - val_main_output_loss: 0.4167 - val_aux_output_loss: 0.6274\n",
      "Epoch 6/100\n",
      "363/363 [==============================] - 1s 1ms/step - loss: 0.4282 - main_output_loss: 0.4108 - aux_output_loss: 0.5846 - val_loss: 0.4357 - val_main_output_loss: 0.4181 - val_aux_output_loss: 0.5943\n",
      "Epoch 7/100\n",
      "363/363 [==============================] - 0s 1ms/step - loss: 0.4151 - main_output_loss: 0.3991 - aux_output_loss: 0.5594 - val_loss: 0.4185 - val_main_output_loss: 0.4021 - val_aux_output_loss: 0.5665\n",
      "Epoch 8/100\n",
      "363/363 [==============================] - 1s 1ms/step - loss: 0.4027 - main_output_loss: 0.3877 - aux_output_loss: 0.5383 - val_loss: 0.3980 - val_main_output_loss: 0.3815 - val_aux_output_loss: 0.5466\n",
      "Epoch 9/100\n",
      "363/363 [==============================] - 0s 1ms/step - loss: 0.3936 - main_output_loss: 0.3794 - aux_output_loss: 0.5212 - val_loss: 0.3997 - val_main_output_loss: 0.3834 - val_aux_output_loss: 0.5459\n",
      "Epoch 10/100\n",
      "363/363 [==============================] - 0s 1ms/step - loss: 0.3877 - main_output_loss: 0.3747 - aux_output_loss: 0.5049 - val_loss: 0.3846 - val_main_output_loss: 0.3703 - val_aux_output_loss: 0.5133\n",
      "Epoch 11/100\n",
      "363/363 [==============================] - 0s 1ms/step - loss: 0.3789 - main_output_loss: 0.3664 - aux_output_loss: 0.4909 - val_loss: 0.3664 - val_main_output_loss: 0.3519 - val_aux_output_loss: 0.4974\n",
      "Epoch 12/100\n",
      "363/363 [==============================] - 0s 1ms/step - loss: 0.3756 - main_output_loss: 0.3639 - aux_output_loss: 0.4808 - val_loss: 0.4147 - val_main_output_loss: 0.4046 - val_aux_output_loss: 0.5058\n",
      "Epoch 13/100\n",
      "363/363 [==============================] - 0s 1ms/step - loss: 0.3704 - main_output_loss: 0.3595 - aux_output_loss: 0.4683 - val_loss: 0.3856 - val_main_output_loss: 0.3752 - val_aux_output_loss: 0.4793\n",
      "Epoch 14/100\n",
      "363/363 [==============================] - 0s 1ms/step - loss: 0.3674 - main_output_loss: 0.3572 - aux_output_loss: 0.4594 - val_loss: 0.4060 - val_main_output_loss: 0.3960 - val_aux_output_loss: 0.4959\n",
      "Epoch 15/100\n",
      "363/363 [==============================] - 0s 1ms/step - loss: 0.3645 - main_output_loss: 0.3547 - aux_output_loss: 0.4528 - val_loss: 0.4062 - val_main_output_loss: 0.3971 - val_aux_output_loss: 0.4881\n",
      "Epoch 16/100\n",
      "363/363 [==============================] - 0s 1ms/step - loss: 0.3542 - main_output_loss: 0.3442 - aux_output_loss: 0.4446 - val_loss: 0.4161 - val_main_output_loss: 0.4093 - val_aux_output_loss: 0.4775\n",
      "Epoch 17/100\n",
      "363/363 [==============================] - 0s 1ms/step - loss: 0.3510 - main_output_loss: 0.3414 - aux_output_loss: 0.4377 - val_loss: 0.3682 - val_main_output_loss: 0.3564 - val_aux_output_loss: 0.4750\n",
      "Epoch 18/100\n",
      "363/363 [==============================] - 0s 1ms/step - loss: 0.3571 - main_output_loss: 0.3484 - aux_output_loss: 0.4356 - val_loss: 0.3465 - val_main_output_loss: 0.3362 - val_aux_output_loss: 0.4393\n",
      "Epoch 19/100\n",
      "363/363 [==============================] - 0s 1ms/step - loss: 0.3464 - main_output_loss: 0.3374 - aux_output_loss: 0.4267 - val_loss: 0.3343 - val_main_output_loss: 0.3234 - val_aux_output_loss: 0.4324\n",
      "Epoch 20/100\n",
      "363/363 [==============================] - 0s 1ms/step - loss: 0.3449 - main_output_loss: 0.3362 - aux_output_loss: 0.4229 - val_loss: 0.3495 - val_main_output_loss: 0.3399 - val_aux_output_loss: 0.4356\n",
      "Epoch 21/100\n",
      "363/363 [==============================] - 1s 2ms/step - loss: 0.3427 - main_output_loss: 0.3342 - aux_output_loss: 0.4186 - val_loss: 0.3612 - val_main_output_loss: 0.3519 - val_aux_output_loss: 0.4447\n",
      "Epoch 22/100\n",
      "363/363 [==============================] - 0s 1ms/step - loss: 0.3409 - main_output_loss: 0.3327 - aux_output_loss: 0.4147 - val_loss: 0.3418 - val_main_output_loss: 0.3315 - val_aux_output_loss: 0.4348\n",
      "Epoch 23/100\n",
      "363/363 [==============================] - 1s 1ms/step - loss: 0.3392 - main_output_loss: 0.3312 - aux_output_loss: 0.4121 - val_loss: 0.3309 - val_main_output_loss: 0.3216 - val_aux_output_loss: 0.4150\n",
      "Epoch 24/100\n",
      "363/363 [==============================] - 0s 1ms/step - loss: 0.3366 - main_output_loss: 0.3287 - aux_output_loss: 0.4085 - val_loss: 0.3655 - val_main_output_loss: 0.3563 - val_aux_output_loss: 0.4480\n",
      "Epoch 25/100\n",
      "363/363 [==============================] - 0s 1ms/step - loss: 0.3360 - main_output_loss: 0.3281 - aux_output_loss: 0.4070 - val_loss: 0.3338 - val_main_output_loss: 0.3249 - val_aux_output_loss: 0.4134\n",
      "Epoch 26/100\n",
      "363/363 [==============================] - 0s 1ms/step - loss: 0.3327 - main_output_loss: 0.3250 - aux_output_loss: 0.4015 - val_loss: 0.3726 - val_main_output_loss: 0.3640 - val_aux_output_loss: 0.4499\n",
      "Epoch 27/100\n",
      "363/363 [==============================] - 0s 1ms/step - loss: 0.3320 - main_output_loss: 0.3242 - aux_output_loss: 0.4014 - val_loss: 0.3853 - val_main_output_loss: 0.3783 - val_aux_output_loss: 0.4483\n",
      "Epoch 28/100\n",
      "363/363 [==============================] - 0s 1ms/step - loss: 0.3305 - main_output_loss: 0.3231 - aux_output_loss: 0.3970 - val_loss: 0.3243 - val_main_output_loss: 0.3157 - val_aux_output_loss: 0.4016\n",
      "Epoch 29/100\n",
      "363/363 [==============================] - 0s 1ms/step - loss: 0.3293 - main_output_loss: 0.3217 - aux_output_loss: 0.3972 - val_loss: 0.3734 - val_main_output_loss: 0.3651 - val_aux_output_loss: 0.4483\n",
      "Epoch 30/100\n",
      "363/363 [==============================] - 0s 1ms/step - loss: 0.3315 - main_output_loss: 0.3242 - aux_output_loss: 0.3973 - val_loss: 0.3327 - val_main_output_loss: 0.3240 - val_aux_output_loss: 0.4105\n",
      "Epoch 31/100\n",
      "363/363 [==============================] - 1s 1ms/step - loss: 0.3296 - main_output_loss: 0.3224 - aux_output_loss: 0.3945 - val_loss: 0.3429 - val_main_output_loss: 0.3352 - val_aux_output_loss: 0.4115\n",
      "Epoch 32/100\n",
      "363/363 [==============================] - 0s 1ms/step - loss: 0.3268 - main_output_loss: 0.3196 - aux_output_loss: 0.3913 - val_loss: 0.4056 - val_main_output_loss: 0.3976 - val_aux_output_loss: 0.4773\n",
      "Epoch 33/100\n",
      "363/363 [==============================] - 0s 1ms/step - loss: 0.3254 - main_output_loss: 0.3183 - aux_output_loss: 0.3891 - val_loss: 0.3257 - val_main_output_loss: 0.3177 - val_aux_output_loss: 0.3975\n",
      "Epoch 34/100\n",
      "363/363 [==============================] - 0s 1ms/step - loss: 0.3231 - main_output_loss: 0.3160 - aux_output_loss: 0.3872 - val_loss: 0.3355 - val_main_output_loss: 0.3270 - val_aux_output_loss: 0.4119\n",
      "Epoch 35/100\n",
      "363/363 [==============================] - 0s 1ms/step - loss: 0.3254 - main_output_loss: 0.3183 - aux_output_loss: 0.3894 - val_loss: 0.3233 - val_main_output_loss: 0.3156 - val_aux_output_loss: 0.3931\n",
      "Epoch 36/100\n",
      "363/363 [==============================] - 0s 1ms/step - loss: 0.3230 - main_output_loss: 0.3159 - aux_output_loss: 0.3866 - val_loss: 0.3171 - val_main_output_loss: 0.3094 - val_aux_output_loss: 0.3864\n",
      "Epoch 37/100\n",
      "363/363 [==============================] - 0s 1ms/step - loss: 0.3222 - main_output_loss: 0.3150 - aux_output_loss: 0.3865 - val_loss: 0.3258 - val_main_output_loss: 0.3189 - val_aux_output_loss: 0.3879\n",
      "Epoch 38/100\n",
      "363/363 [==============================] - 0s 1ms/step - loss: 0.3192 - main_output_loss: 0.3121 - aux_output_loss: 0.3826 - val_loss: 0.3425 - val_main_output_loss: 0.3360 - val_aux_output_loss: 0.4010\n",
      "Epoch 39/100\n",
      "363/363 [==============================] - 0s 1ms/step - loss: 0.3197 - main_output_loss: 0.3127 - aux_output_loss: 0.3829 - val_loss: 0.3365 - val_main_output_loss: 0.3303 - val_aux_output_loss: 0.3923\n",
      "Epoch 40/100\n",
      "363/363 [==============================] - 0s 1ms/step - loss: 0.3175 - main_output_loss: 0.3108 - aux_output_loss: 0.3781 - val_loss: 0.3631 - val_main_output_loss: 0.3595 - val_aux_output_loss: 0.3956\n",
      "Epoch 41/100\n",
      "363/363 [==============================] - 1s 1ms/step - loss: 0.3202 - main_output_loss: 0.3137 - aux_output_loss: 0.3793 - val_loss: 0.3461 - val_main_output_loss: 0.3389 - val_aux_output_loss: 0.4114\n",
      "Epoch 42/100\n",
      "363/363 [==============================] - 0s 1ms/step - loss: 0.3201 - main_output_loss: 0.3137 - aux_output_loss: 0.3775 - val_loss: 0.3274 - val_main_output_loss: 0.3203 - val_aux_output_loss: 0.3913\n",
      "Epoch 43/100\n",
      "363/363 [==============================] - 0s 1ms/step - loss: 0.3165 - main_output_loss: 0.3099 - aux_output_loss: 0.3755 - val_loss: 0.3103 - val_main_output_loss: 0.3029 - val_aux_output_loss: 0.3763\n",
      "Epoch 44/100\n",
      "363/363 [==============================] - 0s 1ms/step - loss: 0.3152 - main_output_loss: 0.3087 - aux_output_loss: 0.3744 - val_loss: 0.3129 - val_main_output_loss: 0.3053 - val_aux_output_loss: 0.3811\n",
      "Epoch 45/100\n",
      "363/363 [==============================] - 0s 1ms/step - loss: 0.3145 - main_output_loss: 0.3079 - aux_output_loss: 0.3746 - val_loss: 0.3163 - val_main_output_loss: 0.3096 - val_aux_output_loss: 0.3764\n",
      "Epoch 46/100\n",
      "363/363 [==============================] - 0s 1ms/step - loss: 0.3142 - main_output_loss: 0.3076 - aux_output_loss: 0.3731 - val_loss: 0.3128 - val_main_output_loss: 0.3056 - val_aux_output_loss: 0.3778\n",
      "Epoch 47/100\n",
      "363/363 [==============================] - 0s 1ms/step - loss: 0.3136 - main_output_loss: 0.3071 - aux_output_loss: 0.3722 - val_loss: 0.3846 - val_main_output_loss: 0.3819 - val_aux_output_loss: 0.4093\n",
      "Epoch 48/100\n",
      "363/363 [==============================] - 0s 1ms/step - loss: 0.3135 - main_output_loss: 0.3072 - aux_output_loss: 0.3709 - val_loss: 0.3176 - val_main_output_loss: 0.3114 - val_aux_output_loss: 0.3741\n",
      "Epoch 49/100\n",
      "363/363 [==============================] - 0s 1ms/step - loss: 0.3131 - main_output_loss: 0.3067 - aux_output_loss: 0.3714 - val_loss: 0.3152 - val_main_output_loss: 0.3086 - val_aux_output_loss: 0.3746\n",
      "Epoch 50/100\n",
      "363/363 [==============================] - 1s 1ms/step - loss: 0.3120 - main_output_loss: 0.3057 - aux_output_loss: 0.3692 - val_loss: 0.3170 - val_main_output_loss: 0.3102 - val_aux_output_loss: 0.3785\n",
      "Epoch 51/100\n",
      "363/363 [==============================] - 0s 1ms/step - loss: 0.3091 - main_output_loss: 0.3026 - aux_output_loss: 0.3672 - val_loss: 0.3114 - val_main_output_loss: 0.3044 - val_aux_output_loss: 0.3744\n",
      "Epoch 52/100\n",
      "363/363 [==============================] - 0s 1ms/step - loss: 0.3102 - main_output_loss: 0.3038 - aux_output_loss: 0.3678 - val_loss: 0.3261 - val_main_output_loss: 0.3190 - val_aux_output_loss: 0.3906\n",
      "Epoch 53/100\n",
      "363/363 [==============================] - 0s 1ms/step - loss: 0.3087 - main_output_loss: 0.3023 - aux_output_loss: 0.3662 - val_loss: 0.3285 - val_main_output_loss: 0.3223 - val_aux_output_loss: 0.3846\n"
     ]
    }
   ],
   "source": [
    "input_A = keras.layers.Input(shape=[5], name='wide_input')\n",
    "input_B = keras.layers.Input(shape=[6], name='deep_input')\n",
    "hidden1 = keras.layers.Dense(30, activation='relu')(input_B)\n",
    "hidden2 = keras.layers.Dense(30, activation='relu')(hidden1)\n",
    "concat = keras.layers.Concatenate()([input_A, hidden2])\n",
    "output = keras.layers.Dense(1, name='main_output')(concat)\n",
    "aux_output = keras.layers.Dense(1, name='aux_output')(hidden2)\n",
    "model = keras.Model(inputs=[input_A, input_B], outputs=[output, aux_output])\n",
    "\n",
    "model.compile(\n",
    "    loss=['mse', 'mse'],\n",
    "    loss_weights=[0.9, 0.1],\n",
    "    optimizer=keras.optimizers.SGD(learning_rate=0.02)\n",
    ")\n",
    "\n",
    "early_stopping_cb = keras.callbacks.EarlyStopping(\n",
    "    patience=10,\n",
    "    restore_best_weights=True\n",
    ")\n",
    "\n",
    "history = model.fit(\n",
    "    [X_train_A, X_train_B],\n",
    "    [y_train, y_train],\n",
    "    epochs=100,\n",
    "    validation_data=([X_valid_A, X_valid_B], [y_valid, y_valid]),\n",
    "    callbacks=[early_stopping_cb]\n",
    ")"
   ]
  },
  {
   "cell_type": "markdown",
   "id": "1b85f324-e3d5-4376-8901-1de1091a2537",
   "metadata": {},
   "source": [
    "If you need extra control, you can easily write your own custom callbacks. As an example of how to do that, the following custom callback will display the ratio between the validation loss and the training loss during training (e.g. detect over-fitting).\n",
    "\n",
    "Callbacks can also be used during evaluation and predictions, should you ever need them. For evaluation, you should implement on on_test_begin(), on_test_end(), on_test_batch_begin(), or on_test_batch_end(). These are called by evaluate().  For prediction you should implement on_predict_begin(), on_predict_end(), on_predict_batch_begin(), or on_predict_batch_end(). These are called by predict()"
   ]
  },
  {
   "cell_type": "code",
   "execution_count": 441,
   "id": "b96140fa-37a0-4f06-a819-bf72bcada0a4",
   "metadata": {
    "tags": []
   },
   "outputs": [],
   "source": [
    "class PrintValTrainRatioCallback(keras.callbacks.Callback):\n",
    "    def on_epoch_end(self, epoch, logs):\n",
    "        print('\\nval/train: {:2f}'.format(logs['val_loss'] / logs['loss']))"
   ]
  },
  {
   "cell_type": "code",
   "execution_count": null,
   "id": "96dd83c1-441a-423b-b4d2-ce77a78bbdf2",
   "metadata": {},
   "outputs": [],
   "source": [
    "input_A = keras.layers.Input(shape=[5], name='wide_input')\n",
    "input_B = keras.layers.Input(shape=[6], name='deep_input')\n",
    "hidden1 = keras.layers.Dense(30, activation='relu')(input_B)\n",
    "hidden2 = keras.layers.Dense(30, activation='relu')(hidden1)\n",
    "concat = keras.layers.Concatenate()([input_A, hidden2])\n",
    "output = keras.layers.Dense(1, name='main_output')(concat)\n",
    "aux_output = keras.layers.Dense(1, name='aux_output')(hidden2)\n",
    "model = keras.Model(inputs=[input_A, input_B], outputs=[output, aux_output])\n",
    "\n",
    "model.compile(\n",
    "    loss=['mse', 'mse'],\n",
    "    loss_weights=[0.9, 0.1],\n",
    "    optimizer=keras.optimizers.SGD(learning_rate=0.02)\n",
    ")\n",
    "\n",
    "early_stopping_cb = keras.callbacks.EarlyStopping(\n",
    "    patience=10,\n",
    "    restore_best_weights=True\n",
    ")\n",
    "\n",
    "custom_cb = \n",
    "\n",
    "history = model.fit(\n",
    "    [X_train_A, X_train_B],\n",
    "    [y_train, y_train],\n",
    "    epochs=100,\n",
    "    validation_data=([X_valid_A, X_valid_B], [y_valid, y_valid]),\n",
    "    callbacks=[early_stopping_cb]\n",
    ")"
   ]
  }
 ],
 "metadata": {
  "kernelspec": {
   "display_name": "Python 3 (ipykernel)",
   "language": "python",
   "name": "python3"
  },
  "language_info": {
   "codemirror_mode": {
    "name": "ipython",
    "version": 3
   },
   "file_extension": ".py",
   "mimetype": "text/x-python",
   "name": "python",
   "nbconvert_exporter": "python",
   "pygments_lexer": "ipython3",
   "version": "3.8.18"
  }
 },
 "nbformat": 4,
 "nbformat_minor": 5
}
