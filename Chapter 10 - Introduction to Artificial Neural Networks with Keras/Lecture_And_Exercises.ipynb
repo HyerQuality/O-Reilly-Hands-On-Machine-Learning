{
 "cells": [
  {
   "cell_type": "code",
   "execution_count": 1,
   "id": "05b70ba3-bdd8-44a8-88b2-5cd632fbbe75",
   "metadata": {
    "tags": []
   },
   "outputs": [],
   "source": [
    "%config Completer.use_jedi = False"
   ]
  },
  {
   "cell_type": "markdown",
   "id": "e65c1fb2-13d3-4874-8bf7-f0d15fc91460",
   "metadata": {},
   "source": [
    "# Introduction to Artificial Neural Networks with Keras"
   ]
  },
  {
   "cell_type": "markdown",
   "id": "ac36304c-e6df-4a5d-870d-f4a956b3e20d",
   "metadata": {},
   "source": [
    "*Artificial Nerual Networks* (ANNs) are Machine Learning models inspired by the networks of biological neurons found in our brains.  ANNs are at the very core of Deep Learning. They are versatile, powerful, and scalable, making them ideal to tackle large and highly complex Machine Learning tasks such as classifying billions of images, powering speech recognition services, recommending the best videos to watch to hundreds of millions of users every day, or learning to beat the world champion at a game of Go.\n",
    "\n",
    "The first part of this chapter introduces artificial neural networks.  In the second part, we will look at how to implement neural networks using the popular Keras API."
   ]
  },
  {
   "cell_type": "markdown",
   "id": "4db6790a-e40d-4918-8d95-811490cae7d0",
   "metadata": {},
   "source": [
    "## From Biological to Artificial Neurons"
   ]
  },
  {
   "cell_type": "markdown",
   "id": "13f8e0e0-3025-49c4-a5fc-eba8bdb03116",
   "metadata": {},
   "source": [
    "The early successes of ANNs led to widespread belief that we would soon be conversing with truly intelligent machines.  When it became clear in the 1960's that this promise would go unfulfilled, funding flew elsewhere, and ANNs entered a long winter.  In the early 1980s, new architectures were invented and better training techniques were developed, sparking a revival of interest in *cnnectionism* (the study of neural networks).  But progress was slow, and by the 1990s other powerful Machine Learning techniques were invented, such as Support Vector Machines.  These techniques seemed to offer better results and stronger theoretical foundations than ANNs, so once again the study of neural networks was put on hold.\n",
    "\n",
    "We are now witnessing yet another wave of interest in ANNs, and this time is different.\n",
    "* There are now a huge quantity of data available to train neural networks, and ANNs frequently outperform other ML techniques on very large and complex problems.\n",
    "* The tremendous increase in computing power since the 1990s now makes it possible to train large neural networks in a reasonable amount of time.\n",
    "* The training algorithms have been improved.\n",
    "* ANNs seem to have entered a virtuous cirle of funding and progress."
   ]
  },
  {
   "cell_type": "markdown",
   "id": "4e276296-1296-4911-a4d9-6c2311f9e061",
   "metadata": {},
   "source": [
    "## The Perceptron"
   ]
  },
  {
   "cell_type": "markdown",
   "id": "a6ca2a95-d509-45d0-8013-5c266022aa6f",
   "metadata": {},
   "source": [
    "The *Perceptron* is one of the simplest ANN architectures, invented in 1957 by Frank Rosenblatt.  It is based on a *threshold logic unit* (TLU). For a TLU, the inputs and outputs are numbers, and each input connection is associated with a weight.  The TLU computes a weighted sum of its inputs, then applies a *step function* to that sum and outputs the results.\n",
    "\n",
    "A Perceptron is simply composed of a single layer of TLUs, with each TLU connected to all the inputs.  When all the neurons in a layer are connected to every neuron in the previous layer, the layer is called a *fully connected layer*, or a *dense layer*.\n",
    "\n",
    "Thanks to the magic of linear algebra, Equation 10-2 makes it possible to efficiently compute the outputs of a layer of artificial neurons for several instances at once.\n",
    "\n",
    "<c> Equation 10-2: Computing the outputs of a fully connected layer </c>\n",
    "$$ h_{W, b}(X) = \\phi(XW + b) $$\n",
    "\n",
    "So how is a Perceptron trained? \"Cells that fire together, wire together.\" Perceptrons are trained using a variant of this rule that takes into account the error made by the network when it makes a prediction; the Perceptron learning rule reinforces connections that help reduce the error.  More specifically, the Perceptron is fed one training instance at a time, and for each instance it makes its predictions.  For every output neuron that produced a wrong prediction, it reinforces the connection weights from the inputs that would ahve contributed to the correct prediction.  \n",
    "\n",
    "**The decision boundary of each output neuron is linear, so Perceptrons are incapable of learning complex patterns (just like Logistic Regression classifiers).**\n",
    "\n",
    "Scikit-Learn provides a Perceptron class that implements a single-TLU network."
   ]
  },
  {
   "cell_type": "markdown",
   "id": "ad7a1171-8787-4eee-b98c-910112da8752",
   "metadata": {},
   "source": [
    "#### Example 1: Scikit-Learns Perceptron"
   ]
  },
  {
   "cell_type": "code",
   "execution_count": 9,
   "id": "02695eec-266a-414e-bfe0-399da24a9ecc",
   "metadata": {
    "tags": []
   },
   "outputs": [
    {
     "data": {
      "text/plain": [
       "array([0])"
      ]
     },
     "execution_count": 9,
     "metadata": {},
     "output_type": "execute_result"
    }
   ],
   "source": [
    "import numpy as np\n",
    "from sklearn.datasets import load_iris\n",
    "from sklearn.linear_model import Perceptron\n",
    "\n",
    "iris = load_iris()\n",
    "X = iris.data[:, (2, 3)] # petal length, petal width\n",
    "y = (iris.target == 0).astype(int) # Iris Setosa\n",
    "\n",
    "per_clf = Perceptron()\n",
    "per_clf.fit(X, y)\n",
    "\n",
    "y_pred = per_clf.predict([[2, 0.5]])\n",
    "y_pred"
   ]
  },
  {
   "cell_type": "markdown",
   "id": "f74792a2-b38a-4233-bea2-c5b015bcaed3",
   "metadata": {},
   "source": [
    "You may have noticed that the Perceptron learning algorithm strongly resembles Stochastic Gradient Descent.  In fact, Scikit-Learn's Perceptron class is equivalent to using an SGDClassifier with the following hyperparameters: loss = 'perceptron', learning_rate = 'constant', eta0 = 1 (the learning rate), and penalty = None (no regularization).\n",
    "\n",
    "Note that contrary to Logistic Regression classifiers, Perceptrons do not output a class probability.  This is one reason to prefer Logistic Regression over Perceptrons.\n",
    "\n",
    "There are a number of significant weaknesses of Perceptrons, in particular that they are incapable of solving some trivial problems.  It turns out that some of the limitations of Perceptrons an be eliminated by stacking multiple Perceptrons.  The resulting ANN is called a *Multilayer Perceptron* (MLP)"
   ]
  },
  {
   "cell_type": "markdown",
   "id": "baa583da-d07a-4ce9-8371-d0c91b615b24",
   "metadata": {},
   "source": [
    "## The Multilayer Perceptron and Backpropagation"
   ]
  },
  {
   "cell_type": "markdown",
   "id": "e8f77643-166f-40b3-9179-ddc1ca9dba94",
   "metadata": {},
   "source": [
    "An MLP is composed of one (passthrough) *input layer*, one or more layers of TLUs, called *hidden layers*, and one final layer of TLUs, called the *output layer*.  The layers close to the input layers are usually called the *lower layers* and the ones close to the outputs are usually called the *upper layers*.  Every layer except the output layer includes a bias neuron and is fully connected to the next layer.\n",
    "\n",
    "The signal flows only in one direction (from the inputs to the oupts), so this architecture is an example of a *feedforward neural network* (FNN).\n",
    "\n",
    "When an ANN contains a deep stack of hidden layers (dozens or hundreds), it is called a *deep neural network* (DNN).  For many years researchers struggled to find a way to train MLPs, without success, until 1986 when David Rumelhart, Geoffrey Hinton, and Ronald Williams published a groundbreaking paper that introduced the *backpropagation* training algorithm, which is still used today.\n",
    "\n",
    "In short, it is Gradient Descent using an efficient technique for computing the gradients automatically: in just two passes through the network (one forward, one backward), the backpropagation algorithm is able to compute the gradient of the network's error with regard to every single model parameter.  In other words, it can find out how each connection weight and each bias term should be tweaked in order to reduce the error.  Once it has these gradients, it just performs a regular Gradient Descent step, and the whole process is repeated until the network converges to the solution.\n",
    "\n",
    "Automatically computing gradients is called *automatic differentiation* or *autodiff*.  There are various autodiff techniques, with different pros and cons.  The one used by backpropagation is called *reverse-moode autodiff*.  It is fase and precise, and is well suited when the function to differentiate has many variables and few outputs.\n",
    "\n",
    "Let's run through the algorithm in a bit more detail:\n",
    "* It handles one mini-batch at a time (for example, containing 32 instances each), and it goes through the full training set multiple times.  Each pass is called an *epoch*\n",
    "* Each mini-batch is passed to the network's input layer, which sends it to the first hidden layer. The algorithm then computes the output of all the neurons in this layer (for every instance in the mini-batch). The result is passed on to the next layer, its output is computed and passed to the next layer, and so on until we get the output of the last layer, the output layer. This is the *forward pass*: it is exactly like making predictions, except all intermediate results are preserved since they are needed for the backward pass.\n",
    "* Next, the algorithm measures the network's output error (i.e. it uses a loss function that compares the desired output and the actual output of the network, and returns some measure of the error).\n",
    "* Then it computes how much each output connection contributed to the error. This is done analytically by applying the *chain rule* (perhaps the most fundamental rule in calculus), which makes this step fast and precise.\n",
    "* The algorithm then measures how much of these error contributions came from each connection in the layer below, again using the chain rule, working backward until the algorithm reaches the input layer.  As explained earlier, this reverse pass efficiently measures the error gradient across all the connection weights in the network by propagating the error gradient backward through the network.\n",
    "* Finally, the algorithm performs a Gradient Descent step to tweak all the connection weights in the network, using the error gradients it just computed.\n",
    "\n",
    "**This algorithm is so important that it's worth summarizing it again: for each training instance, the backpropagation algorithm first makes a prediction (forward pass) and measures the error, then goes through each layer in reverse to measure the error contribution from each connection (reverse pass), and finally tweaks the connection weights to reduce the error (Gradient Descent step)**\n",
    "\n",
    "***It is important to initialize all the hidden layers' connection weights randomly, or else training will fail.***\n",
    "\n",
    "In order for this algorithm to work properly, its authors made a key change to the MLP's architecture: they replaced the step function with the logistic (sigmoid) function:\n",
    "$$ \\sigma(z) = \\frac{1}{1 + \\exp(-z)} $$\n",
    "\n",
    "The backpropagation algorithm works well with many other activation functions.  Here are two other popular choices:\n",
    "1. **The hyperbolic tanger function: tanh(z)**: $2\\sigma(2z) - 1$\n",
    "<br>Just like the logistic function, this activation function is S-shaped, continuous, and differentiable, but its output value ranges from -1 to 1 (instead of 0 to 1 in the case of the logistic function). That range tends to make each layer's output more or less centered around 0 at the beginning of training, which often helps speed up convergence.\n",
    "2. **The Rectified Linear Unit function: ReLU(z)**: $max(0, z)$\n",
    "<br>The ReLU function is continuous but unfortunatley not differentiable at z=0 (the slope changes abruptly, which can make Gradient Descent bounce around), and its derivative is 0 for z < 0. In practice, however, it works very well and has the advantage of being fast to compute, so it has become the default. Most importantly, the fact that it does not have a maximum output value helps reduce some issues during Gradient Descent.\n",
    "\n",
    "Why do we need activation functions in the first place? Well, if you chain several linear transformations, all you get is a linear transformation. So if you don't have some nonlinearity between layers, then even a deep stack of layers is equivalent to a single layer, and you can't solve very complex problems with that. Conversely, a large enough DNN with nonlinear activations can theoretically approximate any continuous function."
   ]
  },
  {
   "cell_type": "markdown",
   "id": "86031eec-79e9-4ee4-8f9e-5c9a26005638",
   "metadata": {},
   "source": [
    "## Regression MLPs"
   ]
  },
  {
   "cell_type": "markdown",
   "id": "a7255039-12e6-4a50-856a-0a7129a3d08d",
   "metadata": {},
   "source": [
    "First, MLPs can be used for regression tasks. If you want to predict a single value (like the value of a house), then you just need a single output neuron: its output is the predicted value. For multivariate regression (predicting multiple values at once), you need one output neuron per output dimension. For example, to locate the center of an object in an image, you need to predict 2D cooridinates, so you need two output neurons.\n",
    "\n",
    "**In general, when building an MLP for regression, you do not want to use any activation function for the output neurons, so they are free to output any range of values.** If you want to guarantee that the output will always be positive, then you can use the ReLU activation function in the output layer. Alternatively, you can use the *softplus* activation function, which is a smooth variant of ReLU: $softplus(z) = log(1 + \\exp(z))$\n",
    "\n",
    "The loss function to use during training is typically the mean squared error, but if you have a lot of outliers in the training set, you may prefer to use the mean absolute error instead. Alternatively, you can us ethe Huber loss, which is a combination of both.\n",
    "\n",
    "The Huber loss is quadratic when the error is smaller than a threshold $\\delta$ (typically 1) but linear when the error is larger than $\\delta$. The linear part makes it less sensitive to outliers than the mean squared error, and the quadratic part allows it to converge faster and be more precise than the mean absolute error."
   ]
  },
  {
   "cell_type": "code",
   "execution_count": 15,
   "id": "38bad854-01f6-4371-bce5-759b19a1caae",
   "metadata": {
    "tags": []
   },
   "outputs": [
    {
     "data": {
      "text/html": [
       "<div>\n",
       "<style scoped>\n",
       "    .dataframe tbody tr th:only-of-type {\n",
       "        vertical-align: middle;\n",
       "    }\n",
       "\n",
       "    .dataframe tbody tr th {\n",
       "        vertical-align: top;\n",
       "    }\n",
       "\n",
       "    .dataframe thead th {\n",
       "        text-align: right;\n",
       "    }\n",
       "</style>\n",
       "<table border=\"1\" class=\"dataframe\">\n",
       "  <thead>\n",
       "    <tr style=\"text-align: right;\">\n",
       "      <th></th>\n",
       "      <th>Typical Value</th>\n",
       "    </tr>\n",
       "  </thead>\n",
       "  <tbody>\n",
       "    <tr>\n",
       "      <th>Input Neurons</th>\n",
       "      <td>One per intput feature</td>\n",
       "    </tr>\n",
       "    <tr>\n",
       "      <th>Hidden Layers</th>\n",
       "      <td>Depends on the problem, typically 1 to 5</td>\n",
       "    </tr>\n",
       "    <tr>\n",
       "      <th>Neurons per Layer</th>\n",
       "      <td>Depends on the problem, typically 10 to 100</td>\n",
       "    </tr>\n",
       "    <tr>\n",
       "      <th>Output Neurons</th>\n",
       "      <td>1 per prediction dimension</td>\n",
       "    </tr>\n",
       "    <tr>\n",
       "      <th>Hidden Activation</th>\n",
       "      <td>ReLU or SELU</td>\n",
       "    </tr>\n",
       "    <tr>\n",
       "      <th>Output Activation</th>\n",
       "      <td>None, or ReLU/softplus. Generally tailored for...</td>\n",
       "    </tr>\n",
       "    <tr>\n",
       "      <th>Loss Function</th>\n",
       "      <td>MSE, MAE or Huber if outliers</td>\n",
       "    </tr>\n",
       "  </tbody>\n",
       "</table>\n",
       "</div>"
      ],
      "text/plain": [
       "                                                       Typical Value\n",
       "Input Neurons                                 One per intput feature\n",
       "Hidden Layers               Depends on the problem, typically 1 to 5\n",
       "Neurons per Layer        Depends on the problem, typically 10 to 100\n",
       "Output Neurons                            1 per prediction dimension\n",
       "Hidden Activation                                       ReLU or SELU\n",
       "Output Activation  None, or ReLU/softplus. Generally tailored for...\n",
       "Loss Function                          MSE, MAE or Huber if outliers"
      ]
     },
     "execution_count": 15,
     "metadata": {},
     "output_type": "execute_result"
    }
   ],
   "source": [
    "import pandas as pd\n",
    "\n",
    "# Typical regression MLP architecture\n",
    "pd.DataFrame.from_dict(data={\n",
    "    'Input Neurons': 'One per intput feature',\n",
    "    'Hidden Layers': 'Depends on the problem, typically 1 to 5',\n",
    "    'Neurons per Layer': 'Depends on the problem, typically 10 to 100',\n",
    "    'Output Neurons': '1 per prediction dimension',\n",
    "    'Hidden Activation': 'ReLU or SELU',\n",
    "    'Output Activation': 'None, or ReLU/softplus. Generally tailored for desired output.',\n",
    "    'Loss Function': 'MSE, MAE or Huber if outliers'\n",
    "}, orient='index').rename(columns={0: 'Typical Value'})"
   ]
  },
  {
   "cell_type": "markdown",
   "id": "2428968e-1cbf-4c2e-9fec-b864856bb097",
   "metadata": {},
   "source": [
    "## Classification MLPs"
   ]
  },
  {
   "cell_type": "markdown",
   "id": "2d448b1f-e775-446c-8363-d81acbfbdba8",
   "metadata": {},
   "source": [
    "MLPs can also be used for classification tasks. For a binary classification problem, you just need a single output neuron using the logistic activation function: the output will be a number between 0 and 1, which you can interpret as the estimated probability of the positive class.\n",
    "\n",
    "MLPs can also easily handle multilabel binary classification tasks. More generally, you would dedicate one output neuron for each positive class. Note that the output probabilities do no necessarily add up to 1.\n",
    "\n",
    "If each instance can belong only to a single class, out of three or more possible classes (e.g. classes 0 through 9 for digit image classification), then you need to have one output neuron per class, and you should use the softmax activiation function for the whole output layer. The softmax function will ensure that all the estimated probabilities are between 0 and 1 and they they add up to 1 (which is required if the classses are exclusive). This is called multiclass classification.\n",
    "\n",
    "Regarding the loss function, since we are predicting probability distributions, the cross-entropy loss (also called the log loss) is generally a good choice."
   ]
  },
  {
   "cell_type": "code",
   "execution_count": 18,
   "id": "fc3a57c9-eb7f-49e2-b13e-a7dbda21131e",
   "metadata": {
    "tags": []
   },
   "outputs": [
    {
     "data": {
      "text/html": [
       "<div>\n",
       "<style scoped>\n",
       "    .dataframe tbody tr th:only-of-type {\n",
       "        vertical-align: middle;\n",
       "    }\n",
       "\n",
       "    .dataframe tbody tr th {\n",
       "        vertical-align: top;\n",
       "    }\n",
       "\n",
       "    .dataframe thead th {\n",
       "        text-align: right;\n",
       "    }\n",
       "</style>\n",
       "<table border=\"1\" class=\"dataframe\">\n",
       "  <thead>\n",
       "    <tr style=\"text-align: right;\">\n",
       "      <th></th>\n",
       "      <th>Binary Classification</th>\n",
       "      <th>Multilabel Binary Classification</th>\n",
       "      <th>Multiclass Classification</th>\n",
       "    </tr>\n",
       "  </thead>\n",
       "  <tbody>\n",
       "    <tr>\n",
       "      <th>Input and Hidden Layers</th>\n",
       "      <td>Same as regression</td>\n",
       "      <td>Same as regression</td>\n",
       "      <td>Same as regression</td>\n",
       "    </tr>\n",
       "    <tr>\n",
       "      <th>Number of Output Neurons</th>\n",
       "      <td>1</td>\n",
       "      <td>1 per label</td>\n",
       "      <td>1 per class</td>\n",
       "    </tr>\n",
       "    <tr>\n",
       "      <th>Output Layer Activation</th>\n",
       "      <td>Logistic</td>\n",
       "      <td>Logistic</td>\n",
       "      <td>Softmax</td>\n",
       "    </tr>\n",
       "    <tr>\n",
       "      <th>Loss Function</th>\n",
       "      <td>Cross-Entropy</td>\n",
       "      <td>Cross-Entropy</td>\n",
       "      <td>Cross-Entropy</td>\n",
       "    </tr>\n",
       "  </tbody>\n",
       "</table>\n",
       "</div>"
      ],
      "text/plain": [
       "                         Binary Classification  \\\n",
       "Input and Hidden Layers     Same as regression   \n",
       "Number of Output Neurons                     1   \n",
       "Output Layer Activation               Logistic   \n",
       "Loss Function                    Cross-Entropy   \n",
       "\n",
       "                         Multilabel Binary Classification  \\\n",
       "Input and Hidden Layers                Same as regression   \n",
       "Number of Output Neurons                      1 per label   \n",
       "Output Layer Activation                          Logistic   \n",
       "Loss Function                               Cross-Entropy   \n",
       "\n",
       "                         Multiclass Classification  \n",
       "Input and Hidden Layers         Same as regression  \n",
       "Number of Output Neurons               1 per class  \n",
       "Output Layer Activation                    Softmax  \n",
       "Loss Function                        Cross-Entropy  "
      ]
     },
     "execution_count": 18,
     "metadata": {},
     "output_type": "execute_result"
    }
   ],
   "source": [
    "# Typical classification MLP architecture\n",
    "pd.DataFrame.from_dict({\n",
    "    'Input and Hidden Layers': ['Same as regression', 'Same as regression', 'Same as regression'],\n",
    "    'Number of Output Neurons': ['1', '1 per label', '1 per class'],\n",
    "    'Output Layer Activation': ['Logistic', 'Logistic', 'Softmax'],\n",
    "    'Loss Function': ['Cross-Entropy', 'Cross-Entropy', 'Cross-Entropy']\n",
    "}, orient='index').rename(columns={0: 'Binary Classification', 1: 'Multilabel Binary Classification', 2: 'Multiclass Classification'})"
   ]
  },
  {
   "cell_type": "markdown",
   "id": "8b12fe7b-7870-483d-82c1-e8a7b28deb6f",
   "metadata": {},
   "source": [
    "## Implementing MLPs with Keras"
   ]
  },
  {
   "cell_type": "markdown",
   "id": "676858a2-3031-42c6-9787-d4bbbdf184df",
   "metadata": {},
   "source": [
    "At present, you can choose from 3 popular open source Deep Learning libraries:\n",
    "1. TensorFlow\n",
    "2. Microsoft Cognitive Toolkit\n",
    "3. Theano\n",
    "\n",
    "As of 2016 Keras can be run on:\n",
    "1. Apache MXNet\n",
    "2. Apple's Core ML\n",
    "3. JavaScript\n",
    "4. TypeScript\n",
    "5. PlaidML\n",
    "\n",
    "Moreover, TensorFlow itself now comes bundled with its own Keras implementation, tf.keras. It only supports TensorFlow as the backend, but it has the advantage of offering some very useful extra features like TensorFlow's Data API which makes it easy to load and preprocess data efficiently.\n",
    "\n",
    "**The most populare Deep Learning library after Keras and TensorFlow is Facebook's PyTorch. The good news is that its API is quite similar to Keras's, so once you know Keras, it is not difficult to switch to PyTorch, if you ever want to.** PyTorch's popularity grew exponentially in 2018, largely thanks to its simplicity and excellent documenatation, which were not TensorFlow 1.x's main strengths. However, TensorFlow 2 is arguably just as simple as PyTorch, as it has adopted Keras as its official high-level API and its developers have greatly simplified and cleaned up the rest of the API. Similarly, PyTorch's main weaknesses (e.g. limited portability and on computation graph analysis) have been largely addressed in PyTorch 1.0. Healthy competition is beneficial to everyone!"
   ]
  },
  {
   "cell_type": "markdown",
   "id": "15f8f219-547d-4de9-b5ba-e2b88859e781",
   "metadata": {},
   "source": [
    "## Installing TensorFlow 2"
   ]
  },
  {
   "cell_type": "code",
   "execution_count": 22,
   "id": "892d512e-e5fe-477d-b166-3b516634908e",
   "metadata": {},
   "outputs": [],
   "source": [
    "# pip install -U tensorflow"
   ]
  },
  {
   "cell_type": "code",
   "execution_count": 23,
   "id": "c7f1eba2-bf16-4aca-ad19-79b3ecfbb8da",
   "metadata": {
    "tags": []
   },
   "outputs": [
    {
     "data": {
      "text/plain": [
       "('2.8.0', '2.8.0')"
      ]
     },
     "execution_count": 23,
     "metadata": {},
     "output_type": "execute_result"
    }
   ],
   "source": [
    "import tensorflow as tf\n",
    "from tensorflow import keras\n",
    "tf.__version__, keras.__version__"
   ]
  },
  {
   "cell_type": "markdown",
   "id": "eee7250c-4a87-4ccf-b484-ae04ab2063c5",
   "metadata": {},
   "source": [
    "For GPU support, at the time of this writing you need to install tensorflow-gpu instead of tensorflow, but the TensorFlow team is working on having a single library that will support both CPU-only and GPU-equipped systems. You will need to install extra libraries for GPU support (see http://tensorflow.org/install for more details)."
   ]
  },
  {
   "cell_type": "markdown",
   "id": "08600ab7-c44d-4442-96d9-065e848d9845",
   "metadata": {},
   "source": [
    "## Building an Image Classifier Using the Sequential API"
   ]
  },
  {
   "cell_type": "markdown",
   "id": "238bcd3b-0a1c-40eb-b418-da9b865aea0a",
   "metadata": {},
   "source": [
    "### Using Keras to load the dataset"
   ]
  },
  {
   "cell_type": "code",
   "execution_count": 27,
   "id": "05841662-7dd7-4dfe-9297-fdf5761f50db",
   "metadata": {},
   "outputs": [
    {
     "name": "stdout",
     "output_type": "stream",
     "text": [
      "(60000, 28, 28) uint8\n"
     ]
    },
    {
     "data": {
      "text/plain": [
       "'Coat'"
      ]
     },
     "execution_count": 27,
     "metadata": {},
     "output_type": "execute_result"
    }
   ],
   "source": [
    "# Load the Keras dataset\n",
    "fashion_mnist = keras.datasets.fashion_mnist\n",
    "(X_train_full, y_train_full), (X_test, y_test) = fashion_mnist.load_data()\n",
    "\n",
    "# Check dimensions and datatypes\n",
    "print(X_train_full.shape, X_train_full.dtype)\n",
    "\n",
    "# Split the training set into a validation and training set\n",
    "X_valid, X_train = X_train_full[:5000] / 255.0, X_train_full[5000:] / 255.0\n",
    "y_valid, y_train = y_train_full[:5000], y_train_full[5000:]\n",
    "\n",
    "# Define the class names\n",
    "class_names = ['T-shirt/top', 'Trouser', 'Pullover', 'Dress', 'Coat', 'Sandal', 'Shirt', 'Sneaker', 'Bag', 'Ankle Boot']\n",
    "class_names[y_train[0]]"
   ]
  },
  {
   "cell_type": "markdown",
   "id": "8d12a37c-7d72-41ce-b4fd-2128ab4cc8ff",
   "metadata": {},
   "source": [
    "### Creating the model using the Sequential API"
   ]
  },
  {
   "cell_type": "code",
   "execution_count": 29,
   "id": "d903317a-6efb-416f-9304-29b173c2b192",
   "metadata": {
    "tags": []
   },
   "outputs": [
    {
     "name": "stdout",
     "output_type": "stream",
     "text": [
      "Model: \"sequential\"\n",
      "_________________________________________________________________\n",
      " Layer (type)                Output Shape              Param #   \n",
      "=================================================================\n",
      " flatten (Flatten)           (None, 784)               0         \n",
      "                                                                 \n",
      " dense (Dense)               (None, 500)               392500    \n",
      "                                                                 \n",
      " dense_1 (Dense)             (None, 500)               250500    \n",
      "                                                                 \n",
      " dense_2 (Dense)             (None, 500)               250500    \n",
      "                                                                 \n",
      " dense_3 (Dense)             (None, 500)               250500    \n",
      "                                                                 \n",
      " dense_4 (Dense)             (None, 10)                5010      \n",
      "                                                                 \n",
      "=================================================================\n",
      "Total params: 1,149,010\n",
      "Trainable params: 1,149,010\n",
      "Non-trainable params: 0\n",
      "_________________________________________________________________\n"
     ]
    }
   ],
   "source": [
    "model = keras.models.Sequential([\n",
    "    keras.layers.Flatten(input_shape=[28, 28]),\n",
    "    keras.layers.Dense(500, activation='relu'),\n",
    "    keras.layers.Dense(500, activation='relu'),\n",
    "    keras.layers.Dense(500, activation='relu'),\n",
    "    keras.layers.Dense(500, activation='relu'),\n",
    "    keras.layers.Dense(10, activation='softmax')\n",
    "])\n",
    "\n",
    "model.summary()"
   ]
  },
  {
   "cell_type": "markdown",
   "id": "a798f669-9a92-4083-ab96-4d7e89e6fdc5",
   "metadata": {},
   "source": [
    "Let's go through this code line by line:\n",
    "1. The first line creates a Sequential model. This is the simplest kind of Keras model for neural networks that are just composed of a single stack of layers connected sequentially. This is called the Sequential API.\n",
    "2. Next, we build the first layer and add it to the model. It is a Flatten layer whose role is to convert each input image into a 1D array: if it receives input data X, it computes X.reshape(-1, 1). This layer does not have any parameters; it is just there to do some simple preprocessing. Since it is the first layer in the model, you should specify the input_shape, which doesn't include the batch size, only the shape of the instances. Alternatively, you could add a keras.Layers.InputLayer as the first layer, setting input_shape=[28, 28].\n",
    "3. Next we add a Dense hidden layer with 300 neurons. It will use the ReLU activiation function. **Each Dense layer manages its own weight matrix, containing all the connection weights between the neurons and their inputs.** It also manages a vector of bias terms (one per neuron). When it receives some input data, it computes Equation 10-2.\n",
    "4. The we add a second Dense hidden layer with 100 neurons, also using the ReLU activation function.\n",
    "5. Finally, we add a Dense output layer with 10 neurons (one per class), using the softmax activation function (because the classes are exclusive.)"
   ]
  },
  {
   "cell_type": "markdown",
   "id": "32cc032b-ff07-49f9-8656-b23e97af33bd",
   "metadata": {},
   "source": [
    "**Note that Dense layers often have a *lot* of parameters. This gives the model quite a lot of flexibility to fit the training data, but it also means that the model runs the risk of overfitting, especially when you do not have a lot of training data**\n",
    "\n",
    "You can easily get a model's list of layers, to fetch a layer by its index, or you can fetch it by name. All the parameters of a layer can be accessed using its get_weights() and set_weights() methods. For a Dense layer, this includes both the connection weights and the bias terms."
   ]
  },
  {
   "cell_type": "code",
   "execution_count": 32,
   "id": "48c9de87-b81a-49d1-8915-daaf5714b959",
   "metadata": {
    "tags": []
   },
   "outputs": [
    {
     "data": {
      "text/plain": [
       "([<keras.layers.core.flatten.Flatten at 0x1ce86533fd0>,\n",
       "  <keras.layers.core.dense.Dense at 0x1cea302e790>,\n",
       "  <keras.layers.core.dense.Dense at 0x1cea302ea90>,\n",
       "  <keras.layers.core.dense.Dense at 0x1cea302ed60>,\n",
       "  <keras.layers.core.dense.Dense at 0x1cea30b8070>,\n",
       "  <keras.layers.core.dense.Dense at 0x1cea30b8370>],\n",
       " 'dense',\n",
       " True)"
      ]
     },
     "execution_count": 32,
     "metadata": {},
     "output_type": "execute_result"
    }
   ],
   "source": [
    "model.layers, model.layers[1].name, model.get_layer(model.layers[1].name) is model.layers[1]"
   ]
  },
  {
   "cell_type": "code",
   "execution_count": 33,
   "id": "bd71d9ee-b90c-4f7e-b291-f3c12698ef11",
   "metadata": {
    "tags": []
   },
   "outputs": [
    {
     "data": {
      "text/plain": [
       "((784, 500),\n",
       " (500,),\n",
       " array([[-0.03359945,  0.04327252, -0.00304671, ..., -0.02342163,\n",
       "          0.02088782, -0.0463709 ],\n",
       "        [ 0.05201065, -0.01721509, -0.06608457, ...,  0.01044047,\n",
       "         -0.01129175,  0.0500773 ],\n",
       "        [ 0.02180307, -0.03091266,  0.06639855, ..., -0.05205602,\n",
       "          0.04430411,  0.05435304],\n",
       "        ...,\n",
       "        [ 0.05639988,  0.06735679, -0.00417599, ..., -0.0202131 ,\n",
       "          0.03268155,  0.06603561],\n",
       "        [-0.03783273, -0.01314694,  0.0018714 , ...,  0.00512154,\n",
       "          0.04910091, -0.06526025],\n",
       "        [-0.06391209, -0.02634633,  0.02139831, ..., -0.02582237,\n",
       "          0.03113466, -0.04264457]], dtype=float32))"
      ]
     },
     "execution_count": 33,
     "metadata": {},
     "output_type": "execute_result"
    }
   ],
   "source": [
    "weights, biases = model.layers[1].get_weights()\n",
    "weights.shape, biases.shape, weights"
   ]
  },
  {
   "cell_type": "markdown",
   "id": "65e19c11-771a-451e-8382-a20c3825e99b",
   "metadata": {},
   "source": [
    "The shape of the weight matrix depends on the number of inputs. This is why it is recommended to specify the input_shape when creating the first layer in a Sequential model. **Until the model is really built, the layers will not have any weights, and you will not be able to do certain things such as print the model summary or save the model.** So if you know the input shape when creating the model, it is best to specify it."
   ]
  },
  {
   "cell_type": "markdown",
   "id": "20c197eb-4248-4f09-8ff8-7532d8083f40",
   "metadata": {},
   "source": [
    "### Compiling the model"
   ]
  },
  {
   "cell_type": "markdown",
   "id": "40ba9cbe-dc1c-4468-9134-9f44c7c952f7",
   "metadata": {},
   "source": [
    "After a model is created, you must call its compile() method to specify the loss function and the optimizer to use. Optionally, you can specify a list of extra metrics to compute during training and evaluation."
   ]
  },
  {
   "cell_type": "code",
   "execution_count": 37,
   "id": "2756a27e-5d3c-4787-ac13-aef2f10ef28c",
   "metadata": {
    "tags": []
   },
   "outputs": [],
   "source": [
    "model.compile(\n",
    "    loss='sparse_categorical_crossentropy',\n",
    "    optimizer=keras.optimizers.SGD(learning_rate=0.01),\n",
    "    metrics=['accuracy']\n",
    ")"
   ]
  },
  {
   "cell_type": "markdown",
   "id": "f8492c25-35cc-4e7d-8cc7-5f7316f7afb6",
   "metadata": {},
   "source": [
    "This code requires some explanation. **First, we use the 'sparse_categorical_crossentropy' loss because we have sparse labels (i.e. for each instance, there is just a target class index, from 0 to 9 in this case), and the classes are exclusive. If instead we had one target probability per class for each instance (such as one-hot vectors, e.g. [0, 0, 1, 0]) to represent class 2), then we would need to use the 'categorical_crossentropy' loss instead.**\n",
    "\n",
    "If we were doing binary classification (with one or more binary labels), then we would use the 'sigmoid' (i.e. logistic) activiation function in the output layer instead of the 'softmax' activiation function, and we would use the 'binary_crossentropy' loss.\n",
    "\n",
    "If you want to convert sparse labels (i.e. class indices) to one-hot vector labels, use the keras.utils.to_categorical() function. To go the other way around, use the np.argmax() function with axis=1.\n",
    "\n",
    "When using the SGD optimizer, it is important to tune the learning rate. So, you will generally want to use optimizer=keras.optimizers.SGD(learning_rate=???) to set the learning rate, rather than optimizer='sgd', which defaults to learning_rate=0.01"
   ]
  },
  {
   "cell_type": "markdown",
   "id": "839c95c3-46ca-4926-a2ac-b20f7252a7fc",
   "metadata": {},
   "source": [
    "### Training and evaluating the model"
   ]
  },
  {
   "cell_type": "markdown",
   "id": "9ffa7178-e731-4495-b9ab-420c6f359489",
   "metadata": {},
   "source": [
    "Now the model is ready to be trained. For this we simply need to call its fit() method. We pass it the input features (X_train) and the target classes (y_train), as well as the number of epochs to train. We also pass a validation set (this is optional). Keras will measure the loss and the extra metrics on this set at the end of each epoch. If the performance on the training set is much better than the validation set, your model is probably overfitting the training set (or there is a bug such as a data mismatch between the training set and the validation set).\n",
    "\n",
    "Instead of passing a validation set using the validation_data argument, you could set validation_split to the ratio of the training set that you want Keras to use for validation. For example, validation_split=0.1 tells Keras to use the last 10% of the data (before shuffling) for validation.\n",
    "\n",
    "**If the training set was very skewed, with some classes being overrepresented and others underrepresnted, it would be useful to set the class_weight argument when calling the fit() method, which would give a larger weight to underrepresented classes and a lower weight to overrepresented classes.**\n",
    "\n",
    "If you need per-instance weights, set the sample_weight argument (it supersedes class_weight). Per-instance weights could be useful if some instances were labeled by experts while others were labelled using a crowdsourcing platform: you might want to give more weight to the former.\n",
    "\n",
    "The fit() method returns a History object containing the training parameters (history.params), the list of epochs it went through (history.epoch), and most importantly a dictionary (history.history) containing the loss and extra metrics it measured at the end of each epoch on the training set and on the validation set (if any). If you use this dictionary to create a pandas DataFrame and call its plot() method, you get the learning curves for the model.\n",
    "\n",
    "**If your training or validation data does not match the expected shape, you will get an exception. This is perhaps the most common error, so you should get familiar with the error message. The message is actually quite clear: for example, if you try to train this model with an array containing flattened images it will throw this error.**\n",
    "\n",
    "If the validation curves are close to the training curves, it means there is not too much overfitting. In this particular case, the model looks like it performed better on the validation set than on the training set at the beginning of training. But that's not the case: indeed, the validation error is computed at the *end* of each epoch, while the training error is computed using a running mean *during* each epoch. So the training curve should be shifted by half an epoch to the left. If you do that, you will see the that the training and validations curve overlap almost perfectly at the beginning of training.\n",
    "\n",
    "**When plotting the training curve, it should be shifted by half an epoch to the left.**"
   ]
  },
  {
   "cell_type": "code",
   "execution_count": 41,
   "id": "a578895e-708d-41cb-89b9-4a529198aeb1",
   "metadata": {
    "tags": []
   },
   "outputs": [
    {
     "name": "stdout",
     "output_type": "stream",
     "text": [
      "Epoch 1/30\n",
      "1719/1719 [==============================] - 10s 5ms/step - loss: 0.7140 - accuracy: 0.7595 - val_loss: 0.5326 - val_accuracy: 0.8062\n",
      "Epoch 2/30\n",
      "1719/1719 [==============================] - 9s 5ms/step - loss: 0.4629 - accuracy: 0.8363 - val_loss: 0.4493 - val_accuracy: 0.8424\n",
      "Epoch 3/30\n",
      "1719/1719 [==============================] - 9s 5ms/step - loss: 0.4118 - accuracy: 0.8523 - val_loss: 0.3763 - val_accuracy: 0.8738\n",
      "Epoch 4/30\n",
      "1719/1719 [==============================] - 9s 5ms/step - loss: 0.3785 - accuracy: 0.8638 - val_loss: 0.3627 - val_accuracy: 0.8714\n",
      "Epoch 5/30\n",
      "1719/1719 [==============================] - 9s 5ms/step - loss: 0.3564 - accuracy: 0.8710 - val_loss: 0.3488 - val_accuracy: 0.8764\n",
      "Epoch 6/30\n",
      "1719/1719 [==============================] - 9s 5ms/step - loss: 0.3385 - accuracy: 0.8778 - val_loss: 0.3499 - val_accuracy: 0.8742\n",
      "Epoch 7/30\n",
      "1719/1719 [==============================] - 9s 5ms/step - loss: 0.3231 - accuracy: 0.8830 - val_loss: 0.3280 - val_accuracy: 0.8776\n",
      "Epoch 8/30\n",
      "1719/1719 [==============================] - 9s 5ms/step - loss: 0.3098 - accuracy: 0.8870 - val_loss: 0.3290 - val_accuracy: 0.8812\n",
      "Epoch 9/30\n",
      "1719/1719 [==============================] - 9s 5ms/step - loss: 0.2988 - accuracy: 0.8919 - val_loss: 0.3327 - val_accuracy: 0.8810\n",
      "Epoch 10/30\n",
      "1719/1719 [==============================] - 9s 5ms/step - loss: 0.2877 - accuracy: 0.8947 - val_loss: 0.3152 - val_accuracy: 0.8818\n",
      "Epoch 11/30\n",
      "1719/1719 [==============================] - 10s 6ms/step - loss: 0.2789 - accuracy: 0.8986 - val_loss: 0.3212 - val_accuracy: 0.8828\n",
      "Epoch 12/30\n",
      "1719/1719 [==============================] - 9s 5ms/step - loss: 0.2700 - accuracy: 0.9000 - val_loss: 0.3268 - val_accuracy: 0.8806\n",
      "Epoch 13/30\n",
      "1719/1719 [==============================] - 9s 5ms/step - loss: 0.2619 - accuracy: 0.9033 - val_loss: 0.3158 - val_accuracy: 0.8880\n",
      "Epoch 14/30\n",
      "1719/1719 [==============================] - 9s 5ms/step - loss: 0.2524 - accuracy: 0.9079 - val_loss: 0.3064 - val_accuracy: 0.8866\n",
      "Epoch 15/30\n",
      "1719/1719 [==============================] - 9s 5ms/step - loss: 0.2448 - accuracy: 0.9111 - val_loss: 0.2960 - val_accuracy: 0.8918\n",
      "Epoch 16/30\n",
      "1719/1719 [==============================] - 9s 5ms/step - loss: 0.2371 - accuracy: 0.9123 - val_loss: 0.3071 - val_accuracy: 0.8884\n",
      "Epoch 17/30\n",
      "1719/1719 [==============================] - 9s 5ms/step - loss: 0.2318 - accuracy: 0.9152 - val_loss: 0.3223 - val_accuracy: 0.8810\n",
      "Epoch 18/30\n",
      "1719/1719 [==============================] - 9s 5ms/step - loss: 0.2220 - accuracy: 0.9191 - val_loss: 0.2946 - val_accuracy: 0.8930\n",
      "Epoch 19/30\n",
      "1719/1719 [==============================] - 9s 5ms/step - loss: 0.2161 - accuracy: 0.9213 - val_loss: 0.2917 - val_accuracy: 0.8942\n",
      "Epoch 20/30\n",
      "1719/1719 [==============================] - 9s 5ms/step - loss: 0.2118 - accuracy: 0.9216 - val_loss: 0.2847 - val_accuracy: 0.8992\n",
      "Epoch 21/30\n",
      "1719/1719 [==============================] - 9s 5ms/step - loss: 0.2044 - accuracy: 0.9254 - val_loss: 0.2887 - val_accuracy: 0.8958\n",
      "Epoch 22/30\n",
      "1719/1719 [==============================] - 9s 5ms/step - loss: 0.1989 - accuracy: 0.9278 - val_loss: 0.2889 - val_accuracy: 0.8974\n",
      "Epoch 23/30\n",
      "1719/1719 [==============================] - 9s 5ms/step - loss: 0.1942 - accuracy: 0.9288 - val_loss: 0.2839 - val_accuracy: 0.8976\n",
      "Epoch 24/30\n",
      "1719/1719 [==============================] - 9s 5ms/step - loss: 0.1886 - accuracy: 0.9307 - val_loss: 0.2900 - val_accuracy: 0.8938\n",
      "Epoch 25/30\n",
      "1719/1719 [==============================] - 9s 5ms/step - loss: 0.1820 - accuracy: 0.9331 - val_loss: 0.2918 - val_accuracy: 0.8958\n",
      "Epoch 26/30\n",
      "1719/1719 [==============================] - 9s 5ms/step - loss: 0.1764 - accuracy: 0.9361 - val_loss: 0.2985 - val_accuracy: 0.8950\n",
      "Epoch 27/30\n",
      "1719/1719 [==============================] - 9s 5ms/step - loss: 0.1714 - accuracy: 0.9376 - val_loss: 0.3444 - val_accuracy: 0.8860\n",
      "Epoch 28/30\n",
      "1719/1719 [==============================] - 9s 5ms/step - loss: 0.1649 - accuracy: 0.9396 - val_loss: 0.3128 - val_accuracy: 0.8946\n",
      "Epoch 29/30\n",
      "1719/1719 [==============================] - 9s 5ms/step - loss: 0.1618 - accuracy: 0.9405 - val_loss: 0.2996 - val_accuracy: 0.8956\n",
      "Epoch 30/30\n",
      "1719/1719 [==============================] - 9s 5ms/step - loss: 0.1565 - accuracy: 0.9428 - val_loss: 0.3002 - val_accuracy: 0.8912\n"
     ]
    }
   ],
   "source": [
    "history = model.fit(\n",
    "    X_train,\n",
    "    y_train,\n",
    "    epochs=30,\n",
    "    validation_data=(X_valid, y_valid)\n",
    ")"
   ]
  },
  {
   "cell_type": "code",
   "execution_count": 42,
   "id": "a549fd8e-cf03-424b-8523-9e45468686d3",
   "metadata": {
    "tags": []
   },
   "outputs": [
    {
     "data": {
      "text/plain": [
       "<Axes: >"
      ]
     },
     "execution_count": 42,
     "metadata": {},
     "output_type": "execute_result"
    },
    {
     "data": {
      "image/png": "[encoded data removed]",
      "text/plain": [
       "<Figure size 640x480 with 1 Axes>"
      ]
     },
     "metadata": {},
     "output_type": "display_data"
    }
   ],
   "source": [
    "# Create DataFrame from model history\n",
    "learning_curves = pd.DataFrame.from_dict(history.history, orient='columns')\n",
    "\n",
    "# Shift training loss back by 1 epoch for betting alignment (this is shifted left by 0.5 epochs becuase the training loss is a rolling mean during the epoch)\n",
    "learning_curves.loc[:, 'loss'] = learning_curves.loc[:, 'loss'].shift(-1)\n",
    "\n",
    "# Plot\n",
    "learning_curves.plot(ylim=(0,1), grid=True)"
   ]
  },
  {
   "cell_type": "markdown",
   "id": "d44463a0-a3da-40c3-8959-282e301ac00c",
   "metadata": {},
   "source": [
    "The training set performance ends up beating the validation performance, as is generally the case when you train for long enough. **You can tell that the model has not quite converged yet, as the validation loss is still going down, so you should probably continue trianing.** It's as simple as calling the fit() method again, since Keras just continues training where you left off.\n",
    "\n",
    "If you are not satisfied with the performance of your model, you should go back and tune the hyperparameters. The first one to check is the learning rate. If that doesn't help, try another optimizer (and always return the learning rate after changing any hyperparameter). If the performance is still not great, then try tuning the model hyperparameters such as the number of layers, the number of neurons per layer, and the types of activation functions to use for each hidden layer. You can also try tuning other hyperparameters, such as the batch size.  \n",
    "\n",
    "Once you are satisfied with your model's validation accuracy, you should evaluate it on the test set to estimate the generalization error before you deploy the model to production. You can easily do this by using the evaluate() method. It is common to get slightly lower performance on the test set than the validation set, because the hyperparameters are tuned on the validation set, not the test set."
   ]
  },
  {
   "cell_type": "code",
   "execution_count": 44,
   "id": "0cb1f3ec-82f3-440c-921d-43b79d74f00f",
   "metadata": {
    "tags": []
   },
   "outputs": [
    {
     "name": "stdout",
     "output_type": "stream",
     "text": [
      "313/313 [==============================] - 1s 4ms/step - loss: 48.8082 - accuracy: 0.8611\n"
     ]
    },
    {
     "data": {
      "text/plain": [
       "[48.80824661254883, 0.8611000180244446]"
      ]
     },
     "execution_count": 44,
     "metadata": {},
     "output_type": "execute_result"
    }
   ],
   "source": [
    "model.evaluate(X_test, y_test)"
   ]
  },
  {
   "cell_type": "markdown",
   "id": "d16c5c23-c9ec-4d4b-8de3-3bc4a25072a9",
   "metadata": {},
   "source": [
    "### Using the model to make predictions"
   ]
  },
  {
   "cell_type": "markdown",
   "id": "4a0c3df9-1540-47c2-a3f2-17b3409cc2f6",
   "metadata": {},
   "source": [
    "Next, we can use the model's predict() method to make predictions on new instances. If you only care about the class with the highest estimated probability (even if that probability is quite low), then you can use the predict_classes() method instead."
   ]
  },
  {
   "cell_type": "code",
   "execution_count": 47,
   "id": "3f1fe7b1-1a9b-4a3b-818a-e6f5b2077160",
   "metadata": {
    "tags": []
   },
   "outputs": [
    {
     "data": {
      "text/plain": [
       "array([[0., 0., 0., 0., 0., 0., 0., 0., 0., 1.],\n",
       "       [0., 0., 1., 0., 0., 0., 0., 0., 0., 0.],\n",
       "       [0., 1., 0., 0., 0., 0., 0., 0., 0., 0.]], dtype=float32)"
      ]
     },
     "execution_count": 47,
     "metadata": {},
     "output_type": "execute_result"
    }
   ],
   "source": [
    "X_new = X_test[:3]\n",
    "y_proba = model.predict(X_new)\n",
    "y_proba.round(2)"
   ]
  },
  {
   "cell_type": "code",
   "execution_count": 48,
   "id": "eced6416-8f8e-4195-a6b6-81691419097d",
   "metadata": {
    "tags": []
   },
   "outputs": [
    {
     "data": {
      "text/plain": [
       "(array([9, 2, 1], dtype=int64),\n",
       " array(['Ankle Boot', 'Pullover', 'Trouser'], dtype='<U11'),\n",
       " array([9, 2, 1], dtype=uint8))"
      ]
     },
     "execution_count": 48,
     "metadata": {},
     "output_type": "execute_result"
    }
   ],
   "source": [
    "y_pred = np.argmax(y_proba, axis=1)\n",
    "y_pred, np.array(class_names)[y_pred], y_test[:3]"
   ]
  },
  {
   "cell_type": "markdown",
   "id": "c43c3179-eff8-4326-9b9c-67c5ab5b2271",
   "metadata": {},
   "source": [
    "## Building a Regression MLP Using the Sequential API"
   ]
  },
  {
   "cell_type": "code",
   "execution_count": 50,
   "id": "f7d3a1ec-3cfb-449f-aa2f-9b64e81c8a27",
   "metadata": {
    "tags": []
   },
   "outputs": [
    {
     "name": "stdout",
     "output_type": "stream",
     "text": [
      "Epoch 1/20\n",
      "363/363 [==============================] - 1s 1ms/step - loss: 0.8711 - val_loss: 0.6582\n",
      "Epoch 2/20\n",
      "363/363 [==============================] - 0s 991us/step - loss: 0.7041 - val_loss: 5.2731\n",
      "Epoch 3/20\n",
      "363/363 [==============================] - 0s 972us/step - loss: 0.8312 - val_loss: 1.6523\n",
      "Epoch 4/20\n",
      "363/363 [==============================] - 0s 999us/step - loss: 2.1917 - val_loss: 0.4314\n",
      "Epoch 5/20\n",
      "363/363 [==============================] - 0s 978us/step - loss: 0.4072 - val_loss: 0.3994\n",
      "Epoch 6/20\n",
      "363/363 [==============================] - 0s 999us/step - loss: 0.3887 - val_loss: 0.3837\n",
      "Epoch 7/20\n",
      "363/363 [==============================] - 0s 1ms/step - loss: 0.3808 - val_loss: 0.3785\n",
      "Epoch 8/20\n",
      "363/363 [==============================] - 0s 1ms/step - loss: 0.3755 - val_loss: 0.3794\n",
      "Epoch 9/20\n",
      "363/363 [==============================] - 0s 995us/step - loss: 0.3724 - val_loss: 0.3769\n",
      "Epoch 10/20\n",
      "363/363 [==============================] - 0s 991us/step - loss: 0.3686 - val_loss: 0.3713\n",
      "Epoch 11/20\n",
      "363/363 [==============================] - 0s 1ms/step - loss: 0.3666 - val_loss: 0.3676\n",
      "Epoch 12/20\n",
      "363/363 [==============================] - 0s 995us/step - loss: 0.3629 - val_loss: 0.3700\n",
      "Epoch 13/20\n",
      "363/363 [==============================] - 0s 1ms/step - loss: 0.3612 - val_loss: 0.3659\n",
      "Epoch 14/20\n",
      "363/363 [==============================] - 0s 987us/step - loss: 0.3592 - val_loss: 0.3629\n",
      "Epoch 15/20\n",
      "363/363 [==============================] - 0s 989us/step - loss: 0.3582 - val_loss: 0.3588\n",
      "Epoch 16/20\n",
      "363/363 [==============================] - 0s 988us/step - loss: 0.3562 - val_loss: 0.3587\n",
      "Epoch 17/20\n",
      "363/363 [==============================] - 0s 1ms/step - loss: 0.3552 - val_loss: 0.3574\n",
      "Epoch 18/20\n",
      "363/363 [==============================] - 0s 989us/step - loss: 0.3532 - val_loss: 0.3563\n",
      "Epoch 19/20\n",
      "363/363 [==============================] - 0s 978us/step - loss: 0.3522 - val_loss: 0.3556\n",
      "Epoch 20/20\n",
      "363/363 [==============================] - 0s 989us/step - loss: 0.3510 - val_loss: 0.3546\n",
      "162/162 [==============================] - 0s 693us/step - loss: 0.3454\n"
     ]
    }
   ],
   "source": [
    "' Lets switch to the California housing problem and tackle it using a regression neural network'\n",
    "from sklearn.datasets import fetch_california_housing\n",
    "from sklearn.model_selection import train_test_split\n",
    "from sklearn.preprocessing import StandardScaler\n",
    "\n",
    "# Load the raw data\n",
    "housing = fetch_california_housing()\n",
    "\n",
    "# Split data in train, val and test sets\n",
    "X_train_full, X_test, y_train_full, y_test = train_test_split(\n",
    "    housing.data,\n",
    "    housing.target\n",
    ")\n",
    "\n",
    "X_train, X_valid, y_train, y_valid = train_test_split(\n",
    "    X_train_full,\n",
    "    y_train_full\n",
    ")\n",
    "\n",
    "# Scale the data. Remember, only fit the scaler to the train data.  Transform the val and test data according to this fit.\n",
    "scaler = StandardScaler()\n",
    "X_train = scaler.fit_transform(X_train)\n",
    "X_valid = scaler.transform(X_valid)\n",
    "X_test = scaler.transform(X_test)\n",
    "\n",
    "# Construct the TF model\n",
    "model = keras.models.Sequential([\n",
    "    keras.layers.Dense(30, activation='relu', input_shape=X_train.shape[1:]),\n",
    "    keras.layers.Dense(1)\n",
    "])\n",
    "model.compile(\n",
    "    loss='mean_squared_error',\n",
    "    optimizer=keras.optimizers.SGD(learning_rate=0.01)\n",
    ")\n",
    "history = model.fit(\n",
    "    X_train,\n",
    "    y_train,\n",
    "    epochs=20,\n",
    "    validation_data=(X_valid, y_valid)\n",
    ")\n",
    "\n",
    "# Evaluate performance on the test set\n",
    "mse_test = model.evaluate(X_test, y_test)\n",
    "\n",
    "# Make predictions\n",
    "X_new = X_test[:3] # Pretend these are new instances\n",
    "y_pred = model.predict(X_new)"
   ]
  },
  {
   "cell_type": "code",
   "execution_count": 51,
   "id": "d2b42c19-e8fd-4dd1-98f3-c0890ddfbbd1",
   "metadata": {
    "tags": []
   },
   "outputs": [
    {
     "data": {
      "text/plain": [
       "(0.34543487429618835,\n",
       " array([[1.2096193],\n",
       "        [1.5039266],\n",
       "        [1.9677328]], dtype=float32),\n",
       " array([1.208, 1.33 , 0.8  ]))"
      ]
     },
     "execution_count": 51,
     "metadata": {},
     "output_type": "execute_result"
    }
   ],
   "source": [
    "mse_test, y_pred, y_test[:3]"
   ]
  },
  {
   "cell_type": "code",
   "execution_count": 52,
   "id": "ce1ca00c-961f-4e65-b68b-fdab06130e87",
   "metadata": {
    "tags": []
   },
   "outputs": [
    {
     "data": {
      "text/plain": [
       "array([617464.30677533, 673506.12120398, 761823.78714835])"
      ]
     },
     "execution_count": 52,
     "metadata": {},
     "output_type": "execute_result"
    }
   ],
   "source": [
    "scaler.inverse_transform(np.concatenate((y_pred, np.zeros((y_pred.shape[0], 7))), axis=1))[:, 0] * 1e5"
   ]
  },
  {
   "cell_type": "code",
   "execution_count": 53,
   "id": "8d733c74-bb03-4494-8daa-a879e445e83f",
   "metadata": {
    "tags": []
   },
   "outputs": [
    {
     "data": {
      "text/plain": [
       "array([617155.96383064, 640387.12450146, 539464.86912822])"
      ]
     },
     "execution_count": 53,
     "metadata": {},
     "output_type": "execute_result"
    }
   ],
   "source": [
    "scaler.inverse_transform(np.concatenate((y_test[:3].reshape(-1, 1), np.zeros((y_test[:3].shape[0], 7))), axis=1))[:, 0] * 1e5"
   ]
  },
  {
   "cell_type": "markdown",
   "id": "a7d91354-2dfc-4dcf-bdf9-80e882ed512a",
   "metadata": {},
   "source": [
    "## Building Complex Models Using the Functional API"
   ]
  },
  {
   "cell_type": "markdown",
   "id": "bf06c060-340b-4d0d-92f4-3ea291f528db",
   "metadata": {},
   "source": [
    "One example of a nonsequential neural network is a *Wide & Deep* neural network. It connects all or part of the inputs directly to the output layer. **This architecture makes it possible for the neural network to learn both deep patterns (using the deep path) and simple rules (through the short path).** In contrast, a regular MLP forces all the data to flow through the full stack of layers; thus, simple patterns in the data may end up being distorted by the sequence of transformations. Let's build such a neural network to tackle the California housing problem."
   ]
  },
  {
   "cell_type": "code",
   "execution_count": 56,
   "id": "64cfdf1a-4691-425c-906a-109d934d01b8",
   "metadata": {
    "tags": []
   },
   "outputs": [],
   "source": [
    "input_ = keras.layers.Input(shape=X_train.shape[1:])\n",
    "hidden1 = keras.layers.Dense(30, activation='relu')(input_)\n",
    "hidden2 = keras.layers.Dense(30, activation='relu')(hidden1)\n",
    "concat = keras.layers.Concatenate()([input_, hidden2])\n",
    "output = keras.layers.Dense(1)(concat)\n",
    "model = keras.Model(inputs=[input_], outputs=[output])"
   ]
  },
  {
   "cell_type": "markdown",
   "id": "5913572c-1adb-4c13-8b56-1d0021223396",
   "metadata": {},
   "source": [
    "Let's go through each line of this code:\n",
    "1. First, we need to create an Input object. This is a specification of the kind of input the model will get, including its shape and dtype. A model may actually have multiple inputs, as we will see shortly.\n",
    "2. Next, we create a Dense layer with 30 neurons, using the ReLU activation function. **As soon as it is created, notice that we call it like a function, passing it the input.** This is why this is called the Functional API. **Note that we are just telling Keras how it should connect the layers together**, no actual data is being processed yet. \n",
    "3. We then create a second hidden layer, and again we use it as a function. **Note that we pass it the output of the first hidden layer.**\n",
    "4. Next, we create a Concatenate layer, and once again we immediately use it like a function, to concatenate the input and the output of the second hidden layer. You may prefer the keras.layers.concatenate() function, which creates a Concatenate layer and immeidately calls it with the given inputs.\n",
    "5. Then we create the output layer, with a single neuron and no activiation function, and we call it like a function, passing it the result of the concatenation.\n",
    "6. Lastly, we create a Keras Model, specifying which inputs and outputs to use.\n",
    "\n",
    "But what if you want to send a subset of the features through the wide path and a different subset (possibly overlapping) through the deep path? In this case, one solution is to use multiple inputs. In this case, when we call the fit() method, instead of passing a single input matrix X_train, we must pass a pair of matrices (X_train_A, X_train_B): one per input. Alternatively, you can pass a dictionary mapping the input names to the input values, like {'wide_input': X_train_A, 'deep_input': X_train_B}. This is especially useful when there are many inputs, to avoid getting the order wrong."
   ]
  },
  {
   "cell_type": "code",
   "execution_count": 58,
   "id": "01213a2c-b7a1-4908-9583-ff519a436535",
   "metadata": {
    "tags": []
   },
   "outputs": [
    {
     "name": "stdout",
     "output_type": "stream",
     "text": [
      "Epoch 1/20\n",
      "363/363 [==============================] - 1s 1ms/step - loss: 2.2701 - val_loss: 0.9575\n",
      "Epoch 2/20\n",
      "363/363 [==============================] - 0s 1ms/step - loss: 0.8566 - val_loss: 0.7429\n",
      "Epoch 3/20\n",
      "363/363 [==============================] - 0s 1ms/step - loss: 0.6925 - val_loss: 0.6331\n",
      "Epoch 4/20\n",
      "363/363 [==============================] - 0s 1ms/step - loss: 0.6369 - val_loss: 0.6037\n",
      "Epoch 5/20\n",
      "363/363 [==============================] - 0s 1ms/step - loss: 0.6123 - val_loss: 0.5838\n",
      "Epoch 6/20\n",
      "363/363 [==============================] - 0s 1ms/step - loss: 0.5930 - val_loss: 0.5686\n",
      "Epoch 7/20\n",
      "363/363 [==============================] - 0s 1ms/step - loss: 0.5766 - val_loss: 0.5541\n",
      "Epoch 8/20\n",
      "363/363 [==============================] - 0s 1ms/step - loss: 0.5631 - val_loss: 0.5424\n",
      "Epoch 9/20\n",
      "363/363 [==============================] - 0s 1ms/step - loss: 0.5504 - val_loss: 0.5331\n",
      "Epoch 10/20\n",
      "363/363 [==============================] - 0s 1ms/step - loss: 0.5404 - val_loss: 0.5231\n",
      "Epoch 11/20\n",
      "363/363 [==============================] - 0s 1ms/step - loss: 0.5315 - val_loss: 0.5160\n",
      "Epoch 12/20\n",
      "363/363 [==============================] - 0s 1ms/step - loss: 0.5229 - val_loss: 0.5093\n",
      "Epoch 13/20\n",
      "363/363 [==============================] - 0s 1ms/step - loss: 0.5162 - val_loss: 0.5025\n",
      "Epoch 14/20\n",
      "363/363 [==============================] - 0s 1ms/step - loss: 0.5098 - val_loss: 0.4970\n",
      "Epoch 15/20\n",
      "363/363 [==============================] - 0s 1ms/step - loss: 0.5044 - val_loss: 0.4946\n",
      "Epoch 16/20\n",
      "363/363 [==============================] - 0s 1ms/step - loss: 0.4988 - val_loss: 0.4888\n",
      "Epoch 17/20\n",
      "363/363 [==============================] - 0s 1ms/step - loss: 0.4946 - val_loss: 0.4847\n",
      "Epoch 18/20\n",
      "363/363 [==============================] - 0s 1ms/step - loss: 0.4903 - val_loss: 0.4826\n",
      "Epoch 19/20\n",
      "363/363 [==============================] - 0s 1ms/step - loss: 0.4864 - val_loss: 0.4778\n",
      "Epoch 20/20\n",
      "363/363 [==============================] - 0s 1ms/step - loss: 0.4834 - val_loss: 0.4754\n",
      "162/162 [==============================] - 0s 711us/step - loss: 0.4914\n"
     ]
    },
    {
     "data": {
      "text/plain": [
       "(0.4914042055606842,\n",
       " array([[1.0061936],\n",
       "        [1.754076 ],\n",
       "        [1.0933515]], dtype=float32))"
      ]
     },
     "execution_count": 58,
     "metadata": {},
     "output_type": "execute_result"
    }
   ],
   "source": [
    "input_A = keras.layers.Input(shape=[5], name='wide_input')\n",
    "input_B = keras.layers.Input(shape=[6], name='deep_input')\n",
    "hidden1 = keras.layers.Dense(30, activation='relu')(input_B)\n",
    "hidden2 = keras.layers.Dense(30, activation='relu')(hidden1)\n",
    "concat = keras.layers.Concatenate()([input_A, hidden2])\n",
    "output = keras.layers.Dense(1, name='output')(concat)\n",
    "model = keras.Model(inputs=[input_A, input_B], outputs=[output])\n",
    "\n",
    "model.compile(\n",
    "    loss='mse',\n",
    "    optimizer=keras.optimizers.SGD(learning_rate=1e-3)\n",
    ")\n",
    "\n",
    "X_train_A, X_train_B = X_train[:, :5], X_train[:, 2:]\n",
    "X_valid_A, X_valid_B = X_valid[:, :5], X_valid[:, 2:]\n",
    "X_test_A, X_test_B = X_test[:, :5], X_test[:, 2:]\n",
    "X_new_A, X_new_B = X_test_A[:3], X_test_B[:3]\n",
    "\n",
    "history = model.fit(\n",
    "    (X_train_A, X_train_B),\n",
    "    y_train,\n",
    "    epochs=20,\n",
    "    validation_data=((X_valid_A, X_valid_B), y_valid)\n",
    ")\n",
    "\n",
    "mse_test = model.evaluate((X_test_A, X_test_B), y_test)\n",
    "y_pred = model.predict((X_new_A, X_new_B))\n",
    "\n",
    "mse_test, y_pred"
   ]
  },
  {
   "cell_type": "markdown",
   "id": "b35c291d-d8d8-4d29-9900-c9e11a5b1bbe",
   "metadata": {},
   "source": [
    "There are many use cases in which you may want to have multiple outputs:\n",
    "1. The task may demand it. For instance, you may want to locate and classify the main object in a picture. This is both a regression task (finding the coordinates of the object's center, as well as its width and height) and a classification task.\n",
    "2. Similarly, you may have multiple independent tasks based on the same data. **Sure, you could train one neural network per task, but in many cases you will get better results on all tasks by training a single neural network with one output per task. This is because the neural network can learn features in the data that are usefull across tasks.** For example, you could perform *multitask classification* on pictures of faces, using one output to classify the person's facial expression (smiling, surprised, etc.) and another output to identify whether they are wearing glasses or not.\n",
    "3. Another use case is as a regularization technique (i.e. a training contraint whose objective is to reduce overfitting and thus improve the model's ability to generalize). For example, you may want to add some auxiliary outputs in a neural network architecture to ensure that hte underlying part of the newtwork learns something useful on its own, without relying on the rest of the network.\n",
    "\n",
    "Adding extra outputs is quite easy: just connect them to the appropriate layers and add them to your model's list of outputs. Each output will need its own loss function. Therefore, when we compile the model, we should pass a list of losses. By default, Keras will compute all these losses and simply add them up to get the final loss used for training. We care much more about the main output than about the auxiliary output (as it is just used for regularization), so we want to give the main output's loss a much greater weight. Fortunately, it is possible to set all the loss weights when compiling the model. Also, now when we train the model, we need to provide labels for each output.\n",
    "\n",
    "When we evaluate the model, Keras will return the total loss, as well as the individual losses. Similarly, the predict() method will return predictions for each output."
   ]
  },
  {
   "cell_type": "code",
   "execution_count": 60,
   "id": "f224921c-7981-4150-ad2c-baeb50d9281b",
   "metadata": {
    "tags": []
   },
   "outputs": [
    {
     "name": "stdout",
     "output_type": "stream",
     "text": [
      "Epoch 1/20\n",
      "363/363 [==============================] - 1s 1ms/step - loss: 0.9058 - main_output_loss: 0.8540 - aux_output_loss: 1.3723 - val_loss: 0.7514 - val_main_output_loss: 0.7266 - val_aux_output_loss: 0.9750\n",
      "Epoch 2/20\n",
      "363/363 [==============================] - 0s 1ms/step - loss: 1.1638 - main_output_loss: 1.1771 - aux_output_loss: 1.0438 - val_loss: 0.5052 - val_main_output_loss: 0.4539 - val_aux_output_loss: 0.9671\n",
      "Epoch 3/20\n",
      "363/363 [==============================] - 0s 1ms/step - loss: 0.4844 - main_output_loss: 0.4432 - aux_output_loss: 0.8548 - val_loss: 0.5951 - val_main_output_loss: 0.5688 - val_aux_output_loss: 0.8314\n",
      "Epoch 4/20\n",
      "363/363 [==============================] - 0s 1ms/step - loss: 0.4936 - main_output_loss: 0.4626 - aux_output_loss: 0.7730 - val_loss: 0.5773 - val_main_output_loss: 0.5623 - val_aux_output_loss: 0.7115\n",
      "Epoch 5/20\n",
      "363/363 [==============================] - 0s 1ms/step - loss: 0.5510 - main_output_loss: 0.5304 - aux_output_loss: 0.7357 - val_loss: 0.4330 - val_main_output_loss: 0.4104 - val_aux_output_loss: 0.6359\n",
      "Epoch 6/20\n",
      "363/363 [==============================] - 0s 1ms/step - loss: 0.4268 - main_output_loss: 0.4022 - aux_output_loss: 0.6483 - val_loss: 0.4153 - val_main_output_loss: 0.3939 - val_aux_output_loss: 0.6075\n",
      "Epoch 7/20\n",
      "363/363 [==============================] - 0s 1ms/step - loss: 0.4179 - main_output_loss: 0.3959 - aux_output_loss: 0.6163 - val_loss: 0.4229 - val_main_output_loss: 0.4050 - val_aux_output_loss: 0.5840\n",
      "Epoch 8/20\n",
      "363/363 [==============================] - 0s 1ms/step - loss: 0.4067 - main_output_loss: 0.3862 - aux_output_loss: 0.5911 - val_loss: 0.3950 - val_main_output_loss: 0.3762 - val_aux_output_loss: 0.5644\n",
      "Epoch 9/20\n",
      "363/363 [==============================] - 0s 1ms/step - loss: 0.3993 - main_output_loss: 0.3800 - aux_output_loss: 0.5730 - val_loss: 0.4972 - val_main_output_loss: 0.4814 - val_aux_output_loss: 0.6393\n",
      "Epoch 10/20\n",
      "363/363 [==============================] - 0s 1ms/step - loss: 0.3950 - main_output_loss: 0.3764 - aux_output_loss: 0.5625 - val_loss: 0.4005 - val_main_output_loss: 0.3830 - val_aux_output_loss: 0.5580\n",
      "Epoch 11/20\n",
      "363/363 [==============================] - 0s 1ms/step - loss: 0.3857 - main_output_loss: 0.3677 - aux_output_loss: 0.5478 - val_loss: 0.3845 - val_main_output_loss: 0.3678 - val_aux_output_loss: 0.5349\n",
      "Epoch 12/20\n",
      "363/363 [==============================] - 0s 1ms/step - loss: 0.3854 - main_output_loss: 0.3687 - aux_output_loss: 0.5361 - val_loss: 0.4142 - val_main_output_loss: 0.3979 - val_aux_output_loss: 0.5615\n",
      "Epoch 13/20\n",
      "363/363 [==============================] - 0s 1ms/step - loss: 0.3765 - main_output_loss: 0.3599 - aux_output_loss: 0.5253 - val_loss: 0.4499 - val_main_output_loss: 0.4390 - val_aux_output_loss: 0.5477\n",
      "Epoch 14/20\n",
      "363/363 [==============================] - 0s 1ms/step - loss: 0.4317 - main_output_loss: 0.4185 - aux_output_loss: 0.5504 - val_loss: 0.3866 - val_main_output_loss: 0.3652 - val_aux_output_loss: 0.5792\n",
      "Epoch 15/20\n",
      "363/363 [==============================] - 0s 1ms/step - loss: 0.3805 - main_output_loss: 0.3638 - aux_output_loss: 0.5306 - val_loss: 0.3880 - val_main_output_loss: 0.3748 - val_aux_output_loss: 0.5063\n",
      "Epoch 16/20\n",
      "363/363 [==============================] - 0s 1ms/step - loss: 0.3767 - main_output_loss: 0.3628 - aux_output_loss: 0.5018 - val_loss: 0.3768 - val_main_output_loss: 0.3648 - val_aux_output_loss: 0.4843\n",
      "Epoch 17/20\n",
      "363/363 [==============================] - 0s 1ms/step - loss: 0.3735 - main_output_loss: 0.3579 - aux_output_loss: 0.5133 - val_loss: 0.3652 - val_main_output_loss: 0.3513 - val_aux_output_loss: 0.4903\n",
      "Epoch 18/20\n",
      "363/363 [==============================] - 0s 1ms/step - loss: 0.3705 - main_output_loss: 0.3576 - aux_output_loss: 0.4870 - val_loss: 0.5213 - val_main_output_loss: 0.5234 - val_aux_output_loss: 0.5020\n",
      "Epoch 19/20\n",
      "363/363 [==============================] - 0s 1ms/step - loss: 0.3675 - main_output_loss: 0.3546 - aux_output_loss: 0.4843 - val_loss: 0.3675 - val_main_output_loss: 0.3567 - val_aux_output_loss: 0.4650\n",
      "Epoch 20/20\n",
      "363/363 [==============================] - 0s 1ms/step - loss: 0.3600 - main_output_loss: 0.3468 - aux_output_loss: 0.4794 - val_loss: 0.3665 - val_main_output_loss: 0.3557 - val_aux_output_loss: 0.4634\n",
      "162/162 [==============================] - 0s 939us/step - loss: 0.3485 - main_output_loss: 0.3354 - aux_output_loss: 0.4666\n"
     ]
    },
    {
     "data": {
      "text/plain": [
       "(0.3485252559185028,\n",
       " 0.33540692925453186,\n",
       " 0.46659132838249207,\n",
       " array([[1.2118365],\n",
       "        [1.3224323],\n",
       "        [1.3681982]], dtype=float32),\n",
       " array([[0.88918924],\n",
       "        [1.0992093 ],\n",
       "        [1.87235   ]], dtype=float32))"
      ]
     },
     "execution_count": 60,
     "metadata": {},
     "output_type": "execute_result"
    }
   ],
   "source": [
    "input_A = keras.layers.Input(shape=[5], name='wide_input')\n",
    "input_B = keras.layers.Input(shape=[6], name='deep_input')\n",
    "hidden1 = keras.layers.Dense(30, activation='relu')(input_B)\n",
    "hidden2 = keras.layers.Dense(30, activation='relu')(hidden1)\n",
    "concat = keras.layers.Concatenate()([input_A, hidden2])\n",
    "output = keras.layers.Dense(1, name='main_output')(concat)\n",
    "aux_output = keras.layers.Dense(1, name='aux_output')(hidden2)\n",
    "model = keras.Model(inputs=[input_A, input_B], outputs=[output, aux_output])\n",
    "\n",
    "model.compile(\n",
    "    loss=['mse', 'mse'],\n",
    "    loss_weights=[0.9, 0.1],\n",
    "    optimizer=keras.optimizers.SGD(learning_rate=0.02)\n",
    ")\n",
    "\n",
    "history = model.fit(\n",
    "    [X_train_A, X_train_B],\n",
    "    [y_train, y_train],\n",
    "    epochs=20,\n",
    "    validation_data=([X_valid_A, X_valid_B], [y_valid, y_valid])\n",
    ")\n",
    "\n",
    "total_loss, main_loss, aux_loss = model.evaluate(\n",
    "    [X_test_A, X_test_B],\n",
    "    [y_test, y_test]\n",
    ")\n",
    "\n",
    "y_pred_main, y_pred_aux = model.predict(\n",
    "    [X_test_A[:3], X_test_B[:3]]\n",
    ")\n",
    "\n",
    "total_loss, main_loss, aux_loss, y_pred_main, y_pred_aux"
   ]
  },
  {
   "cell_type": "markdown",
   "id": "e4d257b2-1ba4-4b9e-92d3-c32e5a685d77",
   "metadata": {},
   "source": [
    "## Using the Subclassing API to Build Dynamic Models"
   ]
  },
  {
   "cell_type": "markdown",
   "id": "5f040844-cd38-48b6-9c40-398084febfbc",
   "metadata": {},
   "source": [
    "Both the Sequential API and the Functional API are declarative: you start by declaring which layers you want to use and how they should be connected, and only then can you start feeding the model some data for training or inference. This has many advantages:\n",
    "1. The model can easily be saved, cloned and shared\n",
    "2. Its structure can be displayed and analyzed; the framework can infer shapes and check types, so errors can be caught early.\n",
    "3. It's fairly easy to debug, since the whole model is a static graph of layers.\n",
    "\n",
    "But the flip side is just that: it's static. Some models involve loops, varying shapes, conditional branching, and other dynamic behaviors. For such cases, or simply if you prefer a more imperative programming style, the Subclassing API is for you.\n",
    "\n",
    "Simply subclass the Model class, create the layers you need in the constructor, and use them to perform the computations you want in the call() method. For example, creating an instance of the following WideAndDeepModel class gives us an equivalent model to the one we just built with the Functional API. The big difference is that you can do pretty much anything you want in the call() method: for loops, if statements, low-level TensorFlow operations, etc. This makes it a great API for researchers experimenting with new ideas.\n",
    "\n",
    "This extra flexibility does come at a cost: your model's architecture is hidden within the call() method, so Keras cannot easily inspect it; it cannot save or clone it; and when you call the summary() method, you only get a list of layers, without any information on how they are connected to each other. Moreover, Keras cannot check types and shapes ahead of time, and it is easier to make mistakes. **So unless you really need that extra flexibility, you should probably stick to the Sequential and Functional API.**"
   ]
  },
  {
   "cell_type": "code",
   "execution_count": 63,
   "id": "29d6a212-2f59-4e81-af56-dbf7a83deedd",
   "metadata": {
    "tags": []
   },
   "outputs": [],
   "source": [
    "class WideAndDeepModel(keras.Model):\n",
    "    def __init__(self, units=30, activation='relu', **kwargs):\n",
    "        super().__init__(**kwargs) # handles standard args (e.g, name)\n",
    "        self.hidden1 = keras.layers.Dense(units, activation=activation)\n",
    "        self.hidden2 = keras.layers.Dense(units, activation=activation)\n",
    "        self.main_output = keras.layers.Dense(1)\n",
    "        self.aux_output = keras.layers.Dense(1)\n",
    "        \n",
    "    def call(self, inputs: tuple):\n",
    "        input_A, input_B = inputs\n",
    "        hidden1 = self.hidden1(input_B)\n",
    "        hidden2 = self.hidden2(hidden1)\n",
    "        concat = keras.layers.concatenate([input_A, hidden2])\n",
    "        main_output = self.main_output(concat)\n",
    "        aux_output = self.aux_output(hidden2)\n",
    "        return main_output, aux_output\n",
    "    \n",
    "model = WideAndDeepModel()"
   ]
  },
  {
   "cell_type": "markdown",
   "id": "4bb15599-03f0-4b9f-9387-a9a78f88ac44",
   "metadata": {},
   "source": [
    "## Saving and Restoring a Model"
   ]
  },
  {
   "cell_type": "markdown",
   "id": "e8c2ef8e-281c-4df1-8180-4b4a5abd8460",
   "metadata": {},
   "source": [
    "Saving a trained Keras model is as simple as it gets. Keras will use the HDF5 format to save both the model's architecture (including every layer's hyperparameters) and the values of all the model parameters for every layer (e.g. connection weights and biases).. It also saves the optimizer (including its hyperparameters and any state it may have). Loading the model is just as easy.\n",
    "\n",
    "**This will work when using the Sequential API and Functional API, but unfortunately not when using model subclassing. You can use save_weights() and load_weights() to at least save and restore the model parameters, but you will need to save and restore everything else yourself**\n",
    "\n",
    "But what if training lasts several hours? This is quite common, especially when training on large datasets. In this case, you should not only save your model at the end of training, but also save checkpoints at regular intervals during the training, to avoid losing everything if your computer crashes. But how can you tell the fit() method to save checkpoints? **Use callbacks**"
   ]
  },
  {
   "cell_type": "code",
   "execution_count": 66,
   "id": "f0f24a5e-d979-4400-8db6-1e1c39c6c31a",
   "metadata": {
    "tags": []
   },
   "outputs": [
    {
     "name": "stdout",
     "output_type": "stream",
     "text": [
      "Epoch 1/20\n",
      "363/363 [==============================] - 1s 2ms/step - loss: 1.2706 - main_output_loss: 1.2238 - aux_output_loss: 1.6922 - val_loss: 2.6055 - val_main_output_loss: 2.7245 - val_aux_output_loss: 1.5337\n",
      "Epoch 2/20\n",
      "363/363 [==============================] - 0s 1ms/step - loss: 0.7850 - main_output_loss: 0.7477 - aux_output_loss: 1.1211 - val_loss: 0.5283 - val_main_output_loss: 0.4829 - val_aux_output_loss: 0.9367\n",
      "Epoch 3/20\n",
      "363/363 [==============================] - 0s 1ms/step - loss: 0.4986 - main_output_loss: 0.4589 - aux_output_loss: 0.8556 - val_loss: 0.4459 - val_main_output_loss: 0.4163 - val_aux_output_loss: 0.7119\n",
      "Epoch 4/20\n",
      "363/363 [==============================] - 0s 1ms/step - loss: 0.4470 - main_output_loss: 0.4170 - aux_output_loss: 0.7166 - val_loss: 0.5140 - val_main_output_loss: 0.4996 - val_aux_output_loss: 0.6435\n",
      "Epoch 5/20\n",
      "363/363 [==============================] - 0s 1ms/step - loss: 0.4345 - main_output_loss: 0.4087 - aux_output_loss: 0.6666 - val_loss: 0.4290 - val_main_output_loss: 0.4061 - val_aux_output_loss: 0.6348\n",
      "Epoch 6/20\n",
      "363/363 [==============================] - 0s 1ms/step - loss: 0.4156 - main_output_loss: 0.3914 - aux_output_loss: 0.6336 - val_loss: 0.4071 - val_main_output_loss: 0.3871 - val_aux_output_loss: 0.5870\n",
      "Epoch 7/20\n",
      "363/363 [==============================] - 0s 1ms/step - loss: 0.4034 - main_output_loss: 0.3808 - aux_output_loss: 0.6067 - val_loss: 0.4008 - val_main_output_loss: 0.3816 - val_aux_output_loss: 0.5735\n",
      "Epoch 8/20\n",
      "363/363 [==============================] - 0s 1ms/step - loss: 0.3963 - main_output_loss: 0.3749 - aux_output_loss: 0.5894 - val_loss: 0.3881 - val_main_output_loss: 0.3692 - val_aux_output_loss: 0.5581\n",
      "Epoch 9/20\n",
      "363/363 [==============================] - 0s 1ms/step - loss: 0.3901 - main_output_loss: 0.3698 - aux_output_loss: 0.5734 - val_loss: 0.3875 - val_main_output_loss: 0.3659 - val_aux_output_loss: 0.5818\n",
      "Epoch 10/20\n",
      "363/363 [==============================] - 0s 1ms/step - loss: 0.4454 - main_output_loss: 0.4307 - aux_output_loss: 0.5771 - val_loss: 0.3856 - val_main_output_loss: 0.3688 - val_aux_output_loss: 0.5371\n",
      "Epoch 11/20\n",
      "363/363 [==============================] - 0s 1ms/step - loss: 0.3793 - main_output_loss: 0.3607 - aux_output_loss: 0.5470 - val_loss: 0.3722 - val_main_output_loss: 0.3561 - val_aux_output_loss: 0.5166\n",
      "Epoch 12/20\n",
      "363/363 [==============================] - 0s 1ms/step - loss: 0.3747 - main_output_loss: 0.3574 - aux_output_loss: 0.5306 - val_loss: 0.3760 - val_main_output_loss: 0.3614 - val_aux_output_loss: 0.5076\n",
      "Epoch 13/20\n",
      "363/363 [==============================] - 0s 1ms/step - loss: 0.3677 - main_output_loss: 0.3517 - aux_output_loss: 0.5124 - val_loss: 0.3738 - val_main_output_loss: 0.3597 - val_aux_output_loss: 0.5014\n",
      "Epoch 14/20\n",
      "363/363 [==============================] - 0s 1ms/step - loss: 0.3665 - main_output_loss: 0.3513 - aux_output_loss: 0.5030 - val_loss: 0.3709 - val_main_output_loss: 0.3586 - val_aux_output_loss: 0.4819\n",
      "Epoch 15/20\n",
      "363/363 [==============================] - 0s 1ms/step - loss: 0.3620 - main_output_loss: 0.3478 - aux_output_loss: 0.4899 - val_loss: 0.3769 - val_main_output_loss: 0.3656 - val_aux_output_loss: 0.4792\n",
      "Epoch 16/20\n",
      "363/363 [==============================] - 0s 1ms/step - loss: 0.3586 - main_output_loss: 0.3454 - aux_output_loss: 0.4768 - val_loss: 0.3791 - val_main_output_loss: 0.3681 - val_aux_output_loss: 0.4784\n",
      "Epoch 17/20\n",
      "363/363 [==============================] - 0s 1ms/step - loss: 0.3558 - main_output_loss: 0.3434 - aux_output_loss: 0.4672 - val_loss: 0.3606 - val_main_output_loss: 0.3484 - val_aux_output_loss: 0.4704\n",
      "Epoch 18/20\n",
      "363/363 [==============================] - 0s 1ms/step - loss: 0.3546 - main_output_loss: 0.3430 - aux_output_loss: 0.4598 - val_loss: 0.3764 - val_main_output_loss: 0.3660 - val_aux_output_loss: 0.4703\n",
      "Epoch 19/20\n",
      "363/363 [==============================] - 0s 1ms/step - loss: 0.3514 - main_output_loss: 0.3405 - aux_output_loss: 0.4490 - val_loss: 0.3606 - val_main_output_loss: 0.3514 - val_aux_output_loss: 0.4434\n",
      "Epoch 20/20\n",
      "363/363 [==============================] - 0s 1ms/step - loss: 0.3477 - main_output_loss: 0.3374 - aux_output_loss: 0.4403 - val_loss: 0.3537 - val_main_output_loss: 0.3454 - val_aux_output_loss: 0.4283\n"
     ]
    }
   ],
   "source": [
    "input_A = keras.layers.Input(shape=[5], name='wide_input')\n",
    "input_B = keras.layers.Input(shape=[6], name='deep_input')\n",
    "hidden1 = keras.layers.Dense(30, activation='relu')(input_B)\n",
    "hidden2 = keras.layers.Dense(30, activation='relu')(hidden1)\n",
    "concat = keras.layers.Concatenate()([input_A, hidden2])\n",
    "output = keras.layers.Dense(1, name='main_output')(concat)\n",
    "aux_output = keras.layers.Dense(1, name='aux_output')(hidden2)\n",
    "model = keras.Model(inputs=[input_A, input_B], outputs=[output, aux_output])\n",
    "\n",
    "model.compile(\n",
    "    loss=['mse', 'mse'],\n",
    "    loss_weights=[0.9, 0.1],\n",
    "    optimizer=keras.optimizers.SGD(learning_rate=0.02)\n",
    ")\n",
    "\n",
    "history = model.fit(\n",
    "    [X_train_A, X_train_B],\n",
    "    [y_train, y_train],\n",
    "    epochs=20,\n",
    "    validation_data=([X_valid_A, X_valid_B], [y_valid, y_valid])\n",
    ")\n",
    "\n",
    "model.save('my_keras_model.h5')\n",
    "loaded_model = keras.models.load_model('my_keras_model.h5')"
   ]
  },
  {
   "cell_type": "code",
   "execution_count": 67,
   "id": "5fe76381-f4c6-4c6d-b88d-9a626e5d7926",
   "metadata": {
    "tags": []
   },
   "outputs": [
    {
     "data": {
      "text/plain": [
       "True"
      ]
     },
     "execution_count": 67,
     "metadata": {},
     "output_type": "execute_result"
    }
   ],
   "source": [
    "(loaded_model.get_weights()[0] == model.get_weights()[0]).all()"
   ]
  },
  {
   "cell_type": "markdown",
   "id": "c95b5868-c43e-4137-bcb2-0e0778caeb43",
   "metadata": {},
   "source": [
    "## Using Callbacks"
   ]
  },
  {
   "cell_type": "markdown",
   "id": "5724208a-4aa0-45a0-a75b-d31790d573ac",
   "metadata": {},
   "source": [
    "The fit() method accepts a *callbacks* argument that lets you specify a list of objects that Keras will call at the start and end of training, at the start and end of each epoch, and even before and after processing each batch. For example, the ModelCheckpoint callback saves checkpoints on your model at regular intervals during training, by default at the end of each epoch. **Moreover, if you use a validation set during training, you can set save_best_only=True when creating the ModelCheckpoint. In this case, it will only save your model when its performance on the validation set is the best so far. This way, you do not need to worry about training for too long and overfitting the training set: simply restore the last model saved after training, and this will be the best model on the validation set.**"
   ]
  },
  {
   "cell_type": "code",
   "execution_count": 70,
   "id": "773ec518-c363-43ec-8d01-829949b057fb",
   "metadata": {
    "tags": []
   },
   "outputs": [
    {
     "name": "stdout",
     "output_type": "stream",
     "text": [
      "Epoch 1/20\n",
      "363/363 [==============================] - 1s 1ms/step - loss: 0.8802 - main_output_loss: 0.7857 - aux_output_loss: 1.7313 - val_loss: 0.6594 - val_main_output_loss: 0.5860 - val_aux_output_loss: 1.3202\n",
      "Epoch 2/20\n",
      "363/363 [==============================] - 0s 1ms/step - loss: 0.7091 - main_output_loss: 0.6611 - aux_output_loss: 1.1404 - val_loss: 0.5915 - val_main_output_loss: 0.5496 - val_aux_output_loss: 0.9690\n",
      "Epoch 3/20\n",
      "363/363 [==============================] - 0s 1ms/step - loss: 0.6287 - main_output_loss: 0.5999 - aux_output_loss: 0.8880 - val_loss: 0.5765 - val_main_output_loss: 0.5578 - val_aux_output_loss: 0.7450\n",
      "Epoch 4/20\n",
      "363/363 [==============================] - 0s 1ms/step - loss: 0.5420 - main_output_loss: 0.5192 - aux_output_loss: 0.7466 - val_loss: 0.6431 - val_main_output_loss: 0.6399 - val_aux_output_loss: 0.6720\n",
      "Epoch 5/20\n",
      "363/363 [==============================] - 0s 1ms/step - loss: 0.5379 - main_output_loss: 0.5199 - aux_output_loss: 0.6994 - val_loss: 0.5168 - val_main_output_loss: 0.4996 - val_aux_output_loss: 0.6719\n",
      "Epoch 6/20\n",
      "363/363 [==============================] - 0s 1ms/step - loss: 0.4841 - main_output_loss: 0.4639 - aux_output_loss: 0.6656 - val_loss: 0.4453 - val_main_output_loss: 0.4280 - val_aux_output_loss: 0.6012\n",
      "Epoch 7/20\n",
      "363/363 [==============================] - 0s 1ms/step - loss: 0.4528 - main_output_loss: 0.4335 - aux_output_loss: 0.6261 - val_loss: 0.4421 - val_main_output_loss: 0.4252 - val_aux_output_loss: 0.5940\n",
      "Epoch 8/20\n",
      "363/363 [==============================] - 0s 1ms/step - loss: 0.4377 - main_output_loss: 0.4189 - aux_output_loss: 0.6067 - val_loss: 0.4367 - val_main_output_loss: 0.4218 - val_aux_output_loss: 0.5711\n",
      "Epoch 9/20\n",
      "363/363 [==============================] - 0s 1ms/step - loss: 0.4236 - main_output_loss: 0.4055 - aux_output_loss: 0.5860 - val_loss: 0.4137 - val_main_output_loss: 0.3970 - val_aux_output_loss: 0.5640\n",
      "Epoch 10/20\n",
      "363/363 [==============================] - 0s 1ms/step - loss: 0.4102 - main_output_loss: 0.3929 - aux_output_loss: 0.5659 - val_loss: 0.4312 - val_main_output_loss: 0.4173 - val_aux_output_loss: 0.5563\n",
      "Epoch 11/20\n",
      "363/363 [==============================] - 0s 1ms/step - loss: 0.4049 - main_output_loss: 0.3885 - aux_output_loss: 0.5523 - val_loss: 0.4125 - val_main_output_loss: 0.3986 - val_aux_output_loss: 0.5375\n",
      "Epoch 12/20\n",
      "363/363 [==============================] - 0s 1ms/step - loss: 0.3902 - main_output_loss: 0.3746 - aux_output_loss: 0.5311 - val_loss: 0.3832 - val_main_output_loss: 0.3688 - val_aux_output_loss: 0.5133\n",
      "Epoch 13/20\n",
      "363/363 [==============================] - 0s 1ms/step - loss: 0.3952 - main_output_loss: 0.3815 - aux_output_loss: 0.5178 - val_loss: 0.4090 - val_main_output_loss: 0.3970 - val_aux_output_loss: 0.5174\n",
      "Epoch 14/20\n",
      "363/363 [==============================] - 0s 1ms/step - loss: 0.3759 - main_output_loss: 0.3621 - aux_output_loss: 0.4994 - val_loss: 0.3795 - val_main_output_loss: 0.3663 - val_aux_output_loss: 0.4982\n",
      "Epoch 15/20\n",
      "363/363 [==============================] - 0s 1ms/step - loss: 0.3710 - main_output_loss: 0.3578 - aux_output_loss: 0.4892 - val_loss: 0.3623 - val_main_output_loss: 0.3487 - val_aux_output_loss: 0.4844\n",
      "Epoch 16/20\n",
      "363/363 [==============================] - 0s 1ms/step - loss: 0.3677 - main_output_loss: 0.3558 - aux_output_loss: 0.4749 - val_loss: 0.3718 - val_main_output_loss: 0.3604 - val_aux_output_loss: 0.4741\n",
      "Epoch 17/20\n",
      "363/363 [==============================] - 0s 1ms/step - loss: 0.3625 - main_output_loss: 0.3513 - aux_output_loss: 0.4631 - val_loss: 0.3581 - val_main_output_loss: 0.3478 - val_aux_output_loss: 0.4501\n",
      "Epoch 18/20\n",
      "363/363 [==============================] - 0s 1ms/step - loss: 0.3621 - main_output_loss: 0.3513 - aux_output_loss: 0.4593 - val_loss: 0.3564 - val_main_output_loss: 0.3445 - val_aux_output_loss: 0.4636\n",
      "Epoch 19/20\n",
      "363/363 [==============================] - 0s 1ms/step - loss: 0.3629 - main_output_loss: 0.3530 - aux_output_loss: 0.4517 - val_loss: 0.3574 - val_main_output_loss: 0.3468 - val_aux_output_loss: 0.4521\n",
      "Epoch 20/20\n",
      "363/363 [==============================] - 0s 1ms/step - loss: 0.3535 - main_output_loss: 0.3437 - aux_output_loss: 0.4418 - val_loss: 0.3657 - val_main_output_loss: 0.3562 - val_aux_output_loss: 0.4505\n"
     ]
    }
   ],
   "source": [
    "input_A = keras.layers.Input(shape=[5], name='wide_input')\n",
    "input_B = keras.layers.Input(shape=[6], name='deep_input')\n",
    "hidden1 = keras.layers.Dense(30, activation='relu')(input_B)\n",
    "hidden2 = keras.layers.Dense(30, activation='relu')(hidden1)\n",
    "concat = keras.layers.Concatenate()([input_A, hidden2])\n",
    "output = keras.layers.Dense(1, name='main_output')(concat)\n",
    "aux_output = keras.layers.Dense(1, name='aux_output')(hidden2)\n",
    "model = keras.Model(inputs=[input_A, input_B], outputs=[output, aux_output])\n",
    "\n",
    "model.compile(\n",
    "    loss=['mse', 'mse'],\n",
    "    loss_weights=[0.9, 0.1],\n",
    "    optimizer=keras.optimizers.SGD(learning_rate=0.02)\n",
    ")\n",
    "\n",
    "checkpoint_cb = keras.callbacks.ModelCheckpoint(\n",
    "    'my_keras_model.h5',\n",
    "    save_best_only=True\n",
    ")\n",
    "\n",
    "history = model.fit(\n",
    "    [X_train_A, X_train_B],\n",
    "    [y_train, y_train],\n",
    "    epochs=20,\n",
    "    validation_data=([X_valid_A, X_valid_B], [y_valid, y_valid]),\n",
    "    callbacks=[checkpoint_cb]\n",
    ")\n",
    "\n",
    "history = keras.models.load_model('my_keras_model.h5') # roll back to best model."
   ]
  },
  {
   "cell_type": "markdown",
   "id": "b0e10610-8664-4a65-938d-6654dc0bdb78",
   "metadata": {},
   "source": [
    "Another way to implement early stopping is to simply use the EarlyStopping callback. It will interrupt training when it measures no progress on the validation set for a number of epochs (defined by the patience argument), and it will optionally roll back to the best model. The number of epochs can be set to a large value since training will stop automatically when there is no more progress. In this case, there is no need to restore the best model saved because the EarlyStopping callback will keep track of the best weights and restore them for you at the end of training."
   ]
  },
  {
   "cell_type": "code",
   "execution_count": 72,
   "id": "791aad15-00bd-447b-831a-18d37b8074b0",
   "metadata": {
    "tags": []
   },
   "outputs": [
    {
     "name": "stdout",
     "output_type": "stream",
     "text": [
      "Epoch 1/100\n",
      "363/363 [==============================] - 1s 2ms/step - loss: 0.7960 - main_output_loss: 0.6936 - aux_output_loss: 1.7174 - val_loss: 0.6078 - val_main_output_loss: 0.5546 - val_aux_output_loss: 1.0869\n",
      "Epoch 2/100\n",
      "363/363 [==============================] - 0s 1ms/step - loss: 0.6131 - main_output_loss: 0.5682 - aux_output_loss: 1.0172 - val_loss: 0.6634 - val_main_output_loss: 0.6457 - val_aux_output_loss: 0.8230\n",
      "Epoch 3/100\n",
      "363/363 [==============================] - 0s 1ms/step - loss: 0.7191 - main_output_loss: 0.7076 - aux_output_loss: 0.8219 - val_loss: 0.4943 - val_main_output_loss: 0.4721 - val_aux_output_loss: 0.6940\n",
      "Epoch 4/100\n",
      "363/363 [==============================] - 0s 1ms/step - loss: 0.4925 - main_output_loss: 0.4703 - aux_output_loss: 0.6923 - val_loss: 0.4578 - val_main_output_loss: 0.4378 - val_aux_output_loss: 0.6374\n",
      "Epoch 5/100\n",
      "363/363 [==============================] - 0s 1ms/step - loss: 0.4810 - main_output_loss: 0.4617 - aux_output_loss: 0.6548 - val_loss: 0.4459 - val_main_output_loss: 0.4284 - val_aux_output_loss: 0.6038\n",
      "Epoch 6/100\n",
      "363/363 [==============================] - 0s 1ms/step - loss: 0.4585 - main_output_loss: 0.4395 - aux_output_loss: 0.6301 - val_loss: 0.4283 - val_main_output_loss: 0.4034 - val_aux_output_loss: 0.6520\n",
      "Epoch 7/100\n",
      "363/363 [==============================] - 0s 1ms/step - loss: 0.4288 - main_output_loss: 0.4082 - aux_output_loss: 0.6141 - val_loss: 0.4092 - val_main_output_loss: 0.3914 - val_aux_output_loss: 0.5694\n",
      "Epoch 8/100\n",
      "363/363 [==============================] - 0s 1ms/step - loss: 0.4084 - main_output_loss: 0.3890 - aux_output_loss: 0.5824 - val_loss: 0.4382 - val_main_output_loss: 0.4236 - val_aux_output_loss: 0.5695\n",
      "Epoch 9/100\n",
      "363/363 [==============================] - 0s 1ms/step - loss: 0.4775 - main_output_loss: 0.4641 - aux_output_loss: 0.5980 - val_loss: 0.3954 - val_main_output_loss: 0.3771 - val_aux_output_loss: 0.5601\n",
      "Epoch 10/100\n",
      "363/363 [==============================] - 0s 1ms/step - loss: 0.3973 - main_output_loss: 0.3774 - aux_output_loss: 0.5756 - val_loss: 0.3876 - val_main_output_loss: 0.3677 - val_aux_output_loss: 0.5669\n",
      "Epoch 11/100\n",
      "363/363 [==============================] - 0s 1ms/step - loss: 0.3870 - main_output_loss: 0.3679 - aux_output_loss: 0.5593 - val_loss: 0.3800 - val_main_output_loss: 0.3624 - val_aux_output_loss: 0.5379\n",
      "Epoch 12/100\n",
      "363/363 [==============================] - 0s 1ms/step - loss: 0.3858 - main_output_loss: 0.3677 - aux_output_loss: 0.5488 - val_loss: 0.4550 - val_main_output_loss: 0.4468 - val_aux_output_loss: 0.5294\n",
      "Epoch 13/100\n",
      "363/363 [==============================] - 0s 1ms/step - loss: 0.3892 - main_output_loss: 0.3713 - aux_output_loss: 0.5503 - val_loss: 0.4072 - val_main_output_loss: 0.3808 - val_aux_output_loss: 0.6444\n",
      "Epoch 14/100\n",
      "363/363 [==============================] - 0s 1ms/step - loss: 0.3877 - main_output_loss: 0.3689 - aux_output_loss: 0.5570 - val_loss: 1.1830 - val_main_output_loss: 1.2573 - val_aux_output_loss: 0.5148\n",
      "Epoch 15/100\n",
      "363/363 [==============================] - 0s 1ms/step - loss: 0.5056 - main_output_loss: 0.4903 - aux_output_loss: 0.6440 - val_loss: 0.4784 - val_main_output_loss: 0.4639 - val_aux_output_loss: 0.6093\n",
      "Epoch 16/100\n",
      "363/363 [==============================] - 0s 1ms/step - loss: 0.4284 - main_output_loss: 0.4128 - aux_output_loss: 0.5685 - val_loss: 0.4918 - val_main_output_loss: 0.4658 - val_aux_output_loss: 0.7256\n",
      "Epoch 17/100\n",
      "363/363 [==============================] - 0s 1ms/step - loss: 0.4164 - main_output_loss: 0.3984 - aux_output_loss: 0.5784 - val_loss: 0.3790 - val_main_output_loss: 0.3652 - val_aux_output_loss: 0.5029\n",
      "Epoch 18/100\n",
      "363/363 [==============================] - 0s 1ms/step - loss: 0.3865 - main_output_loss: 0.3717 - aux_output_loss: 0.5200 - val_loss: 0.3773 - val_main_output_loss: 0.3638 - val_aux_output_loss: 0.4990\n",
      "Epoch 19/100\n",
      "363/363 [==============================] - 0s 1ms/step - loss: 0.3772 - main_output_loss: 0.3629 - aux_output_loss: 0.5060 - val_loss: 0.3954 - val_main_output_loss: 0.3808 - val_aux_output_loss: 0.5262\n",
      "Epoch 20/100\n",
      "363/363 [==============================] - 0s 1ms/step - loss: 0.3770 - main_output_loss: 0.3636 - aux_output_loss: 0.4977 - val_loss: 0.3688 - val_main_output_loss: 0.3553 - val_aux_output_loss: 0.4901\n",
      "Epoch 21/100\n",
      "363/363 [==============================] - 0s 1ms/step - loss: 0.3695 - main_output_loss: 0.3564 - aux_output_loss: 0.4870 - val_loss: 0.3586 - val_main_output_loss: 0.3455 - val_aux_output_loss: 0.4767\n",
      "Epoch 22/100\n",
      "363/363 [==============================] - 0s 1ms/step - loss: 0.3608 - main_output_loss: 0.3481 - aux_output_loss: 0.4751 - val_loss: 0.3947 - val_main_output_loss: 0.3848 - val_aux_output_loss: 0.4838\n",
      "Epoch 23/100\n",
      "363/363 [==============================] - 0s 1ms/step - loss: 0.3582 - main_output_loss: 0.3459 - aux_output_loss: 0.4694 - val_loss: 0.3527 - val_main_output_loss: 0.3414 - val_aux_output_loss: 0.4545\n",
      "Epoch 24/100\n",
      "363/363 [==============================] - 1s 1ms/step - loss: 0.3764 - main_output_loss: 0.3669 - aux_output_loss: 0.4619 - val_loss: 0.3487 - val_main_output_loss: 0.3366 - val_aux_output_loss: 0.4578\n",
      "Epoch 25/100\n",
      "363/363 [==============================] - 0s 1ms/step - loss: 0.3504 - main_output_loss: 0.3389 - aux_output_loss: 0.4538 - val_loss: 0.3444 - val_main_output_loss: 0.3331 - val_aux_output_loss: 0.4464\n",
      "Epoch 26/100\n",
      "363/363 [==============================] - 0s 1ms/step - loss: 0.3476 - main_output_loss: 0.3364 - aux_output_loss: 0.4487 - val_loss: 0.3698 - val_main_output_loss: 0.3604 - val_aux_output_loss: 0.4543\n",
      "Epoch 27/100\n",
      "363/363 [==============================] - 0s 1ms/step - loss: 0.3458 - main_output_loss: 0.3348 - aux_output_loss: 0.4452 - val_loss: 0.3520 - val_main_output_loss: 0.3416 - val_aux_output_loss: 0.4454\n",
      "Epoch 28/100\n",
      "363/363 [==============================] - 0s 1ms/step - loss: 0.3420 - main_output_loss: 0.3313 - aux_output_loss: 0.4385 - val_loss: 0.3464 - val_main_output_loss: 0.3353 - val_aux_output_loss: 0.4455\n",
      "Epoch 29/100\n",
      "363/363 [==============================] - 0s 1ms/step - loss: 0.3428 - main_output_loss: 0.3323 - aux_output_loss: 0.4369 - val_loss: 0.3742 - val_main_output_loss: 0.3663 - val_aux_output_loss: 0.4452\n",
      "Epoch 30/100\n",
      "363/363 [==============================] - 0s 1ms/step - loss: 0.3475 - main_output_loss: 0.3379 - aux_output_loss: 0.4337 - val_loss: 0.3501 - val_main_output_loss: 0.3416 - val_aux_output_loss: 0.4265\n",
      "Epoch 31/100\n",
      "363/363 [==============================] - 0s 1ms/step - loss: 0.3500 - main_output_loss: 0.3406 - aux_output_loss: 0.4350 - val_loss: 0.3628 - val_main_output_loss: 0.3499 - val_aux_output_loss: 0.4786\n",
      "Epoch 32/100\n",
      "363/363 [==============================] - 0s 1ms/step - loss: 0.3460 - main_output_loss: 0.3359 - aux_output_loss: 0.4367 - val_loss: 0.3765 - val_main_output_loss: 0.3564 - val_aux_output_loss: 0.5568\n",
      "Epoch 33/100\n",
      "363/363 [==============================] - 0s 1ms/step - loss: 0.3515 - main_output_loss: 0.3422 - aux_output_loss: 0.4348 - val_loss: 0.3603 - val_main_output_loss: 0.3530 - val_aux_output_loss: 0.4261\n",
      "Epoch 34/100\n",
      "363/363 [==============================] - 0s 1ms/step - loss: 0.3399 - main_output_loss: 0.3307 - aux_output_loss: 0.4223 - val_loss: 0.3329 - val_main_output_loss: 0.3220 - val_aux_output_loss: 0.4311\n",
      "Epoch 35/100\n",
      "363/363 [==============================] - 0s 1ms/step - loss: 0.3327 - main_output_loss: 0.3236 - aux_output_loss: 0.4151 - val_loss: 0.3452 - val_main_output_loss: 0.3374 - val_aux_output_loss: 0.4153\n",
      "Epoch 36/100\n",
      "363/363 [==============================] - 0s 1ms/step - loss: 0.3379 - main_output_loss: 0.3295 - aux_output_loss: 0.4137 - val_loss: 0.3384 - val_main_output_loss: 0.3301 - val_aux_output_loss: 0.4136\n",
      "Epoch 37/100\n",
      "363/363 [==============================] - 0s 1ms/step - loss: 0.3347 - main_output_loss: 0.3263 - aux_output_loss: 0.4111 - val_loss: 0.3581 - val_main_output_loss: 0.3514 - val_aux_output_loss: 0.4179\n",
      "Epoch 38/100\n",
      "363/363 [==============================] - 1s 1ms/step - loss: 0.3304 - main_output_loss: 0.3220 - aux_output_loss: 0.4056 - val_loss: 0.3344 - val_main_output_loss: 0.3266 - val_aux_output_loss: 0.4046\n",
      "Epoch 39/100\n",
      "363/363 [==============================] - 0s 1ms/step - loss: 0.3311 - main_output_loss: 0.3228 - aux_output_loss: 0.4053 - val_loss: 0.3415 - val_main_output_loss: 0.3334 - val_aux_output_loss: 0.4139\n",
      "Epoch 40/100\n",
      "363/363 [==============================] - 0s 1ms/step - loss: 0.3341 - main_output_loss: 0.3263 - aux_output_loss: 0.4039 - val_loss: 0.3339 - val_main_output_loss: 0.3261 - val_aux_output_loss: 0.4044\n",
      "Epoch 41/100\n",
      "363/363 [==============================] - 0s 1ms/step - loss: 0.3279 - main_output_loss: 0.3198 - aux_output_loss: 0.4009 - val_loss: 0.3464 - val_main_output_loss: 0.3361 - val_aux_output_loss: 0.4393\n",
      "Epoch 42/100\n",
      "363/363 [==============================] - 0s 1ms/step - loss: 0.3293 - main_output_loss: 0.3215 - aux_output_loss: 0.3999 - val_loss: 0.3782 - val_main_output_loss: 0.3694 - val_aux_output_loss: 0.4573\n",
      "Epoch 43/100\n",
      "363/363 [==============================] - 0s 1ms/step - loss: 0.3260 - main_output_loss: 0.3179 - aux_output_loss: 0.3992 - val_loss: 0.3301 - val_main_output_loss: 0.3218 - val_aux_output_loss: 0.4046\n",
      "Epoch 44/100\n",
      "363/363 [==============================] - 0s 1ms/step - loss: 0.3259 - main_output_loss: 0.3181 - aux_output_loss: 0.3958 - val_loss: 0.3384 - val_main_output_loss: 0.3292 - val_aux_output_loss: 0.4207\n",
      "Epoch 45/100\n",
      "363/363 [==============================] - 0s 1ms/step - loss: 0.3252 - main_output_loss: 0.3174 - aux_output_loss: 0.3956 - val_loss: 0.3319 - val_main_output_loss: 0.3233 - val_aux_output_loss: 0.4095\n",
      "Epoch 46/100\n",
      "363/363 [==============================] - 0s 1ms/step - loss: 0.3263 - main_output_loss: 0.3186 - aux_output_loss: 0.3955 - val_loss: 0.3318 - val_main_output_loss: 0.3242 - val_aux_output_loss: 0.3997\n",
      "Epoch 47/100\n",
      "363/363 [==============================] - 0s 1ms/step - loss: 0.3240 - main_output_loss: 0.3163 - aux_output_loss: 0.3927 - val_loss: 0.3311 - val_main_output_loss: 0.3234 - val_aux_output_loss: 0.4003\n",
      "Epoch 48/100\n",
      "363/363 [==============================] - 0s 1ms/step - loss: 0.3241 - main_output_loss: 0.3165 - aux_output_loss: 0.3918 - val_loss: 0.3591 - val_main_output_loss: 0.3495 - val_aux_output_loss: 0.4455\n",
      "Epoch 49/100\n",
      "363/363 [==============================] - 0s 1ms/step - loss: 0.3254 - main_output_loss: 0.3179 - aux_output_loss: 0.3926 - val_loss: 0.3334 - val_main_output_loss: 0.3253 - val_aux_output_loss: 0.4061\n",
      "Epoch 50/100\n",
      "363/363 [==============================] - 0s 1ms/step - loss: 0.3231 - main_output_loss: 0.3157 - aux_output_loss: 0.3901 - val_loss: 0.3248 - val_main_output_loss: 0.3169 - val_aux_output_loss: 0.3954\n",
      "Epoch 51/100\n",
      "363/363 [==============================] - 0s 1ms/step - loss: 0.3220 - main_output_loss: 0.3145 - aux_output_loss: 0.3888 - val_loss: 0.3311 - val_main_output_loss: 0.3224 - val_aux_output_loss: 0.4097\n",
      "Epoch 52/100\n",
      "363/363 [==============================] - 0s 1ms/step - loss: 0.3217 - main_output_loss: 0.3144 - aux_output_loss: 0.3869 - val_loss: 0.3354 - val_main_output_loss: 0.3270 - val_aux_output_loss: 0.4105\n",
      "Epoch 53/100\n",
      "363/363 [==============================] - 0s 1ms/step - loss: 0.3236 - main_output_loss: 0.3166 - aux_output_loss: 0.3874 - val_loss: 0.3340 - val_main_output_loss: 0.3250 - val_aux_output_loss: 0.4142\n",
      "Epoch 54/100\n",
      "363/363 [==============================] - 0s 1ms/step - loss: 0.3192 - main_output_loss: 0.3119 - aux_output_loss: 0.3852 - val_loss: 0.3242 - val_main_output_loss: 0.3163 - val_aux_output_loss: 0.3949\n",
      "Epoch 55/100\n",
      "363/363 [==============================] - 0s 1ms/step - loss: 0.3178 - main_output_loss: 0.3106 - aux_output_loss: 0.3830 - val_loss: 0.3353 - val_main_output_loss: 0.3272 - val_aux_output_loss: 0.4088\n",
      "Epoch 56/100\n",
      "363/363 [==============================] - 0s 1ms/step - loss: 0.3190 - main_output_loss: 0.3120 - aux_output_loss: 0.3823 - val_loss: 0.3230 - val_main_output_loss: 0.3146 - val_aux_output_loss: 0.3981\n",
      "Epoch 57/100\n",
      "363/363 [==============================] - 0s 1ms/step - loss: 0.3175 - main_output_loss: 0.3104 - aux_output_loss: 0.3816 - val_loss: 0.3211 - val_main_output_loss: 0.3134 - val_aux_output_loss: 0.3903\n",
      "Epoch 58/100\n",
      "363/363 [==============================] - 0s 1ms/step - loss: 0.3166 - main_output_loss: 0.3096 - aux_output_loss: 0.3797 - val_loss: 0.3424 - val_main_output_loss: 0.3340 - val_aux_output_loss: 0.4181\n",
      "Epoch 59/100\n",
      "363/363 [==============================] - 0s 1ms/step - loss: 0.3161 - main_output_loss: 0.3091 - aux_output_loss: 0.3796 - val_loss: 0.3292 - val_main_output_loss: 0.3215 - val_aux_output_loss: 0.3983\n",
      "Epoch 60/100\n",
      "363/363 [==============================] - 0s 1ms/step - loss: 0.3142 - main_output_loss: 0.3072 - aux_output_loss: 0.3778 - val_loss: 0.3228 - val_main_output_loss: 0.3155 - val_aux_output_loss: 0.3885\n",
      "Epoch 61/100\n",
      "363/363 [==============================] - 0s 1ms/step - loss: 0.3184 - main_output_loss: 0.3118 - aux_output_loss: 0.3779 - val_loss: 0.3237 - val_main_output_loss: 0.3165 - val_aux_output_loss: 0.3887\n",
      "Epoch 62/100\n",
      "363/363 [==============================] - 0s 1ms/step - loss: 0.3144 - main_output_loss: 0.3077 - aux_output_loss: 0.3752 - val_loss: 0.3243 - val_main_output_loss: 0.3175 - val_aux_output_loss: 0.3853\n",
      "Epoch 63/100\n",
      "363/363 [==============================] - 0s 1ms/step - loss: 0.3159 - main_output_loss: 0.3093 - aux_output_loss: 0.3762 - val_loss: 0.3190 - val_main_output_loss: 0.3122 - val_aux_output_loss: 0.3802\n",
      "Epoch 64/100\n",
      "363/363 [==============================] - 0s 1ms/step - loss: 0.3336 - main_output_loss: 0.3278 - aux_output_loss: 0.3858 - val_loss: 0.3322 - val_main_output_loss: 0.3249 - val_aux_output_loss: 0.3979\n",
      "Epoch 65/100\n",
      "363/363 [==============================] - 0s 1ms/step - loss: 0.3144 - main_output_loss: 0.3077 - aux_output_loss: 0.3748 - val_loss: 0.3263 - val_main_output_loss: 0.3192 - val_aux_output_loss: 0.3905\n",
      "Epoch 66/100\n",
      "363/363 [==============================] - 0s 1ms/step - loss: 0.3133 - main_output_loss: 0.3065 - aux_output_loss: 0.3741 - val_loss: 0.3422 - val_main_output_loss: 0.3352 - val_aux_output_loss: 0.4051\n",
      "Epoch 67/100\n",
      "363/363 [==============================] - 0s 1ms/step - loss: 0.3158 - main_output_loss: 0.3092 - aux_output_loss: 0.3753 - val_loss: 0.3302 - val_main_output_loss: 0.3224 - val_aux_output_loss: 0.4004\n",
      "Epoch 68/100\n",
      "363/363 [==============================] - 0s 1ms/step - loss: 0.3138 - main_output_loss: 0.3072 - aux_output_loss: 0.3733 - val_loss: 0.3503 - val_main_output_loss: 0.3461 - val_aux_output_loss: 0.3880\n",
      "Epoch 69/100\n",
      "363/363 [==============================] - 0s 1ms/step - loss: 0.3277 - main_output_loss: 0.3225 - aux_output_loss: 0.3746 - val_loss: 0.3200 - val_main_output_loss: 0.3120 - val_aux_output_loss: 0.3920\n",
      "Epoch 70/100\n",
      "363/363 [==============================] - 0s 1ms/step - loss: 0.3105 - main_output_loss: 0.3039 - aux_output_loss: 0.3705 - val_loss: 0.3272 - val_main_output_loss: 0.3195 - val_aux_output_loss: 0.3964\n",
      "Epoch 71/100\n",
      "363/363 [==============================] - 0s 1ms/step - loss: 0.3133 - main_output_loss: 0.3070 - aux_output_loss: 0.3701 - val_loss: 0.3154 - val_main_output_loss: 0.3080 - val_aux_output_loss: 0.3814\n",
      "Epoch 72/100\n",
      "363/363 [==============================] - 0s 1ms/step - loss: 0.3122 - main_output_loss: 0.3059 - aux_output_loss: 0.3687 - val_loss: 0.3388 - val_main_output_loss: 0.3308 - val_aux_output_loss: 0.4115\n",
      "Epoch 73/100\n",
      "363/363 [==============================] - 0s 1ms/step - loss: 0.3279 - main_output_loss: 0.3210 - aux_output_loss: 0.3906 - val_loss: 0.3504 - val_main_output_loss: 0.3408 - val_aux_output_loss: 0.4374\n",
      "Epoch 74/100\n",
      "363/363 [==============================] - 0s 1ms/step - loss: 0.3161 - main_output_loss: 0.3099 - aux_output_loss: 0.3719 - val_loss: 0.3167 - val_main_output_loss: 0.3096 - val_aux_output_loss: 0.3803\n",
      "Epoch 75/100\n",
      "363/363 [==============================] - 0s 1ms/step - loss: 0.3133 - main_output_loss: 0.3069 - aux_output_loss: 0.3704 - val_loss: 0.3292 - val_main_output_loss: 0.3226 - val_aux_output_loss: 0.3885\n",
      "Epoch 76/100\n",
      "363/363 [==============================] - 0s 1ms/step - loss: 0.3115 - main_output_loss: 0.3052 - aux_output_loss: 0.3687 - val_loss: 0.3540 - val_main_output_loss: 0.3469 - val_aux_output_loss: 0.4175\n",
      "Epoch 77/100\n",
      "363/363 [==============================] - 0s 1ms/step - loss: 0.3056 - main_output_loss: 0.2992 - aux_output_loss: 0.3632 - val_loss: 0.3172 - val_main_output_loss: 0.3101 - val_aux_output_loss: 0.3818\n",
      "Epoch 78/100\n",
      "363/363 [==============================] - 0s 1ms/step - loss: 0.3115 - main_output_loss: 0.3054 - aux_output_loss: 0.3663 - val_loss: 0.3499 - val_main_output_loss: 0.3425 - val_aux_output_loss: 0.4172\n",
      "Epoch 79/100\n",
      "363/363 [==============================] - 0s 1ms/step - loss: 0.3085 - main_output_loss: 0.3020 - aux_output_loss: 0.3677 - val_loss: 0.3353 - val_main_output_loss: 0.3290 - val_aux_output_loss: 0.3922\n",
      "Epoch 80/100\n",
      "363/363 [==============================] - 0s 1ms/step - loss: 0.3080 - main_output_loss: 0.3017 - aux_output_loss: 0.3652 - val_loss: 0.3190 - val_main_output_loss: 0.3123 - val_aux_output_loss: 0.3798\n",
      "Epoch 81/100\n",
      "363/363 [==============================] - 0s 1ms/step - loss: 0.3097 - main_output_loss: 0.3036 - aux_output_loss: 0.3645 - val_loss: 0.3516 - val_main_output_loss: 0.3446 - val_aux_output_loss: 0.4148\n"
     ]
    }
   ],
   "source": [
    "input_A = keras.layers.Input(shape=[5], name='wide_input')\n",
    "input_B = keras.layers.Input(shape=[6], name='deep_input')\n",
    "hidden1 = keras.layers.Dense(30, activation='relu')(input_B)\n",
    "hidden2 = keras.layers.Dense(30, activation='relu')(hidden1)\n",
    "concat = keras.layers.Concatenate()([input_A, hidden2])\n",
    "output = keras.layers.Dense(1, name='main_output')(concat)\n",
    "aux_output = keras.layers.Dense(1, name='aux_output')(hidden2)\n",
    "model = keras.Model(inputs=[input_A, input_B], outputs=[output, aux_output])\n",
    "\n",
    "model.compile(\n",
    "    loss=['mse', 'mse'],\n",
    "    loss_weights=[0.9, 0.1],\n",
    "    optimizer=keras.optimizers.SGD(learning_rate=0.02)\n",
    ")\n",
    "\n",
    "early_stopping_cb = keras.callbacks.EarlyStopping(\n",
    "    patience=10,\n",
    "    restore_best_weights=True\n",
    ")\n",
    "\n",
    "history = model.fit(\n",
    "    [X_train_A, X_train_B],\n",
    "    [y_train, y_train],\n",
    "    epochs=100,\n",
    "    validation_data=([X_valid_A, X_valid_B], [y_valid, y_valid]),\n",
    "    callbacks=[early_stopping_cb]\n",
    ")"
   ]
  },
  {
   "cell_type": "markdown",
   "id": "1b85f324-e3d5-4376-8901-1de1091a2537",
   "metadata": {},
   "source": [
    "If you need extra control, you can easily write your own custom callbacks. As an example of how to do that, the following custom callback will display the ratio between the validation loss and the training loss during training (e.g. detect over-fitting).\n",
    "\n",
    "Callbacks can also be used during evaluation and predictions, should you ever need them. For evaluation, you should implement on on_test_begin(), on_test_end(), on_test_batch_begin(), or on_test_batch_end(). These are called by evaluate().  For prediction you should implement on_predict_begin(), on_predict_end(), on_predict_batch_begin(), or on_predict_batch_end(). These are called by predict()"
   ]
  },
  {
   "cell_type": "code",
   "execution_count": 74,
   "id": "b96140fa-37a0-4f06-a819-bf72bcada0a4",
   "metadata": {
    "tags": []
   },
   "outputs": [],
   "source": [
    "class PrintValTrainRatioCallback(keras.callbacks.Callback):\n",
    "    def on_epoch_end(self, epoch, logs):\n",
    "        print('\\nval/train: {:2f}'.format(logs['val_loss'] / logs['loss']))"
   ]
  },
  {
   "cell_type": "code",
   "execution_count": 75,
   "id": "96dd83c1-441a-423b-b4d2-ce77a78bbdf2",
   "metadata": {
    "tags": []
   },
   "outputs": [
    {
     "name": "stdout",
     "output_type": "stream",
     "text": [
      "Epoch 1/100\n",
      "331/363 [==========================>...] - ETA: 0s - loss: 0.7962 - main_output_loss: 0.6711 - aux_output_loss: 1.9222\n",
      "val/train: 1.032067\n",
      "363/363 [==============================] - 1s 1ms/step - loss: 0.7778 - main_output_loss: 0.6564 - aux_output_loss: 1.8713 - val_loss: 0.8028 - val_main_output_loss: 0.7570 - val_aux_output_loss: 1.2147\n",
      "Epoch 2/100\n",
      "326/363 [=========================>....] - ETA: 0s - loss: 0.9224 - main_output_loss: 0.8925 - aux_output_loss: 1.1909\n",
      "val/train: 0.822500\n",
      "363/363 [==============================] - 0s 1ms/step - loss: 0.8901 - main_output_loss: 0.8576 - aux_output_loss: 1.1829 - val_loss: 0.7321 - val_main_output_loss: 0.6953 - val_aux_output_loss: 1.0629\n",
      "Epoch 3/100\n",
      "326/363 [=========================>....] - ETA: 0s - loss: 0.6364 - main_output_loss: 0.6041 - aux_output_loss: 0.9277\n",
      "val/train: 0.838137\n",
      "363/363 [==============================] - 0s 1ms/step - loss: 0.6231 - main_output_loss: 0.5907 - aux_output_loss: 0.9145 - val_loss: 0.5222 - val_main_output_loss: 0.4879 - val_aux_output_loss: 0.8314\n",
      "Epoch 4/100\n",
      "326/363 [=========================>....] - ETA: 0s - loss: 0.4857 - main_output_loss: 0.4563 - aux_output_loss: 0.7502\n",
      "val/train: 1.019194\n",
      "363/363 [==============================] - 0s 1ms/step - loss: 0.4857 - main_output_loss: 0.4570 - aux_output_loss: 0.7440 - val_loss: 0.4950 - val_main_output_loss: 0.4719 - val_aux_output_loss: 0.7034\n",
      "Epoch 5/100\n",
      "328/363 [==========================>...] - ETA: 0s - loss: 0.5180 - main_output_loss: 0.4988 - aux_output_loss: 0.6906\n",
      "val/train: 0.886330\n",
      "363/363 [==============================] - 0s 1ms/step - loss: 0.5123 - main_output_loss: 0.4925 - aux_output_loss: 0.6912 - val_loss: 0.4541 - val_main_output_loss: 0.4221 - val_aux_output_loss: 0.7417\n",
      "Epoch 6/100\n",
      "328/363 [==========================>...] - ETA: 0s - loss: 0.4663 - main_output_loss: 0.4273 - aux_output_loss: 0.8176\n",
      "val/train: 0.894613\n",
      "363/363 [==============================] - 0s 1ms/step - loss: 0.4714 - main_output_loss: 0.4338 - aux_output_loss: 0.8098 - val_loss: 0.4217 - val_main_output_loss: 0.3970 - val_aux_output_loss: 0.6440\n",
      "Epoch 7/100\n",
      "324/363 [=========================>....] - ETA: 0s - loss: 0.4517 - main_output_loss: 0.4292 - aux_output_loss: 0.6543\n",
      "val/train: 1.003125\n",
      "363/363 [==============================] - 0s 1ms/step - loss: 0.4482 - main_output_loss: 0.4264 - aux_output_loss: 0.6449 - val_loss: 0.4496 - val_main_output_loss: 0.4137 - val_aux_output_loss: 0.7736\n",
      "Epoch 8/100\n",
      "326/363 [=========================>....] - ETA: 0s - loss: 0.4188 - main_output_loss: 0.3994 - aux_output_loss: 0.5931\n",
      "val/train: 1.084136\n",
      "363/363 [==============================] - 0s 1ms/step - loss: 0.4160 - main_output_loss: 0.3971 - aux_output_loss: 0.5860 - val_loss: 0.4510 - val_main_output_loss: 0.4327 - val_aux_output_loss: 0.6152\n",
      "Epoch 9/100\n",
      "328/363 [==========================>...] - ETA: 0s - loss: 0.4460 - main_output_loss: 0.4334 - aux_output_loss: 0.5594\n",
      "val/train: 0.917173\n",
      "363/363 [==============================] - 0s 1ms/step - loss: 0.4491 - main_output_loss: 0.4358 - aux_output_loss: 0.5687 - val_loss: 0.4119 - val_main_output_loss: 0.3925 - val_aux_output_loss: 0.5868\n",
      "Epoch 10/100\n",
      "324/363 [=========================>....] - ETA: 0s - loss: 0.3892 - main_output_loss: 0.3726 - aux_output_loss: 0.5394\n",
      "val/train: 1.008693\n",
      "363/363 [==============================] - 0s 1ms/step - loss: 0.3942 - main_output_loss: 0.3771 - aux_output_loss: 0.5480 - val_loss: 0.3976 - val_main_output_loss: 0.3793 - val_aux_output_loss: 0.5625\n",
      "Epoch 11/100\n",
      "324/363 [=========================>....] - ETA: 0s - loss: 0.3817 - main_output_loss: 0.3655 - aux_output_loss: 0.5277\n",
      "val/train: 1.042223\n",
      "363/363 [==============================] - 0s 1ms/step - loss: 0.3857 - main_output_loss: 0.3701 - aux_output_loss: 0.5261 - val_loss: 0.4020 - val_main_output_loss: 0.3854 - val_aux_output_loss: 0.5513\n",
      "Epoch 12/100\n",
      "326/363 [=========================>....] - ETA: 0s - loss: 0.3871 - main_output_loss: 0.3718 - aux_output_loss: 0.5244\n",
      "val/train: 1.034974\n",
      "363/363 [==============================] - 0s 1ms/step - loss: 0.3991 - main_output_loss: 0.3854 - aux_output_loss: 0.5226 - val_loss: 0.4131 - val_main_output_loss: 0.3924 - val_aux_output_loss: 0.5996\n",
      "Epoch 13/100\n",
      "324/363 [=========================>....] - ETA: 0s - loss: 0.3774 - main_output_loss: 0.3633 - aux_output_loss: 0.5047\n",
      "val/train: 1.061768\n",
      "363/363 [==============================] - 0s 1ms/step - loss: 0.3739 - main_output_loss: 0.3594 - aux_output_loss: 0.5042 - val_loss: 0.3970 - val_main_output_loss: 0.3808 - val_aux_output_loss: 0.5427\n",
      "Epoch 14/100\n",
      "326/363 [=========================>....] - ETA: 0s - loss: 0.3606 - main_output_loss: 0.3463 - aux_output_loss: 0.4895\n",
      "val/train: 1.037151\n",
      "363/363 [==============================] - 0s 1ms/step - loss: 0.3635 - main_output_loss: 0.3494 - aux_output_loss: 0.4903 - val_loss: 0.3770 - val_main_output_loss: 0.3653 - val_aux_output_loss: 0.4821\n",
      "Epoch 15/100\n",
      "329/363 [==========================>...] - ETA: 0s - loss: 0.3731 - main_output_loss: 0.3611 - aux_output_loss: 0.4814\n",
      "val/train: 0.988957\n",
      "363/363 [==============================] - 0s 1ms/step - loss: 0.3722 - main_output_loss: 0.3600 - aux_output_loss: 0.4820 - val_loss: 0.3681 - val_main_output_loss: 0.3568 - val_aux_output_loss: 0.4692\n",
      "Epoch 16/100\n",
      "326/363 [=========================>....] - ETA: 0s - loss: 0.3651 - main_output_loss: 0.3524 - aux_output_loss: 0.4790\n",
      "val/train: 1.079497\n",
      "363/363 [==============================] - 0s 1ms/step - loss: 0.3619 - main_output_loss: 0.3495 - aux_output_loss: 0.4737 - val_loss: 0.3907 - val_main_output_loss: 0.3826 - val_aux_output_loss: 0.4637\n",
      "Epoch 17/100\n",
      "314/363 [========================>.....] - ETA: 0s - loss: 0.3595 - main_output_loss: 0.3480 - aux_output_loss: 0.4630\n",
      "val/train: 1.005968\n",
      "363/363 [==============================] - 0s 1ms/step - loss: 0.3598 - main_output_loss: 0.3482 - aux_output_loss: 0.4642 - val_loss: 0.3619 - val_main_output_loss: 0.3509 - val_aux_output_loss: 0.4610\n",
      "Epoch 18/100\n",
      "360/363 [============================>.] - ETA: 0s - loss: 0.3527 - main_output_loss: 0.3414 - aux_output_loss: 0.4544\n",
      "val/train: 1.052729\n",
      "363/363 [==============================] - 0s 1ms/step - loss: 0.3542 - main_output_loss: 0.3429 - aux_output_loss: 0.4556 - val_loss: 0.3728 - val_main_output_loss: 0.3621 - val_aux_output_loss: 0.4697\n",
      "Epoch 19/100\n",
      "363/363 [==============================] - ETA: 0s - loss: 0.5209 - main_output_loss: 0.5184 - aux_output_loss: 0.5428\n",
      "val/train: 0.715138\n",
      "363/363 [==============================] - 0s 1ms/step - loss: 0.5209 - main_output_loss: 0.5184 - aux_output_loss: 0.5428 - val_loss: 0.3725 - val_main_output_loss: 0.3515 - val_aux_output_loss: 0.5614\n",
      "Epoch 20/100\n",
      "316/363 [=========================>....] - ETA: 0s - loss: 0.3915 - main_output_loss: 0.3801 - aux_output_loss: 0.4939\n",
      "val/train: 0.932135\n",
      "363/363 [==============================] - 0s 1ms/step - loss: 0.3890 - main_output_loss: 0.3776 - aux_output_loss: 0.4915 - val_loss: 0.3626 - val_main_output_loss: 0.3518 - val_aux_output_loss: 0.4591\n",
      "Epoch 21/100\n",
      "314/363 [========================>.....] - ETA: 0s - loss: 0.3503 - main_output_loss: 0.3395 - aux_output_loss: 0.4470\n",
      "val/train: 1.005052\n",
      "363/363 [==============================] - 0s 1ms/step - loss: 0.3520 - main_output_loss: 0.3411 - aux_output_loss: 0.4498 - val_loss: 0.3538 - val_main_output_loss: 0.3442 - val_aux_output_loss: 0.4401\n",
      "Epoch 22/100\n",
      "326/363 [=========================>....] - ETA: 0s - loss: 0.3431 - main_output_loss: 0.3328 - aux_output_loss: 0.4362\n",
      "val/train: 1.028251\n",
      "363/363 [==============================] - 0s 1ms/step - loss: 0.3480 - main_output_loss: 0.3376 - aux_output_loss: 0.4413 - val_loss: 0.3578 - val_main_output_loss: 0.3487 - val_aux_output_loss: 0.4399\n",
      "Epoch 23/100\n",
      "325/363 [=========================>....] - ETA: 0s - loss: 0.3735 - main_output_loss: 0.3620 - aux_output_loss: 0.4766\n",
      "val/train: 1.015195\n",
      "363/363 [==============================] - 0s 1ms/step - loss: 0.3719 - main_output_loss: 0.3597 - aux_output_loss: 0.4821 - val_loss: 0.3776 - val_main_output_loss: 0.3450 - val_aux_output_loss: 0.6706\n",
      "Epoch 24/100\n",
      "326/363 [=========================>....] - ETA: 0s - loss: 0.4335 - main_output_loss: 0.4280 - aux_output_loss: 0.4831\n",
      "val/train: 0.878669\n",
      "363/363 [==============================] - 0s 1ms/step - loss: 0.4311 - main_output_loss: 0.4250 - aux_output_loss: 0.4854 - val_loss: 0.3788 - val_main_output_loss: 0.3679 - val_aux_output_loss: 0.4763\n",
      "Epoch 25/100\n",
      "328/363 [==========================>...] - ETA: 0s - loss: 0.4359 - main_output_loss: 0.4325 - aux_output_loss: 0.4661\n",
      "val/train: 0.886705\n",
      "363/363 [==============================] - 0s 1ms/step - loss: 0.4306 - main_output_loss: 0.4267 - aux_output_loss: 0.4651 - val_loss: 0.3818 - val_main_output_loss: 0.3743 - val_aux_output_loss: 0.4494\n",
      "Epoch 26/100\n",
      "328/363 [==========================>...] - ETA: 0s - loss: 0.3533 - main_output_loss: 0.3444 - aux_output_loss: 0.4334\n",
      "val/train: 1.047053\n",
      "363/363 [==============================] - 0s 1ms/step - loss: 0.3552 - main_output_loss: 0.3462 - aux_output_loss: 0.4364 - val_loss: 0.3720 - val_main_output_loss: 0.3601 - val_aux_output_loss: 0.4786\n",
      "Epoch 27/100\n",
      "351/363 [============================>.] - ETA: 0s - loss: 0.3493 - main_output_loss: 0.3402 - aux_output_loss: 0.4315\n",
      "val/train: 1.002290\n",
      "363/363 [==============================] - 0s 1ms/step - loss: 0.3486 - main_output_loss: 0.3394 - aux_output_loss: 0.4310 - val_loss: 0.3494 - val_main_output_loss: 0.3380 - val_aux_output_loss: 0.4518\n",
      "Epoch 28/100\n",
      "321/363 [=========================>....] - ETA: 0s - loss: 0.3417 - main_output_loss: 0.3328 - aux_output_loss: 0.4221\n",
      "val/train: 1.036260\n",
      "363/363 [==============================] - 0s 1ms/step - loss: 0.3473 - main_output_loss: 0.3384 - aux_output_loss: 0.4274 - val_loss: 0.3599 - val_main_output_loss: 0.3454 - val_aux_output_loss: 0.4903\n",
      "Epoch 29/100\n",
      "322/363 [=========================>....] - ETA: 0s - loss: 0.3418 - main_output_loss: 0.3328 - aux_output_loss: 0.4226\n",
      "val/train: 1.144194\n",
      "363/363 [==============================] - 0s 1ms/step - loss: 0.3434 - main_output_loss: 0.3346 - aux_output_loss: 0.4228 - val_loss: 0.3929 - val_main_output_loss: 0.3841 - val_aux_output_loss: 0.4729\n",
      "Epoch 30/100\n",
      "335/363 [==========================>...] - ETA: 0s - loss: 0.3449 - main_output_loss: 0.3366 - aux_output_loss: 0.4201\n",
      "val/train: 1.105034\n",
      "363/363 [==============================] - 0s 1ms/step - loss: 0.3413 - main_output_loss: 0.3330 - aux_output_loss: 0.4160 - val_loss: 0.3772 - val_main_output_loss: 0.3697 - val_aux_output_loss: 0.4440\n",
      "Epoch 31/100\n",
      "328/363 [==========================>...] - ETA: 0s - loss: 0.3329 - main_output_loss: 0.3248 - aux_output_loss: 0.4060\n",
      "val/train: 1.027706\n",
      "363/363 [==============================] - 0s 1ms/step - loss: 0.3395 - main_output_loss: 0.3314 - aux_output_loss: 0.4124 - val_loss: 0.3489 - val_main_output_loss: 0.3402 - val_aux_output_loss: 0.4271\n",
      "Epoch 32/100\n",
      "326/363 [=========================>....] - ETA: 0s - loss: 0.3366 - main_output_loss: 0.3286 - aux_output_loss: 0.4085\n",
      "val/train: 1.063367\n",
      "363/363 [==============================] - 0s 1ms/step - loss: 0.3381 - main_output_loss: 0.3300 - aux_output_loss: 0.4104 - val_loss: 0.3595 - val_main_output_loss: 0.3515 - val_aux_output_loss: 0.4312\n",
      "Epoch 33/100\n",
      "326/363 [=========================>....] - ETA: 0s - loss: 0.3396 - main_output_loss: 0.3323 - aux_output_loss: 0.4054\n",
      "val/train: 1.110772\n",
      "363/363 [==============================] - 0s 1ms/step - loss: 0.3393 - main_output_loss: 0.3314 - aux_output_loss: 0.4109 - val_loss: 0.3769 - val_main_output_loss: 0.3668 - val_aux_output_loss: 0.4677\n",
      "Epoch 34/100\n",
      "329/363 [==========================>...] - ETA: 0s - loss: 0.3447 - main_output_loss: 0.3371 - aux_output_loss: 0.4127\n",
      "val/train: 1.022671\n",
      "363/363 [==============================] - 0s 1ms/step - loss: 0.3437 - main_output_loss: 0.3364 - aux_output_loss: 0.4096 - val_loss: 0.3515 - val_main_output_loss: 0.3422 - val_aux_output_loss: 0.4352\n",
      "Epoch 35/100\n",
      "321/363 [=========================>....] - ETA: 0s - loss: 0.3366 - main_output_loss: 0.3290 - aux_output_loss: 0.4059\n",
      "val/train: 1.151558\n",
      "363/363 [==============================] - 0s 1ms/step - loss: 0.3380 - main_output_loss: 0.3303 - aux_output_loss: 0.4071 - val_loss: 0.3892 - val_main_output_loss: 0.3636 - val_aux_output_loss: 0.6200\n",
      "Epoch 36/100\n",
      "324/363 [=========================>....] - ETA: 0s - loss: 0.3381 - main_output_loss: 0.3297 - aux_output_loss: 0.4136\n",
      "val/train: 1.036599\n",
      "363/363 [==============================] - 0s 1ms/step - loss: 0.3386 - main_output_loss: 0.3304 - aux_output_loss: 0.4128 - val_loss: 0.3510 - val_main_output_loss: 0.3395 - val_aux_output_loss: 0.4542\n",
      "Epoch 37/100\n",
      "323/363 [=========================>....] - ETA: 0s - loss: 0.3365 - main_output_loss: 0.3290 - aux_output_loss: 0.4037\n",
      "val/train: 1.291267\n",
      "363/363 [==============================] - 0s 1ms/step - loss: 0.3338 - main_output_loss: 0.3261 - aux_output_loss: 0.4029 - val_loss: 0.4310 - val_main_output_loss: 0.4197 - val_aux_output_loss: 0.5334\n",
      "Epoch 38/100\n",
      "324/363 [=========================>....] - ETA: 0s - loss: 0.3448 - main_output_loss: 0.3375 - aux_output_loss: 0.4096\n",
      "val/train: 1.018493\n",
      "363/363 [==============================] - 0s 1ms/step - loss: 0.3408 - main_output_loss: 0.3335 - aux_output_loss: 0.4059 - val_loss: 0.3471 - val_main_output_loss: 0.3373 - val_aux_output_loss: 0.4352\n",
      "Epoch 39/100\n",
      "324/363 [=========================>....] - ETA: 0s - loss: 0.3324 - main_output_loss: 0.3247 - aux_output_loss: 0.4014\n",
      "val/train: 1.059253\n",
      "363/363 [==============================] - 0s 1ms/step - loss: 0.3333 - main_output_loss: 0.3257 - aux_output_loss: 0.4017 - val_loss: 0.3530 - val_main_output_loss: 0.3422 - val_aux_output_loss: 0.4504\n",
      "Epoch 40/100\n",
      "328/363 [==========================>...] - ETA: 0s - loss: 0.3304 - main_output_loss: 0.3231 - aux_output_loss: 0.3966\n",
      "val/train: 1.025653\n",
      "363/363 [==============================] - 0s 1ms/step - loss: 0.3345 - main_output_loss: 0.3269 - aux_output_loss: 0.4025 - val_loss: 0.3430 - val_main_output_loss: 0.3316 - val_aux_output_loss: 0.4463\n",
      "Epoch 41/100\n",
      "325/363 [=========================>....] - ETA: 0s - loss: 0.3313 - main_output_loss: 0.3239 - aux_output_loss: 0.3977\n",
      "val/train: 1.025585\n",
      "363/363 [==============================] - 0s 1ms/step - loss: 0.3310 - main_output_loss: 0.3235 - aux_output_loss: 0.3987 - val_loss: 0.3395 - val_main_output_loss: 0.3297 - val_aux_output_loss: 0.4271\n",
      "Epoch 42/100\n",
      "326/363 [=========================>....] - ETA: 0s - loss: 0.3308 - main_output_loss: 0.3234 - aux_output_loss: 0.3967\n",
      "val/train: 1.026840\n",
      "363/363 [==============================] - 0s 1ms/step - loss: 0.3322 - main_output_loss: 0.3247 - aux_output_loss: 0.3994 - val_loss: 0.3411 - val_main_output_loss: 0.3325 - val_aux_output_loss: 0.4184\n",
      "Epoch 43/100\n",
      "320/363 [=========================>....] - ETA: 0s - loss: 0.3336 - main_output_loss: 0.3267 - aux_output_loss: 0.3965\n",
      "val/train: 1.099925\n",
      "363/363 [==============================] - 0s 1ms/step - loss: 0.3299 - main_output_loss: 0.3227 - aux_output_loss: 0.3946 - val_loss: 0.3629 - val_main_output_loss: 0.3537 - val_aux_output_loss: 0.4459\n",
      "Epoch 44/100\n",
      "345/363 [===========================>..] - ETA: 0s - loss: 0.3310 - main_output_loss: 0.3238 - aux_output_loss: 0.3954\n",
      "val/train: 1.019444\n",
      "363/363 [==============================] - 0s 1ms/step - loss: 0.3305 - main_output_loss: 0.3233 - aux_output_loss: 0.3951 - val_loss: 0.3369 - val_main_output_loss: 0.3269 - val_aux_output_loss: 0.4272\n",
      "Epoch 45/100\n",
      "323/363 [=========================>....] - ETA: 0s - loss: 0.3332 - main_output_loss: 0.3270 - aux_output_loss: 0.3887\n",
      "val/train: 1.026202\n",
      "363/363 [==============================] - 0s 1ms/step - loss: 0.3370 - main_output_loss: 0.3306 - aux_output_loss: 0.3948 - val_loss: 0.3458 - val_main_output_loss: 0.3387 - val_aux_output_loss: 0.4099\n",
      "Epoch 46/100\n",
      "328/363 [==========================>...] - ETA: 0s - loss: 0.3255 - main_output_loss: 0.3184 - aux_output_loss: 0.3885\n",
      "val/train: 1.075503\n",
      "363/363 [==============================] - 0s 1ms/step - loss: 0.3303 - main_output_loss: 0.3232 - aux_output_loss: 0.3935 - val_loss: 0.3552 - val_main_output_loss: 0.3468 - val_aux_output_loss: 0.4311\n",
      "Epoch 47/100\n",
      "328/363 [==========================>...] - ETA: 0s - loss: 0.3338 - main_output_loss: 0.3269 - aux_output_loss: 0.3963\n",
      "val/train: 1.020627\n",
      "363/363 [==============================] - 0s 1ms/step - loss: 0.3310 - main_output_loss: 0.3240 - aux_output_loss: 0.3942 - val_loss: 0.3378 - val_main_output_loss: 0.3297 - val_aux_output_loss: 0.4109\n",
      "Epoch 48/100\n",
      "319/363 [=========================>....] - ETA: 0s - loss: 0.3457 - main_output_loss: 0.3397 - aux_output_loss: 0.4005\n",
      "val/train: 0.975828\n",
      "363/363 [==============================] - 0s 1ms/step - loss: 0.3473 - main_output_loss: 0.3412 - aux_output_loss: 0.4028 - val_loss: 0.3389 - val_main_output_loss: 0.3307 - val_aux_output_loss: 0.4134\n",
      "Epoch 49/100\n",
      "325/363 [=========================>....] - ETA: 0s - loss: 0.3228 - main_output_loss: 0.3159 - aux_output_loss: 0.3856\n",
      "val/train: 1.125530\n",
      "363/363 [==============================] - 0s 1ms/step - loss: 0.3256 - main_output_loss: 0.3185 - aux_output_loss: 0.3897 - val_loss: 0.3665 - val_main_output_loss: 0.3582 - val_aux_output_loss: 0.4411\n",
      "Epoch 50/100\n",
      "323/363 [=========================>....] - ETA: 0s - loss: 0.3214 - main_output_loss: 0.3143 - aux_output_loss: 0.3856\n",
      "val/train: 1.043738\n",
      "363/363 [==============================] - 0s 1ms/step - loss: 0.3284 - main_output_loss: 0.3214 - aux_output_loss: 0.3913 - val_loss: 0.3427 - val_main_output_loss: 0.3335 - val_aux_output_loss: 0.4254\n",
      "Epoch 51/100\n",
      "325/363 [=========================>....] - ETA: 0s - loss: 0.3306 - main_output_loss: 0.3239 - aux_output_loss: 0.3905\n",
      "val/train: 1.101366\n",
      "363/363 [==============================] - 0s 1ms/step - loss: 0.3278 - main_output_loss: 0.3212 - aux_output_loss: 0.3870 - val_loss: 0.3610 - val_main_output_loss: 0.3533 - val_aux_output_loss: 0.4307\n",
      "Epoch 52/100\n",
      "323/363 [=========================>....] - ETA: 0s - loss: 0.3251 - main_output_loss: 0.3182 - aux_output_loss: 0.3869\n",
      "val/train: 1.062211\n",
      "363/363 [==============================] - 0s 1ms/step - loss: 0.3259 - main_output_loss: 0.3190 - aux_output_loss: 0.3874 - val_loss: 0.3461 - val_main_output_loss: 0.3352 - val_aux_output_loss: 0.4442\n",
      "Epoch 53/100\n",
      "359/363 [============================>.] - ETA: 0s - loss: 0.3342 - main_output_loss: 0.3281 - aux_output_loss: 0.3887\n",
      "val/train: 1.020454\n",
      "363/363 [==============================] - 0s 1ms/step - loss: 0.3335 - main_output_loss: 0.3274 - aux_output_loss: 0.3886 - val_loss: 0.3404 - val_main_output_loss: 0.3337 - val_aux_output_loss: 0.4003\n",
      "Epoch 54/100\n",
      "363/363 [==============================] - ETA: 0s - loss: 0.3272 - main_output_loss: 0.3205 - aux_output_loss: 0.3875\n",
      "val/train: 1.020540\n",
      "363/363 [==============================] - 0s 1ms/step - loss: 0.3272 - main_output_loss: 0.3205 - aux_output_loss: 0.3875 - val_loss: 0.3340 - val_main_output_loss: 0.3269 - val_aux_output_loss: 0.3976\n",
      "Epoch 55/100\n",
      "318/363 [=========================>....] - ETA: 0s - loss: 0.3259 - main_output_loss: 0.3192 - aux_output_loss: 0.3862\n",
      "val/train: 1.027938\n",
      "363/363 [==============================] - 0s 1ms/step - loss: 0.3247 - main_output_loss: 0.3180 - aux_output_loss: 0.3850 - val_loss: 0.3337 - val_main_output_loss: 0.3266 - val_aux_output_loss: 0.3978\n",
      "Epoch 56/100\n",
      "345/363 [===========================>..] - ETA: 0s - loss: 0.3244 - main_output_loss: 0.3178 - aux_output_loss: 0.3846\n",
      "val/train: 1.089356\n",
      "363/363 [==============================] - 0s 1ms/step - loss: 0.3223 - main_output_loss: 0.3156 - aux_output_loss: 0.3826 - val_loss: 0.3511 - val_main_output_loss: 0.3410 - val_aux_output_loss: 0.4413\n",
      "Epoch 57/100\n",
      "330/363 [==========================>...] - ETA: 0s - loss: 0.3289 - main_output_loss: 0.3223 - aux_output_loss: 0.3880\n",
      "val/train: 1.044835\n",
      "363/363 [==============================] - 0s 1ms/step - loss: 0.3287 - main_output_loss: 0.3221 - aux_output_loss: 0.3882 - val_loss: 0.3435 - val_main_output_loss: 0.3334 - val_aux_output_loss: 0.4342\n",
      "Epoch 58/100\n",
      "327/363 [==========================>...] - ETA: 0s - loss: 0.3236 - main_output_loss: 0.3165 - aux_output_loss: 0.3881\n",
      "val/train: 1.027825\n",
      "363/363 [==============================] - 0s 1ms/step - loss: 0.3232 - main_output_loss: 0.3162 - aux_output_loss: 0.3862 - val_loss: 0.3322 - val_main_output_loss: 0.3243 - val_aux_output_loss: 0.4032\n",
      "Epoch 59/100\n",
      "323/363 [=========================>....] - ETA: 0s - loss: 0.3231 - main_output_loss: 0.3164 - aux_output_loss: 0.3832\n",
      "val/train: 1.021194\n",
      "363/363 [==============================] - 0s 1ms/step - loss: 0.3237 - main_output_loss: 0.3171 - aux_output_loss: 0.3832 - val_loss: 0.3306 - val_main_output_loss: 0.3233 - val_aux_output_loss: 0.3965\n",
      "Epoch 60/100\n",
      "336/363 [==========================>...] - ETA: 0s - loss: 0.3230 - main_output_loss: 0.3162 - aux_output_loss: 0.3851\n",
      "val/train: 1.063278\n",
      "363/363 [==============================] - 0s 1ms/step - loss: 0.3222 - main_output_loss: 0.3155 - aux_output_loss: 0.3830 - val_loss: 0.3426 - val_main_output_loss: 0.3353 - val_aux_output_loss: 0.4084\n",
      "Epoch 61/100\n",
      "325/363 [=========================>....] - ETA: 0s - loss: 0.3139 - main_output_loss: 0.3072 - aux_output_loss: 0.3741\n",
      "val/train: 1.022959\n",
      "363/363 [==============================] - 0s 1ms/step - loss: 0.3203 - main_output_loss: 0.3136 - aux_output_loss: 0.3807 - val_loss: 0.3276 - val_main_output_loss: 0.3196 - val_aux_output_loss: 0.3998\n",
      "Epoch 62/100\n",
      "315/363 [=========================>....] - ETA: 0s - loss: 0.3199 - main_output_loss: 0.3137 - aux_output_loss: 0.3754\n",
      "val/train: 1.033755\n",
      "363/363 [==============================] - 0s 1ms/step - loss: 0.3207 - main_output_loss: 0.3143 - aux_output_loss: 0.3790 - val_loss: 0.3316 - val_main_output_loss: 0.3236 - val_aux_output_loss: 0.4037\n",
      "Epoch 63/100\n",
      "328/363 [==========================>...] - ETA: 0s - loss: 0.3218 - main_output_loss: 0.3152 - aux_output_loss: 0.3818\n",
      "val/train: 1.023062\n",
      "363/363 [==============================] - 0s 1ms/step - loss: 0.3205 - main_output_loss: 0.3138 - aux_output_loss: 0.3806 - val_loss: 0.3278 - val_main_output_loss: 0.3200 - val_aux_output_loss: 0.3987\n",
      "Epoch 64/100\n",
      "321/363 [=========================>....] - ETA: 0s - loss: 0.3152 - main_output_loss: 0.3089 - aux_output_loss: 0.3721\n",
      "val/train: 1.023410\n",
      "363/363 [==============================] - 0s 1ms/step - loss: 0.3191 - main_output_loss: 0.3124 - aux_output_loss: 0.3794 - val_loss: 0.3266 - val_main_output_loss: 0.3180 - val_aux_output_loss: 0.4037\n",
      "Epoch 65/100\n",
      "317/363 [=========================>....] - ETA: 0s - loss: 0.3233 - main_output_loss: 0.3167 - aux_output_loss: 0.3828\n",
      "val/train: 1.049304\n",
      "363/363 [==============================] - 0s 1ms/step - loss: 0.3188 - main_output_loss: 0.3120 - aux_output_loss: 0.3808 - val_loss: 0.3346 - val_main_output_loss: 0.3270 - val_aux_output_loss: 0.4030\n",
      "Epoch 66/100\n",
      "324/363 [=========================>....] - ETA: 0s - loss: 0.3207 - main_output_loss: 0.3140 - aux_output_loss: 0.3803\n",
      "val/train: 1.034036\n",
      "363/363 [==============================] - 0s 1ms/step - loss: 0.3163 - main_output_loss: 0.3097 - aux_output_loss: 0.3756 - val_loss: 0.3270 - val_main_output_loss: 0.3187 - val_aux_output_loss: 0.4022\n",
      "Epoch 67/100\n",
      "325/363 [=========================>....] - ETA: 0s - loss: 0.3162 - main_output_loss: 0.3098 - aux_output_loss: 0.3745\n",
      "val/train: 1.148395\n",
      "363/363 [==============================] - 0s 1ms/step - loss: 0.3154 - main_output_loss: 0.3087 - aux_output_loss: 0.3761 - val_loss: 0.3622 - val_main_output_loss: 0.3535 - val_aux_output_loss: 0.4410\n",
      "Epoch 68/100\n",
      "316/363 [=========================>....] - ETA: 0s - loss: 0.3310 - main_output_loss: 0.3251 - aux_output_loss: 0.3845\n",
      "val/train: 1.027985\n",
      "363/363 [==============================] - 0s 1ms/step - loss: 0.3263 - main_output_loss: 0.3202 - aux_output_loss: 0.3814 - val_loss: 0.3355 - val_main_output_loss: 0.3255 - val_aux_output_loss: 0.4253\n",
      "Epoch 69/100\n",
      "323/363 [=========================>....] - ETA: 0s - loss: 0.3154 - main_output_loss: 0.3086 - aux_output_loss: 0.3767\n",
      "val/train: 1.047001\n",
      "363/363 [==============================] - 0s 1ms/step - loss: 0.3162 - main_output_loss: 0.3093 - aux_output_loss: 0.3782 - val_loss: 0.3310 - val_main_output_loss: 0.3238 - val_aux_output_loss: 0.3965\n",
      "Epoch 70/100\n",
      "324/363 [=========================>....] - ETA: 0s - loss: 0.3153 - main_output_loss: 0.3084 - aux_output_loss: 0.3770\n",
      "val/train: 1.030582\n",
      "363/363 [==============================] - 0s 1ms/step - loss: 0.3148 - main_output_loss: 0.3080 - aux_output_loss: 0.3755 - val_loss: 0.3244 - val_main_output_loss: 0.3161 - val_aux_output_loss: 0.3991\n",
      "Epoch 71/100\n",
      "327/363 [==========================>...] - ETA: 0s - loss: 0.3267 - main_output_loss: 0.3210 - aux_output_loss: 0.3776\n",
      "val/train: 1.014820\n",
      "363/363 [==============================] - 0s 1ms/step - loss: 0.3236 - main_output_loss: 0.3179 - aux_output_loss: 0.3744 - val_loss: 0.3284 - val_main_output_loss: 0.3217 - val_aux_output_loss: 0.3885\n",
      "Epoch 72/100\n",
      "328/363 [==========================>...] - ETA: 0s - loss: 0.3234 - main_output_loss: 0.3166 - aux_output_loss: 0.3854\n",
      "val/train: 1.075981\n",
      "363/363 [==============================] - 0s 1ms/step - loss: 0.3261 - main_output_loss: 0.3192 - aux_output_loss: 0.3881 - val_loss: 0.3508 - val_main_output_loss: 0.3380 - val_aux_output_loss: 0.4663\n",
      "Epoch 73/100\n",
      "356/363 [============================>.] - ETA: 0s - loss: 0.3180 - main_output_loss: 0.3108 - aux_output_loss: 0.3831\n",
      "val/train: 1.039065\n",
      "363/363 [==============================] - 0s 1ms/step - loss: 0.3160 - main_output_loss: 0.3088 - aux_output_loss: 0.3807 - val_loss: 0.3284 - val_main_output_loss: 0.3206 - val_aux_output_loss: 0.3985\n",
      "Epoch 74/100\n",
      "337/363 [==========================>...] - ETA: 0s - loss: 0.3300 - main_output_loss: 0.3246 - aux_output_loss: 0.3783\n",
      "val/train: 1.103457\n",
      "363/363 [==============================] - 0s 1ms/step - loss: 0.3284 - main_output_loss: 0.3230 - aux_output_loss: 0.3765 - val_loss: 0.3624 - val_main_output_loss: 0.3593 - val_aux_output_loss: 0.3903\n",
      "Epoch 75/100\n",
      "323/363 [=========================>....] - ETA: 0s - loss: 0.3366 - main_output_loss: 0.3320 - aux_output_loss: 0.3783\n",
      "val/train: 1.069495\n",
      "363/363 [==============================] - 0s 1ms/step - loss: 0.3330 - main_output_loss: 0.3281 - aux_output_loss: 0.3771 - val_loss: 0.3561 - val_main_output_loss: 0.3483 - val_aux_output_loss: 0.4262\n",
      "Epoch 76/100\n",
      "325/363 [=========================>....] - ETA: 0s - loss: 0.3134 - main_output_loss: 0.3070 - aux_output_loss: 0.3710\n",
      "val/train: 1.055399\n",
      "363/363 [==============================] - 0s 1ms/step - loss: 0.3148 - main_output_loss: 0.3082 - aux_output_loss: 0.3744 - val_loss: 0.3323 - val_main_output_loss: 0.3255 - val_aux_output_loss: 0.3935\n",
      "Epoch 77/100\n",
      "321/363 [=========================>....] - ETA: 0s - loss: 0.3163 - main_output_loss: 0.3097 - aux_output_loss: 0.3757\n",
      "val/train: 1.068495\n",
      "363/363 [==============================] - 0s 1ms/step - loss: 0.3151 - main_output_loss: 0.3085 - aux_output_loss: 0.3746 - val_loss: 0.3366 - val_main_output_loss: 0.3303 - val_aux_output_loss: 0.3935\n",
      "Epoch 78/100\n",
      "327/363 [==========================>...] - ETA: 0s - loss: 0.3233 - main_output_loss: 0.3178 - aux_output_loss: 0.3731\n",
      "val/train: 1.852602\n",
      "363/363 [==============================] - 0s 1ms/step - loss: 0.3366 - main_output_loss: 0.3324 - aux_output_loss: 0.3741 - val_loss: 0.6235 - val_main_output_loss: 0.6470 - val_aux_output_loss: 0.4119\n",
      "Epoch 79/100\n",
      "322/363 [=========================>....] - ETA: 0s - loss: 0.3308 - main_output_loss: 0.3243 - aux_output_loss: 0.3895\n",
      "val/train: 0.999976\n",
      "363/363 [==============================] - 0s 1ms/step - loss: 0.3268 - main_output_loss: 0.3203 - aux_output_loss: 0.3861 - val_loss: 0.3268 - val_main_output_loss: 0.3195 - val_aux_output_loss: 0.3929\n",
      "Epoch 80/100\n",
      "318/363 [=========================>....] - ETA: 0s - loss: 0.3144 - main_output_loss: 0.3078 - aux_output_loss: 0.3733\n",
      "val/train: 1.010048\n",
      "363/363 [==============================] - 0s 1ms/step - loss: 0.3145 - main_output_loss: 0.3076 - aux_output_loss: 0.3762 - val_loss: 0.3176 - val_main_output_loss: 0.3100 - val_aux_output_loss: 0.3863\n",
      "Epoch 81/100\n",
      "313/363 [========================>.....] - ETA: 0s - loss: 0.3143 - main_output_loss: 0.3075 - aux_output_loss: 0.3751\n",
      "val/train: 1.064722\n",
      "363/363 [==============================] - 0s 1ms/step - loss: 0.3118 - main_output_loss: 0.3050 - aux_output_loss: 0.3731 - val_loss: 0.3320 - val_main_output_loss: 0.3251 - val_aux_output_loss: 0.3944\n",
      "Epoch 82/100\n",
      "324/363 [=========================>....] - ETA: 0s - loss: 0.3155 - main_output_loss: 0.3084 - aux_output_loss: 0.3791\n",
      "val/train: 1.023744\n",
      "363/363 [==============================] - 0s 1ms/step - loss: 0.3128 - main_output_loss: 0.3058 - aux_output_loss: 0.3750 - val_loss: 0.3202 - val_main_output_loss: 0.3129 - val_aux_output_loss: 0.3858\n",
      "Epoch 83/100\n",
      "327/363 [==========================>...] - ETA: 0s - loss: 0.3103 - main_output_loss: 0.3034 - aux_output_loss: 0.3723\n",
      "val/train: 1.043981\n",
      "363/363 [==============================] - 0s 1ms/step - loss: 0.3108 - main_output_loss: 0.3039 - aux_output_loss: 0.3734 - val_loss: 0.3245 - val_main_output_loss: 0.3175 - val_aux_output_loss: 0.3875\n",
      "Epoch 84/100\n",
      "339/363 [===========================>..] - ETA: 0s - loss: 0.3117 - main_output_loss: 0.3050 - aux_output_loss: 0.3724\n",
      "val/train: 1.023621\n",
      "363/363 [==============================] - 0s 1ms/step - loss: 0.3108 - main_output_loss: 0.3040 - aux_output_loss: 0.3719 - val_loss: 0.3182 - val_main_output_loss: 0.3102 - val_aux_output_loss: 0.3902\n",
      "Epoch 85/100\n",
      "326/363 [=========================>....] - ETA: 0s - loss: 0.3075 - main_output_loss: 0.3006 - aux_output_loss: 0.3697\n",
      "val/train: 1.019651\n",
      "363/363 [==============================] - 0s 1ms/step - loss: 0.3101 - main_output_loss: 0.3032 - aux_output_loss: 0.3721 - val_loss: 0.3162 - val_main_output_loss: 0.3089 - val_aux_output_loss: 0.3813\n",
      "Epoch 86/100\n",
      "319/363 [=========================>....] - ETA: 0s - loss: 0.3136 - main_output_loss: 0.3069 - aux_output_loss: 0.3737\n",
      "val/train: 1.032847\n",
      "363/363 [==============================] - 0s 1ms/step - loss: 0.3111 - main_output_loss: 0.3044 - aux_output_loss: 0.3715 - val_loss: 0.3213 - val_main_output_loss: 0.3139 - val_aux_output_loss: 0.3880\n",
      "Epoch 87/100\n",
      "324/363 [=========================>....] - ETA: 0s - loss: 0.3086 - main_output_loss: 0.3021 - aux_output_loss: 0.3679\n",
      "val/train: 1.073949\n",
      "363/363 [==============================] - 0s 1ms/step - loss: 0.3094 - main_output_loss: 0.3027 - aux_output_loss: 0.3703 - val_loss: 0.3323 - val_main_output_loss: 0.3254 - val_aux_output_loss: 0.3945\n",
      "Epoch 88/100\n",
      "317/363 [=========================>....] - ETA: 0s - loss: 0.3082 - main_output_loss: 0.3019 - aux_output_loss: 0.3646\n",
      "val/train: 1.025572\n",
      "363/363 [==============================] - 0s 1ms/step - loss: 0.3100 - main_output_loss: 0.3035 - aux_output_loss: 0.3689 - val_loss: 0.3179 - val_main_output_loss: 0.3102 - val_aux_output_loss: 0.3877\n",
      "Epoch 89/100\n",
      "354/363 [============================>.] - ETA: 0s - loss: 0.3195 - main_output_loss: 0.3136 - aux_output_loss: 0.3725\n",
      "val/train: 1.067949\n",
      "363/363 [==============================] - 0s 1ms/step - loss: 0.3182 - main_output_loss: 0.3122 - aux_output_loss: 0.3719 - val_loss: 0.3398 - val_main_output_loss: 0.3319 - val_aux_output_loss: 0.4109\n",
      "Epoch 90/100\n",
      "322/363 [=========================>....] - ETA: 0s - loss: 0.3095 - main_output_loss: 0.3025 - aux_output_loss: 0.3725\n",
      "val/train: 1.019466\n",
      "363/363 [==============================] - 0s 1ms/step - loss: 0.3097 - main_output_loss: 0.3028 - aux_output_loss: 0.3720 - val_loss: 0.3157 - val_main_output_loss: 0.3083 - val_aux_output_loss: 0.3829\n",
      "Epoch 91/100\n",
      "355/363 [============================>.] - ETA: 0s - loss: 0.3072 - main_output_loss: 0.3006 - aux_output_loss: 0.3667\n",
      "val/train: 1.032247\n",
      "363/363 [==============================] - 1s 1ms/step - loss: 0.3079 - main_output_loss: 0.3013 - aux_output_loss: 0.3675 - val_loss: 0.3179 - val_main_output_loss: 0.3105 - val_aux_output_loss: 0.3840\n",
      "Epoch 92/100\n",
      "345/363 [===========================>..] - ETA: 0s - loss: 0.3098 - main_output_loss: 0.3030 - aux_output_loss: 0.3708\n",
      "val/train: 1.048309\n",
      "363/363 [==============================] - 0s 1ms/step - loss: 0.3083 - main_output_loss: 0.3016 - aux_output_loss: 0.3688 - val_loss: 0.3232 - val_main_output_loss: 0.3161 - val_aux_output_loss: 0.3866\n",
      "Epoch 93/100\n",
      "363/363 [==============================] - ETA: 0s - loss: 0.3077 - main_output_loss: 0.3010 - aux_output_loss: 0.3680\n",
      "val/train: 1.016889\n",
      "363/363 [==============================] - 0s 1ms/step - loss: 0.3077 - main_output_loss: 0.3010 - aux_output_loss: 0.3680 - val_loss: 0.3129 - val_main_output_loss: 0.3057 - val_aux_output_loss: 0.3776\n",
      "Epoch 94/100\n",
      "325/363 [=========================>....] - ETA: 0s - loss: 0.3064 - main_output_loss: 0.2995 - aux_output_loss: 0.3688\n",
      "val/train: 1.060687\n",
      "363/363 [==============================] - 0s 1ms/step - loss: 0.3057 - main_output_loss: 0.2989 - aux_output_loss: 0.3671 - val_loss: 0.3243 - val_main_output_loss: 0.3163 - val_aux_output_loss: 0.3957\n",
      "Epoch 95/100\n",
      "326/363 [=========================>....] - ETA: 0s - loss: 0.3104 - main_output_loss: 0.3043 - aux_output_loss: 0.3654\n",
      "val/train: 1.055776\n",
      "363/363 [==============================] - 0s 1ms/step - loss: 0.3096 - main_output_loss: 0.3035 - aux_output_loss: 0.3640 - val_loss: 0.3269 - val_main_output_loss: 0.3191 - val_aux_output_loss: 0.3968\n",
      "Epoch 96/100\n",
      "314/363 [========================>.....] - ETA: 0s - loss: 0.3048 - main_output_loss: 0.2978 - aux_output_loss: 0.3683\n",
      "val/train: 1.077957\n",
      "363/363 [==============================] - 0s 1ms/step - loss: 0.3098 - main_output_loss: 0.3035 - aux_output_loss: 0.3664 - val_loss: 0.3339 - val_main_output_loss: 0.3220 - val_aux_output_loss: 0.4414\n",
      "Epoch 97/100\n",
      "332/363 [==========================>...] - ETA: 0s - loss: 0.3123 - main_output_loss: 0.3060 - aux_output_loss: 0.3684\n",
      "val/train: 1.020718\n",
      "363/363 [==============================] - 0s 1ms/step - loss: 0.3100 - main_output_loss: 0.3037 - aux_output_loss: 0.3669 - val_loss: 0.3165 - val_main_output_loss: 0.3088 - val_aux_output_loss: 0.3849\n",
      "Epoch 98/100\n",
      "325/363 [=========================>....] - ETA: 0s - loss: 0.3098 - main_output_loss: 0.3032 - aux_output_loss: 0.3693\n",
      "val/train: 1.029503\n",
      "363/363 [==============================] - 0s 1ms/step - loss: 0.3066 - main_output_loss: 0.3000 - aux_output_loss: 0.3662 - val_loss: 0.3156 - val_main_output_loss: 0.3081 - val_aux_output_loss: 0.3837\n",
      "Epoch 99/100\n",
      "329/363 [==========================>...] - ETA: 0s - loss: 0.3023 - main_output_loss: 0.2953 - aux_output_loss: 0.3654\n",
      "val/train: 1.098694\n",
      "363/363 [==============================] - 0s 1ms/step - loss: 0.3021 - main_output_loss: 0.2954 - aux_output_loss: 0.3625 - val_loss: 0.3319 - val_main_output_loss: 0.3240 - val_aux_output_loss: 0.4032\n",
      "Epoch 100/100\n",
      "325/363 [=========================>....] - ETA: 0s - loss: 0.3027 - main_output_loss: 0.2960 - aux_output_loss: 0.3624\n",
      "val/train: 1.081520\n",
      "363/363 [==============================] - 0s 1ms/step - loss: 0.3025 - main_output_loss: 0.2956 - aux_output_loss: 0.3644 - val_loss: 0.3271 - val_main_output_loss: 0.3203 - val_aux_output_loss: 0.3886\n"
     ]
    }
   ],
   "source": [
    "input_A = keras.layers.Input(shape=[5], name='wide_input')\n",
    "input_B = keras.layers.Input(shape=[6], name='deep_input')\n",
    "hidden1 = keras.layers.Dense(30, activation='relu')(input_B)\n",
    "hidden2 = keras.layers.Dense(30, activation='relu')(hidden1)\n",
    "concat = keras.layers.Concatenate()([input_A, hidden2])\n",
    "output = keras.layers.Dense(1, name='main_output')(concat)\n",
    "aux_output = keras.layers.Dense(1, name='aux_output')(hidden2)\n",
    "model = keras.Model(inputs=[input_A, input_B], outputs=[output, aux_output])\n",
    "\n",
    "model.compile(\n",
    "    loss=['mse', 'mse'],\n",
    "    loss_weights=[0.9, 0.1],\n",
    "    optimizer=keras.optimizers.SGD(learning_rate=0.02)\n",
    ")\n",
    "\n",
    "early_stopping_cb = keras.callbacks.EarlyStopping(\n",
    "    patience=10,\n",
    "    restore_best_weights=True\n",
    ")\n",
    "\n",
    "custom_cb = PrintValTrainRatioCallback()\n",
    "\n",
    "history = model.fit(\n",
    "    [X_train_A, X_train_B],\n",
    "    [y_train, y_train],\n",
    "    epochs=100,\n",
    "    validation_data=([X_valid_A, X_valid_B], [y_valid, y_valid]),\n",
    "    callbacks=[early_stopping_cb, custom_cb]\n",
    ")"
   ]
  },
  {
   "cell_type": "markdown",
   "id": "a85495a8-9cc8-4921-b9cc-0902db600e0e",
   "metadata": {},
   "source": [
    "## Using TensorBoard for Visualization"
   ]
  },
  {
   "cell_type": "markdown",
   "id": "931c64cf-a784-43cd-a9c0-fea099b73d51",
   "metadata": {},
   "source": [
    "TensorBoard is a great interactive visualization tool that you can use to view the learning curves during training, compare learning curves between multiple runs, visualize the computation graph, analyze training statistics, view images generated by your model, visualize complex multidimensional data projected down to 3D and automatically clustered for you, and more. This tool is installed automatically when you install TensorFlow.\n",
    "\n",
    "To use it, you must modify your program so that it outputs the data you want to visualize to special binary log files called *event files*. Each binary data record is called a *summary*. This allows you to visualize live data (with a short delay). In general, you want to point the TensorBoard server to a root log directory and configure your program so that it writes to a different subdirectory every time it runs."
   ]
  },
  {
   "cell_type": "code",
   "execution_count": 78,
   "id": "7ae95590-d731-4e6e-9fb0-37f5a03430c4",
   "metadata": {
    "tags": []
   },
   "outputs": [
    {
     "name": "stdout",
     "output_type": "stream",
     "text": [
      "Epoch 1/100\n",
      "363/363 [==============================] - 1s 1ms/step - loss: 0.9774 - main_output_loss: 0.9023 - aux_output_loss: 1.6533 - val_loss: 0.5535 - val_main_output_loss: 0.4806 - val_aux_output_loss: 1.2098\n",
      "Epoch 2/100\n",
      "363/363 [==============================] - 0s 1ms/step - loss: 0.6196 - main_output_loss: 0.5700 - aux_output_loss: 1.0664 - val_loss: 0.5549 - val_main_output_loss: 0.5126 - val_aux_output_loss: 0.9358\n",
      "Epoch 3/100\n",
      "363/363 [==============================] - 0s 1ms/step - loss: 0.5515 - main_output_loss: 0.5088 - aux_output_loss: 0.9358 - val_loss: 0.4794 - val_main_output_loss: 0.4553 - val_aux_output_loss: 0.6956\n",
      "Epoch 4/100\n",
      "363/363 [==============================] - 0s 1ms/step - loss: 0.4845 - main_output_loss: 0.4629 - aux_output_loss: 0.6786 - val_loss: 0.4424 - val_main_output_loss: 0.4185 - val_aux_output_loss: 0.6575\n",
      "Epoch 5/100\n",
      "363/363 [==============================] - 0s 1ms/step - loss: 0.4408 - main_output_loss: 0.4172 - aux_output_loss: 0.6535 - val_loss: 2.6971 - val_main_output_loss: 2.9066 - val_aux_output_loss: 0.8121\n",
      "Epoch 6/100\n",
      "363/363 [==============================] - 0s 1ms/step - loss: 0.4919 - main_output_loss: 0.4828 - aux_output_loss: 0.5732 - val_loss: 0.4182 - val_main_output_loss: 0.4017 - val_aux_output_loss: 0.5673\n",
      "Epoch 7/100\n",
      "363/363 [==============================] - 0s 1ms/step - loss: 0.4030 - main_output_loss: 0.3871 - aux_output_loss: 0.5464 - val_loss: 0.4043 - val_main_output_loss: 0.3868 - val_aux_output_loss: 0.5624\n",
      "Epoch 8/100\n",
      "363/363 [==============================] - 0s 1ms/step - loss: 0.3869 - main_output_loss: 0.3718 - aux_output_loss: 0.5230 - val_loss: 0.3772 - val_main_output_loss: 0.3611 - val_aux_output_loss: 0.5223\n",
      "Epoch 9/100\n",
      "363/363 [==============================] - 0s 1ms/step - loss: 0.3775 - main_output_loss: 0.3630 - aux_output_loss: 0.5080 - val_loss: 0.3762 - val_main_output_loss: 0.3611 - val_aux_output_loss: 0.5121\n",
      "Epoch 10/100\n",
      "363/363 [==============================] - 0s 1ms/step - loss: 0.3723 - main_output_loss: 0.3584 - aux_output_loss: 0.4968 - val_loss: 0.4968 - val_main_output_loss: 0.4974 - val_aux_output_loss: 0.4915\n",
      "Epoch 11/100\n",
      "363/363 [==============================] - 0s 1ms/step - loss: 0.3756 - main_output_loss: 0.3630 - aux_output_loss: 0.4890 - val_loss: 0.4042 - val_main_output_loss: 0.3901 - val_aux_output_loss: 0.5310\n",
      "Epoch 12/100\n",
      "363/363 [==============================] - 0s 1ms/step - loss: 0.3615 - main_output_loss: 0.3488 - aux_output_loss: 0.4756 - val_loss: 0.3740 - val_main_output_loss: 0.3576 - val_aux_output_loss: 0.5216\n",
      "Epoch 13/100\n",
      "363/363 [==============================] - 0s 1ms/step - loss: 0.3607 - main_output_loss: 0.3487 - aux_output_loss: 0.4680 - val_loss: 0.4094 - val_main_output_loss: 0.3924 - val_aux_output_loss: 0.5625\n",
      "Epoch 14/100\n",
      "363/363 [==============================] - 0s 1ms/step - loss: 0.3526 - main_output_loss: 0.3407 - aux_output_loss: 0.4606 - val_loss: 0.3911 - val_main_output_loss: 0.3780 - val_aux_output_loss: 0.5096\n",
      "Epoch 15/100\n",
      "363/363 [==============================] - 0s 1ms/step - loss: 0.3491 - main_output_loss: 0.3375 - aux_output_loss: 0.4539 - val_loss: 0.3568 - val_main_output_loss: 0.3436 - val_aux_output_loss: 0.4760\n",
      "Epoch 16/100\n",
      "363/363 [==============================] - 0s 1ms/step - loss: 0.3536 - main_output_loss: 0.3419 - aux_output_loss: 0.4587 - val_loss: 0.3653 - val_main_output_loss: 0.3541 - val_aux_output_loss: 0.4659\n",
      "Epoch 17/100\n",
      "363/363 [==============================] - 0s 1ms/step - loss: 0.3468 - main_output_loss: 0.3356 - aux_output_loss: 0.4480 - val_loss: 0.3486 - val_main_output_loss: 0.3376 - val_aux_output_loss: 0.4477\n",
      "Epoch 18/100\n",
      "363/363 [==============================] - 0s 1ms/step - loss: 0.3647 - main_output_loss: 0.3561 - aux_output_loss: 0.4422 - val_loss: 0.3488 - val_main_output_loss: 0.3395 - val_aux_output_loss: 0.4330\n",
      "Epoch 19/100\n",
      "363/363 [==============================] - 0s 1ms/step - loss: 0.3505 - main_output_loss: 0.3414 - aux_output_loss: 0.4323 - val_loss: 0.3552 - val_main_output_loss: 0.3461 - val_aux_output_loss: 0.4370\n",
      "Epoch 20/100\n",
      "363/363 [==============================] - 0s 1ms/step - loss: 0.3416 - main_output_loss: 0.3317 - aux_output_loss: 0.4302 - val_loss: 0.3422 - val_main_output_loss: 0.3306 - val_aux_output_loss: 0.4461\n",
      "Epoch 21/100\n",
      "363/363 [==============================] - 0s 1ms/step - loss: 0.3375 - main_output_loss: 0.3277 - aux_output_loss: 0.4256 - val_loss: 0.3438 - val_main_output_loss: 0.3329 - val_aux_output_loss: 0.4415\n",
      "Epoch 22/100\n",
      "363/363 [==============================] - 0s 1ms/step - loss: 0.3474 - main_output_loss: 0.3384 - aux_output_loss: 0.4286 - val_loss: 0.3404 - val_main_output_loss: 0.3311 - val_aux_output_loss: 0.4242\n",
      "Epoch 23/100\n",
      "363/363 [==============================] - 0s 1ms/step - loss: 0.3450 - main_output_loss: 0.3363 - aux_output_loss: 0.4238 - val_loss: 0.3613 - val_main_output_loss: 0.3534 - val_aux_output_loss: 0.4326\n",
      "Epoch 24/100\n",
      "363/363 [==============================] - 0s 1ms/step - loss: 0.3466 - main_output_loss: 0.3387 - aux_output_loss: 0.4175 - val_loss: 0.3400 - val_main_output_loss: 0.3318 - val_aux_output_loss: 0.4135\n",
      "Epoch 25/100\n",
      "363/363 [==============================] - 0s 1ms/step - loss: 0.3376 - main_output_loss: 0.3289 - aux_output_loss: 0.4159 - val_loss: 0.3546 - val_main_output_loss: 0.3435 - val_aux_output_loss: 0.4538\n",
      "Epoch 26/100\n",
      "363/363 [==============================] - 0s 1ms/step - loss: 0.3318 - main_output_loss: 0.3227 - aux_output_loss: 0.4137 - val_loss: 0.3738 - val_main_output_loss: 0.3645 - val_aux_output_loss: 0.4574\n",
      "Epoch 27/100\n",
      "363/363 [==============================] - 0s 1ms/step - loss: 0.3526 - main_output_loss: 0.3454 - aux_output_loss: 0.4178 - val_loss: 0.3385 - val_main_output_loss: 0.3295 - val_aux_output_loss: 0.4191\n",
      "Epoch 28/100\n",
      "363/363 [==============================] - 0s 1ms/step - loss: 0.3453 - main_output_loss: 0.3383 - aux_output_loss: 0.4084 - val_loss: 0.3392 - val_main_output_loss: 0.3314 - val_aux_output_loss: 0.4095\n",
      "Epoch 29/100\n",
      "363/363 [==============================] - 0s 1ms/step - loss: 0.3352 - main_output_loss: 0.3272 - aux_output_loss: 0.4067 - val_loss: 0.3959 - val_main_output_loss: 0.3900 - val_aux_output_loss: 0.4493\n",
      "Epoch 30/100\n",
      "363/363 [==============================] - 0s 1ms/step - loss: 0.3317 - main_output_loss: 0.3236 - aux_output_loss: 0.4044 - val_loss: 0.3424 - val_main_output_loss: 0.3350 - val_aux_output_loss: 0.4089\n",
      "Epoch 31/100\n",
      "363/363 [==============================] - 0s 1ms/step - loss: 0.3281 - main_output_loss: 0.3200 - aux_output_loss: 0.4007 - val_loss: 0.3410 - val_main_output_loss: 0.3344 - val_aux_output_loss: 0.4005\n",
      "Epoch 32/100\n",
      "363/363 [==============================] - 0s 1ms/step - loss: 0.3284 - main_output_loss: 0.3206 - aux_output_loss: 0.3991 - val_loss: 0.3486 - val_main_output_loss: 0.3409 - val_aux_output_loss: 0.4175\n",
      "Epoch 33/100\n",
      "363/363 [==============================] - 0s 1ms/step - loss: 0.3637 - main_output_loss: 0.3597 - aux_output_loss: 0.3994 - val_loss: 0.3334 - val_main_output_loss: 0.3245 - val_aux_output_loss: 0.4132\n",
      "Epoch 34/100\n",
      "363/363 [==============================] - 0s 1ms/step - loss: 0.3450 - main_output_loss: 0.3385 - aux_output_loss: 0.4032 - val_loss: 0.3585 - val_main_output_loss: 0.3507 - val_aux_output_loss: 0.4285\n",
      "Epoch 35/100\n",
      "363/363 [==============================] - 0s 1ms/step - loss: 0.3249 - main_output_loss: 0.3170 - aux_output_loss: 0.3957 - val_loss: 0.3390 - val_main_output_loss: 0.3327 - val_aux_output_loss: 0.3966\n",
      "Epoch 36/100\n",
      "363/363 [==============================] - 0s 1ms/step - loss: 0.3244 - main_output_loss: 0.3167 - aux_output_loss: 0.3937 - val_loss: 0.3386 - val_main_output_loss: 0.3305 - val_aux_output_loss: 0.4115\n",
      "Epoch 37/100\n",
      "363/363 [==============================] - 0s 1ms/step - loss: 0.3204 - main_output_loss: 0.3127 - aux_output_loss: 0.3896 - val_loss: 0.3316 - val_main_output_loss: 0.3241 - val_aux_output_loss: 0.3985\n",
      "Epoch 38/100\n",
      "363/363 [==============================] - 0s 1ms/step - loss: 0.3194 - main_output_loss: 0.3118 - aux_output_loss: 0.3879 - val_loss: 0.3223 - val_main_output_loss: 0.3150 - val_aux_output_loss: 0.3886\n",
      "Epoch 39/100\n",
      "363/363 [==============================] - 0s 1ms/step - loss: 0.3202 - main_output_loss: 0.3128 - aux_output_loss: 0.3872 - val_loss: 0.3290 - val_main_output_loss: 0.3217 - val_aux_output_loss: 0.3942\n",
      "Epoch 40/100\n",
      "363/363 [==============================] - 0s 1ms/step - loss: 0.3290 - main_output_loss: 0.3225 - aux_output_loss: 0.3869 - val_loss: 0.3259 - val_main_output_loss: 0.3182 - val_aux_output_loss: 0.3948\n",
      "Epoch 41/100\n",
      "363/363 [==============================] - 0s 1ms/step - loss: 0.3151 - main_output_loss: 0.3076 - aux_output_loss: 0.3831 - val_loss: 0.3247 - val_main_output_loss: 0.3171 - val_aux_output_loss: 0.3927\n",
      "Epoch 42/100\n",
      "363/363 [==============================] - 0s 1ms/step - loss: 0.3170 - main_output_loss: 0.3096 - aux_output_loss: 0.3842 - val_loss: 0.3291 - val_main_output_loss: 0.3217 - val_aux_output_loss: 0.3954\n",
      "Epoch 43/100\n",
      "363/363 [==============================] - 0s 1ms/step - loss: 0.3145 - main_output_loss: 0.3071 - aux_output_loss: 0.3809 - val_loss: 0.3216 - val_main_output_loss: 0.3146 - val_aux_output_loss: 0.3850\n",
      "Epoch 44/100\n",
      "363/363 [==============================] - 0s 1ms/step - loss: 0.3161 - main_output_loss: 0.3088 - aux_output_loss: 0.3810 - val_loss: 0.3307 - val_main_output_loss: 0.3239 - val_aux_output_loss: 0.3917\n",
      "Epoch 45/100\n",
      "363/363 [==============================] - 0s 1ms/step - loss: 0.3192 - main_output_loss: 0.3122 - aux_output_loss: 0.3825 - val_loss: 0.3213 - val_main_output_loss: 0.3112 - val_aux_output_loss: 0.4119\n",
      "Epoch 46/100\n",
      "363/363 [==============================] - 0s 1ms/step - loss: 0.3125 - main_output_loss: 0.3052 - aux_output_loss: 0.3777 - val_loss: 0.3169 - val_main_output_loss: 0.3103 - val_aux_output_loss: 0.3766\n",
      "Epoch 47/100\n",
      "363/363 [==============================] - 0s 1ms/step - loss: 0.3115 - main_output_loss: 0.3043 - aux_output_loss: 0.3764 - val_loss: 0.3212 - val_main_output_loss: 0.3146 - val_aux_output_loss: 0.3808\n",
      "Epoch 48/100\n",
      "363/363 [==============================] - 0s 1ms/step - loss: 0.3132 - main_output_loss: 0.3062 - aux_output_loss: 0.3761 - val_loss: 0.3151 - val_main_output_loss: 0.3082 - val_aux_output_loss: 0.3777\n",
      "Epoch 49/100\n",
      "363/363 [==============================] - 0s 1ms/step - loss: 0.3103 - main_output_loss: 0.3035 - aux_output_loss: 0.3717 - val_loss: 0.3239 - val_main_output_loss: 0.3172 - val_aux_output_loss: 0.3841\n",
      "Epoch 50/100\n",
      "363/363 [==============================] - 0s 1ms/step - loss: 0.3110 - main_output_loss: 0.3040 - aux_output_loss: 0.3735 - val_loss: 0.3290 - val_main_output_loss: 0.3223 - val_aux_output_loss: 0.3892\n",
      "Epoch 51/100\n",
      "363/363 [==============================] - 0s 1ms/step - loss: 0.3084 - main_output_loss: 0.3015 - aux_output_loss: 0.3707 - val_loss: 0.3169 - val_main_output_loss: 0.3100 - val_aux_output_loss: 0.3797\n",
      "Epoch 52/100\n",
      "363/363 [==============================] - 0s 1ms/step - loss: 0.3095 - main_output_loss: 0.3027 - aux_output_loss: 0.3709 - val_loss: 0.3161 - val_main_output_loss: 0.3091 - val_aux_output_loss: 0.3791\n",
      "Epoch 53/100\n",
      "363/363 [==============================] - 0s 1ms/step - loss: 0.3086 - main_output_loss: 0.3017 - aux_output_loss: 0.3705 - val_loss: 0.3257 - val_main_output_loss: 0.3197 - val_aux_output_loss: 0.3797\n",
      "Epoch 54/100\n",
      "363/363 [==============================] - 0s 1ms/step - loss: 0.3151 - main_output_loss: 0.3089 - aux_output_loss: 0.3707 - val_loss: 0.3404 - val_main_output_loss: 0.3348 - val_aux_output_loss: 0.3906\n",
      "Epoch 55/100\n",
      "363/363 [==============================] - 0s 1ms/step - loss: 0.3085 - main_output_loss: 0.3018 - aux_output_loss: 0.3692 - val_loss: 0.3748 - val_main_output_loss: 0.3690 - val_aux_output_loss: 0.4273\n",
      "Epoch 56/100\n",
      "363/363 [==============================] - 0s 1ms/step - loss: 0.3093 - main_output_loss: 0.3026 - aux_output_loss: 0.3696 - val_loss: 0.3229 - val_main_output_loss: 0.3168 - val_aux_output_loss: 0.3774\n",
      "Epoch 57/100\n",
      "363/363 [==============================] - 0s 1ms/step - loss: 0.3087 - main_output_loss: 0.3024 - aux_output_loss: 0.3657 - val_loss: 0.3279 - val_main_output_loss: 0.3217 - val_aux_output_loss: 0.3834\n",
      "Epoch 58/100\n",
      "363/363 [==============================] - 0s 1ms/step - loss: 0.3038 - main_output_loss: 0.2971 - aux_output_loss: 0.3643 - val_loss: 0.3143 - val_main_output_loss: 0.3081 - val_aux_output_loss: 0.3702\n",
      "Epoch 59/100\n",
      "363/363 [==============================] - 0s 1ms/step - loss: 0.3037 - main_output_loss: 0.2970 - aux_output_loss: 0.3640 - val_loss: 0.3317 - val_main_output_loss: 0.3254 - val_aux_output_loss: 0.3882\n",
      "Epoch 60/100\n",
      "363/363 [==============================] - 0s 1ms/step - loss: 0.3031 - main_output_loss: 0.2965 - aux_output_loss: 0.3627 - val_loss: 0.3169 - val_main_output_loss: 0.3103 - val_aux_output_loss: 0.3765\n",
      "Epoch 61/100\n",
      "363/363 [==============================] - 0s 1ms/step - loss: 0.3051 - main_output_loss: 0.2986 - aux_output_loss: 0.3634 - val_loss: 0.3112 - val_main_output_loss: 0.3047 - val_aux_output_loss: 0.3697\n",
      "Epoch 62/100\n",
      "363/363 [==============================] - 0s 1ms/step - loss: 0.3024 - main_output_loss: 0.2958 - aux_output_loss: 0.3620 - val_loss: 0.3123 - val_main_output_loss: 0.3060 - val_aux_output_loss: 0.3689\n",
      "Epoch 63/100\n",
      "363/363 [==============================] - 0s 1ms/step - loss: 0.3024 - main_output_loss: 0.2958 - aux_output_loss: 0.3614 - val_loss: 0.3160 - val_main_output_loss: 0.3097 - val_aux_output_loss: 0.3732\n",
      "Epoch 64/100\n",
      "363/363 [==============================] - 0s 1ms/step - loss: 0.3031 - main_output_loss: 0.2967 - aux_output_loss: 0.3609 - val_loss: 0.3223 - val_main_output_loss: 0.3170 - val_aux_output_loss: 0.3704\n",
      "Epoch 65/100\n",
      "363/363 [==============================] - 0s 1ms/step - loss: 0.3011 - main_output_loss: 0.2946 - aux_output_loss: 0.3595 - val_loss: 0.3197 - val_main_output_loss: 0.3136 - val_aux_output_loss: 0.3751\n",
      "Epoch 66/100\n",
      "363/363 [==============================] - 0s 1ms/step - loss: 0.3025 - main_output_loss: 0.2962 - aux_output_loss: 0.3595 - val_loss: 0.3114 - val_main_output_loss: 0.3050 - val_aux_output_loss: 0.3691\n",
      "Epoch 67/100\n",
      "363/363 [==============================] - 0s 1ms/step - loss: 0.3007 - main_output_loss: 0.2944 - aux_output_loss: 0.3578 - val_loss: 0.3211 - val_main_output_loss: 0.3148 - val_aux_output_loss: 0.3780\n",
      "Epoch 68/100\n",
      "363/363 [==============================] - 0s 1ms/step - loss: 0.3066 - main_output_loss: 0.3004 - aux_output_loss: 0.3622 - val_loss: 0.3214 - val_main_output_loss: 0.3111 - val_aux_output_loss: 0.4138\n",
      "Epoch 69/100\n",
      "363/363 [==============================] - 0s 1ms/step - loss: 0.3069 - main_output_loss: 0.3008 - aux_output_loss: 0.3621 - val_loss: 0.3481 - val_main_output_loss: 0.3419 - val_aux_output_loss: 0.4036\n",
      "Epoch 70/100\n",
      "363/363 [==============================] - 0s 1ms/step - loss: 0.3024 - main_output_loss: 0.2960 - aux_output_loss: 0.3596 - val_loss: 0.3228 - val_main_output_loss: 0.3161 - val_aux_output_loss: 0.3831\n",
      "Epoch 71/100\n",
      "363/363 [==============================] - 0s 1ms/step - loss: 0.3011 - main_output_loss: 0.2949 - aux_output_loss: 0.3568 - val_loss: 0.3110 - val_main_output_loss: 0.3047 - val_aux_output_loss: 0.3674\n",
      "Epoch 72/100\n",
      "363/363 [==============================] - 0s 1ms/step - loss: 0.2988 - main_output_loss: 0.2924 - aux_output_loss: 0.3563 - val_loss: 0.3076 - val_main_output_loss: 0.3015 - val_aux_output_loss: 0.3629\n",
      "Epoch 73/100\n",
      "363/363 [==============================] - 0s 1ms/step - loss: 0.2985 - main_output_loss: 0.2923 - aux_output_loss: 0.3542 - val_loss: 0.3155 - val_main_output_loss: 0.3089 - val_aux_output_loss: 0.3752\n",
      "Epoch 74/100\n",
      "363/363 [==============================] - 0s 1ms/step - loss: 0.2992 - main_output_loss: 0.2931 - aux_output_loss: 0.3541 - val_loss: 0.3278 - val_main_output_loss: 0.3210 - val_aux_output_loss: 0.3886\n",
      "Epoch 75/100\n",
      "363/363 [==============================] - 0s 1ms/step - loss: 0.2995 - main_output_loss: 0.2934 - aux_output_loss: 0.3546 - val_loss: 0.3178 - val_main_output_loss: 0.3114 - val_aux_output_loss: 0.3748\n",
      "Epoch 76/100\n",
      "363/363 [==============================] - 0s 1ms/step - loss: 0.2995 - main_output_loss: 0.2934 - aux_output_loss: 0.3544 - val_loss: 0.3173 - val_main_output_loss: 0.3115 - val_aux_output_loss: 0.3699\n",
      "Epoch 77/100\n",
      "363/363 [==============================] - 0s 1ms/step - loss: 0.2968 - main_output_loss: 0.2907 - aux_output_loss: 0.3517 - val_loss: 0.3238 - val_main_output_loss: 0.3175 - val_aux_output_loss: 0.3802\n",
      "Epoch 78/100\n",
      "363/363 [==============================] - 0s 1ms/step - loss: 0.2972 - main_output_loss: 0.2909 - aux_output_loss: 0.3534 - val_loss: 0.3205 - val_main_output_loss: 0.3144 - val_aux_output_loss: 0.3755\n",
      "Epoch 79/100\n",
      "363/363 [==============================] - 0s 1ms/step - loss: 0.2974 - main_output_loss: 0.2913 - aux_output_loss: 0.3521 - val_loss: 0.3206 - val_main_output_loss: 0.3142 - val_aux_output_loss: 0.3783\n",
      "Epoch 80/100\n",
      "363/363 [==============================] - 0s 1ms/step - loss: 0.2967 - main_output_loss: 0.2908 - aux_output_loss: 0.3504 - val_loss: 0.3107 - val_main_output_loss: 0.3048 - val_aux_output_loss: 0.3634\n",
      "Epoch 81/100\n",
      "363/363 [==============================] - 0s 1ms/step - loss: 0.2952 - main_output_loss: 0.2892 - aux_output_loss: 0.3496 - val_loss: 0.3414 - val_main_output_loss: 0.3346 - val_aux_output_loss: 0.4022\n",
      "Epoch 82/100\n",
      "363/363 [==============================] - 0s 1ms/step - loss: 0.2950 - main_output_loss: 0.2889 - aux_output_loss: 0.3498 - val_loss: 0.3176 - val_main_output_loss: 0.3122 - val_aux_output_loss: 0.3662\n"
     ]
    }
   ],
   "source": [
    "import os\n",
    "\n",
    "root_logdir = os.path.join(os.curdir, 'my_logs')\n",
    "\n",
    "def get_run_logdir():\n",
    "    import time\n",
    "    run_id = time.strftime('run_%Y_%m_%d_-%H_%M_%S')\n",
    "    return os.path.join(root_logdir, run_id)\n",
    "\n",
    "run_logdir = get_run_logdir()\n",
    "\n",
    "input_A = keras.layers.Input(shape=[5], name='wide_input')\n",
    "input_B = keras.layers.Input(shape=[6], name='deep_input')\n",
    "hidden1 = keras.layers.Dense(30, activation='relu')(input_B)\n",
    "hidden2 = keras.layers.Dense(30, activation='relu')(hidden1)\n",
    "concat = keras.layers.Concatenate()([input_A, hidden2])\n",
    "output = keras.layers.Dense(1, name='main_output')(concat)\n",
    "aux_output = keras.layers.Dense(1, name='aux_output')(hidden2)\n",
    "model = keras.Model(inputs=[input_A, input_B], outputs=[output, aux_output])\n",
    "\n",
    "model.compile(\n",
    "    loss=['mse', 'mse'],\n",
    "    loss_weights=[0.9, 0.1],\n",
    "    optimizer=keras.optimizers.SGD(learning_rate=0.02)\n",
    ")\n",
    "\n",
    "early_stopping_cb = keras.callbacks.EarlyStopping(\n",
    "    patience=10,\n",
    "    restore_best_weights=True\n",
    ")\n",
    "\n",
    "tensorboard_cb = keras.callbacks.TensorBoard(run_logdir)\n",
    "\n",
    "history = model.fit(\n",
    "    [X_train_A, X_train_B],\n",
    "    [y_train, y_train],\n",
    "    epochs=100,\n",
    "    validation_data=([X_valid_A, X_valid_B], [y_valid, y_valid]),\n",
    "    callbacks=[early_stopping_cb, tensorboard_cb]\n",
    ")"
   ]
  },
  {
   "cell_type": "markdown",
   "id": "5ff488c6-b079-4ccd-88ca-947baf254d4c",
   "metadata": {},
   "source": [
    "Next you need to start the TensorBoard server. One way to do this is by running a command in a terminal. If you installed TensorFlow within a virtualenv, you should activate it. Next, run the following command at the root of the project\n",
    "\n",
    "tensorboard --logdir=./my_logs --port=6006\n",
    "\n",
    "If your sehll cannot find the *tensorboard* script, then you must update your PATH environment variable so that it contains the directory in which the script was installed. Once the server is up, you can open a web browser and go to http://localhost:6006\n",
    "\n",
    "Alternatively, you can use TensorBoard directly within Jupyter, by running the following commands. \n",
    "\n",
    "Additionally, TensorFlow offers a lower-level API in the tf.summary package. The following code creates a SummaryWriter using the create_file_writer() function and it uses this writer as a context to log scalers, histograms, images, audio, and text, all of which can then be visualized using TensorBoard."
   ]
  },
  {
   "cell_type": "code",
   "execution_count": 80,
   "id": "57b2abb5-304a-4589-899e-84a723327aef",
   "metadata": {
    "tags": []
   },
   "outputs": [
    {
     "data": {
      "text/plain": [
       "Reusing TensorBoard on port 6006 (pid 5700), started 4 days, 3:03:57 ago. (Use '!kill 5700' to kill it.)"
      ]
     },
     "metadata": {},
     "output_type": "display_data"
    },
    {
     "data": {
      "text/html": [
       "\n",
       "      <iframe id=\"tensorboard-frame-54119fbadf21259a\" width=\"100%\" height=\"800\" frameborder=\"0\">\n",
       "      </iframe>\n",
       "      <script>\n",
       "        (function() {\n",
       "          const frame = document.getElementById(\"tensorboard-frame-54119fbadf21259a\");\n",
       "          const url = new URL(\"/\", window.location);\n",
       "          const port = 6006;\n",
       "          if (port) {\n",
       "            url.port = port;\n",
       "          }\n",
       "          frame.src = url;\n",
       "        })();\n",
       "      </script>\n",
       "    "
      ],
      "text/plain": [
       "<IPython.core.display.HTML object>"
      ]
     },
     "metadata": {},
     "output_type": "display_data"
    }
   ],
   "source": [
    "%load_ext tensorboard\n",
    "%tensorboard --logdir=./my_logs --port=6006"
   ]
  },
  {
   "cell_type": "code",
   "execution_count": 81,
   "id": "eef4d401-a1a7-487c-9621-87b5f16941ed",
   "metadata": {
    "tags": []
   },
   "outputs": [],
   "source": [
    "test_logdir = get_run_logdir()\n",
    "writer = tf.summary.create_file_writer(test_logdir)\n",
    "with writer.as_default():\n",
    "    for step in range(1, 1000 + 1):\n",
    "        tf.summary.scalar('my_scalar', np.sin(step / 10), step=step)\n",
    "        data = (np.random.randn(100) + 2) * step / 100 # some random data\n",
    "        tf.summary.histogram('my_hist', data, buckets=50, step=step)\n",
    "        images = np.random.rand(2, 32, 32, 3) # random 32x32 RGB images\n",
    "        tf.summary.image('my_images', images * step / 1000, step=step)\n",
    "        texts = ['The step is ' + str(step), 'Its square is ' + str(step**2)]\n",
    "        tf.summary.text('my_text', texts, step=step)\n",
    "        sine_wave = tf.math.sin(tf.range(12000) / 48000 * 2 * np.pi * step)\n",
    "        audio = tf.reshape(tf.cast(sine_wave, tf.float32), [1, -1, 1])\n",
    "        tf.summary.audio('my_audio', audio, sample_rate=48000, step=step)"
   ]
  },
  {
   "cell_type": "markdown",
   "id": "5ce001a8-4c61-414c-924b-3244a8d62c75",
   "metadata": {},
   "source": [
    "## Fine-Tuning Neural Network Hyperparameters"
   ]
  },
  {
   "cell_type": "markdown",
   "id": "7567f6cc-271a-4951-b7c4-20dc44dbe9e5",
   "metadata": {},
   "source": [
    "How do you know what combination of hyperparameters is the best for your task? One option is to simply try many combinations of hyperparameters and see which one works best on the validation set (or use K-fold cross-validation). We can use GridSearchCV or RandomizedSearchCV to explore the hyperparameter space. To do this, we need to wrap our Keras models in objects that mimic regular Scikit-Learn regressors. The first step is to create a function that will build and compile a Keras model, given a set of hyperparameters.\n",
    "\n",
    "It is good practice to provide reasonable defaults to as many hyperparameters as you can, as Scikit-Learn does."
   ]
  },
  {
   "cell_type": "code",
   "execution_count": 84,
   "id": "8e2c3a09-2811-4b2e-8164-c4174606f82d",
   "metadata": {
    "tags": []
   },
   "outputs": [],
   "source": [
    "def build_model(n_hidden=1, n_neurons=30, learning_rate=3e-3, input_shape=[8]):\n",
    "    model = keras.models.Sequential()\n",
    "    model.add(keras.layers.InputLayer(input_shape=input_shape))\n",
    "    for layer in range(n_hidden):\n",
    "        model.add(keras.layers.Dense(n_neurons, activation='relu'))\n",
    "    model.add(keras.layers.Dense(1))\n",
    "    optimizer=keras.optimizers.SGD(learning_rate=learning_rate)\n",
    "    model.compile(loss='mse', optimizer=optimizer)\n",
    "    return model"
   ]
  },
  {
   "cell_type": "markdown",
   "id": "a2c1e57e-ea52-42f3-9484-672d9a9c9d89",
   "metadata": {
    "tags": []
   },
   "source": [
    "Next, let's create a KerasRegressor based on this build_model() function. The KerasRegressor object is a thin wrapper around the Keras model built using build_model(). Since we did not specify any hyperparameters when creating it, it will use the default hyperparameters we defined in build_model(). Now we can use this object like a regular Scikit-Learn regressor: we can train it using its fit() method, then evaluate it using its score() method, and use it to make predictions using its predict() method, as you can see in the following code.\n",
    "\n",
    "Also note that the score will be the opposite of the MSE because Scikit-Learn wants scores, not losses (i.e. higher should be better). Since there are many hyperparameters, it is preferable to use a randomized search rather than grid search."
   ]
  },
  {
   "cell_type": "code",
   "execution_count": 86,
   "id": "0fd5ea49-e880-414b-9176-be24c6cc7713",
   "metadata": {
    "tags": []
   },
   "outputs": [
    {
     "name": "stdout",
     "output_type": "stream",
     "text": [
      "WARNING:tensorflow:5 out of the last 5 calls to <function Model.make_predict_function.<locals>.predict_function at 0x000001CE894E69D0> triggered tf.function retracing. Tracing is expensive and the excessive number of tracings could be due to (1) creating @tf.function repeatedly in a loop, (2) passing tensors with different shapes, (3) passing Python objects instead of tensors. For (1), please define your @tf.function outside of the loop. For (2), @tf.function has experimental_relax_shapes=True option that relaxes argument shapes that can avoid unnecessary retracing. For (3), please refer to https://www.tensorflow.org/guide/function#controlling_retracing and https://www.tensorflow.org/api_docs/python/tf/function for  more details.\n",
      "162/162 [==============================] - 0s 664us/step\n",
      "1/1 [==============================] - 0s 15ms/step\n",
      "0.7316399530792368 [1.2911674 1.3475122 1.6247735]\n"
     ]
    }
   ],
   "source": [
    "from scipy.stats import reciprocal\n",
    "from sklearn.model_selection import RandomizedSearchCV\n",
    "from scikeras.wrappers import KerasClassifier, KerasRegressor\n",
    "\n",
    "keras_reg = KerasRegressor(build_model)\n",
    "keras_reg.fit(\n",
    "    X_train,\n",
    "    y_train,\n",
    "    epochs=100,\n",
    "    validation_data=(X_valid, y_valid),\n",
    "    callbacks=[keras.callbacks.EarlyStopping(patience=5)],\n",
    "    verbose=0\n",
    ")\n",
    "mse_test = keras_reg.score(X_test, y_test)\n",
    "y_pred = keras_reg.predict(X_new)\n",
    "print(mse_test, y_pred)"
   ]
  },
  {
   "cell_type": "code",
   "execution_count": null,
   "id": "9c3f3b4d-fcba-46ca-bff2-1d4d5e2d6b57",
   "metadata": {
    "tags": []
   },
   "outputs": [
    {
     "name": "stdout",
     "output_type": "stream",
     "text": [
      "121/121 [==============================] - 0s 669us/step\n"
     ]
    }
   ],
   "source": [
    "keras_reg = KerasRegressor(build_model, n_hidden=1, n_neurons=30, learning_rate=3e-3) # For this wrapper you need to initialize the parameters you're testing\n",
    "param_distribs = {\n",
    "    'n_hidden': np.arange(0, 3, 1),\n",
    "    'n_neurons': np.arange(1, 100, 1),\n",
    "    'learning_rate': reciprocal(3e-4, 3e-2)\n",
    "}\n",
    "\n",
    "rnd_search_cv = RandomizedSearchCV(keras_reg, param_distribs, n_iter=10, cv=3)\n",
    "rnd_search_cv.fit(\n",
    "    X_train,\n",
    "    y_train,\n",
    "    epochs=100,\n",
    "    validation_data=(X_valid, y_valid),\n",
    "    callbacks=[keras.callbacks.EarlyStopping(patience=10)],\n",
    "    verbose=0\n",
    ")\n",
    "\n",
    "opt_keras_reg = KerasRegressor(build_model(**rnd_search_cv.best_params_))\n",
    "opt_keras_reg.fit(\n",
    "    X_train,\n",
    "    y_train,\n",
    "    epochs=100,\n",
    "    validation_data=(X_valid, y_valid),\n",
    "    callbacks=[keras.callbacks.EarlyStopping(patience=10)],\n",
    "    verbose=0\n",
    ")\n",
    "mse_test = opt_keras_reg.score(X_test, y_test)\n",
    "y_pred = opt_keras_reg.predict(X_new)\n",
    "print(mse_test, y_pred)"
   ]
  },
  {
   "cell_type": "markdown",
   "id": "d46e2e47-c094-4cda-afcc-6a150c80edfb",
   "metadata": {},
   "source": [
    "This is identical to what we did in Chapter 2, except here we pass extra parameters to the fit() method, and they get relayed to the underlying Keras models. Note that RandomizedSearchCV uses K-fold cross-validation, so it does not use X_valid and y_valid, which are only used for early stopping. The exploration may last many hours, depending on the hardware, the size of the dataset, the complexity of the model, and the avlues of n_iter and cv. When its over, you can access the best parameters found, the best score, and the trained Keras model like this:"
   ]
  },
  {
   "cell_type": "code",
   "execution_count": null,
   "id": "8c70eb74-d7d2-4253-8156-d0a6b6a7ca9e",
   "metadata": {
    "tags": []
   },
   "outputs": [],
   "source": [
    "model = rnd_search_cv.best_estimator_.model_\n",
    "rnd_search_cv.best_params_, rnd_search_cv.best_score_"
   ]
  },
  {
   "cell_type": "code",
   "execution_count": null,
   "id": "827817b8-3b91-419a-8a93-d7ccd57a8ca4",
   "metadata": {
    "tags": []
   },
   "outputs": [],
   "source": [
    "model.save('my_keras_model.h5')\n",
    "model.evaluate(X_test, y_test)"
   ]
  },
  {
   "cell_type": "markdown",
   "id": "214936ba-e34c-4bc9-9866-a964ba015cc0",
   "metadata": {},
   "source": [
    "You can now save this model, evaluate it on the test set, and, if you are satisfied with its performance, deploy it to production. Using randomized search is not too hard, and it works well for many fairly simple problems. When training is slow, however (e.g. for more complex problems with larger datasets), this approach will only explore a tiny portion of the hyperparameter space. You can partially alleviate this problem by assisting the search process manually: first run a quick random search using wide ranges of hyperparameter values, then run another search using smaller ranges of values centered on the best ones found during the first run, and so on. This approach is very time consuming.\n",
    "\n",
    "Fortunately, there are many techniques to explore a search space much more efficiently than randomly. Such techniques take care of the 'zooming' process for you and lead to much better solutions in much less time. Here are some python libraries you can use to optimize hyperparameters:\n",
    "1. Hyperopt (https://github.com/hyperopt/hyperopt)\n",
    "<br>A popular library for optimizing over all sorts of complex search spaces (including real values, such as the learning rate, and discrete values, such as the number of layers).\n",
    "\n",
    "2. Hyperas (https://github.com/maxpumperla/hyperas), kopt (https://github.com/Avsecz/kopt), Talos (https://github.com/autonomio/talos)\n",
    "<br>Useful libraries for optimizing hyperparameters for Keras models (the first two are based on Hyperopt)\n",
    "\n",
    "3. Keras Tuner (https://homl.info/kerastuner)\n",
    "<br>**An easy-to-use hyperparameter optimization library by Google for Keras models, with a hosted service for visualization and analysis**\n",
    "\n",
    "4. Scikit-Optimize (skopt) (https://scikit-optimize.github.io/)\n",
    "<br>A general-purpose optimization library. The BayesSearchCV class performs Bayesian optimization using an interface similar to GridSearchCV\n",
    "\n",
    "5. Sprearmint (https://github.com/JasperSnoek/spearmint)\n",
    "<br>A Bayesian optimization library.\n",
    "\n",
    "6. Hyperband(https://github.com/zygmuntz/hyperband)\n",
    "<br>A fast hyperparameter tuning library baesd on the recent Hyperband paper (https://home.info/hyperband) by Lisha Li et al.\n",
    "\n",
    "7. Sklearn-Deap (https://github.com/rsteca/sklearn-deap)\n",
    "<br>A hyperparameter optimization library based on evolutionary algorithms, with a GridSearchCV like interface.\n",
    "\n",
    "Hyperparameter tuning is still an active area of research."
   ]
  },
  {
   "cell_type": "markdown",
   "id": "b3da9882-5cf1-431a-a3f6-9a437a9225ec",
   "metadata": {},
   "source": [
    "## Number of Hidden Layers"
   ]
  },
  {
   "cell_type": "markdown",
   "id": "8cabbd6a-a28b-4c8d-a335-4ead0c42fb6c",
   "metadata": {},
   "source": [
    "An MLP with just one hidden layer can theoretically model even the most complex functions, provided it has enough neurons. But for complex problems, deep networks have a much higher *parameter efficiency* than shallow ones: they can model complex functions using exponentially fewer neurons than shallow nets, allowing them to reach much better performance wit the same amount of training data.\n",
    "\n",
    "Real-world data is often structured in such a hierarchical way (symmetry, fractals, subsets, etc), and deep neural networks automatically take advantage of this fact: lower hidden layers model low-level structures (e.g. line segments of various shapes and orientations), intermediate hidden layers combine these low-level structures to model intermediate-level structures (e.g. squares, circles), and the highest hidden layers and the output layer combine these intermediate structures to model high-level structures (e.g. faces).\n",
    "\n",
    "For exapmle, if you have already trained a model to recognize faces in pictures and you now want to train a new neural network to recognize hairstyles, you can kickstart the training by reusing the lower layers of the first network. Instead of randomly initializing the weights and biases of the first few layers of the new neural network, you can initialize them to the values of the weights and biases of the lower layers of the first network. This way the network will not have to learn from scratch all the low-level structures that occur in most pictures; this is called *transfer learning*.\n",
    "\n",
    "In summary, for many problems you can start with just one or two hidden layers and the neural network will work just fine. **For more complex problems, you can ramp up the number of hidden layers until you start overfitting the training set.** Very complex tasks,such as large image classification or speech recognition, typically require networks with doezens of layers (or even hundreds, but not fully connected ones, as we will see in Chapter 14), and they need a huge amount of training data."
   ]
  },
  {
   "cell_type": "markdown",
   "id": "14ae24c8-71a9-46b0-b369-223d27d82978",
   "metadata": {},
   "source": [
    "## Number of Neurons per Hidden Layer"
   ]
  },
  {
   "cell_type": "markdown",
   "id": "1ef4c0a5-5ef0-4cfa-b4b1-558e0d8482d6",
   "metadata": {},
   "source": [
    "**In general you will get more bang for your buck by increasing the number of layers instead of the number of neurons per layer**.\n",
    "\n",
    "The number of neurons in the input and output layers is determined by the type of input and output your task requires. As for the hidden layers, it used to be common to size them to form a pyramid, with fewer and fewer neurons at each layer. The rational being that many low-level features can coalesce into far fewer high-level features. A typical neural network for MNIST might have 3 hidden layers, the first with 300 neurons, the second with 200 neurons, and the third with 100. **However, this practice has been largely abandoned because it seems that using the same number of neurons in all hidden layers performs just well in most cases, or even better; plus, there is only one hyperparameter to tune, instead of one per layer.** That said, depending on the dataset, it can sometimes help to make the first hidden layer bigger than the others.\n",
    "\n",
    "Just like the number of layers, you can try increasing the number of neurons gradually until the network starts overfitting. **But in practice, it's often simpler and more efficient to pick a model with more layers and neurons than you actually need, then use early stopping and other regularization techniques to prevent it from overfitting.**"
   ]
  },
  {
   "cell_type": "markdown",
   "id": "bcbdd648-e30f-4c5b-bfc2-2c57868e7dfc",
   "metadata": {},
   "source": [
    "## Learning Rate, Batch Size, and Other Hyperparameters"
   ]
  },
  {
   "cell_type": "markdown",
   "id": "04702ee6-3d31-4583-8b9c-03e5cf866b27",
   "metadata": {},
   "source": [
    "The number of hidden layers and neurons are not the only hyperparameters you can tweak in an MLP. Here are some of the most important ones, as well as tips on how to set them:\n",
    "\n",
    "1. Learning Rate\n",
    "<br>**The learning rate is arguably the most important hyperparameter.** In general, the optimal learning rate is about half of the maximum learning rate (i.e. the learning rate above which the training algorithm diverges, as we saw in Chapter 4). One way to find a good learning rate is to train the model for a few hundreds iterations, starting with a very low learning rate (e.g. 1e-6) and gradually increasing it up to a very large value (e.g. 10). This is done by multiplying the learning rate by a constant factor at each iteration (e.g. by exp(log(1e7) / 500) to go from 1e-6 to 10 in 500 iterations). If you plot the loss as a function of the learning rate (using a log scale for the learning rate), you should see it dropping at first. But after a while, the learning rate will be too large, so the loss will shoot back up: the optimal learning rate will be a b it lower than the point at which the loss starts to climb (typically about 10x lower than the turning point). You can then reinitialize your model and train it normally using this good learning rate. We will look at more learning rate techniques in Chapter 11. **The optimal learning rate depends on other hyperparameters, especially the batch size, so if you modify any hyperparameter make sure to update the learning rate as well.**\n",
    "\n",
    "2. Optimizer\n",
    "<br>Choosing a better optimizer than plain old Mini-batch Gradient Desecent (and tuning its hyperparameters) is also quite important. We will see several advanced optimizers in Chapter 11.\n",
    "\n",
    "3. Batch Size\n",
    "<br>The batch size can have a significant impact on your model's performance and training time. **The main benefit of using large batch sizes is that hardware accelerators like GPU's can process them efficiently** (see Chapter 19), so the training algorithm will see more instances per second. Therefore, many researchers and practitioners recommend using the largest batch size that can fit in GPU RAM. There's a catch, though: **in practice, large batch sizes often lead to training instabilities, especially at the beginning of training, and the resulting model may not generalize as well as a model trained with a small batch size.** In April 2018, Yann LeCun even tweeted \"Friends don't let friends use mini-batches larger than 32,\" **citing a 2018 paper (https://homl.info/smallbatch) by Dominic Masters and Carlo Luschi which concluded that using small batches (from 2 to 32) was preferable because small batches led to better models in less training time.** Other papers point in the opposite direction, however; in 2017, papers by Elad Hoffer et al. (https://homl.info/largebatch) and Priya Goyal et al. (https:homl.info/largebatch2) showed that it was possible to use very large batch sizes (up to 8,192) using various techniques such as warming up the learning rate (i.e. starting training with a small learning rate, then ramping it up, as we will see in Chapter 11). This led to a very short training time, without any generalization gap. **So one strategy is to try to use a large batch size, using learning rate warmup, and if training is unstable or the final performance is disappointing, then try using a small batch instead.**\n",
    "\n",
    "4. Activation Function\n",
    "<br>We discussed how to choose the activation function earlier in this chapter: **in general, the ReLU activation function will be a good default for all hidden layers.** For the output layer, it really depends on your task.\n",
    "\n",
    "5. Number of Iterations\n",
    "<br>In most cases, the number of training iterations does not actually need to be tweaked; just use early stopping instead.\n",
    "\n",
    "For more best practices regarding tuning neural network hyperparameters, check out the excellent 2018 paper (https://homl.info/1cycle) by Leslie Smith"
   ]
  },
  {
   "cell_type": "markdown",
   "id": "a6c6b786-4418-4c91-b6e2-77a23b6bbd93",
   "metadata": {},
   "source": [
    "# Exercises"
   ]
  },
  {
   "cell_type": "markdown",
   "id": "31a2baf6-8c50-4f9a-ad7c-1318b7098126",
   "metadata": {},
   "source": [
    "1. This excerise has the reader go to https://playground.tensorflow.org/ and familiarize with basic Sequential networks."
   ]
  },
  {
   "cell_type": "markdown",
   "id": "8a14cc5f-aa74-491e-a363-25e4c2233c68",
   "metadata": {},
   "source": [
    "2. Draw an ANN using the original artificial neurons that computes A XOR B."
   ]
  },
  {
   "cell_type": "markdown",
   "id": "a68cdeff-5e2c-47ea-980a-a752e2788c6c",
   "metadata": {},
   "source": [
    "**My answer** <br>\n",
    "I don't feel this is worth putting effort into. This can be quickly searched if it is required in real life and doesn't add to the practical understanding of what the chapter teaches, in my opinion."
   ]
  },
  {
   "cell_type": "markdown",
   "id": "92dded51-0c17-4357-8e20-22134c22f14a",
   "metadata": {},
   "source": [
    "3. Why is it generally preferable to use a Logistic Regression classifier rather than a classical Perceptron (i.e. a single layer of threshold logic units trained using the Perceptron training algorithm)? How can you tweak a Perceptron to make it equivalent to a Logistic Regression classifier?"
   ]
  },
  {
   "cell_type": "markdown",
   "id": "1fa9521a-e836-4b91-9b51-d83834a7af7b",
   "metadata": {},
   "source": [
    "**My answer**<br>\n",
    "Logistic regression classifiers output a probability distribution and classical Perceptrons do not. To mimic the output of a Logistic Regression classifier you can stack multiple Perceptrons and apply the logistic activation function to the output layer."
   ]
  },
  {
   "cell_type": "markdown",
   "id": "7b2d61a8-95a3-4832-970d-9643506a3eab",
   "metadata": {},
   "source": [
    "**Book Answer**<br>"
   ]
  },
  {
   "cell_type": "markdown",
   "id": "b7635732-c3d2-48c0-a0b9-371bd6d58e8e",
   "metadata": {},
   "source": [
    "4. Why was the logistic activiation function a key ingredient in training the first MLPs?"
   ]
  },
  {
   "cell_type": "markdown",
   "id": "932ac3b2-f28e-4945-a800-7c6385626d7d",
   "metadata": {},
   "source": [
    "**My answer**<br>\n",
    "Without a non-linear activation function an MLP will only ever be a linear combination of weights, which reduce to a linear function, and so complex problems cannot be solved."
   ]
  },
  {
   "cell_type": "markdown",
   "id": "74c3ae03-ecdf-4319-8603-1f425e325276",
   "metadata": {},
   "source": [
    "**Book Answer**<br>"
   ]
  },
  {
   "cell_type": "markdown",
   "id": "0c108929-aee9-4f2e-8be9-6edf081182a7",
   "metadata": {},
   "source": [
    "5. Name 3 popular activation functions. Can you draw them?"
   ]
  },
  {
   "cell_type": "markdown",
   "id": "e11734c8-9a67-4d08-a8a5-a6d25d9be025",
   "metadata": {},
   "source": [
    "**My answer**<br>\n",
    "1. ReLU\n",
    "2. Tanh\n",
    "3. Softmax\n",
    "\n",
    "Yes, I can, but its time consuming to do this in plotly so for the sake of time google them."
   ]
  },
  {
   "cell_type": "markdown",
   "id": "576d02ff-e286-4090-af1e-ad7aeefe0b65",
   "metadata": {},
   "source": [
    "**Book Answer**<br>"
   ]
  },
  {
   "cell_type": "markdown",
   "id": "58d0e817-179f-4bd7-93e0-5969bda162ef",
   "metadata": {},
   "source": [
    "6. Suppose you have an MLP composed of one input layer with 10 passthrough neurons, followed by one hidden layer with 50 artificial neurons, and finally one output layer with 3 artificial neurons. All artificial neurons use the ReLU activation function.<br>\n",
    "\n",
    "    a. What is the shape of the input matrix X? <br>\n",
    "    b. What are the shapes of the hidden layer's weight vector $W_h$ and its bias vector $b_h$?<br>\n",
    "    c. What are the shapes of the output layer's weight vector $W_o$ and its bias vector $b_o$?<br>\n",
    "    d. What is the shape of the network's output matrix Y?<br>\n",
    "    e. Write the equation that computes the networks output matrix Y as a function of X, $W_h$, $b_h$, $W_o$, and $b_o$<br>"
   ]
  },
  {
   "cell_type": "code",
   "execution_count": null,
   "id": "6d0f1f36-e742-488c-aaaa-12ae18b4eefa",
   "metadata": {},
   "outputs": [],
   "source": []
  },
  {
   "cell_type": "markdown",
   "id": "9ff38292-327f-4735-a56d-2330facf803d",
   "metadata": {},
   "source": [
    "**Book Answer**<br>"
   ]
  },
  {
   "cell_type": "markdown",
   "id": "969ed7eb-bd2a-46f4-9333-d0bccdd9456e",
   "metadata": {},
   "source": [
    "7. How many neurons do you need in the output layer if you want to classify email into spam or ham? What activation function should you use in the output layer? If instead you want to tackle MNIST, how many neurons do you need in the output layer, and which activiation function should you use? What about for getting your network to predict housing prices, as in Chapter 2?"
   ]
  },
  {
   "cell_type": "markdown",
   "id": "1a6e7c9d-6fcb-4026-94e4-8ec843b1871e",
   "metadata": {},
   "source": [
    "**My answer**<br>\n",
    "You can structure this is a binary classification, so only 1 output layer with 1 neuron should suffice. For binary classification you should apply the logistic activation function. For MNIST, since it has 10 distinct classes, you want to have 10 neurons in the output layer and use the softmax activation function. For regression, a single output layer with a single neuron using a linear activiation function like ReLU is best."
   ]
  },
  {
   "cell_type": "markdown",
   "id": "2be004e8-e557-450c-844e-3811fe9b530c",
   "metadata": {},
   "source": [
    "**Book Answer**<br>"
   ]
  },
  {
   "cell_type": "markdown",
   "id": "a4c97a1f-9639-4419-8423-ec8e67e37d22",
   "metadata": {},
   "source": [
    "8. What is backpropagation and how does it work? What is the difference between backpropagation and reverse-mode autodiff?"
   ]
  },
  {
   "cell_type": "markdown",
   "id": "042d52e1-c074-4c39-8248-4b7684b7588c",
   "metadata": {},
   "source": [
    "**My answer**<br>\n",
    "\n",
    "Backpropagation is effectively the partial derivative of the loss function with respect to each individual weight. It utilizes the chain rule to work backwards through each layer and tweak the weights in a way that minimizes loss.\n",
    "\n",
    "Taken from stackoverflow.com: <br>\n",
    "\n",
    "    Bakpropagation refers to the whole process of training an artificial neural network using multiple backpropagation steps, each of which computes gradients and uses them to perform a Gradient Descent step. In contrast, reverse-mode auto diff is simply a technique used to compute gradients efficiently and it happens to be used by backpropagation."
   ]
  },
  {
   "cell_type": "markdown",
   "id": "62b4b780-0ae8-4c58-a7e6-604f3751df1f",
   "metadata": {},
   "source": [
    "**Book Answer**<br>"
   ]
  },
  {
   "cell_type": "markdown",
   "id": "e9eb40d6-75c2-44f9-b809-d4bb9bda46ad",
   "metadata": {},
   "source": [
    "9. Can you list all the hyperparameters you can tweak in a basic MLP? If the MLP overfits the training data, how could you tweak these hyperparameters to try to solve the problem?"
   ]
  },
  {
   "cell_type": "markdown",
   "id": "34d8ac8a-f559-47f6-b2c7-dd188a009000",
   "metadata": {},
   "source": [
    "**My answer**<br>"
   ]
  },
  {
   "cell_type": "markdown",
   "id": "3fc9f307-5402-4870-bb8f-4b55a38cfe43",
   "metadata": {},
   "source": [
    "**Book Answer**<br>"
   ]
  },
  {
   "cell_type": "markdown",
   "id": "ee7e16d8-f466-4785-aee7-5702932c5f28",
   "metadata": {},
   "source": [
    "10. Train a deep MLP on the MNIST dataset (you can load it using keras.datasets.mnist.load_data()). See if you can get over 98% precision. Try searching for the optimal learning rate by using the approach presented in this chapter (i.e. by growing the learning rate exponentially, plotting the error, and finding the point where the error shoots up). Try adding all the bells and whistles:<br><br>\n",
    "    a. Save checkpoints<br>\n",
    "    b. Early stopping<br>\n",
    "    c. Plot learning curves using TensorBoard<br>"
   ]
  },
  {
   "cell_type": "code",
   "execution_count": null,
   "id": "64aa8283-d358-41d8-b8fc-0bc506d89349",
   "metadata": {},
   "outputs": [],
   "source": []
  },
  {
   "cell_type": "code",
   "execution_count": null,
   "id": "7b1dab62-ee69-47f6-ac96-da2f1e19d064",
   "metadata": {},
   "outputs": [],
   "source": []
  },
  {
   "cell_type": "code",
   "execution_count": null,
   "id": "1985d978-7505-41e4-978f-40c40bbd09bd",
   "metadata": {},
   "outputs": [],
   "source": []
  },
  {
   "cell_type": "code",
   "execution_count": null,
   "id": "2bf4804b-06b3-4cec-9cec-571ceb0d1acf",
   "metadata": {},
   "outputs": [],
   "source": []
  },
  {
   "cell_type": "code",
   "execution_count": null,
   "id": "b0ec81fd-6247-4ce4-96ce-74836a733798",
   "metadata": {},
   "outputs": [],
   "source": []
  },
  {
   "cell_type": "code",
   "execution_count": null,
   "id": "c12f704a-4d49-48c2-9b8b-48a1ba131e8b",
   "metadata": {},
   "outputs": [],
   "source": []
  },
  {
   "cell_type": "code",
   "execution_count": null,
   "id": "79d0ffa6-3522-4cd6-a2d5-6b8c9f8f3ccd",
   "metadata": {},
   "outputs": [],
   "source": []
  },
  {
   "cell_type": "code",
   "execution_count": null,
   "id": "34c0a55b-9627-4e12-acfb-7143f9fb1dd6",
   "metadata": {},
   "outputs": [],
   "source": []
  }
 ],
 "metadata": {
  "kernelspec": {
   "display_name": "Python 3 (ipykernel)",
   "language": "python",
   "name": "python3"
  },
  "language_info": {
   "codemirror_mode": {
    "name": "ipython",
    "version": 3
   },
   "file_extension": ".py",
   "mimetype": "text/x-python",
   "name": "python",
   "nbconvert_exporter": "python",
   "pygments_lexer": "ipython3",
   "version": "3.8.18"
  }
 },
 "nbformat": 4,
 "nbformat_minor": 5
}
