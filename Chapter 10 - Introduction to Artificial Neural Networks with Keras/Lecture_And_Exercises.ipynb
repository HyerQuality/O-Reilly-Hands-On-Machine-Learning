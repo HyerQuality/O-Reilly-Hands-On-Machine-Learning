{
 "cells": [
  {
   "cell_type": "code",
   "execution_count": 1,
   "id": "05b70ba3-bdd8-44a8-88b2-5cd632fbbe75",
   "metadata": {
    "tags": []
   },
   "outputs": [],
   "source": [
    "%config Completer.use_jedi = False"
   ]
  },
  {
   "cell_type": "markdown",
   "id": "e65c1fb2-13d3-4874-8bf7-f0d15fc91460",
   "metadata": {},
   "source": [
    "# Introduction to Artificial Neural Networks with Keras"
   ]
  },
  {
   "cell_type": "markdown",
   "id": "ac36304c-e6df-4a5d-870d-f4a956b3e20d",
   "metadata": {},
   "source": [
    "*Artificial Nerual Networks* (ANNs) are Machine Learning models inspired by the networks of biological neurons found in our brains.  ANNs are at the very core of Deep Learning. They are versatile, powerful, and scalable, making them ideal to tackle large and highly complex Machine Learning tasks such as classifying billions of images, powering speech recognition services, recommending the best videos to watch to hundreds of millions of users every day, or learning to beat the world champion at a game of Go.\n",
    "\n",
    "The first part of this chapter introduces artificial neural networks.  In the second part, we will look at how to implement neural networks using the popular Keras API."
   ]
  },
  {
   "cell_type": "markdown",
   "id": "4db6790a-e40d-4918-8d95-811490cae7d0",
   "metadata": {},
   "source": [
    "## From Biological to Artificial Neurons"
   ]
  },
  {
   "cell_type": "markdown",
   "id": "13f8e0e0-3025-49c4-a5fc-eba8bdb03116",
   "metadata": {},
   "source": [
    "The early successes of ANNs led to widespread belief that we would soon be conversing with truly intelligent machines.  When it became clear in the 1960's that this promise would go unfulfilled, funding flew elsewhere, and ANNs entered a long winter.  In the early 1980s, new architectures were invented and better training techniques were developed, sparking a revival of interest in *cnnectionism* (the study of neural networks).  But progress was slow, and by the 1990s other powerful Machine Learning techniques were invented, such as Support Vector Machines.  These techniques seemed to offer better results and stronger theoretical foundations than ANNs, so once again the study of neural networks was put on hold.\n",
    "\n",
    "We are now witnessing yet another wave of interest in ANNs, and this time is different.\n",
    "* There are now a huge quantity of data available to train neural networks, and ANNs frequently outperform other ML techniques on very large and complex problems.\n",
    "* The tremendous increase in computing power since the 1990s now makes it possible to train large neural networks in a reasonable amount of time.\n",
    "* The training algorithms have been improved.\n",
    "* ANNs seem to have entered a virtuous cirle of funding and progress."
   ]
  },
  {
   "cell_type": "markdown",
   "id": "4e276296-1296-4911-a4d9-6c2311f9e061",
   "metadata": {},
   "source": [
    "## The Perceptron"
   ]
  },
  {
   "cell_type": "markdown",
   "id": "a6ca2a95-d509-45d0-8013-5c266022aa6f",
   "metadata": {},
   "source": [
    "The *Perceptron* is one of the simplest ANN architectures, invented in 1957 by Frank Rosenblatt.  It is based on a *threshold logic unit* (TLU). For a TLU, the inputs and outputs are numbers, and each input connection is associated with a weight.  The TLU computes a weighted sum of its inputs, then applies a *step function* to that sum and outputs the results.\n",
    "\n",
    "A Perceptron is simply composed of a single layer of TLUs, with each TLU connected to all the inputs.  When all the neurons in a layer are connected to every neuron in the previous layer, the layer is called a *fully connected layer*, or a *dense layer*.\n",
    "\n",
    "Thanks to the magic of linear algebra, Equation 10-2 makes it possible to efficiently compute the outputs of a layer of artificial neurons for several instances at once.\n",
    "\n",
    "<c> Equation 10-2: Computing the outputs of a fully connected layer </c>\n",
    "$$ h_{W, b}(X) = \\phi(XW + b) $$\n",
    "\n",
    "So how is a Perceptron trained? \"Cells that fire together, wire together.\" Perceptrons are trained using a variant of this rule that takes into account the error made by the network when it makes a prediction; the Perceptron learning rule reinforces connections that help reduce the error.  More specifically, the Perceptron is fed one training instance at a time, and for each instance it makes its predictions.  For every output neuron that produced a wrong prediction, it reinforces the connection weights from the inputs that would ahve contributed to the correct prediction.  \n",
    "\n",
    "**The decision boundary of each output neuron is linear, so Perceptrons are incapable of learning complex patterns (just like Logistic Regression classifiers).**\n",
    "\n",
    "Scikit-Learn provides a Perceptron class that implements a single-TLU network."
   ]
  },
  {
   "cell_type": "markdown",
   "id": "ad7a1171-8787-4eee-b98c-910112da8752",
   "metadata": {},
   "source": [
    "#### Example 1: Scikit-Learns Perceptron"
   ]
  },
  {
   "cell_type": "code",
   "execution_count": 9,
   "id": "02695eec-266a-414e-bfe0-399da24a9ecc",
   "metadata": {
    "tags": []
   },
   "outputs": [
    {
     "data": {
      "text/plain": [
       "array([0])"
      ]
     },
     "execution_count": 9,
     "metadata": {},
     "output_type": "execute_result"
    }
   ],
   "source": [
    "import numpy as np\n",
    "from sklearn.datasets import load_iris\n",
    "from sklearn.linear_model import Perceptron\n",
    "\n",
    "iris = load_iris()\n",
    "X = iris.data[:, (2, 3)] # petal length, petal width\n",
    "y = (iris.target == 0).astype(int) # Iris Setosa\n",
    "\n",
    "per_clf = Perceptron()\n",
    "per_clf.fit(X, y)\n",
    "\n",
    "y_pred = per_clf.predict([[2, 0.5]])\n",
    "y_pred"
   ]
  },
  {
   "cell_type": "markdown",
   "id": "f74792a2-b38a-4233-bea2-c5b015bcaed3",
   "metadata": {},
   "source": [
    "You may have noticed that the Perceptron learning algorithm strongly resembles Stochastic Gradient Descent.  In fact, Scikit-Learn's Perceptron class is equivalent to using an SGDClassifier with the following hyperparameters: loss = 'perceptron', learning_rate = 'constant', eta0 = 1 (the learning rate), and penalty = None (no regularization).\n",
    "\n",
    "Note that contrary to Logistic Regression classifiers, Perceptrons do not output a class probability.  This is one reason to prefer Logistic Regression over Perceptrons.\n",
    "\n",
    "There are a number of significant weaknesses of Perceptrons, in particular that they are incapable of solving some trivial problems.  It turns out that some of the limitations of Perceptrons an be eliminated by stacking multiple Perceptrons.  The resulting ANN is called a *Multilayer Perceptron* (MLP)"
   ]
  },
  {
   "cell_type": "markdown",
   "id": "baa583da-d07a-4ce9-8371-d0c91b615b24",
   "metadata": {},
   "source": [
    "## The Multilayer Perceptron and Backpropagation"
   ]
  },
  {
   "cell_type": "markdown",
   "id": "e8f77643-166f-40b3-9179-ddc1ca9dba94",
   "metadata": {},
   "source": [
    "An MLP is composed of one (passthrough) *input layer*, one or more layers of TLUs, called *hidden layers*, and one final layer of TLUs, called the *output layer*.  The layers close to the input layers are usually called the *lower layers* and the ones close to the outputs are usually called the *upper layers*.  Every layer except the output layer includes a bias neuron and is fully connected to the next layer.\n",
    "\n",
    "The signal flows only in one direction (from the inputs to the oupts), so this architecture is an example of a *feedforward neural network* (FNN).\n",
    "\n",
    "When an ANN contains a deep stack of hidden layers (dozens or hundreds), it is called a *deep neural network* (DNN).  For many years researchers struggled to find a way to train MLPs, without success, until 1986 when David Rumelhart, Geoffrey Hinton, and Ronald Williams published a groundbreaking paper that introduced the *backpropagation* training algorithm, which is still used today.\n",
    "\n",
    "In short, it is Gradient Descent using an efficient technique for computing the gradients automatically: in just two passes through the network (one forward, one backward), the backpropagation algorithm is able to compute the gradient of the network's error with regard to every single model parameter.  In other words, it can find out how each connection weight and each bias term should be tweaked in order to reduce the error.  Once it has these gradients, it just performs a regular Gradient Descent step, and the whole process is repeated until the network converges to the solution.\n",
    "\n",
    "Automatically computing gradients is called *automatic differentiation* or *autodiff*.  There are various autodiff techniques, with different pros and cons.  The one used by backpropagation is called *reverse-moode autodiff*.  It is fase and precise, and is well suited when the function to differentiate has many variables and few outputs.\n",
    "\n",
    "Let's run through the algorithm in a bit more detail:\n",
    "* It handles one mini-batch at a time (for example, containing 32 instances each), and it goes through the full training set multiple times.  Each pass is called an *epoch*\n",
    "* Each mini-batch is passed to the network's input layer, which sends it to the first hidden layer. The algorithm then computes the output of all the neurons in this layer (for every instance in the mini-batch). The result is passed on to the next layer, its output is computed and passed to the next layer, and so on until we get the output of the last layer, the output layer. This is the *forward pass*: it is exactly like making predictions, except all intermediate results are preserved since they are needed for the backward pass.\n",
    "* Next, the algorithm measures the network's output error (i.e. it uses a loss function that compares the desired output and the actual output of the network, and returns some measure of the error).\n",
    "* Then it computes how much each output connection contributed to the error. This is done analytically by applying the *chain rule* (perhaps the most fundamental rule in calculus), which makes this step fast and precise.\n",
    "* The algorithm then measures how much of these error contributions came from each connection in the layer below, again using the chain rule, working backward until the algorithm reaches the input layer.  As explained earlier, this reverse pass efficiently measures the error gradient across all the connection weights in the network by propagating the error gradient backward through the network.\n",
    "* Finally, the algorithm performs a Gradient Descent step to tweak all the connection weights in the network, using the error gradients it just computed.\n",
    "\n",
    "**This algorithm is so important that it's worth summarizing it again: for each training instance, the backpropagation algorithm first makes a prediction (forward pass) and measures the error, then goes through each layer in reverse to measure the error contribution from each connection (reverse pass), and finally tweaks the connection weights to reduce the error (Gradient Descent step)**\n",
    "\n",
    "***It is important to initialize all the hidden layers' connection weights randomly, or else training will fail.***\n",
    "\n",
    "In order for this algorithm to work properly, its authors made a key change to the MLP's architecture: they replaced the step function with the logistic (sigmoid) function:\n",
    "$$ \\sigma(z) = \\frac{1}{1 + \\exp(-z)} $$\n",
    "\n",
    "The backpropagation algorithm works well with many other activation functions.  Here are two other popular choices:\n",
    "1. **The hyperbolic tanger function: tanh(z)**: $2\\sigma(2z) - 1$\n",
    "<br>Just like the logistic function, this activation function is S-shaped, continuous, and differentiable, but its output value ranges from -1 to 1 (instead of 0 to 1 in the case of the logistic function). That range tends to make each layer's output more or less centered around 0 at the beginning of training, which often helps speed up convergence.\n",
    "2. **The Rectified Linear Unit function: ReLU(z)**: $max(0, z)$\n",
    "<br>The ReLU function is continuous but unfortunatley not differentiable at z=0 (the slope changes abruptly, which can make Gradient Descent bounce around), and its derivative is 0 for z < 0. In practice, however, it works very well and has the advantage of being fast to compute, so it has become the default. Most importantly, the fact that it does not have a maximum output value helps reduce some issues during Gradient Descent.\n",
    "\n",
    "Why do we need activation functions in the first place? Well, if you chain several linear transformations, all you get is a linear transformation. So if you don't have some nonlinearity between layers, then even a deep stack of layers is equivalent to a single layer, and you can't solve very complex problems with that. Conversely, a large enough DNN with nonlinear activations can theoretically approximate any continuous function."
   ]
  },
  {
   "cell_type": "markdown",
   "id": "86031eec-79e9-4ee4-8f9e-5c9a26005638",
   "metadata": {},
   "source": [
    "## Regression MLPs"
   ]
  },
  {
   "cell_type": "markdown",
   "id": "a7255039-12e6-4a50-856a-0a7129a3d08d",
   "metadata": {},
   "source": [
    "First, MLPs can be used for regression tasks. If you want to predict a single value (like the value of a house), then you just need a single output neuron: its output is the predicted value. For multivariate regression (predicting multiple values at once), you need one output neuron per output dimension. For example, to locate the center of an object in an image, you need to predict 2D cooridinates, so you need two output neurons.\n",
    "\n",
    "**In general, when building an MLP for regression, you do not want to use any activation function for the output neurons, so they are free to output any range of values.** If you want to guarantee that the output will always be positive, then you can use the ReLU activation function in the output layer. Alternatively, you can use the *softplus* activation function, which is a smooth variant of ReLU: $softplus(z) = log(1 + \\exp(z))$\n",
    "\n",
    "The loss function to use during training is typically the mean squared error, but if you have a lot of outliers in the training set, you may prefer to use the mean absolute error instead. Alternatively, you can us ethe Huber loss, which is a combination of both.\n",
    "\n",
    "The Huber loss is quadratic when the error is smaller than a threshold $\\delta$ (typically 1) but linear when the error is larger than $\\delta$. The linear part makes it less sensitive to outliers than the mean squared error, and the quadratic part allows it to converge faster and be more precise than the mean absolute error."
   ]
  },
  {
   "cell_type": "code",
   "execution_count": 15,
   "id": "38bad854-01f6-4371-bce5-759b19a1caae",
   "metadata": {
    "tags": []
   },
   "outputs": [
    {
     "data": {
      "text/html": [
       "<div>\n",
       "<style scoped>\n",
       "    .dataframe tbody tr th:only-of-type {\n",
       "        vertical-align: middle;\n",
       "    }\n",
       "\n",
       "    .dataframe tbody tr th {\n",
       "        vertical-align: top;\n",
       "    }\n",
       "\n",
       "    .dataframe thead th {\n",
       "        text-align: right;\n",
       "    }\n",
       "</style>\n",
       "<table border=\"1\" class=\"dataframe\">\n",
       "  <thead>\n",
       "    <tr style=\"text-align: right;\">\n",
       "      <th></th>\n",
       "      <th>Typical Value</th>\n",
       "    </tr>\n",
       "  </thead>\n",
       "  <tbody>\n",
       "    <tr>\n",
       "      <th>Input Neurons</th>\n",
       "      <td>One per intput feature</td>\n",
       "    </tr>\n",
       "    <tr>\n",
       "      <th>Hidden Layers</th>\n",
       "      <td>Depends on the problem, typically 1 to 5</td>\n",
       "    </tr>\n",
       "    <tr>\n",
       "      <th>Neurons per Layer</th>\n",
       "      <td>Depends on the problem, typically 10 to 100</td>\n",
       "    </tr>\n",
       "    <tr>\n",
       "      <th>Output Neurons</th>\n",
       "      <td>1 per prediction dimension</td>\n",
       "    </tr>\n",
       "    <tr>\n",
       "      <th>Hidden Activation</th>\n",
       "      <td>ReLU or SELU</td>\n",
       "    </tr>\n",
       "    <tr>\n",
       "      <th>Output Activation</th>\n",
       "      <td>None, or ReLU/softplus. Generally tailored for...</td>\n",
       "    </tr>\n",
       "    <tr>\n",
       "      <th>Loss Function</th>\n",
       "      <td>MSE, MAE or Huber if outliers</td>\n",
       "    </tr>\n",
       "  </tbody>\n",
       "</table>\n",
       "</div>"
      ],
      "text/plain": [
       "                                                       Typical Value\n",
       "Input Neurons                                 One per intput feature\n",
       "Hidden Layers               Depends on the problem, typically 1 to 5\n",
       "Neurons per Layer        Depends on the problem, typically 10 to 100\n",
       "Output Neurons                            1 per prediction dimension\n",
       "Hidden Activation                                       ReLU or SELU\n",
       "Output Activation  None, or ReLU/softplus. Generally tailored for...\n",
       "Loss Function                          MSE, MAE or Huber if outliers"
      ]
     },
     "execution_count": 15,
     "metadata": {},
     "output_type": "execute_result"
    }
   ],
   "source": [
    "import pandas as pd\n",
    "\n",
    "# Typical regression MLP architecture\n",
    "pd.DataFrame.from_dict(data={\n",
    "    'Input Neurons': 'One per intput feature',\n",
    "    'Hidden Layers': 'Depends on the problem, typically 1 to 5',\n",
    "    'Neurons per Layer': 'Depends on the problem, typically 10 to 100',\n",
    "    'Output Neurons': '1 per prediction dimension',\n",
    "    'Hidden Activation': 'ReLU or SELU',\n",
    "    'Output Activation': 'None, or ReLU/softplus. Generally tailored for desired output.',\n",
    "    'Loss Function': 'MSE, MAE or Huber if outliers'\n",
    "}, orient='index').rename(columns={0: 'Typical Value'})"
   ]
  },
  {
   "cell_type": "markdown",
   "id": "2428968e-1cbf-4c2e-9fec-b864856bb097",
   "metadata": {},
   "source": [
    "## Classification MLPs"
   ]
  },
  {
   "cell_type": "markdown",
   "id": "2d448b1f-e775-446c-8363-d81acbfbdba8",
   "metadata": {},
   "source": [
    "MLPs can also be used for classification tasks. For a binary classification problem, you just need a single output neuron using the logistic activation function: the output will be a number between 0 and 1, which you can interpret as the estimated probability of the positive class.\n",
    "\n",
    "MLPs can also easily handle multilabel binary classification tasks. More generally, you would dedicate one output neuron for each positive class. Note that the output probabilities do no necessarily add up to 1.\n",
    "\n",
    "If each instance can belong only to a single class, out of three or more possible classes (e.g. classes 0 through 9 for digit image classification), then you need to have one output neuron per class, and you should use the softmax activiation function for the whole output layer. The softmax function will ensure that all the estimated probabilities are between 0 and 1 and they they add up to 1 (which is required if the classses are exclusive). This is called multiclass classification.\n",
    "\n",
    "Regarding the loss function, since we are predicting probability distributions, the cross-entropy loss (also called the log loss) is generally a good choice."
   ]
  },
  {
   "cell_type": "code",
   "execution_count": 18,
   "id": "fc3a57c9-eb7f-49e2-b13e-a7dbda21131e",
   "metadata": {
    "tags": []
   },
   "outputs": [
    {
     "data": {
      "text/html": [
       "<div>\n",
       "<style scoped>\n",
       "    .dataframe tbody tr th:only-of-type {\n",
       "        vertical-align: middle;\n",
       "    }\n",
       "\n",
       "    .dataframe tbody tr th {\n",
       "        vertical-align: top;\n",
       "    }\n",
       "\n",
       "    .dataframe thead th {\n",
       "        text-align: right;\n",
       "    }\n",
       "</style>\n",
       "<table border=\"1\" class=\"dataframe\">\n",
       "  <thead>\n",
       "    <tr style=\"text-align: right;\">\n",
       "      <th></th>\n",
       "      <th>Binary Classification</th>\n",
       "      <th>Multilabel Binary Classification</th>\n",
       "      <th>Multiclass Classification</th>\n",
       "    </tr>\n",
       "  </thead>\n",
       "  <tbody>\n",
       "    <tr>\n",
       "      <th>Input and Hidden Layers</th>\n",
       "      <td>Same as regression</td>\n",
       "      <td>Same as regression</td>\n",
       "      <td>Same as regression</td>\n",
       "    </tr>\n",
       "    <tr>\n",
       "      <th>Number of Output Neurons</th>\n",
       "      <td>1</td>\n",
       "      <td>1 per label</td>\n",
       "      <td>1 per class</td>\n",
       "    </tr>\n",
       "    <tr>\n",
       "      <th>Output Layer Activation</th>\n",
       "      <td>Logistic</td>\n",
       "      <td>Logistic</td>\n",
       "      <td>Softmax</td>\n",
       "    </tr>\n",
       "    <tr>\n",
       "      <th>Loss Function</th>\n",
       "      <td>Cross-Entropy</td>\n",
       "      <td>Cross-Entropy</td>\n",
       "      <td>Cross-Entropy</td>\n",
       "    </tr>\n",
       "  </tbody>\n",
       "</table>\n",
       "</div>"
      ],
      "text/plain": [
       "                         Binary Classification  \\\n",
       "Input and Hidden Layers     Same as regression   \n",
       "Number of Output Neurons                     1   \n",
       "Output Layer Activation               Logistic   \n",
       "Loss Function                    Cross-Entropy   \n",
       "\n",
       "                         Multilabel Binary Classification  \\\n",
       "Input and Hidden Layers                Same as regression   \n",
       "Number of Output Neurons                      1 per label   \n",
       "Output Layer Activation                          Logistic   \n",
       "Loss Function                               Cross-Entropy   \n",
       "\n",
       "                         Multiclass Classification  \n",
       "Input and Hidden Layers         Same as regression  \n",
       "Number of Output Neurons               1 per class  \n",
       "Output Layer Activation                    Softmax  \n",
       "Loss Function                        Cross-Entropy  "
      ]
     },
     "execution_count": 18,
     "metadata": {},
     "output_type": "execute_result"
    }
   ],
   "source": [
    "# Typical classification MLP architecture\n",
    "pd.DataFrame.from_dict({\n",
    "    'Input and Hidden Layers': ['Same as regression', 'Same as regression', 'Same as regression'],\n",
    "    'Number of Output Neurons': ['1', '1 per label', '1 per class'],\n",
    "    'Output Layer Activation': ['Logistic', 'Logistic', 'Softmax'],\n",
    "    'Loss Function': ['Cross-Entropy', 'Cross-Entropy', 'Cross-Entropy']\n",
    "}, orient='index').rename(columns={0: 'Binary Classification', 1: 'Multilabel Binary Classification', 2: 'Multiclass Classification'})"
   ]
  },
  {
   "cell_type": "markdown",
   "id": "8b12fe7b-7870-483d-82c1-e8a7b28deb6f",
   "metadata": {},
   "source": [
    "## Implementing MLPs with Keras"
   ]
  },
  {
   "cell_type": "markdown",
   "id": "676858a2-3031-42c6-9787-d4bbbdf184df",
   "metadata": {},
   "source": [
    "At present, you can choose from 3 popular open source Deep Learning libraries:\n",
    "1. TensorFlow\n",
    "2. Microsoft Cognitive Toolkit\n",
    "3. Theano\n",
    "\n",
    "As of 2016 Keras can be run on:\n",
    "1. Apache MXNet\n",
    "2. Apple's Core ML\n",
    "3. JavaScript\n",
    "4. TypeScript\n",
    "5. PlaidML\n",
    "\n",
    "Moreover, TensorFlow itself now comes bundled with its own Keras implementation, tf.keras. It only supports TensorFlow as the backend, but it has the advantage of offering some very useful extra features like TensorFlow's Data API which makes it easy to load and preprocess data efficiently.\n",
    "\n",
    "**The most populare Deep Learning library after Keras and TensorFlow is Facebook's PyTorch. The good news is that its API is quite similar to Keras's, so once you know Keras, it is not difficult to switch to PyTorch, if you ever want to.** PyTorch's popularity grew exponentially in 2018, largely thanks to its simplicity and excellent documenatation, which were not TensorFlow 1.x's main strengths. However, TensorFlow 2 is arguably just as simple as PyTorch, as it has adopted Keras as its official high-level API and its developers have greatly simplified and cleaned up the rest of the API. Similarly, PyTorch's main weaknesses (e.g. limited portability and on computation graph analysis) have been largely addressed in PyTorch 1.0. Healthy competition is beneficial to everyone!"
   ]
  },
  {
   "cell_type": "markdown",
   "id": "15f8f219-547d-4de9-b5ba-e2b88859e781",
   "metadata": {},
   "source": [
    "## Installing TensorFlow 2"
   ]
  },
  {
   "cell_type": "code",
   "execution_count": 22,
   "id": "892d512e-e5fe-477d-b166-3b516634908e",
   "metadata": {},
   "outputs": [],
   "source": [
    "# pip install -U tensorflow"
   ]
  },
  {
   "cell_type": "code",
   "execution_count": 23,
   "id": "c7f1eba2-bf16-4aca-ad19-79b3ecfbb8da",
   "metadata": {
    "tags": []
   },
   "outputs": [
    {
     "data": {
      "text/plain": [
       "('2.8.0', '2.8.0')"
      ]
     },
     "execution_count": 23,
     "metadata": {},
     "output_type": "execute_result"
    }
   ],
   "source": [
    "import tensorflow as tf\n",
    "from tensorflow import keras\n",
    "tf.__version__, keras.__version__"
   ]
  },
  {
   "cell_type": "markdown",
   "id": "eee7250c-4a87-4ccf-b484-ae04ab2063c5",
   "metadata": {},
   "source": [
    "For GPU support, at the time of this writing you need to install tensorflow-gpu instead of tensorflow, but the TensorFlow team is working on having a single library that will support both CPU-only and GPU-equipped systems. You will need to install extra libraries for GPU support (see http://tensorflow.org/install for more details)."
   ]
  },
  {
   "cell_type": "markdown",
   "id": "08600ab7-c44d-4442-96d9-065e848d9845",
   "metadata": {},
   "source": [
    "## Building an Image Classifier Using the Sequential API"
   ]
  },
  {
   "cell_type": "markdown",
   "id": "238bcd3b-0a1c-40eb-b418-da9b865aea0a",
   "metadata": {},
   "source": [
    "### Using Keras to load the dataset"
   ]
  },
  {
   "cell_type": "code",
   "execution_count": 27,
   "id": "05841662-7dd7-4dfe-9297-fdf5761f50db",
   "metadata": {},
   "outputs": [
    {
     "name": "stdout",
     "output_type": "stream",
     "text": [
      "(60000, 28, 28) uint8\n"
     ]
    },
    {
     "data": {
      "text/plain": [
       "'Coat'"
      ]
     },
     "execution_count": 27,
     "metadata": {},
     "output_type": "execute_result"
    }
   ],
   "source": [
    "# Load the Keras dataset\n",
    "fashion_mnist = keras.datasets.fashion_mnist\n",
    "(X_train_full, y_train_full), (X_test, y_test) = fashion_mnist.load_data()\n",
    "\n",
    "# Check dimensions and datatypes\n",
    "print(X_train_full.shape, X_train_full.dtype)\n",
    "\n",
    "# Split the training set into a validation and training set\n",
    "X_valid, X_train = X_train_full[:5000] / 255.0, X_train_full[5000:] / 255.0\n",
    "y_valid, y_train = y_train_full[:5000], y_train_full[5000:]\n",
    "\n",
    "# Define the class names\n",
    "class_names = ['T-shirt/top', 'Trouser', 'Pullover', 'Dress', 'Coat', 'Sandal', 'Shirt', 'Sneaker', 'Bag', 'Ankle Boot']\n",
    "class_names[y_train[0]]"
   ]
  },
  {
   "cell_type": "markdown",
   "id": "8d12a37c-7d72-41ce-b4fd-2128ab4cc8ff",
   "metadata": {},
   "source": [
    "### Creating the model using the Sequential API"
   ]
  },
  {
   "cell_type": "code",
   "execution_count": 29,
   "id": "d903317a-6efb-416f-9304-29b173c2b192",
   "metadata": {
    "tags": []
   },
   "outputs": [
    {
     "name": "stdout",
     "output_type": "stream",
     "text": [
      "Model: \"sequential\"\n",
      "_________________________________________________________________\n",
      " Layer (type)                Output Shape              Param #   \n",
      "=================================================================\n",
      " flatten (Flatten)           (None, 784)               0         \n",
      "                                                                 \n",
      " dense (Dense)               (None, 500)               392500    \n",
      "                                                                 \n",
      " dense_1 (Dense)             (None, 500)               250500    \n",
      "                                                                 \n",
      " dense_2 (Dense)             (None, 500)               250500    \n",
      "                                                                 \n",
      " dense_3 (Dense)             (None, 500)               250500    \n",
      "                                                                 \n",
      " dense_4 (Dense)             (None, 10)                5010      \n",
      "                                                                 \n",
      "=================================================================\n",
      "Total params: 1,149,010\n",
      "Trainable params: 1,149,010\n",
      "Non-trainable params: 0\n",
      "_________________________________________________________________\n"
     ]
    }
   ],
   "source": [
    "model = keras.models.Sequential([\n",
    "    keras.layers.Flatten(input_shape=[28, 28]),\n",
    "    keras.layers.Dense(500, activation='relu'),\n",
    "    keras.layers.Dense(500, activation='relu'),\n",
    "    keras.layers.Dense(500, activation='relu'),\n",
    "    keras.layers.Dense(500, activation='relu'),\n",
    "    keras.layers.Dense(10, activation='softmax')\n",
    "])\n",
    "\n",
    "model.summary()"
   ]
  },
  {
   "cell_type": "markdown",
   "id": "a798f669-9a92-4083-ab96-4d7e89e6fdc5",
   "metadata": {},
   "source": [
    "Let's go through this code line by line:\n",
    "1. The first line creates a Sequential model. This is the simplest kind of Keras model for neural networks that are just composed of a single stack of layers connected sequentially. This is called the Sequential API.\n",
    "2. Next, we build the first layer and add it to the model. It is a Flatten layer whose role is to convert each input image into a 1D array: if it receives input data X, it computes X.reshape(-1, 1). This layer does not have any parameters; it is just there to do some simple preprocessing. Since it is the first layer in the model, you should specify the input_shape, which doesn't include the batch size, only the shape of the instances. Alternatively, you could add a keras.Layers.InputLayer as the first layer, setting input_shape=[28, 28].\n",
    "3. Next we add a Dense hidden layer with 300 neurons. It will use the ReLU activiation function. **Each Dense layer manages its own weight matrix, containing all the connection weights between the neurons and their inputs.** It also manages a vector of bias terms (one per neuron). When it receives some input data, it computes Equation 10-2.\n",
    "4. The we add a second Dense hidden layer with 100 neurons, also using the ReLU activation function.\n",
    "5. Finally, we add a Dense output layer with 10 neurons (one per class), using the softmax activation function (because the classes are exclusive.)"
   ]
  },
  {
   "cell_type": "markdown",
   "id": "32cc032b-ff07-49f9-8656-b23e97af33bd",
   "metadata": {},
   "source": [
    "**Note that Dense layers often have a *lot* of parameters. This gives the model quite a lot of flexibility to fit the training data, but it also means that the model runs the risk of overfitting, especially when you do not have a lot of training data**\n",
    "\n",
    "You can easily get a model's list of layers, to fetch a layer by its index, or you can fetch it by name. All the parameters of a layer can be accessed using its get_weights() and set_weights() methods. For a Dense layer, this includes both the connection weights and the bias terms."
   ]
  },
  {
   "cell_type": "code",
   "execution_count": 32,
   "id": "48c9de87-b81a-49d1-8915-daaf5714b959",
   "metadata": {
    "tags": []
   },
   "outputs": [
    {
     "data": {
      "text/plain": [
       "([<keras.layers.core.flatten.Flatten at 0x1caad739f10>,\n",
       "  <keras.layers.core.dense.Dense at 0x1caad743ac0>,\n",
       "  <keras.layers.core.dense.Dense at 0x1caad743dc0>,\n",
       "  <keras.layers.core.dense.Dense at 0x1caca2c40a0>,\n",
       "  <keras.layers.core.dense.Dense at 0x1caca2c43a0>,\n",
       "  <keras.layers.core.dense.Dense at 0x1caca2c46a0>],\n",
       " 'dense',\n",
       " True)"
      ]
     },
     "execution_count": 32,
     "metadata": {},
     "output_type": "execute_result"
    }
   ],
   "source": [
    "model.layers, model.layers[1].name, model.get_layer(model.layers[1].name) is model.layers[1]"
   ]
  },
  {
   "cell_type": "code",
   "execution_count": 33,
   "id": "bd71d9ee-b90c-4f7e-b291-f3c12698ef11",
   "metadata": {
    "tags": []
   },
   "outputs": [
    {
     "data": {
      "text/plain": [
       "((784, 500),\n",
       " (500,),\n",
       " array([[ 0.05404982, -0.02190138,  0.06668774, ...,  0.00880531,\n",
       "         -0.022122  ,  0.02174715],\n",
       "        [-0.02989603, -0.02610059, -0.06412779, ..., -0.00855892,\n",
       "          0.00976177, -0.03079433],\n",
       "        [-0.06332591,  0.05903675, -0.04308846, ..., -0.05246926,\n",
       "         -0.06230537, -0.0028128 ],\n",
       "        ...,\n",
       "        [-0.01010452, -0.03426199, -0.0054588 , ..., -0.06369168,\n",
       "         -0.05620445,  0.0145997 ],\n",
       "        [-0.00355082, -0.01500933,  0.0485081 , ...,  0.01633365,\n",
       "          0.02751772,  0.00424195],\n",
       "        [-0.06667853,  0.02215029, -0.01048498, ..., -0.00114728,\n",
       "          0.0449871 , -0.04997295]], dtype=float32))"
      ]
     },
     "execution_count": 33,
     "metadata": {},
     "output_type": "execute_result"
    }
   ],
   "source": [
    "weights, biases = model.layers[1].get_weights()\n",
    "weights.shape, biases.shape, weights"
   ]
  },
  {
   "cell_type": "markdown",
   "id": "65e19c11-771a-451e-8382-a20c3825e99b",
   "metadata": {},
   "source": [
    "The shape of the weight matrix depends on the number of inputs. This is why it is recommended to specify the input_shape when creating the first layer in a Sequential model. **Until the model is really built, the layers will not have any weights, and you will not be able to do certain things such as print the model summary or save the model.** So if you know the input shape when creating the model, it is best to specify it."
   ]
  },
  {
   "cell_type": "markdown",
   "id": "20c197eb-4248-4f09-8ff8-7532d8083f40",
   "metadata": {},
   "source": [
    "### Compiling the model"
   ]
  },
  {
   "cell_type": "markdown",
   "id": "40ba9cbe-dc1c-4468-9134-9f44c7c952f7",
   "metadata": {},
   "source": [
    "After a model is created, you must call its compile() method to specify the loss function and the optimizer to use. Optionally, you can specify a list of extra metrics to compute during training and evaluation."
   ]
  },
  {
   "cell_type": "code",
   "execution_count": 37,
   "id": "2756a27e-5d3c-4787-ac13-aef2f10ef28c",
   "metadata": {
    "tags": []
   },
   "outputs": [],
   "source": [
    "model.compile(\n",
    "    loss='sparse_categorical_crossentropy',\n",
    "    optimizer=keras.optimizers.SGD(learning_rate=0.01),\n",
    "    metrics=['accuracy']\n",
    ")"
   ]
  },
  {
   "cell_type": "markdown",
   "id": "f8492c25-35cc-4e7d-8cc7-5f7316f7afb6",
   "metadata": {},
   "source": [
    "This code requires some explanation. **First, we use the 'sparse_categorical_crossentropy' loss because we have sparse labels (i.e. for each instance, there is just a target class index, from 0 to 9 in this case), and the classes are exclusive. If instead we had one target probability per class for each instance (such as one-hot vectors, e.g. [0, 0, 1, 0]) to represent class 2), then we would need to use the 'categorical_crossentropy' loss instead.**\n",
    "\n",
    "If we were doing binary classification (with one or more binary labels), then we would use the 'sigmoid' (i.e. logistic) activiation function in the output layer instead of the 'softmax' activiation function, and we would use the 'binary_crossentropy' loss.\n",
    "\n",
    "If you want to convert sparse labels (i.e. class indices) to one-hot vector labels, use the keras.utils.to_categorical() function. To go the other way around, use the np.argmax() function with axis=1.\n",
    "\n",
    "When using the SGD optimizer, it is important to tune the learning rate. So, you will generally want to use optimizer=keras.optimizers.SGD(learning_rate=???) to set the learning rate, rather than optimizer='sgd', which defaults to learning_rate=0.01"
   ]
  },
  {
   "cell_type": "markdown",
   "id": "839c95c3-46ca-4926-a2ac-b20f7252a7fc",
   "metadata": {},
   "source": [
    "### Training and evaluating the model"
   ]
  },
  {
   "cell_type": "markdown",
   "id": "9ffa7178-e731-4495-b9ab-420c6f359489",
   "metadata": {},
   "source": [
    "Now the model is ready to be trained. For this we simply need to call its fit() method. We pass it the input features (X_train) and the target classes (y_train), as well as the number of epochs to train. We also pass a validation set (this is optional). Keras will measure the loss and the extra metrics on this set at the end of each epoch. If the performance on the training set is much better than the validation set, your model is probably overfitting the training set (or there is a bug such as a data mismatch between the training set and the validation set).\n",
    "\n",
    "Instead of passing a validation set using the validation_data argument, you could set validation_split to the ratio of the training set that you want Keras to use for validation. For example, validation_split=0.1 tells Keras to use the last 10% of the data (before shuffling) for validation.\n",
    "\n",
    "**If the training set was very skewed, with some classes being overrepresented and others underrepresnted, it would be useful to set the class_weight argument when calling the fit() method, which would give a larger weight to underrepresented classes and a lower weight to overrepresented classes.**\n",
    "\n",
    "If you need per-instance weights, set the sample_weight argument (it supersedes class_weight). Per-instance weights could be useful if some instances were labeled by experts while others were labelled using a crowdsourcing platform: you might want to give more weight to the former.\n",
    "\n",
    "The fit() method returns a History object containing the training parameters (history.params), the list of epochs it went through (history.epoch), and most importantly a dictionary (history.history) containing the loss and extra metrics it measured at the end of each epoch on the training set and on the validation set (if any). If you use this dictionary to create a pandas DataFrame and call its plot() method, you get the learning curves for the model.\n",
    "\n",
    "**If your training or validation data does not match the expected shape, you will get an exception. This is perhaps the most common error, so you should get familiar with the error message. The message is actually quite clear: for example, if you try to train this model with an array containing flattened images it will throw this error.**\n",
    "\n",
    "If the validation curves are close to the training curves, it means there is not too much overfitting. In this particular case, the model looks like it performed better on the validation set than on the training set at the beginning of training. But that's not the case: indeed, the validation error is computed at the *end* of each epoch, while the training error is computed using a running mean *during* each epoch. So the training curve should be shifted by half an epoch to the left. If you do that, you will see the that the training and validations curve overlap almost perfectly at the beginning of training.\n",
    "\n",
    "**When plotting the training curve, it should be shifted by half an epoch to the left.**"
   ]
  },
  {
   "cell_type": "code",
   "execution_count": 41,
   "id": "a578895e-708d-41cb-89b9-4a529198aeb1",
   "metadata": {
    "tags": []
   },
   "outputs": [
    {
     "name": "stdout",
     "output_type": "stream",
     "text": [
      "Epoch 1/30\n",
      "1719/1719 [==============================] - 12s 7ms/step - loss: 0.7284 - accuracy: 0.7566 - val_loss: 0.5186 - val_accuracy: 0.8120\n",
      "Epoch 2/30\n",
      "1719/1719 [==============================] - 11s 6ms/step - loss: 0.4654 - accuracy: 0.8353 - val_loss: 0.4042 - val_accuracy: 0.8638\n",
      "Epoch 3/30\n",
      "1719/1719 [==============================] - 10s 6ms/step - loss: 0.4114 - accuracy: 0.8536 - val_loss: 0.3757 - val_accuracy: 0.8706\n",
      "Epoch 4/30\n",
      "1719/1719 [==============================] - 10s 6ms/step - loss: 0.3802 - accuracy: 0.8637 - val_loss: 0.3749 - val_accuracy: 0.8718\n",
      "Epoch 5/30\n",
      "1719/1719 [==============================] - 10s 6ms/step - loss: 0.3584 - accuracy: 0.8715 - val_loss: 0.3449 - val_accuracy: 0.8778\n",
      "Epoch 6/30\n",
      "1719/1719 [==============================] - 10s 6ms/step - loss: 0.3381 - accuracy: 0.8779 - val_loss: 0.3632 - val_accuracy: 0.8708\n",
      "Epoch 7/30\n",
      "1719/1719 [==============================] - 10s 6ms/step - loss: 0.3252 - accuracy: 0.8816 - val_loss: 0.3234 - val_accuracy: 0.8824\n",
      "Epoch 8/30\n",
      "1719/1719 [==============================] - 10s 6ms/step - loss: 0.3111 - accuracy: 0.8867 - val_loss: 0.3361 - val_accuracy: 0.8802\n",
      "Epoch 9/30\n",
      "1719/1719 [==============================] - 10s 6ms/step - loss: 0.2995 - accuracy: 0.8899 - val_loss: 0.3126 - val_accuracy: 0.8922\n",
      "Epoch 10/30\n",
      "1719/1719 [==============================] - 9s 6ms/step - loss: 0.2886 - accuracy: 0.8936 - val_loss: 0.3009 - val_accuracy: 0.8928\n",
      "Epoch 11/30\n",
      "1719/1719 [==============================] - 9s 5ms/step - loss: 0.2789 - accuracy: 0.8978 - val_loss: 0.3292 - val_accuracy: 0.8820\n",
      "Epoch 12/30\n",
      "1719/1719 [==============================] - 10s 6ms/step - loss: 0.2708 - accuracy: 0.8995 - val_loss: 0.3026 - val_accuracy: 0.8894\n",
      "Epoch 13/30\n",
      "1719/1719 [==============================] - 10s 6ms/step - loss: 0.2622 - accuracy: 0.9027 - val_loss: 0.3093 - val_accuracy: 0.8894\n",
      "Epoch 14/30\n",
      "1719/1719 [==============================] - 9s 5ms/step - loss: 0.2525 - accuracy: 0.9065 - val_loss: 0.3020 - val_accuracy: 0.8946\n",
      "Epoch 15/30\n",
      "1719/1719 [==============================] - 10s 6ms/step - loss: 0.2456 - accuracy: 0.9088 - val_loss: 0.2917 - val_accuracy: 0.8900\n",
      "Epoch 16/30\n",
      "1719/1719 [==============================] - 10s 6ms/step - loss: 0.2381 - accuracy: 0.9123 - val_loss: 0.3043 - val_accuracy: 0.8908\n",
      "Epoch 17/30\n",
      "1719/1719 [==============================] - 10s 6ms/step - loss: 0.2315 - accuracy: 0.9146 - val_loss: 0.2996 - val_accuracy: 0.8918\n",
      "Epoch 18/30\n",
      "1719/1719 [==============================] - 10s 6ms/step - loss: 0.2253 - accuracy: 0.9169 - val_loss: 0.2921 - val_accuracy: 0.8948\n",
      "Epoch 19/30\n",
      "1719/1719 [==============================] - 11s 6ms/step - loss: 0.2174 - accuracy: 0.9195 - val_loss: 0.2999 - val_accuracy: 0.8932\n",
      "Epoch 20/30\n",
      "1719/1719 [==============================] - 10s 6ms/step - loss: 0.2105 - accuracy: 0.9229 - val_loss: 0.2917 - val_accuracy: 0.8966\n",
      "Epoch 21/30\n",
      "1719/1719 [==============================] - 10s 6ms/step - loss: 0.2054 - accuracy: 0.9245 - val_loss: 0.3067 - val_accuracy: 0.8880\n",
      "Epoch 22/30\n",
      "1719/1719 [==============================] - 10s 6ms/step - loss: 0.1995 - accuracy: 0.9267 - val_loss: 0.2851 - val_accuracy: 0.8930\n",
      "Epoch 23/30\n",
      "1719/1719 [==============================] - 10s 6ms/step - loss: 0.1942 - accuracy: 0.9293 - val_loss: 0.2899 - val_accuracy: 0.8954\n",
      "Epoch 24/30\n",
      "1719/1719 [==============================] - 10s 6ms/step - loss: 0.1880 - accuracy: 0.9310 - val_loss: 0.2895 - val_accuracy: 0.8982\n",
      "Epoch 25/30\n",
      "1719/1719 [==============================] - 10s 6ms/step - loss: 0.1820 - accuracy: 0.9338 - val_loss: 0.2876 - val_accuracy: 0.8960\n",
      "Epoch 26/30\n",
      "1719/1719 [==============================] - 10s 6ms/step - loss: 0.1772 - accuracy: 0.9357 - val_loss: 0.2994 - val_accuracy: 0.8950\n",
      "Epoch 27/30\n",
      "1719/1719 [==============================] - 10s 6ms/step - loss: 0.1720 - accuracy: 0.9375 - val_loss: 0.2824 - val_accuracy: 0.9004\n",
      "Epoch 28/30\n",
      "1719/1719 [==============================] - 10s 6ms/step - loss: 0.1665 - accuracy: 0.9385 - val_loss: 0.2927 - val_accuracy: 0.8944\n",
      "Epoch 29/30\n",
      "1719/1719 [==============================] - 10s 6ms/step - loss: 0.1614 - accuracy: 0.9403 - val_loss: 0.2768 - val_accuracy: 0.8996\n",
      "Epoch 30/30\n",
      "1719/1719 [==============================] - 10s 6ms/step - loss: 0.1578 - accuracy: 0.9412 - val_loss: 0.2831 - val_accuracy: 0.9016\n"
     ]
    }
   ],
   "source": [
    "history = model.fit(\n",
    "    X_train,\n",
    "    y_train,\n",
    "    epochs=30,\n",
    "    validation_data=(X_valid, y_valid)\n",
    ")"
   ]
  },
  {
   "cell_type": "code",
   "execution_count": 42,
   "id": "a549fd8e-cf03-424b-8523-9e45468686d3",
   "metadata": {
    "tags": []
   },
   "outputs": [
    {
     "data": {
      "text/plain": [
       "<Axes: >"
      ]
     },
     "execution_count": 42,
     "metadata": {},
     "output_type": "execute_result"
    },
    {
     "data": {
      "image/png": "[encoded data removed]",
      "text/plain": [
       "<Figure size 640x480 with 1 Axes>"
      ]
     },
     "metadata": {},
     "output_type": "display_data"
    }
   ],
   "source": [
    "# Create DataFrame from model history\n",
    "learning_curves = pd.DataFrame.from_dict(history.history, orient='columns')\n",
    "\n",
    "# Shift training loss back by 1 epoch for betting alignment (this is shifted left by 0.5 epochs becuase the training loss is a rolling mean during the epoch)\n",
    "learning_curves.loc[:, 'loss'] = learning_curves.loc[:, 'loss'].shift(-1)\n",
    "\n",
    "# Plot\n",
    "learning_curves.plot(ylim=(0,1), grid=True)"
   ]
  },
  {
   "cell_type": "markdown",
   "id": "d44463a0-a3da-40c3-8959-282e301ac00c",
   "metadata": {},
   "source": [
    "The training set performance ends up beating the validation performance, as is generally the case when you train for long enough. **You can tell that the model has not quite converged yet, as the validation loss is still going down, so you should probably continue trianing.** It's as simple as calling the fit() method again, since Keras just continues training where you left off.\n",
    "\n",
    "If you are not satisfied with the performance of your model, you should go back and tune the hyperparameters. The first one to check is the learning rate. If that doesn't help, try another optimizer (and always return the learning rate after changing any hyperparameter). If the performance is still not great, then try tuning the model hyperparameters such as the number of layers, the number of neurons per layer, and the types of activation functions to use for each hidden layer. You can also try tuning other hyperparameters, such as the batch size.  \n",
    "\n",
    "Once you are satisfied with your model's validation accuracy, you should evaluate it on the test set to estimate the generalization error before you deploy the model to production. You can easily do this by using the evaluate() method. It is common to get slightly lower performance on the test set than the validation set, because the hyperparameters are tuned on the validation set, not the test set."
   ]
  },
  {
   "cell_type": "code",
   "execution_count": 44,
   "id": "0cb1f3ec-82f3-440c-921d-43b79d74f00f",
   "metadata": {
    "tags": []
   },
   "outputs": [
    {
     "name": "stdout",
     "output_type": "stream",
     "text": [
      "313/313 [==============================] - 1s 3ms/step - loss: 62.2298 - accuracy: 0.8474\n"
     ]
    },
    {
     "data": {
      "text/plain": [
       "[62.22983169555664, 0.8474000096321106]"
      ]
     },
     "execution_count": 44,
     "metadata": {},
     "output_type": "execute_result"
    }
   ],
   "source": [
    "model.evaluate(X_test, y_test)"
   ]
  },
  {
   "cell_type": "markdown",
   "id": "d16c5c23-c9ec-4d4b-8de3-3bc4a25072a9",
   "metadata": {},
   "source": [
    "### Using the model to make predictions"
   ]
  },
  {
   "cell_type": "markdown",
   "id": "4a0c3df9-1540-47c2-a3f2-17b3409cc2f6",
   "metadata": {},
   "source": [
    "Next, we can use the model's predict() method to make predictions on new instances. If you only care about the class with the highest estimated probability (even if that probability is quite low), then you can use the predict_classes() method instead."
   ]
  },
  {
   "cell_type": "code",
   "execution_count": 47,
   "id": "3f1fe7b1-1a9b-4a3b-818a-e6f5b2077160",
   "metadata": {
    "tags": []
   },
   "outputs": [
    {
     "data": {
      "text/plain": [
       "array([[0., 0., 0., 0., 0., 0., 0., 0., 0., 1.],\n",
       "       [0., 0., 1., 0., 0., 0., 0., 0., 0., 0.],\n",
       "       [0., 1., 0., 0., 0., 0., 0., 0., 0., 0.]], dtype=float32)"
      ]
     },
     "execution_count": 47,
     "metadata": {},
     "output_type": "execute_result"
    }
   ],
   "source": [
    "X_new = X_test[:3]\n",
    "y_proba = model.predict(X_new)\n",
    "y_proba.round(2)"
   ]
  },
  {
   "cell_type": "code",
   "execution_count": 48,
   "id": "eced6416-8f8e-4195-a6b6-81691419097d",
   "metadata": {
    "tags": []
   },
   "outputs": [
    {
     "data": {
      "text/plain": [
       "(array([9, 2, 1], dtype=int64),\n",
       " array(['Ankle Boot', 'Pullover', 'Trouser'], dtype='<U11'),\n",
       " array([9, 2, 1], dtype=uint8))"
      ]
     },
     "execution_count": 48,
     "metadata": {},
     "output_type": "execute_result"
    }
   ],
   "source": [
    "y_pred = np.argmax(y_proba, axis=1)\n",
    "y_pred, np.array(class_names)[y_pred], y_test[:3]"
   ]
  },
  {
   "cell_type": "markdown",
   "id": "c43c3179-eff8-4326-9b9c-67c5ab5b2271",
   "metadata": {},
   "source": [
    "## Building a Regression MLP Using the Sequential API"
   ]
  },
  {
   "cell_type": "code",
   "execution_count": 50,
   "id": "f7d3a1ec-3cfb-449f-aa2f-9b64e81c8a27",
   "metadata": {
    "tags": []
   },
   "outputs": [
    {
     "name": "stdout",
     "output_type": "stream",
     "text": [
      "Epoch 1/20\n",
      "363/363 [==============================] - 1s 1ms/step - loss: 0.8316 - val_loss: 0.5945\n",
      "Epoch 2/20\n",
      "363/363 [==============================] - 0s 1ms/step - loss: 0.5254 - val_loss: 0.5225\n",
      "Epoch 3/20\n",
      "363/363 [==============================] - 0s 1ms/step - loss: 0.4610 - val_loss: 0.5285\n",
      "Epoch 4/20\n",
      "363/363 [==============================] - 0s 1ms/step - loss: 0.4575 - val_loss: 0.4950\n",
      "Epoch 5/20\n",
      "363/363 [==============================] - 0s 1ms/step - loss: 0.4363 - val_loss: 0.4607\n",
      "Epoch 6/20\n",
      "363/363 [==============================] - 0s 1ms/step - loss: 0.4523 - val_loss: 0.4867\n",
      "Epoch 7/20\n",
      "363/363 [==============================] - 0s 1ms/step - loss: 0.4209 - val_loss: 0.4537\n",
      "Epoch 8/20\n",
      "363/363 [==============================] - 0s 1ms/step - loss: 0.4134 - val_loss: 0.4391\n",
      "Epoch 9/20\n",
      "363/363 [==============================] - 0s 1ms/step - loss: 0.4088 - val_loss: 0.4294\n",
      "Epoch 10/20\n",
      "363/363 [==============================] - 0s 1ms/step - loss: 0.4036 - val_loss: 0.4238\n",
      "Epoch 11/20\n",
      "363/363 [==============================] - 0s 1ms/step - loss: 0.3993 - val_loss: 0.4175\n",
      "Epoch 12/20\n",
      "363/363 [==============================] - 0s 1ms/step - loss: 0.3949 - val_loss: 0.4121\n",
      "Epoch 13/20\n",
      "363/363 [==============================] - 0s 1ms/step - loss: 0.3926 - val_loss: 0.4216\n",
      "Epoch 14/20\n",
      "363/363 [==============================] - 0s 1ms/step - loss: 0.3891 - val_loss: 0.4025\n",
      "Epoch 15/20\n",
      "363/363 [==============================] - 0s 1ms/step - loss: 0.3855 - val_loss: 0.4025\n",
      "Epoch 16/20\n",
      "363/363 [==============================] - 0s 1ms/step - loss: 0.3830 - val_loss: 0.3953\n",
      "Epoch 17/20\n",
      "363/363 [==============================] - 0s 1ms/step - loss: 0.3797 - val_loss: 0.3932\n",
      "Epoch 18/20\n",
      "363/363 [==============================] - 0s 1ms/step - loss: 0.3789 - val_loss: 0.3956\n",
      "Epoch 19/20\n",
      "363/363 [==============================] - 0s 1ms/step - loss: 0.3777 - val_loss: 0.3901\n",
      "Epoch 20/20\n",
      "363/363 [==============================] - 0s 1ms/step - loss: 0.3724 - val_loss: 0.4009\n",
      "162/162 [==============================] - 0s 839us/step - loss: 0.3946\n"
     ]
    }
   ],
   "source": [
    "' Lets switch to the California housing problem and tackle it using a regression neural network'\n",
    "from sklearn.datasets import fetch_california_housing\n",
    "from sklearn.model_selection import train_test_split\n",
    "from sklearn.preprocessing import StandardScaler\n",
    "\n",
    "# Load the raw data\n",
    "housing = fetch_california_housing()\n",
    "\n",
    "# Split data in train, val and test sets\n",
    "X_train_full, X_test, y_train_full, y_test = train_test_split(\n",
    "    housing.data,\n",
    "    housing.target\n",
    ")\n",
    "\n",
    "X_train, X_valid, y_train, y_valid = train_test_split(\n",
    "    X_train_full,\n",
    "    y_train_full\n",
    ")\n",
    "\n",
    "# Scale the data. Remember, only fit the scaler to the train data.  Transform the val and test data according to this fit.\n",
    "scaler = StandardScaler()\n",
    "X_train = scaler.fit_transform(X_train)\n",
    "X_valid = scaler.transform(X_valid)\n",
    "X_test = scaler.transform(X_test)\n",
    "\n",
    "# Construct the TF model\n",
    "model = keras.models.Sequential([\n",
    "    keras.layers.Dense(30, activation='relu', input_shape=X_train.shape[1:]),\n",
    "    keras.layers.Dense(1)\n",
    "])\n",
    "model.compile(\n",
    "    loss='mean_squared_error',\n",
    "    optimizer=keras.optimizers.SGD(learning_rate=0.01)\n",
    ")\n",
    "history = model.fit(\n",
    "    X_train,\n",
    "    y_train,\n",
    "    epochs=20,\n",
    "    validation_data=(X_valid, y_valid)\n",
    ")\n",
    "\n",
    "# Evaluate performance on the test set\n",
    "mse_test = model.evaluate(X_test, y_test)\n",
    "\n",
    "# Make predictions\n",
    "X_new = X_test[:3] # Pretend these are new instances\n",
    "y_pred = model.predict(X_new)"
   ]
  },
  {
   "cell_type": "code",
   "execution_count": 51,
   "id": "d2b42c19-e8fd-4dd1-98f3-c0890ddfbbd1",
   "metadata": {
    "tags": []
   },
   "outputs": [
    {
     "data": {
      "text/plain": [
       "(0.39455050230026245,\n",
       " array([[2.1834507],\n",
       "        [1.0431786],\n",
       "        [1.535323 ]], dtype=float32),\n",
       " array([2.482, 0.743, 1.435]))"
      ]
     },
     "execution_count": 51,
     "metadata": {},
     "output_type": "execute_result"
    }
   ],
   "source": [
    "mse_test, y_pred, y_test[:3]"
   ]
  },
  {
   "cell_type": "code",
   "execution_count": 52,
   "id": "ce1ca00c-961f-4e65-b68b-fdab06130e87",
   "metadata": {
    "tags": []
   },
   "outputs": [
    {
     "data": {
      "text/plain": [
       "array([799050.62426426, 583211.33231091, 676368.14039873])"
      ]
     },
     "execution_count": 52,
     "metadata": {},
     "output_type": "execute_result"
    }
   ],
   "source": [
    "scaler.inverse_transform(np.concatenate((y_pred, np.zeros((y_pred.shape[0], 7))), axis=1))[:, 0] * 1e5"
   ]
  },
  {
   "cell_type": "code",
   "execution_count": 53,
   "id": "8d733c74-bb03-4494-8daa-a879e445e83f",
   "metadata": {
    "tags": []
   },
   "outputs": [
    {
     "data": {
      "text/plain": [
       "array([855562.28273942, 526391.27577144, 657378.24346657])"
      ]
     },
     "execution_count": 53,
     "metadata": {},
     "output_type": "execute_result"
    }
   ],
   "source": [
    "scaler.inverse_transform(np.concatenate((y_test[:3].reshape(-1, 1), np.zeros((y_test[:3].shape[0], 7))), axis=1))[:, 0] * 1e5"
   ]
  },
  {
   "cell_type": "markdown",
   "id": "a7d91354-2dfc-4dcf-bdf9-80e882ed512a",
   "metadata": {},
   "source": [
    "## Building Complex Models Using the Functional API"
   ]
  },
  {
   "cell_type": "markdown",
   "id": "bf06c060-340b-4d0d-92f4-3ea291f528db",
   "metadata": {},
   "source": [
    "One example of a nonsequential neural network is a *Wide & Deep* neural network. It connects all or part of the inputs directly to the output layer. **This architecture makes it possible for the neural network to learn both deep patterns (using the deep path) and simple rules (through the short path).** In contrast, a regular MLP forces all the data to flow through the full stack of layers; thus, simple patterns in the data may end up being distorted by the sequence of transformations. Let's build such a neural network to tackle the California housing problem."
   ]
  },
  {
   "cell_type": "code",
   "execution_count": 56,
   "id": "64cfdf1a-4691-425c-906a-109d934d01b8",
   "metadata": {
    "tags": []
   },
   "outputs": [],
   "source": [
    "input_ = keras.layers.Input(shape=X_train.shape[1:])\n",
    "hidden1 = keras.layers.Dense(30, activation='relu')(input_)\n",
    "hidden2 = keras.layers.Dense(30, activation='relu')(hidden1)\n",
    "concat = keras.layers.Concatenate()([input_, hidden2])\n",
    "output = keras.layers.Dense(1)(concat)\n",
    "model = keras.Model(inputs=[input_], outputs=[output])"
   ]
  },
  {
   "cell_type": "markdown",
   "id": "5913572c-1adb-4c13-8b56-1d0021223396",
   "metadata": {},
   "source": [
    "Let's go through each line of this code:\n",
    "1. First, we need to create an Input object. This is a specification of the kind of input the model will get, including its shape and dtype. A model may actually have multiple inputs, as we will see shortly.\n",
    "2. Next, we create a Dense layer with 30 neurons, using the ReLU activation function. **As soon as it is created, notice that we call it like a function, passing it the input.** This is why this is called the Functional API. **Note that we are just telling Keras how it should connect the layers together**, no actual data is being processed yet. \n",
    "3. We then create a second hidden layer, and again we use it as a function. **Note that we pass it the output of the first hidden layer.**\n",
    "4. Next, we create a Concatenate layer, and once again we immediately use it like a function, to concatenate the input and the output of the second hidden layer. You may prefer the keras.layers.concatenate() function, which creates a Concatenate layer and immeidately calls it with the given inputs.\n",
    "5. Then we create the output layer, with a single neuron and no activiation function, and we call it like a function, passing it the result of the concatenation.\n",
    "6. Lastly, we create a Keras Model, specifying which inputs and outputs to use.\n",
    "\n",
    "But what if you want to send a subset of the features through the wide path and a different subset (possibly overlapping) through the deep path? In this case, one solution is to use multiple inputs. In this case, when we call the fit() method, instead of passing a single input matrix X_train, we must pass a pair of matrices (X_train_A, X_train_B): one per input. Alternatively, you can pass a dictionary mapping the input names to the input values, like {'wide_input': X_train_A, 'deep_input': X_train_B}. This is especially useful when there are many inputs, to avoid getting the order wrong."
   ]
  },
  {
   "cell_type": "code",
   "execution_count": 58,
   "id": "01213a2c-b7a1-4908-9583-ff519a436535",
   "metadata": {
    "tags": []
   },
   "outputs": [
    {
     "name": "stdout",
     "output_type": "stream",
     "text": [
      "Epoch 1/20\n",
      "363/363 [==============================] - 1s 2ms/step - loss: 1.8451 - val_loss: 0.9672\n",
      "Epoch 2/20\n",
      "363/363 [==============================] - 0s 1ms/step - loss: 0.8547 - val_loss: 0.7660\n",
      "Epoch 3/20\n",
      "363/363 [==============================] - 0s 1ms/step - loss: 0.7138 - val_loss: 0.7007\n",
      "Epoch 4/20\n",
      "363/363 [==============================] - 0s 1ms/step - loss: 0.6625 - val_loss: 0.6675\n",
      "Epoch 5/20\n",
      "363/363 [==============================] - 0s 1ms/step - loss: 0.6312 - val_loss: 0.6417\n",
      "Epoch 6/20\n",
      "363/363 [==============================] - 0s 1ms/step - loss: 0.6081 - val_loss: 0.6215\n",
      "Epoch 7/20\n",
      "363/363 [==============================] - 0s 1ms/step - loss: 0.5890 - val_loss: 0.6057\n",
      "Epoch 8/20\n",
      "363/363 [==============================] - 0s 1ms/step - loss: 0.5727 - val_loss: 0.5888\n",
      "Epoch 9/20\n",
      "363/363 [==============================] - 0s 1ms/step - loss: 0.5586 - val_loss: 0.5807\n",
      "Epoch 10/20\n",
      "363/363 [==============================] - 0s 1ms/step - loss: 0.5462 - val_loss: 0.5666\n",
      "Epoch 11/20\n",
      "363/363 [==============================] - 0s 1ms/step - loss: 0.5349 - val_loss: 0.5567\n",
      "Epoch 12/20\n",
      "363/363 [==============================] - 0s 1ms/step - loss: 0.5247 - val_loss: 0.5462\n",
      "Epoch 13/20\n",
      "363/363 [==============================] - 0s 1ms/step - loss: 0.5159 - val_loss: 0.5382\n",
      "Epoch 14/20\n",
      "363/363 [==============================] - 0s 1ms/step - loss: 0.5078 - val_loss: 0.5286\n",
      "Epoch 15/20\n",
      "363/363 [==============================] - 1s 1ms/step - loss: 0.5005 - val_loss: 0.5274\n",
      "Epoch 16/20\n",
      "363/363 [==============================] - 0s 1ms/step - loss: 0.4938 - val_loss: 0.5160\n",
      "Epoch 17/20\n",
      "363/363 [==============================] - 0s 1ms/step - loss: 0.4878 - val_loss: 0.5101\n",
      "Epoch 18/20\n",
      "363/363 [==============================] - 0s 1ms/step - loss: 0.4825 - val_loss: 0.5062\n",
      "Epoch 19/20\n",
      "363/363 [==============================] - 0s 1ms/step - loss: 0.4784 - val_loss: 0.5014\n",
      "Epoch 20/20\n",
      "363/363 [==============================] - 0s 1ms/step - loss: 0.4745 - val_loss: 0.4967\n",
      "162/162 [==============================] - 0s 820us/step - loss: 0.5003\n"
     ]
    },
    {
     "data": {
      "text/plain": [
       "(0.500318169593811,\n",
       " array([[2.2206485],\n",
       "        [1.2001859],\n",
       "        [1.5337157]], dtype=float32))"
      ]
     },
     "execution_count": 58,
     "metadata": {},
     "output_type": "execute_result"
    }
   ],
   "source": [
    "input_A = keras.layers.Input(shape=[5], name='wide_input')\n",
    "input_B = keras.layers.Input(shape=[6], name='deep_input')\n",
    "hidden1 = keras.layers.Dense(30, activation='relu')(input_B)\n",
    "hidden2 = keras.layers.Dense(30, activation='relu')(hidden1)\n",
    "concat = keras.layers.Concatenate()([input_A, hidden2])\n",
    "output = keras.layers.Dense(1, name='output')(concat)\n",
    "model = keras.Model(inputs=[input_A, input_B], outputs=[output])\n",
    "\n",
    "model.compile(\n",
    "    loss='mse',\n",
    "    optimizer=keras.optimizers.SGD(learning_rate=1e-3)\n",
    ")\n",
    "\n",
    "X_train_A, X_train_B = X_train[:, :5], X_train[:, 2:]\n",
    "X_valid_A, X_valid_B = X_valid[:, :5], X_valid[:, 2:]\n",
    "X_test_A, X_test_B = X_test[:, :5], X_test[:, 2:]\n",
    "X_new_A, X_new_B = X_test_A[:3], X_test_B[:3]\n",
    "\n",
    "history = model.fit(\n",
    "    (X_train_A, X_train_B),\n",
    "    y_train,\n",
    "    epochs=20,\n",
    "    validation_data=((X_valid_A, X_valid_B), y_valid)\n",
    ")\n",
    "\n",
    "mse_test = model.evaluate((X_test_A, X_test_B), y_test)\n",
    "y_pred = model.predict((X_new_A, X_new_B))\n",
    "\n",
    "mse_test, y_pred"
   ]
  },
  {
   "cell_type": "markdown",
   "id": "b35c291d-d8d8-4d29-9900-c9e11a5b1bbe",
   "metadata": {},
   "source": [
    "There are many use cases in which you may want to have multiple outputs:\n",
    "1. The task may demand it. For instance, you may want to locate and classify the main object in a picture. This is both a regression task (finding the coordinates of the object's center, as well as its width and height) and a classification task.\n",
    "2. Similarly, you may have multiple independent tasks based on the same data. **Sure, you could train one neural network per task, but in many cases you will get better results on all tasks by training a single neural network with one output per task. This is because the neural network can learn features in the data that are usefull across tasks.** For example, you could perform *multitask classification* on pictures of faces, using one output to classify the person's facial expression (smiling, surprised, etc.) and another output to identify whether they are wearing glasses or not.\n",
    "3. Another use case is as a regularization technique (i.e. a training contraint whose objective is to reduce overfitting and thus improve the model's ability to generalize). For example, you may want to add some auxiliary outputs in a neural network architecture to ensure that hte underlying part of the newtwork learns something useful on its own, without relying on the rest of the network.\n",
    "\n",
    "Adding extra outputs is quite easy: just connect them to the appropriate layers and add them to your model's list of outputs. Each output will need its own loss function. Therefore, when we compile the model, we should pass a list of losses. By default, Keras will compute all these losses and simply add them up to get the final loss used for training. We care much more about the main output than about the auxiliary output (as it is just used for regularization), so we want to give the main output's loss a much greater weight. Fortunately, it is possible to set all the loss weights when compiling the model. Also, now when we train the model, we need to provide labels for each output.\n",
    "\n",
    "When we evaluate the model, Keras will return the total loss, as well as the individual losses. Similarly, the predict() method will return predictions for each output."
   ]
  },
  {
   "cell_type": "code",
   "execution_count": 60,
   "id": "f224921c-7981-4150-ad2c-baeb50d9281b",
   "metadata": {
    "tags": []
   },
   "outputs": [
    {
     "name": "stdout",
     "output_type": "stream",
     "text": [
      "Epoch 1/20\n",
      "363/363 [==============================] - 1s 2ms/step - loss: 0.8366 - main_output_loss: 0.7564 - aux_output_loss: 1.5588 - val_loss: 0.7756 - val_main_output_loss: 0.7351 - val_aux_output_loss: 1.1404\n",
      "Epoch 2/20\n",
      "363/363 [==============================] - 0s 1ms/step - loss: 1.3169 - main_output_loss: 1.3359 - aux_output_loss: 1.1463 - val_loss: 0.5321 - val_main_output_loss: 0.4928 - val_aux_output_loss: 0.8860\n",
      "Epoch 3/20\n",
      "363/363 [==============================] - 0s 1ms/step - loss: 0.4793 - main_output_loss: 0.4437 - aux_output_loss: 0.7994 - val_loss: 0.4648 - val_main_output_loss: 0.4364 - val_aux_output_loss: 0.7211\n",
      "Epoch 4/20\n",
      "363/363 [==============================] - 0s 1ms/step - loss: 0.4444 - main_output_loss: 0.4160 - aux_output_loss: 0.7008 - val_loss: 0.4361 - val_main_output_loss: 0.4117 - val_aux_output_loss: 0.6560\n",
      "Epoch 5/20\n",
      "363/363 [==============================] - 0s 1ms/step - loss: 0.4282 - main_output_loss: 0.4038 - aux_output_loss: 0.6476 - val_loss: 0.4345 - val_main_output_loss: 0.4121 - val_aux_output_loss: 0.6358\n",
      "Epoch 6/20\n",
      "363/363 [==============================] - 0s 1ms/step - loss: 0.4165 - main_output_loss: 0.3943 - aux_output_loss: 0.6155 - val_loss: 0.4248 - val_main_output_loss: 0.4044 - val_aux_output_loss: 0.6079\n",
      "Epoch 7/20\n",
      "363/363 [==============================] - 1s 1ms/step - loss: 0.4001 - main_output_loss: 0.3791 - aux_output_loss: 0.5890 - val_loss: 0.4033 - val_main_output_loss: 0.3846 - val_aux_output_loss: 0.5713\n",
      "Epoch 8/20\n",
      "363/363 [==============================] - 0s 1ms/step - loss: 0.3923 - main_output_loss: 0.3727 - aux_output_loss: 0.5693 - val_loss: 0.3843 - val_main_output_loss: 0.3668 - val_aux_output_loss: 0.5420\n",
      "Epoch 9/20\n",
      "363/363 [==============================] - 0s 1ms/step - loss: 0.4007 - main_output_loss: 0.3816 - aux_output_loss: 0.5728 - val_loss: 0.3766 - val_main_output_loss: 0.3602 - val_aux_output_loss: 0.5243\n",
      "Epoch 10/20\n",
      "363/363 [==============================] - 0s 1ms/step - loss: 0.3786 - main_output_loss: 0.3612 - aux_output_loss: 0.5350 - val_loss: 0.3803 - val_main_output_loss: 0.3662 - val_aux_output_loss: 0.5079\n",
      "Epoch 11/20\n",
      "363/363 [==============================] - 0s 1ms/step - loss: 0.3712 - main_output_loss: 0.3545 - aux_output_loss: 0.5215 - val_loss: 0.3658 - val_main_output_loss: 0.3510 - val_aux_output_loss: 0.4985\n",
      "Epoch 12/20\n",
      "363/363 [==============================] - 0s 1ms/step - loss: 0.3682 - main_output_loss: 0.3520 - aux_output_loss: 0.5137 - val_loss: 0.3670 - val_main_output_loss: 0.3536 - val_aux_output_loss: 0.4881\n",
      "Epoch 13/20\n",
      "363/363 [==============================] - 0s 1ms/step - loss: 0.3617 - main_output_loss: 0.3462 - aux_output_loss: 0.5018 - val_loss: 0.3611 - val_main_output_loss: 0.3480 - val_aux_output_loss: 0.4790\n",
      "Epoch 14/20\n",
      "363/363 [==============================] - 0s 1ms/step - loss: 0.3582 - main_output_loss: 0.3429 - aux_output_loss: 0.4959 - val_loss: 0.3525 - val_main_output_loss: 0.3396 - val_aux_output_loss: 0.4687\n",
      "Epoch 15/20\n",
      "363/363 [==============================] - 0s 1ms/step - loss: 0.3562 - main_output_loss: 0.3422 - aux_output_loss: 0.4821 - val_loss: 0.3588 - val_main_output_loss: 0.3467 - val_aux_output_loss: 0.4680\n",
      "Epoch 16/20\n",
      "363/363 [==============================] - 0s 1ms/step - loss: 0.3522 - main_output_loss: 0.3386 - aux_output_loss: 0.4749 - val_loss: 0.3468 - val_main_output_loss: 0.3347 - val_aux_output_loss: 0.4554\n",
      "Epoch 17/20\n",
      "363/363 [==============================] - 0s 1ms/step - loss: 0.3531 - main_output_loss: 0.3401 - aux_output_loss: 0.4698 - val_loss: 0.3446 - val_main_output_loss: 0.3333 - val_aux_output_loss: 0.4466\n",
      "Epoch 18/20\n",
      "363/363 [==============================] - 0s 1ms/step - loss: 0.3484 - main_output_loss: 0.3360 - aux_output_loss: 0.4604 - val_loss: 0.3541 - val_main_output_loss: 0.3428 - val_aux_output_loss: 0.4560\n",
      "Epoch 19/20\n",
      "363/363 [==============================] - 0s 1ms/step - loss: 0.3530 - main_output_loss: 0.3405 - aux_output_loss: 0.4657 - val_loss: 0.3517 - val_main_output_loss: 0.3429 - val_aux_output_loss: 0.4316\n",
      "Epoch 20/20\n",
      "363/363 [==============================] - 0s 1ms/step - loss: 0.3438 - main_output_loss: 0.3320 - aux_output_loss: 0.4494 - val_loss: 0.3415 - val_main_output_loss: 0.3320 - val_aux_output_loss: 0.4271\n",
      "162/162 [==============================] - 0s 907us/step - loss: 0.3611 - main_output_loss: 0.3503 - aux_output_loss: 0.4580\n"
     ]
    },
    {
     "data": {
      "text/plain": [
       "(0.3610985279083252,\n",
       " 0.35033488273620605,\n",
       " 0.4579727053642273,\n",
       " array([[2.3372006],\n",
       "        [1.3405675],\n",
       "        [1.6641246]], dtype=float32),\n",
       " array([[2.609949 ],\n",
       "        [1.1067576],\n",
       "        [1.8667855]], dtype=float32))"
      ]
     },
     "execution_count": 60,
     "metadata": {},
     "output_type": "execute_result"
    }
   ],
   "source": [
    "input_A = keras.layers.Input(shape=[5], name='wide_input')\n",
    "input_B = keras.layers.Input(shape=[6], name='deep_input')\n",
    "hidden1 = keras.layers.Dense(30, activation='relu')(input_B)\n",
    "hidden2 = keras.layers.Dense(30, activation='relu')(hidden1)\n",
    "concat = keras.layers.Concatenate()([input_A, hidden2])\n",
    "output = keras.layers.Dense(1, name='main_output')(concat)\n",
    "aux_output = keras.layers.Dense(1, name='aux_output')(hidden2)\n",
    "model = keras.Model(inputs=[input_A, input_B], outputs=[output, aux_output])\n",
    "\n",
    "model.compile(\n",
    "    loss=['mse', 'mse'],\n",
    "    loss_weights=[0.9, 0.1],\n",
    "    optimizer=keras.optimizers.SGD(learning_rate=0.02)\n",
    ")\n",
    "\n",
    "history = model.fit(\n",
    "    [X_train_A, X_train_B],\n",
    "    [y_train, y_train],\n",
    "    epochs=20,\n",
    "    validation_data=([X_valid_A, X_valid_B], [y_valid, y_valid])\n",
    ")\n",
    "\n",
    "total_loss, main_loss, aux_loss = model.evaluate(\n",
    "    [X_test_A, X_test_B],\n",
    "    [y_test, y_test]\n",
    ")\n",
    "\n",
    "y_pred_main, y_pred_aux = model.predict(\n",
    "    [X_test_A[:3], X_test_B[:3]]\n",
    ")\n",
    "\n",
    "total_loss, main_loss, aux_loss, y_pred_main, y_pred_aux"
   ]
  },
  {
   "cell_type": "markdown",
   "id": "e4d257b2-1ba4-4b9e-92d3-c32e5a685d77",
   "metadata": {},
   "source": [
    "## Using the Subclassing API to Build Dynamic Models"
   ]
  },
  {
   "cell_type": "markdown",
   "id": "5f040844-cd38-48b6-9c40-398084febfbc",
   "metadata": {},
   "source": [
    "Both the Sequential API and the Functional API are declarative: you start by declaring which layers you want to use and how they should be connected, and only then can you start feeding the model some data for training or inference. This has many advantages:\n",
    "1. The model can easily be saved, cloned and shared\n",
    "2. Its structure can be displayed and analyzed; the framework can infer shapes and check types, so errors can be caught early.\n",
    "3. It's fairly easy to debug, since the whole model is a static graph of layers.\n",
    "\n",
    "But the flip side is just that: it's static. Some models involve loops, varying shapes, conditional branching, and other dynamic behaviors. For such cases, or simply if you prefer a more imperative programming style, the Subclassing API is for you.\n",
    "\n",
    "Simply subclass the Model class, create the layers you need in the constructor, and use them to perform the computations you want in the call() method. For example, creating an instance of the following WideAndDeepModel class gives us an equivalent model to the one we just built with the Functional API. The big difference is that you can do pretty much anything you want in the call() method: for loops, if statements, low-level TensorFlow operations, etc. This makes it a great API for researchers experimenting with new ideas.\n",
    "\n",
    "This extra flexibility does come at a cost: your model's architecture is hidden within the call() method, so Keras cannot easily inspect it; it cannot save or clone it; and when you call the summary() method, you only get a list of layers, without any information on how they are connected to each other. Moreover, Keras cannot check types and shapes ahead of time, and it is easier to make mistakes. **So unless you really need that extra flexibility, you should probably stick to the Sequential and Functional API.**"
   ]
  },
  {
   "cell_type": "code",
   "execution_count": 63,
   "id": "29d6a212-2f59-4e81-af56-dbf7a83deedd",
   "metadata": {
    "tags": []
   },
   "outputs": [],
   "source": [
    "class WideAndDeepModel(keras.Model):\n",
    "    def __init__(self, units=30, activation='relu', **kwargs):\n",
    "        super().__init__(**kwargs) # handles standard args (e.g, name)\n",
    "        self.hidden1 = keras.layers.Dense(units, activation=activation)\n",
    "        self.hidden2 = keras.layers.Dense(units, activation=activation)\n",
    "        self.main_output = keras.layers.Dense(1)\n",
    "        self.aux_output = keras.layers.Dense(1)\n",
    "        \n",
    "    def call(self, inputs: tuple):\n",
    "        input_A, input_B = inputs\n",
    "        hidden1 = self.hidden1(input_B)\n",
    "        hidden2 = self.hidden2(hidden1)\n",
    "        concat = keras.layers.concatenate([input_A, hidden2])\n",
    "        main_output = self.main_output(concat)\n",
    "        aux_output = self.aux_output(hidden2)\n",
    "        return main_output, aux_output\n",
    "    \n",
    "model = WideAndDeepModel()"
   ]
  },
  {
   "cell_type": "markdown",
   "id": "4bb15599-03f0-4b9f-9387-a9a78f88ac44",
   "metadata": {},
   "source": [
    "## Saving and Restoring a Model"
   ]
  },
  {
   "cell_type": "markdown",
   "id": "e8c2ef8e-281c-4df1-8180-4b4a5abd8460",
   "metadata": {},
   "source": [
    "Saving a trained Keras model is as simple as it gets. Keras will use the HDF5 format to save both the model's architecture (including every layer's hyperparameters) and the values of all the model parameters for every layer (e.g. connection weights and biases).. It also saves the optimizer (including its hyperparameters and any state it may have). Loading the model is just as easy.\n",
    "\n",
    "**This will work when using the Sequential API and Functional API, but unfortunately not when using model subclassing. You can use save_weights() and load_weights() to at least save and restore the model parameters, but you will need to save and restore everything else yourself**\n",
    "\n",
    "But what if training lasts several hours? This is quite common, especially when training on large datasets. In this case, you should not only save your model at the end of training, but also save checkpoints at regular intervals during the training, to avoid losing everything if your computer crashes. But how can you tell the fit() method to save checkpoints? **Use callbacks**"
   ]
  },
  {
   "cell_type": "code",
   "execution_count": 66,
   "id": "f0f24a5e-d979-4400-8db6-1e1c39c6c31a",
   "metadata": {
    "tags": []
   },
   "outputs": [
    {
     "name": "stdout",
     "output_type": "stream",
     "text": [
      "Epoch 1/20\n",
      "363/363 [==============================] - 1s 2ms/step - loss: 0.7905 - main_output_loss: 0.7199 - aux_output_loss: 1.4260 - val_loss: 0.5583 - val_main_output_loss: 0.5138 - val_aux_output_loss: 0.9585\n",
      "Epoch 2/20\n",
      "363/363 [==============================] - 0s 1ms/step - loss: 0.5253 - main_output_loss: 0.4831 - aux_output_loss: 0.9047 - val_loss: 0.5137 - val_main_output_loss: 0.4881 - val_aux_output_loss: 0.7437\n",
      "Epoch 3/20\n",
      "363/363 [==============================] - 0s 1ms/step - loss: 0.4882 - main_output_loss: 0.4630 - aux_output_loss: 0.7153 - val_loss: 0.5219 - val_main_output_loss: 0.5047 - val_aux_output_loss: 0.6765\n",
      "Epoch 4/20\n",
      "363/363 [==============================] - 0s 1ms/step - loss: 0.4756 - main_output_loss: 0.4545 - aux_output_loss: 0.6651 - val_loss: 0.4662 - val_main_output_loss: 0.4475 - val_aux_output_loss: 0.6346\n",
      "Epoch 5/20\n",
      "363/363 [==============================] - 0s 1ms/step - loss: 0.4521 - main_output_loss: 0.4322 - aux_output_loss: 0.6315 - val_loss: 0.6341 - val_main_output_loss: 0.6293 - val_aux_output_loss: 0.6771\n",
      "Epoch 6/20\n",
      "363/363 [==============================] - 0s 1ms/step - loss: 0.4834 - main_output_loss: 0.4674 - aux_output_loss: 0.6278 - val_loss: 0.4431 - val_main_output_loss: 0.4265 - val_aux_output_loss: 0.5926\n",
      "Epoch 7/20\n",
      "363/363 [==============================] - 0s 1ms/step - loss: 0.4389 - main_output_loss: 0.4220 - aux_output_loss: 0.5907 - val_loss: 0.4395 - val_main_output_loss: 0.4238 - val_aux_output_loss: 0.5806\n",
      "Epoch 8/20\n",
      "363/363 [==============================] - 0s 1ms/step - loss: 0.4190 - main_output_loss: 0.4018 - aux_output_loss: 0.5740 - val_loss: 0.4187 - val_main_output_loss: 0.4037 - val_aux_output_loss: 0.5533\n",
      "Epoch 9/20\n",
      "363/363 [==============================] - 0s 1ms/step - loss: 0.4136 - main_output_loss: 0.3975 - aux_output_loss: 0.5590 - val_loss: 0.4040 - val_main_output_loss: 0.3897 - val_aux_output_loss: 0.5325\n",
      "Epoch 10/20\n",
      "363/363 [==============================] - 1s 1ms/step - loss: 0.4004 - main_output_loss: 0.3846 - aux_output_loss: 0.5424 - val_loss: 0.4000 - val_main_output_loss: 0.3866 - val_aux_output_loss: 0.5202\n",
      "Epoch 11/20\n",
      "363/363 [==============================] - 0s 1ms/step - loss: 0.3986 - main_output_loss: 0.3837 - aux_output_loss: 0.5319 - val_loss: 0.4233 - val_main_output_loss: 0.4113 - val_aux_output_loss: 0.5320\n",
      "Epoch 12/20\n",
      "363/363 [==============================] - 0s 1ms/step - loss: 0.3952 - main_output_loss: 0.3814 - aux_output_loss: 0.5198 - val_loss: 0.4148 - val_main_output_loss: 0.4038 - val_aux_output_loss: 0.5139\n",
      "Epoch 13/20\n",
      "363/363 [==============================] - 1s 2ms/step - loss: 0.3817 - main_output_loss: 0.3679 - aux_output_loss: 0.5063 - val_loss: 0.4000 - val_main_output_loss: 0.3897 - val_aux_output_loss: 0.4928\n",
      "Epoch 14/20\n",
      "363/363 [==============================] - 1s 1ms/step - loss: 0.3764 - main_output_loss: 0.3632 - aux_output_loss: 0.4955 - val_loss: 0.3776 - val_main_output_loss: 0.3671 - val_aux_output_loss: 0.4718\n",
      "Epoch 15/20\n",
      "363/363 [==============================] - 1s 2ms/step - loss: 0.3739 - main_output_loss: 0.3612 - aux_output_loss: 0.4882 - val_loss: 0.3870 - val_main_output_loss: 0.3766 - val_aux_output_loss: 0.4806\n",
      "Epoch 16/20\n",
      "363/363 [==============================] - 0s 1ms/step - loss: 0.3744 - main_output_loss: 0.3621 - aux_output_loss: 0.4846 - val_loss: 0.3878 - val_main_output_loss: 0.3779 - val_aux_output_loss: 0.4770\n",
      "Epoch 17/20\n",
      "363/363 [==============================] - 1s 1ms/step - loss: 0.3667 - main_output_loss: 0.3548 - aux_output_loss: 0.4739 - val_loss: 0.3592 - val_main_output_loss: 0.3494 - val_aux_output_loss: 0.4478\n",
      "Epoch 18/20\n",
      "363/363 [==============================] - 1s 1ms/step - loss: 0.3622 - main_output_loss: 0.3508 - aux_output_loss: 0.4651 - val_loss: 0.3608 - val_main_output_loss: 0.3515 - val_aux_output_loss: 0.4448\n",
      "Epoch 19/20\n",
      "363/363 [==============================] - 0s 1ms/step - loss: 0.3615 - main_output_loss: 0.3502 - aux_output_loss: 0.4628 - val_loss: 0.3747 - val_main_output_loss: 0.3667 - val_aux_output_loss: 0.4468\n",
      "Epoch 20/20\n",
      "363/363 [==============================] - 1s 1ms/step - loss: 0.3610 - main_output_loss: 0.3502 - aux_output_loss: 0.4587 - val_loss: 0.3711 - val_main_output_loss: 0.3624 - val_aux_output_loss: 0.4489\n"
     ]
    }
   ],
   "source": [
    "input_A = keras.layers.Input(shape=[5], name='wide_input')\n",
    "input_B = keras.layers.Input(shape=[6], name='deep_input')\n",
    "hidden1 = keras.layers.Dense(30, activation='relu')(input_B)\n",
    "hidden2 = keras.layers.Dense(30, activation='relu')(hidden1)\n",
    "concat = keras.layers.Concatenate()([input_A, hidden2])\n",
    "output = keras.layers.Dense(1, name='main_output')(concat)\n",
    "aux_output = keras.layers.Dense(1, name='aux_output')(hidden2)\n",
    "model = keras.Model(inputs=[input_A, input_B], outputs=[output, aux_output])\n",
    "\n",
    "model.compile(\n",
    "    loss=['mse', 'mse'],\n",
    "    loss_weights=[0.9, 0.1],\n",
    "    optimizer=keras.optimizers.SGD(learning_rate=0.02)\n",
    ")\n",
    "\n",
    "history = model.fit(\n",
    "    [X_train_A, X_train_B],\n",
    "    [y_train, y_train],\n",
    "    epochs=20,\n",
    "    validation_data=([X_valid_A, X_valid_B], [y_valid, y_valid])\n",
    ")\n",
    "\n",
    "model.save('my_keras_model.h5')\n",
    "loaded_model = keras.models.load_model('my_keras_model.h5')"
   ]
  },
  {
   "cell_type": "code",
   "execution_count": 67,
   "id": "5fe76381-f4c6-4c6d-b88d-9a626e5d7926",
   "metadata": {
    "tags": []
   },
   "outputs": [
    {
     "data": {
      "text/plain": [
       "True"
      ]
     },
     "execution_count": 67,
     "metadata": {},
     "output_type": "execute_result"
    }
   ],
   "source": [
    "(loaded_model.get_weights()[0] == model.get_weights()[0]).all()"
   ]
  },
  {
   "cell_type": "markdown",
   "id": "c95b5868-c43e-4137-bcb2-0e0778caeb43",
   "metadata": {},
   "source": [
    "## Using Callbacks"
   ]
  },
  {
   "cell_type": "markdown",
   "id": "5724208a-4aa0-45a0-a75b-d31790d573ac",
   "metadata": {},
   "source": [
    "The fit() method accepts a *callbacks* argument that lets you specify a list of objects that Keras will call at the start and end of training, at the start and end of each epoch, and even before and after processing each batch. For example, the ModelCheckpoint callback saves checkpoints on your model at regular intervals during training, by default at the end of each epoch. **Moreover, if you use a validation set during training, you can set save_best_only=True when creating the ModelCheckpoint. In this case, it will only save your model when its performance on the validation set is the best so far. This way, you do not need to worry about training for too long and overfitting the training set: simply restore the last model saved after training, and this will be the best model on the validation set.**"
   ]
  },
  {
   "cell_type": "code",
   "execution_count": 70,
   "id": "773ec518-c363-43ec-8d01-829949b057fb",
   "metadata": {
    "tags": []
   },
   "outputs": [
    {
     "name": "stdout",
     "output_type": "stream",
     "text": [
      "Epoch 1/20\n",
      "363/363 [==============================] - 1s 2ms/step - loss: 0.8640 - main_output_loss: 0.7954 - aux_output_loss: 1.4821 - val_loss: 0.5735 - val_main_output_loss: 0.5268 - val_aux_output_loss: 0.9938\n",
      "Epoch 2/20\n",
      "363/363 [==============================] - 1s 1ms/step - loss: 0.6297 - main_output_loss: 0.5972 - aux_output_loss: 0.9227 - val_loss: 0.5367 - val_main_output_loss: 0.5000 - val_aux_output_loss: 0.8668\n",
      "Epoch 3/20\n",
      "363/363 [==============================] - 1s 2ms/step - loss: 0.4981 - main_output_loss: 0.4694 - aux_output_loss: 0.7567 - val_loss: 0.4971 - val_main_output_loss: 0.4727 - val_aux_output_loss: 0.7170\n",
      "Epoch 4/20\n",
      "363/363 [==============================] - 0s 1ms/step - loss: 0.4930 - main_output_loss: 0.4710 - aux_output_loss: 0.6903 - val_loss: 0.4819 - val_main_output_loss: 0.4627 - val_aux_output_loss: 0.6548\n",
      "Epoch 5/20\n",
      "363/363 [==============================] - 0s 1ms/step - loss: 0.4654 - main_output_loss: 0.4450 - aux_output_loss: 0.6485 - val_loss: 0.4901 - val_main_output_loss: 0.4748 - val_aux_output_loss: 0.6278\n",
      "Epoch 6/20\n",
      "363/363 [==============================] - 0s 1ms/step - loss: 0.4507 - main_output_loss: 0.4312 - aux_output_loss: 0.6258 - val_loss: 0.4587 - val_main_output_loss: 0.4413 - val_aux_output_loss: 0.6152\n",
      "Epoch 7/20\n",
      "363/363 [==============================] - 1s 1ms/step - loss: 0.4415 - main_output_loss: 0.4226 - aux_output_loss: 0.6109 - val_loss: 0.4420 - val_main_output_loss: 0.4250 - val_aux_output_loss: 0.5949\n",
      "Epoch 8/20\n",
      "363/363 [==============================] - 0s 1ms/step - loss: 0.4284 - main_output_loss: 0.4102 - aux_output_loss: 0.5926 - val_loss: 0.4331 - val_main_output_loss: 0.4167 - val_aux_output_loss: 0.5811\n",
      "Epoch 9/20\n",
      "363/363 [==============================] - 1s 2ms/step - loss: 0.4212 - main_output_loss: 0.4035 - aux_output_loss: 0.5810 - val_loss: 0.4338 - val_main_output_loss: 0.4180 - val_aux_output_loss: 0.5753\n",
      "Epoch 10/20\n",
      "363/363 [==============================] - 1s 2ms/step - loss: 0.4112 - main_output_loss: 0.3936 - aux_output_loss: 0.5691 - val_loss: 0.4051 - val_main_output_loss: 0.3891 - val_aux_output_loss: 0.5494\n",
      "Epoch 11/20\n",
      "363/363 [==============================] - 1s 1ms/step - loss: 0.4026 - main_output_loss: 0.3855 - aux_output_loss: 0.5566 - val_loss: 0.4279 - val_main_output_loss: 0.4129 - val_aux_output_loss: 0.5630\n",
      "Epoch 12/20\n",
      "363/363 [==============================] - 1s 2ms/step - loss: 0.4008 - main_output_loss: 0.3846 - aux_output_loss: 0.5463 - val_loss: 0.3974 - val_main_output_loss: 0.3824 - val_aux_output_loss: 0.5319\n",
      "Epoch 13/20\n",
      "363/363 [==============================] - 1s 2ms/step - loss: 0.3965 - main_output_loss: 0.3811 - aux_output_loss: 0.5356 - val_loss: 0.4015 - val_main_output_loss: 0.3889 - val_aux_output_loss: 0.5143\n",
      "Epoch 14/20\n",
      "363/363 [==============================] - 1s 2ms/step - loss: 0.3812 - main_output_loss: 0.3662 - aux_output_loss: 0.5162 - val_loss: 0.3764 - val_main_output_loss: 0.3629 - val_aux_output_loss: 0.4978\n",
      "Epoch 15/20\n",
      "363/363 [==============================] - 1s 2ms/step - loss: 0.3751 - main_output_loss: 0.3608 - aux_output_loss: 0.5041 - val_loss: 0.4706 - val_main_output_loss: 0.4628 - val_aux_output_loss: 0.5407\n",
      "Epoch 16/20\n",
      "363/363 [==============================] - 1s 2ms/step - loss: 0.3732 - main_output_loss: 0.3593 - aux_output_loss: 0.4983 - val_loss: 0.3791 - val_main_output_loss: 0.3675 - val_aux_output_loss: 0.4834\n",
      "Epoch 17/20\n",
      "363/363 [==============================] - 1s 2ms/step - loss: 0.3696 - main_output_loss: 0.3566 - aux_output_loss: 0.4866 - val_loss: 0.3828 - val_main_output_loss: 0.3721 - val_aux_output_loss: 0.4787\n",
      "Epoch 18/20\n",
      "363/363 [==============================] - 1s 2ms/step - loss: 0.3687 - main_output_loss: 0.3566 - aux_output_loss: 0.4778 - val_loss: 0.3861 - val_main_output_loss: 0.3746 - val_aux_output_loss: 0.4890\n",
      "Epoch 19/20\n",
      "363/363 [==============================] - 1s 2ms/step - loss: 0.3676 - main_output_loss: 0.3561 - aux_output_loss: 0.4714 - val_loss: 0.3896 - val_main_output_loss: 0.3809 - val_aux_output_loss: 0.4674\n",
      "Epoch 20/20\n",
      "363/363 [==============================] - 1s 2ms/step - loss: 0.3611 - main_output_loss: 0.3498 - aux_output_loss: 0.4631 - val_loss: 0.3538 - val_main_output_loss: 0.3434 - val_aux_output_loss: 0.4473\n"
     ]
    }
   ],
   "source": [
    "input_A = keras.layers.Input(shape=[5], name='wide_input')\n",
    "input_B = keras.layers.Input(shape=[6], name='deep_input')\n",
    "hidden1 = keras.layers.Dense(30, activation='relu')(input_B)\n",
    "hidden2 = keras.layers.Dense(30, activation='relu')(hidden1)\n",
    "concat = keras.layers.Concatenate()([input_A, hidden2])\n",
    "output = keras.layers.Dense(1, name='main_output')(concat)\n",
    "aux_output = keras.layers.Dense(1, name='aux_output')(hidden2)\n",
    "model = keras.Model(inputs=[input_A, input_B], outputs=[output, aux_output])\n",
    "\n",
    "model.compile(\n",
    "    loss=['mse', 'mse'],\n",
    "    loss_weights=[0.9, 0.1],\n",
    "    optimizer=keras.optimizers.SGD(learning_rate=0.02)\n",
    ")\n",
    "\n",
    "checkpoint_cb = keras.callbacks.ModelCheckpoint(\n",
    "    'my_keras_model.h5',\n",
    "    save_best_only=True\n",
    ")\n",
    "\n",
    "history = model.fit(\n",
    "    [X_train_A, X_train_B],\n",
    "    [y_train, y_train],\n",
    "    epochs=20,\n",
    "    validation_data=([X_valid_A, X_valid_B], [y_valid, y_valid]),\n",
    "    callbacks=[checkpoint_cb]\n",
    ")\n",
    "\n",
    "history = keras.models.load_model('my_keras_model.h5') # roll back to best model."
   ]
  },
  {
   "cell_type": "markdown",
   "id": "b0e10610-8664-4a65-938d-6654dc0bdb78",
   "metadata": {},
   "source": [
    "Another way to implement early stopping is to simply use the EarlyStopping callback. It will interrupt training when it measures no progress on the validation set for a number of epochs (defined by the patience argument), and it will optionally roll back to the best model. The number of epochs can be set to a large value since training will stop automatically when there is no more progress. In this case, there is no need to restore the best model saved because the EarlyStopping callback will keep track of the best weights and restore them for you at the end of training."
   ]
  },
  {
   "cell_type": "code",
   "execution_count": 72,
   "id": "791aad15-00bd-447b-831a-18d37b8074b0",
   "metadata": {
    "tags": []
   },
   "outputs": [
    {
     "name": "stdout",
     "output_type": "stream",
     "text": [
      "Epoch 1/100\n",
      "363/363 [==============================] - 1s 2ms/step - loss: 0.8485 - main_output_loss: 0.7669 - aux_output_loss: 1.5826 - val_loss: 0.6286 - val_main_output_loss: 0.5842 - val_aux_output_loss: 1.0283\n",
      "Epoch 2/100\n",
      "363/363 [==============================] - 1s 2ms/step - loss: 0.5917 - main_output_loss: 0.5542 - aux_output_loss: 0.9295 - val_loss: 0.5580 - val_main_output_loss: 0.5297 - val_aux_output_loss: 0.8128\n",
      "Epoch 3/100\n",
      "363/363 [==============================] - 1s 2ms/step - loss: 0.5115 - main_output_loss: 0.4808 - aux_output_loss: 0.7883 - val_loss: 0.5178 - val_main_output_loss: 0.4939 - val_aux_output_loss: 0.7326\n",
      "Epoch 4/100\n",
      "363/363 [==============================] - 1s 2ms/step - loss: 0.4822 - main_output_loss: 0.4580 - aux_output_loss: 0.7007 - val_loss: 0.5207 - val_main_output_loss: 0.5046 - val_aux_output_loss: 0.6658\n",
      "Epoch 5/100\n",
      "363/363 [==============================] - 1s 2ms/step - loss: 0.4596 - main_output_loss: 0.4383 - aux_output_loss: 0.6508 - val_loss: 0.5021 - val_main_output_loss: 0.4842 - val_aux_output_loss: 0.6633\n",
      "Epoch 6/100\n",
      "363/363 [==============================] - 1s 2ms/step - loss: 0.4419 - main_output_loss: 0.4226 - aux_output_loss: 0.6157 - val_loss: 0.4466 - val_main_output_loss: 0.4280 - val_aux_output_loss: 0.6137\n",
      "Epoch 7/100\n",
      "363/363 [==============================] - 1s 2ms/step - loss: 0.4280 - main_output_loss: 0.4101 - aux_output_loss: 0.5890 - val_loss: 0.4374 - val_main_output_loss: 0.4233 - val_aux_output_loss: 0.5645\n",
      "Epoch 8/100\n",
      "363/363 [==============================] - 1s 3ms/step - loss: 0.4171 - main_output_loss: 0.4010 - aux_output_loss: 0.5622 - val_loss: 0.4326 - val_main_output_loss: 0.4204 - val_aux_output_loss: 0.5418\n",
      "Epoch 9/100\n",
      "363/363 [==============================] - 1s 2ms/step - loss: 0.4102 - main_output_loss: 0.3955 - aux_output_loss: 0.5424 - val_loss: 0.4048 - val_main_output_loss: 0.3907 - val_aux_output_loss: 0.5314\n",
      "Epoch 10/100\n",
      "363/363 [==============================] - 1s 2ms/step - loss: 0.3960 - main_output_loss: 0.3818 - aux_output_loss: 0.5235 - val_loss: 0.3984 - val_main_output_loss: 0.3852 - val_aux_output_loss: 0.5167\n",
      "Epoch 11/100\n",
      "363/363 [==============================] - 1s 2ms/step - loss: 0.3885 - main_output_loss: 0.3754 - aux_output_loss: 0.5069 - val_loss: 0.3942 - val_main_output_loss: 0.3837 - val_aux_output_loss: 0.4886\n",
      "Epoch 12/100\n",
      "363/363 [==============================] - 1s 2ms/step - loss: 0.3824 - main_output_loss: 0.3698 - aux_output_loss: 0.4962 - val_loss: 0.4077 - val_main_output_loss: 0.3978 - val_aux_output_loss: 0.4967\n",
      "Epoch 13/100\n",
      "363/363 [==============================] - 1s 2ms/step - loss: 0.3741 - main_output_loss: 0.3622 - aux_output_loss: 0.4818 - val_loss: 0.4268 - val_main_output_loss: 0.4161 - val_aux_output_loss: 0.5235\n",
      "Epoch 14/100\n",
      "363/363 [==============================] - 1s 2ms/step - loss: 0.3680 - main_output_loss: 0.3565 - aux_output_loss: 0.4707 - val_loss: 0.3821 - val_main_output_loss: 0.3716 - val_aux_output_loss: 0.4772\n",
      "Epoch 15/100\n",
      "363/363 [==============================] - 1s 2ms/step - loss: 0.3705 - main_output_loss: 0.3597 - aux_output_loss: 0.4681 - val_loss: 0.4105 - val_main_output_loss: 0.4006 - val_aux_output_loss: 0.5005\n",
      "Epoch 16/100\n",
      "363/363 [==============================] - 1s 2ms/step - loss: 0.3612 - main_output_loss: 0.3505 - aux_output_loss: 0.4578 - val_loss: 0.3901 - val_main_output_loss: 0.3825 - val_aux_output_loss: 0.4582\n",
      "Epoch 17/100\n",
      "363/363 [==============================] - 1s 2ms/step - loss: 0.3562 - main_output_loss: 0.3458 - aux_output_loss: 0.4495 - val_loss: 0.3734 - val_main_output_loss: 0.3633 - val_aux_output_loss: 0.4643\n",
      "Epoch 18/100\n",
      "363/363 [==============================] - 1s 2ms/step - loss: 0.3532 - main_output_loss: 0.3428 - aux_output_loss: 0.4468 - val_loss: 0.3540 - val_main_output_loss: 0.3451 - val_aux_output_loss: 0.4341\n",
      "Epoch 19/100\n",
      "363/363 [==============================] - 1s 2ms/step - loss: 0.3517 - main_output_loss: 0.3416 - aux_output_loss: 0.4422 - val_loss: 0.3634 - val_main_output_loss: 0.3551 - val_aux_output_loss: 0.4379\n",
      "Epoch 20/100\n",
      "363/363 [==============================] - 1s 2ms/step - loss: 0.3510 - main_output_loss: 0.3411 - aux_output_loss: 0.4399 - val_loss: 0.3547 - val_main_output_loss: 0.3466 - val_aux_output_loss: 0.4277\n",
      "Epoch 21/100\n",
      "363/363 [==============================] - 1s 2ms/step - loss: 0.3514 - main_output_loss: 0.3420 - aux_output_loss: 0.4361 - val_loss: 0.3338 - val_main_output_loss: 0.3256 - val_aux_output_loss: 0.4075\n",
      "Epoch 22/100\n",
      "363/363 [==============================] - 1s 2ms/step - loss: 0.3487 - main_output_loss: 0.3394 - aux_output_loss: 0.4330 - val_loss: 0.3499 - val_main_output_loss: 0.3422 - val_aux_output_loss: 0.4197\n",
      "Epoch 23/100\n",
      "363/363 [==============================] - 1s 2ms/step - loss: 0.3484 - main_output_loss: 0.3391 - aux_output_loss: 0.4322 - val_loss: 0.3793 - val_main_output_loss: 0.3710 - val_aux_output_loss: 0.4534\n",
      "Epoch 24/100\n",
      "363/363 [==============================] - 1s 2ms/step - loss: 0.3469 - main_output_loss: 0.3375 - aux_output_loss: 0.4308 - val_loss: 0.3379 - val_main_output_loss: 0.3303 - val_aux_output_loss: 0.4068\n",
      "Epoch 25/100\n",
      "363/363 [==============================] - 1s 2ms/step - loss: 0.3447 - main_output_loss: 0.3358 - aux_output_loss: 0.4256 - val_loss: 0.3376 - val_main_output_loss: 0.3305 - val_aux_output_loss: 0.4017\n",
      "Epoch 26/100\n",
      "363/363 [==============================] - 1s 2ms/step - loss: 0.3410 - main_output_loss: 0.3319 - aux_output_loss: 0.4221 - val_loss: 0.3334 - val_main_output_loss: 0.3260 - val_aux_output_loss: 0.4001\n",
      "Epoch 27/100\n",
      "363/363 [==============================] - 1s 2ms/step - loss: 0.3398 - main_output_loss: 0.3309 - aux_output_loss: 0.4196 - val_loss: 0.3570 - val_main_output_loss: 0.3521 - val_aux_output_loss: 0.4013\n",
      "Epoch 28/100\n",
      "363/363 [==============================] - 1s 3ms/step - loss: 0.3384 - main_output_loss: 0.3297 - aux_output_loss: 0.4173 - val_loss: 0.3387 - val_main_output_loss: 0.3309 - val_aux_output_loss: 0.4085\n",
      "Epoch 29/100\n",
      "363/363 [==============================] - 1s 3ms/step - loss: 0.3355 - main_output_loss: 0.3270 - aux_output_loss: 0.4128 - val_loss: 0.3578 - val_main_output_loss: 0.3499 - val_aux_output_loss: 0.4286\n",
      "Epoch 30/100\n",
      "363/363 [==============================] - 1s 2ms/step - loss: 0.3334 - main_output_loss: 0.3247 - aux_output_loss: 0.4118 - val_loss: 0.3196 - val_main_output_loss: 0.3124 - val_aux_output_loss: 0.3846\n",
      "Epoch 31/100\n",
      "363/363 [==============================] - 1s 2ms/step - loss: 0.3370 - main_output_loss: 0.3287 - aux_output_loss: 0.4124 - val_loss: 0.3736 - val_main_output_loss: 0.3710 - val_aux_output_loss: 0.3978\n",
      "Epoch 32/100\n",
      "363/363 [==============================] - 1s 3ms/step - loss: 0.3326 - main_output_loss: 0.3243 - aux_output_loss: 0.4077 - val_loss: 0.3441 - val_main_output_loss: 0.3371 - val_aux_output_loss: 0.4066\n",
      "Epoch 33/100\n",
      "363/363 [==============================] - 1s 3ms/step - loss: 0.3314 - main_output_loss: 0.3233 - aux_output_loss: 0.4050 - val_loss: 0.3373 - val_main_output_loss: 0.3300 - val_aux_output_loss: 0.4025\n",
      "Epoch 34/100\n",
      "363/363 [==============================] - 1s 2ms/step - loss: 0.3313 - main_output_loss: 0.3230 - aux_output_loss: 0.4064 - val_loss: 0.3357 - val_main_output_loss: 0.3293 - val_aux_output_loss: 0.3927\n",
      "Epoch 35/100\n",
      "363/363 [==============================] - 1s 2ms/step - loss: 0.3337 - main_output_loss: 0.3257 - aux_output_loss: 0.4061 - val_loss: 0.3994 - val_main_output_loss: 0.3939 - val_aux_output_loss: 0.4491\n",
      "Epoch 36/100\n",
      "363/363 [==============================] - 1s 2ms/step - loss: 0.3263 - main_output_loss: 0.3182 - aux_output_loss: 0.3991 - val_loss: 0.3452 - val_main_output_loss: 0.3379 - val_aux_output_loss: 0.4106\n",
      "Epoch 37/100\n",
      "363/363 [==============================] - 1s 2ms/step - loss: 0.3272 - main_output_loss: 0.3191 - aux_output_loss: 0.4005 - val_loss: 0.3637 - val_main_output_loss: 0.3562 - val_aux_output_loss: 0.4312\n",
      "Epoch 38/100\n",
      "363/363 [==============================] - 1s 2ms/step - loss: 0.3272 - main_output_loss: 0.3195 - aux_output_loss: 0.3970 - val_loss: 0.3458 - val_main_output_loss: 0.3389 - val_aux_output_loss: 0.4073\n",
      "Epoch 39/100\n",
      "363/363 [==============================] - 1s 2ms/step - loss: 0.3239 - main_output_loss: 0.3159 - aux_output_loss: 0.3954 - val_loss: 0.3198 - val_main_output_loss: 0.3128 - val_aux_output_loss: 0.3830\n",
      "Epoch 40/100\n",
      "363/363 [==============================] - 1s 2ms/step - loss: 0.3221 - main_output_loss: 0.3142 - aux_output_loss: 0.3938 - val_loss: 0.3358 - val_main_output_loss: 0.3294 - val_aux_output_loss: 0.3932\n"
     ]
    }
   ],
   "source": [
    "input_A = keras.layers.Input(shape=[5], name='wide_input')\n",
    "input_B = keras.layers.Input(shape=[6], name='deep_input')\n",
    "hidden1 = keras.layers.Dense(30, activation='relu')(input_B)\n",
    "hidden2 = keras.layers.Dense(30, activation='relu')(hidden1)\n",
    "concat = keras.layers.Concatenate()([input_A, hidden2])\n",
    "output = keras.layers.Dense(1, name='main_output')(concat)\n",
    "aux_output = keras.layers.Dense(1, name='aux_output')(hidden2)\n",
    "model = keras.Model(inputs=[input_A, input_B], outputs=[output, aux_output])\n",
    "\n",
    "model.compile(\n",
    "    loss=['mse', 'mse'],\n",
    "    loss_weights=[0.9, 0.1],\n",
    "    optimizer=keras.optimizers.SGD(learning_rate=0.02)\n",
    ")\n",
    "\n",
    "early_stopping_cb = keras.callbacks.EarlyStopping(\n",
    "    patience=10,\n",
    "    restore_best_weights=True\n",
    ")\n",
    "\n",
    "history = model.fit(\n",
    "    [X_train_A, X_train_B],\n",
    "    [y_train, y_train],\n",
    "    epochs=100,\n",
    "    validation_data=([X_valid_A, X_valid_B], [y_valid, y_valid]),\n",
    "    callbacks=[early_stopping_cb]\n",
    ")"
   ]
  },
  {
   "cell_type": "markdown",
   "id": "1b85f324-e3d5-4376-8901-1de1091a2537",
   "metadata": {},
   "source": [
    "If you need extra control, you can easily write your own custom callbacks. As an example of how to do that, the following custom callback will display the ratio between the validation loss and the training loss during training (e.g. detect over-fitting).\n",
    "\n",
    "Callbacks can also be used during evaluation and predictions, should you ever need them. For evaluation, you should implement on on_test_begin(), on_test_end(), on_test_batch_begin(), or on_test_batch_end(). These are called by evaluate().  For prediction you should implement on_predict_begin(), on_predict_end(), on_predict_batch_begin(), or on_predict_batch_end(). These are called by predict()"
   ]
  },
  {
   "cell_type": "code",
   "execution_count": 74,
   "id": "b96140fa-37a0-4f06-a819-bf72bcada0a4",
   "metadata": {
    "tags": []
   },
   "outputs": [],
   "source": [
    "class PrintValTrainRatioCallback(keras.callbacks.Callback):\n",
    "    def on_epoch_end(self, epoch, logs):\n",
    "        print('\\nval/train: {:2f}'.format(logs['val_loss'] / logs['loss']))"
   ]
  },
  {
   "cell_type": "code",
   "execution_count": 75,
   "id": "96dd83c1-441a-423b-b4d2-ce77a78bbdf2",
   "metadata": {
    "tags": []
   },
   "outputs": [
    {
     "name": "stdout",
     "output_type": "stream",
     "text": [
      "Epoch 1/100\n",
      "347/363 [===========================>..] - ETA: 0s - loss: 0.8456 - main_output_loss: 0.7773 - aux_output_loss: 1.4601\n",
      "val/train: 0.673670\n",
      "363/363 [==============================] - 1s 2ms/step - loss: 0.8313 - main_output_loss: 0.7640 - aux_output_loss: 1.4376 - val_loss: 0.5601 - val_main_output_loss: 0.5168 - val_aux_output_loss: 0.9495\n",
      "Epoch 2/100\n",
      "340/363 [===========================>..] - ETA: 0s - loss: 0.5116 - main_output_loss: 0.4739 - aux_output_loss: 0.8510\n",
      "val/train: 0.970587\n",
      "363/363 [==============================] - 1s 2ms/step - loss: 0.5058 - main_output_loss: 0.4686 - aux_output_loss: 0.8403 - val_loss: 0.4909 - val_main_output_loss: 0.4624 - val_aux_output_loss: 0.7474\n",
      "Epoch 3/100\n",
      "346/363 [===========================>..] - ETA: 0s - loss: 0.4844 - main_output_loss: 0.4590 - aux_output_loss: 0.7126\n",
      "val/train: 1.077780\n",
      "363/363 [==============================] - 1s 2ms/step - loss: 0.4853 - main_output_loss: 0.4602 - aux_output_loss: 0.7113 - val_loss: 0.5230 - val_main_output_loss: 0.5067 - val_aux_output_loss: 0.6703\n",
      "Epoch 4/100\n",
      "334/363 [==========================>...] - ETA: 0s - loss: 0.4780 - main_output_loss: 0.4568 - aux_output_loss: 0.6687\n",
      "val/train: 0.988152\n",
      "363/363 [==============================] - 1s 2ms/step - loss: 0.4771 - main_output_loss: 0.4563 - aux_output_loss: 0.6644 - val_loss: 0.4714 - val_main_output_loss: 0.4526 - val_aux_output_loss: 0.6405\n",
      "Epoch 5/100\n",
      "356/363 [============================>.] - ETA: 0s - loss: 0.4449 - main_output_loss: 0.4244 - aux_output_loss: 0.6298\n",
      "val/train: 1.025915\n",
      "363/363 [==============================] - 1s 2ms/step - loss: 0.4460 - main_output_loss: 0.4254 - aux_output_loss: 0.6317 - val_loss: 0.4576 - val_main_output_loss: 0.4380 - val_aux_output_loss: 0.6337\n",
      "Epoch 6/100\n",
      "350/363 [===========================>..] - ETA: 0s - loss: 0.4320 - main_output_loss: 0.4122 - aux_output_loss: 0.6101\n",
      "val/train: 1.009751\n",
      "363/363 [==============================] - 1s 2ms/step - loss: 0.4337 - main_output_loss: 0.4138 - aux_output_loss: 0.6121 - val_loss: 0.4379 - val_main_output_loss: 0.4197 - val_aux_output_loss: 0.6016\n",
      "Epoch 7/100\n",
      "341/363 [===========================>..] - ETA: 0s - loss: 0.4269 - main_output_loss: 0.4090 - aux_output_loss: 0.5879\n",
      "val/train: 1.050067\n",
      "363/363 [==============================] - 1s 2ms/step - loss: 0.4299 - main_output_loss: 0.4118 - aux_output_loss: 0.5928 - val_loss: 0.4514 - val_main_output_loss: 0.4346 - val_aux_output_loss: 0.6025\n",
      "Epoch 8/100\n",
      "342/363 [===========================>..] - ETA: 0s - loss: 0.4213 - main_output_loss: 0.4043 - aux_output_loss: 0.5744\n",
      "val/train: 0.976725\n",
      "363/363 [==============================] - 1s 2ms/step - loss: 0.4209 - main_output_loss: 0.4038 - aux_output_loss: 0.5746 - val_loss: 0.4111 - val_main_output_loss: 0.3954 - val_aux_output_loss: 0.5519\n",
      "Epoch 9/100\n",
      "336/363 [==========================>...] - ETA: 0s - loss: 0.4172 - main_output_loss: 0.4012 - aux_output_loss: 0.5616\n",
      "val/train: 0.983944\n",
      "363/363 [==============================] - 1s 2ms/step - loss: 0.4157 - main_output_loss: 0.3997 - aux_output_loss: 0.5591 - val_loss: 0.4090 - val_main_output_loss: 0.3934 - val_aux_output_loss: 0.5499\n",
      "Epoch 10/100\n",
      "340/363 [===========================>..] - ETA: 0s - loss: 0.4037 - main_output_loss: 0.3877 - aux_output_loss: 0.5470\n",
      "val/train: 0.992040\n",
      "363/363 [==============================] - 1s 2ms/step - loss: 0.4033 - main_output_loss: 0.3876 - aux_output_loss: 0.5446 - val_loss: 0.4001 - val_main_output_loss: 0.3869 - val_aux_output_loss: 0.5192\n",
      "Epoch 11/100\n",
      "346/363 [===========================>..] - ETA: 0s - loss: 0.3979 - main_output_loss: 0.3833 - aux_output_loss: 0.5299\n",
      "val/train: 1.001163\n",
      "363/363 [==============================] - 1s 2ms/step - loss: 0.4001 - main_output_loss: 0.3853 - aux_output_loss: 0.5326 - val_loss: 0.4005 - val_main_output_loss: 0.3878 - val_aux_output_loss: 0.5149\n",
      "Epoch 12/100\n",
      "356/363 [============================>.] - ETA: 0s - loss: 0.3908 - main_output_loss: 0.3764 - aux_output_loss: 0.5209\n",
      "val/train: 1.052635\n",
      "363/363 [==============================] - 1s 2ms/step - loss: 0.3907 - main_output_loss: 0.3764 - aux_output_loss: 0.5199 - val_loss: 0.4113 - val_main_output_loss: 0.3996 - val_aux_output_loss: 0.5167\n",
      "Epoch 13/100\n",
      "341/363 [===========================>..] - ETA: 0s - loss: 0.3798 - main_output_loss: 0.3659 - aux_output_loss: 0.5051\n",
      "val/train: 1.022493\n",
      "363/363 [==============================] - 1s 2ms/step - loss: 0.3816 - main_output_loss: 0.3678 - aux_output_loss: 0.5056 - val_loss: 0.3902 - val_main_output_loss: 0.3789 - val_aux_output_loss: 0.4918\n",
      "Epoch 14/100\n",
      "339/363 [===========================>..] - ETA: 0s - loss: 0.3826 - main_output_loss: 0.3699 - aux_output_loss: 0.4976\n",
      "val/train: 0.962152\n",
      "363/363 [==============================] - 1s 2ms/step - loss: 0.3810 - main_output_loss: 0.3680 - aux_output_loss: 0.4981 - val_loss: 0.3666 - val_main_output_loss: 0.3548 - val_aux_output_loss: 0.4725\n",
      "Epoch 15/100\n",
      "333/363 [==========================>...] - ETA: 0s - loss: 0.3732 - main_output_loss: 0.3601 - aux_output_loss: 0.4915\n",
      "val/train: 1.118275\n",
      "363/363 [==============================] - 1s 2ms/step - loss: 0.3752 - main_output_loss: 0.3623 - aux_output_loss: 0.4907 - val_loss: 0.4195 - val_main_output_loss: 0.4077 - val_aux_output_loss: 0.5260\n",
      "Epoch 16/100\n",
      "343/363 [===========================>..] - ETA: 0s - loss: 0.3801 - main_output_loss: 0.3692 - aux_output_loss: 0.4787\n",
      "val/train: 0.956449\n",
      "363/363 [==============================] - 1s 2ms/step - loss: 0.3806 - main_output_loss: 0.3695 - aux_output_loss: 0.4809 - val_loss: 0.3640 - val_main_output_loss: 0.3528 - val_aux_output_loss: 0.4652\n",
      "Epoch 17/100\n",
      "347/363 [===========================>..] - ETA: 0s - loss: 0.3669 - main_output_loss: 0.3549 - aux_output_loss: 0.4743\n",
      "val/train: 0.975500\n",
      "363/363 [==============================] - 1s 2ms/step - loss: 0.3674 - main_output_loss: 0.3553 - aux_output_loss: 0.4762 - val_loss: 0.3584 - val_main_output_loss: 0.3478 - val_aux_output_loss: 0.4532\n",
      "Epoch 18/100\n",
      "330/363 [==========================>...] - ETA: 0s - loss: 0.3650 - main_output_loss: 0.3535 - aux_output_loss: 0.4686\n",
      "val/train: 1.004706\n",
      "363/363 [==============================] - 1s 2ms/step - loss: 0.3613 - main_output_loss: 0.3498 - aux_output_loss: 0.4652 - val_loss: 0.3630 - val_main_output_loss: 0.3529 - val_aux_output_loss: 0.4542\n",
      "Epoch 19/100\n",
      "350/363 [===========================>..] - ETA: 0s - loss: 0.3624 - main_output_loss: 0.3513 - aux_output_loss: 0.4626\n",
      "val/train: 0.982762\n",
      "363/363 [==============================] - 1s 2ms/step - loss: 0.3605 - main_output_loss: 0.3494 - aux_output_loss: 0.4605 - val_loss: 0.3543 - val_main_output_loss: 0.3448 - val_aux_output_loss: 0.4397\n",
      "Epoch 20/100\n",
      "335/363 [==========================>...] - ETA: 0s - loss: 0.3604 - main_output_loss: 0.3496 - aux_output_loss: 0.4578\n",
      "val/train: 0.988054\n",
      "363/363 [==============================] - 1s 2ms/step - loss: 0.3588 - main_output_loss: 0.3479 - aux_output_loss: 0.4565 - val_loss: 0.3545 - val_main_output_loss: 0.3448 - val_aux_output_loss: 0.4413\n",
      "Epoch 21/100\n",
      "357/363 [============================>.] - ETA: 0s - loss: 0.3610 - main_output_loss: 0.3504 - aux_output_loss: 0.4557\n",
      "val/train: 0.976761\n",
      "363/363 [==============================] - 1s 1ms/step - loss: 0.3604 - main_output_loss: 0.3500 - aux_output_loss: 0.4540 - val_loss: 0.3520 - val_main_output_loss: 0.3428 - val_aux_output_loss: 0.4346\n",
      "Epoch 22/100\n",
      "352/363 [============================>.] - ETA: 0s - loss: 0.3528 - main_output_loss: 0.3427 - aux_output_loss: 0.4436\n",
      "val/train: 1.016491\n",
      "363/363 [==============================] - 1s 2ms/step - loss: 0.3522 - main_output_loss: 0.3421 - aux_output_loss: 0.4430 - val_loss: 0.3580 - val_main_output_loss: 0.3476 - val_aux_output_loss: 0.4515\n",
      "Epoch 23/100\n",
      "330/363 [==========================>...] - ETA: 0s - loss: 0.3494 - main_output_loss: 0.3397 - aux_output_loss: 0.4369\n",
      "val/train: 1.057608\n",
      "363/363 [==============================] - 1s 2ms/step - loss: 0.3509 - main_output_loss: 0.3410 - aux_output_loss: 0.4401 - val_loss: 0.3711 - val_main_output_loss: 0.3620 - val_aux_output_loss: 0.4535\n",
      "Epoch 24/100\n",
      "309/363 [========================>.....] - ETA: 0s - loss: 0.3477 - main_output_loss: 0.3383 - aux_output_loss: 0.4323\n",
      "val/train: 1.006470\n",
      "363/363 [==============================] - 1s 1ms/step - loss: 0.3490 - main_output_loss: 0.3396 - aux_output_loss: 0.4340 - val_loss: 0.3513 - val_main_output_loss: 0.3423 - val_aux_output_loss: 0.4315\n",
      "Epoch 25/100\n",
      "343/363 [===========================>..] - ETA: 0s - loss: 0.3486 - main_output_loss: 0.3394 - aux_output_loss: 0.4312\n",
      "val/train: 1.013444\n",
      "363/363 [==============================] - 1s 2ms/step - loss: 0.3484 - main_output_loss: 0.3392 - aux_output_loss: 0.4304 - val_loss: 0.3530 - val_main_output_loss: 0.3443 - val_aux_output_loss: 0.4317\n",
      "Epoch 26/100\n",
      "325/363 [=========================>....] - ETA: 0s - loss: 0.3483 - main_output_loss: 0.3396 - aux_output_loss: 0.4267\n",
      "val/train: 0.997266\n",
      "363/363 [==============================] - 1s 2ms/step - loss: 0.3472 - main_output_loss: 0.3384 - aux_output_loss: 0.4265 - val_loss: 0.3463 - val_main_output_loss: 0.3374 - val_aux_output_loss: 0.4256\n",
      "Epoch 27/100\n",
      "354/363 [============================>.] - ETA: 0s - loss: 0.3424 - main_output_loss: 0.3337 - aux_output_loss: 0.4202\n",
      "val/train: 1.045774\n",
      "363/363 [==============================] - 1s 2ms/step - loss: 0.3439 - main_output_loss: 0.3351 - aux_output_loss: 0.4228 - val_loss: 0.3596 - val_main_output_loss: 0.3510 - val_aux_output_loss: 0.4376\n",
      "Epoch 28/100\n",
      "358/363 [============================>.] - ETA: 0s - loss: 0.3398 - main_output_loss: 0.3311 - aux_output_loss: 0.4180\n",
      "val/train: 1.054920\n",
      "363/363 [==============================] - 1s 2ms/step - loss: 0.3399 - main_output_loss: 0.3312 - aux_output_loss: 0.4182 - val_loss: 0.3586 - val_main_output_loss: 0.3522 - val_aux_output_loss: 0.4160\n",
      "Epoch 29/100\n",
      "329/363 [==========================>...] - ETA: 0s - loss: 0.3415 - main_output_loss: 0.3330 - aux_output_loss: 0.4183\n",
      "val/train: 0.994224\n",
      "363/363 [==============================] - 1s 2ms/step - loss: 0.3431 - main_output_loss: 0.3344 - aux_output_loss: 0.4216 - val_loss: 0.3411 - val_main_output_loss: 0.3341 - val_aux_output_loss: 0.4048\n",
      "Epoch 30/100\n",
      "344/363 [===========================>..] - ETA: 0s - loss: 0.3404 - main_output_loss: 0.3321 - aux_output_loss: 0.4157\n",
      "val/train: 0.969299\n",
      "363/363 [==============================] - 1s 2ms/step - loss: 0.3398 - main_output_loss: 0.3314 - aux_output_loss: 0.4154 - val_loss: 0.3294 - val_main_output_loss: 0.3227 - val_aux_output_loss: 0.3897\n",
      "Epoch 31/100\n",
      "356/363 [============================>.] - ETA: 0s - loss: 0.3389 - main_output_loss: 0.3305 - aux_output_loss: 0.4144\n",
      "val/train: 1.036444\n",
      "363/363 [==============================] - 1s 2ms/step - loss: 0.3377 - main_output_loss: 0.3294 - aux_output_loss: 0.4122 - val_loss: 0.3500 - val_main_output_loss: 0.3425 - val_aux_output_loss: 0.4174\n",
      "Epoch 32/100\n",
      "329/363 [==========================>...] - ETA: 0s - loss: 0.3339 - main_output_loss: 0.3257 - aux_output_loss: 0.4071\n",
      "val/train: 1.033998\n",
      "363/363 [==============================] - 1s 2ms/step - loss: 0.3380 - main_output_loss: 0.3301 - aux_output_loss: 0.4096 - val_loss: 0.3495 - val_main_output_loss: 0.3425 - val_aux_output_loss: 0.4125\n",
      "Epoch 33/100\n",
      "333/363 [==========================>...] - ETA: 0s - loss: 0.3319 - main_output_loss: 0.3239 - aux_output_loss: 0.4032\n",
      "val/train: 1.024739\n",
      "363/363 [==============================] - 1s 2ms/step - loss: 0.3342 - main_output_loss: 0.3262 - aux_output_loss: 0.4066 - val_loss: 0.3425 - val_main_output_loss: 0.3350 - val_aux_output_loss: 0.4099\n",
      "Epoch 34/100\n",
      "331/363 [==========================>...] - ETA: 0s - loss: 0.3335 - main_output_loss: 0.3254 - aux_output_loss: 0.4063\n",
      "val/train: 1.031100\n",
      "363/363 [==============================] - 1s 2ms/step - loss: 0.3344 - main_output_loss: 0.3263 - aux_output_loss: 0.4069 - val_loss: 0.3448 - val_main_output_loss: 0.3373 - val_aux_output_loss: 0.4118\n",
      "Epoch 35/100\n",
      "361/363 [============================>.] - ETA: 0s - loss: 0.3323 - main_output_loss: 0.3245 - aux_output_loss: 0.4019\n",
      "val/train: 1.005234\n",
      "363/363 [==============================] - 1s 2ms/step - loss: 0.3334 - main_output_loss: 0.3257 - aux_output_loss: 0.4028 - val_loss: 0.3351 - val_main_output_loss: 0.3283 - val_aux_output_loss: 0.3961\n",
      "Epoch 36/100\n",
      "357/363 [============================>.] - ETA: 0s - loss: 0.3297 - main_output_loss: 0.3220 - aux_output_loss: 0.3989\n",
      "val/train: 1.107364\n",
      "363/363 [==============================] - 1s 2ms/step - loss: 0.3301 - main_output_loss: 0.3223 - aux_output_loss: 0.3999 - val_loss: 0.3655 - val_main_output_loss: 0.3606 - val_aux_output_loss: 0.4095\n",
      "Epoch 37/100\n",
      "363/363 [==============================] - ETA: 0s - loss: 0.3328 - main_output_loss: 0.3253 - aux_output_loss: 0.4003\n",
      "val/train: 0.987868\n",
      "363/363 [==============================] - 1s 2ms/step - loss: 0.3328 - main_output_loss: 0.3253 - aux_output_loss: 0.4003 - val_loss: 0.3287 - val_main_output_loss: 0.3220 - val_aux_output_loss: 0.3897\n",
      "Epoch 38/100\n",
      "349/363 [===========================>..] - ETA: 0s - loss: 0.3336 - main_output_loss: 0.3264 - aux_output_loss: 0.3987\n",
      "val/train: 1.031607\n",
      "363/363 [==============================] - 1s 2ms/step - loss: 0.3345 - main_output_loss: 0.3273 - aux_output_loss: 0.4001 - val_loss: 0.3451 - val_main_output_loss: 0.3382 - val_aux_output_loss: 0.4076\n",
      "Epoch 39/100\n",
      "360/363 [============================>.] - ETA: 0s - loss: 0.3288 - main_output_loss: 0.3212 - aux_output_loss: 0.3974\n",
      "val/train: 1.001691\n",
      "363/363 [==============================] - 1s 2ms/step - loss: 0.3297 - main_output_loss: 0.3221 - aux_output_loss: 0.3983 - val_loss: 0.3303 - val_main_output_loss: 0.3237 - val_aux_output_loss: 0.3901\n",
      "Epoch 40/100\n",
      "359/363 [============================>.] - ETA: 0s - loss: 0.3273 - main_output_loss: 0.3197 - aux_output_loss: 0.3960\n",
      "val/train: 0.993756\n",
      "363/363 [==============================] - 1s 2ms/step - loss: 0.3278 - main_output_loss: 0.3202 - aux_output_loss: 0.3963 - val_loss: 0.3258 - val_main_output_loss: 0.3195 - val_aux_output_loss: 0.3823\n",
      "Epoch 41/100\n",
      "339/363 [===========================>..] - ETA: 0s - loss: 0.3282 - main_output_loss: 0.3208 - aux_output_loss: 0.3942\n",
      "val/train: 1.003640\n",
      "363/363 [==============================] - 1s 2ms/step - loss: 0.3279 - main_output_loss: 0.3204 - aux_output_loss: 0.3951 - val_loss: 0.3291 - val_main_output_loss: 0.3226 - val_aux_output_loss: 0.3874\n",
      "Epoch 42/100\n",
      "353/363 [============================>.] - ETA: 0s - loss: 0.3245 - main_output_loss: 0.3168 - aux_output_loss: 0.3930\n",
      "val/train: 1.095823\n",
      "363/363 [==============================] - 1s 2ms/step - loss: 0.3259 - main_output_loss: 0.3184 - aux_output_loss: 0.3934 - val_loss: 0.3572 - val_main_output_loss: 0.3507 - val_aux_output_loss: 0.4155\n",
      "Epoch 43/100\n",
      "358/363 [============================>.] - ETA: 0s - loss: 0.3281 - main_output_loss: 0.3207 - aux_output_loss: 0.3947\n",
      "val/train: 1.003468\n",
      "363/363 [==============================] - 1s 2ms/step - loss: 0.3276 - main_output_loss: 0.3202 - aux_output_loss: 0.3939 - val_loss: 0.3287 - val_main_output_loss: 0.3218 - val_aux_output_loss: 0.3911\n",
      "Epoch 44/100\n",
      "357/363 [============================>.] - ETA: 0s - loss: 0.3264 - main_output_loss: 0.3191 - aux_output_loss: 0.3924\n",
      "val/train: 1.041311\n",
      "363/363 [==============================] - 1s 2ms/step - loss: 0.3255 - main_output_loss: 0.3182 - aux_output_loss: 0.3919 - val_loss: 0.3390 - val_main_output_loss: 0.3324 - val_aux_output_loss: 0.3985\n",
      "Epoch 45/100\n",
      "347/363 [===========================>..] - ETA: 0s - loss: 0.3237 - main_output_loss: 0.3162 - aux_output_loss: 0.3910\n",
      "val/train: 0.999751\n",
      "363/363 [==============================] - 1s 2ms/step - loss: 0.3235 - main_output_loss: 0.3160 - aux_output_loss: 0.3906 - val_loss: 0.3234 - val_main_output_loss: 0.3172 - val_aux_output_loss: 0.3796\n",
      "Epoch 46/100\n",
      "363/363 [==============================] - ETA: 0s - loss: 0.3220 - main_output_loss: 0.3146 - aux_output_loss: 0.3888\n",
      "val/train: 1.129358\n",
      "363/363 [==============================] - 1s 2ms/step - loss: 0.3220 - main_output_loss: 0.3146 - aux_output_loss: 0.3888 - val_loss: 0.3637 - val_main_output_loss: 0.3607 - val_aux_output_loss: 0.3906\n",
      "Epoch 47/100\n",
      "340/363 [===========================>..] - ETA: 0s - loss: 0.3211 - main_output_loss: 0.3138 - aux_output_loss: 0.3869\n",
      "val/train: 1.037236\n",
      "363/363 [==============================] - 1s 2ms/step - loss: 0.3224 - main_output_loss: 0.3151 - aux_output_loss: 0.3887 - val_loss: 0.3344 - val_main_output_loss: 0.3288 - val_aux_output_loss: 0.3854\n",
      "Epoch 48/100\n",
      "346/363 [===========================>..] - ETA: 0s - loss: 0.3231 - main_output_loss: 0.3159 - aux_output_loss: 0.3881\n",
      "val/train: 0.996930\n",
      "363/363 [==============================] - 1s 2ms/step - loss: 0.3228 - main_output_loss: 0.3157 - aux_output_loss: 0.3875 - val_loss: 0.3219 - val_main_output_loss: 0.3152 - val_aux_output_loss: 0.3813\n",
      "Epoch 49/100\n",
      "334/363 [==========================>...] - ETA: 0s - loss: 0.3199 - main_output_loss: 0.3127 - aux_output_loss: 0.3844\n",
      "val/train: 1.023780\n",
      "363/363 [==============================] - 1s 2ms/step - loss: 0.3214 - main_output_loss: 0.3142 - aux_output_loss: 0.3863 - val_loss: 0.3290 - val_main_output_loss: 0.3221 - val_aux_output_loss: 0.3915\n",
      "Epoch 50/100\n",
      "325/363 [=========================>....] - ETA: 0s - loss: 0.3201 - main_output_loss: 0.3130 - aux_output_loss: 0.3832\n",
      "val/train: 1.109544\n",
      "363/363 [==============================] - 1s 2ms/step - loss: 0.3196 - main_output_loss: 0.3125 - aux_output_loss: 0.3827 - val_loss: 0.3546 - val_main_output_loss: 0.3519 - val_aux_output_loss: 0.3789\n",
      "Epoch 51/100\n",
      "331/363 [==========================>...] - ETA: 0s - loss: 0.3241 - main_output_loss: 0.3171 - aux_output_loss: 0.3868\n",
      "val/train: 1.022097\n",
      "363/363 [==============================] - 1s 2ms/step - loss: 0.3210 - main_output_loss: 0.3139 - aux_output_loss: 0.3851 - val_loss: 0.3281 - val_main_output_loss: 0.3222 - val_aux_output_loss: 0.3816\n",
      "Epoch 52/100\n",
      "334/363 [==========================>...] - ETA: 0s - loss: 0.3177 - main_output_loss: 0.3104 - aux_output_loss: 0.3834\n",
      "val/train: 1.061838\n",
      "363/363 [==============================] - 1s 2ms/step - loss: 0.3181 - main_output_loss: 0.3110 - aux_output_loss: 0.3816 - val_loss: 0.3378 - val_main_output_loss: 0.3327 - val_aux_output_loss: 0.3838\n",
      "Epoch 53/100\n",
      "320/363 [=========================>....] - ETA: 0s - loss: 0.3157 - main_output_loss: 0.3085 - aux_output_loss: 0.3798\n",
      "val/train: 1.134755\n",
      "363/363 [==============================] - 1s 2ms/step - loss: 0.3171 - main_output_loss: 0.3100 - aux_output_loss: 0.3808 - val_loss: 0.3598 - val_main_output_loss: 0.3569 - val_aux_output_loss: 0.3858\n",
      "Epoch 54/100\n",
      "331/363 [==========================>...] - ETA: 0s - loss: 0.3182 - main_output_loss: 0.3111 - aux_output_loss: 0.3820\n",
      "val/train: 1.022308\n",
      "363/363 [==============================] - 1s 2ms/step - loss: 0.3194 - main_output_loss: 0.3123 - aux_output_loss: 0.3836 - val_loss: 0.3266 - val_main_output_loss: 0.3209 - val_aux_output_loss: 0.3778\n",
      "Epoch 55/100\n",
      "326/363 [=========================>....] - ETA: 0s - loss: 0.3130 - main_output_loss: 0.3059 - aux_output_loss: 0.3770\n",
      "val/train: 1.032634\n",
      "363/363 [==============================] - 1s 2ms/step - loss: 0.3156 - main_output_loss: 0.3085 - aux_output_loss: 0.3793 - val_loss: 0.3259 - val_main_output_loss: 0.3194 - val_aux_output_loss: 0.3843\n",
      "Epoch 56/100\n",
      "329/363 [==========================>...] - ETA: 0s - loss: 0.3199 - main_output_loss: 0.3127 - aux_output_loss: 0.3850\n",
      "val/train: 1.010560\n",
      "363/363 [==============================] - 1s 2ms/step - loss: 0.3155 - main_output_loss: 0.3083 - aux_output_loss: 0.3798 - val_loss: 0.3188 - val_main_output_loss: 0.3132 - val_aux_output_loss: 0.3697\n",
      "Epoch 57/100\n",
      "357/363 [============================>.] - ETA: 0s - loss: 0.3152 - main_output_loss: 0.3082 - aux_output_loss: 0.3778\n",
      "val/train: 1.007145\n",
      "363/363 [==============================] - 1s 2ms/step - loss: 0.3152 - main_output_loss: 0.3082 - aux_output_loss: 0.3784 - val_loss: 0.3174 - val_main_output_loss: 0.3109 - val_aux_output_loss: 0.3761\n",
      "Epoch 58/100\n",
      "353/363 [============================>.] - ETA: 0s - loss: 0.3144 - main_output_loss: 0.3076 - aux_output_loss: 0.3756\n",
      "val/train: 0.999770\n",
      "363/363 [==============================] - 1s 2ms/step - loss: 0.3135 - main_output_loss: 0.3066 - aux_output_loss: 0.3755 - val_loss: 0.3134 - val_main_output_loss: 0.3074 - val_aux_output_loss: 0.3677\n",
      "Epoch 59/100\n",
      "340/363 [===========================>..] - ETA: 0s - loss: 0.3110 - main_output_loss: 0.3038 - aux_output_loss: 0.3754\n",
      "val/train: 1.006433\n",
      "363/363 [==============================] - 1s 2ms/step - loss: 0.3138 - main_output_loss: 0.3067 - aux_output_loss: 0.3777 - val_loss: 0.3158 - val_main_output_loss: 0.3090 - val_aux_output_loss: 0.3765\n",
      "Epoch 60/100\n",
      "347/363 [===========================>..] - ETA: 0s - loss: 0.3116 - main_output_loss: 0.3044 - aux_output_loss: 0.3761\n",
      "val/train: 1.076266\n",
      "363/363 [==============================] - 1s 2ms/step - loss: 0.3118 - main_output_loss: 0.3046 - aux_output_loss: 0.3762 - val_loss: 0.3356 - val_main_output_loss: 0.3290 - val_aux_output_loss: 0.3946\n",
      "Epoch 61/100\n",
      "335/363 [==========================>...] - ETA: 0s - loss: 0.3125 - main_output_loss: 0.3053 - aux_output_loss: 0.3773\n",
      "val/train: 1.025956\n",
      "363/363 [==============================] - 1s 2ms/step - loss: 0.3106 - main_output_loss: 0.3036 - aux_output_loss: 0.3740 - val_loss: 0.3187 - val_main_output_loss: 0.3124 - val_aux_output_loss: 0.3758\n",
      "Epoch 62/100\n",
      "357/363 [============================>.] - ETA: 0s - loss: 0.3092 - main_output_loss: 0.3023 - aux_output_loss: 0.3715\n",
      "val/train: 1.037314\n",
      "363/363 [==============================] - 1s 2ms/step - loss: 0.3096 - main_output_loss: 0.3026 - aux_output_loss: 0.3720 - val_loss: 0.3211 - val_main_output_loss: 0.3145 - val_aux_output_loss: 0.3809\n",
      "Epoch 63/100\n",
      "327/363 [==========================>...] - ETA: 0s - loss: 0.3097 - main_output_loss: 0.3026 - aux_output_loss: 0.3730\n",
      "val/train: 1.018609\n",
      "363/363 [==============================] - 1s 2ms/step - loss: 0.3109 - main_output_loss: 0.3039 - aux_output_loss: 0.3739 - val_loss: 0.3167 - val_main_output_loss: 0.3107 - val_aux_output_loss: 0.3705\n",
      "Epoch 64/100\n",
      "354/363 [============================>.] - ETA: 0s - loss: 0.3099 - main_output_loss: 0.3031 - aux_output_loss: 0.3707\n",
      "val/train: 0.982900\n",
      "363/363 [==============================] - 1s 2ms/step - loss: 0.3118 - main_output_loss: 0.3050 - aux_output_loss: 0.3733 - val_loss: 0.3065 - val_main_output_loss: 0.3005 - val_aux_output_loss: 0.3603\n",
      "Epoch 65/100\n",
      "337/363 [==========================>...] - ETA: 0s - loss: 0.3031 - main_output_loss: 0.2962 - aux_output_loss: 0.3653\n",
      "val/train: 1.084443\n",
      "363/363 [==============================] - 1s 2ms/step - loss: 0.3086 - main_output_loss: 0.3016 - aux_output_loss: 0.3711 - val_loss: 0.3346 - val_main_output_loss: 0.3281 - val_aux_output_loss: 0.3936\n",
      "Epoch 66/100\n",
      "344/363 [===========================>..] - ETA: 0s - loss: 0.3044 - main_output_loss: 0.2974 - aux_output_loss: 0.3679\n",
      "val/train: 1.003072\n",
      "363/363 [==============================] - 1s 2ms/step - loss: 0.3063 - main_output_loss: 0.2993 - aux_output_loss: 0.3690 - val_loss: 0.3072 - val_main_output_loss: 0.3014 - val_aux_output_loss: 0.3600\n",
      "Epoch 67/100\n",
      "338/363 [==========================>...] - ETA: 0s - loss: 0.3077 - main_output_loss: 0.3010 - aux_output_loss: 0.3680\n",
      "val/train: 1.015950\n",
      "363/363 [==============================] - 1s 1ms/step - loss: 0.3081 - main_output_loss: 0.3014 - aux_output_loss: 0.3687 - val_loss: 0.3130 - val_main_output_loss: 0.3074 - val_aux_output_loss: 0.3630\n",
      "Epoch 68/100\n",
      "353/363 [============================>.] - ETA: 0s - loss: 0.3096 - main_output_loss: 0.3027 - aux_output_loss: 0.3720\n",
      "val/train: 0.991535\n",
      "363/363 [==============================] - 1s 2ms/step - loss: 0.3090 - main_output_loss: 0.3021 - aux_output_loss: 0.3712 - val_loss: 0.3064 - val_main_output_loss: 0.3007 - val_aux_output_loss: 0.3581\n",
      "Epoch 69/100\n",
      "337/363 [==========================>...] - ETA: 0s - loss: 0.3037 - main_output_loss: 0.2967 - aux_output_loss: 0.3669\n",
      "val/train: 1.060772\n",
      "363/363 [==============================] - 1s 2ms/step - loss: 0.3041 - main_output_loss: 0.2972 - aux_output_loss: 0.3658 - val_loss: 0.3226 - val_main_output_loss: 0.3170 - val_aux_output_loss: 0.3732\n",
      "Epoch 70/100\n",
      "352/363 [============================>.] - ETA: 0s - loss: 0.3049 - main_output_loss: 0.2980 - aux_output_loss: 0.3668\n",
      "val/train: 1.004382\n",
      "363/363 [==============================] - 1s 2ms/step - loss: 0.3044 - main_output_loss: 0.2975 - aux_output_loss: 0.3666 - val_loss: 0.3058 - val_main_output_loss: 0.3000 - val_aux_output_loss: 0.3574\n",
      "Epoch 71/100\n",
      "353/363 [============================>.] - ETA: 0s - loss: 0.3085 - main_output_loss: 0.3020 - aux_output_loss: 0.3672\n",
      "val/train: 1.117629\n",
      "363/363 [==============================] - 1s 2ms/step - loss: 0.3081 - main_output_loss: 0.3016 - aux_output_loss: 0.3670 - val_loss: 0.3443 - val_main_output_loss: 0.3387 - val_aux_output_loss: 0.3955\n",
      "Epoch 72/100\n",
      "356/363 [============================>.] - ETA: 0s - loss: 0.3052 - main_output_loss: 0.2984 - aux_output_loss: 0.3665\n",
      "val/train: 1.029346\n",
      "363/363 [==============================] - 1s 2ms/step - loss: 0.3056 - main_output_loss: 0.2987 - aux_output_loss: 0.3670 - val_loss: 0.3145 - val_main_output_loss: 0.3093 - val_aux_output_loss: 0.3615\n",
      "Epoch 73/100\n",
      "349/363 [===========================>..] - ETA: 0s - loss: 0.3057 - main_output_loss: 0.2992 - aux_output_loss: 0.3636\n",
      "val/train: 1.046272\n",
      "363/363 [==============================] - 1s 2ms/step - loss: 0.3055 - main_output_loss: 0.2990 - aux_output_loss: 0.3645 - val_loss: 0.3197 - val_main_output_loss: 0.3145 - val_aux_output_loss: 0.3659\n",
      "Epoch 74/100\n",
      "310/363 [========================>.....] - ETA: 0s - loss: 0.3083 - main_output_loss: 0.3014 - aux_output_loss: 0.3704\n",
      "val/train: 1.046293\n",
      "363/363 [==============================] - 1s 1ms/step - loss: 0.3038 - main_output_loss: 0.2970 - aux_output_loss: 0.3645 - val_loss: 0.3178 - val_main_output_loss: 0.3112 - val_aux_output_loss: 0.3775\n",
      "Epoch 75/100\n",
      "358/363 [============================>.] - ETA: 0s - loss: 0.3057 - main_output_loss: 0.2982 - aux_output_loss: 0.3728\n",
      "val/train: 1.108484\n",
      "363/363 [==============================] - 1s 2ms/step - loss: 0.3052 - main_output_loss: 0.2978 - aux_output_loss: 0.3725 - val_loss: 0.3383 - val_main_output_loss: 0.3333 - val_aux_output_loss: 0.3839\n",
      "Epoch 76/100\n",
      "362/363 [============================>.] - ETA: 0s - loss: 0.3031 - main_output_loss: 0.2964 - aux_output_loss: 0.3639\n",
      "val/train: 1.058672\n",
      "363/363 [==============================] - 1s 2ms/step - loss: 0.3030 - main_output_loss: 0.2962 - aux_output_loss: 0.3637 - val_loss: 0.3207 - val_main_output_loss: 0.3156 - val_aux_output_loss: 0.3674\n",
      "Epoch 77/100\n",
      "357/363 [============================>.] - ETA: 0s - loss: 0.3021 - main_output_loss: 0.2954 - aux_output_loss: 0.3619\n",
      "val/train: 1.083248\n",
      "363/363 [==============================] - 1s 2ms/step - loss: 0.3013 - main_output_loss: 0.2947 - aux_output_loss: 0.3613 - val_loss: 0.3264 - val_main_output_loss: 0.3211 - val_aux_output_loss: 0.3746\n",
      "Epoch 78/100\n",
      "348/363 [===========================>..] - ETA: 0s - loss: 0.3020 - main_output_loss: 0.2955 - aux_output_loss: 0.3606\n",
      "val/train: 1.022109\n",
      "363/363 [==============================] - 1s 2ms/step - loss: 0.3045 - main_output_loss: 0.2980 - aux_output_loss: 0.3634 - val_loss: 0.3112 - val_main_output_loss: 0.3060 - val_aux_output_loss: 0.3584\n",
      "Epoch 79/100\n",
      "333/363 [==========================>...] - ETA: 0s - loss: 0.3008 - main_output_loss: 0.2940 - aux_output_loss: 0.3613\n",
      "val/train: 1.038147\n",
      "363/363 [==============================] - 1s 2ms/step - loss: 0.3016 - main_output_loss: 0.2950 - aux_output_loss: 0.3610 - val_loss: 0.3131 - val_main_output_loss: 0.3068 - val_aux_output_loss: 0.3701\n",
      "Epoch 80/100\n",
      "344/363 [===========================>..] - ETA: 0s - loss: 0.3003 - main_output_loss: 0.2938 - aux_output_loss: 0.3595\n",
      "val/train: 1.059643\n",
      "363/363 [==============================] - 1s 2ms/step - loss: 0.3008 - main_output_loss: 0.2941 - aux_output_loss: 0.3610 - val_loss: 0.3188 - val_main_output_loss: 0.3140 - val_aux_output_loss: 0.3616\n"
     ]
    }
   ],
   "source": [
    "input_A = keras.layers.Input(shape=[5], name='wide_input')\n",
    "input_B = keras.layers.Input(shape=[6], name='deep_input')\n",
    "hidden1 = keras.layers.Dense(30, activation='relu')(input_B)\n",
    "hidden2 = keras.layers.Dense(30, activation='relu')(hidden1)\n",
    "concat = keras.layers.Concatenate()([input_A, hidden2])\n",
    "output = keras.layers.Dense(1, name='main_output')(concat)\n",
    "aux_output = keras.layers.Dense(1, name='aux_output')(hidden2)\n",
    "model = keras.Model(inputs=[input_A, input_B], outputs=[output, aux_output])\n",
    "\n",
    "model.compile(\n",
    "    loss=['mse', 'mse'],\n",
    "    loss_weights=[0.9, 0.1],\n",
    "    optimizer=keras.optimizers.SGD(learning_rate=0.02)\n",
    ")\n",
    "\n",
    "early_stopping_cb = keras.callbacks.EarlyStopping(\n",
    "    patience=10,\n",
    "    restore_best_weights=True\n",
    ")\n",
    "\n",
    "custom_cb = PrintValTrainRatioCallback()\n",
    "\n",
    "history = model.fit(\n",
    "    [X_train_A, X_train_B],\n",
    "    [y_train, y_train],\n",
    "    epochs=100,\n",
    "    validation_data=([X_valid_A, X_valid_B], [y_valid, y_valid]),\n",
    "    callbacks=[early_stopping_cb, custom_cb]\n",
    ")"
   ]
  },
  {
   "cell_type": "markdown",
   "id": "a85495a8-9cc8-4921-b9cc-0902db600e0e",
   "metadata": {},
   "source": [
    "## Using TensorBoard for Visualization"
   ]
  },
  {
   "cell_type": "markdown",
   "id": "931c64cf-a784-43cd-a9c0-fea099b73d51",
   "metadata": {},
   "source": [
    "TensorBoard is a great interactive visualization tool that you can use to view the learning curves during training, compare learning curves between multiple runs, visualize the computation graph, analyze training statistics, view images generated by your model, visualize complex multidimensional data projected down to 3D and automatically clustered for you, and more. This tool is installed automatically when you install TensorFlow.\n",
    "\n",
    "To use it, you must modify your program so that it outputs the data you want to visualize to special binary log files called *event files*. Each binary data record is called a *summary*. This allows you to visualize live data (with a short delay). In general, you want to point the TensorBoard server to a root log directory and configure your program so that it writes to a different subdirectory every time it runs."
   ]
  },
  {
   "cell_type": "code",
   "execution_count": 78,
   "id": "7ae95590-d731-4e6e-9fb0-37f5a03430c4",
   "metadata": {
    "tags": []
   },
   "outputs": [
    {
     "name": "stdout",
     "output_type": "stream",
     "text": [
      "Epoch 1/100\n",
      "363/363 [==============================] - 1s 2ms/step - loss: 0.7270 - main_output_loss: 0.6576 - aux_output_loss: 1.3512 - val_loss: 0.5457 - val_main_output_loss: 0.5118 - val_aux_output_loss: 0.8508\n",
      "Epoch 2/100\n",
      "363/363 [==============================] - 1s 2ms/step - loss: 0.5183 - main_output_loss: 0.4883 - aux_output_loss: 0.7887 - val_loss: 0.5184 - val_main_output_loss: 0.4973 - val_aux_output_loss: 0.7082\n",
      "Epoch 3/100\n",
      "363/363 [==============================] - 1s 2ms/step - loss: 0.4791 - main_output_loss: 0.4562 - aux_output_loss: 0.6853 - val_loss: 0.4971 - val_main_output_loss: 0.4802 - val_aux_output_loss: 0.6498\n",
      "Epoch 4/100\n",
      "363/363 [==============================] - 1s 2ms/step - loss: 0.4612 - main_output_loss: 0.4415 - aux_output_loss: 0.6384 - val_loss: 0.4804 - val_main_output_loss: 0.4651 - val_aux_output_loss: 0.6182\n",
      "Epoch 5/100\n",
      "363/363 [==============================] - 1s 2ms/step - loss: 0.4497 - main_output_loss: 0.4325 - aux_output_loss: 0.6048 - val_loss: 0.4578 - val_main_output_loss: 0.4436 - val_aux_output_loss: 0.5850\n",
      "Epoch 6/100\n",
      "363/363 [==============================] - 1s 2ms/step - loss: 0.4320 - main_output_loss: 0.4157 - aux_output_loss: 0.5789 - val_loss: 0.4347 - val_main_output_loss: 0.4200 - val_aux_output_loss: 0.5678\n",
      "Epoch 7/100\n",
      "363/363 [==============================] - 1s 2ms/step - loss: 0.4206 - main_output_loss: 0.4051 - aux_output_loss: 0.5601 - val_loss: 0.4261 - val_main_output_loss: 0.4128 - val_aux_output_loss: 0.5454\n",
      "Epoch 8/100\n",
      "363/363 [==============================] - 1s 2ms/step - loss: 0.4143 - main_output_loss: 0.4004 - aux_output_loss: 0.5397 - val_loss: 0.4029 - val_main_output_loss: 0.3899 - val_aux_output_loss: 0.5193\n",
      "Epoch 9/100\n",
      "363/363 [==============================] - 1s 2ms/step - loss: 0.3977 - main_output_loss: 0.3839 - aux_output_loss: 0.5216 - val_loss: 0.3934 - val_main_output_loss: 0.3814 - val_aux_output_loss: 0.5019\n",
      "Epoch 10/100\n",
      "363/363 [==============================] - 1s 2ms/step - loss: 0.3992 - main_output_loss: 0.3868 - aux_output_loss: 0.5105 - val_loss: 0.3836 - val_main_output_loss: 0.3720 - val_aux_output_loss: 0.4878\n",
      "Epoch 11/100\n",
      "363/363 [==============================] - 1s 2ms/step - loss: 0.3853 - main_output_loss: 0.3731 - aux_output_loss: 0.4949 - val_loss: 0.3896 - val_main_output_loss: 0.3799 - val_aux_output_loss: 0.4770\n",
      "Epoch 12/100\n",
      "363/363 [==============================] - 1s 2ms/step - loss: 0.3789 - main_output_loss: 0.3677 - aux_output_loss: 0.4796 - val_loss: 0.3889 - val_main_output_loss: 0.3796 - val_aux_output_loss: 0.4729\n",
      "Epoch 13/100\n",
      "363/363 [==============================] - 1s 2ms/step - loss: 0.3747 - main_output_loss: 0.3640 - aux_output_loss: 0.4706 - val_loss: 0.3825 - val_main_output_loss: 0.3724 - val_aux_output_loss: 0.4736\n",
      "Epoch 14/100\n",
      "363/363 [==============================] - 1s 2ms/step - loss: 0.3671 - main_output_loss: 0.3566 - aux_output_loss: 0.4621 - val_loss: 0.3631 - val_main_output_loss: 0.3534 - val_aux_output_loss: 0.4498\n",
      "Epoch 15/100\n",
      "363/363 [==============================] - 1s 2ms/step - loss: 0.3617 - main_output_loss: 0.3515 - aux_output_loss: 0.4540 - val_loss: 0.3560 - val_main_output_loss: 0.3466 - val_aux_output_loss: 0.4400\n",
      "Epoch 16/100\n",
      "363/363 [==============================] - 1s 2ms/step - loss: 0.3571 - main_output_loss: 0.3472 - aux_output_loss: 0.4455 - val_loss: 0.3475 - val_main_output_loss: 0.3386 - val_aux_output_loss: 0.4277\n",
      "Epoch 17/100\n",
      "363/363 [==============================] - 1s 2ms/step - loss: 0.3529 - main_output_loss: 0.3432 - aux_output_loss: 0.4401 - val_loss: 0.4127 - val_main_output_loss: 0.4071 - val_aux_output_loss: 0.4634\n",
      "Epoch 18/100\n",
      "363/363 [==============================] - 1s 2ms/step - loss: 0.3540 - main_output_loss: 0.3450 - aux_output_loss: 0.4349 - val_loss: 0.4229 - val_main_output_loss: 0.4155 - val_aux_output_loss: 0.4893\n",
      "Epoch 19/100\n",
      "363/363 [==============================] - 1s 2ms/step - loss: 0.3510 - main_output_loss: 0.3421 - aux_output_loss: 0.4308 - val_loss: 0.4117 - val_main_output_loss: 0.4033 - val_aux_output_loss: 0.4864\n",
      "Epoch 20/100\n",
      "363/363 [==============================] - 1s 2ms/step - loss: 0.3515 - main_output_loss: 0.3432 - aux_output_loss: 0.4264 - val_loss: 0.3490 - val_main_output_loss: 0.3432 - val_aux_output_loss: 0.4011\n",
      "Epoch 21/100\n",
      "363/363 [==============================] - 1s 2ms/step - loss: 0.3486 - main_output_loss: 0.3399 - aux_output_loss: 0.4267 - val_loss: 0.3438 - val_main_output_loss: 0.3363 - val_aux_output_loss: 0.4107\n",
      "Epoch 22/100\n",
      "363/363 [==============================] - 1s 2ms/step - loss: 0.3437 - main_output_loss: 0.3351 - aux_output_loss: 0.4206 - val_loss: 0.3439 - val_main_output_loss: 0.3361 - val_aux_output_loss: 0.4141\n",
      "Epoch 23/100\n",
      "363/363 [==============================] - 1s 2ms/step - loss: 0.3469 - main_output_loss: 0.3387 - aux_output_loss: 0.4202 - val_loss: 0.3354 - val_main_output_loss: 0.3283 - val_aux_output_loss: 0.3997\n",
      "Epoch 24/100\n",
      "363/363 [==============================] - 1s 2ms/step - loss: 0.3470 - main_output_loss: 0.3394 - aux_output_loss: 0.4159 - val_loss: 0.3497 - val_main_output_loss: 0.3428 - val_aux_output_loss: 0.4111\n",
      "Epoch 25/100\n",
      "363/363 [==============================] - 1s 2ms/step - loss: 0.3407 - main_output_loss: 0.3328 - aux_output_loss: 0.4114 - val_loss: 0.3436 - val_main_output_loss: 0.3373 - val_aux_output_loss: 0.4005\n",
      "Epoch 26/100\n",
      "363/363 [==============================] - 1s 2ms/step - loss: 0.3392 - main_output_loss: 0.3313 - aux_output_loss: 0.4101 - val_loss: 0.3335 - val_main_output_loss: 0.3261 - val_aux_output_loss: 0.4000\n",
      "Epoch 27/100\n",
      "363/363 [==============================] - 1s 2ms/step - loss: 0.3356 - main_output_loss: 0.3279 - aux_output_loss: 0.4047 - val_loss: 0.3256 - val_main_output_loss: 0.3186 - val_aux_output_loss: 0.3887\n",
      "Epoch 28/100\n",
      "363/363 [==============================] - 1s 2ms/step - loss: 0.3336 - main_output_loss: 0.3258 - aux_output_loss: 0.4036 - val_loss: 0.4185 - val_main_output_loss: 0.4108 - val_aux_output_loss: 0.4881\n",
      "Epoch 29/100\n",
      "363/363 [==============================] - 1s 2ms/step - loss: 0.3333 - main_output_loss: 0.3259 - aux_output_loss: 0.4002 - val_loss: 0.3521 - val_main_output_loss: 0.3456 - val_aux_output_loss: 0.4100\n",
      "Epoch 30/100\n",
      "363/363 [==============================] - 1s 2ms/step - loss: 0.3355 - main_output_loss: 0.3284 - aux_output_loss: 0.3997 - val_loss: 0.3227 - val_main_output_loss: 0.3164 - val_aux_output_loss: 0.3798\n",
      "Epoch 31/100\n",
      "363/363 [==============================] - 1s 2ms/step - loss: 0.3307 - main_output_loss: 0.3233 - aux_output_loss: 0.3971 - val_loss: 0.3277 - val_main_output_loss: 0.3212 - val_aux_output_loss: 0.3861\n",
      "Epoch 32/100\n",
      "363/363 [==============================] - 1s 2ms/step - loss: 0.3335 - main_output_loss: 0.3262 - aux_output_loss: 0.3997 - val_loss: 0.3363 - val_main_output_loss: 0.3299 - val_aux_output_loss: 0.3934\n",
      "Epoch 33/100\n",
      "363/363 [==============================] - 1s 2ms/step - loss: 0.3300 - main_output_loss: 0.3227 - aux_output_loss: 0.3960 - val_loss: 0.3334 - val_main_output_loss: 0.3276 - val_aux_output_loss: 0.3861\n",
      "Epoch 34/100\n",
      "363/363 [==============================] - 1s 2ms/step - loss: 0.3309 - main_output_loss: 0.3241 - aux_output_loss: 0.3929 - val_loss: 0.3579 - val_main_output_loss: 0.3516 - val_aux_output_loss: 0.4144\n",
      "Epoch 35/100\n",
      "363/363 [==============================] - 1s 2ms/step - loss: 0.3278 - main_output_loss: 0.3208 - aux_output_loss: 0.3902 - val_loss: 0.3213 - val_main_output_loss: 0.3151 - val_aux_output_loss: 0.3765\n",
      "Epoch 36/100\n",
      "363/363 [==============================] - 1s 2ms/step - loss: 0.3272 - main_output_loss: 0.3200 - aux_output_loss: 0.3921 - val_loss: 0.3967 - val_main_output_loss: 0.3912 - val_aux_output_loss: 0.4469\n",
      "Epoch 37/100\n",
      "363/363 [==============================] - 1s 2ms/step - loss: 0.3268 - main_output_loss: 0.3197 - aux_output_loss: 0.3905 - val_loss: 0.3372 - val_main_output_loss: 0.3300 - val_aux_output_loss: 0.4024\n",
      "Epoch 38/100\n",
      "363/363 [==============================] - 1s 2ms/step - loss: 0.3249 - main_output_loss: 0.3179 - aux_output_loss: 0.3881 - val_loss: 0.3238 - val_main_output_loss: 0.3174 - val_aux_output_loss: 0.3806\n",
      "Epoch 39/100\n",
      "363/363 [==============================] - 1s 2ms/step - loss: 0.3253 - main_output_loss: 0.3182 - aux_output_loss: 0.3891 - val_loss: 0.3167 - val_main_output_loss: 0.3104 - val_aux_output_loss: 0.3733\n",
      "Epoch 40/100\n",
      "363/363 [==============================] - 1s 2ms/step - loss: 0.3227 - main_output_loss: 0.3157 - aux_output_loss: 0.3855 - val_loss: 0.3333 - val_main_output_loss: 0.3270 - val_aux_output_loss: 0.3900\n",
      "Epoch 41/100\n",
      "363/363 [==============================] - 1s 2ms/step - loss: 0.3212 - main_output_loss: 0.3143 - aux_output_loss: 0.3829 - val_loss: 0.3268 - val_main_output_loss: 0.3205 - val_aux_output_loss: 0.3833\n",
      "Epoch 42/100\n",
      "363/363 [==============================] - 1s 2ms/step - loss: 0.3201 - main_output_loss: 0.3132 - aux_output_loss: 0.3829 - val_loss: 0.3323 - val_main_output_loss: 0.3262 - val_aux_output_loss: 0.3879\n",
      "Epoch 43/100\n",
      "363/363 [==============================] - 1s 2ms/step - loss: 0.3230 - main_output_loss: 0.3162 - aux_output_loss: 0.3841 - val_loss: 0.3552 - val_main_output_loss: 0.3496 - val_aux_output_loss: 0.4061\n",
      "Epoch 44/100\n",
      "363/363 [==============================] - 1s 2ms/step - loss: 0.3192 - main_output_loss: 0.3124 - aux_output_loss: 0.3805 - val_loss: 0.3184 - val_main_output_loss: 0.3122 - val_aux_output_loss: 0.3736\n",
      "Epoch 45/100\n",
      "363/363 [==============================] - 1s 2ms/step - loss: 0.3233 - main_output_loss: 0.3166 - aux_output_loss: 0.3839 - val_loss: 0.3169 - val_main_output_loss: 0.3106 - val_aux_output_loss: 0.3733\n",
      "Epoch 46/100\n",
      "363/363 [==============================] - 1s 2ms/step - loss: 0.3182 - main_output_loss: 0.3114 - aux_output_loss: 0.3790 - val_loss: 0.3114 - val_main_output_loss: 0.3056 - val_aux_output_loss: 0.3636\n",
      "Epoch 47/100\n",
      "363/363 [==============================] - 1s 2ms/step - loss: 0.3185 - main_output_loss: 0.3118 - aux_output_loss: 0.3782 - val_loss: 0.3251 - val_main_output_loss: 0.3189 - val_aux_output_loss: 0.3800\n",
      "Epoch 48/100\n",
      "363/363 [==============================] - 1s 2ms/step - loss: 0.3193 - main_output_loss: 0.3122 - aux_output_loss: 0.3833 - val_loss: 0.3195 - val_main_output_loss: 0.3139 - val_aux_output_loss: 0.3706\n",
      "Epoch 49/100\n",
      "363/363 [==============================] - 1s 2ms/step - loss: 0.3169 - main_output_loss: 0.3102 - aux_output_loss: 0.3774 - val_loss: 0.3373 - val_main_output_loss: 0.3307 - val_aux_output_loss: 0.3967\n",
      "Epoch 50/100\n",
      "363/363 [==============================] - 1s 2ms/step - loss: 0.3162 - main_output_loss: 0.3096 - aux_output_loss: 0.3762 - val_loss: 0.3151 - val_main_output_loss: 0.3095 - val_aux_output_loss: 0.3652\n",
      "Epoch 51/100\n",
      "363/363 [==============================] - 1s 2ms/step - loss: 0.3163 - main_output_loss: 0.3096 - aux_output_loss: 0.3767 - val_loss: 0.3401 - val_main_output_loss: 0.3336 - val_aux_output_loss: 0.3990\n",
      "Epoch 52/100\n",
      "363/363 [==============================] - 1s 2ms/step - loss: 0.3155 - main_output_loss: 0.3090 - aux_output_loss: 0.3746 - val_loss: 0.3188 - val_main_output_loss: 0.3128 - val_aux_output_loss: 0.3729\n",
      "Epoch 53/100\n",
      "363/363 [==============================] - 1s 2ms/step - loss: 0.3214 - main_output_loss: 0.3152 - aux_output_loss: 0.3775 - val_loss: 0.3171 - val_main_output_loss: 0.3119 - val_aux_output_loss: 0.3645\n",
      "Epoch 54/100\n",
      "363/363 [==============================] - 1s 2ms/step - loss: 0.3224 - main_output_loss: 0.3170 - aux_output_loss: 0.3716 - val_loss: 0.3135 - val_main_output_loss: 0.3078 - val_aux_output_loss: 0.3649\n",
      "Epoch 55/100\n",
      "363/363 [==============================] - 1s 2ms/step - loss: 0.3143 - main_output_loss: 0.3078 - aux_output_loss: 0.3721 - val_loss: 0.3089 - val_main_output_loss: 0.3032 - val_aux_output_loss: 0.3595\n",
      "Epoch 56/100\n",
      "363/363 [==============================] - 1s 2ms/step - loss: 0.3135 - main_output_loss: 0.3070 - aux_output_loss: 0.3716 - val_loss: 0.3162 - val_main_output_loss: 0.3104 - val_aux_output_loss: 0.3684\n",
      "Epoch 57/100\n",
      "363/363 [==============================] - 1s 2ms/step - loss: 0.3101 - main_output_loss: 0.3035 - aux_output_loss: 0.3696 - val_loss: 0.3138 - val_main_output_loss: 0.3085 - val_aux_output_loss: 0.3619\n",
      "Epoch 58/100\n",
      "363/363 [==============================] - 1s 2ms/step - loss: 0.3137 - main_output_loss: 0.3074 - aux_output_loss: 0.3706 - val_loss: 0.3181 - val_main_output_loss: 0.3125 - val_aux_output_loss: 0.3677\n",
      "Epoch 59/100\n",
      "363/363 [==============================] - 1s 2ms/step - loss: 0.3120 - main_output_loss: 0.3054 - aux_output_loss: 0.3706 - val_loss: 0.3341 - val_main_output_loss: 0.3277 - val_aux_output_loss: 0.3911\n",
      "Epoch 60/100\n",
      "363/363 [==============================] - 1s 2ms/step - loss: 0.3105 - main_output_loss: 0.3040 - aux_output_loss: 0.3693 - val_loss: 0.3296 - val_main_output_loss: 0.3245 - val_aux_output_loss: 0.3756\n",
      "Epoch 61/100\n",
      "363/363 [==============================] - 1s 2ms/step - loss: 0.3108 - main_output_loss: 0.3046 - aux_output_loss: 0.3671 - val_loss: 0.3443 - val_main_output_loss: 0.3390 - val_aux_output_loss: 0.3918\n",
      "Epoch 62/100\n",
      "363/363 [==============================] - 1s 2ms/step - loss: 0.3080 - main_output_loss: 0.3017 - aux_output_loss: 0.3643 - val_loss: 0.3332 - val_main_output_loss: 0.3276 - val_aux_output_loss: 0.3834\n",
      "Epoch 63/100\n",
      "363/363 [==============================] - 1s 2ms/step - loss: 0.3098 - main_output_loss: 0.3030 - aux_output_loss: 0.3711 - val_loss: 0.3217 - val_main_output_loss: 0.3155 - val_aux_output_loss: 0.3781\n",
      "Epoch 64/100\n",
      "363/363 [==============================] - 1s 2ms/step - loss: 0.3126 - main_output_loss: 0.3065 - aux_output_loss: 0.3676 - val_loss: 0.3050 - val_main_output_loss: 0.2990 - val_aux_output_loss: 0.3581\n",
      "Epoch 65/100\n",
      "363/363 [==============================] - 1s 2ms/step - loss: 0.3055 - main_output_loss: 0.2993 - aux_output_loss: 0.3615 - val_loss: 0.3144 - val_main_output_loss: 0.3085 - val_aux_output_loss: 0.3675\n",
      "Epoch 66/100\n",
      "363/363 [==============================] - 1s 2ms/step - loss: 0.3060 - main_output_loss: 0.2994 - aux_output_loss: 0.3652 - val_loss: 0.3136 - val_main_output_loss: 0.3083 - val_aux_output_loss: 0.3612\n",
      "Epoch 67/100\n",
      "363/363 [==============================] - 1s 2ms/step - loss: 0.3078 - main_output_loss: 0.3013 - aux_output_loss: 0.3668 - val_loss: 0.3224 - val_main_output_loss: 0.3170 - val_aux_output_loss: 0.3706\n",
      "Epoch 68/100\n",
      "363/363 [==============================] - 1s 2ms/step - loss: 0.3050 - main_output_loss: 0.2984 - aux_output_loss: 0.3641 - val_loss: 0.3132 - val_main_output_loss: 0.3076 - val_aux_output_loss: 0.3631\n",
      "Epoch 69/100\n",
      "363/363 [==============================] - 1s 2ms/step - loss: 0.3071 - main_output_loss: 0.3007 - aux_output_loss: 0.3649 - val_loss: 0.3210 - val_main_output_loss: 0.3156 - val_aux_output_loss: 0.3696\n",
      "Epoch 70/100\n",
      "363/363 [==============================] - 1s 2ms/step - loss: 0.3062 - main_output_loss: 0.2997 - aux_output_loss: 0.3641 - val_loss: 0.3077 - val_main_output_loss: 0.3020 - val_aux_output_loss: 0.3588\n",
      "Epoch 71/100\n",
      "363/363 [==============================] - 1s 2ms/step - loss: 0.3055 - main_output_loss: 0.2991 - aux_output_loss: 0.3628 - val_loss: 0.3053 - val_main_output_loss: 0.2997 - val_aux_output_loss: 0.3559\n",
      "Epoch 72/100\n",
      "363/363 [==============================] - 1s 2ms/step - loss: 0.3040 - main_output_loss: 0.2977 - aux_output_loss: 0.3609 - val_loss: 0.3252 - val_main_output_loss: 0.3209 - val_aux_output_loss: 0.3637\n",
      "Epoch 73/100\n",
      "363/363 [==============================] - 1s 2ms/step - loss: 0.3051 - main_output_loss: 0.2988 - aux_output_loss: 0.3618 - val_loss: 0.3035 - val_main_output_loss: 0.2976 - val_aux_output_loss: 0.3567\n",
      "Epoch 74/100\n",
      "363/363 [==============================] - 1s 2ms/step - loss: 0.3025 - main_output_loss: 0.2961 - aux_output_loss: 0.3603 - val_loss: 0.3051 - val_main_output_loss: 0.2996 - val_aux_output_loss: 0.3553\n",
      "Epoch 75/100\n",
      "363/363 [==============================] - 1s 2ms/step - loss: 0.3034 - main_output_loss: 0.2970 - aux_output_loss: 0.3605 - val_loss: 0.3081 - val_main_output_loss: 0.3027 - val_aux_output_loss: 0.3566\n",
      "Epoch 76/100\n",
      "363/363 [==============================] - 1s 2ms/step - loss: 0.3028 - main_output_loss: 0.2966 - aux_output_loss: 0.3588 - val_loss: 0.3250 - val_main_output_loss: 0.3193 - val_aux_output_loss: 0.3759\n",
      "Epoch 77/100\n",
      "363/363 [==============================] - 1s 2ms/step - loss: 0.3033 - main_output_loss: 0.2970 - aux_output_loss: 0.3601 - val_loss: 0.3077 - val_main_output_loss: 0.3020 - val_aux_output_loss: 0.3590\n",
      "Epoch 78/100\n",
      "363/363 [==============================] - 1s 2ms/step - loss: 0.3024 - main_output_loss: 0.2961 - aux_output_loss: 0.3588 - val_loss: 0.3278 - val_main_output_loss: 0.3223 - val_aux_output_loss: 0.3766\n",
      "Epoch 79/100\n",
      "363/363 [==============================] - 1s 2ms/step - loss: 0.3008 - main_output_loss: 0.2946 - aux_output_loss: 0.3574 - val_loss: 0.3090 - val_main_output_loss: 0.3036 - val_aux_output_loss: 0.3582\n",
      "Epoch 80/100\n",
      "363/363 [==============================] - 1s 2ms/step - loss: 0.3024 - main_output_loss: 0.2959 - aux_output_loss: 0.3606 - val_loss: 0.3014 - val_main_output_loss: 0.2954 - val_aux_output_loss: 0.3553\n",
      "Epoch 81/100\n",
      "363/363 [==============================] - 1s 2ms/step - loss: 0.3002 - main_output_loss: 0.2939 - aux_output_loss: 0.3570 - val_loss: 0.3040 - val_main_output_loss: 0.2983 - val_aux_output_loss: 0.3557\n",
      "Epoch 82/100\n",
      "363/363 [==============================] - 1s 2ms/step - loss: 0.2980 - main_output_loss: 0.2918 - aux_output_loss: 0.3539 - val_loss: 0.2965 - val_main_output_loss: 0.2908 - val_aux_output_loss: 0.3479\n",
      "Epoch 83/100\n",
      "363/363 [==============================] - 1s 2ms/step - loss: 0.2987 - main_output_loss: 0.2924 - aux_output_loss: 0.3552 - val_loss: 0.2993 - val_main_output_loss: 0.2941 - val_aux_output_loss: 0.3458\n",
      "Epoch 84/100\n",
      "363/363 [==============================] - 1s 2ms/step - loss: 0.3002 - main_output_loss: 0.2940 - aux_output_loss: 0.3557 - val_loss: 0.3026 - val_main_output_loss: 0.2972 - val_aux_output_loss: 0.3512\n",
      "Epoch 85/100\n",
      "363/363 [==============================] - 1s 2ms/step - loss: 0.3001 - main_output_loss: 0.2938 - aux_output_loss: 0.3567 - val_loss: 0.3076 - val_main_output_loss: 0.3019 - val_aux_output_loss: 0.3585\n",
      "Epoch 86/100\n",
      "363/363 [==============================] - 1s 2ms/step - loss: 0.2979 - main_output_loss: 0.2917 - aux_output_loss: 0.3535 - val_loss: 0.3028 - val_main_output_loss: 0.2969 - val_aux_output_loss: 0.3559\n",
      "Epoch 87/100\n",
      "363/363 [==============================] - 1s 2ms/step - loss: 0.2962 - main_output_loss: 0.2902 - aux_output_loss: 0.3508 - val_loss: 0.2976 - val_main_output_loss: 0.2918 - val_aux_output_loss: 0.3498\n",
      "Epoch 88/100\n",
      "363/363 [==============================] - 1s 2ms/step - loss: 0.2978 - main_output_loss: 0.2917 - aux_output_loss: 0.3536 - val_loss: 0.3188 - val_main_output_loss: 0.3136 - val_aux_output_loss: 0.3655\n",
      "Epoch 89/100\n",
      "363/363 [==============================] - 1s 2ms/step - loss: 0.2962 - main_output_loss: 0.2900 - aux_output_loss: 0.3518 - val_loss: 0.3047 - val_main_output_loss: 0.2989 - val_aux_output_loss: 0.3569\n",
      "Epoch 90/100\n",
      "363/363 [==============================] - 1s 2ms/step - loss: 0.3018 - main_output_loss: 0.2954 - aux_output_loss: 0.3593 - val_loss: 0.3003 - val_main_output_loss: 0.2939 - val_aux_output_loss: 0.3579\n",
      "Epoch 91/100\n",
      "363/363 [==============================] - 1s 2ms/step - loss: 0.2981 - main_output_loss: 0.2915 - aux_output_loss: 0.3573 - val_loss: 0.3143 - val_main_output_loss: 0.3109 - val_aux_output_loss: 0.3450\n",
      "Epoch 92/100\n",
      "363/363 [==============================] - 1s 2ms/step - loss: 0.2965 - main_output_loss: 0.2903 - aux_output_loss: 0.3516 - val_loss: 0.3098 - val_main_output_loss: 0.3038 - val_aux_output_loss: 0.3631\n"
     ]
    }
   ],
   "source": [
    "import os\n",
    "\n",
    "root_logdir = os.path.join(os.curdir, 'my_logs')\n",
    "\n",
    "def get_run_logdir():\n",
    "    import time\n",
    "    run_id = time.strftime('run_%Y_%m_%d_-%H_%M_%S')\n",
    "    return os.path.join(root_logdir, run_id)\n",
    "\n",
    "run_logdir = get_run_logdir()\n",
    "\n",
    "input_A = keras.layers.Input(shape=[5], name='wide_input')\n",
    "input_B = keras.layers.Input(shape=[6], name='deep_input')\n",
    "hidden1 = keras.layers.Dense(30, activation='relu')(input_B)\n",
    "hidden2 = keras.layers.Dense(30, activation='relu')(hidden1)\n",
    "concat = keras.layers.Concatenate()([input_A, hidden2])\n",
    "output = keras.layers.Dense(1, name='main_output')(concat)\n",
    "aux_output = keras.layers.Dense(1, name='aux_output')(hidden2)\n",
    "model = keras.Model(inputs=[input_A, input_B], outputs=[output, aux_output])\n",
    "\n",
    "model.compile(\n",
    "    loss=['mse', 'mse'],\n",
    "    loss_weights=[0.9, 0.1],\n",
    "    optimizer=keras.optimizers.SGD(learning_rate=0.02)\n",
    ")\n",
    "\n",
    "early_stopping_cb = keras.callbacks.EarlyStopping(\n",
    "    patience=10,\n",
    "    restore_best_weights=True\n",
    ")\n",
    "\n",
    "tensorboard_cb = keras.callbacks.TensorBoard(run_logdir)\n",
    "\n",
    "history = model.fit(\n",
    "    [X_train_A, X_train_B],\n",
    "    [y_train, y_train],\n",
    "    epochs=100,\n",
    "    validation_data=([X_valid_A, X_valid_B], [y_valid, y_valid]),\n",
    "    callbacks=[early_stopping_cb, tensorboard_cb]\n",
    ")"
   ]
  },
  {
   "cell_type": "markdown",
   "id": "5ff488c6-b079-4ccd-88ca-947baf254d4c",
   "metadata": {},
   "source": [
    "Next you need to start the TensorBoard server. One way to do this is by running a command in a terminal. If you installed TensorFlow within a virtualenv, you should activate it. Next, run the following command at the root of the project\n",
    "\n",
    "tensorboard --logdir=./my_logs --port=6006\n",
    "\n",
    "If your sehll cannot find the *tensorboard* script, then you must update your PATH environment variable so that it contains the directory in which the script was installed. Once the server is up, you can open a web browser and go to http://localhost:6006\n",
    "\n",
    "Alternatively, you can use TensorBoard directly within Jupyter, by running the following commands. \n",
    "\n",
    "Additionally, TensorFlow offers a lower-level API in the tf.summary package. The following code creates a SummaryWriter using the create_file_writer() function and it uses this writer as a context to log scalers, histograms, images, audio, and text, all of which can then be visualized using TensorBoard."
   ]
  },
  {
   "cell_type": "code",
   "execution_count": 80,
   "id": "57b2abb5-304a-4589-899e-84a723327aef",
   "metadata": {
    "tags": []
   },
   "outputs": [
    {
     "data": {
      "text/plain": [
       "Reusing TensorBoard on port 6006 (pid 5700), started 9 days, 2:53:38 ago. (Use '!kill 5700' to kill it.)"
      ]
     },
     "metadata": {},
     "output_type": "display_data"
    },
    {
     "data": {
      "text/html": [
       "\n",
       "      <iframe id=\"tensorboard-frame-aa2707f4a49e4ce\" width=\"100%\" height=\"800\" frameborder=\"0\">\n",
       "      </iframe>\n",
       "      <script>\n",
       "        (function() {\n",
       "          const frame = document.getElementById(\"tensorboard-frame-aa2707f4a49e4ce\");\n",
       "          const url = new URL(\"/\", window.location);\n",
       "          const port = 6006;\n",
       "          if (port) {\n",
       "            url.port = port;\n",
       "          }\n",
       "          frame.src = url;\n",
       "        })();\n",
       "      </script>\n",
       "    "
      ],
      "text/plain": [
       "<IPython.core.display.HTML object>"
      ]
     },
     "metadata": {},
     "output_type": "display_data"
    }
   ],
   "source": [
    "%load_ext tensorboard\n",
    "%tensorboard --logdir=./my_logs --port=6006"
   ]
  },
  {
   "cell_type": "code",
   "execution_count": 81,
   "id": "eef4d401-a1a7-487c-9621-87b5f16941ed",
   "metadata": {
    "tags": []
   },
   "outputs": [],
   "source": [
    "test_logdir = get_run_logdir()\n",
    "writer = tf.summary.create_file_writer(test_logdir)\n",
    "with writer.as_default():\n",
    "    for step in range(1, 1000 + 1):\n",
    "        tf.summary.scalar('my_scalar', np.sin(step / 10), step=step)\n",
    "        data = (np.random.randn(100) + 2) * step / 100 # some random data\n",
    "        tf.summary.histogram('my_hist', data, buckets=50, step=step)\n",
    "        images = np.random.rand(2, 32, 32, 3) # random 32x32 RGB images\n",
    "        tf.summary.image('my_images', images * step / 1000, step=step)\n",
    "        texts = ['The step is ' + str(step), 'Its square is ' + str(step**2)]\n",
    "        tf.summary.text('my_text', texts, step=step)\n",
    "        sine_wave = tf.math.sin(tf.range(12000) / 48000 * 2 * np.pi * step)\n",
    "        audio = tf.reshape(tf.cast(sine_wave, tf.float32), [1, -1, 1])\n",
    "        tf.summary.audio('my_audio', audio, sample_rate=48000, step=step)"
   ]
  },
  {
   "cell_type": "markdown",
   "id": "5ce001a8-4c61-414c-924b-3244a8d62c75",
   "metadata": {},
   "source": [
    "## Fine-Tuning Neural Network Hyperparameters"
   ]
  },
  {
   "cell_type": "markdown",
   "id": "7567f6cc-271a-4951-b7c4-20dc44dbe9e5",
   "metadata": {},
   "source": [
    "How do you know what combination of hyperparameters is the best for your task? One option is to simply try many combinations of hyperparameters and see which one works best on the validation set (or use K-fold cross-validation). We can use GridSearchCV or RandomizedSearchCV to explore the hyperparameter space. To do this, we need to wrap our Keras models in objects that mimic regular Scikit-Learn regressors. The first step is to create a function that will build and compile a Keras model, given a set of hyperparameters.\n",
    "\n",
    "It is good practice to provide reasonable defaults to as many hyperparameters as you can, as Scikit-Learn does."
   ]
  },
  {
   "cell_type": "code",
   "execution_count": 84,
   "id": "8e2c3a09-2811-4b2e-8164-c4174606f82d",
   "metadata": {
    "tags": []
   },
   "outputs": [],
   "source": [
    "def build_model(n_hidden=1, n_neurons=30, learning_rate=3e-3, input_shape=[8]):\n",
    "    model = keras.models.Sequential()\n",
    "    model.add(keras.layers.InputLayer(input_shape=input_shape))\n",
    "    for layer in range(n_hidden):\n",
    "        model.add(keras.layers.Dense(n_neurons, activation='relu'))\n",
    "    model.add(keras.layers.Dense(1))\n",
    "    optimizer=keras.optimizers.SGD(learning_rate=learning_rate)\n",
    "    model.compile(loss='mse', optimizer=optimizer)\n",
    "    return model"
   ]
  },
  {
   "cell_type": "markdown",
   "id": "a2c1e57e-ea52-42f3-9484-672d9a9c9d89",
   "metadata": {
    "tags": []
   },
   "source": [
    "Next, let's create a KerasRegressor based on this build_model() function. The KerasRegressor object is a thin wrapper around the Keras model built using build_model(). Since we did not specify any hyperparameters when creating it, it will use the default hyperparameters we defined in build_model(). Now we can use this object like a regular Scikit-Learn regressor: we can train it using its fit() method, then evaluate it using its score() method, and use it to make predictions using its predict() method, as you can see in the following code.\n",
    "\n",
    "Also note that the score will be the opposite of the MSE because Scikit-Learn wants scores, not losses (i.e. higher should be better). Since there are many hyperparameters, it is preferable to use a randomized search rather than grid search."
   ]
  },
  {
   "cell_type": "code",
   "execution_count": 86,
   "id": "0fd5ea49-e880-414b-9176-be24c6cc7713",
   "metadata": {
    "tags": []
   },
   "outputs": [
    {
     "name": "stdout",
     "output_type": "stream",
     "text": [
      "WARNING:tensorflow:5 out of the last 5 calls to <function Model.make_predict_function.<locals>.predict_function at 0x000001CAB171BEE0> triggered tf.function retracing. Tracing is expensive and the excessive number of tracings could be due to (1) creating @tf.function repeatedly in a loop, (2) passing tensors with different shapes, (3) passing Python objects instead of tensors. For (1), please define your @tf.function outside of the loop. For (2), @tf.function has experimental_relax_shapes=True option that relaxes argument shapes that can avoid unnecessary retracing. For (3), please refer to https://www.tensorflow.org/guide/function#controlling_retracing and https://www.tensorflow.org/api_docs/python/tf/function for  more details.\n",
      "162/162 [==============================] - 0s 863us/step\n",
      "1/1 [==============================] - 0s 17ms/step\n",
      "0.733212085173095 [2.1923897 1.0012122 1.4242644]\n"
     ]
    }
   ],
   "source": [
    "from scipy.stats import reciprocal\n",
    "from sklearn.model_selection import RandomizedSearchCV\n",
    "from scikeras.wrappers import KerasClassifier, KerasRegressor\n",
    "\n",
    "keras_reg = KerasRegressor(build_model)\n",
    "keras_reg.fit(\n",
    "    X_train,\n",
    "    y_train,\n",
    "    epochs=100,\n",
    "    validation_data=(X_valid, y_valid),\n",
    "    callbacks=[keras.callbacks.EarlyStopping(patience=5)],\n",
    "    verbose=0\n",
    ")\n",
    "mse_test = keras_reg.score(X_test, y_test)\n",
    "y_pred = keras_reg.predict(X_new)\n",
    "print(mse_test, y_pred)"
   ]
  },
  {
   "cell_type": "code",
   "execution_count": 87,
   "id": "9c3f3b4d-fcba-46ca-bff2-1d4d5e2d6b57",
   "metadata": {
    "tags": []
   },
   "outputs": [
    {
     "name": "stdout",
     "output_type": "stream",
     "text": [
      "121/121 [==============================] - 0s 883us/step\n",
      "121/121 [==============================] - 0s 700us/step\n",
      "121/121 [==============================] - 0s 750us/step\n",
      "121/121 [==============================] - 0s 758us/step\n",
      "121/121 [==============================] - 0s 750us/step\n",
      "121/121 [==============================] - 0s 958us/step\n",
      "121/121 [==============================] - 0s 958us/step\n",
      "121/121 [==============================] - 0s 908us/step\n",
      "121/121 [==============================] - 0s 742us/step\n",
      "121/121 [==============================] - 0s 767us/step\n",
      "121/121 [==============================] - 0s 825us/step\n",
      "121/121 [==============================] - 0s 775us/step\n",
      "121/121 [==============================] - 0s 750us/step\n",
      "121/121 [==============================] - 0s 758us/step\n",
      "121/121 [==============================] - 0s 975us/step\n",
      "121/121 [==============================] - 0s 858us/step\n",
      "121/121 [==============================] - 0s 792us/step\n",
      "121/121 [==============================] - 0s 800us/step\n",
      "121/121 [==============================] - 0s 808us/step\n",
      "121/121 [==============================] - 0s 850us/step\n",
      "121/121 [==============================] - 0s 917us/step\n",
      "121/121 [==============================] - 0s 1ms/step\n",
      "121/121 [==============================] - 0s 808us/step\n",
      "121/121 [==============================] - 0s 775us/step\n",
      "121/121 [==============================] - 0s 717us/step\n",
      "121/121 [==============================] - 0s 783us/step\n",
      "121/121 [==============================] - 0s 1000us/step\n",
      "121/121 [==============================] - 0s 767us/step\n",
      "121/121 [==============================] - 0s 783us/step\n",
      "121/121 [==============================] - 0s 717us/step\n",
      "162/162 [==============================] - 0s 752us/step\n",
      "1/1 [==============================] - 0s 16ms/step\n",
      "0.7598990041770679 [2.0591207 1.1839529 1.334522 ]\n"
     ]
    }
   ],
   "source": [
    "keras_reg = KerasRegressor(build_model, n_hidden=1, n_neurons=30, learning_rate=3e-3) # For this wrapper you need to initialize the parameters you're testing\n",
    "param_distribs = {\n",
    "    'n_hidden': np.arange(0, 3, 1),\n",
    "    'n_neurons': np.arange(1, 100, 1),\n",
    "    'learning_rate': reciprocal(3e-4, 3e-2)\n",
    "}\n",
    "\n",
    "rnd_search_cv = RandomizedSearchCV(keras_reg, param_distribs, n_iter=10, cv=3)\n",
    "rnd_search_cv.fit(\n",
    "    X_train,\n",
    "    y_train,\n",
    "    epochs=100,\n",
    "    validation_data=(X_valid, y_valid),\n",
    "    callbacks=[keras.callbacks.EarlyStopping(patience=10)],\n",
    "    verbose=0\n",
    ")\n",
    "\n",
    "opt_keras_reg = KerasRegressor(build_model(**rnd_search_cv.best_params_))\n",
    "opt_keras_reg.fit(\n",
    "    X_train,\n",
    "    y_train,\n",
    "    epochs=100,\n",
    "    validation_data=(X_valid, y_valid),\n",
    "    callbacks=[keras.callbacks.EarlyStopping(patience=10)],\n",
    "    verbose=0\n",
    ")\n",
    "mse_test = opt_keras_reg.score(X_test, y_test)\n",
    "y_pred = opt_keras_reg.predict(X_new)\n",
    "print(mse_test, y_pred)"
   ]
  },
  {
   "cell_type": "markdown",
   "id": "d46e2e47-c094-4cda-afcc-6a150c80edfb",
   "metadata": {},
   "source": [
    "This is identical to what we did in Chapter 2, except here we pass extra parameters to the fit() method, and they get relayed to the underlying Keras models. Note that RandomizedSearchCV uses K-fold cross-validation, so it does not use X_valid and y_valid, which are only used for early stopping. The exploration may last many hours, depending on the hardware, the size of the dataset, the complexity of the model, and the avlues of n_iter and cv. When its over, you can access the best parameters found, the best score, and the trained Keras model like this:"
   ]
  },
  {
   "cell_type": "code",
   "execution_count": 89,
   "id": "8c70eb74-d7d2-4253-8156-d0a6b6a7ca9e",
   "metadata": {
    "tags": []
   },
   "outputs": [
    {
     "data": {
      "text/plain": [
       "({'learning_rate': 0.012358496145296417, 'n_hidden': 1, 'n_neurons': 36},\n",
       " 0.7499381518440588)"
      ]
     },
     "execution_count": 89,
     "metadata": {},
     "output_type": "execute_result"
    }
   ],
   "source": [
    "model = rnd_search_cv.best_estimator_.model_\n",
    "rnd_search_cv.best_params_, rnd_search_cv.best_score_"
   ]
  },
  {
   "cell_type": "code",
   "execution_count": 90,
   "id": "827817b8-3b91-419a-8a93-d7ccd57a8ca4",
   "metadata": {
    "tags": []
   },
   "outputs": [
    {
     "name": "stdout",
     "output_type": "stream",
     "text": [
      "162/162 [==============================] - 0s 1ms/step - loss: 0.3314\n"
     ]
    },
    {
     "data": {
      "text/plain": [
       "0.3313697874546051"
      ]
     },
     "execution_count": 90,
     "metadata": {},
     "output_type": "execute_result"
    }
   ],
   "source": [
    "model.save('my_keras_model.h5')\n",
    "model.evaluate(X_test, y_test)"
   ]
  },
  {
   "cell_type": "markdown",
   "id": "214936ba-e34c-4bc9-9866-a964ba015cc0",
   "metadata": {},
   "source": [
    "You can now save this model, evaluate it on the test set, and, if you are satisfied with its performance, deploy it to production. Using randomized search is not too hard, and it works well for many fairly simple problems. When training is slow, however (e.g. for more complex problems with larger datasets), this approach will only explore a tiny portion of the hyperparameter space. You can partially alleviate this problem by assisting the search process manually: first run a quick random search using wide ranges of hyperparameter values, then run another search using smaller ranges of values centered on the best ones found during the first run, and so on. This approach is very time consuming.\n",
    "\n",
    "Fortunately, there are many techniques to explore a search space much more efficiently than randomly. Such techniques take care of the 'zooming' process for you and lead to much better solutions in much less time. Here are some python libraries you can use to optimize hyperparameters:\n",
    "1. Hyperopt (https://github.com/hyperopt/hyperopt)\n",
    "<br>A popular library for optimizing over all sorts of complex search spaces (including real values, such as the learning rate, and discrete values, such as the number of layers).\n",
    "\n",
    "2. Hyperas (https://github.com/maxpumperla/hyperas), kopt (https://github.com/Avsecz/kopt), Talos (https://github.com/autonomio/talos)\n",
    "<br>Useful libraries for optimizing hyperparameters for Keras models (the first two are based on Hyperopt)\n",
    "\n",
    "3. Keras Tuner (https://homl.info/kerastuner)\n",
    "<br>**An easy-to-use hyperparameter optimization library by Google for Keras models, with a hosted service for visualization and analysis**\n",
    "\n",
    "4. Scikit-Optimize (skopt) (https://scikit-optimize.github.io/)\n",
    "<br>A general-purpose optimization library. The BayesSearchCV class performs Bayesian optimization using an interface similar to GridSearchCV\n",
    "\n",
    "5. Sprearmint (https://github.com/JasperSnoek/spearmint)\n",
    "<br>A Bayesian optimization library.\n",
    "\n",
    "6. Hyperband(https://github.com/zygmuntz/hyperband)\n",
    "<br>A fast hyperparameter tuning library baesd on the recent Hyperband paper (https://home.info/hyperband) by Lisha Li et al.\n",
    "\n",
    "7. Sklearn-Deap (https://github.com/rsteca/sklearn-deap)\n",
    "<br>A hyperparameter optimization library based on evolutionary algorithms, with a GridSearchCV like interface.\n",
    "\n",
    "Hyperparameter tuning is still an active area of research."
   ]
  },
  {
   "cell_type": "markdown",
   "id": "b3da9882-5cf1-431a-a3f6-9a437a9225ec",
   "metadata": {},
   "source": [
    "## Number of Hidden Layers"
   ]
  },
  {
   "cell_type": "markdown",
   "id": "8cabbd6a-a28b-4c8d-a335-4ead0c42fb6c",
   "metadata": {},
   "source": [
    "An MLP with just one hidden layer can theoretically model even the most complex functions, provided it has enough neurons. But for complex problems, deep networks have a much higher *parameter efficiency* than shallow ones: they can model complex functions using exponentially fewer neurons than shallow nets, allowing them to reach much better performance wit the same amount of training data.\n",
    "\n",
    "Real-world data is often structured in such a hierarchical way (symmetry, fractals, subsets, etc), and deep neural networks automatically take advantage of this fact: lower hidden layers model low-level structures (e.g. line segments of various shapes and orientations), intermediate hidden layers combine these low-level structures to model intermediate-level structures (e.g. squares, circles), and the highest hidden layers and the output layer combine these intermediate structures to model high-level structures (e.g. faces).\n",
    "\n",
    "For exapmle, if you have already trained a model to recognize faces in pictures and you now want to train a new neural network to recognize hairstyles, you can kickstart the training by reusing the lower layers of the first network. Instead of randomly initializing the weights and biases of the first few layers of the new neural network, you can initialize them to the values of the weights and biases of the lower layers of the first network. This way the network will not have to learn from scratch all the low-level structures that occur in most pictures; this is called *transfer learning*.\n",
    "\n",
    "In summary, for many problems you can start with just one or two hidden layers and the neural network will work just fine. **For more complex problems, you can ramp up the number of hidden layers until you start overfitting the training set.** Very complex tasks,such as large image classification or speech recognition, typically require networks with doezens of layers (or even hundreds, but not fully connected ones, as we will see in Chapter 14), and they need a huge amount of training data."
   ]
  },
  {
   "cell_type": "markdown",
   "id": "14ae24c8-71a9-46b0-b369-223d27d82978",
   "metadata": {},
   "source": [
    "## Number of Neurons per Hidden Layer"
   ]
  },
  {
   "cell_type": "markdown",
   "id": "1ef4c0a5-5ef0-4cfa-b4b1-558e0d8482d6",
   "metadata": {},
   "source": [
    "**In general you will get more bang for your buck by increasing the number of layers instead of the number of neurons per layer**.\n",
    "\n",
    "The number of neurons in the input and output layers is determined by the type of input and output your task requires. As for the hidden layers, it used to be common to size them to form a pyramid, with fewer and fewer neurons at each layer. The rational being that many low-level features can coalesce into far fewer high-level features. A typical neural network for MNIST might have 3 hidden layers, the first with 300 neurons, the second with 200 neurons, and the third with 100. **However, this practice has been largely abandoned because it seems that using the same number of neurons in all hidden layers performs just well in most cases, or even better; plus, there is only one hyperparameter to tune, instead of one per layer.** That said, depending on the dataset, it can sometimes help to make the first hidden layer bigger than the others.\n",
    "\n",
    "Just like the number of layers, you can try increasing the number of neurons gradually until the network starts overfitting. **But in practice, it's often simpler and more efficient to pick a model with more layers and neurons than you actually need, then use early stopping and other regularization techniques to prevent it from overfitting.**"
   ]
  },
  {
   "cell_type": "markdown",
   "id": "bcbdd648-e30f-4c5b-bfc2-2c57868e7dfc",
   "metadata": {},
   "source": [
    "## Learning Rate, Batch Size, and Other Hyperparameters"
   ]
  },
  {
   "cell_type": "markdown",
   "id": "04702ee6-3d31-4583-8b9c-03e5cf866b27",
   "metadata": {},
   "source": [
    "The number of hidden layers and neurons are not the only hyperparameters you can tweak in an MLP. Here are some of the most important ones, as well as tips on how to set them:\n",
    "\n",
    "1. Learning Rate\n",
    "<br>**The learning rate is arguably the most important hyperparameter.** In general, the optimal learning rate is about half of the maximum learning rate (i.e. the learning rate above which the training algorithm diverges, as we saw in Chapter 4). One way to find a good learning rate is to train the model for a few hundreds iterations, starting with a very low learning rate (e.g. 1e-6) and gradually increasing it up to a very large value (e.g. 10). This is done by multiplying the learning rate by a constant factor at each iteration (e.g. by exp(log(1e7) / 500) to go from 1e-6 to 10 in 500 iterations). If you plot the loss as a function of the learning rate (using a log scale for the learning rate), you should see it dropping at first. But after a while, the learning rate will be too large, so the loss will shoot back up: the optimal learning rate will be a b it lower than the point at which the loss starts to climb (typically about 10x lower than the turning point). You can then reinitialize your model and train it normally using this good learning rate. We will look at more learning rate techniques in Chapter 11. **The optimal learning rate depends on other hyperparameters, especially the batch size, so if you modify any hyperparameter make sure to update the learning rate as well.**\n",
    "\n",
    "2. Optimizer\n",
    "<br>Choosing a better optimizer than plain old Mini-batch Gradient Desecent (and tuning its hyperparameters) is also quite important. We will see several advanced optimizers in Chapter 11.\n",
    "\n",
    "3. Batch Size\n",
    "<br>The batch size can have a significant impact on your model's performance and training time. **The main benefit of using large batch sizes is that hardware accelerators like GPU's can process them efficiently** (see Chapter 19), so the training algorithm will see more instances per second. Therefore, many researchers and practitioners recommend using the largest batch size that can fit in GPU RAM. There's a catch, though: **in practice, large batch sizes often lead to training instabilities, especially at the beginning of training, and the resulting model may not generalize as well as a model trained with a small batch size.** In April 2018, Yann LeCun even tweeted \"Friends don't let friends use mini-batches larger than 32,\" **citing a 2018 paper (https://homl.info/smallbatch) by Dominic Masters and Carlo Luschi which concluded that using small batches (from 2 to 32) was preferable because small batches led to better models in less training time.** Other papers point in the opposite direction, however; in 2017, papers by Elad Hoffer et al. (https://homl.info/largebatch) and Priya Goyal et al. (https:homl.info/largebatch2) showed that it was possible to use very large batch sizes (up to 8,192) using various techniques such as warming up the learning rate (i.e. starting training with a small learning rate, then ramping it up, as we will see in Chapter 11). This led to a very short training time, without any generalization gap. **So one strategy is to try to use a large batch size, using learning rate warmup, and if training is unstable or the final performance is disappointing, then try using a small batch instead.**\n",
    "\n",
    "4. Activation Function\n",
    "<br>We discussed how to choose the activation function earlier in this chapter: **in general, the ReLU activation function will be a good default for all hidden layers.** For the output layer, it really depends on your task.\n",
    "\n",
    "5. Number of Iterations\n",
    "<br>In most cases, the number of training iterations does not actually need to be tweaked; just use early stopping instead.\n",
    "\n",
    "For more best practices regarding tuning neural network hyperparameters, check out the excellent 2018 paper (https://homl.info/1cycle) by Leslie Smith"
   ]
  },
  {
   "cell_type": "markdown",
   "id": "a6c6b786-4418-4c91-b6e2-77a23b6bbd93",
   "metadata": {},
   "source": [
    "# Exercises"
   ]
  },
  {
   "cell_type": "markdown",
   "id": "31a2baf6-8c50-4f9a-ad7c-1318b7098126",
   "metadata": {},
   "source": [
    "1. This excerise has the reader go to https://playground.tensorflow.org/ and familiarize with basic Sequential networks."
   ]
  },
  {
   "cell_type": "markdown",
   "id": "8a14cc5f-aa74-491e-a363-25e4c2233c68",
   "metadata": {},
   "source": [
    "2. Draw an ANN using the original artificial neurons that computes A XOR B."
   ]
  },
  {
   "cell_type": "markdown",
   "id": "a68cdeff-5e2c-47ea-980a-a752e2788c6c",
   "metadata": {},
   "source": [
    "**My answer** <br>\n",
    "I don't feel this is worth putting effort into. This can be quickly searched if it is required in real life and doesn't add to the practical understanding of what the chapter teaches, in my opinion."
   ]
  },
  {
   "cell_type": "markdown",
   "id": "92dded51-0c17-4357-8e20-22134c22f14a",
   "metadata": {},
   "source": [
    "3. Why is it generally preferable to use a Logistic Regression classifier rather than a classical Perceptron (i.e. a single layer of threshold logic units trained using the Perceptron training algorithm)? How can you tweak a Perceptron to make it equivalent to a Logistic Regression classifier?"
   ]
  },
  {
   "cell_type": "markdown",
   "id": "1fa9521a-e836-4b91-9b51-d83834a7af7b",
   "metadata": {},
   "source": [
    "**My answer**<br>\n",
    "Logistic regression classifiers output a probability distribution and classical Perceptrons do not. To mimic the output of a Logistic Regression classifier you can stack multiple Perceptrons and apply the logistic activation function to the output layer."
   ]
  },
  {
   "cell_type": "markdown",
   "id": "7b2d61a8-95a3-4832-970d-9643506a3eab",
   "metadata": {},
   "source": [
    "**Book Answer**<br>\n",
    "A classical Perceptron will converge only if the dataset is linearly separable, and it won't be able to estimate class probabilities. In contrast, a Logistc Regression classifier will converge to a good solution even if the dataset is not linearly separable, and it will output class probabilities. If you change the Perceptron's activation function to the logistic activation function (or the softmax activation function if there are multiple neurons), and if you train it using Gradient Descent (or some other optimization algorithm minimizing the cost function, typically cross-entropy), then it becomes equivalent to a Logistic Regression classifier."
   ]
  },
  {
   "cell_type": "markdown",
   "id": "b7635732-c3d2-48c0-a0b9-371bd6d58e8e",
   "metadata": {},
   "source": [
    "4. Why was the logistic activiation function a key ingredient in training the first MLPs?"
   ]
  },
  {
   "cell_type": "markdown",
   "id": "932ac3b2-f28e-4945-a800-7c6385626d7d",
   "metadata": {},
   "source": [
    "**My answer**<br>\n",
    "Without a non-linear activation function an MLP will only ever be a linear combination of weights, which reduce to a linear function, and so complex problems cannot be solved."
   ]
  },
  {
   "cell_type": "markdown",
   "id": "74c3ae03-ecdf-4319-8603-1f425e325276",
   "metadata": {},
   "source": [
    "**Book Answer**<br>\n",
    "The logistic activation function was a key ingredient in training the first MLPs because its derivative is always nonzero, so Gradient Descent can always roll down the slope. When the activation function is a step function, Gradient Descent cannot move, as there is no slope at all."
   ]
  },
  {
   "cell_type": "markdown",
   "id": "0c108929-aee9-4f2e-8be9-6edf081182a7",
   "metadata": {},
   "source": [
    "5. Name 3 popular activation functions. Can you draw them?"
   ]
  },
  {
   "cell_type": "markdown",
   "id": "e11734c8-9a67-4d08-a8a5-a6d25d9be025",
   "metadata": {},
   "source": [
    "**My answer**<br>\n",
    "1. ReLU\n",
    "2. Tanh\n",
    "3. Softmax\n",
    "\n",
    "Yes, I can, but its time consuming to do this in plotly so for the sake of time google them."
   ]
  },
  {
   "cell_type": "markdown",
   "id": "576d02ff-e286-4090-af1e-ad7aeefe0b65",
   "metadata": {},
   "source": [
    "**Book Answer**<br>\n",
    "Popular activation functions include the step function, the logistic (sigmoid) function, the hyperbolic tangent (tanh) function, and the Rectified Linear Unit (ReLU) function."
   ]
  },
  {
   "cell_type": "markdown",
   "id": "58d0e817-179f-4bd7-93e0-5969bda162ef",
   "metadata": {},
   "source": [
    "6. Suppose you have an MLP composed of one input layer with 10 passthrough neurons, followed by one hidden layer with 50 artificial neurons, and finally one output layer with 3 artificial neurons. All artificial neurons use the ReLU activation function.<br>\n",
    "\n",
    "    a. What is the shape of the input matrix X? <br>\n",
    "    b. What are the shapes of the hidden layer's weight vector $W_h$ and its bias vector $b_h$?<br>\n",
    "    c. What are the shapes of the output layer's weight vector $W_o$ and its bias vector $b_o$?<br>\n",
    "    d. What is the shape of the network's output matrix Y?<br>\n",
    "    e. Write the equation that computes the networks output matrix Y as a function of X, $W_h$, $b_h$, $W_o$, and $b_o$<br>"
   ]
  },
  {
   "cell_type": "code",
   "execution_count": 112,
   "id": "57a4679c-bfe1-45af-9364-5f623d4e202a",
   "metadata": {
    "tags": []
   },
   "outputs": [
    {
     "name": "stdout",
     "output_type": "stream",
     "text": [
      "Model: \"sequential_35\"\n",
      "_________________________________________________________________\n",
      " Layer (type)                Output Shape              Param #   \n",
      "=================================================================\n",
      " dense_91 (Dense)            (None, 10)                110       \n",
      "                                                                 \n",
      " dense_92 (Dense)            (None, 50)                550       \n",
      "                                                                 \n",
      " dense_93 (Dense)            (None, 3)                 153       \n",
      "                                                                 \n",
      "=================================================================\n",
      "Total params: 813\n",
      "Trainable params: 813\n",
      "Non-trainable params: 0\n",
      "_________________________________________________________________\n"
     ]
    }
   ],
   "source": [
    "model = keras.models.Sequential([\n",
    "    keras.layers.Dense(10, input_shape=[10]),\n",
    "    keras.layers.Dense(50, activation='relu'),\n",
    "    keras.layers.Dense(3, activation='relu')\n",
    "])\n",
    "\n",
    "model.summary()"
   ]
  },
  {
   "cell_type": "markdown",
   "id": "420920d4-48b2-4d01-84a3-31e31994d579",
   "metadata": {},
   "source": [
    "**My Answer**<br>\n",
    "1. (None, 10)\n",
    "2. (10, 50), (10, 1)\n",
    "3. (50, 3), (50, 1)\n",
    "4. (3, None)\n",
    "5. I believe this is the dot product of equation 10-2 for each layer."
   ]
  },
  {
   "cell_type": "markdown",
   "id": "9ff38292-327f-4735-a56d-2330facf803d",
   "metadata": {},
   "source": [
    "**Book Answer**<br>\n",
    "1. (m, 10) where m is the batch size\n",
    "2. (10, 50), (50, 1)\n",
    "3. (50, 3), (3, 1)\n",
    "4. (m, 3)\n",
    "5. Y* = ReLU(ReLU($XW_h + b_h)W_o + b_o$)"
   ]
  },
  {
   "cell_type": "markdown",
   "id": "969ed7eb-bd2a-46f4-9333-d0bccdd9456e",
   "metadata": {},
   "source": [
    "7. How many neurons do you need in the output layer if you want to classify email into spam or ham? What activation function should you use in the output layer? If instead you want to tackle MNIST, how many neurons do you need in the output layer, and which activiation function should you use? What about for getting your network to predict housing prices, as in Chapter 2?"
   ]
  },
  {
   "cell_type": "markdown",
   "id": "1a6e7c9d-6fcb-4026-94e4-8ec843b1871e",
   "metadata": {},
   "source": [
    "**My answer**<br>\n",
    "You can structure this is a binary classification, so only 1 output layer with 1 neuron should suffice. For binary classification you should apply the logistic activation function. For MNIST, since it has 10 distinct classes, you want to have 10 neurons in the output layer and use the softmax activation function. For regression, a single output layer with a single neuron using a linear activiation function like ReLU is best."
   ]
  },
  {
   "cell_type": "markdown",
   "id": "2be004e8-e557-450c-844e-3811fe9b530c",
   "metadata": {},
   "source": [
    "**Book Answer**<br>\n",
    "To classify email into spam or ham, you just need one neuron in the output layer of neural network- for example, indicating the probability that the email is spam. You would typically use the logistic activation function in the output layer when estimating a probability. If instead you want to tackle MNIST, you need 10 neurons in the output layer, and you must replace the logistic function with the softmax activation function, which can handle multiple classes, outputting one probability per class. If you want your neural network to predict housing prices then you need one output neuron, using no activation function at all in the output layer. For large values you may want to predict the logarithm of the target value rather than the value directly."
   ]
  },
  {
   "cell_type": "markdown",
   "id": "a4c97a1f-9639-4419-8423-ec8e67e37d22",
   "metadata": {},
   "source": [
    "8. What is backpropagation and how does it work? What is the difference between backpropagation and reverse-mode autodiff?"
   ]
  },
  {
   "cell_type": "markdown",
   "id": "042d52e1-c074-4c39-8248-4b7684b7588c",
   "metadata": {},
   "source": [
    "**My answer**<br>\n",
    "\n",
    "Backpropagation is effectively the partial derivative of the loss function with respect to each individual weight. It utilizes the chain rule to work backwards through each layer and tweak the weights in a way that minimizes loss.\n",
    "\n",
    "Taken from stackoverflow.com: <br>\n",
    "\n",
    "    Bakpropagation refers to the whole process of training an artificial neural network using multiple backpropagation steps, each of which computes gradients and uses them to perform a Gradient Descent step. In contrast, reverse-mode auto diff is simply a technique used to compute gradients efficiently and it happens to be used by backpropagation."
   ]
  },
  {
   "cell_type": "markdown",
   "id": "62b4b780-0ae8-4c58-a7e6-604f3751df1f",
   "metadata": {},
   "source": [
    "**Book Answer**<br>\n",
    "Backpropagation is a technique used to train artifical neural networks. It first computes the gradients of the cost function with regard to efvery model parameter (all weights and biases), then it perofrms a Gradient Descent step using these gradients. This backpropagation step is typically performed thousands or millions of times, using many training batches, until the model parameters converge to values that (hopefully) minimize the cost function. To compute the gradients, backpropagation uses reverse-mode autodiff (although it wasn't called taht when backpropagation was invented, and it has been reinvented several times). Reverse-mode autodiff performs a forward pass through a computation graph, computing every node's value for the current training batch, and then it performs a reverse pass, computing all the gradients at once. So what's the difference? Well, backpropagation refers to the whole process of training an artifical nerual network using multiple backpropagation steps, each of which computes gradients and uses them to perform a Gradient Descent step. In contrast, reverse-mode autodiff is just a technique to compute gradients efficiently, and it happens to be used by backpropagation."
   ]
  },
  {
   "cell_type": "markdown",
   "id": "e9eb40d6-75c2-44f9-b809-d4bb9bda46ad",
   "metadata": {},
   "source": [
    "9. Can you list all the hyperparameters you can tweak in a basic MLP? If the MLP overfits the training data, how could you tweak these hyperparameters to try to solve the problem?"
   ]
  },
  {
   "cell_type": "markdown",
   "id": "34d8ac8a-f559-47f6-b2c7-dd188a009000",
   "metadata": {},
   "source": [
    "**My answer**<br>\n",
    "1. Learning Rate\n",
    "2. Optimizer\n",
    "3. Batch Size\n",
    "4. Activation Function\n",
    "5. Epoch count.\n",
    "\n",
    "If the MLP overfits you can tweak the learning rate, epoch count or utilize early stopping and a validation set to stop the training automatically when overfitting is detected."
   ]
  },
  {
   "cell_type": "markdown",
   "id": "3fc9f307-5402-4870-bb8f-4b55a38cfe43",
   "metadata": {},
   "source": [
    "**Book Answer**<br>\n",
    "Here is a list of all the hyperparameters you can tweak in a basic MLP:\n",
    "1. The number of hidden layers\n",
    "2. The number of neurons in each hidden layer\n",
    "3. The activation function used in each hidden and output layer. In general the reLU activation function is a good default.\n",
    "\n",
    "If the MLP overfits the training data you can try to reduce the number of layers and/or neurons per hidden layer."
   ]
  },
  {
   "cell_type": "markdown",
   "id": "ee7e16d8-f466-4785-aee7-5702932c5f28",
   "metadata": {},
   "source": [
    "10. Train a deep MLP on the MNIST dataset (you can load it using keras.datasets.mnist.load_data()). See if you can get over 98% precision. Try searching for the optimal learning rate by using the approach presented in this chapter (i.e. by growing the learning rate exponentially, plotting the error, and finding the point where the error shoots up). Try adding all the bells and whistles:<br><br>\n",
    "    a. Save checkpoints<br>\n",
    "    b. Early stopping<br>\n",
    "    c. Plot learning curves using TensorBoard<br>"
   ]
  },
  {
   "cell_type": "code",
   "execution_count": 172,
   "id": "64aa8283-d358-41d8-b8fc-0bc506d89349",
   "metadata": {
    "tags": []
   },
   "outputs": [
    {
     "name": "stdout",
     "output_type": "stream",
     "text": [
      "Epoch 1/100\n",
      "215/215 [==============================] - 7s 29ms/step - loss: 0.6881 - accuracy: 0.8580 - val_loss: 0.1842 - val_accuracy: 0.9450\n",
      "Epoch 2/100\n",
      "215/215 [==============================] - 6s 28ms/step - loss: 0.1293 - accuracy: 0.9616 - val_loss: 0.1447 - val_accuracy: 0.9582\n",
      "Epoch 3/100\n",
      "215/215 [==============================] - 6s 30ms/step - loss: 0.0563 - accuracy: 0.9826 - val_loss: 0.1342 - val_accuracy: 0.9638\n",
      "Epoch 4/100\n",
      "215/215 [==============================] - 6s 28ms/step - loss: 0.0239 - accuracy: 0.9933 - val_loss: 0.1180 - val_accuracy: 0.9690\n",
      "Epoch 5/100\n",
      "215/215 [==============================] - 6s 29ms/step - loss: 0.0090 - accuracy: 0.9983 - val_loss: 0.1168 - val_accuracy: 0.9720\n",
      "Epoch 6/100\n",
      "215/215 [==============================] - 6s 29ms/step - loss: 0.0028 - accuracy: 0.9998 - val_loss: 0.1183 - val_accuracy: 0.9725\n",
      "Epoch 7/100\n",
      "215/215 [==============================] - 6s 28ms/step - loss: 9.9652e-04 - accuracy: 1.0000 - val_loss: 0.1188 - val_accuracy: 0.9730\n",
      "Epoch 8/100\n",
      "215/215 [==============================] - 6s 30ms/step - loss: 5.6830e-04 - accuracy: 1.0000 - val_loss: 0.1206 - val_accuracy: 0.9740\n",
      "Epoch 9/100\n",
      "215/215 [==============================] - 6s 28ms/step - loss: 4.0925e-04 - accuracy: 1.0000 - val_loss: 0.1221 - val_accuracy: 0.9745\n",
      "Epoch 10/100\n",
      "215/215 [==============================] - 6s 28ms/step - loss: 3.2387e-04 - accuracy: 1.0000 - val_loss: 0.1236 - val_accuracy: 0.9750\n",
      "Epoch 11/100\n",
      "215/215 [==============================] - 6s 30ms/step - loss: 2.6663e-04 - accuracy: 1.0000 - val_loss: 0.1248 - val_accuracy: 0.9758\n",
      "Epoch 12/100\n",
      "215/215 [==============================] - 6s 28ms/step - loss: 2.2276e-04 - accuracy: 1.0000 - val_loss: 0.1266 - val_accuracy: 0.9753\n",
      "Epoch 13/100\n",
      "215/215 [==============================] - 6s 29ms/step - loss: 1.8953e-04 - accuracy: 1.0000 - val_loss: 0.1274 - val_accuracy: 0.9757\n",
      "Epoch 14/100\n",
      "215/215 [==============================] - 6s 30ms/step - loss: 1.6308e-04 - accuracy: 1.0000 - val_loss: 0.1284 - val_accuracy: 0.9757\n",
      "Epoch 15/100\n",
      "215/215 [==============================] - 6s 28ms/step - loss: 1.4036e-04 - accuracy: 1.0000 - val_loss: 0.1295 - val_accuracy: 0.9755\n",
      "Epoch 16/100\n",
      "213/215 [============================>.] - ETA: 0s - loss: 1.2271e-04 - accuracy: 1.0000Restoring model weights from the end of the best epoch: 11.\n",
      "215/215 [==============================] - 6s 29ms/step - loss: 1.2263e-04 - accuracy: 1.0000 - val_loss: 0.1308 - val_accuracy: 0.9755\n",
      "Epoch 16: early stopping\n"
     ]
    }
   ],
   "source": [
    "# Fetch the raw data\n",
    "mnist = keras.datasets.mnist.load_data()\n",
    "X_train, y_train, X_test, y_test = mnist[0][0], mnist[0][1], mnist[1][0], mnist[1][1]\n",
    "\n",
    "# Split data in train, val and test sets\n",
    "# X_train, X_val, y_train, y_val = train_test_split(\n",
    "#     X_train,\n",
    "#     y_train\n",
    "# )\n",
    "\n",
    "# Construct a Sequential model using the scikit-learn wrapper\n",
    "def build_model(n_hidden=1, n_neurons=30, learning_rate=3e-3, hidden_activation='relu', optimizer='sgd', lr_sched=False, input_shape=[28, 28]):\n",
    "    model = keras.models.Sequential()\n",
    "    model.add(keras.layers.Flatten(input_shape=input_shape))\n",
    "    for layer in range(n_hidden):\n",
    "        model.add(keras.layers.Dense(n_neurons, activation=hidden_activation))\n",
    "    model.add(keras.layers.Dense(10, activation='softmax'))\n",
    "    lr_schedule = keras.optimizers.schedules.ExponentialDecay(\n",
    "        initial_learning_rate=learning_rate,\n",
    "        decay_steps=1000,\n",
    "        decay_rate=0.90\n",
    "    )\n",
    "    \n",
    "    if lr_sched:\n",
    "        lr = lr_schedule \n",
    "    else:\n",
    "        lr = learning_rate\n",
    "        \n",
    "    if optimizer == 'sgd':\n",
    "        optimizer=keras.optimizers.SGD(learning_rate=lr)\n",
    "        \n",
    "    if optimizer == 'adam':\n",
    "        optimizer=keras.optimizers.Adam(learning_rate=lr)\n",
    "    model.compile(loss='sparse_categorical_crossentropy', optimizer=optimizer, metrics=['accuracy'])\n",
    "    return model\n",
    "\n",
    "# Define callbacks\n",
    "early_stopping_cb = keras.callbacks.EarlyStopping(\n",
    "    patience=5,\n",
    "    restore_best_weights=True,\n",
    "    monitor='val_accuracy',\n",
    "    verbose=1,\n",
    "    mode='auto',\n",
    "    baseline=None\n",
    ")\n",
    "\n",
    "checkpoint_cb = keras.callbacks.ModelCheckpoint(\n",
    "    'keras_mnist.h5',\n",
    "    save_best_only=True\n",
    ")\n",
    "\n",
    "# For this wrapper you need to initialize the parameters you're testing\n",
    "keras_reg = KerasRegressor(\n",
    "    build_model(\n",
    "        n_hidden=7,\n",
    "        n_neurons=680,\n",
    "        learning_rate=1e-4,\n",
    "        hidden_activation='relu',\n",
    "        optimizer='adam',\n",
    "        lr_sched=True,\n",
    "        input_shape=X_train.shape[1:],\n",
    "   ),\n",
    "    batch_size=252,\n",
    "    callbacks=[early_stopping_cb]\n",
    ")\n",
    "\n",
    "# Initial fit\n",
    "unoptimized_history = keras_reg.fit(\n",
    "    X_train,\n",
    "    y_train,\n",
    "    epochs=100,\n",
    "    validation_split=0.1,\n",
    "    verbose=1\n",
    ")"
   ]
  },
  {
   "cell_type": "code",
   "execution_count": 184,
   "id": "1985d978-7505-41e4-978f-40c40bbd09bd",
   "metadata": {
    "collapsed": true,
    "jupyter": {
     "outputs_hidden": true
    },
    "tags": []
   },
   "outputs": [
    {
     "name": "stdout",
     "output_type": "stream",
     "text": [
      "INFO:tensorflow:Assets written to: C:\\Users\\Steph\\AppData\\Local\\Temp\\tmpm9juhbiw\\assets\n",
      "Fitting 3 folds for each of 24 candidates, totalling 72 fits\n",
      "INFO:tensorflow:Assets written to: C:\\Users\\Steph\\AppData\\Local\\Temp\\tmpfi2kbc27\\assets\n",
      "Restoring model weights from the end of the best epoch: 31.\n",
      "Epoch 36: early stopping\n",
      "80/80 [==============================] - 1s 14ms/step\n"
     ]
    },
    {
     "name": "stderr",
     "output_type": "stream",
     "text": [
      "C:\\Users\\Steph\\anaconda3\\lib\\site-packages\\sklearn\\model_selection\\_validation.py:824: UserWarning: Scoring failed. The score on this train-test partition for these parameters will be set to nan. Details: \n",
      "Traceback (most recent call last):\n",
      "  File \"C:\\Users\\Steph\\anaconda3\\lib\\site-packages\\sklearn\\model_selection\\_validation.py\", line 813, in _score\n",
      "    scores = scorer(estimator, X_test, y_test)\n",
      "  File \"C:\\Users\\Steph\\anaconda3\\lib\\site-packages\\sklearn\\metrics\\_scorer.py\", line 266, in __call__\n",
      "    return self._score(partial(_cached_call, None), estimator, X, y_true, **_kwargs)\n",
      "  File \"C:\\Users\\Steph\\anaconda3\\lib\\site-packages\\sklearn\\metrics\\_scorer.py\", line 355, in _score\n",
      "    return self._sign * self._score_func(y_true, y_pred, **scoring_kwargs)\n",
      "  File \"C:\\Users\\Steph\\anaconda3\\lib\\site-packages\\sklearn\\utils\\_param_validation.py\", line 211, in wrapper\n",
      "    return func(*args, **kwargs)\n",
      "  File \"C:\\Users\\Steph\\anaconda3\\lib\\site-packages\\sklearn\\metrics\\_classification.py\", line 220, in accuracy_score\n",
      "    y_type, y_true, y_pred = _check_targets(y_true, y_pred)\n",
      "  File \"C:\\Users\\Steph\\anaconda3\\lib\\site-packages\\sklearn\\metrics\\_classification.py\", line 84, in _check_targets\n",
      "    check_consistent_length(y_true, y_pred)\n",
      "  File \"C:\\Users\\Steph\\anaconda3\\lib\\site-packages\\sklearn\\utils\\validation.py\", line 409, in check_consistent_length\n",
      "    raise ValueError(\n",
      "ValueError: Found input variables with inconsistent numbers of samples: [20000, 200000]\n",
      "\n",
      "  warnings.warn(\n"
     ]
    },
    {
     "name": "stdout",
     "output_type": "stream",
     "text": [
      "INFO:tensorflow:Assets written to: C:\\Users\\Steph\\AppData\\Local\\Temp\\tmp69bvaybb\\assets\n",
      "Restoring model weights from the end of the best epoch: 27.\n",
      "Epoch 32: early stopping\n",
      "80/80 [==============================] - 1s 14ms/step\n"
     ]
    },
    {
     "name": "stderr",
     "output_type": "stream",
     "text": [
      "C:\\Users\\Steph\\anaconda3\\lib\\site-packages\\sklearn\\model_selection\\_validation.py:824: UserWarning: Scoring failed. The score on this train-test partition for these parameters will be set to nan. Details: \n",
      "Traceback (most recent call last):\n",
      "  File \"C:\\Users\\Steph\\anaconda3\\lib\\site-packages\\sklearn\\model_selection\\_validation.py\", line 813, in _score\n",
      "    scores = scorer(estimator, X_test, y_test)\n",
      "  File \"C:\\Users\\Steph\\anaconda3\\lib\\site-packages\\sklearn\\metrics\\_scorer.py\", line 266, in __call__\n",
      "    return self._score(partial(_cached_call, None), estimator, X, y_true, **_kwargs)\n",
      "  File \"C:\\Users\\Steph\\anaconda3\\lib\\site-packages\\sklearn\\metrics\\_scorer.py\", line 355, in _score\n",
      "    return self._sign * self._score_func(y_true, y_pred, **scoring_kwargs)\n",
      "  File \"C:\\Users\\Steph\\anaconda3\\lib\\site-packages\\sklearn\\utils\\_param_validation.py\", line 211, in wrapper\n",
      "    return func(*args, **kwargs)\n",
      "  File \"C:\\Users\\Steph\\anaconda3\\lib\\site-packages\\sklearn\\metrics\\_classification.py\", line 220, in accuracy_score\n",
      "    y_type, y_true, y_pred = _check_targets(y_true, y_pred)\n",
      "  File \"C:\\Users\\Steph\\anaconda3\\lib\\site-packages\\sklearn\\metrics\\_classification.py\", line 84, in _check_targets\n",
      "    check_consistent_length(y_true, y_pred)\n",
      "  File \"C:\\Users\\Steph\\anaconda3\\lib\\site-packages\\sklearn\\utils\\validation.py\", line 409, in check_consistent_length\n",
      "    raise ValueError(\n",
      "ValueError: Found input variables with inconsistent numbers of samples: [20000, 200000]\n",
      "\n",
      "  warnings.warn(\n"
     ]
    },
    {
     "name": "stdout",
     "output_type": "stream",
     "text": [
      "INFO:tensorflow:Assets written to: C:\\Users\\Steph\\AppData\\Local\\Temp\\tmpbr6op4q6\\assets\n",
      "Restoring model weights from the end of the best epoch: 19.\n",
      "Epoch 24: early stopping\n",
      "80/80 [==============================] - 2s 17ms/step\n"
     ]
    },
    {
     "name": "stderr",
     "output_type": "stream",
     "text": [
      "C:\\Users\\Steph\\anaconda3\\lib\\site-packages\\sklearn\\model_selection\\_validation.py:824: UserWarning: Scoring failed. The score on this train-test partition for these parameters will be set to nan. Details: \n",
      "Traceback (most recent call last):\n",
      "  File \"C:\\Users\\Steph\\anaconda3\\lib\\site-packages\\sklearn\\model_selection\\_validation.py\", line 813, in _score\n",
      "    scores = scorer(estimator, X_test, y_test)\n",
      "  File \"C:\\Users\\Steph\\anaconda3\\lib\\site-packages\\sklearn\\metrics\\_scorer.py\", line 266, in __call__\n",
      "    return self._score(partial(_cached_call, None), estimator, X, y_true, **_kwargs)\n",
      "  File \"C:\\Users\\Steph\\anaconda3\\lib\\site-packages\\sklearn\\metrics\\_scorer.py\", line 355, in _score\n",
      "    return self._sign * self._score_func(y_true, y_pred, **scoring_kwargs)\n",
      "  File \"C:\\Users\\Steph\\anaconda3\\lib\\site-packages\\sklearn\\utils\\_param_validation.py\", line 211, in wrapper\n",
      "    return func(*args, **kwargs)\n",
      "  File \"C:\\Users\\Steph\\anaconda3\\lib\\site-packages\\sklearn\\metrics\\_classification.py\", line 220, in accuracy_score\n",
      "    y_type, y_true, y_pred = _check_targets(y_true, y_pred)\n",
      "  File \"C:\\Users\\Steph\\anaconda3\\lib\\site-packages\\sklearn\\metrics\\_classification.py\", line 84, in _check_targets\n",
      "    check_consistent_length(y_true, y_pred)\n",
      "  File \"C:\\Users\\Steph\\anaconda3\\lib\\site-packages\\sklearn\\utils\\validation.py\", line 409, in check_consistent_length\n",
      "    raise ValueError(\n",
      "ValueError: Found input variables with inconsistent numbers of samples: [20000, 200000]\n",
      "\n",
      "  warnings.warn(\n"
     ]
    },
    {
     "name": "stdout",
     "output_type": "stream",
     "text": [
      "INFO:tensorflow:Assets written to: C:\\Users\\Steph\\AppData\\Local\\Temp\\tmp0rjm5hfz\\assets\n",
      "Restoring model weights from the end of the best epoch: 30.\n",
      "Epoch 35: early stopping\n",
      "80/80 [==============================] - 1s 13ms/step\n"
     ]
    },
    {
     "name": "stderr",
     "output_type": "stream",
     "text": [
      "C:\\Users\\Steph\\anaconda3\\lib\\site-packages\\sklearn\\model_selection\\_validation.py:824: UserWarning: Scoring failed. The score on this train-test partition for these parameters will be set to nan. Details: \n",
      "Traceback (most recent call last):\n",
      "  File \"C:\\Users\\Steph\\anaconda3\\lib\\site-packages\\sklearn\\model_selection\\_validation.py\", line 813, in _score\n",
      "    scores = scorer(estimator, X_test, y_test)\n",
      "  File \"C:\\Users\\Steph\\anaconda3\\lib\\site-packages\\sklearn\\metrics\\_scorer.py\", line 266, in __call__\n",
      "    return self._score(partial(_cached_call, None), estimator, X, y_true, **_kwargs)\n",
      "  File \"C:\\Users\\Steph\\anaconda3\\lib\\site-packages\\sklearn\\metrics\\_scorer.py\", line 355, in _score\n",
      "    return self._sign * self._score_func(y_true, y_pred, **scoring_kwargs)\n",
      "  File \"C:\\Users\\Steph\\anaconda3\\lib\\site-packages\\sklearn\\utils\\_param_validation.py\", line 211, in wrapper\n",
      "    return func(*args, **kwargs)\n",
      "  File \"C:\\Users\\Steph\\anaconda3\\lib\\site-packages\\sklearn\\metrics\\_classification.py\", line 220, in accuracy_score\n",
      "    y_type, y_true, y_pred = _check_targets(y_true, y_pred)\n",
      "  File \"C:\\Users\\Steph\\anaconda3\\lib\\site-packages\\sklearn\\metrics\\_classification.py\", line 84, in _check_targets\n",
      "    check_consistent_length(y_true, y_pred)\n",
      "  File \"C:\\Users\\Steph\\anaconda3\\lib\\site-packages\\sklearn\\utils\\validation.py\", line 409, in check_consistent_length\n",
      "    raise ValueError(\n",
      "ValueError: Found input variables with inconsistent numbers of samples: [20000, 200000]\n",
      "\n",
      "  warnings.warn(\n"
     ]
    },
    {
     "name": "stdout",
     "output_type": "stream",
     "text": [
      "INFO:tensorflow:Assets written to: C:\\Users\\Steph\\AppData\\Local\\Temp\\tmpbjp_3gas\\assets\n",
      "Restoring model weights from the end of the best epoch: 27.\n",
      "Epoch 32: early stopping\n",
      "80/80 [==============================] - 1s 15ms/step\n"
     ]
    },
    {
     "name": "stderr",
     "output_type": "stream",
     "text": [
      "C:\\Users\\Steph\\anaconda3\\lib\\site-packages\\sklearn\\model_selection\\_validation.py:824: UserWarning: Scoring failed. The score on this train-test partition for these parameters will be set to nan. Details: \n",
      "Traceback (most recent call last):\n",
      "  File \"C:\\Users\\Steph\\anaconda3\\lib\\site-packages\\sklearn\\model_selection\\_validation.py\", line 813, in _score\n",
      "    scores = scorer(estimator, X_test, y_test)\n",
      "  File \"C:\\Users\\Steph\\anaconda3\\lib\\site-packages\\sklearn\\metrics\\_scorer.py\", line 266, in __call__\n",
      "    return self._score(partial(_cached_call, None), estimator, X, y_true, **_kwargs)\n",
      "  File \"C:\\Users\\Steph\\anaconda3\\lib\\site-packages\\sklearn\\metrics\\_scorer.py\", line 355, in _score\n",
      "    return self._sign * self._score_func(y_true, y_pred, **scoring_kwargs)\n",
      "  File \"C:\\Users\\Steph\\anaconda3\\lib\\site-packages\\sklearn\\utils\\_param_validation.py\", line 211, in wrapper\n",
      "    return func(*args, **kwargs)\n",
      "  File \"C:\\Users\\Steph\\anaconda3\\lib\\site-packages\\sklearn\\metrics\\_classification.py\", line 220, in accuracy_score\n",
      "    y_type, y_true, y_pred = _check_targets(y_true, y_pred)\n",
      "  File \"C:\\Users\\Steph\\anaconda3\\lib\\site-packages\\sklearn\\metrics\\_classification.py\", line 84, in _check_targets\n",
      "    check_consistent_length(y_true, y_pred)\n",
      "  File \"C:\\Users\\Steph\\anaconda3\\lib\\site-packages\\sklearn\\utils\\validation.py\", line 409, in check_consistent_length\n",
      "    raise ValueError(\n",
      "ValueError: Found input variables with inconsistent numbers of samples: [20000, 200000]\n",
      "\n",
      "  warnings.warn(\n"
     ]
    },
    {
     "name": "stdout",
     "output_type": "stream",
     "text": [
      "INFO:tensorflow:Assets written to: C:\\Users\\Steph\\AppData\\Local\\Temp\\tmpjsug7fmo\\assets\n",
      "Restoring model weights from the end of the best epoch: 25.\n",
      "Epoch 30: early stopping\n",
      "80/80 [==============================] - 1s 14ms/step\n"
     ]
    },
    {
     "name": "stderr",
     "output_type": "stream",
     "text": [
      "C:\\Users\\Steph\\anaconda3\\lib\\site-packages\\sklearn\\model_selection\\_validation.py:824: UserWarning: Scoring failed. The score on this train-test partition for these parameters will be set to nan. Details: \n",
      "Traceback (most recent call last):\n",
      "  File \"C:\\Users\\Steph\\anaconda3\\lib\\site-packages\\sklearn\\model_selection\\_validation.py\", line 813, in _score\n",
      "    scores = scorer(estimator, X_test, y_test)\n",
      "  File \"C:\\Users\\Steph\\anaconda3\\lib\\site-packages\\sklearn\\metrics\\_scorer.py\", line 266, in __call__\n",
      "    return self._score(partial(_cached_call, None), estimator, X, y_true, **_kwargs)\n",
      "  File \"C:\\Users\\Steph\\anaconda3\\lib\\site-packages\\sklearn\\metrics\\_scorer.py\", line 355, in _score\n",
      "    return self._sign * self._score_func(y_true, y_pred, **scoring_kwargs)\n",
      "  File \"C:\\Users\\Steph\\anaconda3\\lib\\site-packages\\sklearn\\utils\\_param_validation.py\", line 211, in wrapper\n",
      "    return func(*args, **kwargs)\n",
      "  File \"C:\\Users\\Steph\\anaconda3\\lib\\site-packages\\sklearn\\metrics\\_classification.py\", line 220, in accuracy_score\n",
      "    y_type, y_true, y_pred = _check_targets(y_true, y_pred)\n",
      "  File \"C:\\Users\\Steph\\anaconda3\\lib\\site-packages\\sklearn\\metrics\\_classification.py\", line 84, in _check_targets\n",
      "    check_consistent_length(y_true, y_pred)\n",
      "  File \"C:\\Users\\Steph\\anaconda3\\lib\\site-packages\\sklearn\\utils\\validation.py\", line 409, in check_consistent_length\n",
      "    raise ValueError(\n",
      "ValueError: Found input variables with inconsistent numbers of samples: [20000, 200000]\n",
      "\n",
      "  warnings.warn(\n"
     ]
    },
    {
     "name": "stdout",
     "output_type": "stream",
     "text": [
      "INFO:tensorflow:Assets written to: C:\\Users\\Steph\\AppData\\Local\\Temp\\tmpbvejs1j_\\assets\n",
      "Restoring model weights from the end of the best epoch: 36.\n",
      "Epoch 41: early stopping\n",
      "80/80 [==============================] - 0s 2ms/step\n"
     ]
    },
    {
     "name": "stderr",
     "output_type": "stream",
     "text": [
      "C:\\Users\\Steph\\anaconda3\\lib\\site-packages\\sklearn\\model_selection\\_validation.py:824: UserWarning: Scoring failed. The score on this train-test partition for these parameters will be set to nan. Details: \n",
      "Traceback (most recent call last):\n",
      "  File \"C:\\Users\\Steph\\anaconda3\\lib\\site-packages\\sklearn\\model_selection\\_validation.py\", line 813, in _score\n",
      "    scores = scorer(estimator, X_test, y_test)\n",
      "  File \"C:\\Users\\Steph\\anaconda3\\lib\\site-packages\\sklearn\\metrics\\_scorer.py\", line 266, in __call__\n",
      "    return self._score(partial(_cached_call, None), estimator, X, y_true, **_kwargs)\n",
      "  File \"C:\\Users\\Steph\\anaconda3\\lib\\site-packages\\sklearn\\metrics\\_scorer.py\", line 355, in _score\n",
      "    return self._sign * self._score_func(y_true, y_pred, **scoring_kwargs)\n",
      "  File \"C:\\Users\\Steph\\anaconda3\\lib\\site-packages\\sklearn\\utils\\_param_validation.py\", line 211, in wrapper\n",
      "    return func(*args, **kwargs)\n",
      "  File \"C:\\Users\\Steph\\anaconda3\\lib\\site-packages\\sklearn\\metrics\\_classification.py\", line 220, in accuracy_score\n",
      "    y_type, y_true, y_pred = _check_targets(y_true, y_pred)\n",
      "  File \"C:\\Users\\Steph\\anaconda3\\lib\\site-packages\\sklearn\\metrics\\_classification.py\", line 84, in _check_targets\n",
      "    check_consistent_length(y_true, y_pred)\n",
      "  File \"C:\\Users\\Steph\\anaconda3\\lib\\site-packages\\sklearn\\utils\\validation.py\", line 409, in check_consistent_length\n",
      "    raise ValueError(\n",
      "ValueError: Found input variables with inconsistent numbers of samples: [20000, 200000]\n",
      "\n",
      "  warnings.warn(\n"
     ]
    },
    {
     "name": "stdout",
     "output_type": "stream",
     "text": [
      "INFO:tensorflow:Assets written to: C:\\Users\\Steph\\AppData\\Local\\Temp\\tmpjztqlqat\\assets\n",
      "Restoring model weights from the end of the best epoch: 88.\n",
      "Epoch 93: early stopping\n",
      "80/80 [==============================] - 0s 1ms/step\n"
     ]
    },
    {
     "name": "stderr",
     "output_type": "stream",
     "text": [
      "C:\\Users\\Steph\\anaconda3\\lib\\site-packages\\sklearn\\model_selection\\_validation.py:824: UserWarning: Scoring failed. The score on this train-test partition for these parameters will be set to nan. Details: \n",
      "Traceback (most recent call last):\n",
      "  File \"C:\\Users\\Steph\\anaconda3\\lib\\site-packages\\sklearn\\model_selection\\_validation.py\", line 813, in _score\n",
      "    scores = scorer(estimator, X_test, y_test)\n",
      "  File \"C:\\Users\\Steph\\anaconda3\\lib\\site-packages\\sklearn\\metrics\\_scorer.py\", line 266, in __call__\n",
      "    return self._score(partial(_cached_call, None), estimator, X, y_true, **_kwargs)\n",
      "  File \"C:\\Users\\Steph\\anaconda3\\lib\\site-packages\\sklearn\\metrics\\_scorer.py\", line 355, in _score\n",
      "    return self._sign * self._score_func(y_true, y_pred, **scoring_kwargs)\n",
      "  File \"C:\\Users\\Steph\\anaconda3\\lib\\site-packages\\sklearn\\utils\\_param_validation.py\", line 211, in wrapper\n",
      "    return func(*args, **kwargs)\n",
      "  File \"C:\\Users\\Steph\\anaconda3\\lib\\site-packages\\sklearn\\metrics\\_classification.py\", line 220, in accuracy_score\n",
      "    y_type, y_true, y_pred = _check_targets(y_true, y_pred)\n",
      "  File \"C:\\Users\\Steph\\anaconda3\\lib\\site-packages\\sklearn\\metrics\\_classification.py\", line 84, in _check_targets\n",
      "    check_consistent_length(y_true, y_pred)\n",
      "  File \"C:\\Users\\Steph\\anaconda3\\lib\\site-packages\\sklearn\\utils\\validation.py\", line 409, in check_consistent_length\n",
      "    raise ValueError(\n",
      "ValueError: Found input variables with inconsistent numbers of samples: [20000, 200000]\n",
      "\n",
      "  warnings.warn(\n"
     ]
    },
    {
     "name": "stdout",
     "output_type": "stream",
     "text": [
      "INFO:tensorflow:Assets written to: C:\\Users\\Steph\\AppData\\Local\\Temp\\tmp3e9wjfm2\\assets\n",
      "Restoring model weights from the end of the best epoch: 14.\n",
      "Epoch 19: early stopping\n",
      "80/80 [==============================] - 0s 2ms/step\n"
     ]
    },
    {
     "name": "stderr",
     "output_type": "stream",
     "text": [
      "C:\\Users\\Steph\\anaconda3\\lib\\site-packages\\sklearn\\model_selection\\_validation.py:824: UserWarning: Scoring failed. The score on this train-test partition for these parameters will be set to nan. Details: \n",
      "Traceback (most recent call last):\n",
      "  File \"C:\\Users\\Steph\\anaconda3\\lib\\site-packages\\sklearn\\model_selection\\_validation.py\", line 813, in _score\n",
      "    scores = scorer(estimator, X_test, y_test)\n",
      "  File \"C:\\Users\\Steph\\anaconda3\\lib\\site-packages\\sklearn\\metrics\\_scorer.py\", line 266, in __call__\n",
      "    return self._score(partial(_cached_call, None), estimator, X, y_true, **_kwargs)\n",
      "  File \"C:\\Users\\Steph\\anaconda3\\lib\\site-packages\\sklearn\\metrics\\_scorer.py\", line 355, in _score\n",
      "    return self._sign * self._score_func(y_true, y_pred, **scoring_kwargs)\n",
      "  File \"C:\\Users\\Steph\\anaconda3\\lib\\site-packages\\sklearn\\utils\\_param_validation.py\", line 211, in wrapper\n",
      "    return func(*args, **kwargs)\n",
      "  File \"C:\\Users\\Steph\\anaconda3\\lib\\site-packages\\sklearn\\metrics\\_classification.py\", line 220, in accuracy_score\n",
      "    y_type, y_true, y_pred = _check_targets(y_true, y_pred)\n",
      "  File \"C:\\Users\\Steph\\anaconda3\\lib\\site-packages\\sklearn\\metrics\\_classification.py\", line 84, in _check_targets\n",
      "    check_consistent_length(y_true, y_pred)\n",
      "  File \"C:\\Users\\Steph\\anaconda3\\lib\\site-packages\\sklearn\\utils\\validation.py\", line 409, in check_consistent_length\n",
      "    raise ValueError(\n",
      "ValueError: Found input variables with inconsistent numbers of samples: [20000, 200000]\n",
      "\n",
      "  warnings.warn(\n"
     ]
    },
    {
     "name": "stdout",
     "output_type": "stream",
     "text": [
      "INFO:tensorflow:Assets written to: C:\\Users\\Steph\\AppData\\Local\\Temp\\tmpzl9brq92\\assets\n",
      "Restoring model weights from the end of the best epoch: 46.\n",
      "Epoch 51: early stopping\n",
      "80/80 [==============================] - 1s 14ms/step\n"
     ]
    },
    {
     "name": "stderr",
     "output_type": "stream",
     "text": [
      "C:\\Users\\Steph\\anaconda3\\lib\\site-packages\\sklearn\\model_selection\\_validation.py:824: UserWarning: Scoring failed. The score on this train-test partition for these parameters will be set to nan. Details: \n",
      "Traceback (most recent call last):\n",
      "  File \"C:\\Users\\Steph\\anaconda3\\lib\\site-packages\\sklearn\\model_selection\\_validation.py\", line 813, in _score\n",
      "    scores = scorer(estimator, X_test, y_test)\n",
      "  File \"C:\\Users\\Steph\\anaconda3\\lib\\site-packages\\sklearn\\metrics\\_scorer.py\", line 266, in __call__\n",
      "    return self._score(partial(_cached_call, None), estimator, X, y_true, **_kwargs)\n",
      "  File \"C:\\Users\\Steph\\anaconda3\\lib\\site-packages\\sklearn\\metrics\\_scorer.py\", line 355, in _score\n",
      "    return self._sign * self._score_func(y_true, y_pred, **scoring_kwargs)\n",
      "  File \"C:\\Users\\Steph\\anaconda3\\lib\\site-packages\\sklearn\\utils\\_param_validation.py\", line 211, in wrapper\n",
      "    return func(*args, **kwargs)\n",
      "  File \"C:\\Users\\Steph\\anaconda3\\lib\\site-packages\\sklearn\\metrics\\_classification.py\", line 220, in accuracy_score\n",
      "    y_type, y_true, y_pred = _check_targets(y_true, y_pred)\n",
      "  File \"C:\\Users\\Steph\\anaconda3\\lib\\site-packages\\sklearn\\metrics\\_classification.py\", line 84, in _check_targets\n",
      "    check_consistent_length(y_true, y_pred)\n",
      "  File \"C:\\Users\\Steph\\anaconda3\\lib\\site-packages\\sklearn\\utils\\validation.py\", line 409, in check_consistent_length\n",
      "    raise ValueError(\n",
      "ValueError: Found input variables with inconsistent numbers of samples: [20000, 200000]\n",
      "\n",
      "  warnings.warn(\n"
     ]
    },
    {
     "name": "stdout",
     "output_type": "stream",
     "text": [
      "INFO:tensorflow:Assets written to: C:\\Users\\Steph\\AppData\\Local\\Temp\\tmpt5h4b2ls\\assets\n",
      "Restoring model weights from the end of the best epoch: 54.\n",
      "Epoch 59: early stopping\n",
      "80/80 [==============================] - 1s 13ms/step\n"
     ]
    },
    {
     "name": "stderr",
     "output_type": "stream",
     "text": [
      "C:\\Users\\Steph\\anaconda3\\lib\\site-packages\\sklearn\\model_selection\\_validation.py:824: UserWarning: Scoring failed. The score on this train-test partition for these parameters will be set to nan. Details: \n",
      "Traceback (most recent call last):\n",
      "  File \"C:\\Users\\Steph\\anaconda3\\lib\\site-packages\\sklearn\\model_selection\\_validation.py\", line 813, in _score\n",
      "    scores = scorer(estimator, X_test, y_test)\n",
      "  File \"C:\\Users\\Steph\\anaconda3\\lib\\site-packages\\sklearn\\metrics\\_scorer.py\", line 266, in __call__\n",
      "    return self._score(partial(_cached_call, None), estimator, X, y_true, **_kwargs)\n",
      "  File \"C:\\Users\\Steph\\anaconda3\\lib\\site-packages\\sklearn\\metrics\\_scorer.py\", line 355, in _score\n",
      "    return self._sign * self._score_func(y_true, y_pred, **scoring_kwargs)\n",
      "  File \"C:\\Users\\Steph\\anaconda3\\lib\\site-packages\\sklearn\\utils\\_param_validation.py\", line 211, in wrapper\n",
      "    return func(*args, **kwargs)\n",
      "  File \"C:\\Users\\Steph\\anaconda3\\lib\\site-packages\\sklearn\\metrics\\_classification.py\", line 220, in accuracy_score\n",
      "    y_type, y_true, y_pred = _check_targets(y_true, y_pred)\n",
      "  File \"C:\\Users\\Steph\\anaconda3\\lib\\site-packages\\sklearn\\metrics\\_classification.py\", line 84, in _check_targets\n",
      "    check_consistent_length(y_true, y_pred)\n",
      "  File \"C:\\Users\\Steph\\anaconda3\\lib\\site-packages\\sklearn\\utils\\validation.py\", line 409, in check_consistent_length\n",
      "    raise ValueError(\n",
      "ValueError: Found input variables with inconsistent numbers of samples: [20000, 200000]\n",
      "\n",
      "  warnings.warn(\n"
     ]
    },
    {
     "name": "stdout",
     "output_type": "stream",
     "text": [
      "INFO:tensorflow:Assets written to: C:\\Users\\Steph\\AppData\\Local\\Temp\\tmpn774kc73\\assets\n",
      "Restoring model weights from the end of the best epoch: 34.\n",
      "Epoch 39: early stopping\n",
      "80/80 [==============================] - 1s 14ms/step\n"
     ]
    },
    {
     "name": "stderr",
     "output_type": "stream",
     "text": [
      "C:\\Users\\Steph\\anaconda3\\lib\\site-packages\\sklearn\\model_selection\\_validation.py:824: UserWarning: Scoring failed. The score on this train-test partition for these parameters will be set to nan. Details: \n",
      "Traceback (most recent call last):\n",
      "  File \"C:\\Users\\Steph\\anaconda3\\lib\\site-packages\\sklearn\\model_selection\\_validation.py\", line 813, in _score\n",
      "    scores = scorer(estimator, X_test, y_test)\n",
      "  File \"C:\\Users\\Steph\\anaconda3\\lib\\site-packages\\sklearn\\metrics\\_scorer.py\", line 266, in __call__\n",
      "    return self._score(partial(_cached_call, None), estimator, X, y_true, **_kwargs)\n",
      "  File \"C:\\Users\\Steph\\anaconda3\\lib\\site-packages\\sklearn\\metrics\\_scorer.py\", line 355, in _score\n",
      "    return self._sign * self._score_func(y_true, y_pred, **scoring_kwargs)\n",
      "  File \"C:\\Users\\Steph\\anaconda3\\lib\\site-packages\\sklearn\\utils\\_param_validation.py\", line 211, in wrapper\n",
      "    return func(*args, **kwargs)\n",
      "  File \"C:\\Users\\Steph\\anaconda3\\lib\\site-packages\\sklearn\\metrics\\_classification.py\", line 220, in accuracy_score\n",
      "    y_type, y_true, y_pred = _check_targets(y_true, y_pred)\n",
      "  File \"C:\\Users\\Steph\\anaconda3\\lib\\site-packages\\sklearn\\metrics\\_classification.py\", line 84, in _check_targets\n",
      "    check_consistent_length(y_true, y_pred)\n",
      "  File \"C:\\Users\\Steph\\anaconda3\\lib\\site-packages\\sklearn\\utils\\validation.py\", line 409, in check_consistent_length\n",
      "    raise ValueError(\n",
      "ValueError: Found input variables with inconsistent numbers of samples: [20000, 200000]\n",
      "\n",
      "  warnings.warn(\n"
     ]
    },
    {
     "name": "stdout",
     "output_type": "stream",
     "text": [
      "INFO:tensorflow:Assets written to: C:\\Users\\Steph\\AppData\\Local\\Temp\\tmpl82ncg7n\\assets\n",
      "Restoring model weights from the end of the best epoch: 17.\n",
      "Epoch 22: early stopping\n",
      "80/80 [==============================] - 1s 11ms/step\n"
     ]
    },
    {
     "name": "stderr",
     "output_type": "stream",
     "text": [
      "C:\\Users\\Steph\\anaconda3\\lib\\site-packages\\sklearn\\model_selection\\_validation.py:824: UserWarning: Scoring failed. The score on this train-test partition for these parameters will be set to nan. Details: \n",
      "Traceback (most recent call last):\n",
      "  File \"C:\\Users\\Steph\\anaconda3\\lib\\site-packages\\sklearn\\model_selection\\_validation.py\", line 813, in _score\n",
      "    scores = scorer(estimator, X_test, y_test)\n",
      "  File \"C:\\Users\\Steph\\anaconda3\\lib\\site-packages\\sklearn\\metrics\\_scorer.py\", line 266, in __call__\n",
      "    return self._score(partial(_cached_call, None), estimator, X, y_true, **_kwargs)\n",
      "  File \"C:\\Users\\Steph\\anaconda3\\lib\\site-packages\\sklearn\\metrics\\_scorer.py\", line 355, in _score\n",
      "    return self._sign * self._score_func(y_true, y_pred, **scoring_kwargs)\n",
      "  File \"C:\\Users\\Steph\\anaconda3\\lib\\site-packages\\sklearn\\utils\\_param_validation.py\", line 211, in wrapper\n",
      "    return func(*args, **kwargs)\n",
      "  File \"C:\\Users\\Steph\\anaconda3\\lib\\site-packages\\sklearn\\metrics\\_classification.py\", line 220, in accuracy_score\n",
      "    y_type, y_true, y_pred = _check_targets(y_true, y_pred)\n",
      "  File \"C:\\Users\\Steph\\anaconda3\\lib\\site-packages\\sklearn\\metrics\\_classification.py\", line 84, in _check_targets\n",
      "    check_consistent_length(y_true, y_pred)\n",
      "  File \"C:\\Users\\Steph\\anaconda3\\lib\\site-packages\\sklearn\\utils\\validation.py\", line 409, in check_consistent_length\n",
      "    raise ValueError(\n",
      "ValueError: Found input variables with inconsistent numbers of samples: [20000, 200000]\n",
      "\n",
      "  warnings.warn(\n"
     ]
    },
    {
     "name": "stdout",
     "output_type": "stream",
     "text": [
      "INFO:tensorflow:Assets written to: C:\\Users\\Steph\\AppData\\Local\\Temp\\tmphelt_u0i\\assets\n",
      "Restoring model weights from the end of the best epoch: 14.\n",
      "Epoch 19: early stopping\n",
      "80/80 [==============================] - 1s 17ms/step\n"
     ]
    },
    {
     "name": "stderr",
     "output_type": "stream",
     "text": [
      "C:\\Users\\Steph\\anaconda3\\lib\\site-packages\\sklearn\\model_selection\\_validation.py:824: UserWarning: Scoring failed. The score on this train-test partition for these parameters will be set to nan. Details: \n",
      "Traceback (most recent call last):\n",
      "  File \"C:\\Users\\Steph\\anaconda3\\lib\\site-packages\\sklearn\\model_selection\\_validation.py\", line 813, in _score\n",
      "    scores = scorer(estimator, X_test, y_test)\n",
      "  File \"C:\\Users\\Steph\\anaconda3\\lib\\site-packages\\sklearn\\metrics\\_scorer.py\", line 266, in __call__\n",
      "    return self._score(partial(_cached_call, None), estimator, X, y_true, **_kwargs)\n",
      "  File \"C:\\Users\\Steph\\anaconda3\\lib\\site-packages\\sklearn\\metrics\\_scorer.py\", line 355, in _score\n",
      "    return self._sign * self._score_func(y_true, y_pred, **scoring_kwargs)\n",
      "  File \"C:\\Users\\Steph\\anaconda3\\lib\\site-packages\\sklearn\\utils\\_param_validation.py\", line 211, in wrapper\n",
      "    return func(*args, **kwargs)\n",
      "  File \"C:\\Users\\Steph\\anaconda3\\lib\\site-packages\\sklearn\\metrics\\_classification.py\", line 220, in accuracy_score\n",
      "    y_type, y_true, y_pred = _check_targets(y_true, y_pred)\n",
      "  File \"C:\\Users\\Steph\\anaconda3\\lib\\site-packages\\sklearn\\metrics\\_classification.py\", line 84, in _check_targets\n",
      "    check_consistent_length(y_true, y_pred)\n",
      "  File \"C:\\Users\\Steph\\anaconda3\\lib\\site-packages\\sklearn\\utils\\validation.py\", line 409, in check_consistent_length\n",
      "    raise ValueError(\n",
      "ValueError: Found input variables with inconsistent numbers of samples: [20000, 200000]\n",
      "\n",
      "  warnings.warn(\n"
     ]
    },
    {
     "name": "stdout",
     "output_type": "stream",
     "text": [
      "INFO:tensorflow:Assets written to: C:\\Users\\Steph\\AppData\\Local\\Temp\\tmpb3b78eue\\assets\n",
      "Restoring model weights from the end of the best epoch: 32.\n",
      "Epoch 37: early stopping\n",
      "80/80 [==============================] - 1s 17ms/step\n"
     ]
    },
    {
     "name": "stderr",
     "output_type": "stream",
     "text": [
      "C:\\Users\\Steph\\anaconda3\\lib\\site-packages\\sklearn\\model_selection\\_validation.py:824: UserWarning: Scoring failed. The score on this train-test partition for these parameters will be set to nan. Details: \n",
      "Traceback (most recent call last):\n",
      "  File \"C:\\Users\\Steph\\anaconda3\\lib\\site-packages\\sklearn\\model_selection\\_validation.py\", line 813, in _score\n",
      "    scores = scorer(estimator, X_test, y_test)\n",
      "  File \"C:\\Users\\Steph\\anaconda3\\lib\\site-packages\\sklearn\\metrics\\_scorer.py\", line 266, in __call__\n",
      "    return self._score(partial(_cached_call, None), estimator, X, y_true, **_kwargs)\n",
      "  File \"C:\\Users\\Steph\\anaconda3\\lib\\site-packages\\sklearn\\metrics\\_scorer.py\", line 355, in _score\n",
      "    return self._sign * self._score_func(y_true, y_pred, **scoring_kwargs)\n",
      "  File \"C:\\Users\\Steph\\anaconda3\\lib\\site-packages\\sklearn\\utils\\_param_validation.py\", line 211, in wrapper\n",
      "    return func(*args, **kwargs)\n",
      "  File \"C:\\Users\\Steph\\anaconda3\\lib\\site-packages\\sklearn\\metrics\\_classification.py\", line 220, in accuracy_score\n",
      "    y_type, y_true, y_pred = _check_targets(y_true, y_pred)\n",
      "  File \"C:\\Users\\Steph\\anaconda3\\lib\\site-packages\\sklearn\\metrics\\_classification.py\", line 84, in _check_targets\n",
      "    check_consistent_length(y_true, y_pred)\n",
      "  File \"C:\\Users\\Steph\\anaconda3\\lib\\site-packages\\sklearn\\utils\\validation.py\", line 409, in check_consistent_length\n",
      "    raise ValueError(\n",
      "ValueError: Found input variables with inconsistent numbers of samples: [20000, 200000]\n",
      "\n",
      "  warnings.warn(\n"
     ]
    },
    {
     "name": "stdout",
     "output_type": "stream",
     "text": [
      "INFO:tensorflow:Assets written to: C:\\Users\\Steph\\AppData\\Local\\Temp\\tmppyw2mpbb\\assets\n",
      "Restoring model weights from the end of the best epoch: 16.\n",
      "Epoch 21: early stopping\n",
      "80/80 [==============================] - 0s 2ms/step\n"
     ]
    },
    {
     "name": "stderr",
     "output_type": "stream",
     "text": [
      "C:\\Users\\Steph\\anaconda3\\lib\\site-packages\\sklearn\\model_selection\\_validation.py:824: UserWarning: Scoring failed. The score on this train-test partition for these parameters will be set to nan. Details: \n",
      "Traceback (most recent call last):\n",
      "  File \"C:\\Users\\Steph\\anaconda3\\lib\\site-packages\\sklearn\\model_selection\\_validation.py\", line 813, in _score\n",
      "    scores = scorer(estimator, X_test, y_test)\n",
      "  File \"C:\\Users\\Steph\\anaconda3\\lib\\site-packages\\sklearn\\metrics\\_scorer.py\", line 266, in __call__\n",
      "    return self._score(partial(_cached_call, None), estimator, X, y_true, **_kwargs)\n",
      "  File \"C:\\Users\\Steph\\anaconda3\\lib\\site-packages\\sklearn\\metrics\\_scorer.py\", line 355, in _score\n",
      "    return self._sign * self._score_func(y_true, y_pred, **scoring_kwargs)\n",
      "  File \"C:\\Users\\Steph\\anaconda3\\lib\\site-packages\\sklearn\\utils\\_param_validation.py\", line 211, in wrapper\n",
      "    return func(*args, **kwargs)\n",
      "  File \"C:\\Users\\Steph\\anaconda3\\lib\\site-packages\\sklearn\\metrics\\_classification.py\", line 220, in accuracy_score\n",
      "    y_type, y_true, y_pred = _check_targets(y_true, y_pred)\n",
      "  File \"C:\\Users\\Steph\\anaconda3\\lib\\site-packages\\sklearn\\metrics\\_classification.py\", line 84, in _check_targets\n",
      "    check_consistent_length(y_true, y_pred)\n",
      "  File \"C:\\Users\\Steph\\anaconda3\\lib\\site-packages\\sklearn\\utils\\validation.py\", line 409, in check_consistent_length\n",
      "    raise ValueError(\n",
      "ValueError: Found input variables with inconsistent numbers of samples: [20000, 200000]\n",
      "\n",
      "  warnings.warn(\n"
     ]
    },
    {
     "name": "stdout",
     "output_type": "stream",
     "text": [
      "INFO:tensorflow:Assets written to: C:\\Users\\Steph\\AppData\\Local\\Temp\\tmp8shljo7b\\assets\n",
      "Restoring model weights from the end of the best epoch: 59.\n",
      "Epoch 64: early stopping\n",
      "80/80 [==============================] - 0s 2ms/step\n"
     ]
    },
    {
     "name": "stderr",
     "output_type": "stream",
     "text": [
      "C:\\Users\\Steph\\anaconda3\\lib\\site-packages\\sklearn\\model_selection\\_validation.py:824: UserWarning: Scoring failed. The score on this train-test partition for these parameters will be set to nan. Details: \n",
      "Traceback (most recent call last):\n",
      "  File \"C:\\Users\\Steph\\anaconda3\\lib\\site-packages\\sklearn\\model_selection\\_validation.py\", line 813, in _score\n",
      "    scores = scorer(estimator, X_test, y_test)\n",
      "  File \"C:\\Users\\Steph\\anaconda3\\lib\\site-packages\\sklearn\\metrics\\_scorer.py\", line 266, in __call__\n",
      "    return self._score(partial(_cached_call, None), estimator, X, y_true, **_kwargs)\n",
      "  File \"C:\\Users\\Steph\\anaconda3\\lib\\site-packages\\sklearn\\metrics\\_scorer.py\", line 355, in _score\n",
      "    return self._sign * self._score_func(y_true, y_pred, **scoring_kwargs)\n",
      "  File \"C:\\Users\\Steph\\anaconda3\\lib\\site-packages\\sklearn\\utils\\_param_validation.py\", line 211, in wrapper\n",
      "    return func(*args, **kwargs)\n",
      "  File \"C:\\Users\\Steph\\anaconda3\\lib\\site-packages\\sklearn\\metrics\\_classification.py\", line 220, in accuracy_score\n",
      "    y_type, y_true, y_pred = _check_targets(y_true, y_pred)\n",
      "  File \"C:\\Users\\Steph\\anaconda3\\lib\\site-packages\\sklearn\\metrics\\_classification.py\", line 84, in _check_targets\n",
      "    check_consistent_length(y_true, y_pred)\n",
      "  File \"C:\\Users\\Steph\\anaconda3\\lib\\site-packages\\sklearn\\utils\\validation.py\", line 409, in check_consistent_length\n",
      "    raise ValueError(\n",
      "ValueError: Found input variables with inconsistent numbers of samples: [20000, 200000]\n",
      "\n",
      "  warnings.warn(\n"
     ]
    },
    {
     "name": "stdout",
     "output_type": "stream",
     "text": [
      "INFO:tensorflow:Assets written to: C:\\Users\\Steph\\AppData\\Local\\Temp\\tmp9kv9yjj_\\assets\n",
      "Restoring model weights from the end of the best epoch: 47.\n",
      "Epoch 52: early stopping\n",
      "80/80 [==============================] - 0s 2ms/step\n"
     ]
    },
    {
     "name": "stderr",
     "output_type": "stream",
     "text": [
      "C:\\Users\\Steph\\anaconda3\\lib\\site-packages\\sklearn\\model_selection\\_validation.py:824: UserWarning: Scoring failed. The score on this train-test partition for these parameters will be set to nan. Details: \n",
      "Traceback (most recent call last):\n",
      "  File \"C:\\Users\\Steph\\anaconda3\\lib\\site-packages\\sklearn\\model_selection\\_validation.py\", line 813, in _score\n",
      "    scores = scorer(estimator, X_test, y_test)\n",
      "  File \"C:\\Users\\Steph\\anaconda3\\lib\\site-packages\\sklearn\\metrics\\_scorer.py\", line 266, in __call__\n",
      "    return self._score(partial(_cached_call, None), estimator, X, y_true, **_kwargs)\n",
      "  File \"C:\\Users\\Steph\\anaconda3\\lib\\site-packages\\sklearn\\metrics\\_scorer.py\", line 355, in _score\n",
      "    return self._sign * self._score_func(y_true, y_pred, **scoring_kwargs)\n",
      "  File \"C:\\Users\\Steph\\anaconda3\\lib\\site-packages\\sklearn\\utils\\_param_validation.py\", line 211, in wrapper\n",
      "    return func(*args, **kwargs)\n",
      "  File \"C:\\Users\\Steph\\anaconda3\\lib\\site-packages\\sklearn\\metrics\\_classification.py\", line 220, in accuracy_score\n",
      "    y_type, y_true, y_pred = _check_targets(y_true, y_pred)\n",
      "  File \"C:\\Users\\Steph\\anaconda3\\lib\\site-packages\\sklearn\\metrics\\_classification.py\", line 84, in _check_targets\n",
      "    check_consistent_length(y_true, y_pred)\n",
      "  File \"C:\\Users\\Steph\\anaconda3\\lib\\site-packages\\sklearn\\utils\\validation.py\", line 409, in check_consistent_length\n",
      "    raise ValueError(\n",
      "ValueError: Found input variables with inconsistent numbers of samples: [20000, 200000]\n",
      "\n",
      "  warnings.warn(\n"
     ]
    },
    {
     "name": "stdout",
     "output_type": "stream",
     "text": [
      "INFO:tensorflow:Assets written to: C:\\Users\\Steph\\AppData\\Local\\Temp\\tmp0jrt60us\\assets\n",
      "Restoring model weights from the end of the best epoch: 18.\n",
      "Epoch 23: early stopping\n",
      "80/80 [==============================] - 1s 14ms/step\n"
     ]
    },
    {
     "name": "stderr",
     "output_type": "stream",
     "text": [
      "C:\\Users\\Steph\\anaconda3\\lib\\site-packages\\sklearn\\model_selection\\_validation.py:824: UserWarning: Scoring failed. The score on this train-test partition for these parameters will be set to nan. Details: \n",
      "Traceback (most recent call last):\n",
      "  File \"C:\\Users\\Steph\\anaconda3\\lib\\site-packages\\sklearn\\model_selection\\_validation.py\", line 813, in _score\n",
      "    scores = scorer(estimator, X_test, y_test)\n",
      "  File \"C:\\Users\\Steph\\anaconda3\\lib\\site-packages\\sklearn\\metrics\\_scorer.py\", line 266, in __call__\n",
      "    return self._score(partial(_cached_call, None), estimator, X, y_true, **_kwargs)\n",
      "  File \"C:\\Users\\Steph\\anaconda3\\lib\\site-packages\\sklearn\\metrics\\_scorer.py\", line 355, in _score\n",
      "    return self._sign * self._score_func(y_true, y_pred, **scoring_kwargs)\n",
      "  File \"C:\\Users\\Steph\\anaconda3\\lib\\site-packages\\sklearn\\utils\\_param_validation.py\", line 211, in wrapper\n",
      "    return func(*args, **kwargs)\n",
      "  File \"C:\\Users\\Steph\\anaconda3\\lib\\site-packages\\sklearn\\metrics\\_classification.py\", line 220, in accuracy_score\n",
      "    y_type, y_true, y_pred = _check_targets(y_true, y_pred)\n",
      "  File \"C:\\Users\\Steph\\anaconda3\\lib\\site-packages\\sklearn\\metrics\\_classification.py\", line 84, in _check_targets\n",
      "    check_consistent_length(y_true, y_pred)\n",
      "  File \"C:\\Users\\Steph\\anaconda3\\lib\\site-packages\\sklearn\\utils\\validation.py\", line 409, in check_consistent_length\n",
      "    raise ValueError(\n",
      "ValueError: Found input variables with inconsistent numbers of samples: [20000, 200000]\n",
      "\n",
      "  warnings.warn(\n"
     ]
    },
    {
     "name": "stdout",
     "output_type": "stream",
     "text": [
      "INFO:tensorflow:Assets written to: C:\\Users\\Steph\\AppData\\Local\\Temp\\tmp_m644ad0\\assets\n",
      "Restoring model weights from the end of the best epoch: 27.\n",
      "Epoch 32: early stopping\n",
      "80/80 [==============================] - 1s 11ms/step\n"
     ]
    },
    {
     "name": "stderr",
     "output_type": "stream",
     "text": [
      "C:\\Users\\Steph\\anaconda3\\lib\\site-packages\\sklearn\\model_selection\\_validation.py:824: UserWarning: Scoring failed. The score on this train-test partition for these parameters will be set to nan. Details: \n",
      "Traceback (most recent call last):\n",
      "  File \"C:\\Users\\Steph\\anaconda3\\lib\\site-packages\\sklearn\\model_selection\\_validation.py\", line 813, in _score\n",
      "    scores = scorer(estimator, X_test, y_test)\n",
      "  File \"C:\\Users\\Steph\\anaconda3\\lib\\site-packages\\sklearn\\metrics\\_scorer.py\", line 266, in __call__\n",
      "    return self._score(partial(_cached_call, None), estimator, X, y_true, **_kwargs)\n",
      "  File \"C:\\Users\\Steph\\anaconda3\\lib\\site-packages\\sklearn\\metrics\\_scorer.py\", line 355, in _score\n",
      "    return self._sign * self._score_func(y_true, y_pred, **scoring_kwargs)\n",
      "  File \"C:\\Users\\Steph\\anaconda3\\lib\\site-packages\\sklearn\\utils\\_param_validation.py\", line 211, in wrapper\n",
      "    return func(*args, **kwargs)\n",
      "  File \"C:\\Users\\Steph\\anaconda3\\lib\\site-packages\\sklearn\\metrics\\_classification.py\", line 220, in accuracy_score\n",
      "    y_type, y_true, y_pred = _check_targets(y_true, y_pred)\n",
      "  File \"C:\\Users\\Steph\\anaconda3\\lib\\site-packages\\sklearn\\metrics\\_classification.py\", line 84, in _check_targets\n",
      "    check_consistent_length(y_true, y_pred)\n",
      "  File \"C:\\Users\\Steph\\anaconda3\\lib\\site-packages\\sklearn\\utils\\validation.py\", line 409, in check_consistent_length\n",
      "    raise ValueError(\n",
      "ValueError: Found input variables with inconsistent numbers of samples: [20000, 200000]\n",
      "\n",
      "  warnings.warn(\n"
     ]
    },
    {
     "name": "stdout",
     "output_type": "stream",
     "text": [
      "INFO:tensorflow:Assets written to: C:\\Users\\Steph\\AppData\\Local\\Temp\\tmp6yp0_9jv\\assets\n",
      "Restoring model weights from the end of the best epoch: 53.\n",
      "Epoch 58: early stopping\n",
      "80/80 [==============================] - 1s 12ms/step\n"
     ]
    },
    {
     "name": "stderr",
     "output_type": "stream",
     "text": [
      "C:\\Users\\Steph\\anaconda3\\lib\\site-packages\\sklearn\\model_selection\\_validation.py:824: UserWarning: Scoring failed. The score on this train-test partition for these parameters will be set to nan. Details: \n",
      "Traceback (most recent call last):\n",
      "  File \"C:\\Users\\Steph\\anaconda3\\lib\\site-packages\\sklearn\\model_selection\\_validation.py\", line 813, in _score\n",
      "    scores = scorer(estimator, X_test, y_test)\n",
      "  File \"C:\\Users\\Steph\\anaconda3\\lib\\site-packages\\sklearn\\metrics\\_scorer.py\", line 266, in __call__\n",
      "    return self._score(partial(_cached_call, None), estimator, X, y_true, **_kwargs)\n",
      "  File \"C:\\Users\\Steph\\anaconda3\\lib\\site-packages\\sklearn\\metrics\\_scorer.py\", line 355, in _score\n",
      "    return self._sign * self._score_func(y_true, y_pred, **scoring_kwargs)\n",
      "  File \"C:\\Users\\Steph\\anaconda3\\lib\\site-packages\\sklearn\\utils\\_param_validation.py\", line 211, in wrapper\n",
      "    return func(*args, **kwargs)\n",
      "  File \"C:\\Users\\Steph\\anaconda3\\lib\\site-packages\\sklearn\\metrics\\_classification.py\", line 220, in accuracy_score\n",
      "    y_type, y_true, y_pred = _check_targets(y_true, y_pred)\n",
      "  File \"C:\\Users\\Steph\\anaconda3\\lib\\site-packages\\sklearn\\metrics\\_classification.py\", line 84, in _check_targets\n",
      "    check_consistent_length(y_true, y_pred)\n",
      "  File \"C:\\Users\\Steph\\anaconda3\\lib\\site-packages\\sklearn\\utils\\validation.py\", line 409, in check_consistent_length\n",
      "    raise ValueError(\n",
      "ValueError: Found input variables with inconsistent numbers of samples: [20000, 200000]\n",
      "\n",
      "  warnings.warn(\n"
     ]
    },
    {
     "name": "stdout",
     "output_type": "stream",
     "text": [
      "INFO:tensorflow:Assets written to: C:\\Users\\Steph\\AppData\\Local\\Temp\\tmpiu_m45d6\\assets\n",
      "Restoring model weights from the end of the best epoch: 30.\n",
      "Epoch 35: early stopping\n",
      "80/80 [==============================] - 1s 13ms/step\n"
     ]
    },
    {
     "name": "stderr",
     "output_type": "stream",
     "text": [
      "C:\\Users\\Steph\\anaconda3\\lib\\site-packages\\sklearn\\model_selection\\_validation.py:824: UserWarning: Scoring failed. The score on this train-test partition for these parameters will be set to nan. Details: \n",
      "Traceback (most recent call last):\n",
      "  File \"C:\\Users\\Steph\\anaconda3\\lib\\site-packages\\sklearn\\model_selection\\_validation.py\", line 813, in _score\n",
      "    scores = scorer(estimator, X_test, y_test)\n",
      "  File \"C:\\Users\\Steph\\anaconda3\\lib\\site-packages\\sklearn\\metrics\\_scorer.py\", line 266, in __call__\n",
      "    return self._score(partial(_cached_call, None), estimator, X, y_true, **_kwargs)\n",
      "  File \"C:\\Users\\Steph\\anaconda3\\lib\\site-packages\\sklearn\\metrics\\_scorer.py\", line 355, in _score\n",
      "    return self._sign * self._score_func(y_true, y_pred, **scoring_kwargs)\n",
      "  File \"C:\\Users\\Steph\\anaconda3\\lib\\site-packages\\sklearn\\utils\\_param_validation.py\", line 211, in wrapper\n",
      "    return func(*args, **kwargs)\n",
      "  File \"C:\\Users\\Steph\\anaconda3\\lib\\site-packages\\sklearn\\metrics\\_classification.py\", line 220, in accuracy_score\n",
      "    y_type, y_true, y_pred = _check_targets(y_true, y_pred)\n",
      "  File \"C:\\Users\\Steph\\anaconda3\\lib\\site-packages\\sklearn\\metrics\\_classification.py\", line 84, in _check_targets\n",
      "    check_consistent_length(y_true, y_pred)\n",
      "  File \"C:\\Users\\Steph\\anaconda3\\lib\\site-packages\\sklearn\\utils\\validation.py\", line 409, in check_consistent_length\n",
      "    raise ValueError(\n",
      "ValueError: Found input variables with inconsistent numbers of samples: [20000, 200000]\n",
      "\n",
      "  warnings.warn(\n"
     ]
    },
    {
     "name": "stdout",
     "output_type": "stream",
     "text": [
      "INFO:tensorflow:Assets written to: C:\\Users\\Steph\\AppData\\Local\\Temp\\tmps6blrdlx\\assets\n",
      "Restoring model weights from the end of the best epoch: 26.\n",
      "Epoch 31: early stopping\n",
      "80/80 [==============================] - 1s 10ms/step\n"
     ]
    },
    {
     "name": "stderr",
     "output_type": "stream",
     "text": [
      "C:\\Users\\Steph\\anaconda3\\lib\\site-packages\\sklearn\\model_selection\\_validation.py:824: UserWarning: Scoring failed. The score on this train-test partition for these parameters will be set to nan. Details: \n",
      "Traceback (most recent call last):\n",
      "  File \"C:\\Users\\Steph\\anaconda3\\lib\\site-packages\\sklearn\\model_selection\\_validation.py\", line 813, in _score\n",
      "    scores = scorer(estimator, X_test, y_test)\n",
      "  File \"C:\\Users\\Steph\\anaconda3\\lib\\site-packages\\sklearn\\metrics\\_scorer.py\", line 266, in __call__\n",
      "    return self._score(partial(_cached_call, None), estimator, X, y_true, **_kwargs)\n",
      "  File \"C:\\Users\\Steph\\anaconda3\\lib\\site-packages\\sklearn\\metrics\\_scorer.py\", line 355, in _score\n",
      "    return self._sign * self._score_func(y_true, y_pred, **scoring_kwargs)\n",
      "  File \"C:\\Users\\Steph\\anaconda3\\lib\\site-packages\\sklearn\\utils\\_param_validation.py\", line 211, in wrapper\n",
      "    return func(*args, **kwargs)\n",
      "  File \"C:\\Users\\Steph\\anaconda3\\lib\\site-packages\\sklearn\\metrics\\_classification.py\", line 220, in accuracy_score\n",
      "    y_type, y_true, y_pred = _check_targets(y_true, y_pred)\n",
      "  File \"C:\\Users\\Steph\\anaconda3\\lib\\site-packages\\sklearn\\metrics\\_classification.py\", line 84, in _check_targets\n",
      "    check_consistent_length(y_true, y_pred)\n",
      "  File \"C:\\Users\\Steph\\anaconda3\\lib\\site-packages\\sklearn\\utils\\validation.py\", line 409, in check_consistent_length\n",
      "    raise ValueError(\n",
      "ValueError: Found input variables with inconsistent numbers of samples: [20000, 200000]\n",
      "\n",
      "  warnings.warn(\n"
     ]
    },
    {
     "name": "stdout",
     "output_type": "stream",
     "text": [
      "INFO:tensorflow:Assets written to: C:\\Users\\Steph\\AppData\\Local\\Temp\\tmpyspabm1k\\assets\n",
      "Restoring model weights from the end of the best epoch: 33.\n",
      "Epoch 38: early stopping\n",
      "80/80 [==============================] - 1s 9ms/step\n"
     ]
    },
    {
     "name": "stderr",
     "output_type": "stream",
     "text": [
      "C:\\Users\\Steph\\anaconda3\\lib\\site-packages\\sklearn\\model_selection\\_validation.py:824: UserWarning: Scoring failed. The score on this train-test partition for these parameters will be set to nan. Details: \n",
      "Traceback (most recent call last):\n",
      "  File \"C:\\Users\\Steph\\anaconda3\\lib\\site-packages\\sklearn\\model_selection\\_validation.py\", line 813, in _score\n",
      "    scores = scorer(estimator, X_test, y_test)\n",
      "  File \"C:\\Users\\Steph\\anaconda3\\lib\\site-packages\\sklearn\\metrics\\_scorer.py\", line 266, in __call__\n",
      "    return self._score(partial(_cached_call, None), estimator, X, y_true, **_kwargs)\n",
      "  File \"C:\\Users\\Steph\\anaconda3\\lib\\site-packages\\sklearn\\metrics\\_scorer.py\", line 355, in _score\n",
      "    return self._sign * self._score_func(y_true, y_pred, **scoring_kwargs)\n",
      "  File \"C:\\Users\\Steph\\anaconda3\\lib\\site-packages\\sklearn\\utils\\_param_validation.py\", line 211, in wrapper\n",
      "    return func(*args, **kwargs)\n",
      "  File \"C:\\Users\\Steph\\anaconda3\\lib\\site-packages\\sklearn\\metrics\\_classification.py\", line 220, in accuracy_score\n",
      "    y_type, y_true, y_pred = _check_targets(y_true, y_pred)\n",
      "  File \"C:\\Users\\Steph\\anaconda3\\lib\\site-packages\\sklearn\\metrics\\_classification.py\", line 84, in _check_targets\n",
      "    check_consistent_length(y_true, y_pred)\n",
      "  File \"C:\\Users\\Steph\\anaconda3\\lib\\site-packages\\sklearn\\utils\\validation.py\", line 409, in check_consistent_length\n",
      "    raise ValueError(\n",
      "ValueError: Found input variables with inconsistent numbers of samples: [20000, 200000]\n",
      "\n",
      "  warnings.warn(\n"
     ]
    },
    {
     "name": "stdout",
     "output_type": "stream",
     "text": [
      "INFO:tensorflow:Assets written to: C:\\Users\\Steph\\AppData\\Local\\Temp\\tmphdegbtmq\\assets\n",
      "Restoring model weights from the end of the best epoch: 9.\n",
      "Epoch 14: early stopping\n",
      "80/80 [==============================] - 0s 1ms/step\n"
     ]
    },
    {
     "name": "stderr",
     "output_type": "stream",
     "text": [
      "C:\\Users\\Steph\\anaconda3\\lib\\site-packages\\sklearn\\model_selection\\_validation.py:824: UserWarning: Scoring failed. The score on this train-test partition for these parameters will be set to nan. Details: \n",
      "Traceback (most recent call last):\n",
      "  File \"C:\\Users\\Steph\\anaconda3\\lib\\site-packages\\sklearn\\model_selection\\_validation.py\", line 813, in _score\n",
      "    scores = scorer(estimator, X_test, y_test)\n",
      "  File \"C:\\Users\\Steph\\anaconda3\\lib\\site-packages\\sklearn\\metrics\\_scorer.py\", line 266, in __call__\n",
      "    return self._score(partial(_cached_call, None), estimator, X, y_true, **_kwargs)\n",
      "  File \"C:\\Users\\Steph\\anaconda3\\lib\\site-packages\\sklearn\\metrics\\_scorer.py\", line 355, in _score\n",
      "    return self._sign * self._score_func(y_true, y_pred, **scoring_kwargs)\n",
      "  File \"C:\\Users\\Steph\\anaconda3\\lib\\site-packages\\sklearn\\utils\\_param_validation.py\", line 211, in wrapper\n",
      "    return func(*args, **kwargs)\n",
      "  File \"C:\\Users\\Steph\\anaconda3\\lib\\site-packages\\sklearn\\metrics\\_classification.py\", line 220, in accuracy_score\n",
      "    y_type, y_true, y_pred = _check_targets(y_true, y_pred)\n",
      "  File \"C:\\Users\\Steph\\anaconda3\\lib\\site-packages\\sklearn\\metrics\\_classification.py\", line 84, in _check_targets\n",
      "    check_consistent_length(y_true, y_pred)\n",
      "  File \"C:\\Users\\Steph\\anaconda3\\lib\\site-packages\\sklearn\\utils\\validation.py\", line 409, in check_consistent_length\n",
      "    raise ValueError(\n",
      "ValueError: Found input variables with inconsistent numbers of samples: [20000, 200000]\n",
      "\n",
      "  warnings.warn(\n"
     ]
    },
    {
     "name": "stdout",
     "output_type": "stream",
     "text": [
      "INFO:tensorflow:Assets written to: C:\\Users\\Steph\\AppData\\Local\\Temp\\tmpygq3sk33\\assets\n",
      "Restoring model weights from the end of the best epoch: 33.\n",
      "Epoch 38: early stopping\n",
      "80/80 [==============================] - 0s 1ms/step\n"
     ]
    },
    {
     "name": "stderr",
     "output_type": "stream",
     "text": [
      "C:\\Users\\Steph\\anaconda3\\lib\\site-packages\\sklearn\\model_selection\\_validation.py:824: UserWarning: Scoring failed. The score on this train-test partition for these parameters will be set to nan. Details: \n",
      "Traceback (most recent call last):\n",
      "  File \"C:\\Users\\Steph\\anaconda3\\lib\\site-packages\\sklearn\\model_selection\\_validation.py\", line 813, in _score\n",
      "    scores = scorer(estimator, X_test, y_test)\n",
      "  File \"C:\\Users\\Steph\\anaconda3\\lib\\site-packages\\sklearn\\metrics\\_scorer.py\", line 266, in __call__\n",
      "    return self._score(partial(_cached_call, None), estimator, X, y_true, **_kwargs)\n",
      "  File \"C:\\Users\\Steph\\anaconda3\\lib\\site-packages\\sklearn\\metrics\\_scorer.py\", line 355, in _score\n",
      "    return self._sign * self._score_func(y_true, y_pred, **scoring_kwargs)\n",
      "  File \"C:\\Users\\Steph\\anaconda3\\lib\\site-packages\\sklearn\\utils\\_param_validation.py\", line 211, in wrapper\n",
      "    return func(*args, **kwargs)\n",
      "  File \"C:\\Users\\Steph\\anaconda3\\lib\\site-packages\\sklearn\\metrics\\_classification.py\", line 220, in accuracy_score\n",
      "    y_type, y_true, y_pred = _check_targets(y_true, y_pred)\n",
      "  File \"C:\\Users\\Steph\\anaconda3\\lib\\site-packages\\sklearn\\metrics\\_classification.py\", line 84, in _check_targets\n",
      "    check_consistent_length(y_true, y_pred)\n",
      "  File \"C:\\Users\\Steph\\anaconda3\\lib\\site-packages\\sklearn\\utils\\validation.py\", line 409, in check_consistent_length\n",
      "    raise ValueError(\n",
      "ValueError: Found input variables with inconsistent numbers of samples: [20000, 200000]\n",
      "\n",
      "  warnings.warn(\n"
     ]
    },
    {
     "name": "stdout",
     "output_type": "stream",
     "text": [
      "INFO:tensorflow:Assets written to: C:\\Users\\Steph\\AppData\\Local\\Temp\\tmp7rww6ey4\\assets\n",
      "Restoring model weights from the end of the best epoch: 121.\n",
      "Epoch 126: early stopping\n",
      "80/80 [==============================] - 0s 1ms/step\n"
     ]
    },
    {
     "name": "stderr",
     "output_type": "stream",
     "text": [
      "C:\\Users\\Steph\\anaconda3\\lib\\site-packages\\sklearn\\model_selection\\_validation.py:824: UserWarning: Scoring failed. The score on this train-test partition for these parameters will be set to nan. Details: \n",
      "Traceback (most recent call last):\n",
      "  File \"C:\\Users\\Steph\\anaconda3\\lib\\site-packages\\sklearn\\model_selection\\_validation.py\", line 813, in _score\n",
      "    scores = scorer(estimator, X_test, y_test)\n",
      "  File \"C:\\Users\\Steph\\anaconda3\\lib\\site-packages\\sklearn\\metrics\\_scorer.py\", line 266, in __call__\n",
      "    return self._score(partial(_cached_call, None), estimator, X, y_true, **_kwargs)\n",
      "  File \"C:\\Users\\Steph\\anaconda3\\lib\\site-packages\\sklearn\\metrics\\_scorer.py\", line 355, in _score\n",
      "    return self._sign * self._score_func(y_true, y_pred, **scoring_kwargs)\n",
      "  File \"C:\\Users\\Steph\\anaconda3\\lib\\site-packages\\sklearn\\utils\\_param_validation.py\", line 211, in wrapper\n",
      "    return func(*args, **kwargs)\n",
      "  File \"C:\\Users\\Steph\\anaconda3\\lib\\site-packages\\sklearn\\metrics\\_classification.py\", line 220, in accuracy_score\n",
      "    y_type, y_true, y_pred = _check_targets(y_true, y_pred)\n",
      "  File \"C:\\Users\\Steph\\anaconda3\\lib\\site-packages\\sklearn\\metrics\\_classification.py\", line 84, in _check_targets\n",
      "    check_consistent_length(y_true, y_pred)\n",
      "  File \"C:\\Users\\Steph\\anaconda3\\lib\\site-packages\\sklearn\\utils\\validation.py\", line 409, in check_consistent_length\n",
      "    raise ValueError(\n",
      "ValueError: Found input variables with inconsistent numbers of samples: [20000, 200000]\n",
      "\n",
      "  warnings.warn(\n"
     ]
    },
    {
     "name": "stdout",
     "output_type": "stream",
     "text": [
      "INFO:tensorflow:Assets written to: C:\\Users\\Steph\\AppData\\Local\\Temp\\tmpsxvxq7m7\\assets\n",
      "Restoring model weights from the end of the best epoch: 18.\n",
      "Epoch 23: early stopping\n",
      "80/80 [==============================] - 1s 11ms/step\n"
     ]
    },
    {
     "name": "stderr",
     "output_type": "stream",
     "text": [
      "C:\\Users\\Steph\\anaconda3\\lib\\site-packages\\sklearn\\model_selection\\_validation.py:824: UserWarning: Scoring failed. The score on this train-test partition for these parameters will be set to nan. Details: \n",
      "Traceback (most recent call last):\n",
      "  File \"C:\\Users\\Steph\\anaconda3\\lib\\site-packages\\sklearn\\model_selection\\_validation.py\", line 813, in _score\n",
      "    scores = scorer(estimator, X_test, y_test)\n",
      "  File \"C:\\Users\\Steph\\anaconda3\\lib\\site-packages\\sklearn\\metrics\\_scorer.py\", line 266, in __call__\n",
      "    return self._score(partial(_cached_call, None), estimator, X, y_true, **_kwargs)\n",
      "  File \"C:\\Users\\Steph\\anaconda3\\lib\\site-packages\\sklearn\\metrics\\_scorer.py\", line 355, in _score\n",
      "    return self._sign * self._score_func(y_true, y_pred, **scoring_kwargs)\n",
      "  File \"C:\\Users\\Steph\\anaconda3\\lib\\site-packages\\sklearn\\utils\\_param_validation.py\", line 211, in wrapper\n",
      "    return func(*args, **kwargs)\n",
      "  File \"C:\\Users\\Steph\\anaconda3\\lib\\site-packages\\sklearn\\metrics\\_classification.py\", line 220, in accuracy_score\n",
      "    y_type, y_true, y_pred = _check_targets(y_true, y_pred)\n",
      "  File \"C:\\Users\\Steph\\anaconda3\\lib\\site-packages\\sklearn\\metrics\\_classification.py\", line 84, in _check_targets\n",
      "    check_consistent_length(y_true, y_pred)\n",
      "  File \"C:\\Users\\Steph\\anaconda3\\lib\\site-packages\\sklearn\\utils\\validation.py\", line 409, in check_consistent_length\n",
      "    raise ValueError(\n",
      "ValueError: Found input variables with inconsistent numbers of samples: [20000, 200000]\n",
      "\n",
      "  warnings.warn(\n"
     ]
    },
    {
     "name": "stdout",
     "output_type": "stream",
     "text": [
      "INFO:tensorflow:Assets written to: C:\\Users\\Steph\\AppData\\Local\\Temp\\tmpa_7fqj6k\\assets\n",
      "Restoring model weights from the end of the best epoch: 28.\n",
      "Epoch 33: early stopping\n",
      "80/80 [==============================] - 1s 12ms/step\n"
     ]
    },
    {
     "name": "stderr",
     "output_type": "stream",
     "text": [
      "C:\\Users\\Steph\\anaconda3\\lib\\site-packages\\sklearn\\model_selection\\_validation.py:824: UserWarning: Scoring failed. The score on this train-test partition for these parameters will be set to nan. Details: \n",
      "Traceback (most recent call last):\n",
      "  File \"C:\\Users\\Steph\\anaconda3\\lib\\site-packages\\sklearn\\model_selection\\_validation.py\", line 813, in _score\n",
      "    scores = scorer(estimator, X_test, y_test)\n",
      "  File \"C:\\Users\\Steph\\anaconda3\\lib\\site-packages\\sklearn\\metrics\\_scorer.py\", line 266, in __call__\n",
      "    return self._score(partial(_cached_call, None), estimator, X, y_true, **_kwargs)\n",
      "  File \"C:\\Users\\Steph\\anaconda3\\lib\\site-packages\\sklearn\\metrics\\_scorer.py\", line 355, in _score\n",
      "    return self._sign * self._score_func(y_true, y_pred, **scoring_kwargs)\n",
      "  File \"C:\\Users\\Steph\\anaconda3\\lib\\site-packages\\sklearn\\utils\\_param_validation.py\", line 211, in wrapper\n",
      "    return func(*args, **kwargs)\n",
      "  File \"C:\\Users\\Steph\\anaconda3\\lib\\site-packages\\sklearn\\metrics\\_classification.py\", line 220, in accuracy_score\n",
      "    y_type, y_true, y_pred = _check_targets(y_true, y_pred)\n",
      "  File \"C:\\Users\\Steph\\anaconda3\\lib\\site-packages\\sklearn\\metrics\\_classification.py\", line 84, in _check_targets\n",
      "    check_consistent_length(y_true, y_pred)\n",
      "  File \"C:\\Users\\Steph\\anaconda3\\lib\\site-packages\\sklearn\\utils\\validation.py\", line 409, in check_consistent_length\n",
      "    raise ValueError(\n",
      "ValueError: Found input variables with inconsistent numbers of samples: [20000, 200000]\n",
      "\n",
      "  warnings.warn(\n"
     ]
    },
    {
     "name": "stdout",
     "output_type": "stream",
     "text": [
      "INFO:tensorflow:Assets written to: C:\\Users\\Steph\\AppData\\Local\\Temp\\tmpusru9wt7\\assets\n",
      "Restoring model weights from the end of the best epoch: 20.\n",
      "Epoch 25: early stopping\n",
      "80/80 [==============================] - 1s 10ms/step\n"
     ]
    },
    {
     "name": "stderr",
     "output_type": "stream",
     "text": [
      "C:\\Users\\Steph\\anaconda3\\lib\\site-packages\\sklearn\\model_selection\\_validation.py:824: UserWarning: Scoring failed. The score on this train-test partition for these parameters will be set to nan. Details: \n",
      "Traceback (most recent call last):\n",
      "  File \"C:\\Users\\Steph\\anaconda3\\lib\\site-packages\\sklearn\\model_selection\\_validation.py\", line 813, in _score\n",
      "    scores = scorer(estimator, X_test, y_test)\n",
      "  File \"C:\\Users\\Steph\\anaconda3\\lib\\site-packages\\sklearn\\metrics\\_scorer.py\", line 266, in __call__\n",
      "    return self._score(partial(_cached_call, None), estimator, X, y_true, **_kwargs)\n",
      "  File \"C:\\Users\\Steph\\anaconda3\\lib\\site-packages\\sklearn\\metrics\\_scorer.py\", line 355, in _score\n",
      "    return self._sign * self._score_func(y_true, y_pred, **scoring_kwargs)\n",
      "  File \"C:\\Users\\Steph\\anaconda3\\lib\\site-packages\\sklearn\\utils\\_param_validation.py\", line 211, in wrapper\n",
      "    return func(*args, **kwargs)\n",
      "  File \"C:\\Users\\Steph\\anaconda3\\lib\\site-packages\\sklearn\\metrics\\_classification.py\", line 220, in accuracy_score\n",
      "    y_type, y_true, y_pred = _check_targets(y_true, y_pred)\n",
      "  File \"C:\\Users\\Steph\\anaconda3\\lib\\site-packages\\sklearn\\metrics\\_classification.py\", line 84, in _check_targets\n",
      "    check_consistent_length(y_true, y_pred)\n",
      "  File \"C:\\Users\\Steph\\anaconda3\\lib\\site-packages\\sklearn\\utils\\validation.py\", line 409, in check_consistent_length\n",
      "    raise ValueError(\n",
      "ValueError: Found input variables with inconsistent numbers of samples: [20000, 200000]\n",
      "\n",
      "  warnings.warn(\n"
     ]
    },
    {
     "name": "stdout",
     "output_type": "stream",
     "text": [
      "INFO:tensorflow:Assets written to: C:\\Users\\Steph\\AppData\\Local\\Temp\\tmpls9o6pce\\assets\n",
      "Restoring model weights from the end of the best epoch: 35.\n",
      "Epoch 40: early stopping\n",
      "80/80 [==============================] - 1s 10ms/step\n"
     ]
    },
    {
     "name": "stderr",
     "output_type": "stream",
     "text": [
      "C:\\Users\\Steph\\anaconda3\\lib\\site-packages\\sklearn\\model_selection\\_validation.py:824: UserWarning: Scoring failed. The score on this train-test partition for these parameters will be set to nan. Details: \n",
      "Traceback (most recent call last):\n",
      "  File \"C:\\Users\\Steph\\anaconda3\\lib\\site-packages\\sklearn\\model_selection\\_validation.py\", line 813, in _score\n",
      "    scores = scorer(estimator, X_test, y_test)\n",
      "  File \"C:\\Users\\Steph\\anaconda3\\lib\\site-packages\\sklearn\\metrics\\_scorer.py\", line 266, in __call__\n",
      "    return self._score(partial(_cached_call, None), estimator, X, y_true, **_kwargs)\n",
      "  File \"C:\\Users\\Steph\\anaconda3\\lib\\site-packages\\sklearn\\metrics\\_scorer.py\", line 355, in _score\n",
      "    return self._sign * self._score_func(y_true, y_pred, **scoring_kwargs)\n",
      "  File \"C:\\Users\\Steph\\anaconda3\\lib\\site-packages\\sklearn\\utils\\_param_validation.py\", line 211, in wrapper\n",
      "    return func(*args, **kwargs)\n",
      "  File \"C:\\Users\\Steph\\anaconda3\\lib\\site-packages\\sklearn\\metrics\\_classification.py\", line 220, in accuracy_score\n",
      "    y_type, y_true, y_pred = _check_targets(y_true, y_pred)\n",
      "  File \"C:\\Users\\Steph\\anaconda3\\lib\\site-packages\\sklearn\\metrics\\_classification.py\", line 84, in _check_targets\n",
      "    check_consistent_length(y_true, y_pred)\n",
      "  File \"C:\\Users\\Steph\\anaconda3\\lib\\site-packages\\sklearn\\utils\\validation.py\", line 409, in check_consistent_length\n",
      "    raise ValueError(\n",
      "ValueError: Found input variables with inconsistent numbers of samples: [20000, 200000]\n",
      "\n",
      "  warnings.warn(\n"
     ]
    },
    {
     "name": "stdout",
     "output_type": "stream",
     "text": [
      "INFO:tensorflow:Assets written to: C:\\Users\\Steph\\AppData\\Local\\Temp\\tmpzgim6_a0\\assets\n",
      "Restoring model weights from the end of the best epoch: 33.\n",
      "Epoch 38: early stopping\n",
      "80/80 [==============================] - 1s 11ms/step\n"
     ]
    },
    {
     "name": "stderr",
     "output_type": "stream",
     "text": [
      "C:\\Users\\Steph\\anaconda3\\lib\\site-packages\\sklearn\\model_selection\\_validation.py:824: UserWarning: Scoring failed. The score on this train-test partition for these parameters will be set to nan. Details: \n",
      "Traceback (most recent call last):\n",
      "  File \"C:\\Users\\Steph\\anaconda3\\lib\\site-packages\\sklearn\\model_selection\\_validation.py\", line 813, in _score\n",
      "    scores = scorer(estimator, X_test, y_test)\n",
      "  File \"C:\\Users\\Steph\\anaconda3\\lib\\site-packages\\sklearn\\metrics\\_scorer.py\", line 266, in __call__\n",
      "    return self._score(partial(_cached_call, None), estimator, X, y_true, **_kwargs)\n",
      "  File \"C:\\Users\\Steph\\anaconda3\\lib\\site-packages\\sklearn\\metrics\\_scorer.py\", line 355, in _score\n",
      "    return self._sign * self._score_func(y_true, y_pred, **scoring_kwargs)\n",
      "  File \"C:\\Users\\Steph\\anaconda3\\lib\\site-packages\\sklearn\\utils\\_param_validation.py\", line 211, in wrapper\n",
      "    return func(*args, **kwargs)\n",
      "  File \"C:\\Users\\Steph\\anaconda3\\lib\\site-packages\\sklearn\\metrics\\_classification.py\", line 220, in accuracy_score\n",
      "    y_type, y_true, y_pred = _check_targets(y_true, y_pred)\n",
      "  File \"C:\\Users\\Steph\\anaconda3\\lib\\site-packages\\sklearn\\metrics\\_classification.py\", line 84, in _check_targets\n",
      "    check_consistent_length(y_true, y_pred)\n",
      "  File \"C:\\Users\\Steph\\anaconda3\\lib\\site-packages\\sklearn\\utils\\validation.py\", line 409, in check_consistent_length\n",
      "    raise ValueError(\n",
      "ValueError: Found input variables with inconsistent numbers of samples: [20000, 200000]\n",
      "\n",
      "  warnings.warn(\n"
     ]
    },
    {
     "name": "stdout",
     "output_type": "stream",
     "text": [
      "INFO:tensorflow:Assets written to: C:\\Users\\Steph\\AppData\\Local\\Temp\\tmppmce1hk7\\assets\n",
      "Restoring model weights from the end of the best epoch: 22.\n",
      "Epoch 27: early stopping\n",
      "80/80 [==============================] - 1s 13ms/step\n"
     ]
    },
    {
     "name": "stderr",
     "output_type": "stream",
     "text": [
      "C:\\Users\\Steph\\anaconda3\\lib\\site-packages\\sklearn\\model_selection\\_validation.py:824: UserWarning: Scoring failed. The score on this train-test partition for these parameters will be set to nan. Details: \n",
      "Traceback (most recent call last):\n",
      "  File \"C:\\Users\\Steph\\anaconda3\\lib\\site-packages\\sklearn\\model_selection\\_validation.py\", line 813, in _score\n",
      "    scores = scorer(estimator, X_test, y_test)\n",
      "  File \"C:\\Users\\Steph\\anaconda3\\lib\\site-packages\\sklearn\\metrics\\_scorer.py\", line 266, in __call__\n",
      "    return self._score(partial(_cached_call, None), estimator, X, y_true, **_kwargs)\n",
      "  File \"C:\\Users\\Steph\\anaconda3\\lib\\site-packages\\sklearn\\metrics\\_scorer.py\", line 355, in _score\n",
      "    return self._sign * self._score_func(y_true, y_pred, **scoring_kwargs)\n",
      "  File \"C:\\Users\\Steph\\anaconda3\\lib\\site-packages\\sklearn\\utils\\_param_validation.py\", line 211, in wrapper\n",
      "    return func(*args, **kwargs)\n",
      "  File \"C:\\Users\\Steph\\anaconda3\\lib\\site-packages\\sklearn\\metrics\\_classification.py\", line 220, in accuracy_score\n",
      "    y_type, y_true, y_pred = _check_targets(y_true, y_pred)\n",
      "  File \"C:\\Users\\Steph\\anaconda3\\lib\\site-packages\\sklearn\\metrics\\_classification.py\", line 84, in _check_targets\n",
      "    check_consistent_length(y_true, y_pred)\n",
      "  File \"C:\\Users\\Steph\\anaconda3\\lib\\site-packages\\sklearn\\utils\\validation.py\", line 409, in check_consistent_length\n",
      "    raise ValueError(\n",
      "ValueError: Found input variables with inconsistent numbers of samples: [20000, 200000]\n",
      "\n",
      "  warnings.warn(\n"
     ]
    },
    {
     "name": "stdout",
     "output_type": "stream",
     "text": [
      "INFO:tensorflow:Assets written to: C:\\Users\\Steph\\AppData\\Local\\Temp\\tmpx29xta3g\\assets\n",
      "Restoring model weights from the end of the best epoch: 49.\n",
      "Epoch 54: early stopping\n",
      "80/80 [==============================] - 0s 1ms/step\n"
     ]
    },
    {
     "name": "stderr",
     "output_type": "stream",
     "text": [
      "C:\\Users\\Steph\\anaconda3\\lib\\site-packages\\sklearn\\model_selection\\_validation.py:824: UserWarning: Scoring failed. The score on this train-test partition for these parameters will be set to nan. Details: \n",
      "Traceback (most recent call last):\n",
      "  File \"C:\\Users\\Steph\\anaconda3\\lib\\site-packages\\sklearn\\model_selection\\_validation.py\", line 813, in _score\n",
      "    scores = scorer(estimator, X_test, y_test)\n",
      "  File \"C:\\Users\\Steph\\anaconda3\\lib\\site-packages\\sklearn\\metrics\\_scorer.py\", line 266, in __call__\n",
      "    return self._score(partial(_cached_call, None), estimator, X, y_true, **_kwargs)\n",
      "  File \"C:\\Users\\Steph\\anaconda3\\lib\\site-packages\\sklearn\\metrics\\_scorer.py\", line 355, in _score\n",
      "    return self._sign * self._score_func(y_true, y_pred, **scoring_kwargs)\n",
      "  File \"C:\\Users\\Steph\\anaconda3\\lib\\site-packages\\sklearn\\utils\\_param_validation.py\", line 211, in wrapper\n",
      "    return func(*args, **kwargs)\n",
      "  File \"C:\\Users\\Steph\\anaconda3\\lib\\site-packages\\sklearn\\metrics\\_classification.py\", line 220, in accuracy_score\n",
      "    y_type, y_true, y_pred = _check_targets(y_true, y_pred)\n",
      "  File \"C:\\Users\\Steph\\anaconda3\\lib\\site-packages\\sklearn\\metrics\\_classification.py\", line 84, in _check_targets\n",
      "    check_consistent_length(y_true, y_pred)\n",
      "  File \"C:\\Users\\Steph\\anaconda3\\lib\\site-packages\\sklearn\\utils\\validation.py\", line 409, in check_consistent_length\n",
      "    raise ValueError(\n",
      "ValueError: Found input variables with inconsistent numbers of samples: [20000, 200000]\n",
      "\n",
      "  warnings.warn(\n"
     ]
    },
    {
     "name": "stdout",
     "output_type": "stream",
     "text": [
      "INFO:tensorflow:Assets written to: C:\\Users\\Steph\\AppData\\Local\\Temp\\tmpox_xlg85\\assets\n",
      "Restoring model weights from the end of the best epoch: 11.\n",
      "Epoch 16: early stopping\n",
      "80/80 [==============================] - 0s 1ms/step\n"
     ]
    },
    {
     "name": "stderr",
     "output_type": "stream",
     "text": [
      "C:\\Users\\Steph\\anaconda3\\lib\\site-packages\\sklearn\\model_selection\\_validation.py:824: UserWarning: Scoring failed. The score on this train-test partition for these parameters will be set to nan. Details: \n",
      "Traceback (most recent call last):\n",
      "  File \"C:\\Users\\Steph\\anaconda3\\lib\\site-packages\\sklearn\\model_selection\\_validation.py\", line 813, in _score\n",
      "    scores = scorer(estimator, X_test, y_test)\n",
      "  File \"C:\\Users\\Steph\\anaconda3\\lib\\site-packages\\sklearn\\metrics\\_scorer.py\", line 266, in __call__\n",
      "    return self._score(partial(_cached_call, None), estimator, X, y_true, **_kwargs)\n",
      "  File \"C:\\Users\\Steph\\anaconda3\\lib\\site-packages\\sklearn\\metrics\\_scorer.py\", line 355, in _score\n",
      "    return self._sign * self._score_func(y_true, y_pred, **scoring_kwargs)\n",
      "  File \"C:\\Users\\Steph\\anaconda3\\lib\\site-packages\\sklearn\\utils\\_param_validation.py\", line 211, in wrapper\n",
      "    return func(*args, **kwargs)\n",
      "  File \"C:\\Users\\Steph\\anaconda3\\lib\\site-packages\\sklearn\\metrics\\_classification.py\", line 220, in accuracy_score\n",
      "    y_type, y_true, y_pred = _check_targets(y_true, y_pred)\n",
      "  File \"C:\\Users\\Steph\\anaconda3\\lib\\site-packages\\sklearn\\metrics\\_classification.py\", line 84, in _check_targets\n",
      "    check_consistent_length(y_true, y_pred)\n",
      "  File \"C:\\Users\\Steph\\anaconda3\\lib\\site-packages\\sklearn\\utils\\validation.py\", line 409, in check_consistent_length\n",
      "    raise ValueError(\n",
      "ValueError: Found input variables with inconsistent numbers of samples: [20000, 200000]\n",
      "\n",
      "  warnings.warn(\n"
     ]
    },
    {
     "name": "stdout",
     "output_type": "stream",
     "text": [
      "INFO:tensorflow:Assets written to: C:\\Users\\Steph\\AppData\\Local\\Temp\\tmpj0gc8xx2\\assets\n",
      "Restoring model weights from the end of the best epoch: 29.\n",
      "Epoch 34: early stopping\n",
      "80/80 [==============================] - 0s 2ms/step\n"
     ]
    },
    {
     "name": "stderr",
     "output_type": "stream",
     "text": [
      "C:\\Users\\Steph\\anaconda3\\lib\\site-packages\\sklearn\\model_selection\\_validation.py:824: UserWarning: Scoring failed. The score on this train-test partition for these parameters will be set to nan. Details: \n",
      "Traceback (most recent call last):\n",
      "  File \"C:\\Users\\Steph\\anaconda3\\lib\\site-packages\\sklearn\\model_selection\\_validation.py\", line 813, in _score\n",
      "    scores = scorer(estimator, X_test, y_test)\n",
      "  File \"C:\\Users\\Steph\\anaconda3\\lib\\site-packages\\sklearn\\metrics\\_scorer.py\", line 266, in __call__\n",
      "    return self._score(partial(_cached_call, None), estimator, X, y_true, **_kwargs)\n",
      "  File \"C:\\Users\\Steph\\anaconda3\\lib\\site-packages\\sklearn\\metrics\\_scorer.py\", line 355, in _score\n",
      "    return self._sign * self._score_func(y_true, y_pred, **scoring_kwargs)\n",
      "  File \"C:\\Users\\Steph\\anaconda3\\lib\\site-packages\\sklearn\\utils\\_param_validation.py\", line 211, in wrapper\n",
      "    return func(*args, **kwargs)\n",
      "  File \"C:\\Users\\Steph\\anaconda3\\lib\\site-packages\\sklearn\\metrics\\_classification.py\", line 220, in accuracy_score\n",
      "    y_type, y_true, y_pred = _check_targets(y_true, y_pred)\n",
      "  File \"C:\\Users\\Steph\\anaconda3\\lib\\site-packages\\sklearn\\metrics\\_classification.py\", line 84, in _check_targets\n",
      "    check_consistent_length(y_true, y_pred)\n",
      "  File \"C:\\Users\\Steph\\anaconda3\\lib\\site-packages\\sklearn\\utils\\validation.py\", line 409, in check_consistent_length\n",
      "    raise ValueError(\n",
      "ValueError: Found input variables with inconsistent numbers of samples: [20000, 200000]\n",
      "\n",
      "  warnings.warn(\n"
     ]
    },
    {
     "name": "stdout",
     "output_type": "stream",
     "text": [
      "INFO:tensorflow:Assets written to: C:\\Users\\Steph\\AppData\\Local\\Temp\\tmpycma6xax\\assets\n",
      "Restoring model weights from the end of the best epoch: 52.\n",
      "Epoch 57: early stopping\n",
      "80/80 [==============================] - 1s 9ms/step\n"
     ]
    },
    {
     "name": "stderr",
     "output_type": "stream",
     "text": [
      "C:\\Users\\Steph\\anaconda3\\lib\\site-packages\\sklearn\\model_selection\\_validation.py:824: UserWarning: Scoring failed. The score on this train-test partition for these parameters will be set to nan. Details: \n",
      "Traceback (most recent call last):\n",
      "  File \"C:\\Users\\Steph\\anaconda3\\lib\\site-packages\\sklearn\\model_selection\\_validation.py\", line 813, in _score\n",
      "    scores = scorer(estimator, X_test, y_test)\n",
      "  File \"C:\\Users\\Steph\\anaconda3\\lib\\site-packages\\sklearn\\metrics\\_scorer.py\", line 266, in __call__\n",
      "    return self._score(partial(_cached_call, None), estimator, X, y_true, **_kwargs)\n",
      "  File \"C:\\Users\\Steph\\anaconda3\\lib\\site-packages\\sklearn\\metrics\\_scorer.py\", line 355, in _score\n",
      "    return self._sign * self._score_func(y_true, y_pred, **scoring_kwargs)\n",
      "  File \"C:\\Users\\Steph\\anaconda3\\lib\\site-packages\\sklearn\\utils\\_param_validation.py\", line 211, in wrapper\n",
      "    return func(*args, **kwargs)\n",
      "  File \"C:\\Users\\Steph\\anaconda3\\lib\\site-packages\\sklearn\\metrics\\_classification.py\", line 220, in accuracy_score\n",
      "    y_type, y_true, y_pred = _check_targets(y_true, y_pred)\n",
      "  File \"C:\\Users\\Steph\\anaconda3\\lib\\site-packages\\sklearn\\metrics\\_classification.py\", line 84, in _check_targets\n",
      "    check_consistent_length(y_true, y_pred)\n",
      "  File \"C:\\Users\\Steph\\anaconda3\\lib\\site-packages\\sklearn\\utils\\validation.py\", line 409, in check_consistent_length\n",
      "    raise ValueError(\n",
      "ValueError: Found input variables with inconsistent numbers of samples: [20000, 200000]\n",
      "\n",
      "  warnings.warn(\n"
     ]
    },
    {
     "name": "stdout",
     "output_type": "stream",
     "text": [
      "INFO:tensorflow:Assets written to: C:\\Users\\Steph\\AppData\\Local\\Temp\\tmpc1_icc4s\\assets\n",
      "Restoring model weights from the end of the best epoch: 36.\n",
      "Epoch 41: early stopping\n",
      "80/80 [==============================] - 1s 9ms/step\n"
     ]
    },
    {
     "name": "stderr",
     "output_type": "stream",
     "text": [
      "C:\\Users\\Steph\\anaconda3\\lib\\site-packages\\sklearn\\model_selection\\_validation.py:824: UserWarning: Scoring failed. The score on this train-test partition for these parameters will be set to nan. Details: \n",
      "Traceback (most recent call last):\n",
      "  File \"C:\\Users\\Steph\\anaconda3\\lib\\site-packages\\sklearn\\model_selection\\_validation.py\", line 813, in _score\n",
      "    scores = scorer(estimator, X_test, y_test)\n",
      "  File \"C:\\Users\\Steph\\anaconda3\\lib\\site-packages\\sklearn\\metrics\\_scorer.py\", line 266, in __call__\n",
      "    return self._score(partial(_cached_call, None), estimator, X, y_true, **_kwargs)\n",
      "  File \"C:\\Users\\Steph\\anaconda3\\lib\\site-packages\\sklearn\\metrics\\_scorer.py\", line 355, in _score\n",
      "    return self._sign * self._score_func(y_true, y_pred, **scoring_kwargs)\n",
      "  File \"C:\\Users\\Steph\\anaconda3\\lib\\site-packages\\sklearn\\utils\\_param_validation.py\", line 211, in wrapper\n",
      "    return func(*args, **kwargs)\n",
      "  File \"C:\\Users\\Steph\\anaconda3\\lib\\site-packages\\sklearn\\metrics\\_classification.py\", line 220, in accuracy_score\n",
      "    y_type, y_true, y_pred = _check_targets(y_true, y_pred)\n",
      "  File \"C:\\Users\\Steph\\anaconda3\\lib\\site-packages\\sklearn\\metrics\\_classification.py\", line 84, in _check_targets\n",
      "    check_consistent_length(y_true, y_pred)\n",
      "  File \"C:\\Users\\Steph\\anaconda3\\lib\\site-packages\\sklearn\\utils\\validation.py\", line 409, in check_consistent_length\n",
      "    raise ValueError(\n",
      "ValueError: Found input variables with inconsistent numbers of samples: [20000, 200000]\n",
      "\n",
      "  warnings.warn(\n"
     ]
    },
    {
     "name": "stdout",
     "output_type": "stream",
     "text": [
      "INFO:tensorflow:Assets written to: C:\\Users\\Steph\\AppData\\Local\\Temp\\tmphj61mo35\\assets\n",
      "Restoring model weights from the end of the best epoch: 70.\n",
      "Epoch 75: early stopping\n",
      "80/80 [==============================] - 1s 9ms/step\n"
     ]
    },
    {
     "name": "stderr",
     "output_type": "stream",
     "text": [
      "C:\\Users\\Steph\\anaconda3\\lib\\site-packages\\sklearn\\model_selection\\_validation.py:824: UserWarning: Scoring failed. The score on this train-test partition for these parameters will be set to nan. Details: \n",
      "Traceback (most recent call last):\n",
      "  File \"C:\\Users\\Steph\\anaconda3\\lib\\site-packages\\sklearn\\model_selection\\_validation.py\", line 813, in _score\n",
      "    scores = scorer(estimator, X_test, y_test)\n",
      "  File \"C:\\Users\\Steph\\anaconda3\\lib\\site-packages\\sklearn\\metrics\\_scorer.py\", line 266, in __call__\n",
      "    return self._score(partial(_cached_call, None), estimator, X, y_true, **_kwargs)\n",
      "  File \"C:\\Users\\Steph\\anaconda3\\lib\\site-packages\\sklearn\\metrics\\_scorer.py\", line 355, in _score\n",
      "    return self._sign * self._score_func(y_true, y_pred, **scoring_kwargs)\n",
      "  File \"C:\\Users\\Steph\\anaconda3\\lib\\site-packages\\sklearn\\utils\\_param_validation.py\", line 211, in wrapper\n",
      "    return func(*args, **kwargs)\n",
      "  File \"C:\\Users\\Steph\\anaconda3\\lib\\site-packages\\sklearn\\metrics\\_classification.py\", line 220, in accuracy_score\n",
      "    y_type, y_true, y_pred = _check_targets(y_true, y_pred)\n",
      "  File \"C:\\Users\\Steph\\anaconda3\\lib\\site-packages\\sklearn\\metrics\\_classification.py\", line 84, in _check_targets\n",
      "    check_consistent_length(y_true, y_pred)\n",
      "  File \"C:\\Users\\Steph\\anaconda3\\lib\\site-packages\\sklearn\\utils\\validation.py\", line 409, in check_consistent_length\n",
      "    raise ValueError(\n",
      "ValueError: Found input variables with inconsistent numbers of samples: [20000, 200000]\n",
      "\n",
      "  warnings.warn(\n"
     ]
    },
    {
     "name": "stdout",
     "output_type": "stream",
     "text": [
      "INFO:tensorflow:Assets written to: C:\\Users\\Steph\\AppData\\Local\\Temp\\tmpj_zumylx\\assets\n",
      "Restoring model weights from the end of the best epoch: 57.\n",
      "Epoch 62: early stopping\n",
      "80/80 [==============================] - 1s 11ms/step\n"
     ]
    },
    {
     "name": "stderr",
     "output_type": "stream",
     "text": [
      "C:\\Users\\Steph\\anaconda3\\lib\\site-packages\\sklearn\\model_selection\\_validation.py:824: UserWarning: Scoring failed. The score on this train-test partition for these parameters will be set to nan. Details: \n",
      "Traceback (most recent call last):\n",
      "  File \"C:\\Users\\Steph\\anaconda3\\lib\\site-packages\\sklearn\\model_selection\\_validation.py\", line 813, in _score\n",
      "    scores = scorer(estimator, X_test, y_test)\n",
      "  File \"C:\\Users\\Steph\\anaconda3\\lib\\site-packages\\sklearn\\metrics\\_scorer.py\", line 266, in __call__\n",
      "    return self._score(partial(_cached_call, None), estimator, X, y_true, **_kwargs)\n",
      "  File \"C:\\Users\\Steph\\anaconda3\\lib\\site-packages\\sklearn\\metrics\\_scorer.py\", line 355, in _score\n",
      "    return self._sign * self._score_func(y_true, y_pred, **scoring_kwargs)\n",
      "  File \"C:\\Users\\Steph\\anaconda3\\lib\\site-packages\\sklearn\\utils\\_param_validation.py\", line 211, in wrapper\n",
      "    return func(*args, **kwargs)\n",
      "  File \"C:\\Users\\Steph\\anaconda3\\lib\\site-packages\\sklearn\\metrics\\_classification.py\", line 220, in accuracy_score\n",
      "    y_type, y_true, y_pred = _check_targets(y_true, y_pred)\n",
      "  File \"C:\\Users\\Steph\\anaconda3\\lib\\site-packages\\sklearn\\metrics\\_classification.py\", line 84, in _check_targets\n",
      "    check_consistent_length(y_true, y_pred)\n",
      "  File \"C:\\Users\\Steph\\anaconda3\\lib\\site-packages\\sklearn\\utils\\validation.py\", line 409, in check_consistent_length\n",
      "    raise ValueError(\n",
      "ValueError: Found input variables with inconsistent numbers of samples: [20000, 200000]\n",
      "\n",
      "  warnings.warn(\n"
     ]
    },
    {
     "name": "stdout",
     "output_type": "stream",
     "text": [
      "INFO:tensorflow:Assets written to: C:\\Users\\Steph\\AppData\\Local\\Temp\\tmpjcvafsq4\\assets\n",
      "Restoring model weights from the end of the best epoch: 50.\n",
      "Epoch 55: early stopping\n",
      "80/80 [==============================] - 1s 14ms/step\n"
     ]
    },
    {
     "name": "stderr",
     "output_type": "stream",
     "text": [
      "C:\\Users\\Steph\\anaconda3\\lib\\site-packages\\sklearn\\model_selection\\_validation.py:824: UserWarning: Scoring failed. The score on this train-test partition for these parameters will be set to nan. Details: \n",
      "Traceback (most recent call last):\n",
      "  File \"C:\\Users\\Steph\\anaconda3\\lib\\site-packages\\sklearn\\model_selection\\_validation.py\", line 813, in _score\n",
      "    scores = scorer(estimator, X_test, y_test)\n",
      "  File \"C:\\Users\\Steph\\anaconda3\\lib\\site-packages\\sklearn\\metrics\\_scorer.py\", line 266, in __call__\n",
      "    return self._score(partial(_cached_call, None), estimator, X, y_true, **_kwargs)\n",
      "  File \"C:\\Users\\Steph\\anaconda3\\lib\\site-packages\\sklearn\\metrics\\_scorer.py\", line 355, in _score\n",
      "    return self._sign * self._score_func(y_true, y_pred, **scoring_kwargs)\n",
      "  File \"C:\\Users\\Steph\\anaconda3\\lib\\site-packages\\sklearn\\utils\\_param_validation.py\", line 211, in wrapper\n",
      "    return func(*args, **kwargs)\n",
      "  File \"C:\\Users\\Steph\\anaconda3\\lib\\site-packages\\sklearn\\metrics\\_classification.py\", line 220, in accuracy_score\n",
      "    y_type, y_true, y_pred = _check_targets(y_true, y_pred)\n",
      "  File \"C:\\Users\\Steph\\anaconda3\\lib\\site-packages\\sklearn\\metrics\\_classification.py\", line 84, in _check_targets\n",
      "    check_consistent_length(y_true, y_pred)\n",
      "  File \"C:\\Users\\Steph\\anaconda3\\lib\\site-packages\\sklearn\\utils\\validation.py\", line 409, in check_consistent_length\n",
      "    raise ValueError(\n",
      "ValueError: Found input variables with inconsistent numbers of samples: [20000, 200000]\n",
      "\n",
      "  warnings.warn(\n"
     ]
    },
    {
     "name": "stdout",
     "output_type": "stream",
     "text": [
      "INFO:tensorflow:Assets written to: C:\\Users\\Steph\\AppData\\Local\\Temp\\tmpcukngj5g\\assets\n",
      "Restoring model weights from the end of the best epoch: 42.\n",
      "Epoch 47: early stopping\n",
      "80/80 [==============================] - 1s 12ms/step\n"
     ]
    },
    {
     "name": "stderr",
     "output_type": "stream",
     "text": [
      "C:\\Users\\Steph\\anaconda3\\lib\\site-packages\\sklearn\\model_selection\\_validation.py:824: UserWarning: Scoring failed. The score on this train-test partition for these parameters will be set to nan. Details: \n",
      "Traceback (most recent call last):\n",
      "  File \"C:\\Users\\Steph\\anaconda3\\lib\\site-packages\\sklearn\\model_selection\\_validation.py\", line 813, in _score\n",
      "    scores = scorer(estimator, X_test, y_test)\n",
      "  File \"C:\\Users\\Steph\\anaconda3\\lib\\site-packages\\sklearn\\metrics\\_scorer.py\", line 266, in __call__\n",
      "    return self._score(partial(_cached_call, None), estimator, X, y_true, **_kwargs)\n",
      "  File \"C:\\Users\\Steph\\anaconda3\\lib\\site-packages\\sklearn\\metrics\\_scorer.py\", line 355, in _score\n",
      "    return self._sign * self._score_func(y_true, y_pred, **scoring_kwargs)\n",
      "  File \"C:\\Users\\Steph\\anaconda3\\lib\\site-packages\\sklearn\\utils\\_param_validation.py\", line 211, in wrapper\n",
      "    return func(*args, **kwargs)\n",
      "  File \"C:\\Users\\Steph\\anaconda3\\lib\\site-packages\\sklearn\\metrics\\_classification.py\", line 220, in accuracy_score\n",
      "    y_type, y_true, y_pred = _check_targets(y_true, y_pred)\n",
      "  File \"C:\\Users\\Steph\\anaconda3\\lib\\site-packages\\sklearn\\metrics\\_classification.py\", line 84, in _check_targets\n",
      "    check_consistent_length(y_true, y_pred)\n",
      "  File \"C:\\Users\\Steph\\anaconda3\\lib\\site-packages\\sklearn\\utils\\validation.py\", line 409, in check_consistent_length\n",
      "    raise ValueError(\n",
      "ValueError: Found input variables with inconsistent numbers of samples: [20000, 200000]\n",
      "\n",
      "  warnings.warn(\n"
     ]
    },
    {
     "name": "stdout",
     "output_type": "stream",
     "text": [
      "INFO:tensorflow:Assets written to: C:\\Users\\Steph\\AppData\\Local\\Temp\\tmpkitcdhp9\\assets\n",
      "Restoring model weights from the end of the best epoch: 3.\n",
      "Epoch 8: early stopping\n",
      "80/80 [==============================] - 0s 2ms/step\n"
     ]
    },
    {
     "name": "stderr",
     "output_type": "stream",
     "text": [
      "C:\\Users\\Steph\\anaconda3\\lib\\site-packages\\sklearn\\model_selection\\_validation.py:824: UserWarning: Scoring failed. The score on this train-test partition for these parameters will be set to nan. Details: \n",
      "Traceback (most recent call last):\n",
      "  File \"C:\\Users\\Steph\\anaconda3\\lib\\site-packages\\sklearn\\model_selection\\_validation.py\", line 813, in _score\n",
      "    scores = scorer(estimator, X_test, y_test)\n",
      "  File \"C:\\Users\\Steph\\anaconda3\\lib\\site-packages\\sklearn\\metrics\\_scorer.py\", line 266, in __call__\n",
      "    return self._score(partial(_cached_call, None), estimator, X, y_true, **_kwargs)\n",
      "  File \"C:\\Users\\Steph\\anaconda3\\lib\\site-packages\\sklearn\\metrics\\_scorer.py\", line 355, in _score\n",
      "    return self._sign * self._score_func(y_true, y_pred, **scoring_kwargs)\n",
      "  File \"C:\\Users\\Steph\\anaconda3\\lib\\site-packages\\sklearn\\utils\\_param_validation.py\", line 211, in wrapper\n",
      "    return func(*args, **kwargs)\n",
      "  File \"C:\\Users\\Steph\\anaconda3\\lib\\site-packages\\sklearn\\metrics\\_classification.py\", line 220, in accuracy_score\n",
      "    y_type, y_true, y_pred = _check_targets(y_true, y_pred)\n",
      "  File \"C:\\Users\\Steph\\anaconda3\\lib\\site-packages\\sklearn\\metrics\\_classification.py\", line 84, in _check_targets\n",
      "    check_consistent_length(y_true, y_pred)\n",
      "  File \"C:\\Users\\Steph\\anaconda3\\lib\\site-packages\\sklearn\\utils\\validation.py\", line 409, in check_consistent_length\n",
      "    raise ValueError(\n",
      "ValueError: Found input variables with inconsistent numbers of samples: [20000, 200000]\n",
      "\n",
      "  warnings.warn(\n"
     ]
    },
    {
     "name": "stdout",
     "output_type": "stream",
     "text": [
      "INFO:tensorflow:Assets written to: C:\\Users\\Steph\\AppData\\Local\\Temp\\tmpu6_1g9od\\assets\n",
      "Restoring model weights from the end of the best epoch: 11.\n",
      "Epoch 16: early stopping\n",
      "80/80 [==============================] - 0s 2ms/step\n"
     ]
    },
    {
     "name": "stderr",
     "output_type": "stream",
     "text": [
      "C:\\Users\\Steph\\anaconda3\\lib\\site-packages\\sklearn\\model_selection\\_validation.py:824: UserWarning: Scoring failed. The score on this train-test partition for these parameters will be set to nan. Details: \n",
      "Traceback (most recent call last):\n",
      "  File \"C:\\Users\\Steph\\anaconda3\\lib\\site-packages\\sklearn\\model_selection\\_validation.py\", line 813, in _score\n",
      "    scores = scorer(estimator, X_test, y_test)\n",
      "  File \"C:\\Users\\Steph\\anaconda3\\lib\\site-packages\\sklearn\\metrics\\_scorer.py\", line 266, in __call__\n",
      "    return self._score(partial(_cached_call, None), estimator, X, y_true, **_kwargs)\n",
      "  File \"C:\\Users\\Steph\\anaconda3\\lib\\site-packages\\sklearn\\metrics\\_scorer.py\", line 355, in _score\n",
      "    return self._sign * self._score_func(y_true, y_pred, **scoring_kwargs)\n",
      "  File \"C:\\Users\\Steph\\anaconda3\\lib\\site-packages\\sklearn\\utils\\_param_validation.py\", line 211, in wrapper\n",
      "    return func(*args, **kwargs)\n",
      "  File \"C:\\Users\\Steph\\anaconda3\\lib\\site-packages\\sklearn\\metrics\\_classification.py\", line 220, in accuracy_score\n",
      "    y_type, y_true, y_pred = _check_targets(y_true, y_pred)\n",
      "  File \"C:\\Users\\Steph\\anaconda3\\lib\\site-packages\\sklearn\\metrics\\_classification.py\", line 84, in _check_targets\n",
      "    check_consistent_length(y_true, y_pred)\n",
      "  File \"C:\\Users\\Steph\\anaconda3\\lib\\site-packages\\sklearn\\utils\\validation.py\", line 409, in check_consistent_length\n",
      "    raise ValueError(\n",
      "ValueError: Found input variables with inconsistent numbers of samples: [20000, 200000]\n",
      "\n",
      "  warnings.warn(\n"
     ]
    },
    {
     "name": "stdout",
     "output_type": "stream",
     "text": [
      "INFO:tensorflow:Assets written to: C:\\Users\\Steph\\AppData\\Local\\Temp\\tmpurn7tjyf\\assets\n",
      "Restoring model weights from the end of the best epoch: 1.\n",
      "Epoch 6: early stopping\n",
      "80/80 [==============================] - 0s 2ms/step\n"
     ]
    },
    {
     "name": "stderr",
     "output_type": "stream",
     "text": [
      "C:\\Users\\Steph\\anaconda3\\lib\\site-packages\\sklearn\\model_selection\\_validation.py:824: UserWarning: Scoring failed. The score on this train-test partition for these parameters will be set to nan. Details: \n",
      "Traceback (most recent call last):\n",
      "  File \"C:\\Users\\Steph\\anaconda3\\lib\\site-packages\\sklearn\\model_selection\\_validation.py\", line 813, in _score\n",
      "    scores = scorer(estimator, X_test, y_test)\n",
      "  File \"C:\\Users\\Steph\\anaconda3\\lib\\site-packages\\sklearn\\metrics\\_scorer.py\", line 266, in __call__\n",
      "    return self._score(partial(_cached_call, None), estimator, X, y_true, **_kwargs)\n",
      "  File \"C:\\Users\\Steph\\anaconda3\\lib\\site-packages\\sklearn\\metrics\\_scorer.py\", line 355, in _score\n",
      "    return self._sign * self._score_func(y_true, y_pred, **scoring_kwargs)\n",
      "  File \"C:\\Users\\Steph\\anaconda3\\lib\\site-packages\\sklearn\\utils\\_param_validation.py\", line 211, in wrapper\n",
      "    return func(*args, **kwargs)\n",
      "  File \"C:\\Users\\Steph\\anaconda3\\lib\\site-packages\\sklearn\\metrics\\_classification.py\", line 220, in accuracy_score\n",
      "    y_type, y_true, y_pred = _check_targets(y_true, y_pred)\n",
      "  File \"C:\\Users\\Steph\\anaconda3\\lib\\site-packages\\sklearn\\metrics\\_classification.py\", line 84, in _check_targets\n",
      "    check_consistent_length(y_true, y_pred)\n",
      "  File \"C:\\Users\\Steph\\anaconda3\\lib\\site-packages\\sklearn\\utils\\validation.py\", line 409, in check_consistent_length\n",
      "    raise ValueError(\n",
      "ValueError: Found input variables with inconsistent numbers of samples: [20000, 200000]\n",
      "\n",
      "  warnings.warn(\n"
     ]
    },
    {
     "name": "stdout",
     "output_type": "stream",
     "text": [
      "INFO:tensorflow:Assets written to: C:\\Users\\Steph\\AppData\\Local\\Temp\\tmpdmq01xob\\assets\n",
      "Restoring model weights from the end of the best epoch: 73.\n",
      "Epoch 78: early stopping\n",
      "80/80 [==============================] - 1s 16ms/step\n"
     ]
    },
    {
     "name": "stderr",
     "output_type": "stream",
     "text": [
      "C:\\Users\\Steph\\anaconda3\\lib\\site-packages\\sklearn\\model_selection\\_validation.py:824: UserWarning: Scoring failed. The score on this train-test partition for these parameters will be set to nan. Details: \n",
      "Traceback (most recent call last):\n",
      "  File \"C:\\Users\\Steph\\anaconda3\\lib\\site-packages\\sklearn\\model_selection\\_validation.py\", line 813, in _score\n",
      "    scores = scorer(estimator, X_test, y_test)\n",
      "  File \"C:\\Users\\Steph\\anaconda3\\lib\\site-packages\\sklearn\\metrics\\_scorer.py\", line 266, in __call__\n",
      "    return self._score(partial(_cached_call, None), estimator, X, y_true, **_kwargs)\n",
      "  File \"C:\\Users\\Steph\\anaconda3\\lib\\site-packages\\sklearn\\metrics\\_scorer.py\", line 355, in _score\n",
      "    return self._sign * self._score_func(y_true, y_pred, **scoring_kwargs)\n",
      "  File \"C:\\Users\\Steph\\anaconda3\\lib\\site-packages\\sklearn\\utils\\_param_validation.py\", line 211, in wrapper\n",
      "    return func(*args, **kwargs)\n",
      "  File \"C:\\Users\\Steph\\anaconda3\\lib\\site-packages\\sklearn\\metrics\\_classification.py\", line 220, in accuracy_score\n",
      "    y_type, y_true, y_pred = _check_targets(y_true, y_pred)\n",
      "  File \"C:\\Users\\Steph\\anaconda3\\lib\\site-packages\\sklearn\\metrics\\_classification.py\", line 84, in _check_targets\n",
      "    check_consistent_length(y_true, y_pred)\n",
      "  File \"C:\\Users\\Steph\\anaconda3\\lib\\site-packages\\sklearn\\utils\\validation.py\", line 409, in check_consistent_length\n",
      "    raise ValueError(\n",
      "ValueError: Found input variables with inconsistent numbers of samples: [20000, 200000]\n",
      "\n",
      "  warnings.warn(\n"
     ]
    },
    {
     "name": "stdout",
     "output_type": "stream",
     "text": [
      "INFO:tensorflow:Assets written to: C:\\Users\\Steph\\AppData\\Local\\Temp\\tmpmaohjavf\\assets\n",
      "Restoring model weights from the end of the best epoch: 65.\n",
      "Epoch 70: early stopping\n",
      "80/80 [==============================] - 1s 14ms/step\n"
     ]
    },
    {
     "name": "stderr",
     "output_type": "stream",
     "text": [
      "C:\\Users\\Steph\\anaconda3\\lib\\site-packages\\sklearn\\model_selection\\_validation.py:824: UserWarning: Scoring failed. The score on this train-test partition for these parameters will be set to nan. Details: \n",
      "Traceback (most recent call last):\n",
      "  File \"C:\\Users\\Steph\\anaconda3\\lib\\site-packages\\sklearn\\model_selection\\_validation.py\", line 813, in _score\n",
      "    scores = scorer(estimator, X_test, y_test)\n",
      "  File \"C:\\Users\\Steph\\anaconda3\\lib\\site-packages\\sklearn\\metrics\\_scorer.py\", line 266, in __call__\n",
      "    return self._score(partial(_cached_call, None), estimator, X, y_true, **_kwargs)\n",
      "  File \"C:\\Users\\Steph\\anaconda3\\lib\\site-packages\\sklearn\\metrics\\_scorer.py\", line 355, in _score\n",
      "    return self._sign * self._score_func(y_true, y_pred, **scoring_kwargs)\n",
      "  File \"C:\\Users\\Steph\\anaconda3\\lib\\site-packages\\sklearn\\utils\\_param_validation.py\", line 211, in wrapper\n",
      "    return func(*args, **kwargs)\n",
      "  File \"C:\\Users\\Steph\\anaconda3\\lib\\site-packages\\sklearn\\metrics\\_classification.py\", line 220, in accuracy_score\n",
      "    y_type, y_true, y_pred = _check_targets(y_true, y_pred)\n",
      "  File \"C:\\Users\\Steph\\anaconda3\\lib\\site-packages\\sklearn\\metrics\\_classification.py\", line 84, in _check_targets\n",
      "    check_consistent_length(y_true, y_pred)\n",
      "  File \"C:\\Users\\Steph\\anaconda3\\lib\\site-packages\\sklearn\\utils\\validation.py\", line 409, in check_consistent_length\n",
      "    raise ValueError(\n",
      "ValueError: Found input variables with inconsistent numbers of samples: [20000, 200000]\n",
      "\n",
      "  warnings.warn(\n"
     ]
    },
    {
     "name": "stdout",
     "output_type": "stream",
     "text": [
      "INFO:tensorflow:Assets written to: C:\\Users\\Steph\\AppData\\Local\\Temp\\tmpr4dtpygb\\assets\n",
      "Restoring model weights from the end of the best epoch: 49.\n",
      "Epoch 54: early stopping\n",
      "80/80 [==============================] - 1s 15ms/step\n"
     ]
    },
    {
     "name": "stderr",
     "output_type": "stream",
     "text": [
      "C:\\Users\\Steph\\anaconda3\\lib\\site-packages\\sklearn\\model_selection\\_validation.py:824: UserWarning: Scoring failed. The score on this train-test partition for these parameters will be set to nan. Details: \n",
      "Traceback (most recent call last):\n",
      "  File \"C:\\Users\\Steph\\anaconda3\\lib\\site-packages\\sklearn\\model_selection\\_validation.py\", line 813, in _score\n",
      "    scores = scorer(estimator, X_test, y_test)\n",
      "  File \"C:\\Users\\Steph\\anaconda3\\lib\\site-packages\\sklearn\\metrics\\_scorer.py\", line 266, in __call__\n",
      "    return self._score(partial(_cached_call, None), estimator, X, y_true, **_kwargs)\n",
      "  File \"C:\\Users\\Steph\\anaconda3\\lib\\site-packages\\sklearn\\metrics\\_scorer.py\", line 355, in _score\n",
      "    return self._sign * self._score_func(y_true, y_pred, **scoring_kwargs)\n",
      "  File \"C:\\Users\\Steph\\anaconda3\\lib\\site-packages\\sklearn\\utils\\_param_validation.py\", line 211, in wrapper\n",
      "    return func(*args, **kwargs)\n",
      "  File \"C:\\Users\\Steph\\anaconda3\\lib\\site-packages\\sklearn\\metrics\\_classification.py\", line 220, in accuracy_score\n",
      "    y_type, y_true, y_pred = _check_targets(y_true, y_pred)\n",
      "  File \"C:\\Users\\Steph\\anaconda3\\lib\\site-packages\\sklearn\\metrics\\_classification.py\", line 84, in _check_targets\n",
      "    check_consistent_length(y_true, y_pred)\n",
      "  File \"C:\\Users\\Steph\\anaconda3\\lib\\site-packages\\sklearn\\utils\\validation.py\", line 409, in check_consistent_length\n",
      "    raise ValueError(\n",
      "ValueError: Found input variables with inconsistent numbers of samples: [20000, 200000]\n",
      "\n",
      "  warnings.warn(\n"
     ]
    },
    {
     "name": "stdout",
     "output_type": "stream",
     "text": [
      "INFO:tensorflow:Assets written to: C:\\Users\\Steph\\AppData\\Local\\Temp\\tmp37p3k29j\\assets\n",
      "Restoring model weights from the end of the best epoch: 61.\n",
      "Epoch 66: early stopping\n",
      "80/80 [==============================] - 2s 19ms/step\n"
     ]
    },
    {
     "name": "stderr",
     "output_type": "stream",
     "text": [
      "C:\\Users\\Steph\\anaconda3\\lib\\site-packages\\sklearn\\model_selection\\_validation.py:824: UserWarning: Scoring failed. The score on this train-test partition for these parameters will be set to nan. Details: \n",
      "Traceback (most recent call last):\n",
      "  File \"C:\\Users\\Steph\\anaconda3\\lib\\site-packages\\sklearn\\model_selection\\_validation.py\", line 813, in _score\n",
      "    scores = scorer(estimator, X_test, y_test)\n",
      "  File \"C:\\Users\\Steph\\anaconda3\\lib\\site-packages\\sklearn\\metrics\\_scorer.py\", line 266, in __call__\n",
      "    return self._score(partial(_cached_call, None), estimator, X, y_true, **_kwargs)\n",
      "  File \"C:\\Users\\Steph\\anaconda3\\lib\\site-packages\\sklearn\\metrics\\_scorer.py\", line 355, in _score\n",
      "    return self._sign * self._score_func(y_true, y_pred, **scoring_kwargs)\n",
      "  File \"C:\\Users\\Steph\\anaconda3\\lib\\site-packages\\sklearn\\utils\\_param_validation.py\", line 211, in wrapper\n",
      "    return func(*args, **kwargs)\n",
      "  File \"C:\\Users\\Steph\\anaconda3\\lib\\site-packages\\sklearn\\metrics\\_classification.py\", line 220, in accuracy_score\n",
      "    y_type, y_true, y_pred = _check_targets(y_true, y_pred)\n",
      "  File \"C:\\Users\\Steph\\anaconda3\\lib\\site-packages\\sklearn\\metrics\\_classification.py\", line 84, in _check_targets\n",
      "    check_consistent_length(y_true, y_pred)\n",
      "  File \"C:\\Users\\Steph\\anaconda3\\lib\\site-packages\\sklearn\\utils\\validation.py\", line 409, in check_consistent_length\n",
      "    raise ValueError(\n",
      "ValueError: Found input variables with inconsistent numbers of samples: [20000, 200000]\n",
      "\n",
      "  warnings.warn(\n"
     ]
    },
    {
     "name": "stdout",
     "output_type": "stream",
     "text": [
      "INFO:tensorflow:Assets written to: C:\\Users\\Steph\\AppData\\Local\\Temp\\tmp7hg7a0v8\\assets\n",
      "Restoring model weights from the end of the best epoch: 62.\n",
      "Epoch 67: early stopping\n",
      "80/80 [==============================] - 1s 16ms/step\n"
     ]
    },
    {
     "name": "stderr",
     "output_type": "stream",
     "text": [
      "C:\\Users\\Steph\\anaconda3\\lib\\site-packages\\sklearn\\model_selection\\_validation.py:824: UserWarning: Scoring failed. The score on this train-test partition for these parameters will be set to nan. Details: \n",
      "Traceback (most recent call last):\n",
      "  File \"C:\\Users\\Steph\\anaconda3\\lib\\site-packages\\sklearn\\model_selection\\_validation.py\", line 813, in _score\n",
      "    scores = scorer(estimator, X_test, y_test)\n",
      "  File \"C:\\Users\\Steph\\anaconda3\\lib\\site-packages\\sklearn\\metrics\\_scorer.py\", line 266, in __call__\n",
      "    return self._score(partial(_cached_call, None), estimator, X, y_true, **_kwargs)\n",
      "  File \"C:\\Users\\Steph\\anaconda3\\lib\\site-packages\\sklearn\\metrics\\_scorer.py\", line 355, in _score\n",
      "    return self._sign * self._score_func(y_true, y_pred, **scoring_kwargs)\n",
      "  File \"C:\\Users\\Steph\\anaconda3\\lib\\site-packages\\sklearn\\utils\\_param_validation.py\", line 211, in wrapper\n",
      "    return func(*args, **kwargs)\n",
      "  File \"C:\\Users\\Steph\\anaconda3\\lib\\site-packages\\sklearn\\metrics\\_classification.py\", line 220, in accuracy_score\n",
      "    y_type, y_true, y_pred = _check_targets(y_true, y_pred)\n",
      "  File \"C:\\Users\\Steph\\anaconda3\\lib\\site-packages\\sklearn\\metrics\\_classification.py\", line 84, in _check_targets\n",
      "    check_consistent_length(y_true, y_pred)\n",
      "  File \"C:\\Users\\Steph\\anaconda3\\lib\\site-packages\\sklearn\\utils\\validation.py\", line 409, in check_consistent_length\n",
      "    raise ValueError(\n",
      "ValueError: Found input variables with inconsistent numbers of samples: [20000, 200000]\n",
      "\n",
      "  warnings.warn(\n"
     ]
    },
    {
     "name": "stdout",
     "output_type": "stream",
     "text": [
      "INFO:tensorflow:Assets written to: C:\\Users\\Steph\\AppData\\Local\\Temp\\tmpya7r0fsa\\assets\n",
      "Restoring model weights from the end of the best epoch: 76.\n",
      "Epoch 81: early stopping\n",
      "80/80 [==============================] - 1s 17ms/step\n"
     ]
    },
    {
     "name": "stderr",
     "output_type": "stream",
     "text": [
      "C:\\Users\\Steph\\anaconda3\\lib\\site-packages\\sklearn\\model_selection\\_validation.py:824: UserWarning: Scoring failed. The score on this train-test partition for these parameters will be set to nan. Details: \n",
      "Traceback (most recent call last):\n",
      "  File \"C:\\Users\\Steph\\anaconda3\\lib\\site-packages\\sklearn\\model_selection\\_validation.py\", line 813, in _score\n",
      "    scores = scorer(estimator, X_test, y_test)\n",
      "  File \"C:\\Users\\Steph\\anaconda3\\lib\\site-packages\\sklearn\\metrics\\_scorer.py\", line 266, in __call__\n",
      "    return self._score(partial(_cached_call, None), estimator, X, y_true, **_kwargs)\n",
      "  File \"C:\\Users\\Steph\\anaconda3\\lib\\site-packages\\sklearn\\metrics\\_scorer.py\", line 355, in _score\n",
      "    return self._sign * self._score_func(y_true, y_pred, **scoring_kwargs)\n",
      "  File \"C:\\Users\\Steph\\anaconda3\\lib\\site-packages\\sklearn\\utils\\_param_validation.py\", line 211, in wrapper\n",
      "    return func(*args, **kwargs)\n",
      "  File \"C:\\Users\\Steph\\anaconda3\\lib\\site-packages\\sklearn\\metrics\\_classification.py\", line 220, in accuracy_score\n",
      "    y_type, y_true, y_pred = _check_targets(y_true, y_pred)\n",
      "  File \"C:\\Users\\Steph\\anaconda3\\lib\\site-packages\\sklearn\\metrics\\_classification.py\", line 84, in _check_targets\n",
      "    check_consistent_length(y_true, y_pred)\n",
      "  File \"C:\\Users\\Steph\\anaconda3\\lib\\site-packages\\sklearn\\utils\\validation.py\", line 409, in check_consistent_length\n",
      "    raise ValueError(\n",
      "ValueError: Found input variables with inconsistent numbers of samples: [20000, 200000]\n",
      "\n",
      "  warnings.warn(\n"
     ]
    },
    {
     "name": "stdout",
     "output_type": "stream",
     "text": [
      "INFO:tensorflow:Assets written to: C:\\Users\\Steph\\AppData\\Local\\Temp\\tmp2786j1mt\\assets\n",
      "Restoring model weights from the end of the best epoch: 1.\n",
      "Epoch 6: early stopping\n",
      "80/80 [==============================] - 0s 2ms/step\n"
     ]
    },
    {
     "name": "stderr",
     "output_type": "stream",
     "text": [
      "C:\\Users\\Steph\\anaconda3\\lib\\site-packages\\sklearn\\model_selection\\_validation.py:824: UserWarning: Scoring failed. The score on this train-test partition for these parameters will be set to nan. Details: \n",
      "Traceback (most recent call last):\n",
      "  File \"C:\\Users\\Steph\\anaconda3\\lib\\site-packages\\sklearn\\model_selection\\_validation.py\", line 813, in _score\n",
      "    scores = scorer(estimator, X_test, y_test)\n",
      "  File \"C:\\Users\\Steph\\anaconda3\\lib\\site-packages\\sklearn\\metrics\\_scorer.py\", line 266, in __call__\n",
      "    return self._score(partial(_cached_call, None), estimator, X, y_true, **_kwargs)\n",
      "  File \"C:\\Users\\Steph\\anaconda3\\lib\\site-packages\\sklearn\\metrics\\_scorer.py\", line 355, in _score\n",
      "    return self._sign * self._score_func(y_true, y_pred, **scoring_kwargs)\n",
      "  File \"C:\\Users\\Steph\\anaconda3\\lib\\site-packages\\sklearn\\utils\\_param_validation.py\", line 211, in wrapper\n",
      "    return func(*args, **kwargs)\n",
      "  File \"C:\\Users\\Steph\\anaconda3\\lib\\site-packages\\sklearn\\metrics\\_classification.py\", line 220, in accuracy_score\n",
      "    y_type, y_true, y_pred = _check_targets(y_true, y_pred)\n",
      "  File \"C:\\Users\\Steph\\anaconda3\\lib\\site-packages\\sklearn\\metrics\\_classification.py\", line 84, in _check_targets\n",
      "    check_consistent_length(y_true, y_pred)\n",
      "  File \"C:\\Users\\Steph\\anaconda3\\lib\\site-packages\\sklearn\\utils\\validation.py\", line 409, in check_consistent_length\n",
      "    raise ValueError(\n",
      "ValueError: Found input variables with inconsistent numbers of samples: [20000, 200000]\n",
      "\n",
      "  warnings.warn(\n"
     ]
    },
    {
     "name": "stdout",
     "output_type": "stream",
     "text": [
      "INFO:tensorflow:Assets written to: C:\\Users\\Steph\\AppData\\Local\\Temp\\tmp5nwffrzu\\assets\n",
      "Restoring model weights from the end of the best epoch: 1.\n",
      "Epoch 6: early stopping\n",
      "80/80 [==============================] - 0s 2ms/step\n"
     ]
    },
    {
     "name": "stderr",
     "output_type": "stream",
     "text": [
      "C:\\Users\\Steph\\anaconda3\\lib\\site-packages\\sklearn\\model_selection\\_validation.py:824: UserWarning: Scoring failed. The score on this train-test partition for these parameters will be set to nan. Details: \n",
      "Traceback (most recent call last):\n",
      "  File \"C:\\Users\\Steph\\anaconda3\\lib\\site-packages\\sklearn\\model_selection\\_validation.py\", line 813, in _score\n",
      "    scores = scorer(estimator, X_test, y_test)\n",
      "  File \"C:\\Users\\Steph\\anaconda3\\lib\\site-packages\\sklearn\\metrics\\_scorer.py\", line 266, in __call__\n",
      "    return self._score(partial(_cached_call, None), estimator, X, y_true, **_kwargs)\n",
      "  File \"C:\\Users\\Steph\\anaconda3\\lib\\site-packages\\sklearn\\metrics\\_scorer.py\", line 355, in _score\n",
      "    return self._sign * self._score_func(y_true, y_pred, **scoring_kwargs)\n",
      "  File \"C:\\Users\\Steph\\anaconda3\\lib\\site-packages\\sklearn\\utils\\_param_validation.py\", line 211, in wrapper\n",
      "    return func(*args, **kwargs)\n",
      "  File \"C:\\Users\\Steph\\anaconda3\\lib\\site-packages\\sklearn\\metrics\\_classification.py\", line 220, in accuracy_score\n",
      "    y_type, y_true, y_pred = _check_targets(y_true, y_pred)\n",
      "  File \"C:\\Users\\Steph\\anaconda3\\lib\\site-packages\\sklearn\\metrics\\_classification.py\", line 84, in _check_targets\n",
      "    check_consistent_length(y_true, y_pred)\n",
      "  File \"C:\\Users\\Steph\\anaconda3\\lib\\site-packages\\sklearn\\utils\\validation.py\", line 409, in check_consistent_length\n",
      "    raise ValueError(\n",
      "ValueError: Found input variables with inconsistent numbers of samples: [20000, 200000]\n",
      "\n",
      "  warnings.warn(\n"
     ]
    },
    {
     "name": "stdout",
     "output_type": "stream",
     "text": [
      "INFO:tensorflow:Assets written to: C:\\Users\\Steph\\AppData\\Local\\Temp\\tmpu0pbfqez\\assets\n",
      "Restoring model weights from the end of the best epoch: 1.\n",
      "Epoch 6: early stopping\n",
      "80/80 [==============================] - 0s 2ms/step\n"
     ]
    },
    {
     "name": "stderr",
     "output_type": "stream",
     "text": [
      "C:\\Users\\Steph\\anaconda3\\lib\\site-packages\\sklearn\\model_selection\\_validation.py:824: UserWarning: Scoring failed. The score on this train-test partition for these parameters will be set to nan. Details: \n",
      "Traceback (most recent call last):\n",
      "  File \"C:\\Users\\Steph\\anaconda3\\lib\\site-packages\\sklearn\\model_selection\\_validation.py\", line 813, in _score\n",
      "    scores = scorer(estimator, X_test, y_test)\n",
      "  File \"C:\\Users\\Steph\\anaconda3\\lib\\site-packages\\sklearn\\metrics\\_scorer.py\", line 266, in __call__\n",
      "    return self._score(partial(_cached_call, None), estimator, X, y_true, **_kwargs)\n",
      "  File \"C:\\Users\\Steph\\anaconda3\\lib\\site-packages\\sklearn\\metrics\\_scorer.py\", line 355, in _score\n",
      "    return self._sign * self._score_func(y_true, y_pred, **scoring_kwargs)\n",
      "  File \"C:\\Users\\Steph\\anaconda3\\lib\\site-packages\\sklearn\\utils\\_param_validation.py\", line 211, in wrapper\n",
      "    return func(*args, **kwargs)\n",
      "  File \"C:\\Users\\Steph\\anaconda3\\lib\\site-packages\\sklearn\\metrics\\_classification.py\", line 220, in accuracy_score\n",
      "    y_type, y_true, y_pred = _check_targets(y_true, y_pred)\n",
      "  File \"C:\\Users\\Steph\\anaconda3\\lib\\site-packages\\sklearn\\metrics\\_classification.py\", line 84, in _check_targets\n",
      "    check_consistent_length(y_true, y_pred)\n",
      "  File \"C:\\Users\\Steph\\anaconda3\\lib\\site-packages\\sklearn\\utils\\validation.py\", line 409, in check_consistent_length\n",
      "    raise ValueError(\n",
      "ValueError: Found input variables with inconsistent numbers of samples: [20000, 200000]\n",
      "\n",
      "  warnings.warn(\n"
     ]
    },
    {
     "name": "stdout",
     "output_type": "stream",
     "text": [
      "INFO:tensorflow:Assets written to: C:\\Users\\Steph\\AppData\\Local\\Temp\\tmpyhlg6rnb\\assets\n",
      "Restoring model weights from the end of the best epoch: 77.\n",
      "Epoch 82: early stopping\n",
      "80/80 [==============================] - 1s 14ms/step\n"
     ]
    },
    {
     "name": "stderr",
     "output_type": "stream",
     "text": [
      "C:\\Users\\Steph\\anaconda3\\lib\\site-packages\\sklearn\\model_selection\\_validation.py:824: UserWarning: Scoring failed. The score on this train-test partition for these parameters will be set to nan. Details: \n",
      "Traceback (most recent call last):\n",
      "  File \"C:\\Users\\Steph\\anaconda3\\lib\\site-packages\\sklearn\\model_selection\\_validation.py\", line 813, in _score\n",
      "    scores = scorer(estimator, X_test, y_test)\n",
      "  File \"C:\\Users\\Steph\\anaconda3\\lib\\site-packages\\sklearn\\metrics\\_scorer.py\", line 266, in __call__\n",
      "    return self._score(partial(_cached_call, None), estimator, X, y_true, **_kwargs)\n",
      "  File \"C:\\Users\\Steph\\anaconda3\\lib\\site-packages\\sklearn\\metrics\\_scorer.py\", line 355, in _score\n",
      "    return self._sign * self._score_func(y_true, y_pred, **scoring_kwargs)\n",
      "  File \"C:\\Users\\Steph\\anaconda3\\lib\\site-packages\\sklearn\\utils\\_param_validation.py\", line 211, in wrapper\n",
      "    return func(*args, **kwargs)\n",
      "  File \"C:\\Users\\Steph\\anaconda3\\lib\\site-packages\\sklearn\\metrics\\_classification.py\", line 220, in accuracy_score\n",
      "    y_type, y_true, y_pred = _check_targets(y_true, y_pred)\n",
      "  File \"C:\\Users\\Steph\\anaconda3\\lib\\site-packages\\sklearn\\metrics\\_classification.py\", line 84, in _check_targets\n",
      "    check_consistent_length(y_true, y_pred)\n",
      "  File \"C:\\Users\\Steph\\anaconda3\\lib\\site-packages\\sklearn\\utils\\validation.py\", line 409, in check_consistent_length\n",
      "    raise ValueError(\n",
      "ValueError: Found input variables with inconsistent numbers of samples: [20000, 200000]\n",
      "\n",
      "  warnings.warn(\n"
     ]
    },
    {
     "name": "stdout",
     "output_type": "stream",
     "text": [
      "INFO:tensorflow:Assets written to: C:\\Users\\Steph\\AppData\\Local\\Temp\\tmpcuitrcwg\\assets\n",
      "Restoring model weights from the end of the best epoch: 62.\n",
      "Epoch 67: early stopping\n",
      "80/80 [==============================] - 1s 11ms/step\n"
     ]
    },
    {
     "name": "stderr",
     "output_type": "stream",
     "text": [
      "C:\\Users\\Steph\\anaconda3\\lib\\site-packages\\sklearn\\model_selection\\_validation.py:824: UserWarning: Scoring failed. The score on this train-test partition for these parameters will be set to nan. Details: \n",
      "Traceback (most recent call last):\n",
      "  File \"C:\\Users\\Steph\\anaconda3\\lib\\site-packages\\sklearn\\model_selection\\_validation.py\", line 813, in _score\n",
      "    scores = scorer(estimator, X_test, y_test)\n",
      "  File \"C:\\Users\\Steph\\anaconda3\\lib\\site-packages\\sklearn\\metrics\\_scorer.py\", line 266, in __call__\n",
      "    return self._score(partial(_cached_call, None), estimator, X, y_true, **_kwargs)\n",
      "  File \"C:\\Users\\Steph\\anaconda3\\lib\\site-packages\\sklearn\\metrics\\_scorer.py\", line 355, in _score\n",
      "    return self._sign * self._score_func(y_true, y_pred, **scoring_kwargs)\n",
      "  File \"C:\\Users\\Steph\\anaconda3\\lib\\site-packages\\sklearn\\utils\\_param_validation.py\", line 211, in wrapper\n",
      "    return func(*args, **kwargs)\n",
      "  File \"C:\\Users\\Steph\\anaconda3\\lib\\site-packages\\sklearn\\metrics\\_classification.py\", line 220, in accuracy_score\n",
      "    y_type, y_true, y_pred = _check_targets(y_true, y_pred)\n",
      "  File \"C:\\Users\\Steph\\anaconda3\\lib\\site-packages\\sklearn\\metrics\\_classification.py\", line 84, in _check_targets\n",
      "    check_consistent_length(y_true, y_pred)\n",
      "  File \"C:\\Users\\Steph\\anaconda3\\lib\\site-packages\\sklearn\\utils\\validation.py\", line 409, in check_consistent_length\n",
      "    raise ValueError(\n",
      "ValueError: Found input variables with inconsistent numbers of samples: [20000, 200000]\n",
      "\n",
      "  warnings.warn(\n"
     ]
    },
    {
     "name": "stdout",
     "output_type": "stream",
     "text": [
      "INFO:tensorflow:Assets written to: C:\\Users\\Steph\\AppData\\Local\\Temp\\tmp5mehx7hq\\assets\n",
      "Restoring model weights from the end of the best epoch: 61.\n",
      "Epoch 66: early stopping\n",
      "80/80 [==============================] - 1s 14ms/step\n"
     ]
    },
    {
     "name": "stderr",
     "output_type": "stream",
     "text": [
      "C:\\Users\\Steph\\anaconda3\\lib\\site-packages\\sklearn\\model_selection\\_validation.py:824: UserWarning: Scoring failed. The score on this train-test partition for these parameters will be set to nan. Details: \n",
      "Traceback (most recent call last):\n",
      "  File \"C:\\Users\\Steph\\anaconda3\\lib\\site-packages\\sklearn\\model_selection\\_validation.py\", line 813, in _score\n",
      "    scores = scorer(estimator, X_test, y_test)\n",
      "  File \"C:\\Users\\Steph\\anaconda3\\lib\\site-packages\\sklearn\\metrics\\_scorer.py\", line 266, in __call__\n",
      "    return self._score(partial(_cached_call, None), estimator, X, y_true, **_kwargs)\n",
      "  File \"C:\\Users\\Steph\\anaconda3\\lib\\site-packages\\sklearn\\metrics\\_scorer.py\", line 355, in _score\n",
      "    return self._sign * self._score_func(y_true, y_pred, **scoring_kwargs)\n",
      "  File \"C:\\Users\\Steph\\anaconda3\\lib\\site-packages\\sklearn\\utils\\_param_validation.py\", line 211, in wrapper\n",
      "    return func(*args, **kwargs)\n",
      "  File \"C:\\Users\\Steph\\anaconda3\\lib\\site-packages\\sklearn\\metrics\\_classification.py\", line 220, in accuracy_score\n",
      "    y_type, y_true, y_pred = _check_targets(y_true, y_pred)\n",
      "  File \"C:\\Users\\Steph\\anaconda3\\lib\\site-packages\\sklearn\\metrics\\_classification.py\", line 84, in _check_targets\n",
      "    check_consistent_length(y_true, y_pred)\n",
      "  File \"C:\\Users\\Steph\\anaconda3\\lib\\site-packages\\sklearn\\utils\\validation.py\", line 409, in check_consistent_length\n",
      "    raise ValueError(\n",
      "ValueError: Found input variables with inconsistent numbers of samples: [20000, 200000]\n",
      "\n",
      "  warnings.warn(\n"
     ]
    },
    {
     "name": "stdout",
     "output_type": "stream",
     "text": [
      "INFO:tensorflow:Assets written to: C:\\Users\\Steph\\AppData\\Local\\Temp\\tmphvugid9e\\assets\n",
      "Restoring model weights from the end of the best epoch: 64.\n",
      "Epoch 69: early stopping\n",
      "80/80 [==============================] - 1s 13ms/step\n"
     ]
    },
    {
     "name": "stderr",
     "output_type": "stream",
     "text": [
      "C:\\Users\\Steph\\anaconda3\\lib\\site-packages\\sklearn\\model_selection\\_validation.py:824: UserWarning: Scoring failed. The score on this train-test partition for these parameters will be set to nan. Details: \n",
      "Traceback (most recent call last):\n",
      "  File \"C:\\Users\\Steph\\anaconda3\\lib\\site-packages\\sklearn\\model_selection\\_validation.py\", line 813, in _score\n",
      "    scores = scorer(estimator, X_test, y_test)\n",
      "  File \"C:\\Users\\Steph\\anaconda3\\lib\\site-packages\\sklearn\\metrics\\_scorer.py\", line 266, in __call__\n",
      "    return self._score(partial(_cached_call, None), estimator, X, y_true, **_kwargs)\n",
      "  File \"C:\\Users\\Steph\\anaconda3\\lib\\site-packages\\sklearn\\metrics\\_scorer.py\", line 355, in _score\n",
      "    return self._sign * self._score_func(y_true, y_pred, **scoring_kwargs)\n",
      "  File \"C:\\Users\\Steph\\anaconda3\\lib\\site-packages\\sklearn\\utils\\_param_validation.py\", line 211, in wrapper\n",
      "    return func(*args, **kwargs)\n",
      "  File \"C:\\Users\\Steph\\anaconda3\\lib\\site-packages\\sklearn\\metrics\\_classification.py\", line 220, in accuracy_score\n",
      "    y_type, y_true, y_pred = _check_targets(y_true, y_pred)\n",
      "  File \"C:\\Users\\Steph\\anaconda3\\lib\\site-packages\\sklearn\\metrics\\_classification.py\", line 84, in _check_targets\n",
      "    check_consistent_length(y_true, y_pred)\n",
      "  File \"C:\\Users\\Steph\\anaconda3\\lib\\site-packages\\sklearn\\utils\\validation.py\", line 409, in check_consistent_length\n",
      "    raise ValueError(\n",
      "ValueError: Found input variables with inconsistent numbers of samples: [20000, 200000]\n",
      "\n",
      "  warnings.warn(\n"
     ]
    },
    {
     "name": "stdout",
     "output_type": "stream",
     "text": [
      "INFO:tensorflow:Assets written to: C:\\Users\\Steph\\AppData\\Local\\Temp\\tmpp_h2__5z\\assets\n",
      "Restoring model weights from the end of the best epoch: 85.\n",
      "Epoch 90: early stopping\n",
      "80/80 [==============================] - 1s 14ms/step\n"
     ]
    },
    {
     "name": "stderr",
     "output_type": "stream",
     "text": [
      "C:\\Users\\Steph\\anaconda3\\lib\\site-packages\\sklearn\\model_selection\\_validation.py:824: UserWarning: Scoring failed. The score on this train-test partition for these parameters will be set to nan. Details: \n",
      "Traceback (most recent call last):\n",
      "  File \"C:\\Users\\Steph\\anaconda3\\lib\\site-packages\\sklearn\\model_selection\\_validation.py\", line 813, in _score\n",
      "    scores = scorer(estimator, X_test, y_test)\n",
      "  File \"C:\\Users\\Steph\\anaconda3\\lib\\site-packages\\sklearn\\metrics\\_scorer.py\", line 266, in __call__\n",
      "    return self._score(partial(_cached_call, None), estimator, X, y_true, **_kwargs)\n",
      "  File \"C:\\Users\\Steph\\anaconda3\\lib\\site-packages\\sklearn\\metrics\\_scorer.py\", line 355, in _score\n",
      "    return self._sign * self._score_func(y_true, y_pred, **scoring_kwargs)\n",
      "  File \"C:\\Users\\Steph\\anaconda3\\lib\\site-packages\\sklearn\\utils\\_param_validation.py\", line 211, in wrapper\n",
      "    return func(*args, **kwargs)\n",
      "  File \"C:\\Users\\Steph\\anaconda3\\lib\\site-packages\\sklearn\\metrics\\_classification.py\", line 220, in accuracy_score\n",
      "    y_type, y_true, y_pred = _check_targets(y_true, y_pred)\n",
      "  File \"C:\\Users\\Steph\\anaconda3\\lib\\site-packages\\sklearn\\metrics\\_classification.py\", line 84, in _check_targets\n",
      "    check_consistent_length(y_true, y_pred)\n",
      "  File \"C:\\Users\\Steph\\anaconda3\\lib\\site-packages\\sklearn\\utils\\validation.py\", line 409, in check_consistent_length\n",
      "    raise ValueError(\n",
      "ValueError: Found input variables with inconsistent numbers of samples: [20000, 200000]\n",
      "\n",
      "  warnings.warn(\n"
     ]
    },
    {
     "name": "stdout",
     "output_type": "stream",
     "text": [
      "INFO:tensorflow:Assets written to: C:\\Users\\Steph\\AppData\\Local\\Temp\\tmpv6vz6g7l\\assets\n",
      "Restoring model weights from the end of the best epoch: 116.\n",
      "Epoch 121: early stopping\n",
      "80/80 [==============================] - 1s 16ms/step\n"
     ]
    },
    {
     "name": "stderr",
     "output_type": "stream",
     "text": [
      "C:\\Users\\Steph\\anaconda3\\lib\\site-packages\\sklearn\\model_selection\\_validation.py:824: UserWarning: Scoring failed. The score on this train-test partition for these parameters will be set to nan. Details: \n",
      "Traceback (most recent call last):\n",
      "  File \"C:\\Users\\Steph\\anaconda3\\lib\\site-packages\\sklearn\\model_selection\\_validation.py\", line 813, in _score\n",
      "    scores = scorer(estimator, X_test, y_test)\n",
      "  File \"C:\\Users\\Steph\\anaconda3\\lib\\site-packages\\sklearn\\metrics\\_scorer.py\", line 266, in __call__\n",
      "    return self._score(partial(_cached_call, None), estimator, X, y_true, **_kwargs)\n",
      "  File \"C:\\Users\\Steph\\anaconda3\\lib\\site-packages\\sklearn\\metrics\\_scorer.py\", line 355, in _score\n",
      "    return self._sign * self._score_func(y_true, y_pred, **scoring_kwargs)\n",
      "  File \"C:\\Users\\Steph\\anaconda3\\lib\\site-packages\\sklearn\\utils\\_param_validation.py\", line 211, in wrapper\n",
      "    return func(*args, **kwargs)\n",
      "  File \"C:\\Users\\Steph\\anaconda3\\lib\\site-packages\\sklearn\\metrics\\_classification.py\", line 220, in accuracy_score\n",
      "    y_type, y_true, y_pred = _check_targets(y_true, y_pred)\n",
      "  File \"C:\\Users\\Steph\\anaconda3\\lib\\site-packages\\sklearn\\metrics\\_classification.py\", line 84, in _check_targets\n",
      "    check_consistent_length(y_true, y_pred)\n",
      "  File \"C:\\Users\\Steph\\anaconda3\\lib\\site-packages\\sklearn\\utils\\validation.py\", line 409, in check_consistent_length\n",
      "    raise ValueError(\n",
      "ValueError: Found input variables with inconsistent numbers of samples: [20000, 200000]\n",
      "\n",
      "  warnings.warn(\n"
     ]
    },
    {
     "name": "stdout",
     "output_type": "stream",
     "text": [
      "INFO:tensorflow:Assets written to: C:\\Users\\Steph\\AppData\\Local\\Temp\\tmpcoe00ic8\\assets\n",
      "Restoring model weights from the end of the best epoch: 70.\n",
      "Epoch 75: early stopping\n",
      "80/80 [==============================] - 0s 2ms/step\n"
     ]
    },
    {
     "name": "stderr",
     "output_type": "stream",
     "text": [
      "C:\\Users\\Steph\\anaconda3\\lib\\site-packages\\sklearn\\model_selection\\_validation.py:824: UserWarning: Scoring failed. The score on this train-test partition for these parameters will be set to nan. Details: \n",
      "Traceback (most recent call last):\n",
      "  File \"C:\\Users\\Steph\\anaconda3\\lib\\site-packages\\sklearn\\model_selection\\_validation.py\", line 813, in _score\n",
      "    scores = scorer(estimator, X_test, y_test)\n",
      "  File \"C:\\Users\\Steph\\anaconda3\\lib\\site-packages\\sklearn\\metrics\\_scorer.py\", line 266, in __call__\n",
      "    return self._score(partial(_cached_call, None), estimator, X, y_true, **_kwargs)\n",
      "  File \"C:\\Users\\Steph\\anaconda3\\lib\\site-packages\\sklearn\\metrics\\_scorer.py\", line 355, in _score\n",
      "    return self._sign * self._score_func(y_true, y_pred, **scoring_kwargs)\n",
      "  File \"C:\\Users\\Steph\\anaconda3\\lib\\site-packages\\sklearn\\utils\\_param_validation.py\", line 211, in wrapper\n",
      "    return func(*args, **kwargs)\n",
      "  File \"C:\\Users\\Steph\\anaconda3\\lib\\site-packages\\sklearn\\metrics\\_classification.py\", line 220, in accuracy_score\n",
      "    y_type, y_true, y_pred = _check_targets(y_true, y_pred)\n",
      "  File \"C:\\Users\\Steph\\anaconda3\\lib\\site-packages\\sklearn\\metrics\\_classification.py\", line 84, in _check_targets\n",
      "    check_consistent_length(y_true, y_pred)\n",
      "  File \"C:\\Users\\Steph\\anaconda3\\lib\\site-packages\\sklearn\\utils\\validation.py\", line 409, in check_consistent_length\n",
      "    raise ValueError(\n",
      "ValueError: Found input variables with inconsistent numbers of samples: [20000, 200000]\n",
      "\n",
      "  warnings.warn(\n"
     ]
    },
    {
     "name": "stdout",
     "output_type": "stream",
     "text": [
      "INFO:tensorflow:Assets written to: C:\\Users\\Steph\\AppData\\Local\\Temp\\tmpv5oy40q9\\assets\n",
      "Restoring model weights from the end of the best epoch: 158.\n",
      "Epoch 163: early stopping\n",
      "80/80 [==============================] - 0s 2ms/step\n"
     ]
    },
    {
     "name": "stderr",
     "output_type": "stream",
     "text": [
      "C:\\Users\\Steph\\anaconda3\\lib\\site-packages\\sklearn\\model_selection\\_validation.py:824: UserWarning: Scoring failed. The score on this train-test partition for these parameters will be set to nan. Details: \n",
      "Traceback (most recent call last):\n",
      "  File \"C:\\Users\\Steph\\anaconda3\\lib\\site-packages\\sklearn\\model_selection\\_validation.py\", line 813, in _score\n",
      "    scores = scorer(estimator, X_test, y_test)\n",
      "  File \"C:\\Users\\Steph\\anaconda3\\lib\\site-packages\\sklearn\\metrics\\_scorer.py\", line 266, in __call__\n",
      "    return self._score(partial(_cached_call, None), estimator, X, y_true, **_kwargs)\n",
      "  File \"C:\\Users\\Steph\\anaconda3\\lib\\site-packages\\sklearn\\metrics\\_scorer.py\", line 355, in _score\n",
      "    return self._sign * self._score_func(y_true, y_pred, **scoring_kwargs)\n",
      "  File \"C:\\Users\\Steph\\anaconda3\\lib\\site-packages\\sklearn\\utils\\_param_validation.py\", line 211, in wrapper\n",
      "    return func(*args, **kwargs)\n",
      "  File \"C:\\Users\\Steph\\anaconda3\\lib\\site-packages\\sklearn\\metrics\\_classification.py\", line 220, in accuracy_score\n",
      "    y_type, y_true, y_pred = _check_targets(y_true, y_pred)\n",
      "  File \"C:\\Users\\Steph\\anaconda3\\lib\\site-packages\\sklearn\\metrics\\_classification.py\", line 84, in _check_targets\n",
      "    check_consistent_length(y_true, y_pred)\n",
      "  File \"C:\\Users\\Steph\\anaconda3\\lib\\site-packages\\sklearn\\utils\\validation.py\", line 409, in check_consistent_length\n",
      "    raise ValueError(\n",
      "ValueError: Found input variables with inconsistent numbers of samples: [20000, 200000]\n",
      "\n",
      "  warnings.warn(\n"
     ]
    },
    {
     "name": "stdout",
     "output_type": "stream",
     "text": [
      "INFO:tensorflow:Assets written to: C:\\Users\\Steph\\AppData\\Local\\Temp\\tmpuie5w4td\\assets\n",
      "Restoring model weights from the end of the best epoch: 66.\n",
      "Epoch 71: early stopping\n",
      "80/80 [==============================] - 0s 2ms/step\n"
     ]
    },
    {
     "name": "stderr",
     "output_type": "stream",
     "text": [
      "C:\\Users\\Steph\\anaconda3\\lib\\site-packages\\sklearn\\model_selection\\_validation.py:824: UserWarning: Scoring failed. The score on this train-test partition for these parameters will be set to nan. Details: \n",
      "Traceback (most recent call last):\n",
      "  File \"C:\\Users\\Steph\\anaconda3\\lib\\site-packages\\sklearn\\model_selection\\_validation.py\", line 813, in _score\n",
      "    scores = scorer(estimator, X_test, y_test)\n",
      "  File \"C:\\Users\\Steph\\anaconda3\\lib\\site-packages\\sklearn\\metrics\\_scorer.py\", line 266, in __call__\n",
      "    return self._score(partial(_cached_call, None), estimator, X, y_true, **_kwargs)\n",
      "  File \"C:\\Users\\Steph\\anaconda3\\lib\\site-packages\\sklearn\\metrics\\_scorer.py\", line 355, in _score\n",
      "    return self._sign * self._score_func(y_true, y_pred, **scoring_kwargs)\n",
      "  File \"C:\\Users\\Steph\\anaconda3\\lib\\site-packages\\sklearn\\utils\\_param_validation.py\", line 211, in wrapper\n",
      "    return func(*args, **kwargs)\n",
      "  File \"C:\\Users\\Steph\\anaconda3\\lib\\site-packages\\sklearn\\metrics\\_classification.py\", line 220, in accuracy_score\n",
      "    y_type, y_true, y_pred = _check_targets(y_true, y_pred)\n",
      "  File \"C:\\Users\\Steph\\anaconda3\\lib\\site-packages\\sklearn\\metrics\\_classification.py\", line 84, in _check_targets\n",
      "    check_consistent_length(y_true, y_pred)\n",
      "  File \"C:\\Users\\Steph\\anaconda3\\lib\\site-packages\\sklearn\\utils\\validation.py\", line 409, in check_consistent_length\n",
      "    raise ValueError(\n",
      "ValueError: Found input variables with inconsistent numbers of samples: [20000, 200000]\n",
      "\n",
      "  warnings.warn(\n"
     ]
    },
    {
     "name": "stdout",
     "output_type": "stream",
     "text": [
      "INFO:tensorflow:Assets written to: C:\\Users\\Steph\\AppData\\Local\\Temp\\tmp70szyhq7\\assets\n",
      "Restoring model weights from the end of the best epoch: 48.\n",
      "Epoch 53: early stopping\n",
      "80/80 [==============================] - 2s 18ms/step\n"
     ]
    },
    {
     "name": "stderr",
     "output_type": "stream",
     "text": [
      "C:\\Users\\Steph\\anaconda3\\lib\\site-packages\\sklearn\\model_selection\\_validation.py:824: UserWarning: Scoring failed. The score on this train-test partition for these parameters will be set to nan. Details: \n",
      "Traceback (most recent call last):\n",
      "  File \"C:\\Users\\Steph\\anaconda3\\lib\\site-packages\\sklearn\\model_selection\\_validation.py\", line 813, in _score\n",
      "    scores = scorer(estimator, X_test, y_test)\n",
      "  File \"C:\\Users\\Steph\\anaconda3\\lib\\site-packages\\sklearn\\metrics\\_scorer.py\", line 266, in __call__\n",
      "    return self._score(partial(_cached_call, None), estimator, X, y_true, **_kwargs)\n",
      "  File \"C:\\Users\\Steph\\anaconda3\\lib\\site-packages\\sklearn\\metrics\\_scorer.py\", line 355, in _score\n",
      "    return self._sign * self._score_func(y_true, y_pred, **scoring_kwargs)\n",
      "  File \"C:\\Users\\Steph\\anaconda3\\lib\\site-packages\\sklearn\\utils\\_param_validation.py\", line 211, in wrapper\n",
      "    return func(*args, **kwargs)\n",
      "  File \"C:\\Users\\Steph\\anaconda3\\lib\\site-packages\\sklearn\\metrics\\_classification.py\", line 220, in accuracy_score\n",
      "    y_type, y_true, y_pred = _check_targets(y_true, y_pred)\n",
      "  File \"C:\\Users\\Steph\\anaconda3\\lib\\site-packages\\sklearn\\metrics\\_classification.py\", line 84, in _check_targets\n",
      "    check_consistent_length(y_true, y_pred)\n",
      "  File \"C:\\Users\\Steph\\anaconda3\\lib\\site-packages\\sklearn\\utils\\validation.py\", line 409, in check_consistent_length\n",
      "    raise ValueError(\n",
      "ValueError: Found input variables with inconsistent numbers of samples: [20000, 200000]\n",
      "\n",
      "  warnings.warn(\n"
     ]
    },
    {
     "name": "stdout",
     "output_type": "stream",
     "text": [
      "INFO:tensorflow:Assets written to: C:\\Users\\Steph\\AppData\\Local\\Temp\\tmpyh96kryr\\assets\n",
      "Restoring model weights from the end of the best epoch: 44.\n",
      "Epoch 49: early stopping\n",
      "80/80 [==============================] - 1s 11ms/step\n"
     ]
    },
    {
     "name": "stderr",
     "output_type": "stream",
     "text": [
      "C:\\Users\\Steph\\anaconda3\\lib\\site-packages\\sklearn\\model_selection\\_validation.py:824: UserWarning: Scoring failed. The score on this train-test partition for these parameters will be set to nan. Details: \n",
      "Traceback (most recent call last):\n",
      "  File \"C:\\Users\\Steph\\anaconda3\\lib\\site-packages\\sklearn\\model_selection\\_validation.py\", line 813, in _score\n",
      "    scores = scorer(estimator, X_test, y_test)\n",
      "  File \"C:\\Users\\Steph\\anaconda3\\lib\\site-packages\\sklearn\\metrics\\_scorer.py\", line 266, in __call__\n",
      "    return self._score(partial(_cached_call, None), estimator, X, y_true, **_kwargs)\n",
      "  File \"C:\\Users\\Steph\\anaconda3\\lib\\site-packages\\sklearn\\metrics\\_scorer.py\", line 355, in _score\n",
      "    return self._sign * self._score_func(y_true, y_pred, **scoring_kwargs)\n",
      "  File \"C:\\Users\\Steph\\anaconda3\\lib\\site-packages\\sklearn\\utils\\_param_validation.py\", line 211, in wrapper\n",
      "    return func(*args, **kwargs)\n",
      "  File \"C:\\Users\\Steph\\anaconda3\\lib\\site-packages\\sklearn\\metrics\\_classification.py\", line 220, in accuracy_score\n",
      "    y_type, y_true, y_pred = _check_targets(y_true, y_pred)\n",
      "  File \"C:\\Users\\Steph\\anaconda3\\lib\\site-packages\\sklearn\\metrics\\_classification.py\", line 84, in _check_targets\n",
      "    check_consistent_length(y_true, y_pred)\n",
      "  File \"C:\\Users\\Steph\\anaconda3\\lib\\site-packages\\sklearn\\utils\\validation.py\", line 409, in check_consistent_length\n",
      "    raise ValueError(\n",
      "ValueError: Found input variables with inconsistent numbers of samples: [20000, 200000]\n",
      "\n",
      "  warnings.warn(\n"
     ]
    },
    {
     "name": "stdout",
     "output_type": "stream",
     "text": [
      "INFO:tensorflow:Assets written to: C:\\Users\\Steph\\AppData\\Local\\Temp\\tmp6g_3n4oj\\assets\n",
      "Restoring model weights from the end of the best epoch: 62.\n",
      "Epoch 67: early stopping\n",
      "80/80 [==============================] - 1s 15ms/step\n"
     ]
    },
    {
     "name": "stderr",
     "output_type": "stream",
     "text": [
      "C:\\Users\\Steph\\anaconda3\\lib\\site-packages\\sklearn\\model_selection\\_validation.py:824: UserWarning: Scoring failed. The score on this train-test partition for these parameters will be set to nan. Details: \n",
      "Traceback (most recent call last):\n",
      "  File \"C:\\Users\\Steph\\anaconda3\\lib\\site-packages\\sklearn\\model_selection\\_validation.py\", line 813, in _score\n",
      "    scores = scorer(estimator, X_test, y_test)\n",
      "  File \"C:\\Users\\Steph\\anaconda3\\lib\\site-packages\\sklearn\\metrics\\_scorer.py\", line 266, in __call__\n",
      "    return self._score(partial(_cached_call, None), estimator, X, y_true, **_kwargs)\n",
      "  File \"C:\\Users\\Steph\\anaconda3\\lib\\site-packages\\sklearn\\metrics\\_scorer.py\", line 355, in _score\n",
      "    return self._sign * self._score_func(y_true, y_pred, **scoring_kwargs)\n",
      "  File \"C:\\Users\\Steph\\anaconda3\\lib\\site-packages\\sklearn\\utils\\_param_validation.py\", line 211, in wrapper\n",
      "    return func(*args, **kwargs)\n",
      "  File \"C:\\Users\\Steph\\anaconda3\\lib\\site-packages\\sklearn\\metrics\\_classification.py\", line 220, in accuracy_score\n",
      "    y_type, y_true, y_pred = _check_targets(y_true, y_pred)\n",
      "  File \"C:\\Users\\Steph\\anaconda3\\lib\\site-packages\\sklearn\\metrics\\_classification.py\", line 84, in _check_targets\n",
      "    check_consistent_length(y_true, y_pred)\n",
      "  File \"C:\\Users\\Steph\\anaconda3\\lib\\site-packages\\sklearn\\utils\\validation.py\", line 409, in check_consistent_length\n",
      "    raise ValueError(\n",
      "ValueError: Found input variables with inconsistent numbers of samples: [20000, 200000]\n",
      "\n",
      "  warnings.warn(\n"
     ]
    },
    {
     "name": "stdout",
     "output_type": "stream",
     "text": [
      "INFO:tensorflow:Assets written to: C:\\Users\\Steph\\AppData\\Local\\Temp\\tmp5b6umswq\\assets\n",
      "Restoring model weights from the end of the best epoch: 68.\n",
      "Epoch 73: early stopping\n",
      "80/80 [==============================] - 1s 14ms/step\n"
     ]
    },
    {
     "name": "stderr",
     "output_type": "stream",
     "text": [
      "C:\\Users\\Steph\\anaconda3\\lib\\site-packages\\sklearn\\model_selection\\_validation.py:824: UserWarning: Scoring failed. The score on this train-test partition for these parameters will be set to nan. Details: \n",
      "Traceback (most recent call last):\n",
      "  File \"C:\\Users\\Steph\\anaconda3\\lib\\site-packages\\sklearn\\model_selection\\_validation.py\", line 813, in _score\n",
      "    scores = scorer(estimator, X_test, y_test)\n",
      "  File \"C:\\Users\\Steph\\anaconda3\\lib\\site-packages\\sklearn\\metrics\\_scorer.py\", line 266, in __call__\n",
      "    return self._score(partial(_cached_call, None), estimator, X, y_true, **_kwargs)\n",
      "  File \"C:\\Users\\Steph\\anaconda3\\lib\\site-packages\\sklearn\\metrics\\_scorer.py\", line 355, in _score\n",
      "    return self._sign * self._score_func(y_true, y_pred, **scoring_kwargs)\n",
      "  File \"C:\\Users\\Steph\\anaconda3\\lib\\site-packages\\sklearn\\utils\\_param_validation.py\", line 211, in wrapper\n",
      "    return func(*args, **kwargs)\n",
      "  File \"C:\\Users\\Steph\\anaconda3\\lib\\site-packages\\sklearn\\metrics\\_classification.py\", line 220, in accuracy_score\n",
      "    y_type, y_true, y_pred = _check_targets(y_true, y_pred)\n",
      "  File \"C:\\Users\\Steph\\anaconda3\\lib\\site-packages\\sklearn\\metrics\\_classification.py\", line 84, in _check_targets\n",
      "    check_consistent_length(y_true, y_pred)\n",
      "  File \"C:\\Users\\Steph\\anaconda3\\lib\\site-packages\\sklearn\\utils\\validation.py\", line 409, in check_consistent_length\n",
      "    raise ValueError(\n",
      "ValueError: Found input variables with inconsistent numbers of samples: [20000, 200000]\n",
      "\n",
      "  warnings.warn(\n"
     ]
    },
    {
     "name": "stdout",
     "output_type": "stream",
     "text": [
      "INFO:tensorflow:Assets written to: C:\\Users\\Steph\\AppData\\Local\\Temp\\tmp56emos55\\assets\n",
      "Restoring model weights from the end of the best epoch: 48.\n",
      "Epoch 53: early stopping\n",
      "80/80 [==============================] - 1s 10ms/step\n"
     ]
    },
    {
     "name": "stderr",
     "output_type": "stream",
     "text": [
      "C:\\Users\\Steph\\anaconda3\\lib\\site-packages\\sklearn\\model_selection\\_validation.py:824: UserWarning: Scoring failed. The score on this train-test partition for these parameters will be set to nan. Details: \n",
      "Traceback (most recent call last):\n",
      "  File \"C:\\Users\\Steph\\anaconda3\\lib\\site-packages\\sklearn\\model_selection\\_validation.py\", line 813, in _score\n",
      "    scores = scorer(estimator, X_test, y_test)\n",
      "  File \"C:\\Users\\Steph\\anaconda3\\lib\\site-packages\\sklearn\\metrics\\_scorer.py\", line 266, in __call__\n",
      "    return self._score(partial(_cached_call, None), estimator, X, y_true, **_kwargs)\n",
      "  File \"C:\\Users\\Steph\\anaconda3\\lib\\site-packages\\sklearn\\metrics\\_scorer.py\", line 355, in _score\n",
      "    return self._sign * self._score_func(y_true, y_pred, **scoring_kwargs)\n",
      "  File \"C:\\Users\\Steph\\anaconda3\\lib\\site-packages\\sklearn\\utils\\_param_validation.py\", line 211, in wrapper\n",
      "    return func(*args, **kwargs)\n",
      "  File \"C:\\Users\\Steph\\anaconda3\\lib\\site-packages\\sklearn\\metrics\\_classification.py\", line 220, in accuracy_score\n",
      "    y_type, y_true, y_pred = _check_targets(y_true, y_pred)\n",
      "  File \"C:\\Users\\Steph\\anaconda3\\lib\\site-packages\\sklearn\\metrics\\_classification.py\", line 84, in _check_targets\n",
      "    check_consistent_length(y_true, y_pred)\n",
      "  File \"C:\\Users\\Steph\\anaconda3\\lib\\site-packages\\sklearn\\utils\\validation.py\", line 409, in check_consistent_length\n",
      "    raise ValueError(\n",
      "ValueError: Found input variables with inconsistent numbers of samples: [20000, 200000]\n",
      "\n",
      "  warnings.warn(\n"
     ]
    },
    {
     "name": "stdout",
     "output_type": "stream",
     "text": [
      "INFO:tensorflow:Assets written to: C:\\Users\\Steph\\AppData\\Local\\Temp\\tmp4rue8hx_\\assets\n",
      "Restoring model weights from the end of the best epoch: 73.\n",
      "Epoch 78: early stopping\n",
      "80/80 [==============================] - 1s 12ms/step\n"
     ]
    },
    {
     "name": "stderr",
     "output_type": "stream",
     "text": [
      "C:\\Users\\Steph\\anaconda3\\lib\\site-packages\\sklearn\\model_selection\\_validation.py:824: UserWarning: Scoring failed. The score on this train-test partition for these parameters will be set to nan. Details: \n",
      "Traceback (most recent call last):\n",
      "  File \"C:\\Users\\Steph\\anaconda3\\lib\\site-packages\\sklearn\\model_selection\\_validation.py\", line 813, in _score\n",
      "    scores = scorer(estimator, X_test, y_test)\n",
      "  File \"C:\\Users\\Steph\\anaconda3\\lib\\site-packages\\sklearn\\metrics\\_scorer.py\", line 266, in __call__\n",
      "    return self._score(partial(_cached_call, None), estimator, X, y_true, **_kwargs)\n",
      "  File \"C:\\Users\\Steph\\anaconda3\\lib\\site-packages\\sklearn\\metrics\\_scorer.py\", line 355, in _score\n",
      "    return self._sign * self._score_func(y_true, y_pred, **scoring_kwargs)\n",
      "  File \"C:\\Users\\Steph\\anaconda3\\lib\\site-packages\\sklearn\\utils\\_param_validation.py\", line 211, in wrapper\n",
      "    return func(*args, **kwargs)\n",
      "  File \"C:\\Users\\Steph\\anaconda3\\lib\\site-packages\\sklearn\\metrics\\_classification.py\", line 220, in accuracy_score\n",
      "    y_type, y_true, y_pred = _check_targets(y_true, y_pred)\n",
      "  File \"C:\\Users\\Steph\\anaconda3\\lib\\site-packages\\sklearn\\metrics\\_classification.py\", line 84, in _check_targets\n",
      "    check_consistent_length(y_true, y_pred)\n",
      "  File \"C:\\Users\\Steph\\anaconda3\\lib\\site-packages\\sklearn\\utils\\validation.py\", line 409, in check_consistent_length\n",
      "    raise ValueError(\n",
      "ValueError: Found input variables with inconsistent numbers of samples: [20000, 200000]\n",
      "\n",
      "  warnings.warn(\n"
     ]
    },
    {
     "name": "stdout",
     "output_type": "stream",
     "text": [
      "INFO:tensorflow:Assets written to: C:\\Users\\Steph\\AppData\\Local\\Temp\\tmpwqme77hz\\assets\n",
      "Restoring model weights from the end of the best epoch: 2.\n",
      "Epoch 7: early stopping\n",
      "80/80 [==============================] - 0s 1ms/step\n"
     ]
    },
    {
     "name": "stderr",
     "output_type": "stream",
     "text": [
      "C:\\Users\\Steph\\anaconda3\\lib\\site-packages\\sklearn\\model_selection\\_validation.py:824: UserWarning: Scoring failed. The score on this train-test partition for these parameters will be set to nan. Details: \n",
      "Traceback (most recent call last):\n",
      "  File \"C:\\Users\\Steph\\anaconda3\\lib\\site-packages\\sklearn\\model_selection\\_validation.py\", line 813, in _score\n",
      "    scores = scorer(estimator, X_test, y_test)\n",
      "  File \"C:\\Users\\Steph\\anaconda3\\lib\\site-packages\\sklearn\\metrics\\_scorer.py\", line 266, in __call__\n",
      "    return self._score(partial(_cached_call, None), estimator, X, y_true, **_kwargs)\n",
      "  File \"C:\\Users\\Steph\\anaconda3\\lib\\site-packages\\sklearn\\metrics\\_scorer.py\", line 355, in _score\n",
      "    return self._sign * self._score_func(y_true, y_pred, **scoring_kwargs)\n",
      "  File \"C:\\Users\\Steph\\anaconda3\\lib\\site-packages\\sklearn\\utils\\_param_validation.py\", line 211, in wrapper\n",
      "    return func(*args, **kwargs)\n",
      "  File \"C:\\Users\\Steph\\anaconda3\\lib\\site-packages\\sklearn\\metrics\\_classification.py\", line 220, in accuracy_score\n",
      "    y_type, y_true, y_pred = _check_targets(y_true, y_pred)\n",
      "  File \"C:\\Users\\Steph\\anaconda3\\lib\\site-packages\\sklearn\\metrics\\_classification.py\", line 84, in _check_targets\n",
      "    check_consistent_length(y_true, y_pred)\n",
      "  File \"C:\\Users\\Steph\\anaconda3\\lib\\site-packages\\sklearn\\utils\\validation.py\", line 409, in check_consistent_length\n",
      "    raise ValueError(\n",
      "ValueError: Found input variables with inconsistent numbers of samples: [20000, 200000]\n",
      "\n",
      "  warnings.warn(\n"
     ]
    },
    {
     "name": "stdout",
     "output_type": "stream",
     "text": [
      "INFO:tensorflow:Assets written to: C:\\Users\\Steph\\AppData\\Local\\Temp\\tmp2zpiv6jy\\assets\n",
      "Restoring model weights from the end of the best epoch: 69.\n",
      "Epoch 74: early stopping\n",
      "80/80 [==============================] - 0s 1ms/step\n"
     ]
    },
    {
     "name": "stderr",
     "output_type": "stream",
     "text": [
      "C:\\Users\\Steph\\anaconda3\\lib\\site-packages\\sklearn\\model_selection\\_validation.py:824: UserWarning: Scoring failed. The score on this train-test partition for these parameters will be set to nan. Details: \n",
      "Traceback (most recent call last):\n",
      "  File \"C:\\Users\\Steph\\anaconda3\\lib\\site-packages\\sklearn\\model_selection\\_validation.py\", line 813, in _score\n",
      "    scores = scorer(estimator, X_test, y_test)\n",
      "  File \"C:\\Users\\Steph\\anaconda3\\lib\\site-packages\\sklearn\\metrics\\_scorer.py\", line 266, in __call__\n",
      "    return self._score(partial(_cached_call, None), estimator, X, y_true, **_kwargs)\n",
      "  File \"C:\\Users\\Steph\\anaconda3\\lib\\site-packages\\sklearn\\metrics\\_scorer.py\", line 355, in _score\n",
      "    return self._sign * self._score_func(y_true, y_pred, **scoring_kwargs)\n",
      "  File \"C:\\Users\\Steph\\anaconda3\\lib\\site-packages\\sklearn\\utils\\_param_validation.py\", line 211, in wrapper\n",
      "    return func(*args, **kwargs)\n",
      "  File \"C:\\Users\\Steph\\anaconda3\\lib\\site-packages\\sklearn\\metrics\\_classification.py\", line 220, in accuracy_score\n",
      "    y_type, y_true, y_pred = _check_targets(y_true, y_pred)\n",
      "  File \"C:\\Users\\Steph\\anaconda3\\lib\\site-packages\\sklearn\\metrics\\_classification.py\", line 84, in _check_targets\n",
      "    check_consistent_length(y_true, y_pred)\n",
      "  File \"C:\\Users\\Steph\\anaconda3\\lib\\site-packages\\sklearn\\utils\\validation.py\", line 409, in check_consistent_length\n",
      "    raise ValueError(\n",
      "ValueError: Found input variables with inconsistent numbers of samples: [20000, 200000]\n",
      "\n",
      "  warnings.warn(\n"
     ]
    },
    {
     "name": "stdout",
     "output_type": "stream",
     "text": [
      "INFO:tensorflow:Assets written to: C:\\Users\\Steph\\AppData\\Local\\Temp\\tmpo8eui476\\assets\n",
      "Restoring model weights from the end of the best epoch: 55.\n",
      "Epoch 60: early stopping\n",
      "80/80 [==============================] - 0s 1ms/step\n"
     ]
    },
    {
     "name": "stderr",
     "output_type": "stream",
     "text": [
      "C:\\Users\\Steph\\anaconda3\\lib\\site-packages\\sklearn\\model_selection\\_validation.py:824: UserWarning: Scoring failed. The score on this train-test partition for these parameters will be set to nan. Details: \n",
      "Traceback (most recent call last):\n",
      "  File \"C:\\Users\\Steph\\anaconda3\\lib\\site-packages\\sklearn\\model_selection\\_validation.py\", line 813, in _score\n",
      "    scores = scorer(estimator, X_test, y_test)\n",
      "  File \"C:\\Users\\Steph\\anaconda3\\lib\\site-packages\\sklearn\\metrics\\_scorer.py\", line 266, in __call__\n",
      "    return self._score(partial(_cached_call, None), estimator, X, y_true, **_kwargs)\n",
      "  File \"C:\\Users\\Steph\\anaconda3\\lib\\site-packages\\sklearn\\metrics\\_scorer.py\", line 355, in _score\n",
      "    return self._sign * self._score_func(y_true, y_pred, **scoring_kwargs)\n",
      "  File \"C:\\Users\\Steph\\anaconda3\\lib\\site-packages\\sklearn\\utils\\_param_validation.py\", line 211, in wrapper\n",
      "    return func(*args, **kwargs)\n",
      "  File \"C:\\Users\\Steph\\anaconda3\\lib\\site-packages\\sklearn\\metrics\\_classification.py\", line 220, in accuracy_score\n",
      "    y_type, y_true, y_pred = _check_targets(y_true, y_pred)\n",
      "  File \"C:\\Users\\Steph\\anaconda3\\lib\\site-packages\\sklearn\\metrics\\_classification.py\", line 84, in _check_targets\n",
      "    check_consistent_length(y_true, y_pred)\n",
      "  File \"C:\\Users\\Steph\\anaconda3\\lib\\site-packages\\sklearn\\utils\\validation.py\", line 409, in check_consistent_length\n",
      "    raise ValueError(\n",
      "ValueError: Found input variables with inconsistent numbers of samples: [20000, 200000]\n",
      "\n",
      "  warnings.warn(\n",
      "C:\\Users\\Steph\\anaconda3\\lib\\site-packages\\sklearn\\model_selection\\_search.py:976: UserWarning: One or more of the test scores are non-finite: [nan nan nan nan nan nan nan nan nan nan nan nan nan nan nan nan nan nan\n",
      " nan nan nan nan nan nan]\n",
      "  warnings.warn(\n"
     ]
    },
    {
     "name": "stdout",
     "output_type": "stream",
     "text": [
      "INFO:tensorflow:Assets written to: C:\\Users\\Steph\\AppData\\Local\\Temp\\tmprhty4x4k\\assets\n",
      "INFO:tensorflow:Assets written to: C:\\Users\\Steph\\AppData\\Local\\Temp\\tmpmf0h6vez\\assets\n",
      "Restoring model weights from the end of the best epoch: 22.\n",
      "Epoch 27: early stopping\n",
      "Optimium parameters found.\n",
      "{'hidden_activation': 'relu', 'learning_rate': 0.002, 'lr_sched': True, 'n_hidden': 6, 'n_neurons': 670, 'optimizer': 'adam'}\n"
     ]
    }
   ],
   "source": [
    "''' !!!! This cell takes a VERY long time to complete !!!!'''\n",
    "from sklearn.model_selection import GridSearchCV\n",
    "\n",
    "# For this wrapper you need to initialize the parameters you're testing\n",
    "keras_reg = KerasRegressor(\n",
    "    build_model,\n",
    "    n_hidden=5,\n",
    "    n_neurons=680,\n",
    "    learning_rate=2e-3,\n",
    "    hidden_activation='relu',\n",
    "    optimizer='adam',\n",
    "    lr_sched=False,\n",
    "    input_shape=X_train.shape[1:],\n",
    "    batch_size=252,\n",
    "    callbacks=[early_stopping_cb]\n",
    ")\n",
    "\n",
    "# Organize the hyperparameter optimzation architecture\n",
    "param_distribs = {\n",
    "    'n_hidden': [6],\n",
    "    'n_neurons': [660, 675, 5],\n",
    "    'learning_rate': [3e-3, 2e-3, 1e-3],\n",
    "    'lr_sched': [True],\n",
    "    'hidden_activation': ['relu'],\n",
    "    'optimizer': ['adam']\n",
    "}\n",
    "\n",
    "rnd_search_cv = GridSearchCV(keras_reg, param_distribs, cv=3, scoring='accuracy', verbose=1)\n",
    "rnd_search_cv.fit(\n",
    "    X_train,\n",
    "    y_train,\n",
    "    epochs=200,\n",
    "    validation_split=0.10,\n",
    "    verbose=0\n",
    ")\n",
    "\n",
    "print('Optimium parameters found.')\n",
    "print(rnd_search_cv.best_params_)"
   ]
  },
  {
   "cell_type": "code",
   "execution_count": 188,
   "id": "2bf4804b-06b3-4cec-9cec-571ceb0d1acf",
   "metadata": {
    "tags": []
   },
   "outputs": [
    {
     "name": "stdout",
     "output_type": "stream",
     "text": [
      "Epoch 1/10000\n",
      "1688/1688 [==============================] - 26s 15ms/step - loss: 0.6427 - accuracy: 0.9008 - val_loss: 0.1788 - val_accuracy: 0.9543\n",
      "Epoch 2/10000\n",
      "1688/1688 [==============================] - 26s 15ms/step - loss: 0.1928 - accuracy: 0.9535 - val_loss: 0.1862 - val_accuracy: 0.9567\n",
      "Epoch 3/10000\n",
      "1688/1688 [==============================] - 27s 16ms/step - loss: 0.1501 - accuracy: 0.9639 - val_loss: 0.1615 - val_accuracy: 0.9595\n",
      "Epoch 4/10000\n",
      "1688/1688 [==============================] - 26s 15ms/step - loss: 0.1260 - accuracy: 0.9706 - val_loss: 0.1613 - val_accuracy: 0.9655\n",
      "Epoch 5/10000\n",
      "1688/1688 [==============================] - 26s 15ms/step - loss: 0.0906 - accuracy: 0.9782 - val_loss: 0.1559 - val_accuracy: 0.9702\n",
      "Epoch 6/10000\n",
      "1688/1688 [==============================] - 25s 15ms/step - loss: 0.0754 - accuracy: 0.9816 - val_loss: 0.1118 - val_accuracy: 0.9750\n",
      "Epoch 7/10000\n",
      "1688/1688 [==============================] - 25s 15ms/step - loss: 0.0526 - accuracy: 0.9868 - val_loss: 0.0965 - val_accuracy: 0.9793\n",
      "Epoch 8/10000\n",
      "1688/1688 [==============================] - 26s 15ms/step - loss: 0.0376 - accuracy: 0.9903 - val_loss: 0.0946 - val_accuracy: 0.9788\n",
      "Epoch 9/10000\n",
      "1688/1688 [==============================] - 27s 16ms/step - loss: 0.0282 - accuracy: 0.9925 - val_loss: 0.1134 - val_accuracy: 0.9805\n",
      "Epoch 10/10000\n",
      "1688/1688 [==============================] - 26s 16ms/step - loss: 0.0198 - accuracy: 0.9947 - val_loss: 0.0989 - val_accuracy: 0.9817\n",
      "Epoch 11/10000\n",
      "1688/1688 [==============================] - 26s 15ms/step - loss: 0.0146 - accuracy: 0.9961 - val_loss: 0.1148 - val_accuracy: 0.9812\n",
      "Epoch 12/10000\n",
      "1688/1688 [==============================] - 26s 15ms/step - loss: 0.0101 - accuracy: 0.9970 - val_loss: 0.1275 - val_accuracy: 0.9845\n",
      "Epoch 13/10000\n",
      "1688/1688 [==============================] - 26s 15ms/step - loss: 0.0066 - accuracy: 0.9983 - val_loss: 0.1473 - val_accuracy: 0.9830\n",
      "Epoch 14/10000\n",
      "1688/1688 [==============================] - 27s 16ms/step - loss: 0.0044 - accuracy: 0.9990 - val_loss: 0.1960 - val_accuracy: 0.9818\n",
      "Epoch 15/10000\n",
      "1688/1688 [==============================] - 26s 15ms/step - loss: 0.0028 - accuracy: 0.9992 - val_loss: 0.2046 - val_accuracy: 0.9827\n",
      "Epoch 16/10000\n",
      "1688/1688 [==============================] - 26s 15ms/step - loss: 0.0023 - accuracy: 0.9995 - val_loss: 0.2427 - val_accuracy: 0.9827\n",
      "Epoch 17/10000\n",
      "1686/1688 [============================>.] - ETA: 0s - loss: 7.5148e-04 - accuracy: 0.9997Restoring model weights from the end of the best epoch: 12.\n",
      "1688/1688 [==============================] - 26s 15ms/step - loss: 7.5402e-04 - accuracy: 0.9997 - val_loss: 0.2898 - val_accuracy: 0.9822\n",
      "Epoch 17: early stopping\n"
     ]
    }
   ],
   "source": [
    "# Fit a model using the best model\n",
    "opt_keras_reg = KerasRegressor(\n",
    "    build_model(**rnd_search_cv.best_params_),\n",
    "    batch_size=32,\n",
    "    callbacks=[early_stopping_cb, checkpoint_cb]\n",
    ")\n",
    "optimized_history = opt_keras_reg.fit(\n",
    "    X_train,\n",
    "    y_train,\n",
    "    epochs=10000,\n",
    "    validation_split=0.10,\n",
    "    verbose=2\n",
    ")"
   ]
  },
  {
   "cell_type": "code",
   "execution_count": 218,
   "id": "34c0a55b-9627-4e12-acfb-7143f9fb1dd6",
   "metadata": {
    "tags": []
   },
   "outputs": [
    {
     "name": "stdout",
     "output_type": "stream",
     "text": [
      "313/313 [==============================] - 2s 5ms/step - loss: 0.1741 - accuracy: 0.9820\n"
     ]
    },
    {
     "data": {
      "text/plain": [
       "[0.17407481372356415, 0.9819999933242798]"
      ]
     },
     "execution_count": 218,
     "metadata": {},
     "output_type": "execute_result"
    }
   ],
   "source": [
    "optimized_history.model.evaluate(X_test, y_test)"
   ]
  },
  {
   "cell_type": "code",
   "execution_count": null,
   "id": "82a010d1-fd7a-4171-909b-b6757ac17cf8",
   "metadata": {},
   "outputs": [],
   "source": []
  }
 ],
 "metadata": {
  "kernelspec": {
   "display_name": "Python 3 (ipykernel)",
   "language": "python",
   "name": "python3"
  },
  "language_info": {
   "codemirror_mode": {
    "name": "ipython",
    "version": 3
   },
   "file_extension": ".py",
   "mimetype": "text/x-python",
   "name": "python",
   "nbconvert_exporter": "python",
   "pygments_lexer": "ipython3",
   "version": "3.8.18"
  }
 },
 "nbformat": 4,
 "nbformat_minor": 5
}
