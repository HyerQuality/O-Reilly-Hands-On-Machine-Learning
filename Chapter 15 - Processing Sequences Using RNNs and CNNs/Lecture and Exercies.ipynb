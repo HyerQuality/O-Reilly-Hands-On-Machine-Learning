{
 "cells": [
  {
   "cell_type": "markdown",
   "id": "440df75f-8c7a-4bda-93f5-e8a4ea5d41fa",
   "metadata": {},
   "source": [
    "# Processing Sequences Using RNNs and CNNs"
   ]
  },
  {
   "cell_type": "markdown",
   "id": "373347b7-9e6e-48aa-bf2b-89dfa5c17a6c",
   "metadata": {},
   "source": [
    "In this chapter we will discuss recurrent neural networks (RNNs), a class of nets that can predict the future (well, up to a point, of course). They can analyze time series data such as stock prices and tell you when to buy or sell. In autonomous driving systems, they can anticipate car trajectories and help avoid accidents. More generally, they can work on sequences of arbitrary lengths, rather than on fixed-sized inputs like all the nets we have considered so far. For example, they can take sentences, documents, or audio samples as input, making them extremely useful for natural language processing applications such as automatic translation or speech-to-text.\n",
    "\n",
    "The two main difficulties that RNNs face are:\n",
    "1. Unstable gradients, which can be alleviated using various techniques, including recurrent dropout and recurrent layer normalization\n",
    "2. A (very) limited short-term memory, which can be extended using LSTM or GRU cells\n",
    "\n",
    "RNNs are not the only types of neural networks capable of handling sequential data: for small sequences, such as audio samples or text, convolutional neural networks can actually work quite well too."
   ]
  },
  {
   "cell_type": "markdown",
   "id": "521c006b-7976-4605-ac03-9d49f9a91f64",
   "metadata": {},
   "source": [
    "## Recurrent Neurons and Layers"
   ]
  },
  {
   "cell_type": "markdown",
   "id": "a4fbb57c-2965-4fb6-98a9-2c105db7ca14",
   "metadata": {},
   "source": [
    "Up to now we have focused on feedforward neural networks, where the activations flow only in one direction, from the input layer to the output layer. A recurrent neural network looks very much like a feedforward network, except it also has connections pointing backward. You can easily create a layer of recurrent neurons. At each time step $t$, every neuron receives both the input vector $x_{(t)}$ and the output vector from the previous time step $y_{(t-1)}$. Each recurrent neuron has two sets of weights: one for the inputs $x_{(t)}$ and the other for the outputs of the previous time step $y_{(t-1)}$. \n",
    "\n",
    "Note that many researchers prefer to use the hyperbolic tangent (tanh) activation function in RNNs rather than the ReLU activation function. "
   ]
  },
  {
   "cell_type": "markdown",
   "id": "1188344a-183a-47db-87d4-7dbdca19e383",
   "metadata": {},
   "source": [
    "## Memory Cells"
   ]
  },
  {
   "cell_type": "markdown",
   "id": "917f8cc2-b08b-4c34-873d-5ef2ff65ad3c",
   "metadata": {},
   "source": []
  },
  {
   "cell_type": "markdown",
   "id": "095cc517-95f7-45b1-a820-cdec89eebc7d",
   "metadata": {},
   "source": []
  },
  {
   "cell_type": "markdown",
   "id": "0aa85dca-eb3c-4f3a-9523-d5842b7ebab6",
   "metadata": {},
   "source": []
  },
  {
   "cell_type": "markdown",
   "id": "78c64c80-5568-471b-a18a-6f6bc76769c7",
   "metadata": {},
   "source": []
  },
  {
   "cell_type": "markdown",
   "id": "58b886cc-dd6a-45d2-91b3-6f6f55a967ed",
   "metadata": {},
   "source": []
  },
  {
   "cell_type": "markdown",
   "id": "7763dad6-23a9-423e-b5d3-8aa344e84f88",
   "metadata": {},
   "source": []
  },
  {
   "cell_type": "markdown",
   "id": "2a72c0c5-cfd9-48b0-a41d-2157f6b9a59f",
   "metadata": {},
   "source": []
  },
  {
   "cell_type": "markdown",
   "id": "a32a1674-41a5-4dc8-9512-4ea4dc2a0b82",
   "metadata": {},
   "source": []
  },
  {
   "cell_type": "markdown",
   "id": "cb16abd5-40bd-4443-b54f-a3b55d9d9540",
   "metadata": {},
   "source": []
  },
  {
   "cell_type": "markdown",
   "id": "751b4520-7e54-41be-98ff-d7e0d90ac4af",
   "metadata": {},
   "source": []
  },
  {
   "cell_type": "markdown",
   "id": "7a80bf83-c103-4bdd-84b8-69ee7e9329c1",
   "metadata": {},
   "source": []
  },
  {
   "cell_type": "markdown",
   "id": "2d7b2e36-2afe-4366-be49-44b46e40f69d",
   "metadata": {},
   "source": []
  },
  {
   "cell_type": "markdown",
   "id": "590d483c-8ad1-45ac-b986-7b993cf86d47",
   "metadata": {},
   "source": []
  },
  {
   "cell_type": "markdown",
   "id": "632552e4-90d2-4fda-be7c-abe5b1fbaaaa",
   "metadata": {},
   "source": []
  },
  {
   "cell_type": "markdown",
   "id": "2b935608-69ca-4c99-81a3-7840f8d1c5bf",
   "metadata": {},
   "source": []
  },
  {
   "cell_type": "markdown",
   "id": "2507d4c7-39a6-4fe4-a009-364fe1d85f8a",
   "metadata": {},
   "source": []
  },
  {
   "cell_type": "markdown",
   "id": "048a2c96-a8b7-47cc-85eb-55ac57e18a3d",
   "metadata": {},
   "source": []
  },
  {
   "cell_type": "markdown",
   "id": "79d8bc78-d602-4192-b089-c5a816ff7b78",
   "metadata": {},
   "source": []
  },
  {
   "cell_type": "markdown",
   "id": "65091565-7833-484a-8fd1-2633721592fe",
   "metadata": {},
   "source": []
  },
  {
   "cell_type": "markdown",
   "id": "c76e16fd-4960-4105-9bec-9ffdbab203c0",
   "metadata": {},
   "source": []
  },
  {
   "cell_type": "markdown",
   "id": "d3db117f-e260-47f3-9ba8-1e45d275a25c",
   "metadata": {},
   "source": []
  },
  {
   "cell_type": "markdown",
   "id": "00b6d2ee-7ba2-45cf-afca-aade64d4487c",
   "metadata": {},
   "source": []
  },
  {
   "cell_type": "markdown",
   "id": "fd709a22-535a-467d-94b5-71401b451be7",
   "metadata": {},
   "source": []
  },
  {
   "cell_type": "markdown",
   "id": "d3779e93-bed9-48ab-948a-dabba75b60d6",
   "metadata": {},
   "source": []
  },
  {
   "cell_type": "markdown",
   "id": "c69f48fc-d42c-4f63-aca6-7f49462f6fa7",
   "metadata": {},
   "source": []
  },
  {
   "cell_type": "markdown",
   "id": "d3829c7c-2264-4977-ba79-1c0cc48de970",
   "metadata": {},
   "source": []
  },
  {
   "cell_type": "markdown",
   "id": "3b321dd7-e158-4644-b138-416b6799afdf",
   "metadata": {},
   "source": []
  },
  {
   "cell_type": "markdown",
   "id": "6eb48e3d-3ff0-4a32-aced-05f0c10e5696",
   "metadata": {},
   "source": []
  },
  {
   "cell_type": "markdown",
   "id": "3ecb1b1d-501f-4434-b18d-07ab2a69d2b3",
   "metadata": {},
   "source": []
  },
  {
   "cell_type": "markdown",
   "id": "173e7604-40c0-4c65-9e9a-f0fab8a58596",
   "metadata": {},
   "source": []
  },
  {
   "cell_type": "markdown",
   "id": "be5f4b91-67d8-48e9-9269-a8c5654c8fbe",
   "metadata": {},
   "source": []
  },
  {
   "cell_type": "markdown",
   "id": "78857167-1a69-45a5-af78-15959abd84a3",
   "metadata": {},
   "source": []
  },
  {
   "cell_type": "markdown",
   "id": "fbd1fd7d-b6ed-46f9-bd64-00b3ee8f90a4",
   "metadata": {},
   "source": []
  },
  {
   "cell_type": "markdown",
   "id": "5579b7fc-c9b2-4016-958a-1b9eea57586e",
   "metadata": {},
   "source": []
  },
  {
   "cell_type": "markdown",
   "id": "65494ad1-a9d7-4083-b53c-8041cd8fe8bf",
   "metadata": {},
   "source": []
  },
  {
   "cell_type": "markdown",
   "id": "0491e570-4c03-49ae-8be4-83010072c018",
   "metadata": {},
   "source": []
  },
  {
   "cell_type": "markdown",
   "id": "65a60f1a-7a4f-49a9-b57f-a416b2b46723",
   "metadata": {},
   "source": []
  },
  {
   "cell_type": "markdown",
   "id": "5d18e110-9656-4df2-b84a-0cca2c594b05",
   "metadata": {},
   "source": []
  },
  {
   "cell_type": "markdown",
   "id": "c4a0b3f4-8390-42ed-a530-929a3095538a",
   "metadata": {},
   "source": []
  },
  {
   "cell_type": "markdown",
   "id": "b1200e1c-7545-46da-a069-64183bf22f2c",
   "metadata": {},
   "source": []
  },
  {
   "cell_type": "markdown",
   "id": "6073ddb0-5ea8-427f-ad35-85911dea0761",
   "metadata": {},
   "source": []
  },
  {
   "cell_type": "markdown",
   "id": "d2d2e63f-44f7-409c-82ae-c86bea55ec9e",
   "metadata": {},
   "source": []
  },
  {
   "cell_type": "markdown",
   "id": "79300328-8ffa-4f2e-a7ed-1a24518f701a",
   "metadata": {},
   "source": []
  },
  {
   "cell_type": "markdown",
   "id": "a650090c-94aa-44e7-b82c-d33b8cc201a8",
   "metadata": {},
   "source": []
  },
  {
   "cell_type": "markdown",
   "id": "2a9e892d-9697-4fe9-9021-09571e242ca3",
   "metadata": {},
   "source": []
  },
  {
   "cell_type": "markdown",
   "id": "1d84b46d-5f81-4eab-9b70-008ef8621b96",
   "metadata": {},
   "source": []
  },
  {
   "cell_type": "markdown",
   "id": "6ac4a4bf-b0db-48d3-a523-1e79e59b84d6",
   "metadata": {},
   "source": []
  },
  {
   "cell_type": "markdown",
   "id": "904425fd-640e-4bd6-9dee-6cf669a683c7",
   "metadata": {},
   "source": []
  },
  {
   "cell_type": "markdown",
   "id": "dd192bf1-534e-4464-a27f-1226dec42adf",
   "metadata": {},
   "source": []
  },
  {
   "cell_type": "markdown",
   "id": "d5aa1952-fa72-4101-a59b-b452405c9308",
   "metadata": {},
   "source": []
  },
  {
   "cell_type": "markdown",
   "id": "a7bbb98f-6fa3-4ce4-ab4b-07eed7782cb8",
   "metadata": {},
   "source": []
  },
  {
   "cell_type": "markdown",
   "id": "c40b3b12-5314-4d84-a9bf-5089c3fef866",
   "metadata": {},
   "source": []
  },
  {
   "cell_type": "markdown",
   "id": "e0746c8b-3728-49b9-aca5-8b52d584a5e3",
   "metadata": {},
   "source": []
  },
  {
   "cell_type": "markdown",
   "id": "9b325c1b-f408-4f82-986d-fdd43ea41e59",
   "metadata": {},
   "source": []
  },
  {
   "cell_type": "markdown",
   "id": "87d2bf2e-4d7d-4145-a74e-233255d5553f",
   "metadata": {},
   "source": []
  },
  {
   "cell_type": "markdown",
   "id": "46dd2992-3eb6-409a-9421-9c720fdd0934",
   "metadata": {},
   "source": []
  }
 ],
 "metadata": {
  "kernelspec": {
   "display_name": "Python 3 (ipykernel)",
   "language": "python",
   "name": "python3"
  },
  "language_info": {
   "codemirror_mode": {
    "name": "ipython",
    "version": 3
   },
   "file_extension": ".py",
   "mimetype": "text/x-python",
   "name": "python",
   "nbconvert_exporter": "python",
   "pygments_lexer": "ipython3",
   "version": "3.10.8"
  }
 },
 "nbformat": 4,
 "nbformat_minor": 5
}
