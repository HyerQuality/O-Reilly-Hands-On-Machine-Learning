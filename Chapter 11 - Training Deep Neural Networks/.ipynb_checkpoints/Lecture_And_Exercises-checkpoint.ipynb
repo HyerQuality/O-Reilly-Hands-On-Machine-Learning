{
 "cells": [
  {
   "cell_type": "code",
   "execution_count": 40,
   "id": "06fdeda9-c0d0-457c-9f87-d824de1474bd",
   "metadata": {
    "tags": []
   },
   "outputs": [],
   "source": [
    "import pandas as pd\n",
    "import numpy as np\n",
    "import tensorflow as tf"
   ]
  },
  {
   "cell_type": "markdown",
   "id": "81946393-8dd7-40ae-bd4b-c682fa5ea292",
   "metadata": {},
   "source": [
    "# Training Deep Neural Networks"
   ]
  },
  {
   "cell_type": "markdown",
   "id": "9cdcd58a-ae82-4a8c-99af-d68a5c0fa87f",
   "metadata": {},
   "source": [
    "Training a deep DNN isn't a walk in the park. Here are some of the problems you could run into: <br>\n",
    "1. You many be faced with the trickey *vanishing gradients* problem or the related *exploding gradients* problem. This is when the gradients grow smaller and smaller, or larger and larger, when flowing backward through the DNN during training. Both of these problems make lower layers very hard to train. <br><br>\n",
    "2. You might not have enough training data for such a large network, or it might be too costly to label. <br><br>\n",
    "3. Training may be extremely slow. <br><br>\n",
    "4. A model with millions of parameters would severely risk overfitting the training set, especially if there are not enough training instances or if the yare too noisy."
   ]
  },
  {
   "cell_type": "markdown",
   "id": "cc532cfb-cbf3-49c7-a4b0-e4315efafcab",
   "metadata": {},
   "source": [
    "## The Vanishing/Exploding Gradients Problems"
   ]
  },
  {
   "cell_type": "markdown",
   "id": "52aef62a-9208-4e3c-8f14-e654da4448c3",
   "metadata": {},
   "source": [
    "Unfortunately, during backpropagation, gradients often get smaller and smaller as the algorithm progresses down to the lower layers. As a result, the Gradient Descent update leaves the lower layers' connection weights virtually unchanged, and the training never converges to a good solution. We call this the *vanishing gradients* problem. More generally, deep neural networks suffer from unstable gradients; different layers may learn at widely different speeds.\n",
    "\n",
    "This unfortunate behavior was empirically observed long ago, and it was one of the reasons deep neural networks were mostly abandoned in the early 2000's, but some light was shed in a 2010 paper by Xavier Glorot and Yoshua Bengio. The authors found a few suspects, including the combination of the popular logistic sigmoid activation function and the weight initialization technique that was most popular at the time (ie.e, a normal distribution with a mean of 0 and a standard deviation of 1).\n",
    "\n",
    "In short, they showed that with the activation function and this initialization scheme, the variance of the outputs of each layer is much greater than the variance of its inputs."
   ]
  },
  {
   "cell_type": "markdown",
   "id": "309fd460-a35c-454d-b410-af7e05630788",
   "metadata": {},
   "source": [
    "### Glorot and He Initialization"
   ]
  },
  {
   "cell_type": "markdown",
   "id": "a72b33a0-2858-46e9-adb0-7e68afc3e5df",
   "metadata": {},
   "source": [
    "In their paper, Glorot and Bengio propose that we need the signal to flow properly in both directions: in the forward direction when making predictions, and in the reverse direction when backpropagating gradients. We don't want the signal to die out, nor do we want it to explode and saturate. For the signal to flow properly, the authors argue that we need the variance of the outputs of each layer to be equal to the variance of its inputs, and we need the gradients to have equal variance before and after flowing through a layer in the reverse direction. It is actually not possible to guarantee both, but Glorot and Bengio proposed *Xavier initialization or Glorot initialization*\n",
    "\n",
    "Here's an analogy: if you set a microphone amplifier's knob too close to zero, people won't hear your voice, but if you set it too close to the max, your voice will be saturated and people won't understand what you're saying. Now imagine a chain of such amplifiers: they all need to be set properly in order for your voice to come out loud and clear at the end of the chain. Your voice has to come out of each amplifier at the same amplitude as it came in.\n",
    "\n",
    "Using Glorot initialization can speed up training considerably, and it is one of the tricks that led to the success of Deep Learning. By default, Keras uses Glorot initialization with a uniform distribution. When creating a layer, you can change this to He initialization by setting **kernel_initialzier='he_uniform'** or **kernel_initializer='he_normal'** like below.\n",
    "\n",
    "If you want He initialization with a uniform distribution but ased on $fan_{avg}$ rather than $fan_{in}$ you can use the VarianceScaling initializer as well."
   ]
  },
  {
   "cell_type": "code",
   "execution_count": 35,
   "id": "e0bda9b3-54cc-40b6-9def-09642233c95b",
   "metadata": {
    "tags": []
   },
   "outputs": [
    {
     "data": {
      "text/html": [
       "<div>\n",
       "<style scoped>\n",
       "    .dataframe tbody tr th:only-of-type {\n",
       "        vertical-align: middle;\n",
       "    }\n",
       "\n",
       "    .dataframe tbody tr th {\n",
       "        vertical-align: top;\n",
       "    }\n",
       "\n",
       "    .dataframe thead th {\n",
       "        text-align: right;\n",
       "    }\n",
       "</style>\n",
       "<table border=\"1\" class=\"dataframe\">\n",
       "  <thead>\n",
       "    <tr style=\"text-align: right;\">\n",
       "      <th></th>\n",
       "      <th>Initialization</th>\n",
       "      <th>Activation Functions</th>\n",
       "      <th>$\\sigma^{2}$ (Normal)</th>\n",
       "    </tr>\n",
       "  </thead>\n",
       "  <tbody>\n",
       "    <tr>\n",
       "      <th>0</th>\n",
       "      <td>Glorot</td>\n",
       "      <td>None, tanh, logistic, softmax</td>\n",
       "      <td>$\\frac{1}{fan_{avg}}$</td>\n",
       "    </tr>\n",
       "    <tr>\n",
       "      <th>1</th>\n",
       "      <td>He</td>\n",
       "      <td>ReLU and variants</td>\n",
       "      <td>$\\frac{2}{fan_{in}}$</td>\n",
       "    </tr>\n",
       "    <tr>\n",
       "      <th>2</th>\n",
       "      <td>LeCun</td>\n",
       "      <td>SELU</td>\n",
       "      <td>$\\frac{1}{fan_{in}}$</td>\n",
       "    </tr>\n",
       "  </tbody>\n",
       "</table>\n",
       "</div>"
      ],
      "text/plain": [
       "  Initialization           Activation Functions  $\\sigma^{2}$ (Normal)\n",
       "0         Glorot  None, tanh, logistic, softmax  $\\frac{1}{fan_{avg}}$\n",
       "1             He              ReLU and variants   $\\frac{2}{fan_{in}}$\n",
       "2          LeCun                           SELU   $\\frac{1}{fan_{in}}$"
      ]
     },
     "execution_count": 35,
     "metadata": {},
     "output_type": "execute_result"
    }
   ],
   "source": [
    "init_helper = pd.DataFrame(\n",
    "    columns=['Initialization', 'Activation Functions', '$\\sigma^{2}$ (Normal)'],\n",
    "    data=np.array([\n",
    "        ['Glorot', 'None, tanh, logistic, softmax', r'$\\frac{1}{fan_{avg}}$'],\n",
    "        ['He', 'ReLU and variants', r'$\\frac{2}{fan_{in}}$'],\n",
    "        ['LeCun', 'SELU', r'$\\frac{1}{fan_{in}}$']\n",
    "    ])\n",
    ")\n",
    "\n",
    "init_helper"
   ]
  },
  {
   "cell_type": "code",
   "execution_count": 44,
   "id": "1d7b0271-0ef2-4ba2-a968-82c2bb9ca69d",
   "metadata": {
    "tags": []
   },
   "outputs": [],
   "source": [
    "# He Normal\n",
    "he_norm = tf.keras.layers.Dense(10, activation='relu', kernel_initializer='he_normal')\n",
    "\n",
    "# He using fan avg\n",
    "avg_init = tf.keras.initializers.VarianceScaling(\n",
    "    scale=2,\n",
    "    mode='fan_avg',\n",
    "    distribution='uniform'\n",
    ")\n",
    "he_avg_init = tf.keras.layers.Dense(10, activation='relu', kernel_initializer=avg_init)"
   ]
  },
  {
   "cell_type": "markdown",
   "id": "eb1bb8ac-2e7e-4a5b-a1ec-7e9e2fdec6db",
   "metadata": {},
   "source": [
    "### Nonsaturating Activation Functions"
   ]
  },
  {
   "cell_type": "markdown",
   "id": "a4acd510-1086-490c-8000-1c849444391c",
   "metadata": {},
   "source": [
    "One of the insights in the 2010 paper by Glorot and Bengio was that the problems with unstable gradients were in part due to a poor choice of activation functions. It turns out that other activations behave much better in deep neural networks-- in particular, the ReLU activation function. \n",
    "\n",
    "Unfortunately, the ReLU activiation function is not perfect. It suffers from a problem known as the *dying ReLUs*: during training, some neurons effectively \"die\", meaning they stop outputting anything other than 0. To solve this problem, you may want to use a variant of the ReLU function such as the *leaky ReLU*. The hyperparameter $\\alpha$ defines how much the function \"leaks\": it is the slope of the function for z < 0 and is typically set to 0.01.\n",
    "\n",
    "A 2015 paper compared several variants of the ReLU activiation function, and one of its conclusions was that the leaky variants always outperformed the strict ReLU activation function. In fact, setting $\\alpha$ = 0.2 (a huge leak) seemed to result in better performance than $\\alpha$ = 0.01 (a small leak).\n",
    "\n",
    "*Randomized leaky ReLU (RReLU)*, where $\\alpha$ is selected at random, performed fairly well and seemed to act as a regularizer. Finally, the paper evaluated the *parametric leaky ReLU (PReLU)*, where $\\alpha$ is authorized to be learned during training (instead of being a hyperparameter, it becomes a parameter that can be modified by backpropagation like any other parameter). **PReLU was reported to strongly outperform ReLU on large image datasets, but on smaller datasets it runs the risk of overfitting the training set.**\n",
    "\n",
    "Last but not least, **a 2015 paper proposed a new activation function called the *exponential linear unit (ELU)* that outperformed all the ReLU variants** in the authors' experiments: training time was reduced and the neural network performed better on the test set.\n",
    "\n",
    "The ELU activation function looks a lot like the ReLU function, with a few major differences: <br>\n",
    "1. It takes on negative values when z < 0, which allows the unit to have an average output closer to 0 and helps alleviate the vanishing gradients problem. The hyperparameter $\\alpha$ defines the value that the ELU function approaches when z is a large negative number. It is usually set to 1, but you can tweak it like any other hyperparameter. <br><br>\n",
    "2. It has a nonzero gradient for z < 0, which avoids the dead neurons problem. <br><br>\n",
    "3. If $\\alpha$ is equal to 1 then the function is smooth everywhere, including around z = 0, which helps speed up Gradient Descent since it does not bounce as much to the left and right of z = 0\n",
    "\n",
    "**The main drawback of the ELU activiation function is that it is slower to compute than the ReLU function and its variants** (due to the use of the exponential function). Its faster convergence rate during training compensates for that slow computation, but still, at test time an ELU network will be slower than a ReLU network.\n",
    "\n",
    "Then, a 2017 paper introduced the *Scaled ELU (SELU)* activation function: as its named suggests, it is a scaled variant of the ELU activation function. The authors showed that if you build a neural network composed exclusively of a stack of dense layers, and if all hidden layers use the SELU activation function, then the network will *self-normalize*: the output of each layer will tend to preserve a mean of 0 and a standard deviation of 1 during training, which solves the vanishing/exploding gradients problem. There are, however, a few conditions for self-normalization to happen: <br>\n",
    "1. The input features must be standardized (mean 0 and standard deviations 1) <br><br>\n",
    "2. Every hidden layer's weights must be initialized with LeCun normal initialization. In Keras, this means setting kernel_initializer='lecun_normal'<br><br>\n",
    "3. The network's architecture must be sequential. **Unfortunately, if you try to use SELU in nonsequential architectures, such as recurrent networks or networks with skip connections (i.e. connections that skip layers, such as in Wide & Deep nets), self-normalization will not be guaranteed, so SELU will not necessarily outperform other activation functions.**<br><br>\n",
    "4. The paper only guarantees self-normalization if all layers are dense, but some researchers have noted that the SELU activation function can improve performance in convolutional neural nets as well.\n",
    "\n",
    "***So, which activation should you use for the hidden layers of your deep neural networks?*** Although your mileage will vary, in general **SELU > ELU > leaky ReLU (and its variants) > ReLU > tanh > logistic**. \n",
    "\n",
    "If the network's architecture prevents its from self-normalizing, then ELU may perform better than SELU (since SELU is not smooth at z = 0). If you care a lot about runtime latency, then you may prefer leaky ReLU. If you don't want to tweak yet another hyperparameter, you may use the default $\\alpha$ values used by Keras (e.g., 0.3 for leaky ReLU). If you ahve spare time and computing power, you can use cross-validation to evaluate other activation functions, such as RReLU if your network is overfitting or PReLU if you have a huge training set. **That said, because ReLU is the most used activation function (by far), may libraries and hardware accelerators provide ReLU-specific optimizations; therefore, if speed is your priority, ReLU might still be the best choice.**"
   ]
  },
  {
   "cell_type": "code",
   "execution_count": 55,
   "id": "2c481da7-acc1-47d6-a9af-6e05c0b89d8e",
   "metadata": {
    "tags": []
   },
   "outputs": [],
   "source": [
    "# Example of a model using LeakyReLU\n",
    "model = tf.keras.Sequential([\n",
    "    tf.keras.layers.Dense(10, kernel_initializer='he_normal'),\n",
    "    tf.keras.layers.LeakyReLU(alpha=0.2),\n",
    "    tf.keras.layers.Dense(1)\n",
    "])\n",
    "\n",
    "# Example of a model using PReLU\n",
    "model = tf.keras.Sequential([\n",
    "    tf.keras.layers.Dense(10, kernel_initializer='he_normal'),\n",
    "    tf.keras.layers.PReLU(),\n",
    "    tf.keras.layers.Dense(1)\n",
    "])\n",
    "\n",
    "# Examlpe of a model using SELU\n",
    "model = tf.keras.Sequential([\n",
    "    tf.keras.layers.Dense(10, kernel_initializer='lecun_normal', activation='selu'),\n",
    "    tf.keras.layers.Dense(1)\n",
    "])"
   ]
  },
  {
   "cell_type": "markdown",
   "id": "6e22182b-462f-4e98-b733-0a6e68177a98",
   "metadata": {},
   "source": [
    "### Batch Normalization"
   ]
  },
  {
   "cell_type": "markdown",
   "id": "eb871a59-eb2a-4856-ae1c-86b27f10af6d",
   "metadata": {},
   "source": []
  },
  {
   "cell_type": "markdown",
   "id": "0c67f034-e592-4cc4-8bf6-6fd6d8965c44",
   "metadata": {},
   "source": []
  },
  {
   "cell_type": "markdown",
   "id": "37cfa7ad-09f4-4551-b144-71d8d0caf496",
   "metadata": {},
   "source": []
  },
  {
   "cell_type": "code",
   "execution_count": null,
   "id": "e9e7ae17-a8fd-4d4c-a63f-c2602c9a430a",
   "metadata": {},
   "outputs": [],
   "source": []
  },
  {
   "cell_type": "code",
   "execution_count": null,
   "id": "c03c6df4-cb29-4688-9f85-231205d381d0",
   "metadata": {},
   "outputs": [],
   "source": []
  },
  {
   "cell_type": "code",
   "execution_count": null,
   "id": "eccbf7b0-14d1-421a-bf5a-9da907f82262",
   "metadata": {},
   "outputs": [],
   "source": []
  },
  {
   "cell_type": "code",
   "execution_count": null,
   "id": "f0f1ab36-9231-479a-a530-7648667afba7",
   "metadata": {},
   "outputs": [],
   "source": []
  },
  {
   "cell_type": "code",
   "execution_count": null,
   "id": "989ea966-9976-4b4f-afab-c4226b1c7454",
   "metadata": {},
   "outputs": [],
   "source": []
  },
  {
   "cell_type": "code",
   "execution_count": null,
   "id": "056faca8-1bd6-4803-8099-abfa5a199ce7",
   "metadata": {},
   "outputs": [],
   "source": []
  },
  {
   "cell_type": "code",
   "execution_count": null,
   "id": "c4e97a89-1918-45c7-aeca-516d3c1a698a",
   "metadata": {},
   "outputs": [],
   "source": []
  },
  {
   "cell_type": "code",
   "execution_count": null,
   "id": "05959455-3f36-4407-8e4d-ac4188383dac",
   "metadata": {},
   "outputs": [],
   "source": []
  },
  {
   "cell_type": "code",
   "execution_count": null,
   "id": "cfd7b536-2371-4888-844c-1220671448c6",
   "metadata": {},
   "outputs": [],
   "source": []
  },
  {
   "cell_type": "code",
   "execution_count": null,
   "id": "6553b8c6-3b4c-4fd6-918c-d8ab2a5d6711",
   "metadata": {},
   "outputs": [],
   "source": []
  },
  {
   "cell_type": "code",
   "execution_count": null,
   "id": "f6c201c4-0500-497c-b8bb-6b85f1708672",
   "metadata": {},
   "outputs": [],
   "source": []
  },
  {
   "cell_type": "code",
   "execution_count": null,
   "id": "f447fde2-07ed-4377-9027-b095c640b748",
   "metadata": {},
   "outputs": [],
   "source": []
  },
  {
   "cell_type": "code",
   "execution_count": null,
   "id": "63693061-0741-4731-915e-8114e3035b25",
   "metadata": {},
   "outputs": [],
   "source": []
  },
  {
   "cell_type": "code",
   "execution_count": null,
   "id": "871da404-05af-440f-908c-a9a57c3c5b46",
   "metadata": {},
   "outputs": [],
   "source": []
  },
  {
   "cell_type": "code",
   "execution_count": null,
   "id": "d7572416-f7c0-4aad-b3df-3a0bac2a74b0",
   "metadata": {},
   "outputs": [],
   "source": []
  },
  {
   "cell_type": "code",
   "execution_count": null,
   "id": "c2513ea9-2ddc-47e4-b65b-6ea51c1c5287",
   "metadata": {},
   "outputs": [],
   "source": []
  }
 ],
 "metadata": {
  "kernelspec": {
   "display_name": "Python 3 (ipykernel)",
   "language": "python",
   "name": "python3"
  },
  "language_info": {
   "codemirror_mode": {
    "name": "ipython",
    "version": 3
   },
   "file_extension": ".py",
   "mimetype": "text/x-python",
   "name": "python",
   "nbconvert_exporter": "python",
   "pygments_lexer": "ipython3",
   "version": "3.8.18"
  }
 },
 "nbformat": 4,
 "nbformat_minor": 5
}
