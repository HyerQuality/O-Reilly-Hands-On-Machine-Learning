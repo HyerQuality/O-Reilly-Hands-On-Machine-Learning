{
 "cells": [
  {
   "cell_type": "markdown",
   "id": "cbb50468-b0ac-4f7e-9fad-72f0af5fda20",
   "metadata": {},
   "source": [
    "<b> Chapter 4 is a technical chapter which will go over the mathematics behind some of the machine learning models that have been used so far.  I will be focusing on the linear algebra definitions and applications as they more succinctly embody the theories and calculations </b>"
   ]
  },
  {
   "cell_type": "markdown",
   "id": "e21427fd-a99e-40fa-b2ba-64cf906ee565",
   "metadata": {},
   "source": [
    "# Linear Regression"
   ]
  },
  {
   "cell_type": "markdown",
   "id": "6ab7d0da-7a23-4517-9be1-fd0f0c60f613",
   "metadata": {},
   "source": [
    "<b> Simply put linear regression is a weighted average of features and a scalar bias.  The weights are bias are chosen based off the minimization of a cost function.  The most common cost function for linear regressions is Mean Squared Error (MSE) which is rooted (RMSE) when comparing across multiple models.  The reason MSE is used is because the derivative is much simpler to compute and requires significantly less computational power than the rooted version.  Since rooting the function simply scales it, selecting MSE to minimize has the same end result as selected RMSE to minimize.  This is true in general for any cost or reward function and it is encouraged to use the form of the cost function which minimizes computational effort. </b>"
   ]
  },
  {
   "cell_type": "markdown",
   "id": "046ac62a-356f-4853-b450-9ad60e81d47d",
   "metadata": {},
   "source": [
    "## The Normal Equation\n",
    "\n",
    "#### ${\\hat{\\theta}}$ = $(\\mathbf{X^T}\\mathbf{X})^{-1} \\mathbf{X^T} \\mathbf{y}$\n",
    "\n",
    "In this equation:\n",
    "\n",
    "${\\hat{\\theta}}$ is the value of $\\theta$ that minimizes the cost function\n",
    "<br>\n",
    "$\\mathbf{y}$ is the vector of target values\n",
    "<br>\n",
    "$\\mathbf{X}$ is a matrix of features with a bias column"
   ]
  },
  {
   "cell_type": "code",
   "execution_count": 1,
   "id": "d82d41c3-93a2-48f0-a45c-8ab7fedca06f",
   "metadata": {},
   "outputs": [
    {
     "data": {
      "text/plain": [
       "array([[4.11885904],\n",
       "       [2.89835696]])"
      ]
     },
     "execution_count": 1,
     "metadata": {},
     "output_type": "execute_result"
    }
   ],
   "source": [
    "' Generate some data to validate the above expression'\n",
    "import numpy as np\n",
    "\n",
    "X = 2 * np.random.rand(100, 1)\n",
    "y = 4 + 3 * X + np.random.randn(100, 1) # mx + b : 3x + 4 + noise\n",
    "\n",
    "' Introduce the constant bias'\n",
    "X_b = np.c_[np.ones((100, 1)), X] # m x n matrix with column of 1's and column of X values\n",
    "\n",
    "' Apply the normal equation'\n",
    "theta_best = np.linalg.inv(X_b.T.dot(X_b)).dot(X_b.T).dot(y)\n",
    "theta_best"
   ]
  },
  {
   "cell_type": "markdown",
   "id": "f83b5e8a-2fa3-4ac2-a43a-90d5437aba31",
   "metadata": {},
   "source": [
    "<b> The bias chosen was 4 and the weight was 3.  The gaussian noise introduced makes it impossible to get these exact values but the derived values are almost perfect.</b>"
   ]
  },
  {
   "cell_type": "code",
   "execution_count": 2,
   "id": "0e937627-9114-44dc-bc48-36dce03a5618",
   "metadata": {},
   "outputs": [
    {
     "data": {
      "text/plain": [
       "array([[4.11885904],\n",
       "       [9.91557295]])"
      ]
     },
     "execution_count": 2,
     "metadata": {},
     "output_type": "execute_result"
    }
   ],
   "source": [
    "' Make some predictions'\n",
    "X_new = np.array([[0], [2]])\n",
    "X_new_b = np.c_[np.ones((2, 1)), X_new]\n",
    "\n",
    "y_predict = X_new_b.dot(theta_best)\n",
    "y_predict"
   ]
  },
  {
   "cell_type": "code",
   "execution_count": 3,
   "id": "2064678e-404e-46a9-801e-2fa2f0d5c217",
   "metadata": {},
   "outputs": [
    {
     "data": {
      "text/plain": [
       "[<matplotlib.lines.Line2D at 0x25d36439bb0>]"
      ]
     },
     "execution_count": 3,
     "metadata": {},
     "output_type": "execute_result"
    },
    {
     "data": {
      "image/png": "[encoded data removed]",
      "text/plain": [
       "<Figure size 432x288 with 1 Axes>"
      ]
     },
     "metadata": {
      "needs_background": "light"
     },
     "output_type": "display_data"
    }
   ],
   "source": [
    "' Plot the raw data and the best fit predictions'\n",
    "import matplotlib.pyplot as plt\n",
    "\n",
    "plt.scatter(X, y)\n",
    "plt.plot(X, X_b.dot(theta_best), color='orange')"
   ]
  },
  {
   "cell_type": "code",
   "execution_count": 4,
   "id": "f4ccf1d9-8629-46c2-bfc0-f8c58a01a278",
   "metadata": {},
   "outputs": [
    {
     "name": "stdout",
     "output_type": "stream",
     "text": [
      "Bias:  [4.11885904] Coefficient:  [[2.89835696]]\n"
     ]
    },
    {
     "data": {
      "text/plain": [
       "array([[4.11885904],\n",
       "       [9.91557295]])"
      ]
     },
     "execution_count": 4,
     "metadata": {},
     "output_type": "execute_result"
    }
   ],
   "source": [
    "' Performing linear regression with sklearn is very simple'\n",
    "from sklearn.linear_model import LinearRegression\n",
    "\n",
    "lin_reg = LinearRegression()\n",
    "lin_reg.fit(X, y)\n",
    "\n",
    "print('Bias: ', lin_reg.intercept_, 'Coefficient: ', lin_reg.coef_)\n",
    "\n",
    "lin_reg.predict(X_new)"
   ]
  },
  {
   "cell_type": "markdown",
   "id": "83c25a93-aaa3-431c-9225-86f88a855c8e",
   "metadata": {},
   "source": [
    "<b> A caveat for inverted matrices is that they require a non-zero determinant.  This isn't always the case.  A work-around is the Moore-Penrose Inverse aka the pseudoinverse.  This utilizes Singular Value Decomposition to generate an equivalent matrix which is always invertible.  This method is also more computationally efficient. Sklearn ueses this method natively </b>"
   ]
  },
  {
   "cell_type": "markdown",
   "id": "36e7cfda-4dbb-4ef9-950f-5a0cf8a26f10",
   "metadata": {},
   "source": [
    "## Gradient Descent"
   ]
  },
  {
   "cell_type": "markdown",
   "id": "0cb4bddd-c559-4994-b25c-34e4a5442fda",
   "metadata": {},
   "source": [
    "<b> Gradient Descent outperforms sklearn and the Normal Equation when the dataset is extremely large (100,000+ features).  </b>"
   ]
  },
  {
   "cell_type": "markdown",
   "id": "aab888f9-f3d6-4d59-b2fb-3be5f936d97f",
   "metadata": {},
   "source": [
    "<b> General notes about gradient descent </b>\n",
    "* Tweaks parameters iteratively in order to minimize a cost function\n",
    "* Not all cost functions are convex.  As such, one hurdle for gradient descent is overcoming local minima and plateaus\n",
    "* The learning rate is the primary parameter for correctly finding the absolute minima.  Too high and the optimizer will diverge and never find a minima. Too low and it will stop too soon at a local minima\n",
    "* Because a convex function has exactly 1 minima they are ideal. If possible, transform the cost function such that its transformation is convex.\n",
    "* Scaling all features has an enormous impact on how long it takes for the optimizer to find the mininma. \n",
    "* Gradient descent utilizes the properties of partial derivatives.  As such, a less complex derivative is arguably more important than a convex, continuous function.  Both is ideal."
   ]
  },
  {
   "cell_type": "markdown",
   "id": "92247245-a5f5-4f49-875b-5b38ccfb5a9f",
   "metadata": {},
   "source": [
    "## Gradient Vector of the Cost Function"
   ]
  },
  {
   "cell_type": "markdown",
   "id": "d8e1e88d-22af-425a-a0ac-fb0cce053898",
   "metadata": {},
   "source": [
    "#### $\\nabla_{\\boldsymbol\\theta}MSE(\\boldsymbol\\theta) = \\frac{2}{m}\\mathbf{X}^{T}(\\mathbf{X}\\boldsymbol\\theta - \\mathbf{y})$\n",
    "\n",
    "<br>\n",
    "\n",
    "<b> Notice that this formula computes over the full training set X at each step.  The batch size here is 1 and as a result the training time on large datasets will be greatly impacted.  There are other ways to do this involving larger batch sizes which will be discussed later<b>"
   ]
  },
  {
   "cell_type": "markdown",
   "id": "8bea2681-4f81-475d-9831-59f1d06babe9",
   "metadata": {},
   "source": [
    "## Gradient Descent Step"
   ]
  },
  {
   "cell_type": "markdown",
   "id": "9519d015-40e4-47e5-a810-65afd9b4c19b",
   "metadata": {},
   "source": [
    "#### $\\boldsymbol\\theta^{(next step)} = \\boldsymbol\\theta - \\eta\\nabla_{\\boldsymbol\\theta}MSE(\\boldsymbol\\theta)$"
   ]
  },
  {
   "cell_type": "code",
   "execution_count": 5,
   "id": "2a39c430-fa06-4cc3-8f06-0573df641bae",
   "metadata": {},
   "outputs": [
    {
     "name": "stdout",
     "output_type": "stream",
     "text": [
      "[[4.11885904]\n",
      " [2.89835696]] \n",
      " \n",
      " This is exactly what the Normal Equation yielded\n"
     ]
    }
   ],
   "source": [
    "' Validate the above expressions'\n",
    "eta = 0.1  #learning rate\n",
    "n_iterations = 1000\n",
    "m = 100\n",
    "\n",
    "theta = np.random.randn(2, 1) # random initialization\n",
    "\n",
    "for iteration in range(n_iterations):\n",
    "    gradients = 2/m * X_b.T.dot(X_b.dot(theta) - y)\n",
    "    theta = theta - eta*gradients\n",
    "    \n",
    "print (theta, '\\n', '\\n', 'This is exactly what the Normal Equation yielded')\n"
   ]
  },
  {
   "cell_type": "markdown",
   "id": "b6b4447c-84dd-4cbd-83c6-a34ff63d9d59",
   "metadata": {},
   "source": [
    "### Stochastic Gradient Descent"
   ]
  },
  {
   "cell_type": "markdown",
   "id": "db3bb400-25a4-4cba-99a7-a067fae5e936",
   "metadata": {},
   "source": [
    "<b> Opposite to batch gradient descent which uses the entire training set at each epoch, stochastic gradient descent takes one random sample from the training set at each epoch and applies the gradient descent step.  This requires vastly less memory and as such is a better choice for very large training sets.  However, there are some nuances to the process.  Due to the randomness the descent curve will not be smooth and the optimal solution will never be settled upon.  This can help escape local minima but comes at the cost of a less perfect output.  One solution to converging on the optimal output using stochastic gradient descent is to implement a learning schedule in which the learning rate is gradually reduced such that the random jumps at the point of convergence are so small that the output is essentially the same as batch gradient descent. </b>"
   ]
  },
  {
   "cell_type": "code",
   "execution_count": 6,
   "id": "fe5c59c9-2dad-476f-a049-3d8fa0d4e28c",
   "metadata": {},
   "outputs": [
    {
     "data": {
      "text/plain": [
       "array([[4.06514835],\n",
       "       [2.92730976]])"
      ]
     },
     "execution_count": 6,
     "metadata": {},
     "output_type": "execute_result"
    }
   ],
   "source": [
    "' An SGD example with a simple learning schedule'\n",
    "\n",
    "# Epochs\n",
    "n_epochs = 50\n",
    "\n",
    "# Learning rate schedule\n",
    "t0, t1 = 5, 50 \n",
    "\n",
    "def learning_rate_schedule(t):\n",
    "    return t0 / (t + t1)\n",
    "\n",
    "# Random initialization\n",
    "theta = np.random.randn(2, 1)\n",
    "\n",
    "# SGD\n",
    "for epoch in range(n_epochs):\n",
    "    for i in range(m):  # m = 100 was declared in an earlier code block\n",
    "        random_index = np.random.randint(m)\n",
    "        xi = X_b[random_index: random_index + 1]\n",
    "        yi = y[random_index: random_index + 1]\n",
    "        gradients = 2 * xi.T.dot(xi.dot(theta) - yi)\n",
    "        eta = learning_rate_schedule(epoch * m + i)\n",
    "        theta = theta - eta * gradients\n",
    "        \n",
    "theta"
   ]
  },
  {
   "cell_type": "markdown",
   "id": "b8638911-ccd9-4942-9aea-deb7314e5f60",
   "metadata": {},
   "source": [
    "<b> When using SGD it is best practice to shuffle the training set </b>"
   ]
  },
  {
   "cell_type": "code",
   "execution_count": 7,
   "id": "29ea5f8d-8f0b-41bf-a882-12450b1e2829",
   "metadata": {},
   "outputs": [
    {
     "name": "stdout",
     "output_type": "stream",
     "text": [
      "[4.14405085] [2.96046418]\n"
     ]
    }
   ],
   "source": [
    "' Implementing SGD with Sklearn'\n",
    "from sklearn.linear_model import SGDRegressor\n",
    "sgd_reg = SGDRegressor(max_iter=1000, tol=1e-3, penalty=None, eta0=0.1)\n",
    "sgd_reg.fit(X, y.ravel()) # .ravel() is a numpy function which flattens an array into a single 1D array with all the input-array elements and with the same type as it\n",
    "\n",
    "print(sgd_reg.intercept_, sgd_reg.coef_)"
   ]
  },
  {
   "cell_type": "markdown",
   "id": "a1c23ba8-eeeb-474f-a2cb-8c4832c54345",
   "metadata": {},
   "source": [
    "### Mini-batch Gradient Descent"
   ]
  },
  {
   "cell_type": "markdown",
   "id": "ba919c95-85d0-4888-bc6d-b7387e5cc1b0",
   "metadata": {},
   "source": [
    "<b> Mini-batch gradient desecent is essentially the middle ground between batch and sgd.  It computes gradients on small, random sets of instances called mini-batches. One advantage of SGD is you can get performance boosts from hardward optimzation when using matrix operations and GPUs.  It will likely end up closer to the minimum than SGD as well, although it may be harder to escape from local minima.  For large datasets this is usually the best algorithm. <b>"
   ]
  },
  {
   "cell_type": "markdown",
   "id": "8a376fd0-51d5-418d-9f1a-e13a5fe4fb76",
   "metadata": {},
   "source": [
    "### Polynomial Regression"
   ]
  },
  {
   "cell_type": "markdown",
   "id": "23315727-d3e7-4bbc-a012-33effb35573a",
   "metadata": {},
   "source": [
    "<b> Suprisingly, you can use linear regression algorithms to model non-linear relationships.  For example, consider a simple parabola.  You can simply augment the square of the feature(s) as additional features into the dataset and viola, you can use linear regression to estimate non-linear relationships <b>"
   ]
  },
  {
   "cell_type": "code",
   "execution_count": 8,
   "id": "b1a046aa-cfd8-4728-9cc9-d29edf3229cb",
   "metadata": {},
   "outputs": [
    {
     "data": {
      "text/plain": [
       "(array([-1.92312747]), array([-1.92312747,  3.69841925]))"
      ]
     },
     "execution_count": 8,
     "metadata": {},
     "output_type": "execute_result"
    }
   ],
   "source": [
    "' An example of estimating a polynomial function with linear regression'\n",
    "m = 100\n",
    "X = 6 * np.random.rand(m, 1) - 3\n",
    "y = 0.5 * X**2 + X + 2 + np.random.randn(m, 1)\n",
    "\n",
    "from sklearn.preprocessing import PolynomialFeatures\n",
    "\n",
    "poly_features = PolynomialFeatures(degree=2, include_bias=False)\n",
    "X_poly = poly_features.fit_transform(X)\n",
    "\n",
    "X[0], X_poly[0]"
   ]
  },
  {
   "cell_type": "code",
   "execution_count": 9,
   "id": "9ba72094-9608-4d63-84d2-036d40d4d4f8",
   "metadata": {},
   "outputs": [
    {
     "data": {
      "text/plain": [
       "(array([1.97744395]), array([[0.94651612, 0.51595379]]))"
      ]
     },
     "execution_count": 9,
     "metadata": {},
     "output_type": "execute_result"
    }
   ],
   "source": [
    "lin_reg = LinearRegression()\n",
    "lin_reg.fit(X_poly, y)\n",
    "lin_reg.intercept_, lin_reg.coef_\n",
    "\n",
    "# Here we see an intercept close to 2, a second-degree coeffecient close to 0.5, and a first-degree coeffecient close to 1 as expected"
   ]
  },
  {
   "cell_type": "markdown",
   "id": "0a152b10-b9b8-496c-939d-f4554e82ffb5",
   "metadata": {},
   "source": [
    "<b> Note that the PolynomialFeatures(degree=d) class will transform an array containing n-features into an array containing $\\large\\frac{(n + d)!}{d!n!}$ features.  Be cautious of the combinatorix nature of this augmentation <b>"
   ]
  },
  {
   "cell_type": "markdown",
   "id": "9f610155-d876-4187-aa31-bb3364d73366",
   "metadata": {},
   "source": [
    "### Learning Curves"
   ]
  },
  {
   "cell_type": "markdown",
   "id": "2f3b8612-0ce0-498b-a5f6-ce7ac2ea6805",
   "metadata": {},
   "source": [
    "<b> If, during cross-valdiation, a model performs well on training data but poor on valdation data it is likley overfitting.  If it performs poorly on both it is likely underfitting. This is one method to test for fitness.  Another is to analyze the learning curve.  Learning curves are plots of the model's performance on the training set and valdiation set as a function of the training set sieze (or the training iteration). <b>"
   ]
  },
  {
   "cell_type": "code",
   "execution_count": 10,
   "id": "815cd474-b0c6-43a1-8379-7a0b2e987740",
   "metadata": {},
   "outputs": [],
   "source": [
    "' Observe an underfitting learning curve set'\n",
    "from sklearn.metrics import mean_squared_error\n",
    "from sklearn.model_selection import train_test_split\n",
    "\n",
    "def plot_learning_curves(model, X, y):\n",
    "    X_train, X_val, y_train, y_val = train_test_split(X, y, test_size=0.2)\n",
    "    train_errors, val_errors = [], []\n",
    "    \n",
    "    for m in range(1, X_train.shape[0]):\n",
    "        model.fit(X_train[:m], y_train[:m])\n",
    "        y_train_predict = model.predict(X_train[:m])\n",
    "        y_val_predict = model.predict(X_val)\n",
    "        train_errors.append(mean_squared_error(y_train[:m], y_train_predict))\n",
    "        val_errors.append(mean_squared_error(y_val, y_val_predict))\n",
    "    \n",
    "    plt.axis([0, X_train.shape[0], 0, 3])\n",
    "    plt.plot(np.sqrt(train_errors), 'r-+', linewidth=2, label='train')\n",
    "    plt.plot(np.sqrt(val_errors), 'b-', linewidth=3, label='val')"
   ]
  },
  {
   "cell_type": "code",
   "execution_count": 11,
   "id": "9d2d0e8f-56cb-472c-8670-47ea451a018e",
   "metadata": {},
   "outputs": [
    {
     "data": {
      "image/png": "[encoded data removed]",
      "text/plain": [
       "<Figure size 432x288 with 1 Axes>"
      ]
     },
     "metadata": {
      "needs_background": "light"
     },
     "output_type": "display_data"
    }
   ],
   "source": [
    "lin_reg = LinearRegression()\n",
    "plot_learning_curves(lin_reg, X, y)"
   ]
  },
  {
   "cell_type": "markdown",
   "id": "b6fa3c35-6f15-460f-a704-f48eee05ceca",
   "metadata": {},
   "source": [
    "<b> These learning curves are typical of a model that is underfitting.  Both curves have reached a plateau; they are close and fairly high.  If a model is underfitting the training data, adding more training examples will not help.  You need to use a more complex model or come up with better features </b>"
   ]
  },
  {
   "cell_type": "code",
   "execution_count": 12,
   "id": "aae9fb41-3366-43cb-855e-9d03cba65555",
   "metadata": {},
   "outputs": [
    {
     "data": {
      "image/png": "[encoded data removed]",
      "text/plain": [
       "<Figure size 432x288 with 1 Axes>"
      ]
     },
     "metadata": {
      "needs_background": "light"
     },
     "output_type": "display_data"
    }
   ],
   "source": [
    "' Observe a model that is overfitting'\n",
    "from sklearn.pipeline import Pipeline\n",
    "\n",
    "polynomial_regression = Pipeline([\n",
    "    ('poly_features', PolynomialFeatures(degree=10, include_bias=False)),\n",
    "    ('lin_reg', LinearRegression()),\n",
    "])\n",
    "\n",
    "plot_learning_curves(polynomial_regression, X, y)"
   ]
  },
  {
   "cell_type": "markdown",
   "id": "af6b36ed-ec4a-4642-94c0-45f34e7c6f0b",
   "metadata": {},
   "source": [
    "<b> The error here is lower than the underfit model and it performs much better on the training data.  This example doesn't show well but often you'll see a noticeable gap between the training and validation curve.  These are all characteristic of an overfit model.  One way to improve an overfitting model is to feed it more training data until the validation error reaches the training error </b>"
   ]
  },
  {
   "cell_type": "markdown",
   "id": "98957443-685d-4252-807e-de349429e373",
   "metadata": {},
   "source": [
    "### The Bias/Variance Trade-off\n",
    "\n",
    "<b> An important theoretical result of statistics and Machine Learning is the fact that a model's generalization error can be expressed as the sum of three very different errors:</b>\n",
    "    <br>\n",
    "<b><i> Bias <i><b>:\n",
    "    <br>\n",
    "> A high-bias model is most likely to underfit the training data.  This is due to wrong assumptions, like fitting a straight line to a curve.\n",
    "    \n",
    "<b><i> Variance <b><i>:\n",
    "> A model with many degrees of freedom is likely to have high variance and thus overfit the training data.  This is caused by extra sensitivity to small variations in the training data.\n",
    "    <br>\n",
    "    \n",
    "<b><i> Irreducible error <b><i>:\n",
    "> The only way to reduce this part of the error is to clean up the data.  Fix data sources, such as broken sensors, or detect and remove outliers. </b>"
   ]
  },
  {
   "cell_type": "markdown",
   "id": "174ca3eb-4f79-4cd5-9c03-da0927fc4b56",
   "metadata": {},
   "source": [
    "## Regularized Linear Models"
   ]
  },
  {
   "cell_type": "markdown",
   "id": "a1a22d93-b671-4532-aa8c-18ec9f878f49",
   "metadata": {},
   "source": [
    "<b> A good way to reduce overfitting is to regularize the model (i.e. to constrain it).  A simple way to regularize a polynomial model is to reduce the number of polynomial degrees.  For a linear model, regularization is typically achieved by constraining the weights of the model.  Three common methods of regularization are <i> Ridge Regression, Lasso Regression, and Elastic Net <i><b>"
   ]
  },
  {
   "cell_type": "markdown",
   "id": "cbb1259c-5b50-4966-ada0-0508321cfbf4",
   "metadata": {},
   "source": [
    "### Ridge Regression"
   ]
  },
  {
   "cell_type": "markdown",
   "id": "25ae600f-9c03-44bb-96b2-3f1231dd69c9",
   "metadata": {},
   "source": [
    "<b> Ridge regression, also known as Tikhonov regularization, is a regularized version of Linear Regression.  A regularization term equal to $\\alpha\\sum_{i=1}^{n} \\theta{\\scriptstyle i}^{2}$ is added to the cost function.  This forces the learning algorithm to keep the model weights as small as possible.  The regularization term should only be added to the cost function during training.  Once the model is trained use the unregularized performance measure to evaluate the model's performance. \n",
    "<br><br>\n",
    "It is quite common for the cost function used during training to be different from the performance measure used for testing. A good training cost function should have optimization-friendly derivatives, while the performance measure used for testing should be as close as possible to the final objective.\n",
    "<br><br>\n",
    "If $\\alpha = 0$ then the Ridge Regression is just Linear Regression.  If $\\alpha$ is very large then all weights end up close to zero and the result is a flat line through the data's mean. The full form for the Ridge Regression cost function is:\n",
    "<br><br>\n",
    "$J(\\boldsymbol\\theta) = MSE(\\boldsymbol\\theta) + \\alpha\\sum_{i=1}^{n} \\theta{\\scriptstyle i}^{2}$\n",
    "<br><br>\n",
    "Note that the bias term $\\theta{\\scriptscriptstyle 0}$ is not regularized.<b>"
   ]
  },
  {
   "cell_type": "code",
   "execution_count": 13,
   "id": "bc8919bf-ad8a-4ff9-93b8-b5f949cc0bab",
   "metadata": {},
   "outputs": [
    {
     "data": {
      "text/plain": [
       "array([[4.7752796]])"
      ]
     },
     "execution_count": 13,
     "metadata": {},
     "output_type": "execute_result"
    }
   ],
   "source": [
    "' Use Ridge Regression with scikit-learn using the closed-form formula.'\n",
    "from sklearn.linear_model import Ridge\n",
    "ridge_reg = Ridge(alpha=1, solver='cholesky')\n",
    "ridge_reg.fit(X, y)\n",
    "ridge_reg.predict([[1.5]])\n",
    "\n",
    "# Alternatively you can set the solver hyperparameter to 'sag' to run the Ridge model with gradient descent."
   ]
  },
  {
   "cell_type": "code",
   "execution_count": 14,
   "id": "7ae2f29d-34c9-4fe5-90b4-7df5c2237ff3",
   "metadata": {},
   "outputs": [
    {
     "data": {
      "text/plain": [
       "array([4.76861553])"
      ]
     },
     "execution_count": 14,
     "metadata": {},
     "output_type": "execute_result"
    }
   ],
   "source": [
    "' Use Ridge Regression with scikit-learn using gradient descent.'\n",
    "sgd_reg = SGDRegressor(penalty='l2')\n",
    "sgd_reg.fit(X, y.ravel())\n",
    "sgd_reg.predict([[1.5]])\n",
    "\n",
    "# The penalty hyperparameter sets the type of regularization term to use.  l2 corresponds to ridge regression."
   ]
  },
  {
   "cell_type": "markdown",
   "id": "ca155b75-e0c2-48a9-bc30-71f88b61716e",
   "metadata": {},
   "source": [
    "### Lasso Regression"
   ]
  },
  {
   "cell_type": "markdown",
   "id": "214a833b-6161-41d3-947d-87e126838b58",
   "metadata": {},
   "source": [
    "<b> Least Absolute Shrinkage and Selection Operator Regression is another regularized version of Linear Regression.  It adds a regularization term to the cost function, but it uses the L1 norm instead of half the square of the L2 norm. The cost function is as follows:\n",
    "<br><br>\n",
    "$J(\\boldsymbol\\theta) = MSE(\\boldsymbol\\theta) + \\alpha\\sum_{i=1}^{n} |\\theta{\\scriptstyle i}|$\n",
    "<br><br>\n",
    "An important characteristic of Lasso Regression is that it tends to eliminate the weights of the least important features.  In other words, Lasso Regression automatically performs feature selection and outputs a sparse model (few non-zero weights).  Compared to Ridge Regression there are two main differences with Lasso.  First, the gradients get smaller as the parameters approach the global optimum, so Gradient Descent naturally slows down which helps convergence.  Second, the optimal parameters get closer and closer to 0 when you increase $\\alpha$, but they never get eliminated entirely.\n",
    "<br><br>\n",
    "The Lasso cost function is not differentiable at $\\theta{\\scriptstyle i}$ = 0 but gradient descent works fine if you use piece-wise the cost function and set the cost function to 0 when $\\theta{\\scriptstyle i}$ = 0"
   ]
  },
  {
   "cell_type": "code",
   "execution_count": 15,
   "id": "1c6a4874-9cd1-4a96-90e7-904ede4b9f25",
   "metadata": {},
   "outputs": [
    {
     "data": {
      "text/plain": [
       "array([4.73016106])"
      ]
     },
     "execution_count": 15,
     "metadata": {},
     "output_type": "execute_result"
    }
   ],
   "source": [
    "' Example of Lasso regression'\n",
    "from sklearn.linear_model import Lasso\n",
    "lasso_reg = Lasso(alpha=0.1)\n",
    "lasso_reg.fit(X, y)\n",
    "lasso_reg.predict([[1.5]])\n",
    "\n",
    "# This is equivalent to setting the SGDRegressor(penality='l1')"
   ]
  },
  {
   "cell_type": "markdown",
   "id": "68ec70bb-366b-4705-8cce-56fc2ec16c06",
   "metadata": {},
   "source": [
    "### Elastic Net"
   ]
  },
  {
   "cell_type": "markdown",
   "id": "7570e1d4-82ba-4c7a-aa38-14d10f327622",
   "metadata": {},
   "source": [
    "<b> Elastic Net is a middle ground between Ridge Regression and Lasso Regression.  The regularization term is a simple mix of both Ridge and Lasso's regularization terms, and you can control the mix ratio <i> r </i>.  When r = 0 Elastic Net is equivalent to Ridge Regression and when r = 1 it is equivalent to Lasso Regression.  The cost function is as follows:\n",
    "<br><br>\n",
    "$J(\\boldsymbol\\theta) = MSE(\\boldsymbol\\theta) + r\\alpha\\sum_{i=1}^{n} |\\theta{\\scriptstyle i}| + \\frac{1 - r}{2}\\alpha\\sum_{i=1}^{n} \\theta{\\scriptstyle i}^{2}$\n",
    "<br><br>\n",
    "When should you use which regularization technique?  It is almost always preferable to have at least a little bit of regularization.  Ridge is a good default but if you suspect only a few features are useful you should prefer Lasso or Elastic Net because they tend to reduce the useless features' weights down to zero. In general, Elastic Net is preferred over Lasso because Lasso may behave erratically when the number of features is greater than the number of training instances or when several features are strongly correlated."
   ]
  },
  {
   "cell_type": "code",
   "execution_count": 16,
   "id": "874e6a08-17fd-4ada-bb98-537b2f50d618",
   "metadata": {},
   "outputs": [
    {
     "data": {
      "text/plain": [
       "array([4.73463765])"
      ]
     },
     "execution_count": 16,
     "metadata": {},
     "output_type": "execute_result"
    }
   ],
   "source": [
    "' Example of Elastic Net'\n",
    "from sklearn.linear_model import ElasticNet\n",
    "elastic_net = ElasticNet(alpha=0.1, l1_ratio=0.5)  #l1_ratio corresponds to the mix ratio r\n",
    "elastic_net.fit(X, y)\n",
    "elastic_net.predict([[1.5]])"
   ]
  },
  {
   "cell_type": "markdown",
   "id": "f4a2f076-f955-49cc-892e-aa4fa3e88cd0",
   "metadata": {},
   "source": [
    "### Early Stopping"
   ]
  },
  {
   "cell_type": "markdown",
   "id": "da3bc3bb-2c32-4fe3-ac95-d388453c755a",
   "metadata": {},
   "source": [
    "<b>An elegant and simple regularization technique is early stopping.  This applies to iterative models like Gradient Descent.  By observing the loss curves of both the training set and validation set and ending the training once the validation loss begins to increase you can simply optimize your model to avoid over-fitting.  For more sporadic loss curves you can run until the validation loss is certainly increasing then roll back the model parameters to the point where the validation error was at a minimum <b>"
   ]
  },
  {
   "cell_type": "code",
   "execution_count": 28,
   "id": "d86f8882-d742-46dd-9d52-2463158f2642",
   "metadata": {},
   "outputs": [],
   "source": [
    "' Basic implementation of early stopping'\n",
    "from sklearn.base import clone\n",
    "from sklearn.preprocessing import StandardScaler\n",
    "\n",
    "# prepare the data\n",
    "poly_scaler = Pipeline([\n",
    "    ('poly_features', PolynomialFeatures(degree=90, include_bias=False)),\n",
    "    ('std_scaler', StandardScaler())\n",
    "])\n",
    "\n",
    "X_train, X_val, y_train, y_val = train_test_split(X, y, test_size=0.2)\n",
    "X_train_poly_scaled = poly_scaler.fit_transform(X_train)\n",
    "X_val_poly_scaled = poly_scaler.transform(X_val)\n",
    "\n",
    "sgd_reg = SGDRegressor(\n",
    "    max_iter=1,\n",
    "    tol= -np.inf,\n",
    "    warm_start=True, # When the fit() method is called it continues training where it left off vs. restarting from scratch\n",
    "    penalty=None,\n",
    "    learning_rate='constant',\n",
    "    eta0=0.0005\n",
    ")\n",
    "\n",
    "minimum_val_error = float('inf')\n",
    "best_epoch = None\n",
    "best_model = None\n",
    "\n",
    "for epoch in range(1000):\n",
    "    sgd_reg.fit(X_train_poly_scaled, y_train.ravel())\n",
    "    y_val_predict = sgd_reg.predict(X_val_poly_scaled)\n",
    "    val_error = mean_squared_error(y_val, y_val_predict)\n",
    "    if val_error < minimum_val_error:\n",
    "        minimum_val_error = val_error\n",
    "        best_epoch = epoch\n",
    "        best_model = clone(sgd_reg)"
   ]
  },
  {
   "cell_type": "code",
   "execution_count": 32,
   "id": "29c4bfa3-e324-498d-ad6d-6663ff007431",
   "metadata": {},
   "outputs": [
    {
     "data": {
      "text/plain": [
       "(array([0.06055222, 0.05300337, 0.05015628, 0.04847403, 0.04156685,\n",
       "        0.04283305, 0.03566116, 0.03818836, 0.03158398, 0.03469195,\n",
       "        0.02874959, 0.03211082, 0.02675661, 0.03020251, 0.02533499,\n",
       "        0.02878509, 0.02430638, 0.02773159, 0.02355336, 0.02695372,\n",
       "        0.02299772, 0.02638865, 0.02258627, 0.02599038, 0.02228195,\n",
       "        0.02572417, 0.02205827, 0.0255632 , 0.02189588, 0.02548631,\n",
       "        0.02178036, 0.02547659, 0.02170079, 0.02552039, 0.02164882,\n",
       "        0.02560661, 0.02161803, 0.02572618, 0.02160343, 0.02587166,\n",
       "        0.02160115, 0.02603696, 0.02160818, 0.0262171 , 0.0216222 ,\n",
       "        0.02640795, 0.02164141, 0.02660619, 0.02166444, 0.02680907,\n",
       "        0.02169023, 0.02701437, 0.021718  , 0.0272203 , 0.02174717,\n",
       "        0.02742541, 0.02177731, 0.02762855, 0.02180813, 0.02782882,\n",
       "        0.02183941, 0.0280255 , 0.02187104, 0.02821807, 0.02190294,\n",
       "        0.02840613, 0.02193508, 0.02858938, 0.02196746, 0.02876763,\n",
       "        0.02200009, 0.02894076, 0.02203301, 0.02910873, 0.02206627,\n",
       "        0.02927151, 0.02209992, 0.02942915, 0.022134  , 0.02958171,\n",
       "        0.02216856, 0.02972927, 0.02220365, 0.02987195, 0.02223932,\n",
       "        0.03000986, 0.0222756 , 0.03014315, 0.02231253, 0.03027194]),\n",
       " array([0.14660043]))"
      ]
     },
     "execution_count": 32,
     "metadata": {},
     "output_type": "execute_result"
    }
   ],
   "source": [
    "best_model.fit(X_train_poly_scaled, y_train.ravel())\n",
    "best_model.coef_, best_model.intercept_"
   ]
  },
  {
   "cell_type": "code",
   "execution_count": null,
   "id": "a39b55cb-5503-4006-a33b-110f4799af31",
   "metadata": {},
   "outputs": [],
   "source": []
  }
 ],
 "metadata": {
  "kernelspec": {
   "display_name": "Python 3",
   "language": "python",
   "name": "python3"
  },
  "language_info": {
   "codemirror_mode": {
    "name": "ipython",
    "version": 3
   },
   "file_extension": ".py",
   "mimetype": "text/x-python",
   "name": "python",
   "nbconvert_exporter": "python",
   "pygments_lexer": "ipython3",
   "version": "3.8.12"
  }
 },
 "nbformat": 4,
 "nbformat_minor": 5
}
