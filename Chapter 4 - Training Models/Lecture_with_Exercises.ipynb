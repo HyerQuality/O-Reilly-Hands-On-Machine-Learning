{
 "cells": [
  {
   "cell_type": "markdown",
   "id": "cbb50468-b0ac-4f7e-9fad-72f0af5fda20",
   "metadata": {},
   "source": [
    "<b> Chapter 4 is a technical chapter which will go over the mathematics behind some of the machine learning models that have been used so far.  I will be focusing on the linear algebra definitions and applications as they more succinctly embody the theories and calculations </b>"
   ]
  },
  {
   "cell_type": "markdown",
   "id": "e21427fd-a99e-40fa-b2ba-64cf906ee565",
   "metadata": {},
   "source": [
    "# Linear Regression"
   ]
  },
  {
   "cell_type": "markdown",
   "id": "6ab7d0da-7a23-4517-9be1-fd0f0c60f613",
   "metadata": {},
   "source": [
    "<b> Simply put linear regression is a weighted average of features and a scalar bias.  The weights are bias are chosen based off the minimization of a cost function.  The most common cost function for linear regressions is Mean Squared Error (MSE) which is rooted (RMSE) when comparing across multiple models.  The reason MSE is used is because the derivative is much simpler to compute and requires significantly less computational power than the rooted version.  Since rooting the function simply scales it, selecting MSE to minimize has the same end result as selected RMSE to minimize.  This is true in general for any cost or reward function and it is encouraged to use the form of the cost function which minimizes computational effort. </b>"
   ]
  },
  {
   "cell_type": "markdown",
   "id": "046ac62a-356f-4853-b450-9ad60e81d47d",
   "metadata": {},
   "source": [
    "## The Normal Equation\n",
    "\n",
    "#### <center>${\\hat{\\theta}}$ = $(\\mathbf{X^T}\\mathbf{X})^{-1} \\mathbf{X^T} \\mathbf{y}$</center>\n",
    "\n",
    "In this equation:\n",
    "\n",
    "${\\hat{\\theta}}$ is the value of $\\theta$ that minimizes the cost function\n",
    "<br>\n",
    "$\\mathbf{y}$ is the vector of target values\n",
    "<br>\n",
    "$\\mathbf{X}$ is a matrix of features with a bias column"
   ]
  },
  {
   "cell_type": "code",
   "execution_count": 1,
   "id": "d82d41c3-93a2-48f0-a45c-8ab7fedca06f",
   "metadata": {},
   "outputs": [
    {
     "data": {
      "text/plain": [
       "array([[3.9880435 ],\n",
       "       [3.05409522]])"
      ]
     },
     "execution_count": 1,
     "metadata": {},
     "output_type": "execute_result"
    }
   ],
   "source": [
    "' Generate some data to validate the above expression'\n",
    "import numpy as np\n",
    "\n",
    "X = 2 * np.random.rand(100, 1)\n",
    "y = 4 + 3 * X + np.random.randn(100, 1) # mx + b : 3x + 4 + noise\n",
    "\n",
    "' Introduce the constant bias'\n",
    "X_b = np.c_[np.ones((100, 1)), X] # m x n matrix with column of 1's and column of X values\n",
    "\n",
    "' Apply the normal equation'\n",
    "theta_best = np.linalg.inv(X_b.T.dot(X_b)).dot(X_b.T).dot(y)\n",
    "theta_best"
   ]
  },
  {
   "cell_type": "markdown",
   "id": "f83b5e8a-2fa3-4ac2-a43a-90d5437aba31",
   "metadata": {},
   "source": [
    "<b> The bias chosen was 4 and the weight was 3.  The gaussian noise introduced makes it impossible to get these exact values but the derived values are almost perfect.</b>"
   ]
  },
  {
   "cell_type": "code",
   "execution_count": 2,
   "id": "0e937627-9114-44dc-bc48-36dce03a5618",
   "metadata": {},
   "outputs": [
    {
     "name": "stdout",
     "output_type": "stream",
     "text": [
      "The history saving thread hit an unexpected error (OperationalError('database is locked')).History will not be written to the database.\n"
     ]
    },
    {
     "data": {
      "text/plain": [
       "array([[ 3.9880435 ],\n",
       "       [10.09623394]])"
      ]
     },
     "execution_count": 2,
     "metadata": {},
     "output_type": "execute_result"
    }
   ],
   "source": [
    "' Make some predictions'\n",
    "X_new = np.array([[0], [2]])\n",
    "X_new_b = np.c_[np.ones((2, 1)), X_new]\n",
    "\n",
    "y_predict = X_new_b.dot(theta_best)\n",
    "y_predict"
   ]
  },
  {
   "cell_type": "code",
   "execution_count": 3,
   "id": "2064678e-404e-46a9-801e-2fa2f0d5c217",
   "metadata": {},
   "outputs": [
    {
     "data": {
      "text/plain": [
       "[<matplotlib.lines.Line2D at 0x1f9a21038b0>]"
      ]
     },
     "execution_count": 3,
     "metadata": {},
     "output_type": "execute_result"
    },
    {
     "data": {
      "image/png": "[encoded data removed]",
      "text/plain": [
       "<Figure size 640x480 with 1 Axes>"
      ]
     },
     "metadata": {},
     "output_type": "display_data"
    }
   ],
   "source": [
    "' Plot the raw data and the best fit predictions'\n",
    "import matplotlib.pyplot as plt\n",
    "\n",
    "plt.scatter(X, y)\n",
    "plt.plot(X, X_b.dot(theta_best), color='orange')"
   ]
  },
  {
   "cell_type": "code",
   "execution_count": 4,
   "id": "f4ccf1d9-8629-46c2-bfc0-f8c58a01a278",
   "metadata": {},
   "outputs": [
    {
     "name": "stdout",
     "output_type": "stream",
     "text": [
      "Bias:  [3.9880435] Coefficient:  [[3.05409522]]\n"
     ]
    },
    {
     "data": {
      "text/plain": [
       "array([[ 3.9880435 ],\n",
       "       [10.09623394]])"
      ]
     },
     "execution_count": 4,
     "metadata": {},
     "output_type": "execute_result"
    }
   ],
   "source": [
    "' Performing linear regression with sklearn is very simple'\n",
    "from sklearn.linear_model import LinearRegression\n",
    "\n",
    "lin_reg = LinearRegression()\n",
    "lin_reg.fit(X, y)\n",
    "\n",
    "print('Bias: ', lin_reg.intercept_, 'Coefficient: ', lin_reg.coef_)\n",
    "\n",
    "lin_reg.predict(X_new)"
   ]
  },
  {
   "cell_type": "markdown",
   "id": "83c25a93-aaa3-431c-9225-86f88a855c8e",
   "metadata": {},
   "source": [
    "<b> A caveat for inverted matrices is that they require a non-zero determinant.  This isn't always the case.  A work-around is the Moore-Penrose Inverse aka the pseudoinverse.  This utilizes Singular Value Decomposition to generate an equivalent matrix which is always invertible.  This method is also more computationally efficient. Sklearn ueses this method natively </b>"
   ]
  },
  {
   "cell_type": "markdown",
   "id": "36e7cfda-4dbb-4ef9-950f-5a0cf8a26f10",
   "metadata": {},
   "source": [
    "## Gradient Descent"
   ]
  },
  {
   "cell_type": "markdown",
   "id": "0cb4bddd-c559-4994-b25c-34e4a5442fda",
   "metadata": {},
   "source": [
    "<b> Gradient Descent outperforms sklearn and the Normal Equation when the dataset is extremely large (100,000+ features).  </b>"
   ]
  },
  {
   "cell_type": "markdown",
   "id": "aab888f9-f3d6-4d59-b2fb-3be5f936d97f",
   "metadata": {},
   "source": [
    "<b> General notes about gradient descent </b>\n",
    "* Tweaks parameters iteratively in order to minimize a cost function\n",
    "* Not all cost functions are convex.  As such, one hurdle for gradient descent is overcoming local minima and plateaus\n",
    "* The learning rate is the primary parameter for correctly finding the absolute minima.  Too high and the optimizer will diverge and never find a minima. Too low and it will stop too soon at a local minima\n",
    "* Because a convex function has exactly 1 minima they are ideal. If possible, transform the cost function such that its transformation is convex.\n",
    "* Scaling all features has an enormous impact on how long it takes for the optimizer to find the mininma. \n",
    "* Gradient descent utilizes the properties of partial derivatives.  As such, a less complex derivative is arguably more important than a convex, continuous function.  Both is ideal."
   ]
  },
  {
   "cell_type": "markdown",
   "id": "92247245-a5f5-4f49-875b-5b38ccfb5a9f",
   "metadata": {},
   "source": [
    "## Gradient Vector of the Cost Function"
   ]
  },
  {
   "cell_type": "markdown",
   "id": "d8e1e88d-22af-425a-a0ac-fb0cce053898",
   "metadata": {},
   "source": [
    "#### <center>$\\nabla_{\\boldsymbol\\theta}MSE(\\boldsymbol\\theta) = \\frac{2}{m}\\mathbf{X}^{T}(\\mathbf{X}\\boldsymbol\\theta - \\mathbf{y})$</center>\n",
    "\n",
    "<br>\n",
    "\n",
    "<b> Notice that this formula computes over the full training set X at each step.  The batch size here is 1 and as a result the training time on large datasets will be greatly impacted.  There are other ways to do this involving larger batch sizes which will be discussed later<b>"
   ]
  },
  {
   "cell_type": "markdown",
   "id": "8bea2681-4f81-475d-9831-59f1d06babe9",
   "metadata": {},
   "source": [
    "## Gradient Descent Step"
   ]
  },
  {
   "cell_type": "markdown",
   "id": "9519d015-40e4-47e5-a810-65afd9b4c19b",
   "metadata": {},
   "source": [
    "#### <center>$\\boldsymbol\\theta^{\\small{(next-step)}} = \\boldsymbol\\theta - \\eta\\nabla_{\\boldsymbol\\theta}MSE(\\boldsymbol\\theta)$</center>"
   ]
  },
  {
   "cell_type": "code",
   "execution_count": 5,
   "id": "2a39c430-fa06-4cc3-8f06-0573df641bae",
   "metadata": {},
   "outputs": [
    {
     "name": "stdout",
     "output_type": "stream",
     "text": [
      "[[3.9880435 ]\n",
      " [3.05409522]] \n",
      " \n",
      " This is exactly what the Normal Equation yielded\n"
     ]
    }
   ],
   "source": [
    "' Validate the above expressions'\n",
    "eta = 0.1  #learning rate\n",
    "n_iterations = 1000\n",
    "m = 100\n",
    "\n",
    "theta = np.random.randn(2, 1) # random initialization\n",
    "\n",
    "for iteration in range(n_iterations):\n",
    "    gradients = 2/m * X_b.T.dot(X_b.dot(theta) - y)\n",
    "    theta = theta - eta*gradients\n",
    "    \n",
    "print (theta, '\\n', '\\n', 'This is exactly what the Normal Equation yielded')\n"
   ]
  },
  {
   "cell_type": "markdown",
   "id": "b6b4447c-84dd-4cbd-83c6-a34ff63d9d59",
   "metadata": {},
   "source": [
    "### Stochastic Gradient Descent"
   ]
  },
  {
   "cell_type": "markdown",
   "id": "db3bb400-25a4-4cba-99a7-a067fae5e936",
   "metadata": {},
   "source": [
    "<b> Opposite to batch gradient descent which uses the entire training set at each epoch, stochastic gradient descent takes one random sample from the training set at each epoch and applies the gradient descent step.  This requires vastly less memory and as such is a better choice for very large training sets.  However, there are some nuances to the process.  Due to the randomness the descent curve will not be smooth and the optimal solution will never be settled upon.  This can help escape local minima but comes at the cost of a less perfect output.  One solution to converging on the optimal output using stochastic gradient descent is to implement a learning schedule in which the learning rate is gradually reduced such that the random jumps at the point of convergence are so small that the output is essentially the same as batch gradient descent. </b>"
   ]
  },
  {
   "cell_type": "code",
   "execution_count": 6,
   "id": "fe5c59c9-2dad-476f-a049-3d8fa0d4e28c",
   "metadata": {},
   "outputs": [
    {
     "data": {
      "text/plain": [
       "array([[3.98833748],\n",
       "       [3.10480855]])"
      ]
     },
     "execution_count": 6,
     "metadata": {},
     "output_type": "execute_result"
    }
   ],
   "source": [
    "' An SGD example with a simple learning schedule'\n",
    "\n",
    "# Epochs\n",
    "n_epochs = 50\n",
    "\n",
    "# Learning rate schedule\n",
    "t0, t1 = 5, 50 \n",
    "\n",
    "def learning_rate_schedule(t):\n",
    "    return t0 / (t + t1)\n",
    "\n",
    "# Random initialization\n",
    "theta = np.random.randn(2, 1)\n",
    "\n",
    "# SGD\n",
    "for epoch in range(n_epochs):\n",
    "    for i in range(m):  # m = 100 was declared in an earlier code block\n",
    "        random_index = np.random.randint(m)\n",
    "        xi = X_b[random_index: random_index + 1]\n",
    "        yi = y[random_index: random_index + 1]\n",
    "        gradients = 2 * xi.T.dot(xi.dot(theta) - yi)\n",
    "        eta = learning_rate_schedule(epoch * m + i)\n",
    "        theta = theta - eta * gradients\n",
    "        \n",
    "theta"
   ]
  },
  {
   "cell_type": "markdown",
   "id": "b8638911-ccd9-4942-9aea-deb7314e5f60",
   "metadata": {},
   "source": [
    "<b> When using SGD it is best practice to shuffle the training set </b>"
   ]
  },
  {
   "cell_type": "code",
   "execution_count": 7,
   "id": "29ea5f8d-8f0b-41bf-a882-12450b1e2829",
   "metadata": {},
   "outputs": [
    {
     "name": "stdout",
     "output_type": "stream",
     "text": [
      "[3.96403679] [3.06702716]\n"
     ]
    }
   ],
   "source": [
    "' Implementing SGD with Sklearn'\n",
    "from sklearn.linear_model import SGDRegressor\n",
    "sgd_reg = SGDRegressor(max_iter=1000, tol=1e-3, penalty=None, eta0=0.1)\n",
    "sgd_reg.fit(X, y.ravel()) # .ravel() is a numpy function which flattens an array into a single 1D array with all the input-array elements and with the same type as it\n",
    "\n",
    "print(sgd_reg.intercept_, sgd_reg.coef_)"
   ]
  },
  {
   "cell_type": "markdown",
   "id": "a1c23ba8-eeeb-474f-a2cb-8c4832c54345",
   "metadata": {},
   "source": [
    "### Mini-batch Gradient Descent"
   ]
  },
  {
   "cell_type": "markdown",
   "id": "ba919c95-85d0-4888-bc6d-b7387e5cc1b0",
   "metadata": {},
   "source": [
    "<b> Mini-batch gradient desecent is essentially the middle ground between batch and sgd.  It computes gradients on small, random sets of instances called mini-batches. One advantage of SGD is you can get performance boosts from hardward optimzation when using matrix operations and GPUs.  It will likely end up closer to the minimum than SGD as well, although it may be harder to escape from local minima.  For large datasets this is usually the best algorithm. <b>"
   ]
  },
  {
   "cell_type": "markdown",
   "id": "8a376fd0-51d5-418d-9f1a-e13a5fe4fb76",
   "metadata": {},
   "source": [
    "### Polynomial Regression"
   ]
  },
  {
   "cell_type": "markdown",
   "id": "23315727-d3e7-4bbc-a012-33effb35573a",
   "metadata": {},
   "source": [
    "<b> Suprisingly, you can use linear regression algorithms to model non-linear relationships.  For example, consider a simple parabola.  You can simply augment the square of the feature(s) as additional features into the dataset and viola, you can use linear regression to estimate non-linear relationships <b>"
   ]
  },
  {
   "cell_type": "code",
   "execution_count": 8,
   "id": "b1a046aa-cfd8-4728-9cc9-d29edf3229cb",
   "metadata": {},
   "outputs": [
    {
     "data": {
      "text/plain": [
       "(array([0.55039883]), array([0.55039883, 0.30293888]))"
      ]
     },
     "execution_count": 8,
     "metadata": {},
     "output_type": "execute_result"
    }
   ],
   "source": [
    "' An example of estimating a polynomial function with linear regression'\n",
    "m = 100\n",
    "X = 6 * np.random.rand(m, 1) - 3\n",
    "y = 0.5 * X**2 + X + 2 + np.random.randn(m, 1)\n",
    "\n",
    "from sklearn.preprocessing import PolynomialFeatures\n",
    "\n",
    "poly_features = PolynomialFeatures(degree=2, include_bias=False)\n",
    "X_poly = poly_features.fit_transform(X)\n",
    "\n",
    "X[0], X_poly[0]"
   ]
  },
  {
   "cell_type": "code",
   "execution_count": 9,
   "id": "9ba72094-9608-4d63-84d2-036d40d4d4f8",
   "metadata": {},
   "outputs": [
    {
     "data": {
      "text/plain": [
       "(array([1.94692022]), array([[0.94920919, 0.5345575 ]]))"
      ]
     },
     "execution_count": 9,
     "metadata": {},
     "output_type": "execute_result"
    }
   ],
   "source": [
    "lin_reg = LinearRegression()\n",
    "lin_reg.fit(X_poly, y)\n",
    "lin_reg.intercept_, lin_reg.coef_\n",
    "\n",
    "# Here we see an intercept close to 2, a second-degree coeffecient close to 0.5, and a first-degree coeffecient close to 1 as expected"
   ]
  },
  {
   "cell_type": "markdown",
   "id": "0a152b10-b9b8-496c-939d-f4554e82ffb5",
   "metadata": {},
   "source": [
    "<b> Note that the PolynomialFeatures(degree=d) class will transform an array containing n-features into an array containing $\\large\\frac{(n + d)!}{d!n!}$ features.  Be cautious of the combinatorix nature of this augmentation <b>"
   ]
  },
  {
   "cell_type": "markdown",
   "id": "9f610155-d876-4187-aa31-bb3364d73366",
   "metadata": {},
   "source": [
    "### Learning Curves"
   ]
  },
  {
   "cell_type": "markdown",
   "id": "2f3b8612-0ce0-498b-a5f6-ce7ac2ea6805",
   "metadata": {},
   "source": [
    "<b> If, during cross-valdiation, a model performs well on training data but poor on valdation data it is likley overfitting.  If it performs poorly on both it is likely underfitting. This is one method to test for fitness.  Another is to analyze the learning curve.  Learning curves are plots of the model's performance on the training set and valdiation set as a function of the training set size (or the training iteration). <b>"
   ]
  },
  {
   "cell_type": "code",
   "execution_count": 10,
   "id": "815cd474-b0c6-43a1-8379-7a0b2e987740",
   "metadata": {},
   "outputs": [],
   "source": [
    "' Observe an underfitting learning curve set'\n",
    "from sklearn.metrics import mean_squared_error\n",
    "from sklearn.model_selection import train_test_split\n",
    "\n",
    "def plot_learning_curves(model, X, y):\n",
    "    X_train, X_val, y_train, y_val = train_test_split(X, y, test_size=0.2)\n",
    "    train_errors, val_errors = [], []\n",
    "    \n",
    "    for m in range(1, X_train.shape[0]):\n",
    "        model.fit(X_train[:m], y_train[:m])\n",
    "        y_train_predict = model.predict(X_train[:m])\n",
    "        y_val_predict = model.predict(X_val)\n",
    "        train_errors.append(mean_squared_error(y_train[:m], y_train_predict))\n",
    "        val_errors.append(mean_squared_error(y_val, y_val_predict))\n",
    "    \n",
    "    plt.axis([0, X_train.shape[0], 0, 3])\n",
    "    plt.plot(np.sqrt(train_errors), 'r-+', linewidth=2, label='train')\n",
    "    plt.plot(np.sqrt(val_errors), 'b-', linewidth=3, label='val')\n",
    "    plt.legend()"
   ]
  },
  {
   "cell_type": "code",
   "execution_count": 11,
   "id": "9d2d0e8f-56cb-472c-8670-47ea451a018e",
   "metadata": {},
   "outputs": [
    {
     "data": {
      "image/png": "[encoded data removed]",
      "text/plain": [
       "<Figure size 640x480 with 1 Axes>"
      ]
     },
     "metadata": {},
     "output_type": "display_data"
    }
   ],
   "source": [
    "lin_reg = LinearRegression()\n",
    "plot_learning_curves(lin_reg, X, y)"
   ]
  },
  {
   "cell_type": "markdown",
   "id": "b6fa3c35-6f15-460f-a704-f48eee05ceca",
   "metadata": {},
   "source": [
    "<b> These learning curves are typical of a model that is underfitting.  Both curves have reached a plateau; they are close and fairly high.  If a model is underfitting the training data, adding more training examples will not help.  You need to use a more complex model or come up with better features </b>"
   ]
  },
  {
   "cell_type": "code",
   "execution_count": 12,
   "id": "aae9fb41-3366-43cb-855e-9d03cba65555",
   "metadata": {},
   "outputs": [
    {
     "data": {
      "image/png": "[encoded data removed]",
      "text/plain": [
       "<Figure size 640x480 with 1 Axes>"
      ]
     },
     "metadata": {},
     "output_type": "display_data"
    }
   ],
   "source": [
    "' Observe a model that is overfitting'\n",
    "from sklearn.pipeline import Pipeline\n",
    "\n",
    "polynomial_regression = Pipeline([\n",
    "    ('poly_features', PolynomialFeatures(degree=10, include_bias=False)),\n",
    "    ('lin_reg', LinearRegression()),\n",
    "])\n",
    "\n",
    "plot_learning_curves(polynomial_regression, X, y)"
   ]
  },
  {
   "cell_type": "markdown",
   "id": "af6b36ed-ec4a-4642-94c0-45f34e7c6f0b",
   "metadata": {},
   "source": [
    "<b> The error here is lower than the underfit model and it performs much better on the training data.  This example doesn't show well but often you'll see a noticeable gap between the training and validation curve.  These are all characteristic of an overfit model.  One way to improve an overfitting model is to feed it more training data until the validation error reaches the training error </b>"
   ]
  },
  {
   "cell_type": "markdown",
   "id": "98957443-685d-4252-807e-de349429e373",
   "metadata": {},
   "source": [
    "### The Bias/Variance Trade-off\n",
    "\n",
    "<b> An important theoretical result of statistics and Machine Learning is the fact that a model's generalization error can be expressed as the sum of three very different errors:</b>\n",
    "    <br>\n",
    "<b><i> Bias <i><b>:\n",
    "    <br>\n",
    "> A high-bias model is most likely to underfit the training data.  This is due to wrong assumptions, like fitting a straight line to a curve.\n",
    "    \n",
    "<b><i> Variance <b><i>:\n",
    "> A model with many degrees of freedom is likely to have high variance and thus overfit the training data.  This is caused by extra sensitivity to small variations in the training data.\n",
    "    <br>\n",
    "    \n",
    "<b><i> Irreducible error <b><i>:\n",
    "> The only way to reduce this part of the error is to clean up the data.  Fix data sources, such as broken sensors, or detect and remove outliers. </b>"
   ]
  },
  {
   "cell_type": "markdown",
   "id": "174ca3eb-4f79-4cd5-9c03-da0927fc4b56",
   "metadata": {},
   "source": [
    "## Regularized Linear Models"
   ]
  },
  {
   "cell_type": "markdown",
   "id": "a1a22d93-b671-4532-aa8c-18ec9f878f49",
   "metadata": {},
   "source": [
    "<b> A good way to reduce overfitting is to regularize the model (i.e. to constrain it).  A simple way to regularize a polynomial model is to reduce the number of polynomial degrees.  For a linear model, regularization is typically achieved by constraining the weights of the model.  Three common methods of regularization are <i> Ridge Regression, Lasso Regression, and Elastic Net <i><b>"
   ]
  },
  {
   "cell_type": "markdown",
   "id": "cbb1259c-5b50-4966-ada0-0508321cfbf4",
   "metadata": {},
   "source": [
    "### Ridge Regression"
   ]
  },
  {
   "cell_type": "markdown",
   "id": "25ae600f-9c03-44bb-96b2-3f1231dd69c9",
   "metadata": {},
   "source": [
    "<b> Ridge regression, also known as Tikhonov regularization, is a regularized version of Linear Regression.  A regularization term equal to $\\alpha\\sum_{i=1}^{n} \\theta{\\scriptstyle i}^{2}$ is added to the cost function.  This forces the learning algorithm to keep the model weights as small as possible.  The regularization term should only be added to the cost function during training.  Once the model is trained use the unregularized performance measure to evaluate the model's performance. \n",
    "<br><br>\n",
    "It is quite common for the cost function used during training to be different from the performance measure used for testing. A good training cost function should have optimization-friendly derivatives, while the performance measure used for testing should be as close as possible to the final objective.\n",
    "<br><br>\n",
    "If $\\alpha = 0$ then the Ridge Regression is just Linear Regression.  If $\\alpha$ is very large then all weights end up close to zero and the result is a flat line through the data's mean. The full form for the Ridge Regression cost function is:\n",
    "<br><br><center>\n",
    "$\\large{J}(\\boldsymbol\\theta) = MSE(\\boldsymbol\\theta) + \\alpha\\sum_{i=1}^{n} \\theta{\\scriptstyle i}^{2}$\n",
    "    <br><br></center>\n",
    "Note that the bias term $\\theta{\\scriptscriptstyle 0}$ is not regularized.<b>"
   ]
  },
  {
   "cell_type": "code",
   "execution_count": 13,
   "id": "bc8919bf-ad8a-4ff9-93b8-b5f949cc0bab",
   "metadata": {},
   "outputs": [
    {
     "data": {
      "text/plain": [
       "array([[4.87413]])"
      ]
     },
     "execution_count": 13,
     "metadata": {},
     "output_type": "execute_result"
    }
   ],
   "source": [
    "' Use Ridge Regression with scikit-learn using the closed-form formula.'\n",
    "from sklearn.linear_model import Ridge\n",
    "ridge_reg = Ridge(alpha=1, solver='cholesky')\n",
    "ridge_reg.fit(X, y)\n",
    "ridge_reg.predict([[1.5]])\n",
    "\n",
    "# Alternatively you can set the solver hyperparameter to 'sag' to run the Ridge model with gradient descent."
   ]
  },
  {
   "cell_type": "code",
   "execution_count": 14,
   "id": "7ae2f29d-34c9-4fe5-90b4-7df5c2237ff3",
   "metadata": {},
   "outputs": [
    {
     "data": {
      "text/plain": [
       "array([4.84645319])"
      ]
     },
     "execution_count": 14,
     "metadata": {},
     "output_type": "execute_result"
    }
   ],
   "source": [
    "' Use Ridge Regression with scikit-learn using gradient descent.'\n",
    "sgd_reg = SGDRegressor(penalty='l2')\n",
    "sgd_reg.fit(X, y.ravel())\n",
    "sgd_reg.predict([[1.5]])\n",
    "\n",
    "# The penalty hyperparameter sets the type of regularization term to use.  l2 corresponds to ridge regression."
   ]
  },
  {
   "cell_type": "markdown",
   "id": "ca155b75-e0c2-48a9-bc30-71f88b61716e",
   "metadata": {},
   "source": [
    "### Lasso Regression"
   ]
  },
  {
   "cell_type": "markdown",
   "id": "214a833b-6161-41d3-947d-87e126838b58",
   "metadata": {},
   "source": [
    "<b> Least Absolute Shrinkage and Selection Operator Regression is another regularized version of Linear Regression.  It adds a regularization term to the cost function, but it uses the L1 norm instead of half the square of the L2 norm. The cost function is as follows:\n",
    "<br><br><center>\n",
    "$\\large{J}(\\boldsymbol\\theta) = MSE(\\boldsymbol\\theta) + \\alpha\\sum_{i=1}^{n} |\\theta{\\scriptstyle i}|$\n",
    "    <br><br></center>\n",
    "An important characteristic of Lasso Regression is that it tends to eliminate the weights of the least important features.  In other words, Lasso Regression automatically performs feature selection and outputs a sparse model (few non-zero weights).  Compared to Ridge Regression there are two main differences with Lasso.  First, the gradients get smaller as the parameters approach the global optimum, so Gradient Descent naturally slows down which helps convergence.  Second, the optimal parameters get closer and closer to 0 when you increase $\\alpha$, but they never get eliminated entirely.\n",
    "<br><br>\n",
    "The Lasso cost function is not differentiable at $\\theta{\\scriptstyle i}$ = 0 but gradient descent works fine if you piece-wise the cost function and set the cost function to 0 when $\\theta{\\scriptstyle i}$ = 0"
   ]
  },
  {
   "cell_type": "code",
   "execution_count": 15,
   "id": "1c6a4874-9cd1-4a96-90e7-904ede4b9f25",
   "metadata": {},
   "outputs": [
    {
     "data": {
      "text/plain": [
       "array([4.8302968])"
      ]
     },
     "execution_count": 15,
     "metadata": {},
     "output_type": "execute_result"
    }
   ],
   "source": [
    "' Example of Lasso regression'\n",
    "from sklearn.linear_model import Lasso\n",
    "lasso_reg = Lasso(alpha=0.1)\n",
    "lasso_reg.fit(X, y)\n",
    "lasso_reg.predict([[1.5]])\n",
    "\n",
    "# This is equivalent to setting the SGDRegressor(penality='l1')"
   ]
  },
  {
   "cell_type": "markdown",
   "id": "68ec70bb-366b-4705-8cce-56fc2ec16c06",
   "metadata": {},
   "source": [
    "### Elastic Net"
   ]
  },
  {
   "cell_type": "markdown",
   "id": "7570e1d4-82ba-4c7a-aa38-14d10f327622",
   "metadata": {},
   "source": [
    "<b> Elastic Net is a middle ground between Ridge Regression and Lasso Regression.  The regularization term is a simple mix of both Ridge and Lasso's regularization terms, and you can control the mix ratio <i> r </i>.  When r = 0 Elastic Net is equivalent to Ridge Regression and when r = 1 it is equivalent to Lasso Regression.  The cost function is as follows:\n",
    "<br><br><center>\n",
    "$\\large{J}(\\boldsymbol\\theta) = MSE(\\boldsymbol\\theta) + r\\alpha\\sum_{i=1}^{n} |\\theta{\\scriptstyle i}| + \\frac{1 - r}{2}\\alpha\\sum_{i=1}^{n} \\theta{\\scriptstyle i}^{2}$\n",
    "    <br><br></center>\n",
    "When should you use which regularization technique?  It is almost always preferable to have at least a little bit of regularization.  Ridge is a good default but if you suspect only a few features are useful you should prefer Lasso or Elastic Net because they tend to reduce the useless features' weights down to zero. In general, Elastic Net is preferred over Lasso because Lasso may behave erratically when the number of features is greater than the number of training instances or when several features are strongly correlated."
   ]
  },
  {
   "cell_type": "code",
   "execution_count": 16,
   "id": "874e6a08-17fd-4ada-bb98-537b2f50d618",
   "metadata": {},
   "outputs": [
    {
     "data": {
      "text/plain": [
       "array([4.83472587])"
      ]
     },
     "execution_count": 16,
     "metadata": {},
     "output_type": "execute_result"
    }
   ],
   "source": [
    "' Example of Elastic Net'\n",
    "from sklearn.linear_model import ElasticNet\n",
    "elastic_net = ElasticNet(alpha=0.1, l1_ratio=0.5)  #l1_ratio corresponds to the mix ratio r\n",
    "elastic_net.fit(X, y)\n",
    "elastic_net.predict([[1.5]])"
   ]
  },
  {
   "cell_type": "markdown",
   "id": "f4a2f076-f955-49cc-892e-aa4fa3e88cd0",
   "metadata": {},
   "source": [
    "### Early Stopping"
   ]
  },
  {
   "cell_type": "markdown",
   "id": "da3bc3bb-2c32-4fe3-ac95-d388453c755a",
   "metadata": {},
   "source": [
    "<b>An elegant and simple regularization technique is early stopping.  This applies to iterative models like Gradient Descent.  By observing the loss curves of both the training set and validation set and ending the training once the validation loss begins to increase you can simply optimize your model to avoid over-fitting.  For more sporadic loss curves you can run until the validation loss is certainly increasing then roll back the model parameters to the point where the validation error was at a minimum <b>"
   ]
  },
  {
   "cell_type": "code",
   "execution_count": 17,
   "id": "d86f8882-d742-46dd-9d52-2463158f2642",
   "metadata": {},
   "outputs": [],
   "source": [
    "' Basic implementation of early stopping'\n",
    "from sklearn.base import clone\n",
    "from sklearn.preprocessing import StandardScaler\n",
    "\n",
    "# prepare the data\n",
    "poly_scaler = Pipeline([\n",
    "    ('poly_features', PolynomialFeatures(degree=90, include_bias=False)),\n",
    "    ('std_scaler', StandardScaler())\n",
    "])\n",
    "\n",
    "X_train, X_val, y_train, y_val = train_test_split(X, y, test_size=0.2)\n",
    "X_train_poly_scaled = poly_scaler.fit_transform(X_train)\n",
    "X_val_poly_scaled = poly_scaler.transform(X_val)\n",
    "\n",
    "sgd_reg = SGDRegressor(\n",
    "    max_iter=1,\n",
    "    tol= -np.inf,\n",
    "    warm_start=True, # When the fit() method is called it continues training where it left off vs. restarting from scratch\n",
    "    penalty=None,\n",
    "    learning_rate='constant',\n",
    "    eta0=0.0005\n",
    ")\n",
    "\n",
    "minimum_val_error = float('inf')\n",
    "best_epoch = None\n",
    "best_model = None\n",
    "\n",
    "for epoch in range(1000):\n",
    "    sgd_reg.fit(X_train_poly_scaled, y_train.ravel())\n",
    "    y_val_predict = sgd_reg.predict(X_val_poly_scaled)\n",
    "    val_error = mean_squared_error(y_val, y_val_predict)\n",
    "    if val_error < minimum_val_error:\n",
    "        minimum_val_error = val_error\n",
    "        best_epoch = epoch\n",
    "        best_model = clone(sgd_reg)"
   ]
  },
  {
   "cell_type": "code",
   "execution_count": 18,
   "id": "29c4bfa3-e324-498d-ad6d-6663ff007431",
   "metadata": {},
   "outputs": [
    {
     "data": {
      "text/plain": [
       "(array([ 0.0538005 ,  0.05149678,  0.04109817,  0.04599173,  0.03067931,\n",
       "         0.04125981,  0.0231371 ,  0.03799358,  0.01743695,  0.03581548,\n",
       "         0.01295821,  0.03435796,  0.00931785,  0.03336632,  0.00626869,\n",
       "         0.03267675,  0.00364795,  0.03218609,  0.00134688,  0.03182949,\n",
       "        -0.00070834,  0.03156585, -0.00256885,  0.03136876, -0.00427089,\n",
       "         0.03122094, -0.00584074,  0.03111076, -0.00729802,  0.03103022,\n",
       "        -0.00865765,  0.03097364, -0.00993132,  0.03093684, -0.01112836,\n",
       "         0.03091668, -0.01225636,  0.03091071, -0.01332163,  0.03091697,\n",
       "        -0.01432946,  0.03093388, -0.01528442,  0.03096011, -0.01619044,\n",
       "         0.03099453, -0.01705098,  0.0310362 , -0.0178691 ,  0.03108427,\n",
       "        -0.01864754,  0.03113801, -0.01938879,  0.03119677, -0.02009507,\n",
       "         0.03125998, -0.02076846,  0.03132713, -0.02141083,  0.03139775,\n",
       "        -0.02202394,  0.03147142, -0.02260938,  0.03154778, -0.02316868,\n",
       "         0.03162647, -0.02370322,  0.0317072 , -0.02421432,  0.03178967,\n",
       "        -0.0247032 ,  0.03187364, -0.02517103,  0.03195886, -0.02561886,\n",
       "         0.03204513, -0.02604774,  0.03213225, -0.02645861,  0.03222005,\n",
       "        -0.02685237,  0.03230835, -0.02722988,  0.03239702, -0.02759194,\n",
       "         0.03248591, -0.0279393 ,  0.0325749 , -0.02827269,  0.03266388]),\n",
       " array([0.14669537]))"
      ]
     },
     "execution_count": 18,
     "metadata": {},
     "output_type": "execute_result"
    }
   ],
   "source": [
    "best_model.fit(X_train_poly_scaled, y_train.ravel())\n",
    "best_model.coef_, best_model.intercept_"
   ]
  },
  {
   "cell_type": "markdown",
   "id": "b7298362-f406-4d6e-bb31-b9c71a518389",
   "metadata": {},
   "source": [
    "## Logistic Regression"
   ]
  },
  {
   "cell_type": "markdown",
   "id": "90fd46d1-d079-4ee0-9b00-18e3d9d5b5cc",
   "metadata": {},
   "source": [
    "<b> Logistic Regression (Logit Regression) is commonly used to estimate the probabilty that an instance belongs to a particular class.  If the estimated probability is greater than 50% the model predicts that the instance belongs to that class, otherwise it predicts that it does not.  A binary classifier labels the positive class a 1 and the negative class a 0. <b>"
   ]
  },
  {
   "cell_type": "markdown",
   "id": "2d294a83-0cf5-4ce3-9ee9-c17863df85f9",
   "metadata": {},
   "source": [
    "### Estimating Probabilities"
   ]
  },
  {
   "cell_type": "markdown",
   "id": "7537127e-4107-42c5-9aab-2fb148643424",
   "metadata": {},
   "source": [
    "<b> Just like a Linear Regression model, a Logistic Regression model computes a weighted sum of the input features plus a bias term.  Instead of outputting the result directly like the Linear Regression model does, it outputs the logistic of this result.\n",
    "    <br><br>\n",
    "The logistic - noted $\\large\\sigma$() - is a sigmoid function that outputs a number bewteen 0 and 1.\n",
    "    <br><br>\n",
    "    <center>\n",
    "$\\large\\hat{p} = \\sigma(\\textbf{x}^{T}\\bf{\\theta})$\n",
    "    <br><br>\n",
    "$\\large\\sigma(t) = \\large\\frac{1}{(1 + e^{-t})}$\n",
    "    <br><br>\n",
    "    </center>\n",
    "A Logisitc Regression model predicts 1 if $\\bf{x}^{T}\\bf{\\theta}$ is positive and 0 if it is negative.  The score t is often called the <i>logit</i>. The logic is the inverse of the logistic function. The logit is also called the <i>log-odds</i> since it is the log of the ratio between the estimated probability for the positive class and the estimated probability for the negative class.\n",
    "\n",
    "    "
   ]
  },
  {
   "cell_type": "markdown",
   "id": "9ba3bbdc-f726-4366-8e52-868b08efd1fc",
   "metadata": {},
   "source": [
    "### Training and Cost Function"
   ]
  },
  {
   "cell_type": "markdown",
   "id": "aa0122e4-1c69-4822-9d27-95edadfb8beb",
   "metadata": {},
   "source": [
    "$$\n",
    "  \\large{c}(\\theta) = \\cases{         -log(\\hat{p})       & $y = 1$ \\cr\n",
    "                         -log(1 - \\hat{p})  & $y = 0$\n",
    "               }\n",
    "$$"
   ]
  },
  {
   "cell_type": "markdown",
   "id": "27cf801a-a8cd-41ee-bc72-3f5db3e4d576",
   "metadata": {},
   "source": [
    "<b>-log(t) grows very large when t approaches 0, so the cost will be large if the model estimates a probability close to 0 for a positive instance or if the model estimates a probability close to 1 for a negative instance.  This cost function over a whole training set can be written as a complicated single expression called the <i>log loss</i>.  Refer to page 144 if curious.  <u> This cost function is convex </u>.  Once you have the gradient vector containing all the partial derivatives, you can use it in the Batch Gradient Descent algorithm."
   ]
  },
  {
   "cell_type": "markdown",
   "id": "40558790-d441-478f-a07d-57686a555810",
   "metadata": {},
   "source": [
    "### Decision Boundaries"
   ]
  },
  {
   "cell_type": "markdown",
   "id": "17b14382-6733-4cf6-a7a4-b716db19e464",
   "metadata": {},
   "source": [
    "<b> The iris dataset is famous and a perfect example to showcase logistic regression"
   ]
  },
  {
   "cell_type": "code",
   "execution_count": 19,
   "id": "8fe5780e-40c7-409b-a10a-76f214cb5625",
   "metadata": {},
   "outputs": [
    {
     "data": {
      "text/plain": [
       "['data',\n",
       " 'target',\n",
       " 'frame',\n",
       " 'target_names',\n",
       " 'DESCR',\n",
       " 'feature_names',\n",
       " 'filename',\n",
       " 'data_module']"
      ]
     },
     "execution_count": 19,
     "metadata": {},
     "output_type": "execute_result"
    }
   ],
   "source": [
    "from sklearn import datasets\n",
    "iris = datasets.load_iris()\n",
    "list(iris.keys())"
   ]
  },
  {
   "cell_type": "code",
   "execution_count": 20,
   "id": "f23830b4-1772-43bc-a0da-1952a001227d",
   "metadata": {},
   "outputs": [
    {
     "data": {
      "text/plain": [
       "LogisticRegression()"
      ]
     },
     "execution_count": 20,
     "metadata": {},
     "output_type": "execute_result"
    }
   ],
   "source": [
    "X = iris['data'][:, 3:] # petal width\n",
    "y = (iris['target'] == 2).astype(int) #1 if Iris virginica, 0 otherwise.\n",
    "\n",
    "# Train the model\n",
    "from sklearn.linear_model import LogisticRegression\n",
    "log_reg = LogisticRegression()\n",
    "log_reg.fit(X, y)"
   ]
  },
  {
   "cell_type": "code",
   "execution_count": 21,
   "id": "26afa297-3dbb-43fd-bb17-b386ef7e6164",
   "metadata": {},
   "outputs": [
    {
     "data": {
      "image/png": "[encoded data removed]",
      "text/plain": [
       "<Figure size 1500x500 with 1 Axes>"
      ]
     },
     "metadata": {},
     "output_type": "display_data"
    }
   ],
   "source": [
    "' Lets take a look at the models estimated probabilities for flowers with petal widths varying from 0 cm to 3 cm'\n",
    "X_new = np.linspace(0, 3, 1000).reshape(-1, 1)\n",
    "y_proba = log_reg.predict_proba(X_new)\n",
    "plt.figure(figsize=(15, 5))\n",
    "plt.plot(X_new, y_proba[:, 1], 'g-', label='Iris Virginica')\n",
    "plt.plot(X_new, y_proba[:, 0], 'b--', label='Not Iris Virginica')\n",
    "plt.xlabel('Petal width (cm)')\n",
    "plt.ylabel('Probability')\n",
    "plt.legend()\n",
    "plt.title('Probability of Classification By Petal Width')\n",
    "plt.show()"
   ]
  },
  {
   "cell_type": "markdown",
   "id": "0f17e2cb-591d-4877-9e10-c5cee8830e2f",
   "metadata": {},
   "source": [
    "<b>Notice the decision boundary at around 1.6 (cm).  There is a threshold where the estimator will output the highest probability value as the classification.  The model is improved by adding in the petal lengths and sepal dimensions."
   ]
  },
  {
   "cell_type": "markdown",
   "id": "525d667d-e361-4d43-9d80-b10f90fef005",
   "metadata": {
    "tags": []
   },
   "source": [
    "### Softmax Regression"
   ]
  },
  {
   "cell_type": "markdown",
   "id": "93459d04-8f6c-4e14-aa25-c40a9dc23cf8",
   "metadata": {},
   "source": [
    "<b> The Logistic Regression model can be generalized to support multiple classes directly.  This is called <i>Softmax Regression</i> or <i>Multinomial Logistic Regression</i>.  When given an instance x, the Softmax Regression model first computes a score $s_k(\\bf{x})$ for each class k, then estimates the probability of each class by applying the softmax function to the scores.\n",
    "    <br>\n",
    "    <br>\n",
    "    <center>\n",
    "        $\\large{s_k(\\bf{x}) = \\bf{x}^{T}\\bf{\\theta}^{(k)}}$\n",
    "    </center>\n",
    "    <br>\n",
    "    <br>\n",
    "Each class has its own dedicated parameter vector $\\bf{\\theta}^{(k)}$.  All these vectors are typically stored as rows in a parameter matrix.  Once you have computed the score of every class for the instance x, you can estimate the probability $\\hat{p}_k$ that the instance belongs to class k by running the scores through the softmax function.  The function computes the exponential of every score, then normalizes them (dividing by the sum of all the exponentials).  The scores are generally called logits, or log-odds.\n",
    "    <br>\n",
    "    <br>\n",
    "    <center>\n",
    "        <i>Softmax Function</i>\n",
    "        <br>\n",
    "        $\\large\\hat{p}_k = \\sigma(\\bf{s}(\\bf{x}))_k = \\frac{\\exp{(s_k(\\bf{x}))}}{\\sideset{}{_1^K}\\sum\\exp{(s_j(\\bf{x}) )}}$\n",
    "        <br>\n",
    "        <br>\n",
    "     </center>\n",
    "    * K is the number of classes.\n",
    "    <br>\n",
    "    * $\\bf{s({\\bf{x})}}$ is a vector containing the scores of each class for the instance $\\bf{x}$\n",
    "    <br>\n",
    "    * $\\sigma(\\bf{s}(\\bf{x}))_k$ is the estimated probability that the instance $\\bf{x}$ belongs to class k, given the scores of each class for that instance\n",
    "\n",
    "    "
   ]
  },
  {
   "cell_type": "markdown",
   "id": "7120f4e0-d2fe-406f-b4b5-bc75e933f889",
   "metadata": {},
   "source": [
    "<b> The prediction is then generated by taking the argmax of $\\sigma(\\bf{s}(\\bf{x}))_k$ The argmax operator returns the value of a variable that maximizes a function.\n",
    "    <br>\n",
    "    <br>\n",
    "The Softmax Regression classifer predicts only one class at a time (it is multi-CLASS, not multi-OUTPUT).  It should only be used with mutually exclusive classes, such as different types of plants.  It cannot be used to recognize multiple people in a single picture, for example.\n",
    "    <br>\n",
    "    <br>\n",
    "    The most common loss function used with Softmax Regression is <i>cross entropy</i>"
   ]
  },
  {
   "cell_type": "code",
   "execution_count": 22,
   "id": "a7a17225-1e84-4003-8450-0846ca282dd8",
   "metadata": {},
   "outputs": [
    {
     "data": {
      "text/plain": [
       "array([2])"
      ]
     },
     "execution_count": 22,
     "metadata": {},
     "output_type": "execute_result"
    }
   ],
   "source": [
    "'Lets use Softmax Regression to classify the iris flowers into all three classes.'\n",
    "\n",
    "# Scikit-Learn's Logistic Rregression uses one-versus-the-rest by default when you train on more than two classes.  But you can se the multi_class parameter to \"multinomial\" to switch to Softmax Regression\n",
    "X = iris['data'][:, (2, 3)]\n",
    "y = iris['target']\n",
    "\n",
    "softmax_reg = LogisticRegression(multi_class='multinomial', solver='lbfgs', C=10)\n",
    "softmax_reg.fit(X, y)\n",
    "softmax_reg.predict([[5, 2]])"
   ]
  },
  {
   "cell_type": "markdown",
   "id": "715c2c2b-ab6f-4ede-8acb-19e3916d7137",
   "metadata": {},
   "source": [
    "## Exercises"
   ]
  },
  {
   "cell_type": "markdown",
   "id": "17aaaba9-1fef-448d-9346-c5bc856733b6",
   "metadata": {},
   "source": [
    "<b>1. Which Linear Regression training algorithm can you use if you have a training set with millions of features?"
   ]
  },
  {
   "cell_type": "markdown",
   "id": "e6ebf1c3-b5da-4763-b6ac-0cc20c968430",
   "metadata": {},
   "source": [
    "##### My Answer\n",
    "Stochastic Gradient Descent (SGD) is a great Linear Regression option for very large datasets.  Mini-batch Gradient Descent works similarly well and is often the go-to for large datasets expected to hold a linear relationship"
   ]
  },
  {
   "cell_type": "markdown",
   "id": "c8010520-1c32-4b5e-a664-016786ad68f3",
   "metadata": {},
   "source": [
    "##### Provided answer\n",
    "If you have a training set with millions of features you can use SGD or Min-batch Gradient Descent, and perhaps Batch Gardient Descent if the training set fits in memory.  But you cannot use the Normal Equation or the SVD approach because the computational complexity grows quickly (more than $O^2$) with the number of features\n"
   ]
  },
  {
   "cell_type": "markdown",
   "id": "9ba15e03-7336-476f-8ce4-f3b72067ee86",
   "metadata": {},
   "source": [
    "<b>2. Suppose the features in your training set have very different scales?  Which algorithms might suffer from this, and how?  What can you do about it?"
   ]
  },
  {
   "cell_type": "markdown",
   "id": "d0d1d384-7ec4-4d94-af4f-28cb34b21416",
   "metadata": {},
   "source": [
    "#####  My answer\n",
    "In general, scaling features is recommended for all models.  Unscaled training sets can take much longer to converge, assign disproportionate weights to features, and reduce overall predictive accuracy. Based on the datatype and business sense  of the problem always consider using Binary or One-Hot Encoding for categorical variables, and scaling methods like Standardization, Normalization, or Min-Max Scaling for numeric variables.  Pandas and SciKit-Learn offer built in classes/methods to do this within a Pipeline"
   ]
  },
  {
   "cell_type": "markdown",
   "id": "d14a5b5d-d46a-4f4f-ae6f-27485ea459b2",
   "metadata": {},
   "source": [
    "#####  Provided answer\n",
    "If the features in your training set have very different scales, the cost function will have the shape of an elongated bowl, so the Gradient Descent algorithms will take a long time to converge.  To solve this you should scale the data before training the model.  Note that the Normal Equation or SVD approach will work just fine without scaling.  Moreover, regularized models may converge to a suboptimal solution if the features are not scaled: since regularization penalizes large weights, features with smaller values will tend to be ignored compared to features with larger values.\n",
    "\n"
   ]
  },
  {
   "cell_type": "markdown",
   "id": "62b4de50-c1b8-4413-a88a-adbaa5259e87",
   "metadata": {},
   "source": [
    "<b>3. Can Gradient Descent get stuck in a local minimum when training a Logistic Regression model?"
   ]
  },
  {
   "cell_type": "markdown",
   "id": "5ccd38ee-9058-47a6-bb9d-0a14084eec15",
   "metadata": {},
   "source": [
    "##### My answer\n",
    "\n",
    "No.  The cost function for Logistic Regression is convex.  As such it will always converge at the global minima."
   ]
  },
  {
   "cell_type": "markdown",
   "id": "23823025-a6cd-42bb-b87d-4e8a9ca07121",
   "metadata": {
    "tags": []
   },
   "source": [
    "#####  Provided answer\n",
    "Gradient Descent cannot get stuck in a local minimum when training a Logistic Regression model because the cost function is convex\n"
   ]
  },
  {
   "cell_type": "markdown",
   "id": "3d9d3c10-00ba-4ccd-a3a6-af4863bbf7c6",
   "metadata": {},
   "source": [
    "<b>4. Do all Gradient Descent algorithms lead to the same model, provided you let them run long enough?"
   ]
  },
  {
   "cell_type": "markdown",
   "id": "7253351b-9256-4c42-9594-7b33816ec51e",
   "metadata": {},
   "source": [
    "##### My answer\n",
    "\n",
    "No. Not all Gradient Descent algorithms use the same cost function.  As such, local extrema are always a concern.  If hyperparameters are chosen in such a way as to avoid these local extrema then model convergence could vary slightly between different Gradient Descent algorithms.  Another point to make is that SGD and Mini-Batch Gradient Descent are natrually somewhat random in their step down the loss function.  If you let them run for exceptionally long times then they will converge at very similar results but unlikely exactly the same results."
   ]
  },
  {
   "cell_type": "markdown",
   "id": "e79120b1-ef91-4261-82c9-f04f51cc2bd5",
   "metadata": {},
   "source": [
    "##### Provided answer\n",
    "If the optimzation problem is convex (such as Linear Regression or Logistic Regression), and assuming the learning rate is not too high, then all Gradient Descent algorithms will approach the global optimum and end up producing fairly simliar models.  However, unless you gradually reduce the learning rate, Stochastic GD and Min-batch GD will never truly converge; instead, they will keep jumping back and forth around the global optimum.  This means that even if you let them run for a very long time these Gradient Descent algorithms will product slightly differetn models.\n"
   ]
  },
  {
   "cell_type": "markdown",
   "id": "84b234ef-0545-4f1e-8c75-7ebdbb59610b",
   "metadata": {},
   "source": [
    "<b>5. Suppose you use Batch Gradient Descent and you plot the validation error at every epoch.  If you notice that the validation error consistently goes up, what is likely going on?  How can you fix this?"
   ]
  },
  {
   "cell_type": "markdown",
   "id": "4ca88d64-91e3-4eb9-bef2-13ce18db8196",
   "metadata": {},
   "source": [
    "##### My answer\n",
    "In this case the model has likely started to overfit.  A common solution is to implement early stopping where the model training is completed upon the validation error increasing from the lows a certain number of times in a row.  It is also recommended to roll-back the model to the point where the validation error was at its lowest point."
   ]
  },
  {
   "cell_type": "markdown",
   "id": "fa11ae4c-9ebc-4e3e-83ab-5ff65f7f8202",
   "metadata": {},
   "source": [
    "#####  Provided answer\n",
    "\n",
    "If the validation error consistently goes up after every epoch, then one possibility is that the learning rate is too high and the algorithm is diverging.  If the training error aslo goes up then this is clearly the problem and you should reduce the elarning rate.  However, if the training error is not going up, then your model is overfitting the training set and you should stop training."
   ]
  },
  {
   "cell_type": "markdown",
   "id": "db5ad08d-97f7-488a-9a6c-5806202ba765",
   "metadata": {},
   "source": [
    "<b>6. Is it a good idea to stop Min-batch Gradient Descent immeidately when the validation error goes up?"
   ]
  },
  {
   "cell_type": "markdown",
   "id": "d1b051cc-00fd-4b44-8dfe-84e6b689aa9b",
   "metadata": {},
   "source": [
    "##### My answer'\n",
    "No, do to the inherent randomness of the process it is best to allow validation some \"wiggle room\" before ending the training.  If early stopping is executed roll back the model parameters to when the validation loss was lowest"
   ]
  },
  {
   "cell_type": "markdown",
   "id": "0b1e61e7-bb1a-45b3-ad40-f41f4fac1c95",
   "metadata": {},
   "source": [
    "##### Provided answer\n",
    "\n",
    "Due to their random nature, neither Stochastic Gradient Descent nor Mini-Batch GD is guaranteed to make progress at every single training iteration.  So if you immediately stop training when the validation error goes up, you may stop much too early, before the optimum is reached.  A better option is to save the model at regular intervals; then, when it has not improved for a long time (meaning it will probably never beat the record), you can revert to the best saved model."
   ]
  },
  {
   "cell_type": "markdown",
   "id": "62b90c07-7c9d-49b5-bca4-c0b9e894b0aa",
   "metadata": {},
   "source": [
    "<b>7. Which Gradient Descent algorithm (among the ones discussed in this chapter) will reach the vicinity of the optimal solution the fastest?  Which will actually converge? How can you make the others converge as well?  "
   ]
  },
  {
   "cell_type": "markdown",
   "id": "82a11db1-8e53-44b4-ad8d-3798002485e1",
   "metadata": {},
   "source": [
    "##### My answer\n",
    "SGD and Mini-Batch Gradient Descent will reach the vicinity of the optimal solution the fastest.  Utilizing the normal equation or Batch Gradient Descent will converge but will take longer.  You can get SGD or MBGD to converge by adjusting the learning rate on a schedule such that the incremental changes near the minima are small enough to land on the true minimum\n"
   ]
  },
  {
   "cell_type": "markdown",
   "id": "56c04b52-834b-4914-a7cb-aece6b049c42",
   "metadata": {},
   "source": [
    "##### Provided answer\n",
    "\n",
    "Stochastic Gradient Descent has the fastest training iteration since it considers only one training instance at a time, so it is generally the first to reach the vicinity of the global optimum (or Mini-batch GD with a very small mini-batch size).  However, only Batch GD will actually converge, given enough training time.  As mentioned, Stochastic GD and Mini-batch GD will bounce around the optimum unless you gradually reduce the learning rate."
   ]
  },
  {
   "cell_type": "markdown",
   "id": "3f7d6f42-b1df-47b0-92fd-fd6f9e2e4fbc",
   "metadata": {},
   "source": [
    "<b>8. Suppose you are using Polynomial Regression.  You plot the learning curves and you notice that there is a large gap between the training error and the validation error.  What is happening? What are three ways to solve this?"
   ]
  },
  {
   "cell_type": "markdown",
   "id": "13e0059a-e4b7-4834-bbb3-a8df64ea9be7",
   "metadata": {},
   "source": [
    "##### My answer\n",
    "The model is likely overfitting.  3 ways to solve this include:\n",
    "1. Adding more data to the model.\n",
    "1. Reducing the degrees of freedom\n",
    "1. Introduce regularization\n"
   ]
  },
  {
   "cell_type": "markdown",
   "id": "2d4e5fe1-919d-416d-80e5-c9cc2eeaf0ae",
   "metadata": {},
   "source": [
    "##### Provided answer\n",
    "\n",
    "If the validation error is much higher than the training error, this is likely because your model is overfitting the training set.  One way to try to fix this is to reduce the polynomial degree; a model with fewer degrees of freedom is less likely to overfit.  Another thing you can try is to regularlize the model - for example, by adding an $l_2$ (Ridge) or an $l_1$ (Lasso) to the cost function.  This will also reduce the degrees of freedom of the model.  Lastly, you can try to increase the size of the training set."
   ]
  },
  {
   "cell_type": "markdown",
   "id": "7dc3928e-750b-4807-991d-deb013222392",
   "metadata": {},
   "source": [
    "<b>9. Suppose you are using Ridge Regression and you notice that the training error and the validation error are almost equal and fairly high.  Would you say that the model suffers from high bias or high variance? Should you increase the regularization hyperparameter $\\alpha$ or reduce it?"
   ]
  },
  {
   "cell_type": "markdown",
   "id": "6dd7d75f-c9c9-46d0-9f7f-64e050c675d4",
   "metadata": {},
   "source": [
    "##### My answer\n",
    "This model is likley underfitting and suffers from high bias.  In this case it is recommended to reduce $\\alpha$\n"
   ]
  },
  {
   "cell_type": "markdown",
   "id": "1b84e67b-f1d9-4b5c-a2a9-321284b6c32d",
   "metadata": {},
   "source": [
    "#####  Provided answer\n",
    "\n",
    "If both the training error and the validation error are almost equal and fairly high, the model is likely underfitting the training set, which means it has a high bias.  You should try reducing the regularization hyperparameter $\\alpha$"
   ]
  },
  {
   "cell_type": "markdown",
   "id": "36200e24-71f7-4275-ac2f-c2ed895fee32",
   "metadata": {},
   "source": [
    "<b>10. Why would you use:\n",
    "    <br>\n",
    "> a. Ridge Regression instead of plain Linear Regression (i.e. without any regularization)?\n",
    "    <br>\n",
    "    > b. Lasso instead of Ridge Regression?\n",
    "    <br>\n",
    "    > c. Elastic Net instead of Lasso?"
   ]
  },
  {
   "cell_type": "markdown",
   "id": "5d9af763-7a46-4569-a742-9c92fef535a3",
   "metadata": {},
   "source": [
    "##### My answer\n",
    ">a. If you have reason to believe the model may be overfitting then introducing a method of regularization can help.  Ridge Regression offers this in the form of $\\alpha$.  Note that if $\\alpha$ = 0 then you have a basic Linear Regression model. <br>\n",
    "b. If you have reason to believe your model may be overfitting <u> and </u> there may be one or more redundant features in the training set then Lasso is preferred over Ridge as Lasso will automatically perform feature selection. <br>\n",
    "c. If you are ever deciding between Elastic Net and Lasso then its almost always better to go with Elastic Net.  Lasso may behave erratically when the number of features is greater than the number of training instances or when several features are strongly correlated whereas Elastic Net is more consistent even when these problems arise.\n"
   ]
  },
  {
   "cell_type": "markdown",
   "id": "0a89c67e-67f5-46f4-b28b-66041ecc7b6d",
   "metadata": {},
   "source": [
    "##### Provided answer\n",
    "\n",
    ">a. A model with some regularization typically performs better than a model without any regularization, so you should generally prefer Ridge Regression over plain Linear Regression. <br>\n",
    "b. Lasso Regression uses an $l_1$ penalty, which tends to push the weights down to exactly zero.  This leads to sparse models, where all weights are zero except for the most important weights.  This is a way to perform reature selection automatically, which is good if you suspect that only a few features actually matter.  When you are not sure, you should prefer Ridge Regression. <br>\n",
    "c. Elastic Net is generally preferred over Lasso since Lasso may behave erratically in some cases (when several features are strongly correlated or when there are more features than training instances).  However, it does add an extra hyperparameter to tune.  If you want Lasso without the erratic behavior, you can just use Elastic Net with an l1_raio close to 1."
   ]
  },
  {
   "cell_type": "markdown",
   "id": "4bfe8bc2-1c69-499a-9c45-25e437a9bff1",
   "metadata": {},
   "source": [
    "<b> 11. Suppose you want to classify pictures as outdoor/indoor and daytime/nighttime.  Should you implement two Logistic Regression classifiers or one Softmax Regression classifer?"
   ]
  },
  {
   "cell_type": "markdown",
   "id": "aea16ce5-e9d6-4ec8-a366-461bd28b0896",
   "metadata": {},
   "source": [
    "##### My answer\n",
    "You should implement two Logistic Regression classifiers as this is a binary class, multi-output problem.  Softmax Regression is used for multi-class, single output problems."
   ]
  },
  {
   "cell_type": "markdown",
   "id": "1f364b8f-2536-4411-90f5-89d1212b6587",
   "metadata": {},
   "source": [
    "##### Provided answer\n",
    "\n",
    "If you want to classify pictures as outdoor/indoor and daytime/nighttime, since these are not exclusive classes (i.e., all 4 combinations are possible) you should training two Logistic Regression classifiers."
   ]
  },
  {
   "cell_type": "markdown",
   "id": "a54fc0b8-b820-4b5a-af3b-a622eaca5589",
   "metadata": {},
   "source": [
    "<b>12. Implement Batch Gradient Descent with early stopping for Softmax Regression without using Scikit-Learn"
   ]
  },
  {
   "cell_type": "code",
   "execution_count": 34,
   "id": "1eaa3907-cf9d-413e-88ce-701af97212ee",
   "metadata": {},
   "outputs": [],
   "source": [
    "'''\n",
    "My answer:  For the sake of time and practicality I will not finish this question.  I am comfortable in my abilty to program and I understand the calculus involved in gradient descent as well as \n",
    "the linear algebra involved in applying these gradient vectors to the entire dataset.  I do not believe in any future endevours that I will need to hard-code a softmax regression when the libraries\n",
    "and tools found in the sklearn package are industry standard.  If that need does arise, I own this textbook and can reference its teachings.\n",
    "'''\n",
    "\n",
    "# Data\n",
    "X = iris['data'][:, (2, 3)]\n",
    "y = iris['target']\n",
    "\n",
    "# Softmax\n",
    "def sotfmax_scores(features: np.array):Matur\n",
    "    \n",
    "    return\n",
    "\n",
    "def softmax_proba(scores: np.array):\n",
    "    return\n",
    "\n",
    "# Batch Gradient Desecent\n",
    "def batch_gd():\n",
    "    eta = 0.1\n",
    "    iters = 1000\n",
    "    m = 100\n",
    "    theta = np.random.randn(2, 1)\n",
    "\n",
    "    for iteration in range(iters):\n",
    "        gradients = 1/m * 'sum from i to m of the softmax function p minus the actual target percent (1 or 0) dot x'\n",
    "        theta = theta - eta * gradients\n"
   ]
  },
  {
   "cell_type": "code",
   "execution_count": 35,
   "id": "0419dfe1-d7ee-4559-8a2b-f25e120ff8e3",
   "metadata": {},
   "outputs": [
    {
     "data": {
      "text/plain": [
       "' Provided answer'"
      ]
     },
     "execution_count": 35,
     "metadata": {},
     "output_type": "execute_result"
    }
   ],
   "source": [
    "' Provided answer'\n",
    "\n"
   ]
  }
 ],
 "metadata": {
  "kernelspec": {
   "display_name": "Python 3 (ipykernel)",
   "language": "python",
   "name": "python3"
  },
  "language_info": {
   "codemirror_mode": {
    "name": "ipython",
    "version": 3
   },
   "file_extension": ".py",
   "mimetype": "text/x-python",
   "name": "python",
   "nbconvert_exporter": "python",
   "pygments_lexer": "ipython3",
   "version": "3.8.13"
  }
 },
 "nbformat": 4,
 "nbformat_minor": 5
}
